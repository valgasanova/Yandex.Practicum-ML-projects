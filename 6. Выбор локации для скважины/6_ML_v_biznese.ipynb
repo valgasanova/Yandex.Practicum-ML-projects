{
  "cells": [
    {
      "cell_type": "markdown",
      "metadata": {
        "id": "i0rNPa_UAgaJ"
      },
      "source": [
        "# Выбор локации для скважины"
      ]
    },
    {
      "cell_type": "markdown",
      "metadata": {
        "id": "U4DGyuVMAgaJ"
      },
      "source": [
        "Допустим, вы работаете в добывающей компании «ГлавРосГосНефть». Нужно решить, где бурить новую скважину.\n",
        "\n",
        "Вам предоставлены пробы нефти в трёх регионах: в каждом 10 000 месторождений, где измерили качество нефти и объём её запасов. Постройте модель машинного обучения, которая поможет определить регион, где добыча принесёт наибольшую прибыль. Проанализируйте возможную прибыль и риски техникой *Bootstrap.*\n",
        "\n",
        "Шаги для выбора локации:\n",
        "\n",
        "- В избранном регионе ищут месторождения, для каждого определяют значения признаков;\n",
        "- Строят модель и оценивают объём запасов;\n",
        "- Выбирают месторождения с самым высокими оценками значений. Количество месторождений зависит от бюджета компании и стоимости разработки одной скважины;\n",
        "- Прибыль равна суммарной прибыли отобранных месторождений.\n",
        "\n",
        "Условия задачи:\n",
        "- Для обучения модели подходит только линейная регрессия (остальные — недостаточно предсказуемые).\n",
        "- При разведке региона исследуют 500 точек, из которых с помощью машинного обучения выбирают 200 лучших для разработки.\n",
        "- Бюджет на разработку скважин в регионе — 10 млрд рублей.\n",
        "- При нынешних ценах один баррель сырья приносит 450 рублей дохода. Доход с каждой единицы продукта составляет 450 тыс. рублей, поскольку объём указан в тысячах баррелей.\n",
        "- После оценки рисков нужно оставить лишь те регионы, в которых вероятность убытков меньше 2.5%. Среди них выбирают регион с наибольшей средней прибылью."
      ]
    },
    {
      "cell_type": "markdown",
      "metadata": {
        "id": "ycEZ1DpXAgaK"
      },
      "source": [
        "## Загрузка и подготовка данных"
      ]
    },
    {
      "cell_type": "code",
      "execution_count": null,
      "metadata": {
        "id": "Pi2dEwaTAgaK"
      },
      "outputs": [],
      "source": [
        "#импортируем все необходимые для работы библиотеки\n",
        "import pandas as pd\n",
        "import numpy as np\n",
        "from sklearn.model_selection import train_test_split\n",
        "from sklearn.linear_model import LinearRegression\n",
        "from sklearn.metrics import mean_squared_error\n",
        "from scipy import stats as st"
      ]
    },
    {
      "cell_type": "code",
      "execution_count": null,
      "metadata": {
        "id": "i4EDDnhRAgaL"
      },
      "outputs": [],
      "source": [
        "#считаем три датасета и сохраним их в отдельных переменных\n",
        "data_0 = pd.read_csv('/datasets/geo_data_0.csv')\n",
        "data_1 = pd.read_csv('/datasets/geo_data_1.csv')\n",
        "data_2 = pd.read_csv('/datasets/geo_data_2.csv')"
      ]
    },
    {
      "cell_type": "code",
      "execution_count": null,
      "metadata": {
        "id": "fEVs1zYUAgaL",
        "outputId": "68e975a5-6783-4a05-fa21-5c5d1a35f7e1"
      },
      "outputs": [
        {
          "data": {
            "text/html": [
              "<div>\n",
              "<style scoped>\n",
              "    .dataframe tbody tr th:only-of-type {\n",
              "        vertical-align: middle;\n",
              "    }\n",
              "\n",
              "    .dataframe tbody tr th {\n",
              "        vertical-align: top;\n",
              "    }\n",
              "\n",
              "    .dataframe thead th {\n",
              "        text-align: right;\n",
              "    }\n",
              "</style>\n",
              "<table border=\"1\" class=\"dataframe\">\n",
              "  <thead>\n",
              "    <tr style=\"text-align: right;\">\n",
              "      <th></th>\n",
              "      <th>id</th>\n",
              "      <th>f0</th>\n",
              "      <th>f1</th>\n",
              "      <th>f2</th>\n",
              "      <th>product</th>\n",
              "    </tr>\n",
              "  </thead>\n",
              "  <tbody>\n",
              "    <tr>\n",
              "      <th>0</th>\n",
              "      <td>txEyH</td>\n",
              "      <td>0.705745</td>\n",
              "      <td>-0.497823</td>\n",
              "      <td>1.221170</td>\n",
              "      <td>105.280062</td>\n",
              "    </tr>\n",
              "    <tr>\n",
              "      <th>1</th>\n",
              "      <td>2acmU</td>\n",
              "      <td>1.334711</td>\n",
              "      <td>-0.340164</td>\n",
              "      <td>4.365080</td>\n",
              "      <td>73.037750</td>\n",
              "    </tr>\n",
              "    <tr>\n",
              "      <th>2</th>\n",
              "      <td>409Wp</td>\n",
              "      <td>1.022732</td>\n",
              "      <td>0.151990</td>\n",
              "      <td>1.419926</td>\n",
              "      <td>85.265647</td>\n",
              "    </tr>\n",
              "    <tr>\n",
              "      <th>3</th>\n",
              "      <td>iJLyR</td>\n",
              "      <td>-0.032172</td>\n",
              "      <td>0.139033</td>\n",
              "      <td>2.978566</td>\n",
              "      <td>168.620776</td>\n",
              "    </tr>\n",
              "    <tr>\n",
              "      <th>4</th>\n",
              "      <td>Xdl7t</td>\n",
              "      <td>1.988431</td>\n",
              "      <td>0.155413</td>\n",
              "      <td>4.751769</td>\n",
              "      <td>154.036647</td>\n",
              "    </tr>\n",
              "    <tr>\n",
              "      <th>5</th>\n",
              "      <td>wX4Hy</td>\n",
              "      <td>0.969570</td>\n",
              "      <td>0.489775</td>\n",
              "      <td>-0.735383</td>\n",
              "      <td>64.741541</td>\n",
              "    </tr>\n",
              "    <tr>\n",
              "      <th>6</th>\n",
              "      <td>tL6pL</td>\n",
              "      <td>0.645075</td>\n",
              "      <td>0.530656</td>\n",
              "      <td>1.780266</td>\n",
              "      <td>49.055285</td>\n",
              "    </tr>\n",
              "    <tr>\n",
              "      <th>7</th>\n",
              "      <td>BYPU6</td>\n",
              "      <td>-0.400648</td>\n",
              "      <td>0.808337</td>\n",
              "      <td>-5.624670</td>\n",
              "      <td>72.943292</td>\n",
              "    </tr>\n",
              "    <tr>\n",
              "      <th>8</th>\n",
              "      <td>j9Oui</td>\n",
              "      <td>0.643105</td>\n",
              "      <td>-0.551583</td>\n",
              "      <td>2.372141</td>\n",
              "      <td>113.356160</td>\n",
              "    </tr>\n",
              "    <tr>\n",
              "      <th>9</th>\n",
              "      <td>OLuZU</td>\n",
              "      <td>2.173381</td>\n",
              "      <td>0.563698</td>\n",
              "      <td>9.441852</td>\n",
              "      <td>127.910945</td>\n",
              "    </tr>\n",
              "  </tbody>\n",
              "</table>\n",
              "</div>"
            ],
            "text/plain": [
              "      id        f0        f1        f2     product\n",
              "0  txEyH  0.705745 -0.497823  1.221170  105.280062\n",
              "1  2acmU  1.334711 -0.340164  4.365080   73.037750\n",
              "2  409Wp  1.022732  0.151990  1.419926   85.265647\n",
              "3  iJLyR -0.032172  0.139033  2.978566  168.620776\n",
              "4  Xdl7t  1.988431  0.155413  4.751769  154.036647\n",
              "5  wX4Hy  0.969570  0.489775 -0.735383   64.741541\n",
              "6  tL6pL  0.645075  0.530656  1.780266   49.055285\n",
              "7  BYPU6 -0.400648  0.808337 -5.624670   72.943292\n",
              "8  j9Oui  0.643105 -0.551583  2.372141  113.356160\n",
              "9  OLuZU  2.173381  0.563698  9.441852  127.910945"
            ]
          },
          "execution_count": 236,
          "metadata": {},
          "output_type": "execute_result"
        }
      ],
      "source": [
        "#выведем первые 10 строк трёх датафреймов на экран, чтобы ознакомиться с данными\n",
        "data_0.head(10)"
      ]
    },
    {
      "cell_type": "code",
      "execution_count": null,
      "metadata": {
        "id": "sCrb31g2AgaM",
        "outputId": "37ed0a75-c541-4ef8-9f40-5fdada8c39a9"
      },
      "outputs": [
        {
          "data": {
            "text/html": [
              "<div>\n",
              "<style scoped>\n",
              "    .dataframe tbody tr th:only-of-type {\n",
              "        vertical-align: middle;\n",
              "    }\n",
              "\n",
              "    .dataframe tbody tr th {\n",
              "        vertical-align: top;\n",
              "    }\n",
              "\n",
              "    .dataframe thead th {\n",
              "        text-align: right;\n",
              "    }\n",
              "</style>\n",
              "<table border=\"1\" class=\"dataframe\">\n",
              "  <thead>\n",
              "    <tr style=\"text-align: right;\">\n",
              "      <th></th>\n",
              "      <th>id</th>\n",
              "      <th>f0</th>\n",
              "      <th>f1</th>\n",
              "      <th>f2</th>\n",
              "      <th>product</th>\n",
              "    </tr>\n",
              "  </thead>\n",
              "  <tbody>\n",
              "    <tr>\n",
              "      <th>0</th>\n",
              "      <td>kBEdx</td>\n",
              "      <td>-15.001348</td>\n",
              "      <td>-8.276000</td>\n",
              "      <td>-0.005876</td>\n",
              "      <td>3.179103</td>\n",
              "    </tr>\n",
              "    <tr>\n",
              "      <th>1</th>\n",
              "      <td>62mP7</td>\n",
              "      <td>14.272088</td>\n",
              "      <td>-3.475083</td>\n",
              "      <td>0.999183</td>\n",
              "      <td>26.953261</td>\n",
              "    </tr>\n",
              "    <tr>\n",
              "      <th>2</th>\n",
              "      <td>vyE1P</td>\n",
              "      <td>6.263187</td>\n",
              "      <td>-5.948386</td>\n",
              "      <td>5.001160</td>\n",
              "      <td>134.766305</td>\n",
              "    </tr>\n",
              "    <tr>\n",
              "      <th>3</th>\n",
              "      <td>KcrkZ</td>\n",
              "      <td>-13.081196</td>\n",
              "      <td>-11.506057</td>\n",
              "      <td>4.999415</td>\n",
              "      <td>137.945408</td>\n",
              "    </tr>\n",
              "    <tr>\n",
              "      <th>4</th>\n",
              "      <td>AHL4O</td>\n",
              "      <td>12.702195</td>\n",
              "      <td>-8.147433</td>\n",
              "      <td>5.004363</td>\n",
              "      <td>134.766305</td>\n",
              "    </tr>\n",
              "    <tr>\n",
              "      <th>5</th>\n",
              "      <td>HHckp</td>\n",
              "      <td>-3.327590</td>\n",
              "      <td>-2.205276</td>\n",
              "      <td>3.003647</td>\n",
              "      <td>84.038886</td>\n",
              "    </tr>\n",
              "    <tr>\n",
              "      <th>6</th>\n",
              "      <td>h5Ujo</td>\n",
              "      <td>-11.142655</td>\n",
              "      <td>-10.133399</td>\n",
              "      <td>4.002382</td>\n",
              "      <td>110.992147</td>\n",
              "    </tr>\n",
              "    <tr>\n",
              "      <th>7</th>\n",
              "      <td>muH9x</td>\n",
              "      <td>4.234715</td>\n",
              "      <td>-0.001354</td>\n",
              "      <td>2.004588</td>\n",
              "      <td>53.906522</td>\n",
              "    </tr>\n",
              "    <tr>\n",
              "      <th>8</th>\n",
              "      <td>YiRkx</td>\n",
              "      <td>13.355129</td>\n",
              "      <td>-0.332068</td>\n",
              "      <td>4.998647</td>\n",
              "      <td>134.766305</td>\n",
              "    </tr>\n",
              "    <tr>\n",
              "      <th>9</th>\n",
              "      <td>jG6Gi</td>\n",
              "      <td>1.069227</td>\n",
              "      <td>-11.025667</td>\n",
              "      <td>4.997844</td>\n",
              "      <td>137.945408</td>\n",
              "    </tr>\n",
              "  </tbody>\n",
              "</table>\n",
              "</div>"
            ],
            "text/plain": [
              "      id         f0         f1        f2     product\n",
              "0  kBEdx -15.001348  -8.276000 -0.005876    3.179103\n",
              "1  62mP7  14.272088  -3.475083  0.999183   26.953261\n",
              "2  vyE1P   6.263187  -5.948386  5.001160  134.766305\n",
              "3  KcrkZ -13.081196 -11.506057  4.999415  137.945408\n",
              "4  AHL4O  12.702195  -8.147433  5.004363  134.766305\n",
              "5  HHckp  -3.327590  -2.205276  3.003647   84.038886\n",
              "6  h5Ujo -11.142655 -10.133399  4.002382  110.992147\n",
              "7  muH9x   4.234715  -0.001354  2.004588   53.906522\n",
              "8  YiRkx  13.355129  -0.332068  4.998647  134.766305\n",
              "9  jG6Gi   1.069227 -11.025667  4.997844  137.945408"
            ]
          },
          "execution_count": 237,
          "metadata": {},
          "output_type": "execute_result"
        }
      ],
      "source": [
        "data_1.head(10)"
      ]
    },
    {
      "cell_type": "code",
      "execution_count": null,
      "metadata": {
        "id": "DhK-JCEeAgaM",
        "outputId": "ab54e046-5acb-401c-b611-41af150acc35"
      },
      "outputs": [
        {
          "data": {
            "text/html": [
              "<div>\n",
              "<style scoped>\n",
              "    .dataframe tbody tr th:only-of-type {\n",
              "        vertical-align: middle;\n",
              "    }\n",
              "\n",
              "    .dataframe tbody tr th {\n",
              "        vertical-align: top;\n",
              "    }\n",
              "\n",
              "    .dataframe thead th {\n",
              "        text-align: right;\n",
              "    }\n",
              "</style>\n",
              "<table border=\"1\" class=\"dataframe\">\n",
              "  <thead>\n",
              "    <tr style=\"text-align: right;\">\n",
              "      <th></th>\n",
              "      <th>id</th>\n",
              "      <th>f0</th>\n",
              "      <th>f1</th>\n",
              "      <th>f2</th>\n",
              "      <th>product</th>\n",
              "    </tr>\n",
              "  </thead>\n",
              "  <tbody>\n",
              "    <tr>\n",
              "      <th>0</th>\n",
              "      <td>fwXo0</td>\n",
              "      <td>-1.146987</td>\n",
              "      <td>0.963328</td>\n",
              "      <td>-0.828965</td>\n",
              "      <td>27.758673</td>\n",
              "    </tr>\n",
              "    <tr>\n",
              "      <th>1</th>\n",
              "      <td>WJtFt</td>\n",
              "      <td>0.262778</td>\n",
              "      <td>0.269839</td>\n",
              "      <td>-2.530187</td>\n",
              "      <td>56.069697</td>\n",
              "    </tr>\n",
              "    <tr>\n",
              "      <th>2</th>\n",
              "      <td>ovLUW</td>\n",
              "      <td>0.194587</td>\n",
              "      <td>0.289035</td>\n",
              "      <td>-5.586433</td>\n",
              "      <td>62.871910</td>\n",
              "    </tr>\n",
              "    <tr>\n",
              "      <th>3</th>\n",
              "      <td>q6cA6</td>\n",
              "      <td>2.236060</td>\n",
              "      <td>-0.553760</td>\n",
              "      <td>0.930038</td>\n",
              "      <td>114.572842</td>\n",
              "    </tr>\n",
              "    <tr>\n",
              "      <th>4</th>\n",
              "      <td>WPMUX</td>\n",
              "      <td>-0.515993</td>\n",
              "      <td>1.716266</td>\n",
              "      <td>5.899011</td>\n",
              "      <td>149.600746</td>\n",
              "    </tr>\n",
              "    <tr>\n",
              "      <th>5</th>\n",
              "      <td>LzZXx</td>\n",
              "      <td>-0.758092</td>\n",
              "      <td>0.710691</td>\n",
              "      <td>2.585887</td>\n",
              "      <td>90.222465</td>\n",
              "    </tr>\n",
              "    <tr>\n",
              "      <th>6</th>\n",
              "      <td>WBHRv</td>\n",
              "      <td>-0.574891</td>\n",
              "      <td>0.317727</td>\n",
              "      <td>1.773745</td>\n",
              "      <td>45.641478</td>\n",
              "    </tr>\n",
              "    <tr>\n",
              "      <th>7</th>\n",
              "      <td>XO8fn</td>\n",
              "      <td>-1.906649</td>\n",
              "      <td>-2.458350</td>\n",
              "      <td>-0.177097</td>\n",
              "      <td>72.480640</td>\n",
              "    </tr>\n",
              "    <tr>\n",
              "      <th>8</th>\n",
              "      <td>ybmQ5</td>\n",
              "      <td>1.776292</td>\n",
              "      <td>-0.279356</td>\n",
              "      <td>3.004156</td>\n",
              "      <td>106.616832</td>\n",
              "    </tr>\n",
              "    <tr>\n",
              "      <th>9</th>\n",
              "      <td>OilcN</td>\n",
              "      <td>-1.214452</td>\n",
              "      <td>-0.439314</td>\n",
              "      <td>5.922514</td>\n",
              "      <td>52.954532</td>\n",
              "    </tr>\n",
              "  </tbody>\n",
              "</table>\n",
              "</div>"
            ],
            "text/plain": [
              "      id        f0        f1        f2     product\n",
              "0  fwXo0 -1.146987  0.963328 -0.828965   27.758673\n",
              "1  WJtFt  0.262778  0.269839 -2.530187   56.069697\n",
              "2  ovLUW  0.194587  0.289035 -5.586433   62.871910\n",
              "3  q6cA6  2.236060 -0.553760  0.930038  114.572842\n",
              "4  WPMUX -0.515993  1.716266  5.899011  149.600746\n",
              "5  LzZXx -0.758092  0.710691  2.585887   90.222465\n",
              "6  WBHRv -0.574891  0.317727  1.773745   45.641478\n",
              "7  XO8fn -1.906649 -2.458350 -0.177097   72.480640\n",
              "8  ybmQ5  1.776292 -0.279356  3.004156  106.616832\n",
              "9  OilcN -1.214452 -0.439314  5.922514   52.954532"
            ]
          },
          "execution_count": 238,
          "metadata": {},
          "output_type": "execute_result"
        }
      ],
      "source": [
        "data_2.head(10)"
      ]
    },
    {
      "cell_type": "code",
      "execution_count": null,
      "metadata": {
        "id": "guQYtZ73AgaM",
        "outputId": "1bc3a673-3fc9-4fdd-efb1-ffdb900d56ce"
      },
      "outputs": [
        {
          "name": "stdout",
          "output_type": "stream",
          "text": [
            "<class 'pandas.core.frame.DataFrame'>\n",
            "RangeIndex: 100000 entries, 0 to 99999\n",
            "Data columns (total 5 columns):\n",
            " #   Column   Non-Null Count   Dtype  \n",
            "---  ------   --------------   -----  \n",
            " 0   id       100000 non-null  object \n",
            " 1   f0       100000 non-null  float64\n",
            " 2   f1       100000 non-null  float64\n",
            " 3   f2       100000 non-null  float64\n",
            " 4   product  100000 non-null  float64\n",
            "dtypes: float64(4), object(1)\n",
            "memory usage: 3.8+ MB\n"
          ]
        }
      ],
      "source": [
        "#теперь изучим основную информацию о трёх датафреймах\n",
        "data_0.info()"
      ]
    },
    {
      "cell_type": "code",
      "execution_count": null,
      "metadata": {
        "id": "eiU40gs4AgaM",
        "outputId": "1c693214-4796-452d-be47-54c7f048e7af"
      },
      "outputs": [
        {
          "name": "stdout",
          "output_type": "stream",
          "text": [
            "<class 'pandas.core.frame.DataFrame'>\n",
            "RangeIndex: 100000 entries, 0 to 99999\n",
            "Data columns (total 5 columns):\n",
            " #   Column   Non-Null Count   Dtype  \n",
            "---  ------   --------------   -----  \n",
            " 0   id       100000 non-null  object \n",
            " 1   f0       100000 non-null  float64\n",
            " 2   f1       100000 non-null  float64\n",
            " 3   f2       100000 non-null  float64\n",
            " 4   product  100000 non-null  float64\n",
            "dtypes: float64(4), object(1)\n",
            "memory usage: 3.8+ MB\n"
          ]
        }
      ],
      "source": [
        "data_1.info()"
      ]
    },
    {
      "cell_type": "code",
      "execution_count": null,
      "metadata": {
        "id": "C1I67bf_AgaN",
        "outputId": "c5a557a0-3cbb-4214-f05c-d9251fae3e83"
      },
      "outputs": [
        {
          "name": "stdout",
          "output_type": "stream",
          "text": [
            "<class 'pandas.core.frame.DataFrame'>\n",
            "RangeIndex: 100000 entries, 0 to 99999\n",
            "Data columns (total 5 columns):\n",
            " #   Column   Non-Null Count   Dtype  \n",
            "---  ------   --------------   -----  \n",
            " 0   id       100000 non-null  object \n",
            " 1   f0       100000 non-null  float64\n",
            " 2   f1       100000 non-null  float64\n",
            " 3   f2       100000 non-null  float64\n",
            " 4   product  100000 non-null  float64\n",
            "dtypes: float64(4), object(1)\n",
            "memory usage: 3.8+ MB\n"
          ]
        }
      ],
      "source": [
        "data_2.info()"
      ]
    },
    {
      "cell_type": "markdown",
      "metadata": {
        "id": "iPd4iLfEAgaN"
      },
      "source": [
        "Все три датафрейма содержат информацию об:\n",
        "- id — уникальном идентификаторе скважины,\n",
        "- f0, f1, f2 — трёх признаках точек,\n",
        "- product — объёме запасов в скважине (тыс. баррелей)\n",
        "\n",
        "Пропусков ни в одном из датафреймов нет. Проверим, есть ли в них явные дубликаты."
      ]
    },
    {
      "cell_type": "code",
      "execution_count": null,
      "metadata": {
        "id": "lJ8XXendAgaN",
        "outputId": "abff2418-89dd-45d1-c15e-3d35009e94cd"
      },
      "outputs": [
        {
          "data": {
            "text/plain": [
              "0"
            ]
          },
          "execution_count": 242,
          "metadata": {},
          "output_type": "execute_result"
        }
      ],
      "source": [
        "data_0.duplicated().sum()"
      ]
    },
    {
      "cell_type": "code",
      "execution_count": null,
      "metadata": {
        "id": "SgZ6F-DGAgaN",
        "outputId": "a068df05-6dce-4a39-c55c-7d06d65a15c8"
      },
      "outputs": [
        {
          "data": {
            "text/plain": [
              "0"
            ]
          },
          "execution_count": 243,
          "metadata": {},
          "output_type": "execute_result"
        }
      ],
      "source": [
        "data_1.duplicated().sum()"
      ]
    },
    {
      "cell_type": "code",
      "execution_count": null,
      "metadata": {
        "id": "VPkkno7BAgaN",
        "outputId": "888ef164-456f-46f0-99a3-f57e40ca5ea5"
      },
      "outputs": [
        {
          "data": {
            "text/plain": [
              "0"
            ]
          },
          "execution_count": 244,
          "metadata": {},
          "output_type": "execute_result"
        }
      ],
      "source": [
        "data_2.duplicated().sum()"
      ]
    },
    {
      "cell_type": "markdown",
      "metadata": {
        "id": "5gLAcqxfAgaN"
      },
      "source": [
        "Явных дубликатов также нет.\n",
        "\n",
        "Для обучения модели признаками будут являться столбцы f0, f1, f2, а целевым признаком - product. Столбец id с уникалным идентификатором скважины содержит категориальные данные, которые никак не влияют на целевой признак (так как это просто \"имя\" скважины), но могут запутать нашу модель. Удалим этот столбец во всех датафреймах."
      ]
    },
    {
      "cell_type": "code",
      "execution_count": null,
      "metadata": {
        "id": "XV4rn4OzAgaO"
      },
      "outputs": [],
      "source": [
        "data_0 = data_0.drop(['id'], axis=1)\n",
        "data_1 = data_1.drop(['id'], axis=1)\n",
        "data_2 = data_2.drop(['id'], axis=1)"
      ]
    },
    {
      "cell_type": "code",
      "execution_count": null,
      "metadata": {
        "id": "o379XKshAgaO",
        "outputId": "b63498ad-7404-4142-cb6c-8221f8753762"
      },
      "outputs": [
        {
          "name": "stdout",
          "output_type": "stream",
          "text": [
            "(100000, 4)\n",
            "(100000, 4)\n",
            "(100000, 4)\n"
          ]
        }
      ],
      "source": [
        "#посмотрим на размеры получившихся датафреймов\n",
        "print(data_0.shape)\n",
        "print(data_1.shape)\n",
        "print(data_2.shape)"
      ]
    },
    {
      "cell_type": "markdown",
      "metadata": {
        "id": "mdbmEjjQAgaO"
      },
      "source": [
        "Столбец id успешно удалён, все нужные столбцы и строки на месте. В оставшихся столбцах содержатся числовые данные, поэтому преобразование данных не требуется. Также мы видим, что признаки f0, f1, f2 единообразны, поэтому масштабирование нам также не потребуется."
      ]
    },
    {
      "cell_type": "markdown",
      "metadata": {
        "id": "cEI_YXr1AgaO"
      },
      "source": [
        "**Вывод:** мы изучили исходные данные и подготовили их для дальнейшего машинного обучения: убедились в отсутствии пропусков и дубликатов, удалили лишний столбец и убедились в отсутсвии необходимости преобразования и масштабирования данных."
      ]
    },
    {
      "cell_type": "markdown",
      "metadata": {
        "id": "GAgwn37UAgaO"
      },
      "source": [
        "## Обучение и проверка модели"
      ]
    },
    {
      "cell_type": "markdown",
      "metadata": {
        "id": "FuqKF8MkAgaO"
      },
      "source": [
        "Разделим данные на обучающую и валидационную выборки в соотношении 75:25."
      ]
    },
    {
      "cell_type": "code",
      "execution_count": null,
      "metadata": {
        "id": "L4-Jy8FFAgaO"
      },
      "outputs": [],
      "source": [
        "#укажем признаки и целевой признак для каждого датафрейма\n",
        "features_0 = data_0.drop('product', axis=1)\n",
        "target_0 = data_0['product']\n",
        "features_1 = data_1.drop('product', axis=1)\n",
        "target_1 = data_1['product']\n",
        "features_2 = data_2.drop('product', axis=1)\n",
        "target_2 = data_2['product']"
      ]
    },
    {
      "cell_type": "markdown",
      "metadata": {
        "id": "845_JxE5AgaO"
      },
      "source": [
        "По условиям задачи, для обучения модели подходит только линейная регрессия. Обучим три отдельные модели линейной регрессии для каждого датафрейма."
      ]
    },
    {
      "cell_type": "code",
      "execution_count": null,
      "metadata": {
        "id": "cjPLoW6xAgaO"
      },
      "outputs": [],
      "source": [
        "#разбиваем данные на обучающие и тестовые выборки\n",
        "features_train_0, features_valid_0, target_train_0, target_valid_0 = train_test_split(features_0,\n",
        "                                                                            target_0,\n",
        "                                                                            test_size=0.25,\n",
        "                                                                            random_state=12345\n",
        "                                                                           )"
      ]
    },
    {
      "cell_type": "code",
      "execution_count": null,
      "metadata": {
        "id": "zcehzBKJAgaO"
      },
      "outputs": [],
      "source": [
        "features_train_1, features_valid_1, target_train_1, target_valid_1 = train_test_split(features_1,\n",
        "                                                                            target_1,\n",
        "                                                                            test_size=0.25,\n",
        "                                                                            random_state=12345\n",
        "                                                                           )"
      ]
    },
    {
      "cell_type": "code",
      "execution_count": null,
      "metadata": {
        "id": "FwqGWDjwAgaP"
      },
      "outputs": [],
      "source": [
        "features_train_2, features_valid_2, target_train_2, target_valid_2 = train_test_split(features_2,\n",
        "                                                                            target_2,\n",
        "                                                                            test_size=0.25,\n",
        "                                                                            random_state=12345\n",
        "                                                                           )"
      ]
    },
    {
      "cell_type": "markdown",
      "metadata": {
        "id": "JJJ8eKcgAgaP"
      },
      "source": [
        "Проверим размеры обучающих и валиационных выборок."
      ]
    },
    {
      "cell_type": "code",
      "execution_count": null,
      "metadata": {
        "id": "4A4YZM6YAgaP",
        "outputId": "e8397f2d-f8cd-4ff7-9e76-2103b8ea11c5"
      },
      "outputs": [
        {
          "name": "stdout",
          "output_type": "stream",
          "text": [
            "Размеры обучающих выборок:\n",
            "\"0\":\n",
            "(75000, 3)\n",
            "(75000,)\n",
            "\"1\":\n",
            "(75000, 3)\n",
            "(75000,)\n",
            "\"2\":\n",
            "(75000, 3)\n",
            "(75000,)\n",
            "\n",
            "Размеры валидационных выборок:\n",
            "\"0\":\n",
            "(25000, 3)\n",
            "(25000,)\n",
            "\"1\":\n",
            "(25000, 3)\n",
            "(25000,)\n",
            "\"2\":\n",
            "(25000, 3)\n",
            "(25000,)\n"
          ]
        }
      ],
      "source": [
        "print('Размеры обучающих выборок:')\n",
        "print('\"0\":')\n",
        "print(features_train_0.shape)\n",
        "print(target_train_0.shape)\n",
        "print('\"1\":')\n",
        "print(features_train_1.shape)\n",
        "print(target_train_1.shape)\n",
        "print('\"2\":')\n",
        "print(features_train_2.shape)\n",
        "print(target_train_2.shape)\n",
        "print()\n",
        "print('Размеры валидационных выборок:')\n",
        "print('\"0\":')\n",
        "print(features_valid_0.shape)\n",
        "print(target_valid_0.shape)\n",
        "print('\"1\":')\n",
        "print(features_valid_1.shape)\n",
        "print(target_valid_1.shape)\n",
        "print('\"2\":')\n",
        "print(features_valid_2.shape)\n",
        "print(target_valid_2.shape)"
      ]
    },
    {
      "cell_type": "markdown",
      "metadata": {
        "id": "WU92diF6AgaP"
      },
      "source": [
        "Данные разделены верно. Теперь обучим три модели линейной регрессии."
      ]
    },
    {
      "cell_type": "code",
      "execution_count": null,
      "metadata": {
        "scrolled": false,
        "id": "8O0x_zfPAgaP",
        "outputId": "40902168-9f78-4b73-9235-08cd4ea23674"
      },
      "outputs": [
        {
          "data": {
            "text/plain": [
              "LinearRegression()"
            ]
          },
          "execution_count": 252,
          "metadata": {},
          "output_type": "execute_result"
        }
      ],
      "source": [
        "model_0 = LinearRegression()\n",
        "model_0.fit(features_train_0, target_train_0)\n",
        "\n",
        "model_1 = LinearRegression()\n",
        "model_1.fit(features_train_1, target_train_1)\n",
        "\n",
        "model_2 = LinearRegression()\n",
        "model_2.fit(features_train_2, target_train_2)"
      ]
    },
    {
      "cell_type": "code",
      "execution_count": null,
      "metadata": {
        "id": "HF9oM2-rAgaP",
        "outputId": "17f043b8-71ee-4784-a912-9365230368f1"
      },
      "outputs": [
        {
          "name": "stdout",
          "output_type": "stream",
          "text": [
            "Модель \"0\":\n",
            "Средний запас предсказанного сырья: 92.59256778438035\n",
            "RMSE: 37.5794217150813\n",
            "\n",
            "Модель \"1\":\n",
            "Средний запас предсказанного сырья: 68.728546895446\n",
            "RMSE: 0.893099286775617\n",
            "\n",
            "Модель \"2\":\n",
            "Средний запас предсказанного сырья: 94.96504596800489\n",
            "RMSE: 40.02970873393434\n"
          ]
        }
      ],
      "source": [
        "#сделаем предсказания по каждой модели и сохраним их в отдельных переменных\n",
        "predictions_valid_0 = model_0.predict(features_valid_0)\n",
        "predictions_valid_1 = model_1.predict(features_valid_1)\n",
        "predictions_valid_2 = model_2.predict(features_valid_2)\n",
        "\n",
        "#и рассчитаем значение RMSE для каждой модели\n",
        "rmse_0 = mean_squared_error(target_valid_0, predictions_valid_0) ** 0.5\n",
        "rmse_1 = mean_squared_error(target_valid_1, predictions_valid_1) ** 0.5\n",
        "rmse_2 = mean_squared_error(target_valid_2, predictions_valid_2) ** 0.5\n",
        "\n",
        "#выведем на экран средний запас предсказанного сырья и RMSE для каждой модели\n",
        "print('Модель \"0\":')\n",
        "print('Средний запас предсказанного сырья:', predictions_valid_0.mean())\n",
        "print('RMSE:', rmse_0)\n",
        "print()\n",
        "print('Модель \"1\":')\n",
        "print('Средний запас предсказанного сырья:', predictions_valid_1.mean())\n",
        "print('RMSE:', rmse_1)\n",
        "print()\n",
        "print('Модель \"2\":')\n",
        "print('Средний запас предсказанного сырья:', predictions_valid_2.mean())\n",
        "print('RMSE:', rmse_2)"
      ]
    },
    {
      "cell_type": "markdown",
      "metadata": {
        "id": "Q9qbw2GoAgaP"
      },
      "source": [
        "**Вывод:** мы разделили данные на обучающую и валидационную выборки в соотношении 75:25. Согласно условиям задачи, мы выбрали модель линейной регрессии и обучили отдельные три модели для каждого датафрейма. Затем мы рассчитали средний запас предсказанного сырья и значение RMSE. Самый большой средний запас предсказанного сырья показала модель \"2\" - 94.96504596800489 тыс. баррелей, однако и RMSE у этой модели самый большой - 40.02970873393434 (тыс. баррелей). Наименьший средний запас предсказанного сырья показала модель \"1\" - 68.728546895446 тыс. баррелей, но эта модель гораздо точнее. Её показатель RMSE равен 0.893099286775617 (тыс. баррелей)."
      ]
    },
    {
      "cell_type": "markdown",
      "metadata": {
        "id": "EGiAxyakAgaQ"
      },
      "source": [
        "## Подготовка к расчёту прибыли"
      ]
    },
    {
      "cell_type": "markdown",
      "metadata": {
        "id": "JSEchl-4AgaQ"
      },
      "source": [
        "Сохраним все ключевые значения для расчётов в отдельных переменных."
      ]
    },
    {
      "cell_type": "code",
      "execution_count": null,
      "metadata": {
        "id": "FZXwUgS9AgaQ"
      },
      "outputs": [],
      "source": [
        "total_budget = 10000000000 #бюджет на разработку всех скважин в регионе\n",
        "rev = 450000 #доход с каждой единицы продукта (1 тыс. баррелей)\n",
        "all_wells = 500 #при разведке региона исследуют 500 точек\n",
        "best_wells = 200 #в регионе выбирают 200 лучших скважин для разработки"
      ]
    },
    {
      "cell_type": "markdown",
      "metadata": {
        "id": "z0NAjkohAgaQ"
      },
      "source": [
        "Рассчитаем достаточный объём сырья для безубыточной разработки новой скважины."
      ]
    },
    {
      "cell_type": "code",
      "execution_count": null,
      "metadata": {
        "id": "PRzc8P5mAgaQ",
        "outputId": "bb1371dd-ee72-4580-fa85-97079ecdcd6d"
      },
      "outputs": [
        {
          "name": "stdout",
          "output_type": "stream",
          "text": [
            "Объём сырья для безубыточной разработки новой скважины: 111.11111111111111 тыс. баррелей\n"
          ]
        }
      ],
      "source": [
        "print('Объём сырья для безубыточной разработки новой скважины:', total_budget / rev / best_wells, 'тыс. баррелей')"
      ]
    },
    {
      "cell_type": "markdown",
      "metadata": {
        "id": "585h1MyAAgaQ"
      },
      "source": [
        "Сравним полученный объём сырья со средним запасом в каждом регионе."
      ]
    },
    {
      "cell_type": "code",
      "execution_count": null,
      "metadata": {
        "id": "HPZI3kjHAgaQ",
        "outputId": "d1c666f1-d81b-4208-dc1a-20d2040bd64d"
      },
      "outputs": [
        {
          "name": "stdout",
          "output_type": "stream",
          "text": [
            "Средний запас сырья в каждом регионе:\n",
            "Регион \"0\": 92.50000000000001 тыс. баррелей\n",
            "Регион \"1\": 68.82500000000002 тыс. баррелей\n",
            "Регион \"2\": 95.00000000000004 тыс. баррелей\n"
          ]
        }
      ],
      "source": [
        "print('Средний запас сырья в каждом регионе:')\n",
        "print('Регион \"0\":', data_0['product'].mean(), 'тыс. баррелей')\n",
        "print('Регион \"1\":', data_1['product'].mean(), 'тыс. баррелей')\n",
        "print('Регион \"2\":', data_2['product'].mean(), 'тыс. баррелей')"
      ]
    },
    {
      "cell_type": "markdown",
      "metadata": {
        "id": "3z5RL0weAgaQ"
      },
      "source": [
        "**Вывод:** мы выяснили, что минимальный объём сырья для безубыточной разработки новой скважины равен 111 тыс. баррелей. Во всех трёх регионах средний запас сырья ниже этого значения: в регионе \"0\" 92.5 тыс. баррелей, в регионе \"1\" 68.8 тыс. баррелей, в регионе \"2\" 95 тыс. баррелей - то есть во всех регионах вести разработку рисковано. Мы смотрели на среднее значение запаса сырья в каждом регионе - оно складывается как из скважин с совсем небольшим запасом, так и из скважин с богатым запасом, большим, чем минимальное необходимое количество. В следующем шаге применим технику Bootstrap, чтобы случайным образом отбирать скважины и рассчитывать для них прибыль и риски."
      ]
    },
    {
      "cell_type": "markdown",
      "metadata": {
        "id": "R2OCWQuaAgaR"
      },
      "source": [
        "## Расчёт прибыли и рисков"
      ]
    },
    {
      "cell_type": "markdown",
      "metadata": {
        "id": "15KchuCGAgaR"
      },
      "source": [
        "Напишем функцию для расчёта прибыли."
      ]
    },
    {
      "cell_type": "code",
      "execution_count": null,
      "metadata": {
        "id": "SrsRAqh6AgaR"
      },
      "outputs": [],
      "source": [
        "def revenue(target, predictions):\n",
        "    probs_sorted = pd.Series(predictions).sort_values(ascending=False) #выбираем значения предсказаний с лучшими показателями вверху списка\n",
        "    selected = target[probs_sorted.index][:best_wells] #выбираем 200 лучших скважин\n",
        "    return rev * selected.sum() - total_budget #считаем прибыль"
      ]
    },
    {
      "cell_type": "markdown",
      "metadata": {
        "id": "KNHs2LJWAgaR"
      },
      "source": [
        "Теперь применим технику Bootstrap с 1000 выборок, чтобы найти распределение прибыли."
      ]
    },
    {
      "cell_type": "code",
      "execution_count": null,
      "metadata": {
        "id": "HA8OjYMFAgaR"
      },
      "outputs": [],
      "source": [
        "def bootstrap(target, predictions):\n",
        "    state = np.random.RandomState(12345)\n",
        "    values = []\n",
        "    for i in range(1000):\n",
        "        target = target.reset_index(drop=True)\n",
        "        target_subsample = target.sample(n = all_wells, replace = True, random_state = state)\n",
        "        predictions_subsample = pd.Series(predictions)[target_subsample.index]\n",
        "\n",
        "        values.append(revenue(target_subsample, predictions_subsample))\n",
        "\n",
        "    values = pd.Series(values)\n",
        "    return values"
      ]
    },
    {
      "cell_type": "markdown",
      "metadata": {
        "id": "Z8owbg2rAgaR"
      },
      "source": [
        "Найдём среднюю прибыль, 95%-й доверительный интервал и риск убытков. Создадим функции, которые рассчитывают эти значения."
      ]
    },
    {
      "cell_type": "code",
      "execution_count": null,
      "metadata": {
        "id": "Klc5fQ4YAgaR"
      },
      "outputs": [],
      "source": [
        "def mean_revenue(values):\n",
        "    print(\"Средняя выручка:\", values.mean())\n",
        "\n",
        "def conf_interval_95(values):\n",
        "    print(\"95%-й доверительный интервал:\", values.quantile(0.025), '-', values.quantile(0.975))\n",
        "\n",
        "def risk_of_loss(values):\n",
        "    print(\"Риск убытков:\", st.percentileofscore(values, 0), '%')"
      ]
    },
    {
      "cell_type": "markdown",
      "metadata": {
        "id": "VqN3SwH4AgaS"
      },
      "source": [
        "Найдем распределение возможной прибыли для каждого региона."
      ]
    },
    {
      "cell_type": "code",
      "execution_count": null,
      "metadata": {
        "scrolled": true,
        "id": "VNnmPWazAgaS"
      },
      "outputs": [],
      "source": [
        "values_0 = bootstrap(target_valid_0, predictions_valid_0)\n",
        "values_1 = bootstrap(target_valid_1, predictions_valid_1)\n",
        "values_2 = bootstrap(target_valid_2, predictions_valid_2)"
      ]
    },
    {
      "cell_type": "markdown",
      "metadata": {
        "id": "A7-5CFfIAgaS"
      },
      "source": [
        "Теперь рассчитаем все значения для каждого региона и выведем на экран:"
      ]
    },
    {
      "cell_type": "code",
      "execution_count": null,
      "metadata": {
        "id": "NP9RwwoLAgaS",
        "outputId": "0dcad8da-5eb3-44d4-88df-49c72c67ae18"
      },
      "outputs": [
        {
          "name": "stdout",
          "output_type": "stream",
          "text": [
            "Для региона \"0\":\n",
            "Средняя выручка: 425938526.91059244\n",
            "None\n",
            "95%-й доверительный интервал: -102090094.83793654 - 947976353.3583689\n",
            "None\n",
            "Риск убытков: 6.0 %\n",
            "None\n",
            "\n",
            "Для региона \"1\":\n",
            "Средняя выручка: 515222773.4432899\n",
            "None\n",
            "95%-й доверительный интервал: 68873225.37050176 - 931547591.2570494\n",
            "None\n",
            "Риск убытков: 1.0 %\n",
            "None\n",
            "\n",
            "Для региона \"2\":\n",
            "Средняя выручка: 435008362.7827556\n",
            "None\n",
            "95%-й доверительный интервал: -128880547.32978901 - 969706954.1802661\n",
            "None\n",
            "Риск убытков: 6.4 %\n",
            "None\n"
          ]
        }
      ],
      "source": [
        "print('Для региона \"0\":')\n",
        "print(mean_revenue(values_0))\n",
        "print(conf_interval_95(values_0))\n",
        "print(risk_of_loss(values_0))\n",
        "print()\n",
        "print('Для региона \"1\":')\n",
        "print(mean_revenue(values_1))\n",
        "print(conf_interval_95(values_1))\n",
        "print(risk_of_loss(values_1))\n",
        "print()\n",
        "print('Для региона \"2\":')\n",
        "print(mean_revenue(values_2))\n",
        "print(conf_interval_95(values_2))\n",
        "print(risk_of_loss(values_2))"
      ]
    },
    {
      "cell_type": "markdown",
      "metadata": {
        "id": "qT5tYKBrAgaS"
      },
      "source": [
        "**Вывод:** для регионов \"0\" и \"2\" левая граница доверительного интервала отрицательная, и риск убытков достаточно высокий - 6% и 6,4% соответственно. Для региона \"1\" доверительный интервал лежит в положительной зоне, и риск убытков наименьший - 1%. Средняя выручка самая большая для региона \"1\" - 515222773.44 рублей, за нем следует регион \"2\" - 435008362.78 рублей и затем регион \"0\" - 425938526.91 рублей. Также по условиям задачи нам подходят только те регионы, в которых уровень риска убытков будет менее 2,5%. Таким образом, **для разработки следует выбрать регион \"1\"** - для него средняя выручка самая высокая, а риск наименьший."
      ]
    },
    {
      "cell_type": "markdown",
      "metadata": {
        "id": "8cA2O7kDAgaS"
      },
      "source": [
        "## Вывод"
      ]
    },
    {
      "cell_type": "markdown",
      "metadata": {
        "id": "1T583CHvAgaS"
      },
      "source": [
        "Мы провели исследование по выбору локации для скважины для компании «ГлавРосГосНефть».\n",
        "\n",
        "1) Мы изучили исходные данные и подготовили их для дальнейшего машинного обучения: убедились в отсутствии пропусков и дубликатов, удалили лишний столбец и убедились в отсутсвии необходимости преобразования и масштабирования данных.\n",
        "\n",
        "2) Мы разделили данные на обучающую и валидационную выборки в соотношении 75:25. Согласно условиям задачи, мы выбрали модель линейной регрессии и обучили отдельные три модели для каждого датафрейма. Затем мы рассчитали средний запас предсказанного сырья и значение RMSE. Самый большой средний запас предсказанного сырья показала модель \"2\" - 94.96504596800489 тыс. баррелей, однако и RMSE у этой модели самый большой - 40.02970873393434 (тыс. баррелей). Наименьший средний запас предсказанного сырья показала модель \"1\" - 68.728546895446 тыс. баррелей, но эта модель гораздо точнее. Её показатель RMSE равен 0.893099286775617 (тыс. баррелей).\n",
        "\n",
        "3) Мы выяснили, что минимальный объём сырья для безубыточной разработки новой скважины равен 111 тыс. баррелей. Во всех трёх регионах средний запас сырья ниже этого значения: в регионе \"0\" 92.5 тыс. баррелей, в регионе \"1\" 68.8 тыс. баррелей, в регионе \"2\" 95 тыс. баррелей - то есть во всех регионах вести разработку рисковано. Мы смотрели на среднее значение запаса сырья в каждом регионе - оно складывается как из скважин с совсем небольшим запасом, так и из скважин с богатым запасом, большим, чем минимальное необходимое количество. Поэтому в следующем шаге мы решили применить технику Bootstrap, чтобы случайным образом отбирать скважины и рассчитывать для них прибыль и риски.\n",
        "\n",
        "4) Применив Bootstrap, мы вычислили, что для регионов \"0\" и \"2\" левая граница доверительного интервала отрицательная, и риск убытков достаточно высокий - 6% и 6,4% соответственно. Для региона \"1\" доверительный интервал лежит в положительной зоне, и риск убытков наименьший - 1%. Средняя выручка самая большая для региона \"1\" - 515222773.44 рублей, за нем следует регион \"2\" - 435008362.78 рублей и затем регион \"0\" - 425938526.91 рублей. Также по условиям задачи нам подходят только те регионы, в которых уровень риска убытков будет менее 2,5%.\n",
        "\n",
        "**Таким образом, для разработки следует выбрать регион \"1\" - для него средняя выручка самая высокая - 515222773.44 рублей, а риск убытков наименьший - 1%.**"
      ]
    }
  ],
  "metadata": {
    "ExecuteTimeLog": [
      {
        "duration": 364,
        "start_time": "2023-08-04T10:23:07.962Z"
      },
      {
        "duration": 692,
        "start_time": "2023-08-04T10:24:32.071Z"
      },
      {
        "duration": 2,
        "start_time": "2023-08-04T10:25:58.789Z"
      },
      {
        "duration": 330,
        "start_time": "2023-08-04T10:25:58.793Z"
      },
      {
        "duration": 15,
        "start_time": "2023-08-04T10:27:08.086Z"
      },
      {
        "duration": 10,
        "start_time": "2023-08-04T10:27:26.749Z"
      },
      {
        "duration": 8,
        "start_time": "2023-08-04T10:27:40.546Z"
      },
      {
        "duration": 13,
        "start_time": "2023-08-04T10:30:15.508Z"
      },
      {
        "duration": 11,
        "start_time": "2023-08-04T10:30:24.715Z"
      },
      {
        "duration": 13,
        "start_time": "2023-08-04T10:30:37.818Z"
      },
      {
        "duration": 38,
        "start_time": "2023-08-04T10:33:15.230Z"
      },
      {
        "duration": 35,
        "start_time": "2023-08-04T10:33:25.045Z"
      },
      {
        "duration": 39,
        "start_time": "2023-08-04T10:33:30.434Z"
      },
      {
        "duration": 9,
        "start_time": "2023-08-04T10:38:55.667Z"
      },
      {
        "duration": 3,
        "start_time": "2023-08-04T10:39:30.382Z"
      },
      {
        "duration": 3,
        "start_time": "2023-08-04T17:26:51.871Z"
      },
      {
        "duration": 342,
        "start_time": "2023-08-04T17:26:51.876Z"
      },
      {
        "duration": 9,
        "start_time": "2023-08-04T17:26:52.219Z"
      },
      {
        "duration": 11,
        "start_time": "2023-08-04T17:26:52.238Z"
      },
      {
        "duration": 13,
        "start_time": "2023-08-04T17:26:52.250Z"
      },
      {
        "duration": 20,
        "start_time": "2023-08-04T17:26:52.264Z"
      },
      {
        "duration": 12,
        "start_time": "2023-08-04T17:26:52.285Z"
      },
      {
        "duration": 14,
        "start_time": "2023-08-04T17:26:52.299Z"
      },
      {
        "duration": 69,
        "start_time": "2023-08-04T17:26:52.315Z"
      },
      {
        "duration": 59,
        "start_time": "2023-08-04T17:26:52.386Z"
      },
      {
        "duration": 43,
        "start_time": "2023-08-04T17:26:52.447Z"
      },
      {
        "duration": 10,
        "start_time": "2023-08-04T17:26:52.491Z"
      },
      {
        "duration": 6,
        "start_time": "2023-08-04T17:26:52.502Z"
      },
      {
        "duration": 8,
        "start_time": "2023-08-04T17:30:24.320Z"
      },
      {
        "duration": 641,
        "start_time": "2023-08-04T17:34:08.479Z"
      },
      {
        "duration": 100,
        "start_time": "2023-08-04T17:34:32.929Z"
      },
      {
        "duration": 2,
        "start_time": "2023-08-04T17:34:49.478Z"
      },
      {
        "duration": 12,
        "start_time": "2023-08-04T17:34:53.660Z"
      },
      {
        "duration": 11,
        "start_time": "2023-08-04T17:35:12.459Z"
      },
      {
        "duration": 12,
        "start_time": "2023-08-04T17:35:31.302Z"
      },
      {
        "duration": 3,
        "start_time": "2023-08-04T17:37:44.330Z"
      },
      {
        "duration": 6,
        "start_time": "2023-08-04T17:38:50.308Z"
      },
      {
        "duration": 14,
        "start_time": "2023-08-04T17:40:36.179Z"
      },
      {
        "duration": 13,
        "start_time": "2023-08-04T17:41:06.445Z"
      },
      {
        "duration": 3,
        "start_time": "2023-08-04T17:42:43.213Z"
      },
      {
        "duration": 9,
        "start_time": "2023-08-04T17:43:24.268Z"
      },
      {
        "duration": 12,
        "start_time": "2023-08-04T17:43:29.766Z"
      },
      {
        "duration": 22,
        "start_time": "2023-08-04T17:44:12.333Z"
      },
      {
        "duration": 15,
        "start_time": "2023-08-04T17:54:10.530Z"
      },
      {
        "duration": 8,
        "start_time": "2023-08-04T17:54:39.463Z"
      },
      {
        "duration": 3,
        "start_time": "2023-08-04T17:55:54.811Z"
      },
      {
        "duration": 14,
        "start_time": "2023-08-04T18:01:01.403Z"
      },
      {
        "duration": 1187,
        "start_time": "2023-08-06T12:39:09.792Z"
      },
      {
        "duration": 2033,
        "start_time": "2023-08-06T12:39:10.982Z"
      },
      {
        "duration": 16,
        "start_time": "2023-08-06T12:39:13.016Z"
      },
      {
        "duration": 20,
        "start_time": "2023-08-06T12:39:13.033Z"
      },
      {
        "duration": 24,
        "start_time": "2023-08-06T12:39:13.055Z"
      },
      {
        "duration": 28,
        "start_time": "2023-08-06T12:39:13.080Z"
      },
      {
        "duration": 44,
        "start_time": "2023-08-06T12:39:13.110Z"
      },
      {
        "duration": 16,
        "start_time": "2023-08-06T12:39:13.156Z"
      },
      {
        "duration": 48,
        "start_time": "2023-08-06T12:39:13.174Z"
      },
      {
        "duration": 37,
        "start_time": "2023-08-06T12:39:13.224Z"
      },
      {
        "duration": 55,
        "start_time": "2023-08-06T12:39:13.262Z"
      },
      {
        "duration": 10,
        "start_time": "2023-08-06T12:39:13.319Z"
      },
      {
        "duration": 17,
        "start_time": "2023-08-06T12:39:13.331Z"
      },
      {
        "duration": 9,
        "start_time": "2023-08-06T12:39:13.351Z"
      },
      {
        "duration": 14,
        "start_time": "2023-08-06T12:39:13.378Z"
      },
      {
        "duration": 11,
        "start_time": "2023-08-06T12:39:13.394Z"
      },
      {
        "duration": 11,
        "start_time": "2023-08-06T12:39:13.406Z"
      },
      {
        "duration": 6,
        "start_time": "2023-08-06T12:39:13.419Z"
      },
      {
        "duration": 56,
        "start_time": "2023-08-06T12:39:13.426Z"
      },
      {
        "duration": 97,
        "start_time": "2023-08-06T12:39:13.483Z"
      },
      {
        "duration": 3,
        "start_time": "2023-08-06T12:47:54.441Z"
      },
      {
        "duration": 4,
        "start_time": "2023-08-06T12:52:17.241Z"
      },
      {
        "duration": 5,
        "start_time": "2023-08-06T12:52:55.488Z"
      },
      {
        "duration": 2,
        "start_time": "2023-08-06T12:56:15.225Z"
      },
      {
        "duration": 4,
        "start_time": "2023-08-06T12:56:17.511Z"
      },
      {
        "duration": 4,
        "start_time": "2023-08-06T12:56:39.327Z"
      },
      {
        "duration": 3,
        "start_time": "2023-08-06T12:56:41.701Z"
      },
      {
        "duration": 1210,
        "start_time": "2023-08-06T12:59:49.438Z"
      },
      {
        "duration": 30,
        "start_time": "2023-08-06T13:01:06.488Z"
      },
      {
        "duration": 7,
        "start_time": "2023-08-06T13:06:16.713Z"
      },
      {
        "duration": 3,
        "start_time": "2023-08-06T13:06:19.426Z"
      },
      {
        "duration": 4,
        "start_time": "2023-08-06T13:06:20.506Z"
      },
      {
        "duration": 4,
        "start_time": "2023-08-06T13:06:35.704Z"
      },
      {
        "duration": 4,
        "start_time": "2023-08-06T13:08:41.945Z"
      },
      {
        "duration": 4,
        "start_time": "2023-08-06T13:09:00.322Z"
      },
      {
        "duration": 6,
        "start_time": "2023-08-06T13:10:07.903Z"
      },
      {
        "duration": 9,
        "start_time": "2023-08-06T13:11:50.226Z"
      },
      {
        "duration": 3,
        "start_time": "2023-08-06T13:22:21.462Z"
      },
      {
        "duration": 4,
        "start_time": "2023-08-06T13:23:56.001Z"
      },
      {
        "duration": 6,
        "start_time": "2023-08-06T13:36:46.893Z"
      },
      {
        "duration": 3,
        "start_time": "2023-08-06T13:39:24.342Z"
      },
      {
        "duration": 4,
        "start_time": "2023-08-06T13:39:54.619Z"
      },
      {
        "duration": 13,
        "start_time": "2023-08-06T13:42:53.174Z"
      },
      {
        "duration": 3,
        "start_time": "2023-08-06T13:43:04.910Z"
      },
      {
        "duration": 12,
        "start_time": "2023-08-06T13:43:07.698Z"
      },
      {
        "duration": 4,
        "start_time": "2023-08-06T13:47:12.430Z"
      },
      {
        "duration": 13,
        "start_time": "2023-08-06T13:47:17.042Z"
      },
      {
        "duration": 4,
        "start_time": "2023-08-06T13:49:09.897Z"
      },
      {
        "duration": 4,
        "start_time": "2023-08-06T13:49:27.605Z"
      },
      {
        "duration": 12,
        "start_time": "2023-08-06T13:49:31.636Z"
      },
      {
        "duration": 4,
        "start_time": "2023-08-06T13:51:17.514Z"
      },
      {
        "duration": 4,
        "start_time": "2023-08-06T13:51:20.223Z"
      },
      {
        "duration": 15,
        "start_time": "2023-08-06T13:51:21.390Z"
      },
      {
        "duration": 4,
        "start_time": "2023-08-06T13:52:05.751Z"
      },
      {
        "duration": 13,
        "start_time": "2023-08-06T13:52:19.015Z"
      },
      {
        "duration": 4,
        "start_time": "2023-08-06T13:55:19.482Z"
      },
      {
        "duration": 19,
        "start_time": "2023-08-06T13:55:23.590Z"
      },
      {
        "duration": 4,
        "start_time": "2023-08-06T13:55:52.452Z"
      },
      {
        "duration": 21,
        "start_time": "2023-08-06T13:56:03.092Z"
      },
      {
        "duration": 4,
        "start_time": "2023-08-06T13:58:08.187Z"
      },
      {
        "duration": 4,
        "start_time": "2023-08-06T13:58:17.338Z"
      },
      {
        "duration": 10,
        "start_time": "2023-08-06T14:02:58.175Z"
      },
      {
        "duration": 11,
        "start_time": "2023-08-06T14:03:01.527Z"
      },
      {
        "duration": 4,
        "start_time": "2023-08-06T14:04:47.858Z"
      },
      {
        "duration": 15,
        "start_time": "2023-08-06T14:04:50.290Z"
      },
      {
        "duration": 4,
        "start_time": "2023-08-06T14:05:00.987Z"
      },
      {
        "duration": 3,
        "start_time": "2023-08-06T14:05:29.797Z"
      },
      {
        "duration": 11,
        "start_time": "2023-08-06T14:05:32.804Z"
      },
      {
        "duration": 3,
        "start_time": "2023-08-06T14:07:54.356Z"
      },
      {
        "duration": 434,
        "start_time": "2023-08-06T14:07:54.361Z"
      },
      {
        "duration": 9,
        "start_time": "2023-08-06T14:07:54.796Z"
      },
      {
        "duration": 27,
        "start_time": "2023-08-06T14:07:54.807Z"
      },
      {
        "duration": 15,
        "start_time": "2023-08-06T14:07:54.836Z"
      },
      {
        "duration": 33,
        "start_time": "2023-08-06T14:07:54.853Z"
      },
      {
        "duration": 13,
        "start_time": "2023-08-06T14:07:54.887Z"
      },
      {
        "duration": 18,
        "start_time": "2023-08-06T14:07:54.902Z"
      },
      {
        "duration": 50,
        "start_time": "2023-08-06T14:07:54.921Z"
      },
      {
        "duration": 46,
        "start_time": "2023-08-06T14:07:54.972Z"
      },
      {
        "duration": 66,
        "start_time": "2023-08-06T14:07:55.020Z"
      },
      {
        "duration": 11,
        "start_time": "2023-08-06T14:07:55.088Z"
      },
      {
        "duration": 32,
        "start_time": "2023-08-06T14:07:55.100Z"
      },
      {
        "duration": 21,
        "start_time": "2023-08-06T14:07:55.135Z"
      },
      {
        "duration": 34,
        "start_time": "2023-08-06T14:07:55.158Z"
      },
      {
        "duration": 11,
        "start_time": "2023-08-06T14:07:55.194Z"
      },
      {
        "duration": 13,
        "start_time": "2023-08-06T14:07:55.207Z"
      },
      {
        "duration": 32,
        "start_time": "2023-08-06T14:07:55.222Z"
      },
      {
        "duration": 40,
        "start_time": "2023-08-06T14:07:55.256Z"
      },
      {
        "duration": 83,
        "start_time": "2023-08-06T14:07:55.298Z"
      },
      {
        "duration": 95,
        "start_time": "2023-08-06T14:07:55.383Z"
      },
      {
        "duration": 13,
        "start_time": "2023-08-06T14:07:55.480Z"
      },
      {
        "duration": 28,
        "start_time": "2023-08-06T14:07:55.494Z"
      },
      {
        "duration": 6,
        "start_time": "2023-08-06T14:07:55.524Z"
      },
      {
        "duration": 40,
        "start_time": "2023-08-06T14:07:55.531Z"
      },
      {
        "duration": 34,
        "start_time": "2023-08-06T14:07:55.573Z"
      },
      {
        "duration": 21,
        "start_time": "2023-08-06T14:07:55.609Z"
      },
      {
        "duration": 0,
        "start_time": "2023-08-06T14:07:55.632Z"
      },
      {
        "duration": 3,
        "start_time": "2023-08-06T14:10:58.167Z"
      },
      {
        "duration": 11,
        "start_time": "2023-08-06T14:11:00.635Z"
      },
      {
        "duration": 3,
        "start_time": "2023-08-06T14:11:44.873Z"
      },
      {
        "duration": 4,
        "start_time": "2023-08-06T14:11:55.526Z"
      },
      {
        "duration": 13,
        "start_time": "2023-08-06T14:11:58.330Z"
      },
      {
        "duration": 3,
        "start_time": "2023-08-06T14:14:32.889Z"
      },
      {
        "duration": 11,
        "start_time": "2023-08-06T14:14:35.487Z"
      },
      {
        "duration": 3,
        "start_time": "2023-08-06T14:15:48.150Z"
      },
      {
        "duration": 379,
        "start_time": "2023-08-06T14:15:48.156Z"
      },
      {
        "duration": 9,
        "start_time": "2023-08-06T14:15:48.537Z"
      },
      {
        "duration": 21,
        "start_time": "2023-08-06T14:15:48.547Z"
      },
      {
        "duration": 28,
        "start_time": "2023-08-06T14:15:48.570Z"
      },
      {
        "duration": 24,
        "start_time": "2023-08-06T14:15:48.599Z"
      },
      {
        "duration": 13,
        "start_time": "2023-08-06T14:15:48.624Z"
      },
      {
        "duration": 14,
        "start_time": "2023-08-06T14:15:48.639Z"
      },
      {
        "duration": 45,
        "start_time": "2023-08-06T14:15:48.654Z"
      },
      {
        "duration": 38,
        "start_time": "2023-08-06T14:15:48.700Z"
      },
      {
        "duration": 54,
        "start_time": "2023-08-06T14:15:48.740Z"
      },
      {
        "duration": 10,
        "start_time": "2023-08-06T14:15:48.796Z"
      },
      {
        "duration": 15,
        "start_time": "2023-08-06T14:15:48.807Z"
      },
      {
        "duration": 22,
        "start_time": "2023-08-06T14:15:48.823Z"
      },
      {
        "duration": 48,
        "start_time": "2023-08-06T14:15:48.846Z"
      },
      {
        "duration": 30,
        "start_time": "2023-08-06T14:15:48.895Z"
      },
      {
        "duration": 20,
        "start_time": "2023-08-06T14:15:48.927Z"
      },
      {
        "duration": 6,
        "start_time": "2023-08-06T14:15:48.948Z"
      },
      {
        "duration": 33,
        "start_time": "2023-08-06T14:15:48.956Z"
      },
      {
        "duration": 85,
        "start_time": "2023-08-06T14:15:48.991Z"
      },
      {
        "duration": 8,
        "start_time": "2023-08-06T14:15:49.079Z"
      },
      {
        "duration": 89,
        "start_time": "2023-08-06T14:15:49.088Z"
      },
      {
        "duration": 10,
        "start_time": "2023-08-06T14:15:49.179Z"
      },
      {
        "duration": 8,
        "start_time": "2023-08-06T14:15:49.191Z"
      },
      {
        "duration": 10,
        "start_time": "2023-08-06T14:15:49.200Z"
      },
      {
        "duration": 4,
        "start_time": "2023-08-06T14:15:49.211Z"
      },
      {
        "duration": 14,
        "start_time": "2023-08-06T14:15:49.216Z"
      },
      {
        "duration": 0,
        "start_time": "2023-08-06T14:15:49.232Z"
      },
      {
        "duration": 4,
        "start_time": "2023-08-06T14:16:40.787Z"
      },
      {
        "duration": 11,
        "start_time": "2023-08-06T14:16:43.956Z"
      },
      {
        "duration": 4,
        "start_time": "2023-08-06T14:25:57.765Z"
      },
      {
        "duration": 20,
        "start_time": "2023-08-06T14:26:00.480Z"
      },
      {
        "duration": 12,
        "start_time": "2023-08-06T14:31:48.713Z"
      },
      {
        "duration": 4,
        "start_time": "2023-08-06T14:38:49.143Z"
      },
      {
        "duration": 12,
        "start_time": "2023-08-06T14:38:53.100Z"
      },
      {
        "duration": 3,
        "start_time": "2023-08-06T14:45:25.970Z"
      },
      {
        "duration": 430,
        "start_time": "2023-08-06T14:45:25.976Z"
      },
      {
        "duration": 10,
        "start_time": "2023-08-06T14:45:26.408Z"
      },
      {
        "duration": 12,
        "start_time": "2023-08-06T14:45:26.419Z"
      },
      {
        "duration": 11,
        "start_time": "2023-08-06T14:45:26.433Z"
      },
      {
        "duration": 14,
        "start_time": "2023-08-06T14:45:26.446Z"
      },
      {
        "duration": 23,
        "start_time": "2023-08-06T14:45:26.473Z"
      },
      {
        "duration": 14,
        "start_time": "2023-08-06T14:45:26.497Z"
      },
      {
        "duration": 74,
        "start_time": "2023-08-06T14:45:26.513Z"
      },
      {
        "duration": 44,
        "start_time": "2023-08-06T14:45:26.589Z"
      },
      {
        "duration": 68,
        "start_time": "2023-08-06T14:45:26.635Z"
      },
      {
        "duration": 25,
        "start_time": "2023-08-06T14:45:26.704Z"
      },
      {
        "duration": 9,
        "start_time": "2023-08-06T14:45:26.731Z"
      },
      {
        "duration": 22,
        "start_time": "2023-08-06T14:45:26.744Z"
      },
      {
        "duration": 25,
        "start_time": "2023-08-06T14:45:26.767Z"
      },
      {
        "duration": 11,
        "start_time": "2023-08-06T14:45:26.795Z"
      },
      {
        "duration": 12,
        "start_time": "2023-08-06T14:45:26.807Z"
      },
      {
        "duration": 8,
        "start_time": "2023-08-06T14:45:26.820Z"
      },
      {
        "duration": 23,
        "start_time": "2023-08-06T14:45:26.829Z"
      },
      {
        "duration": 46,
        "start_time": "2023-08-06T14:45:26.854Z"
      },
      {
        "duration": 90,
        "start_time": "2023-08-06T14:45:26.904Z"
      },
      {
        "duration": 78,
        "start_time": "2023-08-06T14:45:27.002Z"
      },
      {
        "duration": 9,
        "start_time": "2023-08-06T14:45:27.082Z"
      },
      {
        "duration": 6,
        "start_time": "2023-08-06T14:45:27.093Z"
      },
      {
        "duration": 5,
        "start_time": "2023-08-06T14:45:27.101Z"
      },
      {
        "duration": 9,
        "start_time": "2023-08-06T14:45:27.108Z"
      },
      {
        "duration": 14,
        "start_time": "2023-08-06T14:45:27.119Z"
      },
      {
        "duration": 0,
        "start_time": "2023-08-06T14:45:27.135Z"
      },
      {
        "duration": 10,
        "start_time": "2023-08-06T14:48:24.570Z"
      },
      {
        "duration": 3,
        "start_time": "2023-08-06T14:50:48.750Z"
      },
      {
        "duration": 385,
        "start_time": "2023-08-06T14:50:48.754Z"
      },
      {
        "duration": 10,
        "start_time": "2023-08-06T14:50:49.141Z"
      },
      {
        "duration": 36,
        "start_time": "2023-08-06T14:50:49.153Z"
      },
      {
        "duration": 29,
        "start_time": "2023-08-06T14:50:49.191Z"
      },
      {
        "duration": 42,
        "start_time": "2023-08-06T14:50:49.221Z"
      },
      {
        "duration": 22,
        "start_time": "2023-08-06T14:50:49.264Z"
      },
      {
        "duration": 15,
        "start_time": "2023-08-06T14:50:49.290Z"
      },
      {
        "duration": 40,
        "start_time": "2023-08-06T14:50:49.306Z"
      },
      {
        "duration": 48,
        "start_time": "2023-08-06T14:50:49.348Z"
      },
      {
        "duration": 38,
        "start_time": "2023-08-06T14:50:49.398Z"
      },
      {
        "duration": 12,
        "start_time": "2023-08-06T14:50:49.438Z"
      },
      {
        "duration": 34,
        "start_time": "2023-08-06T14:50:49.451Z"
      },
      {
        "duration": 7,
        "start_time": "2023-08-06T14:50:49.487Z"
      },
      {
        "duration": 36,
        "start_time": "2023-08-06T14:50:49.496Z"
      },
      {
        "duration": 16,
        "start_time": "2023-08-06T14:50:49.534Z"
      },
      {
        "duration": 35,
        "start_time": "2023-08-06T14:50:49.551Z"
      },
      {
        "duration": 17,
        "start_time": "2023-08-06T14:50:49.588Z"
      },
      {
        "duration": 59,
        "start_time": "2023-08-06T14:50:49.606Z"
      },
      {
        "duration": 110,
        "start_time": "2023-08-06T14:50:49.666Z"
      },
      {
        "duration": 5,
        "start_time": "2023-08-06T14:50:49.778Z"
      },
      {
        "duration": 102,
        "start_time": "2023-08-06T14:50:49.785Z"
      },
      {
        "duration": 40,
        "start_time": "2023-08-06T14:50:49.889Z"
      },
      {
        "duration": 13,
        "start_time": "2023-08-06T14:50:49.931Z"
      },
      {
        "duration": 33,
        "start_time": "2023-08-06T14:50:49.946Z"
      },
      {
        "duration": 21,
        "start_time": "2023-08-06T14:50:49.981Z"
      },
      {
        "duration": 33,
        "start_time": "2023-08-06T14:50:50.005Z"
      },
      {
        "duration": 0,
        "start_time": "2023-08-06T14:50:50.040Z"
      },
      {
        "duration": 6,
        "start_time": "2023-08-06T15:37:46.300Z"
      },
      {
        "duration": 12,
        "start_time": "2023-08-06T15:37:49.255Z"
      },
      {
        "duration": 4,
        "start_time": "2023-08-06T15:39:34.507Z"
      },
      {
        "duration": 20,
        "start_time": "2023-08-06T15:39:37.049Z"
      },
      {
        "duration": 3,
        "start_time": "2023-08-06T15:40:53.329Z"
      },
      {
        "duration": 23,
        "start_time": "2023-08-06T15:40:57.122Z"
      },
      {
        "duration": 3,
        "start_time": "2023-08-06T15:44:24.820Z"
      },
      {
        "duration": 24,
        "start_time": "2023-08-06T15:44:27.846Z"
      },
      {
        "duration": 7,
        "start_time": "2023-08-06T15:45:23.670Z"
      },
      {
        "duration": 37,
        "start_time": "2023-08-06T15:45:26.845Z"
      },
      {
        "duration": 3,
        "start_time": "2023-08-06T15:47:38.983Z"
      },
      {
        "duration": 4,
        "start_time": "2023-08-06T15:48:21.893Z"
      },
      {
        "duration": 6,
        "start_time": "2023-08-06T15:48:25.802Z"
      },
      {
        "duration": 21,
        "start_time": "2023-08-06T15:48:28.829Z"
      },
      {
        "duration": 4,
        "start_time": "2023-08-06T15:52:30.057Z"
      },
      {
        "duration": 6,
        "start_time": "2023-08-06T15:52:30.900Z"
      },
      {
        "duration": 4,
        "start_time": "2023-08-06T15:52:32.323Z"
      },
      {
        "duration": 57,
        "start_time": "2023-08-06T15:52:33.856Z"
      },
      {
        "duration": 6,
        "start_time": "2023-08-06T15:55:02.696Z"
      },
      {
        "duration": 5,
        "start_time": "2023-08-06T15:55:05.100Z"
      },
      {
        "duration": 21,
        "start_time": "2023-08-06T15:55:07.737Z"
      },
      {
        "duration": 12,
        "start_time": "2023-08-06T15:59:27.472Z"
      },
      {
        "duration": 20,
        "start_time": "2023-08-06T15:59:30.074Z"
      },
      {
        "duration": 4,
        "start_time": "2023-08-06T16:02:38.069Z"
      },
      {
        "duration": 24,
        "start_time": "2023-08-06T16:02:42.539Z"
      },
      {
        "duration": 11,
        "start_time": "2023-08-06T16:04:03.587Z"
      },
      {
        "duration": 5425,
        "start_time": "2023-08-06T16:04:06.009Z"
      },
      {
        "duration": 15,
        "start_time": "2023-08-06T16:04:18.616Z"
      },
      {
        "duration": 14,
        "start_time": "2023-08-06T16:04:33.448Z"
      },
      {
        "duration": 4,
        "start_time": "2023-08-06T16:17:00.101Z"
      },
      {
        "duration": 6,
        "start_time": "2023-08-06T16:17:02.412Z"
      },
      {
        "duration": 3,
        "start_time": "2023-08-06T16:17:05.233Z"
      },
      {
        "duration": 5131,
        "start_time": "2023-08-06T16:17:06.064Z"
      },
      {
        "duration": 13,
        "start_time": "2023-08-06T16:17:15.405Z"
      },
      {
        "duration": 3,
        "start_time": "2023-08-06T16:19:39.264Z"
      },
      {
        "duration": 4,
        "start_time": "2023-08-06T16:19:59.148Z"
      },
      {
        "duration": 8,
        "start_time": "2023-08-06T16:20:02.629Z"
      },
      {
        "duration": 4,
        "start_time": "2023-08-06T16:20:18.947Z"
      },
      {
        "duration": 5,
        "start_time": "2023-08-06T16:20:32.659Z"
      },
      {
        "duration": 4,
        "start_time": "2023-08-06T16:20:35.116Z"
      },
      {
        "duration": 5510,
        "start_time": "2023-08-06T16:20:36.180Z"
      },
      {
        "duration": 15,
        "start_time": "2023-08-06T16:20:43.310Z"
      },
      {
        "duration": 3,
        "start_time": "2023-08-06T16:37:31.168Z"
      },
      {
        "duration": 567,
        "start_time": "2023-08-06T16:37:31.174Z"
      },
      {
        "duration": 10,
        "start_time": "2023-08-06T16:37:31.743Z"
      },
      {
        "duration": 41,
        "start_time": "2023-08-06T16:37:31.754Z"
      },
      {
        "duration": 26,
        "start_time": "2023-08-06T16:37:31.797Z"
      },
      {
        "duration": 24,
        "start_time": "2023-08-06T16:37:31.825Z"
      },
      {
        "duration": 13,
        "start_time": "2023-08-06T16:37:31.851Z"
      },
      {
        "duration": 16,
        "start_time": "2023-08-06T16:37:31.865Z"
      },
      {
        "duration": 55,
        "start_time": "2023-08-06T16:37:31.882Z"
      },
      {
        "duration": 44,
        "start_time": "2023-08-06T16:37:31.939Z"
      },
      {
        "duration": 45,
        "start_time": "2023-08-06T16:37:31.986Z"
      },
      {
        "duration": 12,
        "start_time": "2023-08-06T16:37:32.033Z"
      },
      {
        "duration": 27,
        "start_time": "2023-08-06T16:37:32.049Z"
      },
      {
        "duration": 31,
        "start_time": "2023-08-06T16:37:32.079Z"
      },
      {
        "duration": 28,
        "start_time": "2023-08-06T16:37:32.111Z"
      },
      {
        "duration": 11,
        "start_time": "2023-08-06T16:37:32.141Z"
      },
      {
        "duration": 64,
        "start_time": "2023-08-06T16:37:32.153Z"
      },
      {
        "duration": 10,
        "start_time": "2023-08-06T16:37:32.219Z"
      },
      {
        "duration": 23,
        "start_time": "2023-08-06T16:37:32.232Z"
      },
      {
        "duration": 37,
        "start_time": "2023-08-06T16:37:32.257Z"
      },
      {
        "duration": 94,
        "start_time": "2023-08-06T16:37:32.296Z"
      },
      {
        "duration": 5,
        "start_time": "2023-08-06T16:37:32.392Z"
      },
      {
        "duration": 92,
        "start_time": "2023-08-06T16:37:32.400Z"
      },
      {
        "duration": 48,
        "start_time": "2023-08-06T16:37:32.496Z"
      },
      {
        "duration": 29,
        "start_time": "2023-08-06T16:37:32.546Z"
      },
      {
        "duration": 22,
        "start_time": "2023-08-06T16:37:32.577Z"
      },
      {
        "duration": 4920,
        "start_time": "2023-08-06T16:37:32.602Z"
      },
      {
        "duration": 13,
        "start_time": "2023-08-06T16:37:37.523Z"
      }
    ],
    "kernelspec": {
      "display_name": "Python 3 (ipykernel)",
      "language": "python",
      "name": "python3"
    },
    "language_info": {
      "codemirror_mode": {
        "name": "ipython",
        "version": 3
      },
      "file_extension": ".py",
      "mimetype": "text/x-python",
      "name": "python",
      "nbconvert_exporter": "python",
      "pygments_lexer": "ipython3",
      "version": "3.9.5"
    },
    "toc": {
      "base_numbering": 1,
      "nav_menu": {},
      "number_sections": true,
      "sideBar": true,
      "skip_h1_title": true,
      "title_cell": "Table of Contents",
      "title_sidebar": "Contents",
      "toc_cell": false,
      "toc_position": {},
      "toc_section_display": true,
      "toc_window_display": false
    },
    "colab": {
      "provenance": []
    }
  },
  "nbformat": 4,
  "nbformat_minor": 0
}