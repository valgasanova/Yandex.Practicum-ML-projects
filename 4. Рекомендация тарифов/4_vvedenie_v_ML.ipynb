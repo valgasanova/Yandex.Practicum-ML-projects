{
  "cells": [
    {
      "cell_type": "markdown",
      "metadata": {
        "id": "G6Bi6Njn92Xr"
      },
      "source": [
        "# Рекомендация тарифов"
      ]
    },
    {
      "cell_type": "markdown",
      "metadata": {
        "id": "Xguct2yF92Xr"
      },
      "source": [
        "Оператор мобильной связи «Мегалайн» выяснил: многие клиенты пользуются архивными тарифами. Они хотят построить систему, способную проанализировать поведение клиентов и предложить пользователям новый тариф: «Смарт» или «Ультра».\n",
        "\n",
        "В нашем распоряжении данные о поведении клиентов, которые уже перешли на эти тарифы. Цель нашего исследования - построить модель для задачи классификации, которая выберет подходящий тариф, с максимально большим значением *accuracy* (минимум 0.75). Предобработка данных не понадобится — она уже была проведена ранее.\n",
        "\n",
        "Описание данных:\n",
        "Каждый объект в наборе данных — это информация о поведении одного пользователя за месяц. Известно:\n",
        "- сalls — количество звонков,\n",
        "- minutes — суммарная длительность звонков в минутах,\n",
        "- messages — количество sms-сообщений,\n",
        "- mb_used — израсходованный интернет-трафик в Мб,\n",
        "- is_ultra — каким тарифом пользовался в течение месяца («Ультра» — 1, «Смарт» — 0).\n",
        "\n",
        "Приблизительный план исследования:\n",
        "- изучить представленные данные\n",
        "- разбить данные на три выборки: обучающую, валидационную и тестовую\n",
        "- исследовать три модели: решающее дерево, случайный лес и логистическую регрессию - и выбрать модель с самым высоким значением accuracy\n",
        "- проверить наиболее удачную модель на тестовой выборке и выяснить значение accuracy на тестовой выборке"
      ]
    },
    {
      "cell_type": "markdown",
      "metadata": {
        "id": "p6Y9H-KL92Xs"
      },
      "source": [
        "## Откроем и изучим файл"
      ]
    },
    {
      "cell_type": "code",
      "execution_count": null,
      "metadata": {
        "id": "28idfTnw92Xs"
      },
      "outputs": [],
      "source": [
        "#импортируем необходимые для работы библиотеки\n",
        "import pandas as pd\n",
        "from sklearn.model_selection import train_test_split\n",
        "from sklearn.tree import DecisionTreeClassifier\n",
        "from sklearn.metrics import accuracy_score\n",
        "from sklearn.ensemble import RandomForestClassifier\n",
        "from sklearn.linear_model import LogisticRegression"
      ]
    },
    {
      "cell_type": "code",
      "execution_count": null,
      "metadata": {
        "id": "263xEJV892Xt"
      },
      "outputs": [],
      "source": [
        "df = pd.read_csv('/datasets/users_behavior.csv') #прочитаем файл и сохраним его в переменной df"
      ]
    },
    {
      "cell_type": "code",
      "execution_count": null,
      "metadata": {
        "id": "UxklVBtv92Xt",
        "outputId": "4c22ac3b-cc29-46c8-dce0-f95e2af044a5"
      },
      "outputs": [
        {
          "data": {
            "text/html": [
              "<div>\n",
              "<style scoped>\n",
              "    .dataframe tbody tr th:only-of-type {\n",
              "        vertical-align: middle;\n",
              "    }\n",
              "\n",
              "    .dataframe tbody tr th {\n",
              "        vertical-align: top;\n",
              "    }\n",
              "\n",
              "    .dataframe thead th {\n",
              "        text-align: right;\n",
              "    }\n",
              "</style>\n",
              "<table border=\"1\" class=\"dataframe\">\n",
              "  <thead>\n",
              "    <tr style=\"text-align: right;\">\n",
              "      <th></th>\n",
              "      <th>calls</th>\n",
              "      <th>minutes</th>\n",
              "      <th>messages</th>\n",
              "      <th>mb_used</th>\n",
              "      <th>is_ultra</th>\n",
              "    </tr>\n",
              "  </thead>\n",
              "  <tbody>\n",
              "    <tr>\n",
              "      <th>0</th>\n",
              "      <td>40.0</td>\n",
              "      <td>311.90</td>\n",
              "      <td>83.0</td>\n",
              "      <td>19915.42</td>\n",
              "      <td>0</td>\n",
              "    </tr>\n",
              "    <tr>\n",
              "      <th>1</th>\n",
              "      <td>85.0</td>\n",
              "      <td>516.75</td>\n",
              "      <td>56.0</td>\n",
              "      <td>22696.96</td>\n",
              "      <td>0</td>\n",
              "    </tr>\n",
              "    <tr>\n",
              "      <th>2</th>\n",
              "      <td>77.0</td>\n",
              "      <td>467.66</td>\n",
              "      <td>86.0</td>\n",
              "      <td>21060.45</td>\n",
              "      <td>0</td>\n",
              "    </tr>\n",
              "    <tr>\n",
              "      <th>3</th>\n",
              "      <td>106.0</td>\n",
              "      <td>745.53</td>\n",
              "      <td>81.0</td>\n",
              "      <td>8437.39</td>\n",
              "      <td>1</td>\n",
              "    </tr>\n",
              "    <tr>\n",
              "      <th>4</th>\n",
              "      <td>66.0</td>\n",
              "      <td>418.74</td>\n",
              "      <td>1.0</td>\n",
              "      <td>14502.75</td>\n",
              "      <td>0</td>\n",
              "    </tr>\n",
              "    <tr>\n",
              "      <th>5</th>\n",
              "      <td>58.0</td>\n",
              "      <td>344.56</td>\n",
              "      <td>21.0</td>\n",
              "      <td>15823.37</td>\n",
              "      <td>0</td>\n",
              "    </tr>\n",
              "    <tr>\n",
              "      <th>6</th>\n",
              "      <td>57.0</td>\n",
              "      <td>431.64</td>\n",
              "      <td>20.0</td>\n",
              "      <td>3738.90</td>\n",
              "      <td>1</td>\n",
              "    </tr>\n",
              "    <tr>\n",
              "      <th>7</th>\n",
              "      <td>15.0</td>\n",
              "      <td>132.40</td>\n",
              "      <td>6.0</td>\n",
              "      <td>21911.60</td>\n",
              "      <td>0</td>\n",
              "    </tr>\n",
              "    <tr>\n",
              "      <th>8</th>\n",
              "      <td>7.0</td>\n",
              "      <td>43.39</td>\n",
              "      <td>3.0</td>\n",
              "      <td>2538.67</td>\n",
              "      <td>1</td>\n",
              "    </tr>\n",
              "    <tr>\n",
              "      <th>9</th>\n",
              "      <td>90.0</td>\n",
              "      <td>665.41</td>\n",
              "      <td>38.0</td>\n",
              "      <td>17358.61</td>\n",
              "      <td>0</td>\n",
              "    </tr>\n",
              "  </tbody>\n",
              "</table>\n",
              "</div>"
            ],
            "text/plain": [
              "   calls  minutes  messages   mb_used  is_ultra\n",
              "0   40.0   311.90      83.0  19915.42         0\n",
              "1   85.0   516.75      56.0  22696.96         0\n",
              "2   77.0   467.66      86.0  21060.45         0\n",
              "3  106.0   745.53      81.0   8437.39         1\n",
              "4   66.0   418.74       1.0  14502.75         0\n",
              "5   58.0   344.56      21.0  15823.37         0\n",
              "6   57.0   431.64      20.0   3738.90         1\n",
              "7   15.0   132.40       6.0  21911.60         0\n",
              "8    7.0    43.39       3.0   2538.67         1\n",
              "9   90.0   665.41      38.0  17358.61         0"
            ]
          },
          "execution_count": 3,
          "metadata": {},
          "output_type": "execute_result"
        }
      ],
      "source": [
        "df.head(10) #выведем первые 10 строчек датафрейма"
      ]
    },
    {
      "cell_type": "code",
      "execution_count": null,
      "metadata": {
        "scrolled": true,
        "id": "H65WKPAD92Xt",
        "outputId": "ea698390-6093-4d4c-d396-b8a07061e22a"
      },
      "outputs": [
        {
          "name": "stdout",
          "output_type": "stream",
          "text": [
            "<class 'pandas.core.frame.DataFrame'>\n",
            "RangeIndex: 3214 entries, 0 to 3213\n",
            "Data columns (total 5 columns):\n",
            " #   Column    Non-Null Count  Dtype  \n",
            "---  ------    --------------  -----  \n",
            " 0   calls     3214 non-null   float64\n",
            " 1   minutes   3214 non-null   float64\n",
            " 2   messages  3214 non-null   float64\n",
            " 3   mb_used   3214 non-null   float64\n",
            " 4   is_ultra  3214 non-null   int64  \n",
            "dtypes: float64(4), int64(1)\n",
            "memory usage: 125.7 KB\n"
          ]
        }
      ],
      "source": [
        "df.info() #выведем основную информацию о датафрейме"
      ]
    },
    {
      "cell_type": "markdown",
      "metadata": {
        "id": "TAMXtDTY92Xu"
      },
      "source": [
        "**Вывод:** мы прочитали файл, посмотрели на данные, содержащиеся в нём, а также на основную информацию о нём. Предобработка данных не требуется, так как она уже была проведена ранее."
      ]
    },
    {
      "cell_type": "markdown",
      "metadata": {
        "id": "yDfoLwmY92Xu"
      },
      "source": [
        "## Разобьём данные на выборки"
      ]
    },
    {
      "cell_type": "markdown",
      "metadata": {
        "id": "6D4Kzohb92Xu"
      },
      "source": [
        "В данном исследовании спрятанной тестовой выборки нет. Значит, данные нужно разбить на три части: обучающую, валидационную и тестовую. Размеры тестового и валидационного наборов обычно равны. Разобьём исходные данные в соотношении 3:1:1."
      ]
    },
    {
      "cell_type": "code",
      "execution_count": null,
      "metadata": {
        "id": "kflplTs-92Xu"
      },
      "outputs": [],
      "source": [
        "features = df.drop(['is_ultra'], axis=1) #в качестве параметров передадим все столбцы, кроме 'is_ultra'\n",
        "target = df['is_ultra'] #в качестве целевого значения возьмём столбец 'is_ultra'"
      ]
    },
    {
      "cell_type": "markdown",
      "metadata": {
        "id": "teUFZQhI92Xu"
      },
      "source": [
        "Сначала разобьём данные на обучающую и тестовую выборку. features_train - обучающие параметры, features_test - тестовые параметры, target_train - обучающее целевое значение, target_test - тестовое целевое значение. Так как мы разбиваем данные в соотношении 60%-20%-20%, и сейчас мы отделяем тестовую выборку, в которую входит и валидационная, в параметр test_size мы передадим 0.2+0.2=0.4. Также зададим параметр псевдослучайных чисел random_state."
      ]
    },
    {
      "cell_type": "code",
      "execution_count": null,
      "metadata": {
        "id": "E-kDyWXL92Xu"
      },
      "outputs": [],
      "source": [
        "features_train, features_test, target_train, target_test = train_test_split(features,\n",
        "                                                                            target,\n",
        "                                                                            test_size=0.4,\n",
        "                                                                            random_state=12345\n",
        "                                                                           )"
      ]
    },
    {
      "cell_type": "markdown",
      "metadata": {
        "id": "1SpMDzqH92Xv"
      },
      "source": [
        "Посмотрим на размер обучающей выборки:"
      ]
    },
    {
      "cell_type": "code",
      "execution_count": null,
      "metadata": {
        "id": "TubQnAfc92Xv",
        "outputId": "af742f95-4733-49d9-ef8a-27dff9f66390"
      },
      "outputs": [
        {
          "name": "stdout",
          "output_type": "stream",
          "text": [
            "(1928, 4)\n",
            "(1928,)\n"
          ]
        }
      ],
      "source": [
        "print(features_train.shape)\n",
        "print(target_train.shape)"
      ]
    },
    {
      "cell_type": "markdown",
      "metadata": {
        "id": "VnU3cOV392Xv"
      },
      "source": [
        "Теперь разобьём тестовую часть выборки на тестовую и валидационную: в параметр test_size мы передадим 0.5, поскольку сейчас мы работаем с 40% исходных данных (features_test и target_test), и нам нужно разделить их пополам и получить изначальное сооношение 3:1:1."
      ]
    },
    {
      "cell_type": "code",
      "execution_count": null,
      "metadata": {
        "id": "JkhGt9WO92Xv"
      },
      "outputs": [],
      "source": [
        "features_valid, features_test, target_valid, target_test = train_test_split(features_test,\n",
        "                                                                            target_test,\n",
        "                                                                            test_size=0.5,\n",
        "                                                                            random_state=12345\n",
        "                                                                           )"
      ]
    },
    {
      "cell_type": "markdown",
      "metadata": {
        "id": "i2OIGfyp92Xv"
      },
      "source": [
        "Посмотрим на размеры валидационной выборки:"
      ]
    },
    {
      "cell_type": "code",
      "execution_count": null,
      "metadata": {
        "id": "vSLEAL8S92Xv",
        "outputId": "6a976499-bd46-450e-c8fa-9720ad3663a0"
      },
      "outputs": [
        {
          "name": "stdout",
          "output_type": "stream",
          "text": [
            "(643, 4)\n",
            "(643,)\n"
          ]
        }
      ],
      "source": [
        "print(features_valid.shape)\n",
        "print(target_valid.shape)"
      ]
    },
    {
      "cell_type": "markdown",
      "metadata": {
        "id": "ihAPDQvX92Xw"
      },
      "source": [
        "Посмотрим на размеры тестовой выборки:"
      ]
    },
    {
      "cell_type": "code",
      "execution_count": null,
      "metadata": {
        "id": "oPALfEz892Xw",
        "outputId": "4af04a87-5441-4aef-a99e-d074e05c1d31"
      },
      "outputs": [
        {
          "name": "stdout",
          "output_type": "stream",
          "text": [
            "(643, 4)\n",
            "(643,)\n"
          ]
        }
      ],
      "source": [
        "print(features_test.shape)\n",
        "print(target_test.shape)"
      ]
    },
    {
      "cell_type": "markdown",
      "metadata": {
        "id": "uq72PQj592Xw"
      },
      "source": [
        "Проверим, что сумма размеров получившихся выборок соответсвует размеру исходного датафрейма:"
      ]
    },
    {
      "cell_type": "code",
      "execution_count": null,
      "metadata": {
        "id": "mX3X39Av92Xw",
        "outputId": "64c4f456-1cb1-4a70-89b4-b8e1c8b0117f"
      },
      "outputs": [
        {
          "data": {
            "text/plain": [
              "3214"
            ]
          },
          "execution_count": 11,
          "metadata": {},
          "output_type": "execute_result"
        }
      ],
      "source": [
        "1928 + 643 * 2"
      ]
    },
    {
      "cell_type": "markdown",
      "metadata": {
        "id": "5g0jbisH92Xw"
      },
      "source": [
        "**Вывод:** мы разбили исходные данные на три выборки: обучающую, валидационную и тестовую - в соотношении 3:1:1. Мы разделили данные таким образом, потому что в данном исследовании спрятанной тестовой выборки нет."
      ]
    },
    {
      "cell_type": "markdown",
      "metadata": {
        "id": "vGxnM3ds92Xz"
      },
      "source": [
        "## Исследуем модели"
      ]
    },
    {
      "cell_type": "markdown",
      "metadata": {
        "id": "BIb5OxXU92Xz"
      },
      "source": [
        "Исследуем три модели с различными гиперпараметрами, чтобы увидеть, где точность будет выше всего, и выберем наиболее удачную модель."
      ]
    },
    {
      "cell_type": "markdown",
      "metadata": {
        "id": "Dp7mdmcw92Xz"
      },
      "source": [
        "### Решающее дерево"
      ]
    },
    {
      "cell_type": "code",
      "execution_count": null,
      "metadata": {
        "id": "ZVCAZqoR92X0",
        "outputId": "f021461e-d601-4424-dd7d-2501ed71362f"
      },
      "outputs": [
        {
          "name": "stdout",
          "output_type": "stream",
          "text": [
            "Лучшее значение max_depth: 3\n",
            "Лучшее значение accuracy: 0.7853810264385692\n"
          ]
        }
      ],
      "source": [
        "best_model_tree = None\n",
        "best_depth_tree = 0\n",
        "best_result_tree = 0\n",
        "for depth in range(1, 11):\n",
        "    model_tree = DecisionTreeClassifier(random_state=12345, max_depth = depth)\n",
        "    model_tree.fit(features_train, target_train)\n",
        "    predictions_valid_tree = model_tree.predict(features_valid)\n",
        "    result_tree = accuracy_score(predictions_valid_tree, target_valid)\n",
        "    if best_result_tree < result_tree:\n",
        "        best_model_tree = model_tree\n",
        "        best_depth_tree = depth\n",
        "        best_result_tree = result_tree\n",
        "\n",
        "print('Лучшее значение max_depth:', best_depth_tree)\n",
        "print('Лучшее значение accuracy:', best_result_tree)"
      ]
    },
    {
      "cell_type": "markdown",
      "metadata": {
        "id": "XlUN_AxF92X0"
      },
      "source": [
        "### Случайный лес"
      ]
    },
    {
      "cell_type": "code",
      "execution_count": null,
      "metadata": {
        "id": "l0-deQFM92X0",
        "outputId": "800a715f-f503-4665-dd97-f2409735d0d3"
      },
      "outputs": [
        {
          "name": "stdout",
          "output_type": "stream",
          "text": [
            "Лучшее значение n_estimators: 8\n",
            "Лучшее значение max_depth: 8\n",
            "Лучшее значение accuracy: 0.80248833592535\n"
          ]
        }
      ],
      "source": [
        "best_model_forest = None\n",
        "best_est_forest = 0\n",
        "best_depth_forest = 0\n",
        "best_result_forest = 0\n",
        "for est in range(1, 11):\n",
        "    for depth in range(1, 11):\n",
        "        model_forest = RandomForestClassifier(random_state=12345, n_estimators=est, max_depth = depth)\n",
        "        model_forest.fit(features_train, target_train)\n",
        "        predictions_valid_forest = model_forest.predict(features_valid)\n",
        "        result_forest = accuracy_score(predictions_valid_forest, target_valid)\n",
        "        if best_result_forest < result_forest:\n",
        "            best_model_forest = model_forest\n",
        "            best_est_forest = est\n",
        "            best_depth_forest = depth\n",
        "            best_result_forest = result_forest\n",
        "\n",
        "print('Лучшее значение n_estimators:', best_est_forest)\n",
        "print('Лучшее значение max_depth:', best_depth_forest)\n",
        "print('Лучшее значение accuracy:', best_result_forest)"
      ]
    },
    {
      "cell_type": "markdown",
      "metadata": {
        "id": "3VWDXfv_92X0"
      },
      "source": [
        "### Логистическая регрессия"
      ]
    },
    {
      "cell_type": "code",
      "execution_count": null,
      "metadata": {
        "id": "Dt7vzrUA92X0",
        "outputId": "99f297ff-76b8-47f4-e4ad-a78a35692e04"
      },
      "outputs": [
        {
          "name": "stdout",
          "output_type": "stream",
          "text": [
            "Значение accuracy: 0.7107309486780715\n"
          ]
        }
      ],
      "source": [
        "model_regr = LogisticRegression(random_state=12345, solver='lbfgs', max_iter=1000)\n",
        "model_regr.fit(features_train, target_train)\n",
        "predictions_valid_regr = model_regr.predict(features_valid)\n",
        "accuracy_regr = accuracy_score(predictions_valid_regr, target_valid)\n",
        "\n",
        "print('Значение accuracy:', accuracy_regr)"
      ]
    },
    {
      "cell_type": "markdown",
      "metadata": {
        "id": "MMAa7gDa92X0"
      },
      "source": [
        "**Вывод:** мы проверили три модели - решающее дерево, случайный лес и логистическую регрессию - и выяснили, что самое высокое значение accuracy (0.80248833592535) даёт **случайный лес** с гиперпараметрами n_estimators (количеством деревьев) и max_depth (глубиной дерева), равными 8. На втором месте значение accuracy (0.7853810264385692) у решающего дерева с гиперпараметром max_depth равным 3. На третьем месте значение accuracy (0.7107309486780715) у логистической регрессии. Следует выбрать модель случайного леса для проверки на тестовой выборке."
      ]
    },
    {
      "cell_type": "markdown",
      "metadata": {
        "id": "2N5HCe4O92X1"
      },
      "source": [
        "## Проверим модель на тестовой выборке"
      ]
    },
    {
      "cell_type": "markdown",
      "metadata": {
        "id": "tRJokw0k92X1"
      },
      "source": [
        "Проверим наиболее удачную модель случайного леса на тестовой выборке:"
      ]
    },
    {
      "cell_type": "code",
      "execution_count": null,
      "metadata": {
        "id": "LmrIIxkf92X1",
        "outputId": "217dbc28-42c7-4cd2-acc0-c954f1010960"
      },
      "outputs": [
        {
          "name": "stdout",
          "output_type": "stream",
          "text": [
            "Значение accuracy для тестовой модели: 0.7962674961119751\n"
          ]
        }
      ],
      "source": [
        "model_forest = RandomForestClassifier(random_state=12345, n_estimators = 8, max_depth = 8)\n",
        "model_forest.fit(features_train, target_train)\n",
        "predictions_test_forest = model_forest.predict(features_test)\n",
        "result_test_forest = accuracy_score(predictions_test_forest, target_test)\n",
        "print('Значение accuracy для тестовой модели:', result_test_forest)"
      ]
    },
    {
      "cell_type": "markdown",
      "metadata": {
        "id": "iI4iEg5h92X1"
      },
      "source": [
        "**Вывод:** мы проверили модель случайного леса на тестовой выборке и достигли значения accuracy 0.7962674961119751. Это значение выше порогового 0.75, поэтому можно сказать, что модель обучена успешно."
      ]
    },
    {
      "cell_type": "markdown",
      "metadata": {
        "id": "OZw9ddgf92X1"
      },
      "source": [
        "## Вывод"
      ]
    },
    {
      "cell_type": "markdown",
      "metadata": {
        "id": "ChCSb_B892X1"
      },
      "source": [
        "Мы изучили данные о поведении клиентов оператора мобильной связи «Мегалайн»:\n",
        "\n",
        "1) Изучили представленные данные. Предобработка для данных не требовалась, так как она уже была произведена заранее.\n",
        "\n",
        "2) Разбили данные на три выборки: обучающую, валидационную и тестовую - в соотношении 3:1:1. Мы разделили данные таким образом, потому что в данном исследовании спрятанной тестовой выборки нет.\n",
        "\n",
        "3) Проверили три модели - решающее дерево, случайный лес и логистическую регрессию - и выяснили, что самое высокое значение accuracy (0.80248833592535) даёт случайный лес с гиперпараметрами n_estimators (количеством деревьев) и max_depth (глубиной дерева), равными 8. На втором месте значение accuracy (0.7853810264385692) у решающего дерева с гиперпараметром max_depth равным 3. На третьем месте значение accuracy (0.7107309486780715) у логистической регрессии. На основании этого мы выбрали модель случайного леса для проверки на тестовой выборке.\n",
        "\n",
        "4) Проверили модель случайного леса на тестовой выборке и достигли значения accuracy 0.7962674961119751. Это значение выше порогового 0.75, поэтому можно сказать, что модель обучена успешно."
      ]
    }
  ],
  "metadata": {
    "ExecuteTimeLog": [
      {
        "duration": 466,
        "start_time": "2023-07-08T19:10:24.032Z"
      },
      {
        "duration": 132,
        "start_time": "2023-07-08T19:10:47.613Z"
      },
      {
        "duration": 21,
        "start_time": "2023-07-08T19:10:56.446Z"
      },
      {
        "duration": 11,
        "start_time": "2023-07-08T19:11:08.746Z"
      },
      {
        "duration": 732,
        "start_time": "2023-07-08T19:27:23.741Z"
      },
      {
        "duration": 3,
        "start_time": "2023-07-08T19:32:47.319Z"
      },
      {
        "duration": 5,
        "start_time": "2023-07-08T19:38:14.207Z"
      },
      {
        "duration": 5,
        "start_time": "2023-07-08T19:41:08.823Z"
      },
      {
        "duration": 4,
        "start_time": "2023-07-08T19:42:04.633Z"
      },
      {
        "duration": 6,
        "start_time": "2023-07-08T19:42:09.398Z"
      },
      {
        "duration": 3,
        "start_time": "2023-07-08T19:42:26.564Z"
      },
      {
        "duration": 3,
        "start_time": "2023-07-08T19:43:12.852Z"
      },
      {
        "duration": 4,
        "start_time": "2023-07-08T19:43:57.594Z"
      },
      {
        "duration": 5,
        "start_time": "2023-07-08T19:44:39.793Z"
      },
      {
        "duration": 3,
        "start_time": "2023-07-08T19:44:40.965Z"
      },
      {
        "duration": 5,
        "start_time": "2023-07-08T19:44:44.307Z"
      },
      {
        "duration": 3,
        "start_time": "2023-07-08T19:44:44.828Z"
      },
      {
        "duration": 3,
        "start_time": "2023-07-08T19:44:45.769Z"
      },
      {
        "duration": 4,
        "start_time": "2023-07-08T19:44:58.950Z"
      },
      {
        "duration": 2,
        "start_time": "2023-07-08T19:45:09.962Z"
      },
      {
        "duration": 39,
        "start_time": "2023-07-08T19:45:09.966Z"
      },
      {
        "duration": 10,
        "start_time": "2023-07-08T19:45:10.006Z"
      },
      {
        "duration": 21,
        "start_time": "2023-07-08T19:45:10.017Z"
      },
      {
        "duration": 3,
        "start_time": "2023-07-08T19:45:10.040Z"
      },
      {
        "duration": 14,
        "start_time": "2023-07-08T19:45:10.045Z"
      },
      {
        "duration": 18,
        "start_time": "2023-07-08T19:45:10.060Z"
      },
      {
        "duration": 10,
        "start_time": "2023-07-08T19:45:10.079Z"
      },
      {
        "duration": 17,
        "start_time": "2023-07-08T19:45:10.091Z"
      },
      {
        "duration": 6,
        "start_time": "2023-07-08T19:45:10.109Z"
      },
      {
        "duration": 19,
        "start_time": "2023-07-08T19:45:10.117Z"
      },
      {
        "duration": 267,
        "start_time": "2023-07-08T19:47:41.969Z"
      },
      {
        "duration": 62,
        "start_time": "2023-07-08T19:47:58.143Z"
      },
      {
        "duration": 4,
        "start_time": "2023-07-08T19:48:51.093Z"
      },
      {
        "duration": 63,
        "start_time": "2023-07-08T20:02:55.706Z"
      },
      {
        "duration": 1677,
        "start_time": "2023-07-08T20:08:25.177Z"
      },
      {
        "duration": 1534,
        "start_time": "2023-07-08T20:08:32.964Z"
      },
      {
        "duration": 1557,
        "start_time": "2023-07-08T20:09:40.743Z"
      },
      {
        "duration": 1509,
        "start_time": "2023-07-08T20:11:40.236Z"
      },
      {
        "duration": 22,
        "start_time": "2023-07-08T20:12:52.448Z"
      },
      {
        "duration": 59,
        "start_time": "2023-07-08T20:15:53.267Z"
      },
      {
        "duration": 1526,
        "start_time": "2023-07-08T20:16:06.328Z"
      },
      {
        "duration": 61,
        "start_time": "2023-07-08T20:20:11.974Z"
      },
      {
        "duration": 1641,
        "start_time": "2023-07-08T20:20:34.416Z"
      },
      {
        "duration": 35,
        "start_time": "2023-07-08T20:20:47.633Z"
      },
      {
        "duration": 29,
        "start_time": "2023-07-08T20:23:36.790Z"
      },
      {
        "duration": 29,
        "start_time": "2023-07-08T20:26:06.987Z"
      },
      {
        "duration": 31,
        "start_time": "2023-07-08T20:26:40.889Z"
      },
      {
        "duration": 29,
        "start_time": "2023-07-08T20:26:45.824Z"
      },
      {
        "duration": 67,
        "start_time": "2023-07-08T20:26:56.387Z"
      },
      {
        "duration": 1529,
        "start_time": "2023-07-08T20:27:03.888Z"
      },
      {
        "duration": 22,
        "start_time": "2023-07-08T20:27:12.046Z"
      },
      {
        "duration": 2448,
        "start_time": "2023-07-09T09:07:36.362Z"
      },
      {
        "duration": 63,
        "start_time": "2023-07-09T09:07:38.812Z"
      },
      {
        "duration": 16,
        "start_time": "2023-07-09T09:07:38.877Z"
      },
      {
        "duration": 23,
        "start_time": "2023-07-09T09:07:38.894Z"
      },
      {
        "duration": 16,
        "start_time": "2023-07-09T09:07:38.919Z"
      },
      {
        "duration": 33,
        "start_time": "2023-07-09T09:07:38.936Z"
      },
      {
        "duration": 8,
        "start_time": "2023-07-09T09:07:38.971Z"
      },
      {
        "duration": 12,
        "start_time": "2023-07-09T09:07:38.981Z"
      },
      {
        "duration": 6,
        "start_time": "2023-07-09T09:07:38.994Z"
      },
      {
        "duration": 14,
        "start_time": "2023-07-09T09:07:39.001Z"
      },
      {
        "duration": 31,
        "start_time": "2023-07-09T09:07:39.017Z"
      },
      {
        "duration": 81,
        "start_time": "2023-07-09T09:07:39.050Z"
      },
      {
        "duration": 1539,
        "start_time": "2023-07-09T09:07:39.133Z"
      },
      {
        "duration": 22,
        "start_time": "2023-07-09T09:07:40.674Z"
      },
      {
        "duration": 30,
        "start_time": "2023-07-09T09:07:40.697Z"
      }
    ],
    "kernelspec": {
      "display_name": "Python 3 (ipykernel)",
      "language": "python",
      "name": "python3"
    },
    "language_info": {
      "codemirror_mode": {
        "name": "ipython",
        "version": 3
      },
      "file_extension": ".py",
      "mimetype": "text/x-python",
      "name": "python",
      "nbconvert_exporter": "python",
      "pygments_lexer": "ipython3",
      "version": "3.9.5"
    },
    "toc": {
      "base_numbering": 1,
      "nav_menu": {
        "height": "175px",
        "width": "356px"
      },
      "number_sections": true,
      "sideBar": true,
      "skip_h1_title": true,
      "title_cell": "Table of Contents",
      "title_sidebar": "Contents",
      "toc_cell": false,
      "toc_position": {},
      "toc_section_display": true,
      "toc_window_display": true
    },
    "colab": {
      "provenance": []
    }
  },
  "nbformat": 4,
  "nbformat_minor": 0
}