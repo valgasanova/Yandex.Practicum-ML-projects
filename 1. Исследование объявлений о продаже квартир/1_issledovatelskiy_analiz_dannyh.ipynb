{
  "cells": [
    {
      "cell_type": "markdown",
      "metadata": {
        "id": "J-fmViHI1pfx"
      },
      "source": [
        "# Исследование объявлений о продаже квартир\n",
        "\n",
        "В вашем распоряжении данные сервиса Яндекс.Недвижимость — архив объявлений о продаже квартир в Санкт-Петербурге и соседних населённых пунктов за несколько лет. Нужно научиться определять рыночную стоимость объектов недвижимости. Ваша задача — установить параметры. Это позволит построить автоматизированную систему: она отследит аномалии и мошенническую деятельность.\n",
        "\n",
        "По каждой квартире на продажу доступны два вида данных. Первые вписаны пользователем, вторые — получены автоматически на основе картографических данных. Например, расстояние до центра, аэропорта, ближайшего парка и водоёма."
      ]
    },
    {
      "cell_type": "markdown",
      "metadata": {
        "id": "M1KV871J1pfy"
      },
      "source": [
        "### Откройте файл с данными и изучите общую информацию."
      ]
    },
    {
      "cell_type": "code",
      "execution_count": null,
      "metadata": {
        "id": "_O_llSwz1pfy"
      },
      "outputs": [],
      "source": [
        "import pandas as pd #импортируем pandas"
      ]
    },
    {
      "cell_type": "code",
      "execution_count": null,
      "metadata": {
        "scrolled": true,
        "id": "90cTpvVB1pfz",
        "outputId": "16ebdab9-9111-4be0-8f7f-9da17474cbc8"
      },
      "outputs": [
        {
          "data": {
            "text/html": [
              "<div>\n",
              "<style scoped>\n",
              "    .dataframe tbody tr th:only-of-type {\n",
              "        vertical-align: middle;\n",
              "    }\n",
              "\n",
              "    .dataframe tbody tr th {\n",
              "        vertical-align: top;\n",
              "    }\n",
              "\n",
              "    .dataframe thead th {\n",
              "        text-align: right;\n",
              "    }\n",
              "</style>\n",
              "<table border=\"1\" class=\"dataframe\">\n",
              "  <thead>\n",
              "    <tr style=\"text-align: right;\">\n",
              "      <th></th>\n",
              "      <th>total_images</th>\n",
              "      <th>last_price</th>\n",
              "      <th>total_area</th>\n",
              "      <th>first_day_exposition</th>\n",
              "      <th>rooms</th>\n",
              "      <th>ceiling_height</th>\n",
              "      <th>floors_total</th>\n",
              "      <th>living_area</th>\n",
              "      <th>floor</th>\n",
              "      <th>is_apartment</th>\n",
              "      <th>...</th>\n",
              "      <th>kitchen_area</th>\n",
              "      <th>balcony</th>\n",
              "      <th>locality_name</th>\n",
              "      <th>airports_nearest</th>\n",
              "      <th>cityCenters_nearest</th>\n",
              "      <th>parks_around3000</th>\n",
              "      <th>parks_nearest</th>\n",
              "      <th>ponds_around3000</th>\n",
              "      <th>ponds_nearest</th>\n",
              "      <th>days_exposition</th>\n",
              "    </tr>\n",
              "  </thead>\n",
              "  <tbody>\n",
              "    <tr>\n",
              "      <th>0</th>\n",
              "      <td>20</td>\n",
              "      <td>13000000.0</td>\n",
              "      <td>108.00</td>\n",
              "      <td>2019-03-07T00:00:00</td>\n",
              "      <td>3</td>\n",
              "      <td>2.70</td>\n",
              "      <td>16.0</td>\n",
              "      <td>51.00</td>\n",
              "      <td>8</td>\n",
              "      <td>NaN</td>\n",
              "      <td>...</td>\n",
              "      <td>25.00</td>\n",
              "      <td>NaN</td>\n",
              "      <td>Санкт-Петербург</td>\n",
              "      <td>18863.0</td>\n",
              "      <td>16028.0</td>\n",
              "      <td>1.0</td>\n",
              "      <td>482.0</td>\n",
              "      <td>2.0</td>\n",
              "      <td>755.0</td>\n",
              "      <td>NaN</td>\n",
              "    </tr>\n",
              "    <tr>\n",
              "      <th>1</th>\n",
              "      <td>7</td>\n",
              "      <td>3350000.0</td>\n",
              "      <td>40.40</td>\n",
              "      <td>2018-12-04T00:00:00</td>\n",
              "      <td>1</td>\n",
              "      <td>NaN</td>\n",
              "      <td>11.0</td>\n",
              "      <td>18.60</td>\n",
              "      <td>1</td>\n",
              "      <td>NaN</td>\n",
              "      <td>...</td>\n",
              "      <td>11.00</td>\n",
              "      <td>2.0</td>\n",
              "      <td>посёлок Шушары</td>\n",
              "      <td>12817.0</td>\n",
              "      <td>18603.0</td>\n",
              "      <td>0.0</td>\n",
              "      <td>NaN</td>\n",
              "      <td>0.0</td>\n",
              "      <td>NaN</td>\n",
              "      <td>81.0</td>\n",
              "    </tr>\n",
              "    <tr>\n",
              "      <th>2</th>\n",
              "      <td>10</td>\n",
              "      <td>5196000.0</td>\n",
              "      <td>56.00</td>\n",
              "      <td>2015-08-20T00:00:00</td>\n",
              "      <td>2</td>\n",
              "      <td>NaN</td>\n",
              "      <td>5.0</td>\n",
              "      <td>34.30</td>\n",
              "      <td>4</td>\n",
              "      <td>NaN</td>\n",
              "      <td>...</td>\n",
              "      <td>8.30</td>\n",
              "      <td>0.0</td>\n",
              "      <td>Санкт-Петербург</td>\n",
              "      <td>21741.0</td>\n",
              "      <td>13933.0</td>\n",
              "      <td>1.0</td>\n",
              "      <td>90.0</td>\n",
              "      <td>2.0</td>\n",
              "      <td>574.0</td>\n",
              "      <td>558.0</td>\n",
              "    </tr>\n",
              "    <tr>\n",
              "      <th>3</th>\n",
              "      <td>0</td>\n",
              "      <td>64900000.0</td>\n",
              "      <td>159.00</td>\n",
              "      <td>2015-07-24T00:00:00</td>\n",
              "      <td>3</td>\n",
              "      <td>NaN</td>\n",
              "      <td>14.0</td>\n",
              "      <td>NaN</td>\n",
              "      <td>9</td>\n",
              "      <td>NaN</td>\n",
              "      <td>...</td>\n",
              "      <td>NaN</td>\n",
              "      <td>0.0</td>\n",
              "      <td>Санкт-Петербург</td>\n",
              "      <td>28098.0</td>\n",
              "      <td>6800.0</td>\n",
              "      <td>2.0</td>\n",
              "      <td>84.0</td>\n",
              "      <td>3.0</td>\n",
              "      <td>234.0</td>\n",
              "      <td>424.0</td>\n",
              "    </tr>\n",
              "    <tr>\n",
              "      <th>4</th>\n",
              "      <td>2</td>\n",
              "      <td>10000000.0</td>\n",
              "      <td>100.00</td>\n",
              "      <td>2018-06-19T00:00:00</td>\n",
              "      <td>2</td>\n",
              "      <td>3.03</td>\n",
              "      <td>14.0</td>\n",
              "      <td>32.00</td>\n",
              "      <td>13</td>\n",
              "      <td>NaN</td>\n",
              "      <td>...</td>\n",
              "      <td>41.00</td>\n",
              "      <td>NaN</td>\n",
              "      <td>Санкт-Петербург</td>\n",
              "      <td>31856.0</td>\n",
              "      <td>8098.0</td>\n",
              "      <td>2.0</td>\n",
              "      <td>112.0</td>\n",
              "      <td>1.0</td>\n",
              "      <td>48.0</td>\n",
              "      <td>121.0</td>\n",
              "    </tr>\n",
              "    <tr>\n",
              "      <th>5</th>\n",
              "      <td>10</td>\n",
              "      <td>2890000.0</td>\n",
              "      <td>30.40</td>\n",
              "      <td>2018-09-10T00:00:00</td>\n",
              "      <td>1</td>\n",
              "      <td>NaN</td>\n",
              "      <td>12.0</td>\n",
              "      <td>14.40</td>\n",
              "      <td>5</td>\n",
              "      <td>NaN</td>\n",
              "      <td>...</td>\n",
              "      <td>9.10</td>\n",
              "      <td>NaN</td>\n",
              "      <td>городской посёлок Янино-1</td>\n",
              "      <td>NaN</td>\n",
              "      <td>NaN</td>\n",
              "      <td>NaN</td>\n",
              "      <td>NaN</td>\n",
              "      <td>NaN</td>\n",
              "      <td>NaN</td>\n",
              "      <td>55.0</td>\n",
              "    </tr>\n",
              "    <tr>\n",
              "      <th>6</th>\n",
              "      <td>6</td>\n",
              "      <td>3700000.0</td>\n",
              "      <td>37.30</td>\n",
              "      <td>2017-11-02T00:00:00</td>\n",
              "      <td>1</td>\n",
              "      <td>NaN</td>\n",
              "      <td>26.0</td>\n",
              "      <td>10.60</td>\n",
              "      <td>6</td>\n",
              "      <td>NaN</td>\n",
              "      <td>...</td>\n",
              "      <td>14.40</td>\n",
              "      <td>1.0</td>\n",
              "      <td>посёлок Парголово</td>\n",
              "      <td>52996.0</td>\n",
              "      <td>19143.0</td>\n",
              "      <td>0.0</td>\n",
              "      <td>NaN</td>\n",
              "      <td>0.0</td>\n",
              "      <td>NaN</td>\n",
              "      <td>155.0</td>\n",
              "    </tr>\n",
              "    <tr>\n",
              "      <th>7</th>\n",
              "      <td>5</td>\n",
              "      <td>7915000.0</td>\n",
              "      <td>71.60</td>\n",
              "      <td>2019-04-18T00:00:00</td>\n",
              "      <td>2</td>\n",
              "      <td>NaN</td>\n",
              "      <td>24.0</td>\n",
              "      <td>NaN</td>\n",
              "      <td>22</td>\n",
              "      <td>NaN</td>\n",
              "      <td>...</td>\n",
              "      <td>18.90</td>\n",
              "      <td>2.0</td>\n",
              "      <td>Санкт-Петербург</td>\n",
              "      <td>23982.0</td>\n",
              "      <td>11634.0</td>\n",
              "      <td>0.0</td>\n",
              "      <td>NaN</td>\n",
              "      <td>0.0</td>\n",
              "      <td>NaN</td>\n",
              "      <td>NaN</td>\n",
              "    </tr>\n",
              "    <tr>\n",
              "      <th>8</th>\n",
              "      <td>20</td>\n",
              "      <td>2900000.0</td>\n",
              "      <td>33.16</td>\n",
              "      <td>2018-05-23T00:00:00</td>\n",
              "      <td>1</td>\n",
              "      <td>NaN</td>\n",
              "      <td>27.0</td>\n",
              "      <td>15.43</td>\n",
              "      <td>26</td>\n",
              "      <td>NaN</td>\n",
              "      <td>...</td>\n",
              "      <td>8.81</td>\n",
              "      <td>NaN</td>\n",
              "      <td>посёлок Мурино</td>\n",
              "      <td>NaN</td>\n",
              "      <td>NaN</td>\n",
              "      <td>NaN</td>\n",
              "      <td>NaN</td>\n",
              "      <td>NaN</td>\n",
              "      <td>NaN</td>\n",
              "      <td>189.0</td>\n",
              "    </tr>\n",
              "    <tr>\n",
              "      <th>9</th>\n",
              "      <td>18</td>\n",
              "      <td>5400000.0</td>\n",
              "      <td>61.00</td>\n",
              "      <td>2017-02-26T00:00:00</td>\n",
              "      <td>3</td>\n",
              "      <td>2.50</td>\n",
              "      <td>9.0</td>\n",
              "      <td>43.60</td>\n",
              "      <td>7</td>\n",
              "      <td>NaN</td>\n",
              "      <td>...</td>\n",
              "      <td>6.50</td>\n",
              "      <td>2.0</td>\n",
              "      <td>Санкт-Петербург</td>\n",
              "      <td>50898.0</td>\n",
              "      <td>15008.0</td>\n",
              "      <td>0.0</td>\n",
              "      <td>NaN</td>\n",
              "      <td>0.0</td>\n",
              "      <td>NaN</td>\n",
              "      <td>289.0</td>\n",
              "    </tr>\n",
              "    <tr>\n",
              "      <th>10</th>\n",
              "      <td>5</td>\n",
              "      <td>5050000.0</td>\n",
              "      <td>39.60</td>\n",
              "      <td>2017-11-16T00:00:00</td>\n",
              "      <td>1</td>\n",
              "      <td>2.67</td>\n",
              "      <td>12.0</td>\n",
              "      <td>20.30</td>\n",
              "      <td>3</td>\n",
              "      <td>NaN</td>\n",
              "      <td>...</td>\n",
              "      <td>8.50</td>\n",
              "      <td>NaN</td>\n",
              "      <td>Санкт-Петербург</td>\n",
              "      <td>38357.0</td>\n",
              "      <td>13878.0</td>\n",
              "      <td>1.0</td>\n",
              "      <td>310.0</td>\n",
              "      <td>2.0</td>\n",
              "      <td>553.0</td>\n",
              "      <td>137.0</td>\n",
              "    </tr>\n",
              "    <tr>\n",
              "      <th>11</th>\n",
              "      <td>9</td>\n",
              "      <td>3300000.0</td>\n",
              "      <td>44.00</td>\n",
              "      <td>2018-08-27T00:00:00</td>\n",
              "      <td>2</td>\n",
              "      <td>NaN</td>\n",
              "      <td>5.0</td>\n",
              "      <td>31.00</td>\n",
              "      <td>4</td>\n",
              "      <td>False</td>\n",
              "      <td>...</td>\n",
              "      <td>6.00</td>\n",
              "      <td>1.0</td>\n",
              "      <td>Ломоносов</td>\n",
              "      <td>48252.0</td>\n",
              "      <td>51677.0</td>\n",
              "      <td>0.0</td>\n",
              "      <td>NaN</td>\n",
              "      <td>0.0</td>\n",
              "      <td>NaN</td>\n",
              "      <td>7.0</td>\n",
              "    </tr>\n",
              "    <tr>\n",
              "      <th>12</th>\n",
              "      <td>10</td>\n",
              "      <td>3890000.0</td>\n",
              "      <td>54.00</td>\n",
              "      <td>2016-06-30T00:00:00</td>\n",
              "      <td>2</td>\n",
              "      <td>NaN</td>\n",
              "      <td>5.0</td>\n",
              "      <td>30.00</td>\n",
              "      <td>5</td>\n",
              "      <td>NaN</td>\n",
              "      <td>...</td>\n",
              "      <td>9.00</td>\n",
              "      <td>0.0</td>\n",
              "      <td>Сертолово</td>\n",
              "      <td>NaN</td>\n",
              "      <td>NaN</td>\n",
              "      <td>NaN</td>\n",
              "      <td>NaN</td>\n",
              "      <td>NaN</td>\n",
              "      <td>NaN</td>\n",
              "      <td>90.0</td>\n",
              "    </tr>\n",
              "    <tr>\n",
              "      <th>13</th>\n",
              "      <td>20</td>\n",
              "      <td>3550000.0</td>\n",
              "      <td>42.80</td>\n",
              "      <td>2017-07-01T00:00:00</td>\n",
              "      <td>2</td>\n",
              "      <td>2.56</td>\n",
              "      <td>5.0</td>\n",
              "      <td>27.00</td>\n",
              "      <td>5</td>\n",
              "      <td>NaN</td>\n",
              "      <td>...</td>\n",
              "      <td>5.20</td>\n",
              "      <td>1.0</td>\n",
              "      <td>Петергоф</td>\n",
              "      <td>37868.0</td>\n",
              "      <td>33058.0</td>\n",
              "      <td>1.0</td>\n",
              "      <td>294.0</td>\n",
              "      <td>3.0</td>\n",
              "      <td>298.0</td>\n",
              "      <td>366.0</td>\n",
              "    </tr>\n",
              "    <tr>\n",
              "      <th>14</th>\n",
              "      <td>1</td>\n",
              "      <td>4400000.0</td>\n",
              "      <td>36.00</td>\n",
              "      <td>2016-06-23T00:00:00</td>\n",
              "      <td>1</td>\n",
              "      <td>NaN</td>\n",
              "      <td>6.0</td>\n",
              "      <td>17.00</td>\n",
              "      <td>1</td>\n",
              "      <td>NaN</td>\n",
              "      <td>...</td>\n",
              "      <td>8.00</td>\n",
              "      <td>0.0</td>\n",
              "      <td>Пушкин</td>\n",
              "      <td>20782.0</td>\n",
              "      <td>30759.0</td>\n",
              "      <td>0.0</td>\n",
              "      <td>NaN</td>\n",
              "      <td>1.0</td>\n",
              "      <td>96.0</td>\n",
              "      <td>203.0</td>\n",
              "    </tr>\n",
              "  </tbody>\n",
              "</table>\n",
              "<p>15 rows × 22 columns</p>\n",
              "</div>"
            ],
            "text/plain": [
              "    total_images  last_price  total_area first_day_exposition  rooms  \\\n",
              "0             20  13000000.0      108.00  2019-03-07T00:00:00      3   \n",
              "1              7   3350000.0       40.40  2018-12-04T00:00:00      1   \n",
              "2             10   5196000.0       56.00  2015-08-20T00:00:00      2   \n",
              "3              0  64900000.0      159.00  2015-07-24T00:00:00      3   \n",
              "4              2  10000000.0      100.00  2018-06-19T00:00:00      2   \n",
              "5             10   2890000.0       30.40  2018-09-10T00:00:00      1   \n",
              "6              6   3700000.0       37.30  2017-11-02T00:00:00      1   \n",
              "7              5   7915000.0       71.60  2019-04-18T00:00:00      2   \n",
              "8             20   2900000.0       33.16  2018-05-23T00:00:00      1   \n",
              "9             18   5400000.0       61.00  2017-02-26T00:00:00      3   \n",
              "10             5   5050000.0       39.60  2017-11-16T00:00:00      1   \n",
              "11             9   3300000.0       44.00  2018-08-27T00:00:00      2   \n",
              "12            10   3890000.0       54.00  2016-06-30T00:00:00      2   \n",
              "13            20   3550000.0       42.80  2017-07-01T00:00:00      2   \n",
              "14             1   4400000.0       36.00  2016-06-23T00:00:00      1   \n",
              "\n",
              "    ceiling_height  floors_total  living_area  floor is_apartment  ...  \\\n",
              "0             2.70          16.0        51.00      8          NaN  ...   \n",
              "1              NaN          11.0        18.60      1          NaN  ...   \n",
              "2              NaN           5.0        34.30      4          NaN  ...   \n",
              "3              NaN          14.0          NaN      9          NaN  ...   \n",
              "4             3.03          14.0        32.00     13          NaN  ...   \n",
              "5              NaN          12.0        14.40      5          NaN  ...   \n",
              "6              NaN          26.0        10.60      6          NaN  ...   \n",
              "7              NaN          24.0          NaN     22          NaN  ...   \n",
              "8              NaN          27.0        15.43     26          NaN  ...   \n",
              "9             2.50           9.0        43.60      7          NaN  ...   \n",
              "10            2.67          12.0        20.30      3          NaN  ...   \n",
              "11             NaN           5.0        31.00      4        False  ...   \n",
              "12             NaN           5.0        30.00      5          NaN  ...   \n",
              "13            2.56           5.0        27.00      5          NaN  ...   \n",
              "14             NaN           6.0        17.00      1          NaN  ...   \n",
              "\n",
              "    kitchen_area  balcony              locality_name  airports_nearest  \\\n",
              "0          25.00      NaN            Санкт-Петербург           18863.0   \n",
              "1          11.00      2.0             посёлок Шушары           12817.0   \n",
              "2           8.30      0.0            Санкт-Петербург           21741.0   \n",
              "3            NaN      0.0            Санкт-Петербург           28098.0   \n",
              "4          41.00      NaN            Санкт-Петербург           31856.0   \n",
              "5           9.10      NaN  городской посёлок Янино-1               NaN   \n",
              "6          14.40      1.0          посёлок Парголово           52996.0   \n",
              "7          18.90      2.0            Санкт-Петербург           23982.0   \n",
              "8           8.81      NaN             посёлок Мурино               NaN   \n",
              "9           6.50      2.0            Санкт-Петербург           50898.0   \n",
              "10          8.50      NaN            Санкт-Петербург           38357.0   \n",
              "11          6.00      1.0                  Ломоносов           48252.0   \n",
              "12          9.00      0.0                  Сертолово               NaN   \n",
              "13          5.20      1.0                   Петергоф           37868.0   \n",
              "14          8.00      0.0                     Пушкин           20782.0   \n",
              "\n",
              "   cityCenters_nearest  parks_around3000  parks_nearest  ponds_around3000  \\\n",
              "0              16028.0               1.0          482.0               2.0   \n",
              "1              18603.0               0.0            NaN               0.0   \n",
              "2              13933.0               1.0           90.0               2.0   \n",
              "3               6800.0               2.0           84.0               3.0   \n",
              "4               8098.0               2.0          112.0               1.0   \n",
              "5                  NaN               NaN            NaN               NaN   \n",
              "6              19143.0               0.0            NaN               0.0   \n",
              "7              11634.0               0.0            NaN               0.0   \n",
              "8                  NaN               NaN            NaN               NaN   \n",
              "9              15008.0               0.0            NaN               0.0   \n",
              "10             13878.0               1.0          310.0               2.0   \n",
              "11             51677.0               0.0            NaN               0.0   \n",
              "12                 NaN               NaN            NaN               NaN   \n",
              "13             33058.0               1.0          294.0               3.0   \n",
              "14             30759.0               0.0            NaN               1.0   \n",
              "\n",
              "    ponds_nearest  days_exposition  \n",
              "0           755.0              NaN  \n",
              "1             NaN             81.0  \n",
              "2           574.0            558.0  \n",
              "3           234.0            424.0  \n",
              "4            48.0            121.0  \n",
              "5             NaN             55.0  \n",
              "6             NaN            155.0  \n",
              "7             NaN              NaN  \n",
              "8             NaN            189.0  \n",
              "9             NaN            289.0  \n",
              "10          553.0            137.0  \n",
              "11            NaN              7.0  \n",
              "12            NaN             90.0  \n",
              "13          298.0            366.0  \n",
              "14           96.0            203.0  \n",
              "\n",
              "[15 rows x 22 columns]"
            ]
          },
          "execution_count": 2,
          "metadata": {},
          "output_type": "execute_result"
        }
      ],
      "source": [
        "data = pd.read_csv('/datasets/real_estate_data.csv', sep='\\t') #читаем датасет, указываем, что разделитель - \"\\t\", и записываем датасет в переменную data\n",
        "data.head(15) #выводим на экран первые 15 строк датасета, чтобы ознакомиться с данными"
      ]
    },
    {
      "cell_type": "code",
      "execution_count": null,
      "metadata": {
        "id": "EXbUDVmf1pf0",
        "outputId": "287fbdaf-7b98-4916-d5bf-eb82e1031390"
      },
      "outputs": [
        {
          "name": "stdout",
          "output_type": "stream",
          "text": [
            "<class 'pandas.core.frame.DataFrame'>\n",
            "RangeIndex: 23699 entries, 0 to 23698\n",
            "Data columns (total 22 columns):\n",
            " #   Column                Non-Null Count  Dtype  \n",
            "---  ------                --------------  -----  \n",
            " 0   total_images          23699 non-null  int64  \n",
            " 1   last_price            23699 non-null  float64\n",
            " 2   total_area            23699 non-null  float64\n",
            " 3   first_day_exposition  23699 non-null  object \n",
            " 4   rooms                 23699 non-null  int64  \n",
            " 5   ceiling_height        14504 non-null  float64\n",
            " 6   floors_total          23613 non-null  float64\n",
            " 7   living_area           21796 non-null  float64\n",
            " 8   floor                 23699 non-null  int64  \n",
            " 9   is_apartment          2775 non-null   object \n",
            " 10  studio                23699 non-null  bool   \n",
            " 11  open_plan             23699 non-null  bool   \n",
            " 12  kitchen_area          21421 non-null  float64\n",
            " 13  balcony               12180 non-null  float64\n",
            " 14  locality_name         23650 non-null  object \n",
            " 15  airports_nearest      18157 non-null  float64\n",
            " 16  cityCenters_nearest   18180 non-null  float64\n",
            " 17  parks_around3000      18181 non-null  float64\n",
            " 18  parks_nearest         8079 non-null   float64\n",
            " 19  ponds_around3000      18181 non-null  float64\n",
            " 20  ponds_nearest         9110 non-null   float64\n",
            " 21  days_exposition       20518 non-null  float64\n",
            "dtypes: bool(2), float64(14), int64(3), object(3)\n",
            "memory usage: 3.7+ MB\n"
          ]
        }
      ],
      "source": [
        "data.info() #выведем общую информацию о датасете и узнаем общее количество столбцов и строк, посмотрим на типы данных и наличие/количество пропусков"
      ]
    },
    {
      "cell_type": "code",
      "execution_count": null,
      "metadata": {
        "id": "j60DYZhJ1pf0",
        "outputId": "1a9a9cec-431f-4a78-9e91-81c18a669ddb"
      },
      "outputs": [
        {
          "data": {
            "text/plain": [
              "0"
            ]
          },
          "execution_count": 4,
          "metadata": {},
          "output_type": "execute_result"
        }
      ],
      "source": [
        "data.duplicated().sum() #проверим, есть ли в датасете явные дубликаты"
      ]
    },
    {
      "cell_type": "code",
      "execution_count": null,
      "metadata": {
        "id": "p7PBOr7l1pf1",
        "outputId": "679af823-bc24-4652-cc3a-a41496699c31"
      },
      "outputs": [
        {
          "data": {
            "image/png": "[encoded data removed]",
            "text/plain": [
              "<Figure size 1080x1440 with 20 Axes>"
            ]
          },
          "metadata": {
            "needs_background": "light"
          },
          "output_type": "display_data"
        }
      ],
      "source": [
        "data.hist(figsize=(15, 20)); #построим гистограммы для всех числовых столбцов датафрейма"
      ]
    },
    {
      "cell_type": "markdown",
      "metadata": {
        "id": "3bN8nqo31pf1"
      },
      "source": [
        "**Вывод:** мы ознакомились с датасетом и основной информацией о нём; установили, что явных дубликатов в датасете нет; построили гистограммы для всех числовых столбцов датафрейма.  "
      ]
    },
    {
      "cell_type": "markdown",
      "metadata": {
        "id": "3VyGvvw91pf1"
      },
      "source": [
        "### Предобработка данных"
      ]
    },
    {
      "cell_type": "markdown",
      "metadata": {
        "id": "xYU_VQaR1pf1"
      },
      "source": [
        "**2.1 Работа с пропусками**"
      ]
    },
    {
      "cell_type": "code",
      "execution_count": null,
      "metadata": {
        "id": "0W4YptTs1pf1",
        "outputId": "adcdf291-b0fa-40e7-8fc6-26fa44e57b33"
      },
      "outputs": [
        {
          "data": {
            "text/plain": [
              "total_images                0\n",
              "open_plan                   0\n",
              "floor                       0\n",
              "rooms                       0\n",
              "studio                      0\n",
              "total_area                  0\n",
              "last_price                  0\n",
              "first_day_exposition        0\n",
              "locality_name              49\n",
              "floors_total               86\n",
              "living_area              1903\n",
              "kitchen_area             2278\n",
              "days_exposition          3181\n",
              "ponds_around3000         5518\n",
              "parks_around3000         5518\n",
              "cityCenters_nearest      5519\n",
              "airports_nearest         5542\n",
              "ceiling_height           9195\n",
              "balcony                 11519\n",
              "ponds_nearest           14589\n",
              "parks_nearest           15620\n",
              "is_apartment            20924\n",
              "dtype: int64"
            ]
          },
          "execution_count": 6,
          "metadata": {},
          "output_type": "execute_result"
        }
      ],
      "source": [
        "data.isna().sum().sort_values() #посчитаем количество строк с пропусками в каждом столбце"
      ]
    },
    {
      "cell_type": "markdown",
      "metadata": {
        "id": "QsVFx9FY1pf2"
      },
      "source": [
        "Первый столбец с пропусками - ceiling_height (высота потолков). В этом столбце более 9000 пропусков - почти 38%. Обычно высота потолков варьируется от 2,5 до 3,5-4 м. Заполним пропуски медианным значением - оно меньше всего подвержено выбросам."
      ]
    },
    {
      "cell_type": "code",
      "execution_count": null,
      "metadata": {
        "id": "U_9og_9B1pf2"
      },
      "outputs": [],
      "source": [
        "data['ceiling_height'] = data['ceiling_height'].fillna(data['ceiling_height'].median()) #заполняем пропуски медианным значением столбца"
      ]
    },
    {
      "cell_type": "markdown",
      "metadata": {
        "id": "7NK5jKFS1pf2"
      },
      "source": [
        "В floors_total (общее количество этажей в доме) всего 86 пропусков (0,4%), в locality_name - 49 пропусков (0,2%). Так как количество пропусков мнимальное, и данные не исказятся, удалим эти строки."
      ]
    },
    {
      "cell_type": "code",
      "execution_count": null,
      "metadata": {
        "id": "DlS_x2kQ1pf2"
      },
      "outputs": [],
      "source": [
        "data = data.dropna(subset=['floors_total', 'locality_name'])"
      ]
    },
    {
      "cell_type": "markdown",
      "metadata": {
        "id": "BFthC7AD1pf2"
      },
      "source": [
        "В living_area (жилая площадь) 1909 пропусков, в kitchen_area (площадь кухни) - 2278. Эти данные понадобятся нам для дальнейшего исследования. Узнаем медианное отношение площади кухни и жилой площади к общей площади соответственно, а затем заполним пропуски произведением медианного отношения и общей площади."
      ]
    },
    {
      "cell_type": "code",
      "execution_count": null,
      "metadata": {
        "id": "QWaFdstm1pf2",
        "outputId": "cec12675-b584-4f6b-f7d6-61f3a5139c66"
      },
      "outputs": [
        {
          "name": "stdout",
          "output_type": "stream",
          "text": [
            "0.1723625557206538\n",
            "0.568210015790661\n"
          ]
        }
      ],
      "source": [
        "print((data['kitchen_area'] / data['total_area']).median()) #вычисляем медианное отношение площади кухни к общей площади\n",
        "print((data['living_area'] / data['total_area']).median()) #вычисляем медианное отношение жилой площади к общей площади"
      ]
    },
    {
      "cell_type": "code",
      "execution_count": null,
      "metadata": {
        "id": "LY9-iukG1pf2"
      },
      "outputs": [],
      "source": [
        "data['kitchen_area'] = data['kitchen_area'].fillna(data['total_area'] * 0.17) #заполняем пропуски произведением медианного отношения и общей площади\n",
        "data['living_area'] = data['living_area'].fillna(data['total_area'] * 0.57)"
      ]
    },
    {
      "cell_type": "markdown",
      "metadata": {
        "id": "RSwc8cNW1pf3"
      },
      "source": [
        "В is_apartment (является ли квартира апартаментами) огромное количество пропусков. Скорее всего, все они означают, что квартира - не апартаменты. Заменим все пропуски на False."
      ]
    },
    {
      "cell_type": "code",
      "execution_count": null,
      "metadata": {
        "id": "LA8wbnUw1pf3"
      },
      "outputs": [],
      "source": [
        "data['is_apartment'] = data['is_apartment'].fillna(False) #заполняем пропуски на False"
      ]
    },
    {
      "cell_type": "markdown",
      "metadata": {
        "id": "2KIopv_B1pf5"
      },
      "source": [
        "В balcony (количество балконов) также большое количество пропусков, которое свидетельствует о том, что в квартире балкона нет. Заменим все пропуски на 0."
      ]
    },
    {
      "cell_type": "code",
      "execution_count": null,
      "metadata": {
        "id": "I3fIw0_g1pf5"
      },
      "outputs": [],
      "source": [
        "data['balcony'] = data['balcony'].fillna(0) #заполняем пропуски нулем"
      ]
    },
    {
      "cell_type": "markdown",
      "metadata": {
        "id": "Ke72mROc1pf6"
      },
      "source": [
        "В airports_nearest (расстояние до ближайшего аэропорта) и cityCenters_nearest (расстояние до центра Санкт-Петербурга) приблизительно одинаковое количество пропусков. Чаще всего эти значения пропущены для населённых пунктов вне Санкт-Петербурга и, скорее всего, не заполнялись. Оставим эти пропуски, так как сложно предположить логичную замену для них из-за слишком большого разброса данных."
      ]
    },
    {
      "cell_type": "markdown",
      "metadata": {
        "id": "CmFO3MtS1pf6"
      },
      "source": [
        "В parks_around3000 (наличие парка в радиусе 3 км) и ponds_around3000 (наличие пруда в радиусе 3 км) пропуски, скорее всего, означают, что таких объектов поблизости нет, поэтому можем заменить пропуски на 0."
      ]
    },
    {
      "cell_type": "code",
      "execution_count": null,
      "metadata": {
        "id": "5EPEX8oX1pf6"
      },
      "outputs": [],
      "source": [
        "data['parks_around3000'] = data['parks_around3000'].fillna(0) #заполняем пропуски нулем\n",
        "data['ponds_around3000'] = data['ponds_around3000'].fillna(0)"
      ]
    },
    {
      "cell_type": "markdown",
      "metadata": {
        "id": "WIvgUdY11pf6"
      },
      "source": [
        "В parks_nearest (расстояние до ближайшего парка) и ponds_nearest (расстояние до ближайшего пруда) также огромное количество пропусков. Пропуски тут, скорее всего, означают, что парков и прудов поблизости нет, или данные просто не заполнялись. Также оставим пропуски, так как сложно предположить логичную замену для них."
      ]
    },
    {
      "cell_type": "markdown",
      "metadata": {
        "id": "hErW2hZ_1pf6"
      },
      "source": [
        "Последний стобец с пропусками - days_exposition (сколько дней было размещено объявление). Оставим эти пропуски, так как сложно предположить логичную замену для них из-за слишком большого разброса данных и зависимости от других факторов - недвижимость может долго не продаваться из-за высокой цены, плохого состояния, неудачного расположения и так далее."
      ]
    },
    {
      "cell_type": "code",
      "execution_count": null,
      "metadata": {
        "scrolled": true,
        "id": "oTWMb7nv1pf6",
        "outputId": "4693d74a-7995-42e3-c829-8a4e5f97f1fa"
      },
      "outputs": [
        {
          "data": {
            "text/plain": [
              "total_images                0\n",
              "last_price                  0\n",
              "total_area                  0\n",
              "first_day_exposition        0\n",
              "rooms                       0\n",
              "ceiling_height              0\n",
              "floors_total                0\n",
              "living_area                 0\n",
              "floor                       0\n",
              "is_apartment                0\n",
              "studio                      0\n",
              "open_plan                   0\n",
              "kitchen_area                0\n",
              "balcony                     0\n",
              "locality_name               0\n",
              "airports_nearest         5524\n",
              "cityCenters_nearest      5501\n",
              "parks_around3000            0\n",
              "parks_nearest           15535\n",
              "ponds_around3000            0\n",
              "ponds_nearest           14529\n",
              "days_exposition          3171\n",
              "dtype: int64"
            ]
          },
          "execution_count": 14,
          "metadata": {},
          "output_type": "execute_result"
        }
      ],
      "source": [
        "data.isna().sum() #снова посчитаем количество строк с пропусками в каждом столбце, чтобы убедиться,\n",
        "#что не осталось пропусков в тех столбцах, где мы их заменяли"
      ]
    },
    {
      "cell_type": "markdown",
      "metadata": {
        "id": "19Bf0IsZ1pf6"
      },
      "source": [
        "**Вывод:** мы заполнили пропуски в тех столбцах, где это представлялось возможным.\n",
        "Скорее всего, все эти пропуски обусловлены тем, что эти поля были необязательными для заполнения, и часто пользователи пропускали их при подаче объявления. Также в некоторых столбцах (balcony, is_apartment, parks_around3000, ponds_around3000) пропуски предположительно означают \"нет\" или отсутствие."
      ]
    },
    {
      "cell_type": "markdown",
      "metadata": {
        "id": "3UJq-zmO1pf6"
      },
      "source": [
        "**2.2 Работа с типами данных**"
      ]
    },
    {
      "cell_type": "code",
      "execution_count": null,
      "metadata": {
        "id": "jIKzu7Dr1pf7"
      },
      "outputs": [],
      "source": [
        "data['first_day_exposition'] = pd.to_datetime(data['first_day_exposition'], format='%Y-%m-%dT%H:%M:%S') #меняем тип с object на datetime\n",
        "data['is_apartment'] = data['is_apartment'].astype('bool') #меняем тип с object на bool\n",
        "data['balcony'] = data['balcony'].astype('int') #здесь и далее меняем тип с float на int\n",
        "data['parks_around3000'] = data['parks_around3000'].astype('int')\n",
        "data['ponds_around3000'] = data['ponds_around3000'].astype('int')\n",
        "data['floors_total'] = data['floors_total'].astype('int')"
      ]
    },
    {
      "cell_type": "code",
      "execution_count": null,
      "metadata": {
        "id": "tu6tx-Bh1pf7",
        "outputId": "b63abb25-e37c-4f24-94e6-4fbd898aec0b"
      },
      "outputs": [
        {
          "name": "stdout",
          "output_type": "stream",
          "text": [
            "<class 'pandas.core.frame.DataFrame'>\n",
            "Int64Index: 23565 entries, 0 to 23698\n",
            "Data columns (total 22 columns):\n",
            " #   Column                Non-Null Count  Dtype         \n",
            "---  ------                --------------  -----         \n",
            " 0   total_images          23565 non-null  int64         \n",
            " 1   last_price            23565 non-null  float64       \n",
            " 2   total_area            23565 non-null  float64       \n",
            " 3   first_day_exposition  23565 non-null  datetime64[ns]\n",
            " 4   rooms                 23565 non-null  int64         \n",
            " 5   ceiling_height        23565 non-null  float64       \n",
            " 6   floors_total          23565 non-null  int64         \n",
            " 7   living_area           23565 non-null  float64       \n",
            " 8   floor                 23565 non-null  int64         \n",
            " 9   is_apartment          23565 non-null  bool          \n",
            " 10  studio                23565 non-null  bool          \n",
            " 11  open_plan             23565 non-null  bool          \n",
            " 12  kitchen_area          23565 non-null  float64       \n",
            " 13  balcony               23565 non-null  int64         \n",
            " 14  locality_name         23565 non-null  object        \n",
            " 15  airports_nearest      18041 non-null  float64       \n",
            " 16  cityCenters_nearest   18064 non-null  float64       \n",
            " 17  parks_around3000      23565 non-null  int64         \n",
            " 18  parks_nearest         8030 non-null   float64       \n",
            " 19  ponds_around3000      23565 non-null  int64         \n",
            " 20  ponds_nearest         9036 non-null   float64       \n",
            " 21  days_exposition       20394 non-null  float64       \n",
            "dtypes: bool(3), datetime64[ns](1), float64(10), int64(7), object(1)\n",
            "memory usage: 3.7+ MB\n"
          ]
        }
      ],
      "source": [
        "data.info() #выведем общую информацию, чтобы убедиться, что типы данных были изменены успешно"
      ]
    },
    {
      "cell_type": "markdown",
      "metadata": {
        "id": "sHA4fQ9n1pf7"
      },
      "source": [
        "**Вывод:** мы изменили тип данных некоторых столбцов для удобства работы и более корректного отображения данных. Так, мы изменили тип данных в first_day_exposition с object (строка) на datetime (формат даты и времени), чтобы впоследствии корректно производить операции с датой публикации. В is_apartment мы изменили тип с object (строка) на bool (булев тип), так как в этом столбце содержатся True и False, характерные для булева типа данных. В столбцах balcony, floors_total, parks_around3000 и ponds_around3000 мы изменили тип с float (число с плавающей точкой) на int (целое число), так как в этих столбцах содержатся только целочисленные значения - в квартире не может быть 2,5 балкона, а поблизости не может находиться 1,8 парка. Для days_exposition изменить тип не представляется возможным, так как в этом столбце остались пропуски."
      ]
    },
    {
      "cell_type": "markdown",
      "metadata": {
        "id": "ZR-fXuvi1pf7"
      },
      "source": [
        "**2.3 Устранение неявных дубликатов**"
      ]
    },
    {
      "cell_type": "code",
      "execution_count": null,
      "metadata": {
        "scrolled": true,
        "id": "_GB4ICr01pf7",
        "outputId": "e4951e8c-7bb1-4fc2-d713-a5cea31ed995"
      },
      "outputs": [
        {
          "data": {
            "text/plain": [
              "array(['Санкт-Петербург', 'посёлок Шушары', 'городской посёлок Янино-1',\n",
              "       'посёлок Парголово', 'посёлок Мурино', 'Ломоносов', 'Сертолово',\n",
              "       'Петергоф', 'Пушкин', 'деревня Кудрово', 'Коммунар', 'Колпино',\n",
              "       'поселок городского типа Красный Бор', 'Гатчина', 'поселок Мурино',\n",
              "       'деревня Фёдоровское', 'Выборг', 'Кронштадт', 'Кировск',\n",
              "       'деревня Новое Девяткино', 'посёлок Металлострой',\n",
              "       'посёлок городского типа Лебяжье',\n",
              "       'посёлок городского типа Сиверский', 'поселок Молодцово',\n",
              "       'поселок городского типа Кузьмоловский',\n",
              "       'садовое товарищество Новая Ропша', 'Павловск',\n",
              "       'деревня Пикколово', 'Всеволожск', 'Волхов', 'Кингисепп',\n",
              "       'Приозерск', 'Сестрорецк', 'деревня Куттузи', 'посёлок Аннино',\n",
              "       'поселок городского типа Ефимовский', 'посёлок Плодовое',\n",
              "       'деревня Заклинье', 'поселок Торковичи', 'поселок Первомайское',\n",
              "       'Красное Село', 'посёлок Понтонный', 'Сясьстрой', 'деревня Старая',\n",
              "       'деревня Лесколово', 'посёлок Новый Свет', 'Сланцы',\n",
              "       'село Путилово', 'Ивангород', 'Мурино', 'Шлиссельбург',\n",
              "       'Никольское', 'Зеленогорск', 'Сосновый Бор', 'поселок Новый Свет',\n",
              "       'деревня Оржицы', 'деревня Кальтино', 'Кудрово',\n",
              "       'поселок Романовка', 'посёлок Бугры', 'поселок Бугры',\n",
              "       'поселок городского типа Рощино', 'Кириши', 'Луга', 'Волосово',\n",
              "       'Отрадное', 'село Павлово', 'поселок Оредеж', 'село Копорье',\n",
              "       'посёлок городского типа Красный Бор', 'посёлок Молодёжное',\n",
              "       'Тихвин', 'посёлок Победа', 'деревня Нурма',\n",
              "       'поселок городского типа Синявино', 'Тосно',\n",
              "       'посёлок городского типа Кузьмоловский', 'посёлок Стрельна',\n",
              "       'Бокситогорск', 'посёлок Александровская', 'деревня Лопухинка',\n",
              "       'Пикалёво', 'поселок Терволово',\n",
              "       'поселок городского типа Советский', 'Подпорожье',\n",
              "       'посёлок Петровское', 'посёлок городского типа Токсово',\n",
              "       'поселок Сельцо', 'посёлок городского типа Вырица',\n",
              "       'деревня Кипень', 'деревня Келози', 'деревня Вартемяги',\n",
              "       'посёлок Тельмана', 'поселок Севастьяново',\n",
              "       'городской поселок Большая Ижора', 'городской посёлок Павлово',\n",
              "       'деревня Агалатово', 'посёлок Новогорелово',\n",
              "       'городской посёлок Лесогорский', 'деревня Лаголово',\n",
              "       'поселок Цвелодубово', 'поселок городского типа Рахья',\n",
              "       'поселок городского типа Вырица', 'деревня Белогорка',\n",
              "       'поселок Заводской', 'городской посёлок Новоселье',\n",
              "       'деревня Большие Колпаны', 'деревня Горбунки', 'деревня Батово',\n",
              "       'деревня Заневка', 'деревня Иссад', 'Приморск',\n",
              "       'городской посёлок Фёдоровское', 'деревня Мистолово',\n",
              "       'Новая Ладога', 'поселок Зимитицы', 'поселок Барышево',\n",
              "       'деревня Разметелево', 'поселок городского типа имени Свердлова',\n",
              "       'деревня Пеники', 'поселок Рябово', 'деревня Пудомяги',\n",
              "       'поселок станции Корнево', 'деревня Низино', 'деревня Бегуницы',\n",
              "       'посёлок Поляны', 'городской посёлок Мга', 'поселок Елизаветино',\n",
              "       'посёлок городского типа Кузнечное', 'деревня Колтуши',\n",
              "       'поселок Запорожское', 'посёлок городского типа Рощино',\n",
              "       'деревня Гостилицы', 'деревня Малое Карлино',\n",
              "       'посёлок Мичуринское', 'посёлок городского типа имени Морозова',\n",
              "       'посёлок Песочный', 'посёлок Сосново', 'деревня Аро',\n",
              "       'поселок Ильичёво', 'посёлок городского типа Тайцы',\n",
              "       'деревня Малое Верево', 'деревня Извара', 'поселок станции Вещево',\n",
              "       'село Паша', 'деревня Калитино',\n",
              "       'посёлок городского типа Ульяновка', 'деревня Чудской Бор',\n",
              "       'поселок городского типа Дубровка', 'деревня Мины',\n",
              "       'поселок Войсковицы', 'посёлок городского типа имени Свердлова',\n",
              "       'деревня Коркино', 'посёлок Ропша',\n",
              "       'поселок городского типа Приладожский', 'посёлок Щеглово',\n",
              "       'посёлок Гаврилово', 'Лодейное Поле', 'деревня Рабитицы',\n",
              "       'поселок городского типа Никольский', 'деревня Кузьмолово',\n",
              "       'деревня Малые Колпаны', 'поселок Тельмана',\n",
              "       'посёлок Петро-Славянка', 'городской посёлок Назия',\n",
              "       'посёлок Репино', 'посёлок Ильичёво', 'поселок Углово',\n",
              "       'поселок Старая Малукса', 'садовое товарищество Рахья',\n",
              "       'поселок Аннино', 'поселок Победа', 'деревня Меньково',\n",
              "       'деревня Старые Бегуницы', 'посёлок Сапёрный', 'поселок Семрино',\n",
              "       'поселок Гаврилово', 'поселок Глажево', 'поселок Кобринское',\n",
              "       'деревня Гарболово', 'деревня Юкки',\n",
              "       'поселок станции Приветнинское', 'деревня Мануйлово',\n",
              "       'деревня Пчева', 'поселок Поляны', 'поселок Цвылёво',\n",
              "       'поселок Мельниково', 'посёлок Пудость', 'посёлок Усть-Луга',\n",
              "       'Светогорск', 'Любань', 'поселок Селезнёво',\n",
              "       'поселок городского типа Рябово', 'Каменногорск', 'деревня Кривко',\n",
              "       'поселок Глебычево', 'деревня Парицы', 'поселок Жилпосёлок',\n",
              "       'посёлок городского типа Мга', 'городской поселок Янино-1',\n",
              "       'посёлок Войскорово', 'село Никольское', 'посёлок Терволово',\n",
              "       'поселок Стеклянный', 'посёлок городского типа Важины',\n",
              "       'посёлок Мыза-Ивановка', 'село Русско-Высоцкое',\n",
              "       'поселок городского типа Лебяжье',\n",
              "       'поселок городского типа Форносово', 'село Старая Ладога',\n",
              "       'поселок Житково', 'городской посёлок Виллози', 'деревня Лампово',\n",
              "       'деревня Шпаньково', 'деревня Лаврики', 'посёлок Сумино',\n",
              "       'посёлок Возрождение', 'деревня Старосиверская',\n",
              "       'посёлок Кикерино', 'поселок Возрождение',\n",
              "       'деревня Старое Хинколово', 'посёлок Пригородный',\n",
              "       'посёлок Торфяное', 'городской посёлок Будогощь',\n",
              "       'поселок Суходолье', 'поселок Красная Долина', 'деревня Хапо-Ое',\n",
              "       'поселок городского типа Дружная Горка', 'поселок Лисий Нос',\n",
              "       'деревня Яльгелево', 'посёлок Стеклянный', 'село Рождествено',\n",
              "       'деревня Старополье', 'посёлок Левашово', 'деревня Сяськелево',\n",
              "       'деревня Камышовка',\n",
              "       'садоводческое некоммерческое товарищество Лесная Поляна',\n",
              "       'деревня Хязельки', 'поселок Жилгородок',\n",
              "       'посёлок городского типа Павлово', 'деревня Ялгино',\n",
              "       'поселок Новый Учхоз', 'городской посёлок Рощино',\n",
              "       'поселок Гончарово', 'поселок Почап', 'посёлок Сапёрное',\n",
              "       'посёлок Платформа 69-й километр', 'поселок Каложицы',\n",
              "       'деревня Фалилеево', 'деревня Пельгора',\n",
              "       'поселок городского типа Лесогорский', 'деревня Торошковичи',\n",
              "       'посёлок Белоостров', 'посёлок Алексеевка', 'поселок Серебрянский',\n",
              "       'поселок Лукаши', 'поселок Петровское', 'деревня Щеглово',\n",
              "       'поселок Мичуринское', 'деревня Тарасово', 'поселок Кингисеппский',\n",
              "       'посёлок при железнодорожной станции Вещево', 'поселок Ушаки',\n",
              "       'деревня Котлы', 'деревня Сижно', 'деревня Торосово',\n",
              "       'посёлок Форт Красная Горка', 'деревня Новолисино',\n",
              "       'посёлок станции Громово', 'деревня Глинка', 'посёлок Мельниково',\n",
              "       'поселок городского типа Назия', 'деревня Старая Пустошь',\n",
              "       'поселок Коммунары', 'поселок Починок',\n",
              "       'посёлок городского типа Вознесенье', 'деревня Разбегаево',\n",
              "       'посёлок городского типа Рябово', 'поселок Гладкое',\n",
              "       'посёлок при железнодорожной станции Приветнинское',\n",
              "       'поселок Тёсово-4', 'посёлок Жилгородок', 'деревня Бор',\n",
              "       'посёлок Коробицыно', 'деревня Большая Вруда', 'деревня Курковицы',\n",
              "       'посёлок Лисий Нос', 'городской посёлок Советский',\n",
              "       'посёлок Кобралово', 'деревня Суоранда', 'поселок Кобралово',\n",
              "       'поселок городского типа Кондратьево',\n",
              "       'коттеджный поселок Счастье', 'поселок Любань', 'деревня Реброво',\n",
              "       'деревня Зимитицы', 'деревня Тойворово', 'поселок Семиозерье',\n",
              "       'поселок Лесное', 'поселок Совхозный', 'поселок Усть-Луга',\n",
              "       'посёлок Ленинское', 'посёлок Суйда',\n",
              "       'посёлок городского типа Форносово', 'деревня Нижние Осельки',\n",
              "       'посёлок станции Свирь', 'поселок Перово', 'Высоцк',\n",
              "       'поселок Гарболово', 'село Шум', 'поселок Котельский',\n",
              "       'поселок станции Лужайка', 'деревня Большая Пустомержа',\n",
              "       'поселок Красносельское', 'деревня Вахнова Кара', 'деревня Пижма',\n",
              "       'коттеджный поселок Кивеннапа Север', 'поселок Коробицыно',\n",
              "       'поселок Ромашки', 'посёлок Перово', 'деревня Каськово',\n",
              "       'деревня Куровицы', 'посёлок Плоское', 'поселок Сумино',\n",
              "       'поселок городского типа Большая Ижора', 'поселок Кирпичное',\n",
              "       'деревня Ям-Тесово', 'деревня Раздолье', 'деревня Терпилицы',\n",
              "       'поселок городского типа Токсово', 'посёлок Шугозеро',\n",
              "       'деревня Ваганово', 'поселок Пушное', 'садовое товарищество Садко',\n",
              "       'посёлок Усть-Ижора', 'деревня Выскатка',\n",
              "       'городской посёлок Свирьстрой', 'поселок Громово',\n",
              "       'деревня Кисельня', 'посёлок Старая Малукса',\n",
              "       'деревня Трубников Бор', 'поселок Калитино',\n",
              "       'посёлок Высокоключевой', 'садовое товарищество Приладожский',\n",
              "       'посёлок Пансионат Зелёный Бор', 'деревня Ненимяки',\n",
              "       'поселок Пансионат Зелёный Бор', 'деревня Снегирёвка',\n",
              "       'деревня Рапполово', 'деревня Пустынка', 'поселок Рабитицы',\n",
              "       'деревня Большой Сабск', 'деревня Русско', 'деревня Лупполово',\n",
              "       'деревня Большое Рейзино', 'деревня Малая Романовка',\n",
              "       'поселок Дружноселье', 'поселок Пчевжа', 'поселок Володарское',\n",
              "       'деревня Нижняя', 'коттеджный посёлок Лесное', 'деревня Тихковицы',\n",
              "       'деревня Борисова Грива', 'посёлок Дзержинского'], dtype=object)"
            ]
          },
          "execution_count": 17,
          "metadata": {},
          "output_type": "execute_result"
        }
      ],
      "source": [
        "data['locality_name'].unique() #выведем и изучим список уникальных названий в столбце с названиями населенных пунктов"
      ]
    },
    {
      "cell_type": "code",
      "execution_count": null,
      "metadata": {
        "id": "AyS0Wfz91pf7",
        "outputId": "1336e0ae-c8d9-4568-f602-a500c8ed527c"
      },
      "outputs": [
        {
          "data": {
            "text/plain": [
              "array(['Санкт-Петербург', 'посёлок Шушары', 'посёлок Янино-1',\n",
              "       'посёлок Парголово', 'посёлок Мурино', 'Ломоносов', 'Сертолово',\n",
              "       'Петергоф', 'Пушкин', 'деревня Кудрово', 'Коммунар', 'Колпино',\n",
              "       'посёлок городского типа Красный Бор', 'Гатчина',\n",
              "       'деревня Фёдоровское', 'Выборг', 'Кронштадт', 'Кировск',\n",
              "       'деревня Новое Девяткино', 'посёлок Металлострой',\n",
              "       'посёлок Лебяжье', 'посёлок Сиверский', 'посёлок Молодцово',\n",
              "       'посёлок городского типа Кузьмоловский',\n",
              "       'садовое товарищество Новая Ропша', 'Павловск',\n",
              "       'деревня Пикколово', 'Всеволожск', 'Волхов', 'Кингисепп',\n",
              "       'Приозерск', 'Сестрорецк', 'деревня Куттузи', 'посёлок Аннино',\n",
              "       'посёлок городского типа Ефимовский', 'посёлок Плодовое',\n",
              "       'деревня Заклинье', 'посёлок Торковичи', 'посёлок Первомайское',\n",
              "       'Красное Село', 'посёлок Понтонный', 'Сясьстрой', 'деревня Старая',\n",
              "       'деревня Лесколово', 'посёлок Новый Свет', 'Сланцы',\n",
              "       'село Путилово', 'Ивангород', 'Мурино', 'Шлиссельбург',\n",
              "       'Никольское', 'Зеленогорск', 'Сосновый Бор', 'деревня Оржицы',\n",
              "       'деревня Кальтино', 'Кудрово', 'посёлок Романовка',\n",
              "       'посёлок Бугры', 'посёлок городского типа Рощино', 'Кириши',\n",
              "       'Луга', 'Волосово', 'Отрадное', 'село Павлово', 'посёлок Оредеж',\n",
              "       'село Копорье', 'посёлок Красный Бор', 'посёлок Молодёжное',\n",
              "       'Тихвин', 'посёлок Победа', 'деревня Нурма',\n",
              "       'посёлок городского типа Синявино', 'Тосно',\n",
              "       'посёлок Кузьмоловский', 'посёлок Стрельна', 'Бокситогорск',\n",
              "       'посёлок Александровская', 'деревня Лопухинка', 'Пикалёво',\n",
              "       'посёлок Терволово', 'посёлок городского типа Советский',\n",
              "       'Подпорожье', 'посёлок Петровское', 'посёлок Токсово',\n",
              "       'посёлок Сельцо', 'посёлок Вырица', 'деревня Кипень',\n",
              "       'деревня Келози', 'деревня Вартемяги', 'посёлок Тельмана',\n",
              "       'посёлок Севастьяново', 'городской посёлок Большая Ижора',\n",
              "       'посёлок Павлово', 'деревня Агалатово', 'посёлок Новогорелово',\n",
              "       'посёлок Лесогорский', 'деревня Лаголово', 'посёлок Цвелодубово',\n",
              "       'посёлок городского типа Рахья', 'посёлок городского типа Вырица',\n",
              "       'деревня Белогорка', 'посёлок Заводской', 'посёлок Новоселье',\n",
              "       'деревня Большие Колпаны', 'деревня Горбунки', 'деревня Батово',\n",
              "       'деревня Заневка', 'деревня Иссад', 'Приморск',\n",
              "       'посёлок Фёдоровское', 'деревня Мистолово', 'Новая Ладога',\n",
              "       'посёлок Зимитицы', 'посёлок Барышево', 'деревня Разметелево',\n",
              "       'посёлок городского типа имени Свердлова', 'деревня Пеники',\n",
              "       'посёлок Рябово', 'деревня Пудомяги', 'посёлок станции Корнево',\n",
              "       'деревня Низино', 'деревня Бегуницы', 'посёлок Поляны',\n",
              "       'посёлок Мга', 'посёлок Елизаветино', 'посёлок Кузнечное',\n",
              "       'деревня Колтуши', 'посёлок Запорожское', 'посёлок Рощино',\n",
              "       'деревня Гостилицы', 'деревня Малое Карлино',\n",
              "       'посёлок Мичуринское', 'посёлок имени Морозова',\n",
              "       'посёлок Песочный', 'посёлок Сосново', 'деревня Аро',\n",
              "       'посёлок Ильичёво', 'посёлок Тайцы', 'деревня Малое Верево',\n",
              "       'деревня Извара', 'посёлок станции Вещево', 'село Паша',\n",
              "       'деревня Калитино', 'посёлок Ульяновка', 'деревня Чудской Бор',\n",
              "       'посёлок городского типа Дубровка', 'деревня Мины',\n",
              "       'посёлок Войсковицы', 'посёлок имени Свердлова', 'деревня Коркино',\n",
              "       'посёлок Ропша', 'посёлок городского типа Приладожский',\n",
              "       'посёлок Щеглово', 'посёлок Гаврилово', 'Лодейное Поле',\n",
              "       'деревня Рабитицы', 'посёлок городского типа Никольский',\n",
              "       'деревня Кузьмолово', 'деревня Малые Колпаны',\n",
              "       'посёлок Петро-Славянка', 'посёлок Назия', 'посёлок Репино',\n",
              "       'посёлок Углово', 'посёлок Старая Малукса',\n",
              "       'садовое товарищество Рахья', 'деревня Меньково',\n",
              "       'деревня Старые Бегуницы', 'посёлок Сапёрный', 'посёлок Семрино',\n",
              "       'посёлок Глажево', 'посёлок Кобринское', 'деревня Гарболово',\n",
              "       'деревня Юкки', 'посёлок станции Приветнинское',\n",
              "       'деревня Мануйлово', 'деревня Пчева', 'посёлок Цвылёво',\n",
              "       'посёлок Мельниково', 'посёлок Пудость', 'посёлок Усть-Луга',\n",
              "       'Светогорск', 'Любань', 'посёлок Селезнёво',\n",
              "       'посёлок городского типа Рябово', 'Каменногорск', 'деревня Кривко',\n",
              "       'посёлок Глебычево', 'деревня Парицы', 'посёлок Жилпосёлок',\n",
              "       'городской посёлок Янино-1', 'посёлок Войскорово',\n",
              "       'село Никольское', 'посёлок Стеклянный', 'посёлок Важины',\n",
              "       'посёлок Мыза-Ивановка', 'село Русско-Высоцкое',\n",
              "       'посёлок городского типа Лебяжье',\n",
              "       'посёлок городского типа Форносово', 'село Старая Ладога',\n",
              "       'посёлок Житково', 'посёлок Виллози', 'деревня Лампово',\n",
              "       'деревня Шпаньково', 'деревня Лаврики', 'посёлок Сумино',\n",
              "       'посёлок Возрождение', 'деревня Старосиверская',\n",
              "       'посёлок Кикерино', 'деревня Старое Хинколово',\n",
              "       'посёлок Пригородный', 'посёлок Торфяное', 'посёлок Будогощь',\n",
              "       'посёлок Суходолье', 'посёлок Красная Долина', 'деревня Хапо-Ое',\n",
              "       'посёлок городского типа Дружная Горка', 'посёлок Лисий Нос',\n",
              "       'деревня Яльгелево', 'село Рождествено', 'деревня Старополье',\n",
              "       'посёлок Левашово', 'деревня Сяськелево', 'деревня Камышовка',\n",
              "       'садоводческое некоммерческое товарищество Лесная Поляна',\n",
              "       'деревня Хязельки', 'посёлок Жилгородок', 'деревня Ялгино',\n",
              "       'посёлок Новый Учхоз', 'посёлок Гончарово', 'посёлок Почап',\n",
              "       'посёлок Сапёрное', 'посёлок Платформа 69-й километр',\n",
              "       'посёлок Каложицы', 'деревня Фалилеево', 'деревня Пельгора',\n",
              "       'посёлок городского типа Лесогорский', 'деревня Торошковичи',\n",
              "       'посёлок Белоостров', 'посёлок Алексеевка', 'посёлок Серебрянский',\n",
              "       'посёлок Лукаши', 'деревня Щеглово', 'деревня Тарасово',\n",
              "       'посёлок Кингисеппский', 'посёлок Ушаки', 'деревня Котлы',\n",
              "       'деревня Сижно', 'деревня Торосово', 'посёлок Форт Красная Горка',\n",
              "       'деревня Новолисино', 'посёлок станции Громово', 'деревня Глинка',\n",
              "       'посёлок городского типа Назия', 'деревня Старая Пустошь',\n",
              "       'посёлок Коммунары', 'посёлок Починок', 'посёлок Вознесенье',\n",
              "       'деревня Разбегаево', 'посёлок Гладкое', 'посёлок Тёсово-4',\n",
              "       'деревня Бор', 'посёлок Коробицыно', 'деревня Большая Вруда',\n",
              "       'деревня Курковицы', 'посёлок Советский', 'посёлок Кобралово',\n",
              "       'деревня Суоранда', 'посёлок городского типа Кондратьево',\n",
              "       'коттеджный посёлок Счастье', 'посёлок Любань', 'деревня Реброво',\n",
              "       'деревня Зимитицы', 'деревня Тойворово', 'посёлок Семиозерье',\n",
              "       'посёлок Лесное', 'посёлок Совхозный', 'посёлок Ленинское',\n",
              "       'посёлок Суйда', 'посёлок Форносово', 'деревня Нижние Осельки',\n",
              "       'посёлок станции Свирь', 'посёлок Перово', 'Высоцк',\n",
              "       'посёлок Гарболово', 'село Шум', 'посёлок Котельский',\n",
              "       'посёлок станции Лужайка', 'деревня Большая Пустомержа',\n",
              "       'посёлок Красносельское', 'деревня Вахнова Кара', 'деревня Пижма',\n",
              "       'коттеджный посёлок Кивеннапа Север', 'посёлок Ромашки',\n",
              "       'деревня Каськово', 'деревня Куровицы', 'посёлок Плоское',\n",
              "       'посёлок городского типа Большая Ижора', 'посёлок Кирпичное',\n",
              "       'деревня Ям-Тесово', 'деревня Раздолье', 'деревня Терпилицы',\n",
              "       'посёлок городского типа Токсово', 'посёлок Шугозеро',\n",
              "       'деревня Ваганово', 'посёлок Пушное', 'садовое товарищество Садко',\n",
              "       'посёлок Усть-Ижора', 'деревня Выскатка', 'посёлок Свирьстрой',\n",
              "       'посёлок Громово', 'деревня Кисельня', 'деревня Трубников Бор',\n",
              "       'посёлок Калитино', 'посёлок Высокоключевой',\n",
              "       'садовое товарищество Приладожский',\n",
              "       'посёлок Пансионат Зелёный Бор', 'деревня Ненимяки',\n",
              "       'деревня Снегирёвка', 'деревня Рапполово', 'деревня Пустынка',\n",
              "       'посёлок Рабитицы', 'деревня Большой Сабск', 'деревня Русско',\n",
              "       'деревня Лупполово', 'деревня Большое Рейзино',\n",
              "       'деревня Малая Романовка', 'посёлок Дружноселье', 'посёлок Пчевжа',\n",
              "       'посёлок Володарское', 'деревня Нижняя', 'деревня Тихковицы',\n",
              "       'деревня Борисова Грива', 'посёлок Дзержинского'], dtype=object)"
            ]
          },
          "execution_count": 18,
          "metadata": {},
          "output_type": "execute_result"
        }
      ],
      "source": [
        "#заменим все дубликаты на единое название \"посёлок\" или \"посёлок станции\" с помощью лямбда-функции и регулярных выражений\n",
        "data = data.apply(lambda x: x.replace({'поселок':'посёлок', 'городской посёлок': 'посёлок', 'городской поселок': 'посёлок', 'посёлок городского типа': 'посёлок', 'поселок городского типа': 'посёлок', 'коттеджный посёлок': 'посёлок', 'коттеджный поселок': 'посёлок', 'посёлок при железнодорожной станции': 'посёлок станции'}, regex=True))\n",
        "\n",
        "data['locality_name'].unique() #снова выведем все уникальные названия, чтобы убедиться, что замена прошла успешно"
      ]
    },
    {
      "cell_type": "markdown",
      "metadata": {
        "id": "mP6ddulp1pf8"
      },
      "source": [
        "**Вывод:** мы заменили все неявные дубликаты в столбце с названиями населённых пунктов для более правильного отображения данных."
      ]
    },
    {
      "cell_type": "markdown",
      "metadata": {
        "id": "0EGEXalc1pf8"
      },
      "source": [
        "**2.4 Устранение аномалий**"
      ]
    },
    {
      "cell_type": "markdown",
      "metadata": {
        "id": "SNriAigd1pf8"
      },
      "source": [
        "Рассмотрим наш датасет на наличие аномалий и устраним их. Начнём со столбца ceiling_height (высота потолков)."
      ]
    },
    {
      "cell_type": "code",
      "execution_count": null,
      "metadata": {
        "scrolled": true,
        "id": "bM1fpQGH1pf8",
        "outputId": "2f0ecfd5-b630-4c19-9461-6b96ff6752de"
      },
      "outputs": [
        {
          "name": "stdout",
          "output_type": "stream",
          "text": [
            "[1.0, 1.2, 1.75, 2.0, 2.2, 2.25, 2.3, 2.34, 2.4, 2.45, 2.46, 2.47, 2.48, 2.49, 2.5, 2.51, 2.52, 2.53, 2.54, 2.55, 2.56, 2.57, 2.58, 2.59, 2.6, 2.61, 2.62, 2.63, 2.64, 2.65, 2.66, 2.67, 2.68, 2.69, 2.7, 2.71, 2.72, 2.73, 2.74, 2.75, 2.76, 2.77, 2.78, 2.79, 2.8, 2.81, 2.82, 2.83, 2.84, 2.85, 2.86, 2.87, 2.88, 2.89, 2.9, 2.91, 2.92, 2.93, 2.94, 2.95, 2.96, 2.97, 2.98, 2.99, 3.0, 3.01, 3.02, 3.03, 3.04, 3.05, 3.06, 3.07, 3.08, 3.09, 3.1, 3.11, 3.12, 3.13, 3.14, 3.15, 3.16, 3.17, 3.18, 3.2, 3.21, 3.22, 3.23, 3.24, 3.25, 3.26, 3.27, 3.28, 3.29, 3.3, 3.31, 3.32, 3.33, 3.34, 3.35, 3.36, 3.37, 3.38, 3.39, 3.4, 3.42, 3.43, 3.44, 3.45, 3.46, 3.47, 3.48, 3.49, 3.5, 3.51, 3.52, 3.53, 3.54, 3.55, 3.56, 3.57, 3.58, 3.59, 3.6, 3.62, 3.63, 3.65, 3.66, 3.67, 3.68, 3.69, 3.7, 3.75, 3.76, 3.78, 3.8, 3.82, 3.83, 3.84, 3.85, 3.86, 3.87, 3.88, 3.9, 3.93, 3.95, 3.98, 4.0, 4.06, 4.1, 4.14, 4.15, 4.19, 4.2, 4.25, 4.3, 4.37, 4.4, 4.45, 4.5, 4.65, 4.7, 4.8, 4.9, 5.0, 5.2, 5.3, 5.5, 5.6, 5.8, 6.0, 8.0, 8.3, 10.3, 14.0, 20.0, 22.6, 24.0, 25.0, 26.0, 27.0, 27.5, 32.0, 100.0]\n"
          ]
        }
      ],
      "source": [
        "print(sorted(data['ceiling_height'].unique())) #выведем все уникальные значения столбца и отсортируем их"
      ]
    },
    {
      "cell_type": "code",
      "execution_count": null,
      "metadata": {
        "id": "pov2aaCJ1pf8",
        "outputId": "99c51e6d-1f36-46fc-d4b3-2b051f2dfe3f"
      },
      "outputs": [
        {
          "data": {
            "text/plain": [
              "59"
            ]
          },
          "execution_count": 20,
          "metadata": {},
          "output_type": "execute_result"
        }
      ],
      "source": [
        "#по законодательству потолки не могут быть меньше 2,5 м\n",
        "#оставим небольшую погрешность в 5 см - пусть минимальная высота потолка будет 2,45 м. узнаем, сколько таких строк в датасете\n",
        "data.query('ceiling_height <= 2.45')['ceiling_height'].count()"
      ]
    },
    {
      "cell_type": "code",
      "execution_count": null,
      "metadata": {
        "id": "04Uf3OL71pf8"
      },
      "outputs": [],
      "source": [
        "#удалим строки с такими значениями\n",
        "data = data.query('ceiling_height >= 2.45')"
      ]
    },
    {
      "cell_type": "markdown",
      "metadata": {
        "id": "yPHqAzGO1pf8"
      },
      "source": [
        "В списке уникальных значений есть 25, 26 и так далее метров. Можно предположить, что пользователь ошибся при вводе и на самом деле это 2,5 м, 2,6 м и так далее. Заменим аномалии на правильные значения."
      ]
    },
    {
      "cell_type": "code",
      "execution_count": null,
      "metadata": {
        "id": "xL5P3RMg1pf8"
      },
      "outputs": [],
      "source": [
        "data['ceiling_height'] = data['ceiling_height'].replace({25.0:2.5, 26.0:2.6, 27.0:2.7, 27.5:2.75, 32.0:3.2})"
      ]
    },
    {
      "cell_type": "code",
      "execution_count": null,
      "metadata": {
        "id": "R52HwUov1pf8",
        "outputId": "53f356b7-1461-4e3f-ed14-346cdffc38ba"
      },
      "outputs": [
        {
          "data": {
            "text/plain": [
              "18"
            ]
          },
          "execution_count": 23,
          "metadata": {},
          "output_type": "execute_result"
        }
      ],
      "source": [
        "#теперь посмотрим на слишком большие значения. поскольку речь идёт о квартирах, будем считать, что самый высокий потолок - 5 м\n",
        "#узнаем количество таких строк в датасете\n",
        "data.query('ceiling_height >= 5')['ceiling_height'].count()"
      ]
    },
    {
      "cell_type": "code",
      "execution_count": null,
      "metadata": {
        "id": "kJSCRmya1pf9"
      },
      "outputs": [],
      "source": [
        "#теперь удалим все слишком большие значения\n",
        "data = data.query('ceiling_height <= 5')"
      ]
    },
    {
      "cell_type": "code",
      "execution_count": null,
      "metadata": {
        "scrolled": true,
        "id": "4Qmc1pC01pf9",
        "outputId": "ef3c8f21-141b-4c77-aee2-c7995ba889d7"
      },
      "outputs": [
        {
          "name": "stdout",
          "output_type": "stream",
          "text": [
            "[2.45, 2.46, 2.47, 2.48, 2.49, 2.5, 2.51, 2.52, 2.53, 2.54, 2.55, 2.56, 2.57, 2.58, 2.59, 2.6, 2.61, 2.62, 2.63, 2.64, 2.65, 2.66, 2.67, 2.68, 2.69, 2.7, 2.71, 2.72, 2.73, 2.74, 2.75, 2.76, 2.77, 2.78, 2.79, 2.8, 2.81, 2.82, 2.83, 2.84, 2.85, 2.86, 2.87, 2.88, 2.89, 2.9, 2.91, 2.92, 2.93, 2.94, 2.95, 2.96, 2.97, 2.98, 2.99, 3.0, 3.01, 3.02, 3.03, 3.04, 3.05, 3.06, 3.07, 3.08, 3.09, 3.1, 3.11, 3.12, 3.13, 3.14, 3.15, 3.16, 3.17, 3.18, 3.2, 3.21, 3.22, 3.23, 3.24, 3.25, 3.26, 3.27, 3.28, 3.29, 3.3, 3.31, 3.32, 3.33, 3.34, 3.35, 3.36, 3.37, 3.38, 3.39, 3.4, 3.42, 3.43, 3.44, 3.45, 3.46, 3.47, 3.48, 3.49, 3.5, 3.51, 3.52, 3.53, 3.54, 3.55, 3.56, 3.57, 3.58, 3.59, 3.6, 3.62, 3.63, 3.65, 3.66, 3.67, 3.68, 3.69, 3.7, 3.75, 3.76, 3.78, 3.8, 3.82, 3.83, 3.84, 3.85, 3.86, 3.87, 3.88, 3.9, 3.93, 3.95, 3.98, 4.0, 4.06, 4.1, 4.14, 4.15, 4.19, 4.2, 4.25, 4.3, 4.37, 4.4, 4.45, 4.5, 4.65, 4.7, 4.8, 4.9, 5.0]\n"
          ]
        }
      ],
      "source": [
        "print(sorted(data['ceiling_height'].unique())) #снова выведем все уникальные значения столбца, чтобы убедиться, что мы успешно удалили аномалии"
      ]
    },
    {
      "cell_type": "markdown",
      "metadata": {
        "id": "cYyyQbKA1pf9"
      },
      "source": [
        "Проделаем то же самое для столбца floors_total (общее количество этажей)."
      ]
    },
    {
      "cell_type": "code",
      "execution_count": null,
      "metadata": {
        "id": "szbvVSKJ1pf9",
        "outputId": "40152519-5a67-484c-8251-0cd19c88d932"
      },
      "outputs": [
        {
          "name": "stdout",
          "output_type": "stream",
          "text": [
            "[1, 2, 3, 4, 5, 6, 7, 8, 9, 10, 11, 12, 13, 14, 15, 16, 17, 18, 19, 20, 21, 22, 23, 24, 25, 26, 27, 28, 29, 33, 34, 35, 36, 52, 60]\n"
          ]
        }
      ],
      "source": [
        "print(sorted(data['floors_total'].unique())) #выведем все уникальные значения столбца и отсортируем их"
      ]
    },
    {
      "cell_type": "code",
      "execution_count": null,
      "metadata": {
        "id": "e_qTjY021pf9",
        "outputId": "b8c886e6-af24-4e46-a832-ec90b972fc43"
      },
      "outputs": [
        {
          "data": {
            "text/plain": [
              "2"
            ]
          },
          "execution_count": 27,
          "metadata": {},
          "output_type": "execute_result"
        }
      ],
      "source": [
        "#согласно гуглу, в самом многоэтажном жилом доме в Санкт-Петербурге 37 этажей\n",
        "#узнаем, сколько в датасете строк с выдающимися значениями\n",
        "data.query('floors_total > 37')['floors_total'].count()"
      ]
    },
    {
      "cell_type": "code",
      "execution_count": null,
      "metadata": {
        "id": "p3jcY5Oc1pf9"
      },
      "outputs": [],
      "source": [
        "#удалим значения больше 37 этажей\n",
        "data = data.query('floors_total <= 37')"
      ]
    },
    {
      "cell_type": "code",
      "execution_count": null,
      "metadata": {
        "id": "OEe73PgX1pf9",
        "outputId": "d21e1c56-2940-4ce0-a03b-62a2df670ae0"
      },
      "outputs": [
        {
          "name": "stdout",
          "output_type": "stream",
          "text": [
            "[1, 2, 3, 4, 5, 6, 7, 8, 9, 10, 11, 12, 13, 14, 15, 16, 17, 18, 19, 20, 21, 22, 23, 24, 25, 26, 27, 28, 29, 33, 34, 35, 36]\n"
          ]
        }
      ],
      "source": [
        "print(sorted(data['floors_total'].unique())) #снова выведем все уникальные значения столбца, чтобы убедиться, что мы успешно удалили аномалии"
      ]
    },
    {
      "cell_type": "markdown",
      "metadata": {
        "id": "w4CTaDgu1pf9"
      },
      "source": [
        "Так как ранее мы заменяли некоторые площади кухонь и жилые площади синтетическими данными, проверим, не получилось ли так, что они оказались больше общей площади."
      ]
    },
    {
      "cell_type": "code",
      "execution_count": null,
      "metadata": {
        "id": "SahHHa9E1pf-",
        "outputId": "f520a876-2df8-4156-8ae0-09eefc11bc22"
      },
      "outputs": [
        {
          "data": {
            "text/html": [
              "<div>\n",
              "<style scoped>\n",
              "    .dataframe tbody tr th:only-of-type {\n",
              "        vertical-align: middle;\n",
              "    }\n",
              "\n",
              "    .dataframe tbody tr th {\n",
              "        vertical-align: top;\n",
              "    }\n",
              "\n",
              "    .dataframe thead th {\n",
              "        text-align: right;\n",
              "    }\n",
              "</style>\n",
              "<table border=\"1\" class=\"dataframe\">\n",
              "  <thead>\n",
              "    <tr style=\"text-align: right;\">\n",
              "      <th></th>\n",
              "      <th>total_images</th>\n",
              "      <th>last_price</th>\n",
              "      <th>total_area</th>\n",
              "      <th>first_day_exposition</th>\n",
              "      <th>rooms</th>\n",
              "      <th>ceiling_height</th>\n",
              "      <th>floors_total</th>\n",
              "      <th>living_area</th>\n",
              "      <th>floor</th>\n",
              "      <th>is_apartment</th>\n",
              "      <th>...</th>\n",
              "      <th>kitchen_area</th>\n",
              "      <th>balcony</th>\n",
              "      <th>locality_name</th>\n",
              "      <th>airports_nearest</th>\n",
              "      <th>cityCenters_nearest</th>\n",
              "      <th>parks_around3000</th>\n",
              "      <th>parks_nearest</th>\n",
              "      <th>ponds_around3000</th>\n",
              "      <th>ponds_nearest</th>\n",
              "      <th>days_exposition</th>\n",
              "    </tr>\n",
              "  </thead>\n",
              "  <tbody>\n",
              "    <tr>\n",
              "      <th>184</th>\n",
              "      <td>7</td>\n",
              "      <td>2600000.0</td>\n",
              "      <td>30.20</td>\n",
              "      <td>2018-02-14</td>\n",
              "      <td>1</td>\n",
              "      <td>2.65</td>\n",
              "      <td>9</td>\n",
              "      <td>26.10</td>\n",
              "      <td>5</td>\n",
              "      <td>False</td>\n",
              "      <td>...</td>\n",
              "      <td>6.2000</td>\n",
              "      <td>0</td>\n",
              "      <td>Санкт-Петербург</td>\n",
              "      <td>13952.0</td>\n",
              "      <td>15031.0</td>\n",
              "      <td>0</td>\n",
              "      <td>NaN</td>\n",
              "      <td>1</td>\n",
              "      <td>824.0</td>\n",
              "      <td>12.0</td>\n",
              "    </tr>\n",
              "    <tr>\n",
              "      <th>424</th>\n",
              "      <td>14</td>\n",
              "      <td>11500000.0</td>\n",
              "      <td>98.00</td>\n",
              "      <td>2016-05-10</td>\n",
              "      <td>3</td>\n",
              "      <td>2.65</td>\n",
              "      <td>3</td>\n",
              "      <td>88.00</td>\n",
              "      <td>3</td>\n",
              "      <td>False</td>\n",
              "      <td>...</td>\n",
              "      <td>16.6600</td>\n",
              "      <td>1</td>\n",
              "      <td>Санкт-Петербург</td>\n",
              "      <td>39363.0</td>\n",
              "      <td>13270.0</td>\n",
              "      <td>0</td>\n",
              "      <td>NaN</td>\n",
              "      <td>0</td>\n",
              "      <td>NaN</td>\n",
              "      <td>90.0</td>\n",
              "    </tr>\n",
              "    <tr>\n",
              "      <th>440</th>\n",
              "      <td>8</td>\n",
              "      <td>2480000.0</td>\n",
              "      <td>27.11</td>\n",
              "      <td>2018-03-12</td>\n",
              "      <td>0</td>\n",
              "      <td>2.65</td>\n",
              "      <td>17</td>\n",
              "      <td>24.75</td>\n",
              "      <td>4</td>\n",
              "      <td>False</td>\n",
              "      <td>...</td>\n",
              "      <td>4.6087</td>\n",
              "      <td>2</td>\n",
              "      <td>Санкт-Петербург</td>\n",
              "      <td>38171.0</td>\n",
              "      <td>15015.0</td>\n",
              "      <td>0</td>\n",
              "      <td>NaN</td>\n",
              "      <td>2</td>\n",
              "      <td>982.0</td>\n",
              "      <td>64.0</td>\n",
              "    </tr>\n",
              "    <tr>\n",
              "      <th>545</th>\n",
              "      <td>9</td>\n",
              "      <td>4700000.0</td>\n",
              "      <td>23.80</td>\n",
              "      <td>2018-12-28</td>\n",
              "      <td>1</td>\n",
              "      <td>2.65</td>\n",
              "      <td>18</td>\n",
              "      <td>20.00</td>\n",
              "      <td>9</td>\n",
              "      <td>False</td>\n",
              "      <td>...</td>\n",
              "      <td>5.0000</td>\n",
              "      <td>0</td>\n",
              "      <td>Санкт-Петербург</td>\n",
              "      <td>9731.0</td>\n",
              "      <td>11849.0</td>\n",
              "      <td>0</td>\n",
              "      <td>NaN</td>\n",
              "      <td>0</td>\n",
              "      <td>NaN</td>\n",
              "      <td>108.0</td>\n",
              "    </tr>\n",
              "    <tr>\n",
              "      <th>551</th>\n",
              "      <td>8</td>\n",
              "      <td>3100000.0</td>\n",
              "      <td>31.59</td>\n",
              "      <td>2018-03-08</td>\n",
              "      <td>1</td>\n",
              "      <td>2.70</td>\n",
              "      <td>19</td>\n",
              "      <td>30.55</td>\n",
              "      <td>2</td>\n",
              "      <td>False</td>\n",
              "      <td>...</td>\n",
              "      <td>9.2800</td>\n",
              "      <td>2</td>\n",
              "      <td>посёлок Мурино</td>\n",
              "      <td>NaN</td>\n",
              "      <td>NaN</td>\n",
              "      <td>0</td>\n",
              "      <td>NaN</td>\n",
              "      <td>0</td>\n",
              "      <td>NaN</td>\n",
              "      <td>70.0</td>\n",
              "    </tr>\n",
              "    <tr>\n",
              "      <th>...</th>\n",
              "      <td>...</td>\n",
              "      <td>...</td>\n",
              "      <td>...</td>\n",
              "      <td>...</td>\n",
              "      <td>...</td>\n",
              "      <td>...</td>\n",
              "      <td>...</td>\n",
              "      <td>...</td>\n",
              "      <td>...</td>\n",
              "      <td>...</td>\n",
              "      <td>...</td>\n",
              "      <td>...</td>\n",
              "      <td>...</td>\n",
              "      <td>...</td>\n",
              "      <td>...</td>\n",
              "      <td>...</td>\n",
              "      <td>...</td>\n",
              "      <td>...</td>\n",
              "      <td>...</td>\n",
              "      <td>...</td>\n",
              "      <td>...</td>\n",
              "    </tr>\n",
              "    <tr>\n",
              "      <th>22246</th>\n",
              "      <td>6</td>\n",
              "      <td>3100000.0</td>\n",
              "      <td>27.30</td>\n",
              "      <td>2018-05-29</td>\n",
              "      <td>0</td>\n",
              "      <td>2.70</td>\n",
              "      <td>16</td>\n",
              "      <td>23.30</td>\n",
              "      <td>15</td>\n",
              "      <td>False</td>\n",
              "      <td>...</td>\n",
              "      <td>4.6410</td>\n",
              "      <td>1</td>\n",
              "      <td>Санкт-Петербург</td>\n",
              "      <td>41935.0</td>\n",
              "      <td>9551.0</td>\n",
              "      <td>0</td>\n",
              "      <td>NaN</td>\n",
              "      <td>0</td>\n",
              "      <td>NaN</td>\n",
              "      <td>59.0</td>\n",
              "    </tr>\n",
              "    <tr>\n",
              "      <th>22907</th>\n",
              "      <td>9</td>\n",
              "      <td>65000000.0</td>\n",
              "      <td>228.00</td>\n",
              "      <td>2016-06-02</td>\n",
              "      <td>4</td>\n",
              "      <td>2.65</td>\n",
              "      <td>5</td>\n",
              "      <td>200.00</td>\n",
              "      <td>2</td>\n",
              "      <td>False</td>\n",
              "      <td>...</td>\n",
              "      <td>38.7600</td>\n",
              "      <td>0</td>\n",
              "      <td>Санкт-Петербург</td>\n",
              "      <td>22783.0</td>\n",
              "      <td>1295.0</td>\n",
              "      <td>3</td>\n",
              "      <td>619.0</td>\n",
              "      <td>3</td>\n",
              "      <td>269.0</td>\n",
              "      <td>NaN</td>\n",
              "    </tr>\n",
              "    <tr>\n",
              "      <th>23102</th>\n",
              "      <td>0</td>\n",
              "      <td>5800000.0</td>\n",
              "      <td>66.00</td>\n",
              "      <td>2017-06-09</td>\n",
              "      <td>5</td>\n",
              "      <td>2.65</td>\n",
              "      <td>5</td>\n",
              "      <td>55.50</td>\n",
              "      <td>1</td>\n",
              "      <td>False</td>\n",
              "      <td>...</td>\n",
              "      <td>11.2200</td>\n",
              "      <td>0</td>\n",
              "      <td>Санкт-Петербург</td>\n",
              "      <td>12007.0</td>\n",
              "      <td>11933.0</td>\n",
              "      <td>0</td>\n",
              "      <td>NaN</td>\n",
              "      <td>0</td>\n",
              "      <td>NaN</td>\n",
              "      <td>21.0</td>\n",
              "    </tr>\n",
              "    <tr>\n",
              "      <th>23191</th>\n",
              "      <td>3</td>\n",
              "      <td>1900000.0</td>\n",
              "      <td>18.90</td>\n",
              "      <td>2016-04-04</td>\n",
              "      <td>1</td>\n",
              "      <td>2.65</td>\n",
              "      <td>16</td>\n",
              "      <td>16.00</td>\n",
              "      <td>12</td>\n",
              "      <td>False</td>\n",
              "      <td>...</td>\n",
              "      <td>3.2130</td>\n",
              "      <td>0</td>\n",
              "      <td>Тосно</td>\n",
              "      <td>NaN</td>\n",
              "      <td>NaN</td>\n",
              "      <td>0</td>\n",
              "      <td>NaN</td>\n",
              "      <td>0</td>\n",
              "      <td>NaN</td>\n",
              "      <td>115.0</td>\n",
              "    </tr>\n",
              "    <tr>\n",
              "      <th>23202</th>\n",
              "      <td>13</td>\n",
              "      <td>4919880.0</td>\n",
              "      <td>67.92</td>\n",
              "      <td>2018-10-23</td>\n",
              "      <td>2</td>\n",
              "      <td>2.65</td>\n",
              "      <td>3</td>\n",
              "      <td>63.00</td>\n",
              "      <td>3</td>\n",
              "      <td>False</td>\n",
              "      <td>...</td>\n",
              "      <td>13.0400</td>\n",
              "      <td>0</td>\n",
              "      <td>Всеволожск</td>\n",
              "      <td>NaN</td>\n",
              "      <td>NaN</td>\n",
              "      <td>0</td>\n",
              "      <td>NaN</td>\n",
              "      <td>0</td>\n",
              "      <td>NaN</td>\n",
              "      <td>60.0</td>\n",
              "    </tr>\n",
              "  </tbody>\n",
              "</table>\n",
              "<p>115 rows × 22 columns</p>\n",
              "</div>"
            ],
            "text/plain": [
              "       total_images  last_price  total_area first_day_exposition  rooms  \\\n",
              "184               7   2600000.0       30.20           2018-02-14      1   \n",
              "424              14  11500000.0       98.00           2016-05-10      3   \n",
              "440               8   2480000.0       27.11           2018-03-12      0   \n",
              "545               9   4700000.0       23.80           2018-12-28      1   \n",
              "551               8   3100000.0       31.59           2018-03-08      1   \n",
              "...             ...         ...         ...                  ...    ...   \n",
              "22246             6   3100000.0       27.30           2018-05-29      0   \n",
              "22907             9  65000000.0      228.00           2016-06-02      4   \n",
              "23102             0   5800000.0       66.00           2017-06-09      5   \n",
              "23191             3   1900000.0       18.90           2016-04-04      1   \n",
              "23202            13   4919880.0       67.92           2018-10-23      2   \n",
              "\n",
              "       ceiling_height  floors_total  living_area  floor  is_apartment  ...  \\\n",
              "184              2.65             9        26.10      5         False  ...   \n",
              "424              2.65             3        88.00      3         False  ...   \n",
              "440              2.65            17        24.75      4         False  ...   \n",
              "545              2.65            18        20.00      9         False  ...   \n",
              "551              2.70            19        30.55      2         False  ...   \n",
              "...               ...           ...          ...    ...           ...  ...   \n",
              "22246            2.70            16        23.30     15         False  ...   \n",
              "22907            2.65             5       200.00      2         False  ...   \n",
              "23102            2.65             5        55.50      1         False  ...   \n",
              "23191            2.65            16        16.00     12         False  ...   \n",
              "23202            2.65             3        63.00      3         False  ...   \n",
              "\n",
              "       kitchen_area  balcony    locality_name  airports_nearest  \\\n",
              "184          6.2000        0  Санкт-Петербург           13952.0   \n",
              "424         16.6600        1  Санкт-Петербург           39363.0   \n",
              "440          4.6087        2  Санкт-Петербург           38171.0   \n",
              "545          5.0000        0  Санкт-Петербург            9731.0   \n",
              "551          9.2800        2   посёлок Мурино               NaN   \n",
              "...             ...      ...              ...               ...   \n",
              "22246        4.6410        1  Санкт-Петербург           41935.0   \n",
              "22907       38.7600        0  Санкт-Петербург           22783.0   \n",
              "23102       11.2200        0  Санкт-Петербург           12007.0   \n",
              "23191        3.2130        0            Тосно               NaN   \n",
              "23202       13.0400        0       Всеволожск               NaN   \n",
              "\n",
              "      cityCenters_nearest  parks_around3000  parks_nearest  ponds_around3000  \\\n",
              "184               15031.0                 0            NaN                 1   \n",
              "424               13270.0                 0            NaN                 0   \n",
              "440               15015.0                 0            NaN                 2   \n",
              "545               11849.0                 0            NaN                 0   \n",
              "551                   NaN                 0            NaN                 0   \n",
              "...                   ...               ...            ...               ...   \n",
              "22246              9551.0                 0            NaN                 0   \n",
              "22907              1295.0                 3          619.0                 3   \n",
              "23102             11933.0                 0            NaN                 0   \n",
              "23191                 NaN                 0            NaN                 0   \n",
              "23202                 NaN                 0            NaN                 0   \n",
              "\n",
              "       ponds_nearest  days_exposition  \n",
              "184            824.0             12.0  \n",
              "424              NaN             90.0  \n",
              "440            982.0             64.0  \n",
              "545              NaN            108.0  \n",
              "551              NaN             70.0  \n",
              "...              ...              ...  \n",
              "22246            NaN             59.0  \n",
              "22907          269.0              NaN  \n",
              "23102            NaN             21.0  \n",
              "23191            NaN            115.0  \n",
              "23202            NaN             60.0  \n",
              "\n",
              "[115 rows x 22 columns]"
            ]
          },
          "execution_count": 30,
          "metadata": {},
          "output_type": "execute_result"
        }
      ],
      "source": [
        "data.query('total_area < living_area + kitchen_area') #выводим строки, где общая площадь меньше кухни+жилой площади"
      ]
    },
    {
      "cell_type": "code",
      "execution_count": null,
      "metadata": {
        "id": "3FhN-Kik1pf-"
      },
      "outputs": [],
      "source": [
        "data = data.query('total_area > living_area + kitchen_area') #удалим строки с ошибками"
      ]
    },
    {
      "cell_type": "markdown",
      "metadata": {
        "id": "lGV_kbaf1pf-"
      },
      "source": [
        "**Вывод:** мы устранили аномалии и выбивающиеся значения в некоторых столбцах. Всего мы удалили порядка 200 строк - незначительное количество, которое не исказит данные. В столбцах ceiling_height и floors_total аномалии обусловлены человеческим фактором - ошибками при вводе во время размещения объявления. В столбцах с площадями появление аномалий в большей степени обусловлено тем, что мы заменяли пропуски синтетическими данными."
      ]
    },
    {
      "cell_type": "markdown",
      "metadata": {
        "id": "F1wA-H_91pf-"
      },
      "source": [
        "### Посчитайте и добавьте в таблицу новые столбцы"
      ]
    },
    {
      "cell_type": "code",
      "execution_count": null,
      "metadata": {
        "id": "800D4Giq1pf-"
      },
      "outputs": [],
      "source": [
        "#добавим столбец sq_m_price с ценой одного квадратного метра\n",
        "#для этого разделим общую стоимость на общий метраж и округлим получившееся число до целого\n",
        "data['sq_m_price'] = round(data['last_price'] / data['total_area'])"
      ]
    },
    {
      "cell_type": "code",
      "execution_count": null,
      "metadata": {
        "id": "Kj_uAfOn1pf-"
      },
      "outputs": [],
      "source": [
        "#добавим столбец weekday с днём недели публикации объявления (где 0 — понедельник, 1 — вторник и так далее) с помощью метода dt.weekday\n",
        "data['weekday'] = data['first_day_exposition'].dt.weekday"
      ]
    },
    {
      "cell_type": "code",
      "execution_count": null,
      "metadata": {
        "id": "6zLEe7_v1pf_"
      },
      "outputs": [],
      "source": [
        "#добавим столбец month с месяцем публикации объявления\n",
        "data['month'] = data['first_day_exposition'].dt.month"
      ]
    },
    {
      "cell_type": "code",
      "execution_count": null,
      "metadata": {
        "id": "U5o1XrST1pf_"
      },
      "outputs": [],
      "source": [
        "#добавим столбец year с годом публикации объявления\n",
        "data['year'] = data['first_day_exposition'].dt.year"
      ]
    },
    {
      "cell_type": "code",
      "execution_count": null,
      "metadata": {
        "id": "h_AsNgie1pf_"
      },
      "outputs": [],
      "source": [
        "#добавим столбец floor_type с типом этажа квартиры («первый», «последний», «другой»)\n",
        "#напишем функцию, которая определяет тип этажа в каждой строке, и применим эту функцию к нашему датасету\n",
        "\n",
        "def type_floor(row):\n",
        "    try:\n",
        "        if row['floor'] == 1:\n",
        "            return('первый')\n",
        "        elif row['floor'] == row['floors_total']:\n",
        "            return('последний')\n",
        "        else:\n",
        "            return('другой')\n",
        "    except:\n",
        "        return('ошибка')\n",
        "\n",
        "data['floor_type'] = data.apply(type_floor, axis=1)"
      ]
    },
    {
      "cell_type": "code",
      "execution_count": null,
      "metadata": {
        "id": "Y6LnFd3N1pf_"
      },
      "outputs": [],
      "source": [
        "#добавим столбец city_center_km с расстоянием до центра города в километрах\n",
        "\n",
        "data['city_center_km'] = round(data['cityCenters_nearest'] / 1000)"
      ]
    },
    {
      "cell_type": "code",
      "execution_count": null,
      "metadata": {
        "id": "rFr8rAmA1pf_",
        "outputId": "694297cf-3e05-46eb-eb84-c18ac5b69c3f"
      },
      "outputs": [
        {
          "data": {
            "text/html": [
              "<div>\n",
              "<style scoped>\n",
              "    .dataframe tbody tr th:only-of-type {\n",
              "        vertical-align: middle;\n",
              "    }\n",
              "\n",
              "    .dataframe tbody tr th {\n",
              "        vertical-align: top;\n",
              "    }\n",
              "\n",
              "    .dataframe thead th {\n",
              "        text-align: right;\n",
              "    }\n",
              "</style>\n",
              "<table border=\"1\" class=\"dataframe\">\n",
              "  <thead>\n",
              "    <tr style=\"text-align: right;\">\n",
              "      <th></th>\n",
              "      <th>total_images</th>\n",
              "      <th>last_price</th>\n",
              "      <th>total_area</th>\n",
              "      <th>first_day_exposition</th>\n",
              "      <th>rooms</th>\n",
              "      <th>ceiling_height</th>\n",
              "      <th>floors_total</th>\n",
              "      <th>living_area</th>\n",
              "      <th>floor</th>\n",
              "      <th>is_apartment</th>\n",
              "      <th>...</th>\n",
              "      <th>parks_nearest</th>\n",
              "      <th>ponds_around3000</th>\n",
              "      <th>ponds_nearest</th>\n",
              "      <th>days_exposition</th>\n",
              "      <th>sq_m_price</th>\n",
              "      <th>weekday</th>\n",
              "      <th>month</th>\n",
              "      <th>year</th>\n",
              "      <th>floor_type</th>\n",
              "      <th>city_center_km</th>\n",
              "    </tr>\n",
              "  </thead>\n",
              "  <tbody>\n",
              "    <tr>\n",
              "      <th>0</th>\n",
              "      <td>20</td>\n",
              "      <td>13000000.0</td>\n",
              "      <td>108.0</td>\n",
              "      <td>2019-03-07</td>\n",
              "      <td>3</td>\n",
              "      <td>2.70</td>\n",
              "      <td>16</td>\n",
              "      <td>51.00</td>\n",
              "      <td>8</td>\n",
              "      <td>False</td>\n",
              "      <td>...</td>\n",
              "      <td>482.0</td>\n",
              "      <td>2</td>\n",
              "      <td>755.0</td>\n",
              "      <td>NaN</td>\n",
              "      <td>120370.0</td>\n",
              "      <td>3</td>\n",
              "      <td>3</td>\n",
              "      <td>2019</td>\n",
              "      <td>другой</td>\n",
              "      <td>16.0</td>\n",
              "    </tr>\n",
              "    <tr>\n",
              "      <th>1</th>\n",
              "      <td>7</td>\n",
              "      <td>3350000.0</td>\n",
              "      <td>40.4</td>\n",
              "      <td>2018-12-04</td>\n",
              "      <td>1</td>\n",
              "      <td>2.65</td>\n",
              "      <td>11</td>\n",
              "      <td>18.60</td>\n",
              "      <td>1</td>\n",
              "      <td>False</td>\n",
              "      <td>...</td>\n",
              "      <td>NaN</td>\n",
              "      <td>0</td>\n",
              "      <td>NaN</td>\n",
              "      <td>81.0</td>\n",
              "      <td>82921.0</td>\n",
              "      <td>1</td>\n",
              "      <td>12</td>\n",
              "      <td>2018</td>\n",
              "      <td>первый</td>\n",
              "      <td>19.0</td>\n",
              "    </tr>\n",
              "    <tr>\n",
              "      <th>2</th>\n",
              "      <td>10</td>\n",
              "      <td>5196000.0</td>\n",
              "      <td>56.0</td>\n",
              "      <td>2015-08-20</td>\n",
              "      <td>2</td>\n",
              "      <td>2.65</td>\n",
              "      <td>5</td>\n",
              "      <td>34.30</td>\n",
              "      <td>4</td>\n",
              "      <td>False</td>\n",
              "      <td>...</td>\n",
              "      <td>90.0</td>\n",
              "      <td>2</td>\n",
              "      <td>574.0</td>\n",
              "      <td>558.0</td>\n",
              "      <td>92786.0</td>\n",
              "      <td>3</td>\n",
              "      <td>8</td>\n",
              "      <td>2015</td>\n",
              "      <td>другой</td>\n",
              "      <td>14.0</td>\n",
              "    </tr>\n",
              "    <tr>\n",
              "      <th>3</th>\n",
              "      <td>0</td>\n",
              "      <td>64900000.0</td>\n",
              "      <td>159.0</td>\n",
              "      <td>2015-07-24</td>\n",
              "      <td>3</td>\n",
              "      <td>2.65</td>\n",
              "      <td>14</td>\n",
              "      <td>90.63</td>\n",
              "      <td>9</td>\n",
              "      <td>False</td>\n",
              "      <td>...</td>\n",
              "      <td>84.0</td>\n",
              "      <td>3</td>\n",
              "      <td>234.0</td>\n",
              "      <td>424.0</td>\n",
              "      <td>408176.0</td>\n",
              "      <td>4</td>\n",
              "      <td>7</td>\n",
              "      <td>2015</td>\n",
              "      <td>другой</td>\n",
              "      <td>7.0</td>\n",
              "    </tr>\n",
              "    <tr>\n",
              "      <th>4</th>\n",
              "      <td>2</td>\n",
              "      <td>10000000.0</td>\n",
              "      <td>100.0</td>\n",
              "      <td>2018-06-19</td>\n",
              "      <td>2</td>\n",
              "      <td>3.03</td>\n",
              "      <td>14</td>\n",
              "      <td>32.00</td>\n",
              "      <td>13</td>\n",
              "      <td>False</td>\n",
              "      <td>...</td>\n",
              "      <td>112.0</td>\n",
              "      <td>1</td>\n",
              "      <td>48.0</td>\n",
              "      <td>121.0</td>\n",
              "      <td>100000.0</td>\n",
              "      <td>1</td>\n",
              "      <td>6</td>\n",
              "      <td>2018</td>\n",
              "      <td>другой</td>\n",
              "      <td>8.0</td>\n",
              "    </tr>\n",
              "  </tbody>\n",
              "</table>\n",
              "<p>5 rows × 28 columns</p>\n",
              "</div>"
            ],
            "text/plain": [
              "   total_images  last_price  total_area first_day_exposition  rooms  \\\n",
              "0            20  13000000.0       108.0           2019-03-07      3   \n",
              "1             7   3350000.0        40.4           2018-12-04      1   \n",
              "2            10   5196000.0        56.0           2015-08-20      2   \n",
              "3             0  64900000.0       159.0           2015-07-24      3   \n",
              "4             2  10000000.0       100.0           2018-06-19      2   \n",
              "\n",
              "   ceiling_height  floors_total  living_area  floor  is_apartment  ...  \\\n",
              "0            2.70            16        51.00      8         False  ...   \n",
              "1            2.65            11        18.60      1         False  ...   \n",
              "2            2.65             5        34.30      4         False  ...   \n",
              "3            2.65            14        90.63      9         False  ...   \n",
              "4            3.03            14        32.00     13         False  ...   \n",
              "\n",
              "   parks_nearest  ponds_around3000  ponds_nearest  days_exposition sq_m_price  \\\n",
              "0          482.0                 2          755.0              NaN   120370.0   \n",
              "1            NaN                 0            NaN             81.0    82921.0   \n",
              "2           90.0                 2          574.0            558.0    92786.0   \n",
              "3           84.0                 3          234.0            424.0   408176.0   \n",
              "4          112.0                 1           48.0            121.0   100000.0   \n",
              "\n",
              "   weekday  month  year  floor_type  city_center_km  \n",
              "0        3      3  2019      другой            16.0  \n",
              "1        1     12  2018      первый            19.0  \n",
              "2        3      8  2015      другой            14.0  \n",
              "3        4      7  2015      другой             7.0  \n",
              "4        1      6  2018      другой             8.0  \n",
              "\n",
              "[5 rows x 28 columns]"
            ]
          },
          "execution_count": 38,
          "metadata": {},
          "output_type": "execute_result"
        }
      ],
      "source": [
        "#выведем первые 5 строк таблицы, чтобы убедиться, что все новые столбцы добавлены успешно\n",
        "data.head()"
      ]
    },
    {
      "cell_type": "markdown",
      "metadata": {
        "id": "njVderVr1pf_"
      },
      "source": [
        "### Проведите исследовательский анализ данных"
      ]
    },
    {
      "cell_type": "markdown",
      "metadata": {
        "id": "05-Z2WAH1pf_"
      },
      "source": [
        "**4.1 Построение гистограмм**"
      ]
    },
    {
      "cell_type": "code",
      "execution_count": null,
      "metadata": {
        "id": "7YobxjzU1pf_",
        "outputId": "1e6b58af-5e98-46cd-cad7-9fbf74696286"
      },
      "outputs": [
        {
          "data": {
            "image/png": "[encoded data removed]",
            "text/plain": [
              "<Figure size 432x288 with 1 Axes>"
            ]
          },
          "metadata": {
            "needs_background": "light"
          },
          "output_type": "display_data"
        }
      ],
      "source": [
        "#построим гистограмму для столбца total_area - общая площадь\n",
        "data['total_area'].plot(title='total_area', kind='hist', grid=True, range=(0, 350));"
      ]
    },
    {
      "cell_type": "markdown",
      "metadata": {
        "id": "Fy5ZRjHN1pgA"
      },
      "source": [
        "Большая часть квартир в датасете (около 14000) - площадью от 45 до 70 квадратных метров."
      ]
    },
    {
      "cell_type": "code",
      "execution_count": null,
      "metadata": {
        "scrolled": true,
        "id": "0ggUZmlZ1pgA",
        "outputId": "af30f9f1-bf66-4f45-a923-6464e5889a80"
      },
      "outputs": [
        {
          "data": {
            "image/png": "[encoded data removed]",
            "text/plain": [
              "<Figure size 432x288 with 1 Axes>"
            ]
          },
          "metadata": {
            "needs_background": "light"
          },
          "output_type": "display_data"
        }
      ],
      "source": [
        "#построим гистограмму для столбца living_area - жилая площадь\n",
        "data['living_area'].plot(title='living_area', kind='hist', grid=True, range=(0, 250));"
      ]
    },
    {
      "cell_type": "markdown",
      "metadata": {
        "id": "QtKtfCKp1pgA"
      },
      "source": [
        "Жилая площадь чаще всего составляет 25-50 квадратных метров."
      ]
    },
    {
      "cell_type": "code",
      "execution_count": null,
      "metadata": {
        "scrolled": true,
        "id": "yDovNIta1pgA",
        "outputId": "3e00f14f-29a1-4686-9a9e-6091d8d5553d"
      },
      "outputs": [
        {
          "data": {
            "image/png": "[encoded data removed]",
            "text/plain": [
              "<Figure size 432x288 with 1 Axes>"
            ]
          },
          "metadata": {
            "needs_background": "light"
          },
          "output_type": "display_data"
        }
      ],
      "source": [
        "#построим гистограмму для столбца kitchen_area - площадь кухни\n",
        "data['kitchen_area'].plot(title='kitchen_area', kind='hist', grid=True, range=(0, 70));"
      ]
    },
    {
      "cell_type": "markdown",
      "metadata": {
        "id": "ElHhPkJp1pgA"
      },
      "source": [
        "Площадь кухни чаще всего составляет 7-13 квадратных метров."
      ]
    },
    {
      "cell_type": "code",
      "execution_count": null,
      "metadata": {
        "id": "F7cbvOMA1pgA",
        "outputId": "d57d3c21-4aef-416f-f4db-6ea0312fc6e5"
      },
      "outputs": [
        {
          "data": {
            "image/png": "[encoded data removed]",
            "text/plain": [
              "<Figure size 432x288 with 1 Axes>"
            ]
          },
          "metadata": {
            "needs_background": "light"
          },
          "output_type": "display_data"
        }
      ],
      "source": [
        "#построим гистограмму для столбца last_price - цена объекта\n",
        "data['last_price'].plot(title='last_price', kind='hist', grid=True, range=(0, 50000000));"
      ]
    },
    {
      "cell_type": "markdown",
      "metadata": {
        "id": "Mes_whLi1pgA"
      },
      "source": [
        "Большую часть квартир продали меньше, чем за 50 млн."
      ]
    },
    {
      "cell_type": "code",
      "execution_count": null,
      "metadata": {
        "id": "yF1cEWdk1pgA",
        "outputId": "bbb8c190-171d-4894-9ca7-f6afd2274764"
      },
      "outputs": [
        {
          "data": {
            "image/png": "[encoded data removed]",
            "text/plain": [
              "<Figure size 432x288 with 1 Axes>"
            ]
          },
          "metadata": {
            "needs_background": "light"
          },
          "output_type": "display_data"
        }
      ],
      "source": [
        "#построим гистограмму для столбца rooms - количество комнат\n",
        "data['rooms'].plot(title='rooms', kind='hist', grid=True, range=(0, 10));"
      ]
    },
    {
      "cell_type": "markdown",
      "metadata": {
        "id": "bpg_i4z41pgA"
      },
      "source": [
        "Количество двух- и трёхкомнатных квартир почти одинаковое - около 8000, однако и четырёхкомнатных квартир тоже немало - около 6000."
      ]
    },
    {
      "cell_type": "code",
      "execution_count": null,
      "metadata": {
        "id": "mgyeiQnY1pgA",
        "outputId": "a5b351f4-1690-4733-f1f0-f3b6cd2b8b6b"
      },
      "outputs": [
        {
          "data": {
            "image/png": "[encoded data removed]",
            "text/plain": [
              "<Figure size 432x288 with 1 Axes>"
            ]
          },
          "metadata": {
            "needs_background": "light"
          },
          "output_type": "display_data"
        }
      ],
      "source": [
        "#построим гистограмму для столбца ceiling_height - высота потолков\n",
        "data['ceiling_height'].plot(title='ceiling_height', kind='hist', grid=True, range=(2, 5));"
      ]
    },
    {
      "cell_type": "markdown",
      "metadata": {
        "id": "Ar5mUl-K1pgB"
      },
      "source": [
        "В подавляющем большинстве квартир стандартные потолки высотой 2,6-2,9 метров."
      ]
    },
    {
      "cell_type": "code",
      "execution_count": null,
      "metadata": {
        "id": "IEPTa_BP1pgB",
        "outputId": "e82199c0-1457-4ac3-b310-6abe1393cdd3"
      },
      "outputs": [
        {
          "data": {
            "image/png": "[encoded data removed]",
            "text/plain": [
              "<Figure size 432x288 with 1 Axes>"
            ]
          },
          "metadata": {
            "needs_background": "light"
          },
          "output_type": "display_data"
        }
      ],
      "source": [
        "#построим гистограмму для столбца floor - этаж квартиры\n",
        "data['floor'].plot(title='floor', kind='hist', grid=True, bins=30, range=(1, 30));"
      ]
    },
    {
      "cell_type": "markdown",
      "metadata": {
        "id": "OTHyOqMK1pgB"
      },
      "source": [
        "Большая часть квартир находится на 2-3 этаже, следующая за ней группа - 1 и 4-5 этажи."
      ]
    },
    {
      "cell_type": "code",
      "execution_count": null,
      "metadata": {
        "id": "691YNhL-1pgB",
        "outputId": "e1c676e0-af95-4235-ea8a-1f2ca54e72c1"
      },
      "outputs": [
        {
          "data": {
            "image/png": "[encoded data removed]",
            "text/plain": [
              "<Figure size 432x288 with 1 Axes>"
            ]
          },
          "metadata": {
            "needs_background": "light"
          },
          "output_type": "display_data"
        }
      ],
      "source": [
        "#построим гистограмму для столбца floor_type - тип этажа квартиры («первый», «последний», «другой»)\n",
        "data['floor_type'].hist();"
      ]
    },
    {
      "cell_type": "markdown",
      "metadata": {
        "id": "lUQbJw2p1pgB"
      },
      "source": [
        "Больше всего квартир находятся не на первом и не на последнем этаже."
      ]
    },
    {
      "cell_type": "code",
      "execution_count": null,
      "metadata": {
        "id": "SCR0_Kqe1pgB",
        "outputId": "dfedb74e-f1d8-4285-cf89-db649629352e"
      },
      "outputs": [
        {
          "data": {
            "image/png": "[encoded data removed]",
            "text/plain": [
              "<Figure size 432x288 with 1 Axes>"
            ]
          },
          "metadata": {
            "needs_background": "light"
          },
          "output_type": "display_data"
        }
      ],
      "source": [
        "#построим гистограмму для столбца floors_total - общее количество этажей в доме\n",
        "data['floors_total'].plot(title='floors_total', kind='hist', grid=True);"
      ]
    },
    {
      "cell_type": "markdown",
      "metadata": {
        "id": "QVV1SQBK1pgB"
      },
      "source": [
        "Больше всего квартир в домах, в которых от 4 до 7 этажей, следующая за ней группа - дома на 8-11 этажей."
      ]
    },
    {
      "cell_type": "code",
      "execution_count": null,
      "metadata": {
        "scrolled": true,
        "id": "oZrizzaO1pgB",
        "outputId": "35bd144d-2378-4f17-b7eb-2fc17203cebc"
      },
      "outputs": [
        {
          "data": {
            "image/png": "[encoded data removed]",
            "text/plain": [
              "<Figure size 432x288 with 1 Axes>"
            ]
          },
          "metadata": {
            "needs_background": "light"
          },
          "output_type": "display_data"
        }
      ],
      "source": [
        "#построим гистограмму для столбца cityCenters_nearest - расстояние до центра города в метрах\n",
        "data['cityCenters_nearest'].plot(title='cityCenters_nearest', kind='hist', grid=True, range=(0, 60000));"
      ]
    },
    {
      "cell_type": "markdown",
      "metadata": {
        "id": "NGiI61KY1pgB"
      },
      "source": [
        "Большинство квартир, для которых у нас есть данные о расстоянии до центра Санкт-Петербурга, находится в 12-18 км от него."
      ]
    },
    {
      "cell_type": "code",
      "execution_count": null,
      "metadata": {
        "id": "qYmPaqE61pgB",
        "outputId": "1dabc716-651e-4c2d-d577-f40c108921ad"
      },
      "outputs": [
        {
          "data": {
            "image/png": "[encoded data removed]",
            "text/plain": [
              "<Figure size 432x288 with 1 Axes>"
            ]
          },
          "metadata": {
            "needs_background": "light"
          },
          "output_type": "display_data"
        }
      ],
      "source": [
        "#построим гистограмму для столбца airports_nearest - расстояние до ближайшего аэропорта\n",
        "data['airports_nearest'].plot(title='airports_nearest', kind='hist', grid=True, range=(0, 70000));"
      ]
    },
    {
      "cell_type": "markdown",
      "metadata": {
        "id": "Ag0Rgieh1pgC"
      },
      "source": [
        "Большинство квартир, для которых у нас есть данные о расстоянии до ближайшего аэропорта, находится в 21-28 км от него."
      ]
    },
    {
      "cell_type": "code",
      "execution_count": null,
      "metadata": {
        "id": "ipzSmdaQ1pgC",
        "outputId": "788bbd0d-be66-4119-8b98-442db6c12315"
      },
      "outputs": [
        {
          "data": {
            "image/png": "[encoded data removed]",
            "text/plain": [
              "<Figure size 432x288 with 1 Axes>"
            ]
          },
          "metadata": {
            "needs_background": "light"
          },
          "output_type": "display_data"
        }
      ],
      "source": [
        "#построим гистограмму для столбца parks_nearest - расстояние до ближайшего парка\n",
        "data['parks_nearest'].plot(title='parks_nearest', kind='hist', grid=True, range=(0, 2500));"
      ]
    },
    {
      "cell_type": "markdown",
      "metadata": {
        "id": "UelnQjQ71pgC"
      },
      "source": [
        "Большинство квартир, для которых у нас есть данные о расстоянии до ближайшего парка, находится в 250-500 м от него."
      ]
    },
    {
      "cell_type": "code",
      "execution_count": null,
      "metadata": {
        "id": "EBRGbW5v1pgC",
        "outputId": "1b435b4f-36ba-4f36-b50f-ec801ec87641"
      },
      "outputs": [
        {
          "data": {
            "image/png": "[encoded data removed]",
            "text/plain": [
              "<Figure size 432x288 with 1 Axes>"
            ]
          },
          "metadata": {
            "needs_background": "light"
          },
          "output_type": "display_data"
        }
      ],
      "source": [
        "#построим гистограмму для столбца weekday - день публикации объявления\n",
        "data['weekday'].plot(title='weekday', kind='hist', grid=True, bins=7);"
      ]
    },
    {
      "cell_type": "markdown",
      "metadata": {
        "id": "V3jJwlHt1pgC"
      },
      "source": [
        "Самые популярные дни для публикации объявлений - вторник (1) и четверг (3), меньше всего объявлений опубликовали в воскресенье (6)."
      ]
    },
    {
      "cell_type": "code",
      "execution_count": null,
      "metadata": {
        "id": "msETF6mH1pgC",
        "outputId": "8dd9d622-67f5-48a9-9e2d-c758c04030ab"
      },
      "outputs": [
        {
          "data": {
            "image/png": "[encoded data removed]",
            "text/plain": [
              "<Figure size 432x288 with 1 Axes>"
            ]
          },
          "metadata": {
            "needs_background": "light"
          },
          "output_type": "display_data"
        }
      ],
      "source": [
        "#построим гистограмму для столбца month - месяц публикации объявления\n",
        "data['month'].plot(title='month', kind='hist', grid=True, bins=12, range=(1, 12));"
      ]
    },
    {
      "cell_type": "markdown",
      "metadata": {
        "id": "Rrk_LOnD1pgC"
      },
      "source": [
        "Самые популярные месяцы для публикации объявлений - февраль (2) и март (3), меньше всего объявлений опубликовали в мае (5)."
      ]
    },
    {
      "cell_type": "markdown",
      "metadata": {
        "id": "KSh4yOFO1pgD"
      },
      "source": [
        "**4.2 Как быстро продавались квартиры?**"
      ]
    },
    {
      "cell_type": "code",
      "execution_count": null,
      "metadata": {
        "id": "DcjG7YEf1pgD",
        "outputId": "2b9a1d70-30ad-40a9-99c4-c6d341a91c96"
      },
      "outputs": [
        {
          "data": {
            "image/png": "[encoded data removed]",
            "text/plain": [
              "<Figure size 432x288 with 1 Axes>"
            ]
          },
          "metadata": {
            "needs_background": "light"
          },
          "output_type": "display_data"
        }
      ],
      "source": [
        "#построим гистограмму для days_exposition - сколько дней объявление висело на сайте\n",
        "data['days_exposition'].plot(title='days_exposition', kind='hist', grid=True, range=(0, 1400));"
      ]
    },
    {
      "cell_type": "code",
      "execution_count": null,
      "metadata": {
        "id": "BIgt0dvH1pgD",
        "outputId": "38a7216b-b41c-47c1-8801-8d3b7b4ce935"
      },
      "outputs": [
        {
          "name": "stdout",
          "output_type": "stream",
          "text": [
            "181.15839032609773\n",
            "96.0\n"
          ]
        }
      ],
      "source": [
        "print(data['days_exposition'].mean()) #посчитаем среднее\n",
        "print(data['days_exposition'].median()) #посчитаем медиану"
      ]
    },
    {
      "cell_type": "code",
      "execution_count": null,
      "metadata": {
        "id": "A42MKCeL1pgD",
        "outputId": "f89bdf2e-ac4a-4382-872d-459333e7205b"
      },
      "outputs": [
        {
          "data": {
            "image/png": "[encoded data removed]",
            "text/plain": [
              "<Figure size 432x288 with 1 Axes>"
            ]
          },
          "metadata": {
            "needs_background": "light"
          },
          "output_type": "display_data"
        }
      ],
      "source": [
        "#посмотрим на ту же гистограмму, но установим ограничение в 1,5 года, чтобы увидеть всплески продаж\n",
        "data['days_exposition'].plot(title='days_exposition', kind='hist', grid=True, bins=100, range=(0, 550));"
      ]
    },
    {
      "cell_type": "markdown",
      "metadata": {
        "id": "Lh3ui__31pgD"
      },
      "source": [
        "Как мы можем видеть на гистограмме, большая часть объявлений висит на сайте до 180 дней. Обычно продажа занимает около 100-150 дней. Быстрыми можно считать продажи в течение 30-60 дней, необычно долгими - более 600 дней. Также наблюдаются всплески продаж в районе 50-70 дней после публикации."
      ]
    },
    {
      "cell_type": "markdown",
      "metadata": {
        "id": "7W_EN58r1pgD"
      },
      "source": [
        "**4.3 Какие факторы больше всего влияют на общую (полную) стоимость объекта?**"
      ]
    },
    {
      "cell_type": "markdown",
      "metadata": {
        "id": "jwsVLf_71pgE"
      },
      "source": [
        "а) общая площадь"
      ]
    },
    {
      "cell_type": "code",
      "execution_count": null,
      "metadata": {
        "id": "N6q9tyAu1pgE",
        "outputId": "67b6448b-b27c-45fd-e267-bacb8bed01bf"
      },
      "outputs": [
        {
          "name": "stdout",
          "output_type": "stream",
          "text": [
            "Корреляция общей площади и общей стоимости: 0.6517201590107329\n",
            "AxesSubplot(0.125,0.125;0.775x0.755)\n"
          ]
        },
        {
          "data": {
            "image/png": "[encoded data removed]",
            "text/plain": [
              "<Figure size 1224x360 with 1 Axes>"
            ]
          },
          "metadata": {
            "needs_background": "light"
          },
          "output_type": "display_data"
        }
      ],
      "source": [
        "#вычислим корреляцию общей площади и общей стоимости\n",
        "print('Корреляция общей площади и общей стоимости:', data['total_area'].corr(data['last_price']))\n",
        "#и построим график зависимости цены от общей площади квартиры с помощью сводной таблицы\n",
        "print(data.pivot_table(index='total_area', values='last_price', aggfunc='median').plot(title='total_area', grid=True, figsize=(17, 5)))"
      ]
    },
    {
      "cell_type": "markdown",
      "metadata": {
        "id": "21tNHy9Y1pgE"
      },
      "source": [
        "Действительно существует зависимость между общей площадью и общей стоимостью объекта - чем больше площадь, тем выше цена."
      ]
    },
    {
      "cell_type": "markdown",
      "metadata": {
        "id": "X6HgepaM1pgE"
      },
      "source": [
        "б) жилая площадь"
      ]
    },
    {
      "cell_type": "code",
      "execution_count": null,
      "metadata": {
        "scrolled": false,
        "id": "PyvtN1g41pgE",
        "outputId": "7fed614e-4f84-47c2-f1fb-79a761ad6924"
      },
      "outputs": [
        {
          "name": "stdout",
          "output_type": "stream",
          "text": [
            "Корреляция жилой площади и общей стоимости: 0.5811652282153836\n",
            "AxesSubplot(0.125,0.125;0.775x0.755)\n"
          ]
        },
        {
          "data": {
            "image/png": "[encoded data removed]",
            "text/plain": [
              "<Figure size 1224x360 with 1 Axes>"
            ]
          },
          "metadata": {
            "needs_background": "light"
          },
          "output_type": "display_data"
        }
      ],
      "source": [
        "#вычислим корреляцию жилой площади и общей стоимости\n",
        "print('Корреляция жилой площади и общей стоимости:', data['living_area'].corr(data['last_price']))\n",
        "#и построим график зависимости цены от жилой площади квартиры с помощью сводной таблицы\n",
        "print(data.pivot_table(index='living_area', values='last_price', aggfunc='median').plot(title='living_area', grid=True, figsize=(17, 5)))"
      ]
    },
    {
      "cell_type": "markdown",
      "metadata": {
        "id": "fDluvTGf1pgE"
      },
      "source": [
        "Также существует чуть менее выраженная положительная корреляция между жилой площадью и общей стоимостью объекта."
      ]
    },
    {
      "cell_type": "markdown",
      "metadata": {
        "id": "iZIFblb01pgE"
      },
      "source": [
        "в) площадь кухни"
      ]
    },
    {
      "cell_type": "code",
      "execution_count": null,
      "metadata": {
        "id": "LRrWg4Z21pgE",
        "outputId": "c17c18eb-b5d0-457b-cab1-6c53feaf3667"
      },
      "outputs": [
        {
          "name": "stdout",
          "output_type": "stream",
          "text": [
            "Корреляция площади кухни и общей стоимости: 0.5122567125139744\n",
            "AxesSubplot(0.125,0.125;0.775x0.755)\n"
          ]
        },
        {
          "data": {
            "image/png": "[encoded data removed]",
            "text/plain": [
              "<Figure size 1224x360 with 1 Axes>"
            ]
          },
          "metadata": {
            "needs_background": "light"
          },
          "output_type": "display_data"
        }
      ],
      "source": [
        "#вычислим корреляцию площади кухни и общей стоимости\n",
        "print('Корреляция площади кухни и общей стоимости:', data['kitchen_area'].corr(data['last_price']))\n",
        "#и построим график зависимости цены от площади кухни квартиры с помощью сводной таблицы\n",
        "print(data.pivot_table(index='kitchen_area', values='last_price', aggfunc='median').plot(title='kitchen_area', grid=True, figsize=(17, 5)))"
      ]
    },
    {
      "cell_type": "markdown",
      "metadata": {
        "id": "rSYeD4K_1pgE"
      },
      "source": [
        "Существует средняя положительная корреляция между площадью кухни и общей стоимостью квартиры."
      ]
    },
    {
      "cell_type": "markdown",
      "metadata": {
        "id": "fSX1-0ne1pgF"
      },
      "source": [
        "г) количество комнат"
      ]
    },
    {
      "cell_type": "code",
      "execution_count": null,
      "metadata": {
        "id": "1cHEcnXu1pgF",
        "outputId": "fd5b8fd4-5425-41dd-abf4-c0d7245048d4"
      },
      "outputs": [
        {
          "name": "stdout",
          "output_type": "stream",
          "text": [
            "Корреляция количества комнат и общей стоимости: 0.3609310107867649\n",
            "AxesSubplot(0.125,0.125;0.775x0.755)\n"
          ]
        },
        {
          "data": {
            "image/png": "[encoded data removed]",
            "text/plain": [
              "<Figure size 1224x360 with 1 Axes>"
            ]
          },
          "metadata": {
            "needs_background": "light"
          },
          "output_type": "display_data"
        }
      ],
      "source": [
        "#вычислим корреляцию количества комнат и общей стоимости\n",
        "print('Корреляция количества комнат и общей стоимости:', data['rooms'].corr(data['last_price']))\n",
        "#и построим график зависимости цены от количества комнат квартиры с помощью сводной таблицы\n",
        "print(data.pivot_table(index='rooms', values='last_price', aggfunc='median').plot(title='rooms', grid=True, figsize=(17, 5)))"
      ]
    },
    {
      "cell_type": "markdown",
      "metadata": {
        "id": "IbaEjSAq1pgF"
      },
      "source": [
        "Нельзя сказать, что есть зависимость между количеством комнат и общей стоимостью объекта."
      ]
    },
    {
      "cell_type": "markdown",
      "metadata": {
        "id": "95OBjVIm1pgF"
      },
      "source": [
        "д) этаж, на котором расположена квартира (первый, последний, другой)"
      ]
    },
    {
      "cell_type": "code",
      "execution_count": null,
      "metadata": {
        "id": "JeVLWkie1pgF",
        "outputId": "ce2d34ba-9f1d-47b1-e0bc-d39dc4c9be66"
      },
      "outputs": [
        {
          "name": "stdout",
          "output_type": "stream",
          "text": [
            "AxesSubplot(0.125,0.125;0.775x0.755)\n"
          ]
        },
        {
          "data": {
            "image/png": "[encoded data removed]",
            "text/plain": [
              "<Figure size 1224x360 with 1 Axes>"
            ]
          },
          "metadata": {
            "needs_background": "light"
          },
          "output_type": "display_data"
        }
      ],
      "source": [
        "#построим график зависимости цены от типа этажа с помощью сводной таблицы\n",
        "print(data.pivot_table(index='floor_type', values='last_price', aggfunc='median').plot(title='floor_type', grid=True, figsize=(17, 5)))"
      ]
    },
    {
      "cell_type": "markdown",
      "metadata": {
        "id": "SPuXunmQ1pgF"
      },
      "source": [
        "На графике видно, что самые дешёвые квартиры - на первом этаже, в то время как самые дорогие - на \"других\" этажах."
      ]
    },
    {
      "cell_type": "markdown",
      "metadata": {
        "id": "u6YlPRDz1pgF"
      },
      "source": [
        "е) дата размещения - день недели"
      ]
    },
    {
      "cell_type": "code",
      "execution_count": null,
      "metadata": {
        "id": "x8NEXeGL1pgF",
        "outputId": "7206cb5d-bd47-4827-9cca-73bb0218b731"
      },
      "outputs": [
        {
          "name": "stdout",
          "output_type": "stream",
          "text": [
            "Корреляция дня недели публикации объявления и общей стоимости: 0.002028799423210106\n",
            "AxesSubplot(0.125,0.125;0.775x0.755)\n"
          ]
        },
        {
          "data": {
            "image/png": "[encoded data removed]",
            "text/plain": [
              "<Figure size 1224x360 with 1 Axes>"
            ]
          },
          "metadata": {
            "needs_background": "light"
          },
          "output_type": "display_data"
        }
      ],
      "source": [
        "#вычислим корреляцию дня недели публикации объявления и общей стоимости\n",
        "print('Корреляция дня недели публикации объявления и общей стоимости:', data['weekday'].corr(data['last_price']))\n",
        "#и построим график зависимости цены от дня недели публикации объявления с помощью сводной таблицы\n",
        "print(data.pivot_table(index='weekday', values='last_price', aggfunc='median').plot(title='weekday', grid=True, figsize=(17, 5)))"
      ]
    },
    {
      "cell_type": "markdown",
      "metadata": {
        "id": "G71D-zdt1pgF"
      },
      "source": [
        "Нет зависимости между днём недели публикации объявления и общей ценой."
      ]
    },
    {
      "cell_type": "markdown",
      "metadata": {
        "id": "NufaR5EA1pgG"
      },
      "source": [
        "ж) дата размещения - месяц"
      ]
    },
    {
      "cell_type": "code",
      "execution_count": null,
      "metadata": {
        "id": "LqTGXQ9_1pgG",
        "outputId": "d120299d-120e-4d97-b2c2-7cd61c79e865"
      },
      "outputs": [
        {
          "name": "stdout",
          "output_type": "stream",
          "text": [
            "Корреляция месяца публикации объявления и общей стоимости: 0.0014478384000639656\n",
            "AxesSubplot(0.125,0.125;0.775x0.755)\n"
          ]
        },
        {
          "data": {
            "image/png": "[encoded data removed]",
            "text/plain": [
              "<Figure size 1224x360 with 1 Axes>"
            ]
          },
          "metadata": {
            "needs_background": "light"
          },
          "output_type": "display_data"
        }
      ],
      "source": [
        "#вычислим корреляцию месяца публикации объявления и общей стоимости\n",
        "print('Корреляция месяца публикации объявления и общей стоимости:', data['month'].corr(data['last_price']))\n",
        "#и построим график зависимости цены от месяца публикации объявления с помощью сводной таблицы\n",
        "print(data.pivot_table(index='month', values='last_price', aggfunc='median').plot(title='month', grid=True, figsize=(17, 5)))"
      ]
    },
    {
      "cell_type": "markdown",
      "metadata": {
        "id": "s7g_6yCW1pgG"
      },
      "source": [
        "Также нет зависимости между месяцем публикации объявления и общей ценой."
      ]
    },
    {
      "cell_type": "markdown",
      "metadata": {
        "id": "uhyDBVze1pgG"
      },
      "source": [
        "з) дата размещения - год"
      ]
    },
    {
      "cell_type": "code",
      "execution_count": null,
      "metadata": {
        "id": "vaZBsqmv1pgG",
        "outputId": "6c0540be-f301-4d42-ce8e-30f6ff01534c"
      },
      "outputs": [
        {
          "name": "stdout",
          "output_type": "stream",
          "text": [
            "Корреляция года публикации объявления и общей стоимости: -0.04240892186436793\n",
            "AxesSubplot(0.125,0.125;0.775x0.755)\n"
          ]
        },
        {
          "data": {
            "image/png": "[encoded data removed]",
            "text/plain": [
              "<Figure size 1224x360 with 1 Axes>"
            ]
          },
          "metadata": {
            "needs_background": "light"
          },
          "output_type": "display_data"
        }
      ],
      "source": [
        "#вычислим корреляцию года публикации объявления и общей стоимости\n",
        "print('Корреляция года публикации объявления и общей стоимости:', data['year'].corr(data['last_price']))\n",
        "#и построим график зависимости цены от года публикации объявления с помощью сводной таблицы\n",
        "print(data.pivot_table(index='year', values='last_price', aggfunc='median').plot(title='year', grid=True, figsize=(17, 5)))"
      ]
    },
    {
      "cell_type": "markdown",
      "metadata": {
        "id": "zLAGErkN1pgG"
      },
      "source": [
        "Также нет выраженной зависимости между годом публикации объявления и общей ценой."
      ]
    },
    {
      "cell_type": "markdown",
      "metadata": {
        "id": "UaV77p2b1pgG"
      },
      "source": [
        "**4.4 Посчитайте среднюю цену одного квадратного метра в 10 населённых пунктах с наибольшим числом объявлений. Выделите населённые пункты с самой высокой и низкой стоимостью квадратного метра.**"
      ]
    },
    {
      "cell_type": "code",
      "execution_count": null,
      "metadata": {
        "id": "MaHz72Sf1pgG",
        "outputId": "213c31c1-c005-4ed4-afcd-94fbd1a79bc3"
      },
      "outputs": [
        {
          "data": {
            "text/plain": [
              "Санкт-Петербург      15506\n",
              "посёлок Мурино         540\n",
              "посёлок Шушары         438\n",
              "Всеволожск             389\n",
              "Пушкин                 365\n",
              "Колпино                336\n",
              "посёлок Парголово      326\n",
              "Гатчина                303\n",
              "деревня Кудрово        295\n",
              "Выборг                 232\n",
              "Name: locality_name, dtype: int64"
            ]
          },
          "execution_count": 64,
          "metadata": {},
          "output_type": "execute_result"
        }
      ],
      "source": [
        "data['locality_name'].value_counts().head(10) #выведем 10 населённых пунктов с наибольшим числом объявлений"
      ]
    },
    {
      "cell_type": "code",
      "execution_count": null,
      "metadata": {
        "scrolled": false,
        "id": "-HIuoAH41pgG",
        "outputId": "f212dc35-1641-4d6d-ee70-04439b6bef3f"
      },
      "outputs": [
        {
          "data": {
            "text/html": [
              "<div>\n",
              "<style scoped>\n",
              "    .dataframe tbody tr th:only-of-type {\n",
              "        vertical-align: middle;\n",
              "    }\n",
              "\n",
              "    .dataframe tbody tr th {\n",
              "        vertical-align: top;\n",
              "    }\n",
              "\n",
              "    .dataframe thead th {\n",
              "        text-align: right;\n",
              "    }\n",
              "</style>\n",
              "<table border=\"1\" class=\"dataframe\">\n",
              "  <thead>\n",
              "    <tr style=\"text-align: right;\">\n",
              "      <th></th>\n",
              "      <th>sq_m_price</th>\n",
              "    </tr>\n",
              "    <tr>\n",
              "      <th>locality_name</th>\n",
              "      <th></th>\n",
              "    </tr>\n",
              "  </thead>\n",
              "  <tbody>\n",
              "    <tr>\n",
              "      <th>Выборг</th>\n",
              "      <td>58402.599138</td>\n",
              "    </tr>\n",
              "    <tr>\n",
              "      <th>Гатчина</th>\n",
              "      <td>68625.105611</td>\n",
              "    </tr>\n",
              "    <tr>\n",
              "      <th>Всеволожск</th>\n",
              "      <td>68649.146530</td>\n",
              "    </tr>\n",
              "    <tr>\n",
              "      <th>Колпино</th>\n",
              "      <td>75500.157738</td>\n",
              "    </tr>\n",
              "    <tr>\n",
              "      <th>посёлок Шушары</th>\n",
              "      <td>78546.995434</td>\n",
              "    </tr>\n",
              "    <tr>\n",
              "      <th>посёлок Мурино</th>\n",
              "      <td>85394.438889</td>\n",
              "    </tr>\n",
              "    <tr>\n",
              "      <th>посёлок Парголово</th>\n",
              "      <td>90135.049080</td>\n",
              "    </tr>\n",
              "    <tr>\n",
              "      <th>деревня Кудрово</th>\n",
              "      <td>92447.393220</td>\n",
              "    </tr>\n",
              "    <tr>\n",
              "      <th>Пушкин</th>\n",
              "      <td>103202.917808</td>\n",
              "    </tr>\n",
              "    <tr>\n",
              "      <th>Санкт-Петербург</th>\n",
              "      <td>114620.185348</td>\n",
              "    </tr>\n",
              "  </tbody>\n",
              "</table>\n",
              "</div>"
            ],
            "text/plain": [
              "                      sq_m_price\n",
              "locality_name                   \n",
              "Выборг              58402.599138\n",
              "Гатчина             68625.105611\n",
              "Всеволожск          68649.146530\n",
              "Колпино             75500.157738\n",
              "посёлок Шушары      78546.995434\n",
              "посёлок Мурино      85394.438889\n",
              "посёлок Парголово   90135.049080\n",
              "деревня Кудрово     92447.393220\n",
              "Пушкин             103202.917808\n",
              "Санкт-Петербург    114620.185348"
            ]
          },
          "execution_count": 65,
          "metadata": {},
          "output_type": "execute_result"
        }
      ],
      "source": [
        "#создадим таблицу с объявлениями только в этих населённых пунктах\n",
        "popular_locality = data.query('locality_name in [\"Санкт-Петербург\", \"посёлок Мурино\", \"посёлок Шушары\", \"Всеволожск\", \"Пушкин\", \"Колпино\", \"посёлок Парголово\", \"Гатчина\", \"деревня Кудрово\", \"Выборг\"]')\n",
        "\n",
        "#теперь создадим сводную таблицу по каждому населённому пункту со средней стоимостью 1 кв.м.\n",
        "#и отсортируем значения от меньшего к большему\n",
        "popular_locality.pivot_table(index='locality_name', values='sq_m_price').sort_values('sq_m_price')"
      ]
    },
    {
      "cell_type": "code",
      "execution_count": null,
      "metadata": {
        "id": "BYOunq_q1pgH",
        "outputId": "c4fcf5e9-61b0-406d-ab0f-b471ebe1a9e6"
      },
      "outputs": [
        {
          "data": {
            "image/png": "[encoded data removed]",
            "text/plain": [
              "<Figure size 864x360 with 1 Axes>"
            ]
          },
          "metadata": {
            "needs_background": "light"
          },
          "output_type": "display_data"
        }
      ],
      "source": [
        "#построим столбчатую диаграмму на основе получившейся таблицы\n",
        "popular_locality.pivot_table(index='locality_name', values='sq_m_price').sort_values('sq_m_price').plot(title='popular_locality', kind='bar', grid=True, figsize=(12, 5));"
      ]
    },
    {
      "cell_type": "markdown",
      "metadata": {
        "id": "cGMq0-Ag1pgH"
      },
      "source": [
        "10 населённых пунктов с наибольшим числом объявлений - Санкт-Петербург, посёлок Мурино, посёлок Шушары, Всеволожск, Пушкин, Колпино, посёлок Парголово, Гатчина, деревня Кудрово и Выборг. Самая высокая средняя стоимость 1 кв. м. в Санкт-Петербурге - 114637, самая низкая - в Выборге - 58402."
      ]
    },
    {
      "cell_type": "markdown",
      "metadata": {
        "id": "Yz0-SPIh1pgH"
      },
      "source": [
        "**4.5 Выделите квартиры в Санкт-Петербурге с помощью столбца locality_name и вычислите среднюю цену каждого километра. Опишите, как стоимость объектов зависит от расстояния до центра города.**"
      ]
    },
    {
      "cell_type": "code",
      "execution_count": null,
      "metadata": {
        "id": "bKOMlyPA1pgH",
        "outputId": "a2a3b28e-be9b-4a92-82c9-bdd48668f1c7"
      },
      "outputs": [
        {
          "name": "stderr",
          "output_type": "stream",
          "text": [
            "/tmp/ipykernel_100/3710148403.py:4: SettingWithCopyWarning: \n",
            "A value is trying to be set on a copy of a slice from a DataFrame.\n",
            "Try using .loc[row_indexer,col_indexer] = value instead\n",
            "\n",
            "See the caveats in the documentation: https://pandas.pydata.org/pandas-docs/stable/user_guide/indexing.html#returning-a-view-versus-a-copy\n",
            "  spb['one_km_price'] = spb['sq_m_price'] / spb['city_center_km']\n"
          ]
        },
        {
          "data": {
            "text/plain": [
              "city_center_km\n",
              "1.0     176637.328042\n",
              "2.0      78923.402280\n",
              "3.0      40413.542636\n",
              "4.0      33243.380307\n",
              "5.0      27982.112292\n",
              "6.0      24869.726113\n",
              "7.0      22309.848214\n",
              "8.0      15601.742784\n",
              "9.0      12555.509592\n",
              "10.0     11266.451192\n",
              "11.0      9843.018900\n",
              "12.0      8951.980628\n",
              "13.0      8312.745414\n",
              "14.0      7438.001581\n",
              "15.0      6951.503305\n",
              "16.0      6271.710050\n",
              "17.0      5701.488161\n",
              "18.0      5364.201416\n",
              "19.0      5187.425127\n",
              "20.0      5151.821277\n",
              "21.0      4492.392447\n",
              "22.0      4147.849389\n",
              "23.0      3992.545269\n",
              "24.0      3572.370192\n",
              "25.0      3677.974400\n",
              "26.0      3376.879249\n",
              "27.0      4893.166667\n",
              "28.0      2898.637755\n",
              "29.0      2515.637931\n",
              "Name: one_km_price, dtype: float64"
            ]
          },
          "execution_count": 67,
          "metadata": {},
          "output_type": "execute_result"
        }
      ],
      "source": [
        "#выделим таблицу с квартирами в Санкт-Петербурге с расстоянием от центра больше нуля\n",
        "spb = data.query('locality_name in \"Санкт-Петербург\" and city_center_km > 0')\n",
        "#рассчитаем стоимость 1 км для каждой квартиры и добавим это значение в новый столбец\n",
        "spb['one_km_price'] = spb['sq_m_price'] / spb['city_center_km']\n",
        "#сгруппируем квартиры по удалённости от цетра и рассчитаем среднюю цену каждого километра\n",
        "spb.groupby('city_center_km')['one_km_price'].mean()"
      ]
    },
    {
      "cell_type": "code",
      "execution_count": null,
      "metadata": {
        "scrolled": false,
        "id": "s2vRLOWE1pgH",
        "outputId": "4b63483b-8c4b-4105-a933-2467d0be1af3"
      },
      "outputs": [
        {
          "name": "stdout",
          "output_type": "stream",
          "text": [
            "Корреляция расстояния до центра города и общей стоимости: -0.20601494361508177\n",
            "AxesSubplot(0.125,0.125;0.775x0.755)\n"
          ]
        },
        {
          "data": {
            "image/png": "[encoded data removed]",
            "text/plain": [
              "<Figure size 1224x360 with 1 Axes>"
            ]
          },
          "metadata": {
            "needs_background": "light"
          },
          "output_type": "display_data"
        }
      ],
      "source": [
        "#вычислим корреляцию расстояния до центра города и общей стоимости\n",
        "print('Корреляция расстояния до центра города и общей стоимости:', data['city_center_km'].corr(data['last_price']))\n",
        "#и построим график зависимости цены от расстояния до центра города с помощью сводной таблицы\n",
        "print(data.pivot_table(index='city_center_km', values='last_price').plot(title='city_center_km', grid=True, figsize=(17, 5)))"
      ]
    },
    {
      "cell_type": "markdown",
      "metadata": {
        "id": "8kIOad7e1pgI"
      },
      "source": [
        "Существует слабо выраженная зависимость между расстоянием до центра города и общей стоимостью квартиры: в центре квартиры дороже, чем на окраине. Но также следует помнить, что на стоимость квартиры во многом влияют и другие факторы - общая площадь, этаж и так далее."
      ]
    },
    {
      "cell_type": "markdown",
      "metadata": {
        "id": "p5pMRw2K1pgI"
      },
      "source": [
        "### Общий вывод"
      ]
    },
    {
      "cell_type": "markdown",
      "metadata": {
        "id": "_ODtVObS1pgI"
      },
      "source": [
        "Мы провели исследование датасета на основе данных сервиса Яндекс Недвижимость.\n",
        "\n",
        "Мы провели предобработку данных: заполнили пропуски, где это представлялось возможным, заменили тип некоторых данных для удобства работы, удалили неявные дубликаты и аномалии, а также добавили несколько столбцов также для удобства исследования.\n",
        "\n",
        "Мы сделали следующие выводы:\n",
        "1) Большинство проданных квартир - двух- и трёхкомнатные, площадью от 45 до 70 квадратных метров, из которых жилая площадь чаще всего составляет 25-50 квадратных метров, а площадь кухни - 7-13 квадратных метров. Высота потолков в них - стандартная, 2,6-2,9 метров. Чаще всего они располагаются на 2-3 этаже. В основном стоимость квартир составляет до 50 миллионов. Больше всего квартир в домах, в которых от 4 до 7 этажей. Большинство квартир, для которых у нас были данные, находится в 12-18 км от центра Санкт-Петербурга и 21-28 км от ближайшего аэропорта. Большинство квартир, для которых у нас есть данные о расстоянии до ближайшего парка, находится в 250-500 м от него.\n",
        "\n",
        "2) Чаще всего объявления публикуют по вторникам и четвергам, реже всего - по воскресеньям. Самые популярные месяцы для публикации объявлений - февраль и март, меньше всего объявлений опубликовали в мае.\n",
        "\n",
        "3) Большая часть объявлений висит на сайте до 180 дней. Обычно продажа занимает около 100-150 дней. Быстрыми можно считать продажи в течение 30-60 дней, необычно долгими - более 600 дней.\n",
        "\n",
        "4) Общая стоимость объекта увеличивается с общей, жилой площадами и площадью кухни. Также дороже квартиры, которые находятся не на первом и не на последнем этажах. Такие факторы, как количество комнат в квартире или день/месяц публикации объявления не влияют на стоимость.\n",
        "\n",
        "5) В Ленинградской области самая высокая средняя стоимость 1 кв. м. в Санкт-Петербурге - 114637, самая низкая - в Выборге - 58402.\n",
        "\n",
        "6) В среднем, в центре Санкт-Петербурга квартиры дороже, чем на окраине. Но также следует помнить, что на стоимость квартиры во многом влияют и другие факторы, описанные выше - общая площадь, этаж и так далее.\n",
        "\n",
        "Рекомендация для сервиса: сделать такие поля, как высота потолков, жилая площадь и площадь кухни, удалённость от центра и ближайшего аэропорта и пр. обязательными для заполнения в целях более точных исследований в будущем."
      ]
    },
    {
      "cell_type": "code",
      "execution_count": null,
      "metadata": {
        "id": "8nYwWE4c1pgI"
      },
      "outputs": [],
      "source": []
    }
  ],
  "metadata": {
    "ExecuteTimeLog": [
      {
        "duration": 503,
        "start_time": "2023-05-29T17:41:11.796Z"
      },
      {
        "duration": 111,
        "start_time": "2023-05-29T17:41:56.044Z"
      },
      {
        "duration": 17,
        "start_time": "2023-05-29T17:45:54.021Z"
      },
      {
        "duration": 2708,
        "start_time": "2023-05-29T17:50:18.671Z"
      },
      {
        "duration": 29,
        "start_time": "2023-05-29T17:57:15.877Z"
      },
      {
        "duration": 9,
        "start_time": "2023-05-29T18:00:04.389Z"
      },
      {
        "duration": 11,
        "start_time": "2023-05-29T18:00:19.355Z"
      },
      {
        "duration": 11,
        "start_time": "2023-05-29T18:00:26.011Z"
      },
      {
        "duration": 8,
        "start_time": "2023-05-29T18:12:38.998Z"
      },
      {
        "duration": 6,
        "start_time": "2023-05-29T18:12:58.390Z"
      },
      {
        "duration": 6,
        "start_time": "2023-05-29T18:13:18.003Z"
      },
      {
        "duration": 5,
        "start_time": "2023-05-29T18:13:24.564Z"
      },
      {
        "duration": 5,
        "start_time": "2023-05-29T18:17:41.410Z"
      },
      {
        "duration": 4,
        "start_time": "2023-05-29T18:17:43.197Z"
      },
      {
        "duration": 5,
        "start_time": "2023-05-29T18:31:45.919Z"
      },
      {
        "duration": 11,
        "start_time": "2023-05-29T18:43:21.465Z"
      },
      {
        "duration": 5,
        "start_time": "2023-05-29T18:44:45.198Z"
      },
      {
        "duration": 3,
        "start_time": "2023-05-29T18:46:49.110Z"
      },
      {
        "duration": 4,
        "start_time": "2023-05-29T18:47:08.998Z"
      },
      {
        "duration": 14,
        "start_time": "2023-05-29T18:54:28.859Z"
      },
      {
        "duration": 9,
        "start_time": "2023-05-29T18:54:30.047Z"
      },
      {
        "duration": 4,
        "start_time": "2023-05-29T19:08:37.440Z"
      },
      {
        "duration": 7,
        "start_time": "2023-05-29T19:08:49.050Z"
      },
      {
        "duration": 5,
        "start_time": "2023-05-29T19:09:02.795Z"
      },
      {
        "duration": 6,
        "start_time": "2023-05-29T19:09:14.407Z"
      },
      {
        "duration": 5,
        "start_time": "2023-05-29T19:21:24.495Z"
      },
      {
        "duration": 120,
        "start_time": "2023-05-30T14:14:56.885Z"
      },
      {
        "duration": 1961,
        "start_time": "2023-05-30T14:15:10.580Z"
      },
      {
        "duration": 16,
        "start_time": "2023-05-30T14:15:13.979Z"
      },
      {
        "duration": 4264,
        "start_time": "2023-05-30T14:15:15.389Z"
      },
      {
        "duration": 16,
        "start_time": "2023-05-30T14:15:22.373Z"
      },
      {
        "duration": 35,
        "start_time": "2023-05-30T14:15:26.837Z"
      },
      {
        "duration": 19,
        "start_time": "2023-05-30T14:15:27.837Z"
      },
      {
        "duration": 24,
        "start_time": "2023-05-30T14:15:32.027Z"
      },
      {
        "duration": 19,
        "start_time": "2023-05-30T14:15:51.725Z"
      },
      {
        "duration": 7,
        "start_time": "2023-05-30T14:29:32.315Z"
      },
      {
        "duration": 10,
        "start_time": "2023-05-30T14:29:53.467Z"
      },
      {
        "duration": 8,
        "start_time": "2023-05-30T14:30:19.971Z"
      },
      {
        "duration": 4,
        "start_time": "2023-05-30T14:31:06.095Z"
      },
      {
        "duration": 15,
        "start_time": "2023-05-30T14:31:22.055Z"
      },
      {
        "duration": 51,
        "start_time": "2023-05-30T14:32:18.877Z"
      },
      {
        "duration": 5,
        "start_time": "2023-05-30T14:36:35.701Z"
      },
      {
        "duration": 11,
        "start_time": "2023-05-30T14:38:25.943Z"
      },
      {
        "duration": 8,
        "start_time": "2023-05-30T14:38:44.790Z"
      },
      {
        "duration": 22,
        "start_time": "2023-05-30T14:39:03.781Z"
      },
      {
        "duration": 7,
        "start_time": "2023-05-30T14:39:11.676Z"
      },
      {
        "duration": 8,
        "start_time": "2023-05-30T14:44:00.660Z"
      },
      {
        "duration": 8,
        "start_time": "2023-05-30T14:44:16.285Z"
      },
      {
        "duration": 358,
        "start_time": "2023-05-30T14:44:33.472Z"
      },
      {
        "duration": 32,
        "start_time": "2023-05-30T14:44:35.379Z"
      },
      {
        "duration": 2763,
        "start_time": "2023-05-30T14:44:37.231Z"
      },
      {
        "duration": 18,
        "start_time": "2023-05-30T14:44:40.368Z"
      },
      {
        "duration": 6,
        "start_time": "2023-05-30T14:44:45.089Z"
      },
      {
        "duration": 15,
        "start_time": "2023-05-30T14:46:05.744Z"
      },
      {
        "duration": 10,
        "start_time": "2023-05-30T14:46:09.073Z"
      },
      {
        "duration": 19,
        "start_time": "2023-05-30T14:46:14.597Z"
      },
      {
        "duration": 10,
        "start_time": "2023-05-30T14:49:24.313Z"
      },
      {
        "duration": 154,
        "start_time": "2023-05-30T14:49:50.944Z"
      },
      {
        "duration": 47,
        "start_time": "2023-05-30T14:50:00.152Z"
      },
      {
        "duration": 13,
        "start_time": "2023-05-30T15:03:13.052Z"
      },
      {
        "duration": 79,
        "start_time": "2023-05-30T16:13:04.474Z"
      },
      {
        "duration": 16,
        "start_time": "2023-05-30T16:13:55.926Z"
      },
      {
        "duration": 69,
        "start_time": "2023-05-30T16:14:41.817Z"
      },
      {
        "duration": 7,
        "start_time": "2023-05-30T16:15:04.316Z"
      },
      {
        "duration": 6,
        "start_time": "2023-05-30T16:15:08.186Z"
      },
      {
        "duration": 48,
        "start_time": "2023-05-30T16:15:09.937Z"
      },
      {
        "duration": 6,
        "start_time": "2023-05-30T16:16:45.259Z"
      },
      {
        "duration": 591,
        "start_time": "2023-05-30T16:18:17.745Z"
      },
      {
        "duration": 30,
        "start_time": "2023-05-30T16:18:18.345Z"
      },
      {
        "duration": 2487,
        "start_time": "2023-05-30T16:18:18.381Z"
      },
      {
        "duration": 13,
        "start_time": "2023-05-30T16:18:20.874Z"
      },
      {
        "duration": 41,
        "start_time": "2023-05-30T16:18:20.890Z"
      },
      {
        "duration": 63,
        "start_time": "2023-05-30T16:18:20.933Z"
      },
      {
        "duration": 93,
        "start_time": "2023-05-30T16:18:20.999Z"
      },
      {
        "duration": 66,
        "start_time": "2023-05-30T16:18:21.094Z"
      },
      {
        "duration": 81,
        "start_time": "2023-05-30T16:18:21.163Z"
      },
      {
        "duration": 33,
        "start_time": "2023-05-30T16:18:21.248Z"
      },
      {
        "duration": 17,
        "start_time": "2023-05-30T16:19:17.633Z"
      },
      {
        "duration": 5,
        "start_time": "2023-05-30T16:22:40.989Z"
      },
      {
        "duration": 22,
        "start_time": "2023-05-30T16:22:47.700Z"
      },
      {
        "duration": 12,
        "start_time": "2023-05-30T16:22:53.416Z"
      },
      {
        "duration": 10,
        "start_time": "2023-05-30T16:25:04.488Z"
      },
      {
        "duration": 12,
        "start_time": "2023-05-30T16:27:13.787Z"
      },
      {
        "duration": 5,
        "start_time": "2023-05-30T16:27:17.559Z"
      },
      {
        "duration": 7,
        "start_time": "2023-05-30T16:27:19.079Z"
      },
      {
        "duration": 5,
        "start_time": "2023-05-30T16:27:27.180Z"
      },
      {
        "duration": 5,
        "start_time": "2023-05-30T16:27:36.744Z"
      },
      {
        "duration": 3,
        "start_time": "2023-05-30T16:27:39.564Z"
      },
      {
        "duration": 5,
        "start_time": "2023-05-30T16:27:48.861Z"
      },
      {
        "duration": 21,
        "start_time": "2023-05-30T16:28:00.497Z"
      },
      {
        "duration": 432,
        "start_time": "2023-05-30T16:50:56.703Z"
      },
      {
        "duration": 24,
        "start_time": "2023-05-30T16:51:27.754Z"
      },
      {
        "duration": 27,
        "start_time": "2023-05-30T16:53:03.296Z"
      },
      {
        "duration": 12,
        "start_time": "2023-05-30T16:53:14.063Z"
      },
      {
        "duration": 13,
        "start_time": "2023-05-30T16:53:37.747Z"
      },
      {
        "duration": 6,
        "start_time": "2023-05-30T17:02:50.002Z"
      },
      {
        "duration": 14,
        "start_time": "2023-05-30T17:03:13.897Z"
      },
      {
        "duration": 6,
        "start_time": "2023-05-30T17:03:20.792Z"
      },
      {
        "duration": 11,
        "start_time": "2023-05-30T17:06:15.424Z"
      },
      {
        "duration": 9,
        "start_time": "2023-05-30T17:06:53.424Z"
      },
      {
        "duration": 6,
        "start_time": "2023-05-30T17:07:00.918Z"
      },
      {
        "duration": 9,
        "start_time": "2023-05-30T17:08:41.062Z"
      },
      {
        "duration": 7,
        "start_time": "2023-05-30T17:12:28.466Z"
      },
      {
        "duration": 6,
        "start_time": "2023-05-30T17:12:30.780Z"
      },
      {
        "duration": 6,
        "start_time": "2023-05-30T17:12:31.318Z"
      },
      {
        "duration": 4,
        "start_time": "2023-05-30T17:12:32.730Z"
      },
      {
        "duration": 3,
        "start_time": "2023-05-30T17:12:35.254Z"
      },
      {
        "duration": 4,
        "start_time": "2023-05-30T17:12:36.604Z"
      },
      {
        "duration": 9,
        "start_time": "2023-05-30T17:12:39.300Z"
      },
      {
        "duration": 8,
        "start_time": "2023-05-30T17:12:58.314Z"
      },
      {
        "duration": 9,
        "start_time": "2023-05-30T17:13:02.832Z"
      },
      {
        "duration": 10,
        "start_time": "2023-05-30T17:14:50.050Z"
      },
      {
        "duration": 7,
        "start_time": "2023-05-30T17:14:54.667Z"
      },
      {
        "duration": 14,
        "start_time": "2023-05-30T17:15:39.181Z"
      },
      {
        "duration": 13,
        "start_time": "2023-05-30T17:15:41.839Z"
      },
      {
        "duration": 7,
        "start_time": "2023-05-30T17:16:27.522Z"
      },
      {
        "duration": 9,
        "start_time": "2023-05-30T17:26:47.617Z"
      },
      {
        "duration": 11,
        "start_time": "2023-05-30T17:29:38.176Z"
      },
      {
        "duration": 12,
        "start_time": "2023-05-30T17:30:05.635Z"
      },
      {
        "duration": 13,
        "start_time": "2023-05-30T17:31:27.126Z"
      },
      {
        "duration": 7,
        "start_time": "2023-05-30T17:31:41.164Z"
      },
      {
        "duration": 12,
        "start_time": "2023-05-30T17:31:58.965Z"
      },
      {
        "duration": 9,
        "start_time": "2023-05-30T17:32:01.188Z"
      },
      {
        "duration": 9,
        "start_time": "2023-05-30T17:36:54.794Z"
      },
      {
        "duration": 9,
        "start_time": "2023-05-30T17:44:12.139Z"
      },
      {
        "duration": 8,
        "start_time": "2023-05-30T17:44:14.187Z"
      },
      {
        "duration": 4,
        "start_time": "2023-05-30T17:45:01.355Z"
      },
      {
        "duration": 7,
        "start_time": "2023-05-30T17:45:03.151Z"
      },
      {
        "duration": 338,
        "start_time": "2023-05-30T17:45:43.914Z"
      },
      {
        "duration": 13,
        "start_time": "2023-05-30T17:45:44.254Z"
      },
      {
        "duration": 1862,
        "start_time": "2023-05-30T17:45:44.268Z"
      },
      {
        "duration": 9,
        "start_time": "2023-05-30T17:45:46.132Z"
      },
      {
        "duration": 14,
        "start_time": "2023-05-30T17:45:46.142Z"
      },
      {
        "duration": 17,
        "start_time": "2023-05-30T17:45:46.158Z"
      },
      {
        "duration": 8,
        "start_time": "2023-05-30T17:45:46.177Z"
      },
      {
        "duration": 16,
        "start_time": "2023-05-30T17:45:46.186Z"
      },
      {
        "duration": 5,
        "start_time": "2023-05-30T17:45:46.204Z"
      },
      {
        "duration": 14,
        "start_time": "2023-05-30T17:45:46.210Z"
      },
      {
        "duration": 12,
        "start_time": "2023-05-30T17:45:46.226Z"
      },
      {
        "duration": 8,
        "start_time": "2023-05-30T17:45:46.240Z"
      },
      {
        "duration": 13,
        "start_time": "2023-05-30T17:45:46.250Z"
      },
      {
        "duration": 12,
        "start_time": "2023-05-30T17:45:46.265Z"
      },
      {
        "duration": 6,
        "start_time": "2023-05-30T17:45:46.279Z"
      },
      {
        "duration": 14,
        "start_time": "2023-05-30T17:45:46.287Z"
      },
      {
        "duration": 16,
        "start_time": "2023-05-30T17:45:46.302Z"
      },
      {
        "duration": 6,
        "start_time": "2023-05-30T17:46:31.892Z"
      },
      {
        "duration": 8,
        "start_time": "2023-05-30T17:46:32.986Z"
      },
      {
        "duration": 1623,
        "start_time": "2023-05-30T17:48:21.614Z"
      },
      {
        "duration": 1520,
        "start_time": "2023-05-30T17:48:24.553Z"
      },
      {
        "duration": 6,
        "start_time": "2023-05-30T17:48:27.621Z"
      },
      {
        "duration": 6,
        "start_time": "2023-05-30T17:48:35.891Z"
      },
      {
        "duration": 9,
        "start_time": "2023-05-30T17:53:53.861Z"
      },
      {
        "duration": 6,
        "start_time": "2023-05-30T17:53:55.203Z"
      },
      {
        "duration": 11,
        "start_time": "2023-05-30T17:53:59.060Z"
      },
      {
        "duration": 7,
        "start_time": "2023-05-30T17:54:00.431Z"
      },
      {
        "duration": 9,
        "start_time": "2023-05-30T17:55:27.056Z"
      },
      {
        "duration": 12,
        "start_time": "2023-05-30T17:55:30.722Z"
      },
      {
        "duration": 8,
        "start_time": "2023-05-30T17:55:31.527Z"
      },
      {
        "duration": 9,
        "start_time": "2023-05-30T18:01:40.360Z"
      },
      {
        "duration": 7,
        "start_time": "2023-05-30T18:01:42.895Z"
      },
      {
        "duration": 45,
        "start_time": "2023-05-30T18:08:16.213Z"
      },
      {
        "duration": 87,
        "start_time": "2023-05-30T18:08:26.601Z"
      },
      {
        "duration": 6,
        "start_time": "2023-05-30T18:08:29.214Z"
      },
      {
        "duration": 8,
        "start_time": "2023-05-30T18:08:37.980Z"
      },
      {
        "duration": 4,
        "start_time": "2023-05-30T18:08:38.608Z"
      },
      {
        "duration": 6,
        "start_time": "2023-05-30T18:08:47.980Z"
      },
      {
        "duration": 4,
        "start_time": "2023-05-30T18:08:48.539Z"
      },
      {
        "duration": 110,
        "start_time": "2023-05-30T18:09:04.586Z"
      },
      {
        "duration": 17,
        "start_time": "2023-05-30T18:09:06.670Z"
      },
      {
        "duration": 1843,
        "start_time": "2023-05-30T18:09:08.307Z"
      },
      {
        "duration": 10,
        "start_time": "2023-05-30T18:09:11.637Z"
      },
      {
        "duration": 4,
        "start_time": "2023-05-30T18:09:13.789Z"
      },
      {
        "duration": 10,
        "start_time": "2023-05-30T18:09:15.394Z"
      },
      {
        "duration": 9,
        "start_time": "2023-05-30T18:09:16.926Z"
      },
      {
        "duration": 5,
        "start_time": "2023-05-30T18:09:17.885Z"
      },
      {
        "duration": 5,
        "start_time": "2023-05-30T18:09:19.953Z"
      },
      {
        "duration": 3,
        "start_time": "2023-05-30T18:09:20.914Z"
      },
      {
        "duration": 4,
        "start_time": "2023-05-30T18:09:22.599Z"
      },
      {
        "duration": 8,
        "start_time": "2023-05-30T18:09:24.620Z"
      },
      {
        "duration": 13,
        "start_time": "2023-05-30T18:09:28.232Z"
      },
      {
        "duration": 14,
        "start_time": "2023-05-30T18:09:29.025Z"
      },
      {
        "duration": 7,
        "start_time": "2023-05-30T18:09:34.652Z"
      },
      {
        "duration": 8,
        "start_time": "2023-05-30T18:09:37.574Z"
      },
      {
        "duration": 4,
        "start_time": "2023-05-30T18:09:38.193Z"
      },
      {
        "duration": 19,
        "start_time": "2023-05-30T18:09:57.412Z"
      },
      {
        "duration": 4,
        "start_time": "2023-05-30T18:11:05.698Z"
      },
      {
        "duration": 4,
        "start_time": "2023-05-30T18:11:06.368Z"
      },
      {
        "duration": 4,
        "start_time": "2023-05-30T18:11:08.559Z"
      },
      {
        "duration": 3,
        "start_time": "2023-05-30T18:11:22.698Z"
      },
      {
        "duration": 102,
        "start_time": "2023-05-30T18:11:33.384Z"
      },
      {
        "duration": 16,
        "start_time": "2023-05-30T18:11:33.488Z"
      },
      {
        "duration": 1834,
        "start_time": "2023-05-30T18:11:33.506Z"
      },
      {
        "duration": 10,
        "start_time": "2023-05-30T18:11:35.343Z"
      },
      {
        "duration": 4,
        "start_time": "2023-05-30T18:11:35.356Z"
      },
      {
        "duration": 9,
        "start_time": "2023-05-30T18:11:35.362Z"
      },
      {
        "duration": 28,
        "start_time": "2023-05-30T18:11:35.372Z"
      },
      {
        "duration": 6,
        "start_time": "2023-05-30T18:11:35.402Z"
      },
      {
        "duration": 20,
        "start_time": "2023-05-30T18:11:35.410Z"
      },
      {
        "duration": 6,
        "start_time": "2023-05-30T18:11:35.432Z"
      },
      {
        "duration": 8,
        "start_time": "2023-05-30T18:11:35.439Z"
      },
      {
        "duration": 12,
        "start_time": "2023-05-30T18:11:35.449Z"
      },
      {
        "duration": 16,
        "start_time": "2023-05-30T18:11:35.462Z"
      },
      {
        "duration": 32,
        "start_time": "2023-05-30T18:11:35.481Z"
      },
      {
        "duration": 8,
        "start_time": "2023-05-30T18:11:35.515Z"
      },
      {
        "duration": 5,
        "start_time": "2023-05-30T18:11:35.524Z"
      },
      {
        "duration": 11,
        "start_time": "2023-05-30T18:11:35.530Z"
      },
      {
        "duration": 1671,
        "start_time": "2023-05-30T18:13:33.299Z"
      },
      {
        "duration": 7,
        "start_time": "2023-05-30T18:13:35.859Z"
      },
      {
        "duration": 8,
        "start_time": "2023-05-30T18:14:05.477Z"
      },
      {
        "duration": 6,
        "start_time": "2023-05-30T18:14:06.398Z"
      },
      {
        "duration": 7,
        "start_time": "2023-05-30T18:29:54.518Z"
      },
      {
        "duration": 9,
        "start_time": "2023-05-30T18:29:57.313Z"
      },
      {
        "duration": 6,
        "start_time": "2023-05-30T18:29:58.553Z"
      },
      {
        "duration": 6,
        "start_time": "2023-05-30T18:30:37.533Z"
      },
      {
        "duration": 112,
        "start_time": "2023-05-30T18:34:13.252Z"
      },
      {
        "duration": 14,
        "start_time": "2023-05-30T18:34:13.366Z"
      },
      {
        "duration": 2003,
        "start_time": "2023-05-30T18:34:13.382Z"
      },
      {
        "duration": 17,
        "start_time": "2023-05-30T18:34:15.387Z"
      },
      {
        "duration": 10,
        "start_time": "2023-05-30T18:34:15.407Z"
      },
      {
        "duration": 21,
        "start_time": "2023-05-30T18:34:15.419Z"
      },
      {
        "duration": 12,
        "start_time": "2023-05-30T18:34:15.441Z"
      },
      {
        "duration": 13,
        "start_time": "2023-05-30T18:34:15.454Z"
      },
      {
        "duration": 7,
        "start_time": "2023-05-30T18:34:15.468Z"
      },
      {
        "duration": 8,
        "start_time": "2023-05-30T18:34:15.476Z"
      },
      {
        "duration": 15,
        "start_time": "2023-05-30T18:34:15.486Z"
      },
      {
        "duration": 18,
        "start_time": "2023-05-30T18:34:15.503Z"
      },
      {
        "duration": 13,
        "start_time": "2023-05-30T18:34:15.523Z"
      },
      {
        "duration": 15,
        "start_time": "2023-05-30T18:34:15.538Z"
      },
      {
        "duration": 6,
        "start_time": "2023-05-30T18:34:15.555Z"
      },
      {
        "duration": 39,
        "start_time": "2023-05-30T18:34:15.563Z"
      },
      {
        "duration": 12,
        "start_time": "2023-05-30T18:34:15.608Z"
      },
      {
        "duration": 6,
        "start_time": "2023-05-30T18:34:27.049Z"
      },
      {
        "duration": 6,
        "start_time": "2023-05-30T18:34:27.825Z"
      },
      {
        "duration": 106,
        "start_time": "2023-05-30T18:35:12.729Z"
      },
      {
        "duration": 7,
        "start_time": "2023-05-30T18:35:14.987Z"
      },
      {
        "duration": 17,
        "start_time": "2023-05-30T18:42:52.996Z"
      },
      {
        "duration": 14,
        "start_time": "2023-05-30T18:43:13.778Z"
      },
      {
        "duration": 9,
        "start_time": "2023-05-30T18:44:05.564Z"
      },
      {
        "duration": 8,
        "start_time": "2023-05-30T18:44:27.582Z"
      },
      {
        "duration": 14,
        "start_time": "2023-05-30T18:45:31.588Z"
      },
      {
        "duration": 21,
        "start_time": "2023-05-30T18:45:53.095Z"
      },
      {
        "duration": 12,
        "start_time": "2023-05-30T18:47:16.330Z"
      },
      {
        "duration": 14,
        "start_time": "2023-05-30T18:47:23.769Z"
      },
      {
        "duration": 17,
        "start_time": "2023-05-30T18:47:51.616Z"
      },
      {
        "duration": 13,
        "start_time": "2023-05-30T18:48:47.881Z"
      },
      {
        "duration": 12,
        "start_time": "2023-05-30T18:51:10.242Z"
      },
      {
        "duration": 151,
        "start_time": "2023-05-30T18:52:18.670Z"
      },
      {
        "duration": 14,
        "start_time": "2023-05-30T18:52:34.950Z"
      },
      {
        "duration": 12,
        "start_time": "2023-05-30T18:55:05.813Z"
      },
      {
        "duration": 12,
        "start_time": "2023-05-30T18:57:25.509Z"
      },
      {
        "duration": 12,
        "start_time": "2023-05-30T18:58:35.517Z"
      },
      {
        "duration": 11,
        "start_time": "2023-05-30T18:59:37.587Z"
      },
      {
        "duration": 653,
        "start_time": "2023-05-30T19:00:05.200Z"
      },
      {
        "duration": 8,
        "start_time": "2023-05-30T19:00:12.496Z"
      },
      {
        "duration": 102,
        "start_time": "2023-05-30T19:00:51.083Z"
      },
      {
        "duration": 13,
        "start_time": "2023-05-30T19:00:51.187Z"
      },
      {
        "duration": 1767,
        "start_time": "2023-05-30T19:00:51.201Z"
      },
      {
        "duration": 9,
        "start_time": "2023-05-30T19:00:52.969Z"
      },
      {
        "duration": 18,
        "start_time": "2023-05-30T19:00:52.980Z"
      },
      {
        "duration": 15,
        "start_time": "2023-05-30T19:00:52.999Z"
      },
      {
        "duration": 11,
        "start_time": "2023-05-30T19:00:53.016Z"
      },
      {
        "duration": 19,
        "start_time": "2023-05-30T19:00:53.028Z"
      },
      {
        "duration": 8,
        "start_time": "2023-05-30T19:00:53.049Z"
      },
      {
        "duration": 11,
        "start_time": "2023-05-30T19:00:53.058Z"
      },
      {
        "duration": 11,
        "start_time": "2023-05-30T19:00:53.071Z"
      },
      {
        "duration": 18,
        "start_time": "2023-05-30T19:00:53.083Z"
      },
      {
        "duration": 16,
        "start_time": "2023-05-30T19:00:53.103Z"
      },
      {
        "duration": 14,
        "start_time": "2023-05-30T19:00:53.121Z"
      },
      {
        "duration": 6,
        "start_time": "2023-05-30T19:00:53.137Z"
      },
      {
        "duration": 9,
        "start_time": "2023-05-30T19:00:53.144Z"
      },
      {
        "duration": 9,
        "start_time": "2023-05-30T19:02:58.473Z"
      },
      {
        "duration": 2,
        "start_time": "2023-05-30T19:07:02.579Z"
      },
      {
        "duration": 6,
        "start_time": "2023-05-30T19:12:11.873Z"
      },
      {
        "duration": 9,
        "start_time": "2023-05-30T19:12:27.035Z"
      },
      {
        "duration": 55,
        "start_time": "2023-05-30T19:15:42.836Z"
      },
      {
        "duration": 55,
        "start_time": "2023-05-30T19:16:00.076Z"
      },
      {
        "duration": 64,
        "start_time": "2023-05-30T19:16:06.927Z"
      },
      {
        "duration": 58,
        "start_time": "2023-05-30T19:16:22.216Z"
      },
      {
        "duration": 78,
        "start_time": "2023-05-30T19:17:06.960Z"
      },
      {
        "duration": 106,
        "start_time": "2023-05-30T19:17:28.637Z"
      },
      {
        "duration": 14,
        "start_time": "2023-05-30T19:17:28.744Z"
      },
      {
        "duration": 2123,
        "start_time": "2023-05-30T19:17:28.759Z"
      },
      {
        "duration": 30,
        "start_time": "2023-05-30T19:17:30.884Z"
      },
      {
        "duration": 41,
        "start_time": "2023-05-30T19:17:30.916Z"
      },
      {
        "duration": 60,
        "start_time": "2023-05-30T19:17:30.959Z"
      },
      {
        "duration": 37,
        "start_time": "2023-05-30T19:17:31.021Z"
      },
      {
        "duration": 43,
        "start_time": "2023-05-30T19:17:31.060Z"
      },
      {
        "duration": 107,
        "start_time": "2023-05-30T19:17:31.106Z"
      },
      {
        "duration": 44,
        "start_time": "2023-05-30T19:17:31.215Z"
      },
      {
        "duration": 37,
        "start_time": "2023-05-30T19:17:31.261Z"
      },
      {
        "duration": 36,
        "start_time": "2023-05-30T19:17:31.303Z"
      },
      {
        "duration": 24,
        "start_time": "2023-05-30T19:17:31.341Z"
      },
      {
        "duration": 49,
        "start_time": "2023-05-30T19:17:31.368Z"
      },
      {
        "duration": 52,
        "start_time": "2023-05-30T19:17:31.419Z"
      },
      {
        "duration": 53,
        "start_time": "2023-05-30T19:17:31.472Z"
      },
      {
        "duration": 58,
        "start_time": "2023-05-30T19:17:31.527Z"
      },
      {
        "duration": 104,
        "start_time": "2023-05-30T19:18:32.239Z"
      },
      {
        "duration": 107,
        "start_time": "2023-05-30T19:18:47.860Z"
      },
      {
        "duration": 179,
        "start_time": "2023-05-30T19:19:53.562Z"
      },
      {
        "duration": 173,
        "start_time": "2023-05-30T19:24:24.130Z"
      },
      {
        "duration": 158,
        "start_time": "2023-05-30T19:25:50.622Z"
      },
      {
        "duration": 5,
        "start_time": "2023-05-30T19:26:42.386Z"
      },
      {
        "duration": 6,
        "start_time": "2023-05-30T19:27:01.636Z"
      },
      {
        "duration": 5,
        "start_time": "2023-05-30T19:27:25.526Z"
      },
      {
        "duration": 4,
        "start_time": "2023-05-30T19:27:42.585Z"
      },
      {
        "duration": 6,
        "start_time": "2023-05-30T19:28:30.125Z"
      },
      {
        "duration": 6,
        "start_time": "2023-05-30T19:29:00.647Z"
      },
      {
        "duration": 594,
        "start_time": "2023-05-31T15:05:23.952Z"
      },
      {
        "duration": 18,
        "start_time": "2023-05-31T15:05:24.549Z"
      },
      {
        "duration": 2573,
        "start_time": "2023-05-31T15:05:24.569Z"
      },
      {
        "duration": 14,
        "start_time": "2023-05-31T15:05:27.145Z"
      },
      {
        "duration": 6,
        "start_time": "2023-05-31T15:05:27.162Z"
      },
      {
        "duration": 14,
        "start_time": "2023-05-31T15:05:27.170Z"
      },
      {
        "duration": 7,
        "start_time": "2023-05-31T15:05:27.187Z"
      },
      {
        "duration": 6,
        "start_time": "2023-05-31T15:05:27.196Z"
      },
      {
        "duration": 29,
        "start_time": "2023-05-31T15:05:27.204Z"
      },
      {
        "duration": 26,
        "start_time": "2023-05-31T15:05:27.235Z"
      },
      {
        "duration": 41,
        "start_time": "2023-05-31T15:05:27.263Z"
      },
      {
        "duration": 12,
        "start_time": "2023-05-31T15:05:27.306Z"
      },
      {
        "duration": 16,
        "start_time": "2023-05-31T15:05:27.320Z"
      },
      {
        "duration": 17,
        "start_time": "2023-05-31T15:05:27.339Z"
      },
      {
        "duration": 9,
        "start_time": "2023-05-31T15:05:27.359Z"
      },
      {
        "duration": 189,
        "start_time": "2023-05-31T15:05:27.370Z"
      },
      {
        "duration": 6,
        "start_time": "2023-05-31T15:05:27.561Z"
      },
      {
        "duration": 10,
        "start_time": "2023-05-31T15:09:42.162Z"
      },
      {
        "duration": 52,
        "start_time": "2023-05-31T15:11:44.650Z"
      },
      {
        "duration": 51,
        "start_time": "2023-05-31T15:15:06.940Z"
      },
      {
        "duration": 88,
        "start_time": "2023-05-31T15:16:34.695Z"
      },
      {
        "duration": 63,
        "start_time": "2023-05-31T15:16:38.347Z"
      },
      {
        "duration": 170,
        "start_time": "2023-05-31T15:16:48.478Z"
      },
      {
        "duration": 20,
        "start_time": "2023-05-31T15:16:49.904Z"
      },
      {
        "duration": 13,
        "start_time": "2023-05-31T15:25:00.940Z"
      },
      {
        "duration": 76,
        "start_time": "2023-05-31T15:25:13.050Z"
      },
      {
        "duration": 72,
        "start_time": "2023-05-31T15:25:22.099Z"
      },
      {
        "duration": 88,
        "start_time": "2023-05-31T15:25:44.878Z"
      },
      {
        "duration": 29,
        "start_time": "2023-05-31T15:25:57.752Z"
      },
      {
        "duration": 23,
        "start_time": "2023-05-31T15:26:07.169Z"
      },
      {
        "duration": 66,
        "start_time": "2023-05-31T15:26:21.397Z"
      },
      {
        "duration": 6,
        "start_time": "2023-05-31T15:26:57.040Z"
      },
      {
        "duration": 6,
        "start_time": "2023-05-31T15:27:11.047Z"
      },
      {
        "duration": 107,
        "start_time": "2023-05-31T15:27:15.408Z"
      },
      {
        "duration": 112,
        "start_time": "2023-05-31T15:27:52.282Z"
      },
      {
        "duration": 16,
        "start_time": "2023-05-31T15:27:54.239Z"
      },
      {
        "duration": 2194,
        "start_time": "2023-05-31T15:28:02.075Z"
      },
      {
        "duration": 146,
        "start_time": "2023-05-31T15:29:34.996Z"
      },
      {
        "duration": 26,
        "start_time": "2023-05-31T15:29:35.144Z"
      },
      {
        "duration": 2404,
        "start_time": "2023-05-31T15:29:35.172Z"
      },
      {
        "duration": 21,
        "start_time": "2023-05-31T15:29:37.578Z"
      },
      {
        "duration": 6,
        "start_time": "2023-05-31T15:29:37.603Z"
      },
      {
        "duration": 35,
        "start_time": "2023-05-31T15:29:37.610Z"
      },
      {
        "duration": 12,
        "start_time": "2023-05-31T15:29:37.648Z"
      },
      {
        "duration": 28,
        "start_time": "2023-05-31T15:29:37.663Z"
      },
      {
        "duration": 23,
        "start_time": "2023-05-31T15:29:37.693Z"
      },
      {
        "duration": 9,
        "start_time": "2023-05-31T15:29:37.719Z"
      },
      {
        "duration": 27,
        "start_time": "2023-05-31T15:29:37.730Z"
      },
      {
        "duration": 29,
        "start_time": "2023-05-31T15:29:37.759Z"
      },
      {
        "duration": 17,
        "start_time": "2023-05-31T15:29:37.790Z"
      },
      {
        "duration": 28,
        "start_time": "2023-05-31T15:29:37.809Z"
      },
      {
        "duration": 9,
        "start_time": "2023-05-31T15:29:37.839Z"
      },
      {
        "duration": 209,
        "start_time": "2023-05-31T15:29:37.850Z"
      },
      {
        "duration": 23,
        "start_time": "2023-05-31T15:29:38.069Z"
      },
      {
        "duration": 271,
        "start_time": "2023-05-31T15:29:38.096Z"
      },
      {
        "duration": 24,
        "start_time": "2023-05-31T15:29:38.370Z"
      },
      {
        "duration": 76,
        "start_time": "2023-05-31T15:29:38.396Z"
      },
      {
        "duration": 27,
        "start_time": "2023-05-31T15:31:15.451Z"
      },
      {
        "duration": 37,
        "start_time": "2023-05-31T15:31:18.248Z"
      },
      {
        "duration": 7,
        "start_time": "2023-05-31T15:31:29.147Z"
      },
      {
        "duration": 7,
        "start_time": "2023-05-31T15:31:51.674Z"
      },
      {
        "duration": 181,
        "start_time": "2023-05-31T15:31:58.901Z"
      },
      {
        "duration": 32,
        "start_time": "2023-05-31T15:31:59.085Z"
      },
      {
        "duration": 2367,
        "start_time": "2023-05-31T15:31:59.120Z"
      },
      {
        "duration": 13,
        "start_time": "2023-05-31T15:32:01.490Z"
      },
      {
        "duration": 34,
        "start_time": "2023-05-31T15:32:01.507Z"
      },
      {
        "duration": 58,
        "start_time": "2023-05-31T15:32:01.543Z"
      },
      {
        "duration": 36,
        "start_time": "2023-05-31T15:32:01.603Z"
      },
      {
        "duration": 49,
        "start_time": "2023-05-31T15:32:01.641Z"
      },
      {
        "duration": 54,
        "start_time": "2023-05-31T15:32:01.694Z"
      },
      {
        "duration": 49,
        "start_time": "2023-05-31T15:32:01.751Z"
      },
      {
        "duration": 54,
        "start_time": "2023-05-31T15:32:01.803Z"
      },
      {
        "duration": 61,
        "start_time": "2023-05-31T15:32:01.859Z"
      },
      {
        "duration": 73,
        "start_time": "2023-05-31T15:32:01.922Z"
      },
      {
        "duration": 42,
        "start_time": "2023-05-31T15:32:01.999Z"
      },
      {
        "duration": 28,
        "start_time": "2023-05-31T15:32:02.044Z"
      },
      {
        "duration": 254,
        "start_time": "2023-05-31T15:32:02.073Z"
      },
      {
        "duration": 7,
        "start_time": "2023-05-31T15:32:02.329Z"
      },
      {
        "duration": 139,
        "start_time": "2023-05-31T15:32:02.337Z"
      },
      {
        "duration": 25,
        "start_time": "2023-05-31T15:32:02.478Z"
      },
      {
        "duration": 37,
        "start_time": "2023-05-31T15:32:02.506Z"
      },
      {
        "duration": 6,
        "start_time": "2023-05-31T15:34:29.220Z"
      },
      {
        "duration": 134,
        "start_time": "2023-05-31T15:34:38.549Z"
      },
      {
        "duration": 16,
        "start_time": "2023-05-31T15:34:38.688Z"
      },
      {
        "duration": 2508,
        "start_time": "2023-05-31T15:34:38.707Z"
      },
      {
        "duration": 11,
        "start_time": "2023-05-31T15:34:41.216Z"
      },
      {
        "duration": 7,
        "start_time": "2023-05-31T15:34:41.230Z"
      },
      {
        "duration": 23,
        "start_time": "2023-05-31T15:34:41.256Z"
      },
      {
        "duration": 21,
        "start_time": "2023-05-31T15:34:41.281Z"
      },
      {
        "duration": 20,
        "start_time": "2023-05-31T15:34:41.304Z"
      },
      {
        "duration": 9,
        "start_time": "2023-05-31T15:34:41.326Z"
      },
      {
        "duration": 12,
        "start_time": "2023-05-31T15:34:41.337Z"
      },
      {
        "duration": 10,
        "start_time": "2023-05-31T15:34:41.352Z"
      },
      {
        "duration": 24,
        "start_time": "2023-05-31T15:34:41.364Z"
      },
      {
        "duration": 17,
        "start_time": "2023-05-31T15:34:41.389Z"
      },
      {
        "duration": 17,
        "start_time": "2023-05-31T15:34:41.409Z"
      },
      {
        "duration": 7,
        "start_time": "2023-05-31T15:34:41.428Z"
      },
      {
        "duration": 211,
        "start_time": "2023-05-31T15:34:41.437Z"
      },
      {
        "duration": 14,
        "start_time": "2023-05-31T15:34:41.650Z"
      },
      {
        "duration": 101,
        "start_time": "2023-05-31T15:34:41.666Z"
      },
      {
        "duration": 23,
        "start_time": "2023-05-31T15:34:41.769Z"
      },
      {
        "duration": 20,
        "start_time": "2023-05-31T15:34:41.795Z"
      },
      {
        "duration": 111,
        "start_time": "2023-05-31T15:35:14.216Z"
      },
      {
        "duration": 19,
        "start_time": "2023-05-31T15:35:16.582Z"
      },
      {
        "duration": 19,
        "start_time": "2023-05-31T15:35:30.003Z"
      },
      {
        "duration": 46,
        "start_time": "2023-05-31T15:35:33.892Z"
      },
      {
        "duration": 18,
        "start_time": "2023-05-31T15:37:12.009Z"
      },
      {
        "duration": 20,
        "start_time": "2023-05-31T15:37:18.404Z"
      },
      {
        "duration": 115,
        "start_time": "2023-05-31T15:37:32.788Z"
      },
      {
        "duration": 16,
        "start_time": "2023-05-31T15:37:32.906Z"
      },
      {
        "duration": 2467,
        "start_time": "2023-05-31T15:37:32.925Z"
      },
      {
        "duration": 11,
        "start_time": "2023-05-31T15:37:35.394Z"
      },
      {
        "duration": 6,
        "start_time": "2023-05-31T15:37:35.408Z"
      },
      {
        "duration": 49,
        "start_time": "2023-05-31T15:37:35.417Z"
      },
      {
        "duration": 14,
        "start_time": "2023-05-31T15:37:35.468Z"
      },
      {
        "duration": 7,
        "start_time": "2023-05-31T15:37:35.484Z"
      },
      {
        "duration": 10,
        "start_time": "2023-05-31T15:37:35.492Z"
      },
      {
        "duration": 6,
        "start_time": "2023-05-31T15:37:35.504Z"
      },
      {
        "duration": 17,
        "start_time": "2023-05-31T15:37:35.512Z"
      },
      {
        "duration": 35,
        "start_time": "2023-05-31T15:37:35.532Z"
      },
      {
        "duration": 26,
        "start_time": "2023-05-31T15:37:35.569Z"
      },
      {
        "duration": 23,
        "start_time": "2023-05-31T15:37:35.599Z"
      },
      {
        "duration": 10,
        "start_time": "2023-05-31T15:37:35.624Z"
      },
      {
        "duration": 194,
        "start_time": "2023-05-31T15:37:35.658Z"
      },
      {
        "duration": 15,
        "start_time": "2023-05-31T15:37:35.856Z"
      },
      {
        "duration": 100,
        "start_time": "2023-05-31T15:37:35.873Z"
      },
      {
        "duration": 28,
        "start_time": "2023-05-31T15:37:35.981Z"
      },
      {
        "duration": 26,
        "start_time": "2023-05-31T15:37:36.011Z"
      },
      {
        "duration": 4,
        "start_time": "2023-05-31T15:38:03.946Z"
      },
      {
        "duration": 124,
        "start_time": "2023-05-31T15:40:43.576Z"
      },
      {
        "duration": 5,
        "start_time": "2023-05-31T15:40:44.413Z"
      },
      {
        "duration": 143,
        "start_time": "2023-05-31T15:40:57.094Z"
      },
      {
        "duration": 25,
        "start_time": "2023-05-31T15:40:57.239Z"
      },
      {
        "duration": 2432,
        "start_time": "2023-05-31T15:40:57.266Z"
      },
      {
        "duration": 15,
        "start_time": "2023-05-31T15:40:59.702Z"
      },
      {
        "duration": 7,
        "start_time": "2023-05-31T15:40:59.719Z"
      },
      {
        "duration": 51,
        "start_time": "2023-05-31T15:40:59.728Z"
      },
      {
        "duration": 10,
        "start_time": "2023-05-31T15:40:59.788Z"
      },
      {
        "duration": 39,
        "start_time": "2023-05-31T15:40:59.800Z"
      },
      {
        "duration": 14,
        "start_time": "2023-05-31T15:40:59.841Z"
      },
      {
        "duration": 3,
        "start_time": "2023-05-31T15:40:59.863Z"
      },
      {
        "duration": 26,
        "start_time": "2023-05-31T15:40:59.869Z"
      },
      {
        "duration": 17,
        "start_time": "2023-05-31T15:40:59.898Z"
      },
      {
        "duration": 15,
        "start_time": "2023-05-31T15:40:59.917Z"
      },
      {
        "duration": 326,
        "start_time": "2023-05-31T15:40:59.934Z"
      },
      {
        "duration": 10,
        "start_time": "2023-05-31T15:41:00.263Z"
      },
      {
        "duration": 232,
        "start_time": "2023-05-31T15:41:00.276Z"
      },
      {
        "duration": 6,
        "start_time": "2023-05-31T15:41:00.510Z"
      },
      {
        "duration": 148,
        "start_time": "2023-05-31T15:41:00.518Z"
      },
      {
        "duration": 159,
        "start_time": "2023-05-31T15:41:00.668Z"
      },
      {
        "duration": 6,
        "start_time": "2023-05-31T15:41:00.829Z"
      },
      {
        "duration": 107,
        "start_time": "2023-05-31T15:41:43.325Z"
      },
      {
        "duration": 8,
        "start_time": "2023-05-31T15:41:44.188Z"
      },
      {
        "duration": 4,
        "start_time": "2023-05-31T15:42:18.605Z"
      },
      {
        "duration": 98,
        "start_time": "2023-05-31T15:42:20.889Z"
      },
      {
        "duration": 125,
        "start_time": "2023-05-31T15:42:22.401Z"
      },
      {
        "duration": 7,
        "start_time": "2023-05-31T15:42:23.081Z"
      },
      {
        "duration": 116,
        "start_time": "2023-05-31T15:42:35.484Z"
      },
      {
        "duration": 17,
        "start_time": "2023-05-31T15:42:35.602Z"
      },
      {
        "duration": 2225,
        "start_time": "2023-05-31T15:42:35.621Z"
      },
      {
        "duration": 17,
        "start_time": "2023-05-31T15:42:37.848Z"
      },
      {
        "duration": 11,
        "start_time": "2023-05-31T15:42:37.868Z"
      },
      {
        "duration": 18,
        "start_time": "2023-05-31T15:42:37.881Z"
      },
      {
        "duration": 11,
        "start_time": "2023-05-31T15:42:37.901Z"
      },
      {
        "duration": 5,
        "start_time": "2023-05-31T15:42:37.914Z"
      },
      {
        "duration": 8,
        "start_time": "2023-05-31T15:42:37.921Z"
      },
      {
        "duration": 4,
        "start_time": "2023-05-31T15:42:37.931Z"
      },
      {
        "duration": 40,
        "start_time": "2023-05-31T15:42:37.937Z"
      },
      {
        "duration": 14,
        "start_time": "2023-05-31T15:42:37.981Z"
      },
      {
        "duration": 25,
        "start_time": "2023-05-31T15:42:37.998Z"
      },
      {
        "duration": 36,
        "start_time": "2023-05-31T15:42:38.026Z"
      },
      {
        "duration": 11,
        "start_time": "2023-05-31T15:42:38.064Z"
      },
      {
        "duration": 189,
        "start_time": "2023-05-31T15:42:38.077Z"
      },
      {
        "duration": 9,
        "start_time": "2023-05-31T15:42:38.267Z"
      },
      {
        "duration": 92,
        "start_time": "2023-05-31T15:42:38.280Z"
      },
      {
        "duration": 167,
        "start_time": "2023-05-31T15:42:38.374Z"
      },
      {
        "duration": 4,
        "start_time": "2023-05-31T15:42:38.543Z"
      },
      {
        "duration": 5,
        "start_time": "2023-05-31T15:45:13.825Z"
      },
      {
        "duration": 4,
        "start_time": "2023-05-31T15:45:15.937Z"
      },
      {
        "duration": 110,
        "start_time": "2023-05-31T15:49:54.309Z"
      },
      {
        "duration": 17,
        "start_time": "2023-05-31T15:49:54.421Z"
      },
      {
        "duration": 2569,
        "start_time": "2023-05-31T15:49:54.439Z"
      },
      {
        "duration": 11,
        "start_time": "2023-05-31T15:49:57.010Z"
      },
      {
        "duration": 35,
        "start_time": "2023-05-31T15:49:57.024Z"
      },
      {
        "duration": 13,
        "start_time": "2023-05-31T15:49:57.061Z"
      },
      {
        "duration": 14,
        "start_time": "2023-05-31T15:49:57.077Z"
      },
      {
        "duration": 7,
        "start_time": "2023-05-31T15:49:57.094Z"
      },
      {
        "duration": 14,
        "start_time": "2023-05-31T15:49:57.103Z"
      },
      {
        "duration": 7,
        "start_time": "2023-05-31T15:49:57.119Z"
      },
      {
        "duration": 13,
        "start_time": "2023-05-31T15:49:57.128Z"
      },
      {
        "duration": 26,
        "start_time": "2023-05-31T15:49:57.143Z"
      },
      {
        "duration": 16,
        "start_time": "2023-05-31T15:49:57.172Z"
      },
      {
        "duration": 20,
        "start_time": "2023-05-31T15:49:57.191Z"
      },
      {
        "duration": 9,
        "start_time": "2023-05-31T15:49:57.214Z"
      },
      {
        "duration": 225,
        "start_time": "2023-05-31T15:49:57.225Z"
      },
      {
        "duration": 6,
        "start_time": "2023-05-31T15:49:57.456Z"
      },
      {
        "duration": 11,
        "start_time": "2023-05-31T15:49:57.466Z"
      },
      {
        "duration": 24,
        "start_time": "2023-05-31T15:49:57.479Z"
      },
      {
        "duration": 7,
        "start_time": "2023-05-31T15:50:22.238Z"
      },
      {
        "duration": 7,
        "start_time": "2023-05-31T15:50:46.935Z"
      },
      {
        "duration": 7,
        "start_time": "2023-05-31T15:50:57.024Z"
      },
      {
        "duration": 6,
        "start_time": "2023-05-31T15:51:10.472Z"
      },
      {
        "duration": 97,
        "start_time": "2023-05-31T15:52:16.046Z"
      },
      {
        "duration": 107,
        "start_time": "2023-05-31T15:52:21.767Z"
      },
      {
        "duration": 6,
        "start_time": "2023-05-31T15:53:06.683Z"
      },
      {
        "duration": 126,
        "start_time": "2023-05-31T15:53:13.200Z"
      },
      {
        "duration": 34,
        "start_time": "2023-05-31T15:53:13.329Z"
      },
      {
        "duration": 2138,
        "start_time": "2023-05-31T15:53:13.372Z"
      },
      {
        "duration": 11,
        "start_time": "2023-05-31T15:53:15.512Z"
      },
      {
        "duration": 36,
        "start_time": "2023-05-31T15:53:15.526Z"
      },
      {
        "duration": 17,
        "start_time": "2023-05-31T15:53:15.564Z"
      },
      {
        "duration": 15,
        "start_time": "2023-05-31T15:53:15.582Z"
      },
      {
        "duration": 8,
        "start_time": "2023-05-31T15:53:15.600Z"
      },
      {
        "duration": 10,
        "start_time": "2023-05-31T15:53:15.610Z"
      },
      {
        "duration": 5,
        "start_time": "2023-05-31T15:53:15.622Z"
      },
      {
        "duration": 32,
        "start_time": "2023-05-31T15:53:15.629Z"
      },
      {
        "duration": 16,
        "start_time": "2023-05-31T15:53:15.663Z"
      },
      {
        "duration": 16,
        "start_time": "2023-05-31T15:53:15.681Z"
      },
      {
        "duration": 21,
        "start_time": "2023-05-31T15:53:15.702Z"
      },
      {
        "duration": 45,
        "start_time": "2023-05-31T15:53:15.726Z"
      },
      {
        "duration": 197,
        "start_time": "2023-05-31T15:53:15.774Z"
      },
      {
        "duration": 7,
        "start_time": "2023-05-31T15:53:15.973Z"
      },
      {
        "duration": 169,
        "start_time": "2023-05-31T15:53:15.982Z"
      },
      {
        "duration": 24,
        "start_time": "2023-05-31T15:53:16.156Z"
      },
      {
        "duration": 5,
        "start_time": "2023-05-31T15:54:21.207Z"
      },
      {
        "duration": 5,
        "start_time": "2023-05-31T15:54:30.785Z"
      },
      {
        "duration": 6,
        "start_time": "2023-05-31T15:54:53.083Z"
      },
      {
        "duration": 152,
        "start_time": "2023-05-31T15:56:01.124Z"
      },
      {
        "duration": 22,
        "start_time": "2023-05-31T15:56:01.279Z"
      },
      {
        "duration": 2412,
        "start_time": "2023-05-31T15:56:01.303Z"
      },
      {
        "duration": 10,
        "start_time": "2023-05-31T15:56:03.717Z"
      },
      {
        "duration": 5,
        "start_time": "2023-05-31T15:56:03.730Z"
      },
      {
        "duration": 19,
        "start_time": "2023-05-31T15:56:03.757Z"
      },
      {
        "duration": 22,
        "start_time": "2023-05-31T15:56:03.778Z"
      },
      {
        "duration": 25,
        "start_time": "2023-05-31T15:56:03.801Z"
      },
      {
        "duration": 14,
        "start_time": "2023-05-31T15:56:03.828Z"
      },
      {
        "duration": 28,
        "start_time": "2023-05-31T15:56:03.844Z"
      },
      {
        "duration": 28,
        "start_time": "2023-05-31T15:56:03.876Z"
      },
      {
        "duration": 24,
        "start_time": "2023-05-31T15:56:03.906Z"
      },
      {
        "duration": 16,
        "start_time": "2023-05-31T15:56:03.932Z"
      },
      {
        "duration": 22,
        "start_time": "2023-05-31T15:56:03.951Z"
      },
      {
        "duration": 9,
        "start_time": "2023-05-31T15:56:03.976Z"
      },
      {
        "duration": 203,
        "start_time": "2023-05-31T15:56:03.987Z"
      },
      {
        "duration": 4,
        "start_time": "2023-05-31T15:56:04.192Z"
      },
      {
        "duration": 17,
        "start_time": "2023-05-31T15:56:04.198Z"
      },
      {
        "duration": 8,
        "start_time": "2023-05-31T15:56:04.218Z"
      },
      {
        "duration": 100,
        "start_time": "2023-05-31T15:56:20.330Z"
      },
      {
        "duration": 108,
        "start_time": "2023-05-31T15:59:57.622Z"
      },
      {
        "duration": 115,
        "start_time": "2023-05-31T16:00:07.177Z"
      },
      {
        "duration": 120,
        "start_time": "2023-05-31T16:00:30.630Z"
      },
      {
        "duration": 27,
        "start_time": "2023-05-31T16:00:30.756Z"
      },
      {
        "duration": 2196,
        "start_time": "2023-05-31T16:00:30.786Z"
      },
      {
        "duration": 14,
        "start_time": "2023-05-31T16:00:32.985Z"
      },
      {
        "duration": 25,
        "start_time": "2023-05-31T16:00:33.002Z"
      },
      {
        "duration": 40,
        "start_time": "2023-05-31T16:00:33.030Z"
      },
      {
        "duration": 25,
        "start_time": "2023-05-31T16:00:33.076Z"
      },
      {
        "duration": 37,
        "start_time": "2023-05-31T16:00:33.103Z"
      },
      {
        "duration": 17,
        "start_time": "2023-05-31T16:00:33.142Z"
      },
      {
        "duration": 11,
        "start_time": "2023-05-31T16:00:33.161Z"
      },
      {
        "duration": 13,
        "start_time": "2023-05-31T16:00:33.175Z"
      },
      {
        "duration": 25,
        "start_time": "2023-05-31T16:00:33.190Z"
      },
      {
        "duration": 33,
        "start_time": "2023-05-31T16:00:33.217Z"
      },
      {
        "duration": 33,
        "start_time": "2023-05-31T16:00:33.253Z"
      },
      {
        "duration": 67,
        "start_time": "2023-05-31T16:00:33.288Z"
      },
      {
        "duration": 223,
        "start_time": "2023-05-31T16:00:33.359Z"
      },
      {
        "duration": 4,
        "start_time": "2023-05-31T16:00:33.584Z"
      },
      {
        "duration": 114,
        "start_time": "2023-05-31T16:00:33.589Z"
      },
      {
        "duration": 3,
        "start_time": "2023-05-31T16:00:33.705Z"
      },
      {
        "duration": 149,
        "start_time": "2023-05-31T16:00:58.889Z"
      },
      {
        "duration": 26,
        "start_time": "2023-05-31T16:00:59.044Z"
      },
      {
        "duration": 2970,
        "start_time": "2023-05-31T16:00:59.072Z"
      },
      {
        "duration": 40,
        "start_time": "2023-05-31T16:01:02.045Z"
      },
      {
        "duration": 8,
        "start_time": "2023-05-31T16:01:02.088Z"
      },
      {
        "duration": 26,
        "start_time": "2023-05-31T16:01:02.098Z"
      },
      {
        "duration": 10,
        "start_time": "2023-05-31T16:01:02.126Z"
      },
      {
        "duration": 34,
        "start_time": "2023-05-31T16:01:02.139Z"
      },
      {
        "duration": 10,
        "start_time": "2023-05-31T16:01:02.176Z"
      },
      {
        "duration": 5,
        "start_time": "2023-05-31T16:01:02.189Z"
      },
      {
        "duration": 15,
        "start_time": "2023-05-31T16:01:02.196Z"
      },
      {
        "duration": 49,
        "start_time": "2023-05-31T16:01:02.214Z"
      },
      {
        "duration": 32,
        "start_time": "2023-05-31T16:01:02.266Z"
      },
      {
        "duration": 20,
        "start_time": "2023-05-31T16:01:02.302Z"
      },
      {
        "duration": 15,
        "start_time": "2023-05-31T16:01:02.324Z"
      },
      {
        "duration": 304,
        "start_time": "2023-05-31T16:01:02.341Z"
      },
      {
        "duration": 23,
        "start_time": "2023-05-31T16:01:02.648Z"
      },
      {
        "duration": 17,
        "start_time": "2023-05-31T16:01:02.673Z"
      },
      {
        "duration": 3,
        "start_time": "2023-05-31T16:01:02.693Z"
      },
      {
        "duration": 121,
        "start_time": "2023-05-31T16:02:33.771Z"
      },
      {
        "duration": 114,
        "start_time": "2023-05-31T16:02:57.880Z"
      },
      {
        "duration": 17,
        "start_time": "2023-05-31T16:02:57.996Z"
      },
      {
        "duration": 2204,
        "start_time": "2023-05-31T16:02:58.015Z"
      },
      {
        "duration": 10,
        "start_time": "2023-05-31T16:03:00.221Z"
      },
      {
        "duration": 54,
        "start_time": "2023-05-31T16:03:00.233Z"
      },
      {
        "duration": 38,
        "start_time": "2023-05-31T16:03:00.289Z"
      },
      {
        "duration": 60,
        "start_time": "2023-05-31T16:03:00.329Z"
      },
      {
        "duration": 28,
        "start_time": "2023-05-31T16:03:00.392Z"
      },
      {
        "duration": 41,
        "start_time": "2023-05-31T16:03:00.422Z"
      },
      {
        "duration": 76,
        "start_time": "2023-05-31T16:03:00.467Z"
      },
      {
        "duration": 58,
        "start_time": "2023-05-31T16:03:00.545Z"
      },
      {
        "duration": 42,
        "start_time": "2023-05-31T16:03:00.605Z"
      },
      {
        "duration": 57,
        "start_time": "2023-05-31T16:03:00.649Z"
      },
      {
        "duration": 36,
        "start_time": "2023-05-31T16:03:00.709Z"
      },
      {
        "duration": 29,
        "start_time": "2023-05-31T16:03:00.747Z"
      },
      {
        "duration": 199,
        "start_time": "2023-05-31T16:03:00.778Z"
      },
      {
        "duration": 4,
        "start_time": "2023-05-31T16:03:00.979Z"
      },
      {
        "duration": 194,
        "start_time": "2023-05-31T16:03:00.985Z"
      },
      {
        "duration": 12,
        "start_time": "2023-05-31T16:14:30.989Z"
      },
      {
        "duration": 7,
        "start_time": "2023-05-31T16:15:53.776Z"
      },
      {
        "duration": 9,
        "start_time": "2023-05-31T16:16:00.441Z"
      },
      {
        "duration": 7,
        "start_time": "2023-05-31T16:16:15.186Z"
      },
      {
        "duration": 8,
        "start_time": "2023-05-31T16:20:48.685Z"
      },
      {
        "duration": 4,
        "start_time": "2023-05-31T16:23:47.675Z"
      },
      {
        "duration": 15,
        "start_time": "2023-05-31T16:23:54.761Z"
      },
      {
        "duration": 111,
        "start_time": "2023-05-31T16:24:24.212Z"
      },
      {
        "duration": 17,
        "start_time": "2023-05-31T16:24:24.326Z"
      },
      {
        "duration": 2146,
        "start_time": "2023-05-31T16:24:24.359Z"
      },
      {
        "duration": 10,
        "start_time": "2023-05-31T16:24:26.507Z"
      },
      {
        "duration": 6,
        "start_time": "2023-05-31T16:24:26.519Z"
      },
      {
        "duration": 37,
        "start_time": "2023-05-31T16:24:26.526Z"
      },
      {
        "duration": 11,
        "start_time": "2023-05-31T16:24:26.566Z"
      },
      {
        "duration": 6,
        "start_time": "2023-05-31T16:24:26.579Z"
      },
      {
        "duration": 6,
        "start_time": "2023-05-31T16:24:26.587Z"
      },
      {
        "duration": 5,
        "start_time": "2023-05-31T16:24:26.594Z"
      },
      {
        "duration": 5,
        "start_time": "2023-05-31T16:24:26.601Z"
      },
      {
        "duration": 13,
        "start_time": "2023-05-31T16:24:26.609Z"
      },
      {
        "duration": 55,
        "start_time": "2023-05-31T16:24:26.624Z"
      },
      {
        "duration": 20,
        "start_time": "2023-05-31T16:24:26.683Z"
      },
      {
        "duration": 10,
        "start_time": "2023-05-31T16:24:26.706Z"
      },
      {
        "duration": 214,
        "start_time": "2023-05-31T16:24:26.718Z"
      },
      {
        "duration": 4,
        "start_time": "2023-05-31T16:24:26.934Z"
      },
      {
        "duration": 33,
        "start_time": "2023-05-31T16:24:26.940Z"
      },
      {
        "duration": 6,
        "start_time": "2023-05-31T16:24:26.979Z"
      },
      {
        "duration": 10,
        "start_time": "2023-05-31T16:24:26.987Z"
      },
      {
        "duration": 11,
        "start_time": "2023-05-31T16:24:26.999Z"
      },
      {
        "duration": 6,
        "start_time": "2023-05-31T16:25:48.692Z"
      },
      {
        "duration": 8,
        "start_time": "2023-05-31T16:31:17.390Z"
      },
      {
        "duration": 9,
        "start_time": "2023-05-31T16:31:36.114Z"
      },
      {
        "duration": 12,
        "start_time": "2023-05-31T16:32:56.480Z"
      },
      {
        "duration": 5,
        "start_time": "2023-05-31T16:36:09.030Z"
      },
      {
        "duration": 6,
        "start_time": "2023-05-31T16:37:41.733Z"
      },
      {
        "duration": 7,
        "start_time": "2023-05-31T16:38:15.318Z"
      },
      {
        "duration": 5,
        "start_time": "2023-05-31T16:39:36.870Z"
      },
      {
        "duration": 4,
        "start_time": "2023-05-31T16:40:03.216Z"
      },
      {
        "duration": 4,
        "start_time": "2023-05-31T16:41:46.395Z"
      },
      {
        "duration": 5,
        "start_time": "2023-05-31T16:44:01.715Z"
      },
      {
        "duration": 10,
        "start_time": "2023-05-31T16:46:59.879Z"
      },
      {
        "duration": 5,
        "start_time": "2023-05-31T16:47:19.685Z"
      },
      {
        "duration": 6,
        "start_time": "2023-05-31T16:48:18.985Z"
      },
      {
        "duration": 9,
        "start_time": "2023-05-31T16:48:41.818Z"
      },
      {
        "duration": 5,
        "start_time": "2023-05-31T16:48:42.587Z"
      },
      {
        "duration": 103,
        "start_time": "2023-05-31T16:48:51.326Z"
      },
      {
        "duration": 13,
        "start_time": "2023-05-31T16:48:51.432Z"
      },
      {
        "duration": 2409,
        "start_time": "2023-05-31T16:48:51.447Z"
      },
      {
        "duration": 9,
        "start_time": "2023-05-31T16:48:53.858Z"
      },
      {
        "duration": 5,
        "start_time": "2023-05-31T16:48:53.870Z"
      },
      {
        "duration": 10,
        "start_time": "2023-05-31T16:48:53.876Z"
      },
      {
        "duration": 7,
        "start_time": "2023-05-31T16:48:53.888Z"
      },
      {
        "duration": 6,
        "start_time": "2023-05-31T16:48:53.896Z"
      },
      {
        "duration": 7,
        "start_time": "2023-05-31T16:48:53.903Z"
      },
      {
        "duration": 8,
        "start_time": "2023-05-31T16:48:53.912Z"
      },
      {
        "duration": 37,
        "start_time": "2023-05-31T16:48:53.922Z"
      },
      {
        "duration": 10,
        "start_time": "2023-05-31T16:48:53.961Z"
      },
      {
        "duration": 15,
        "start_time": "2023-05-31T16:48:53.973Z"
      },
      {
        "duration": 15,
        "start_time": "2023-05-31T16:48:53.990Z"
      },
      {
        "duration": 6,
        "start_time": "2023-05-31T16:48:54.007Z"
      },
      {
        "duration": 186,
        "start_time": "2023-05-31T16:48:54.015Z"
      },
      {
        "duration": 4,
        "start_time": "2023-05-31T16:48:54.203Z"
      },
      {
        "duration": 10,
        "start_time": "2023-05-31T16:48:54.209Z"
      },
      {
        "duration": 5,
        "start_time": "2023-05-31T16:48:54.221Z"
      },
      {
        "duration": 28,
        "start_time": "2023-05-31T16:48:54.228Z"
      },
      {
        "duration": 5,
        "start_time": "2023-05-31T16:48:54.258Z"
      },
      {
        "duration": 7,
        "start_time": "2023-05-31T16:48:54.264Z"
      },
      {
        "duration": 11,
        "start_time": "2023-05-31T16:48:54.273Z"
      },
      {
        "duration": 4,
        "start_time": "2023-05-31T16:48:54.286Z"
      },
      {
        "duration": 5,
        "start_time": "2023-05-31T16:48:54.292Z"
      },
      {
        "duration": 9,
        "start_time": "2023-05-31T16:49:48.851Z"
      },
      {
        "duration": 4,
        "start_time": "2023-05-31T16:49:50.039Z"
      },
      {
        "duration": 85,
        "start_time": "2023-05-31T16:50:17.782Z"
      },
      {
        "duration": 6,
        "start_time": "2023-05-31T16:50:18.380Z"
      },
      {
        "duration": 17,
        "start_time": "2023-05-31T16:50:30.479Z"
      },
      {
        "duration": 7,
        "start_time": "2023-05-31T16:50:31.023Z"
      },
      {
        "duration": 311,
        "start_time": "2023-05-31T16:51:37.779Z"
      },
      {
        "duration": 8,
        "start_time": "2023-05-31T16:52:07.985Z"
      },
      {
        "duration": 910,
        "start_time": "2023-05-31T16:52:09.413Z"
      },
      {
        "duration": 5,
        "start_time": "2023-05-31T16:52:44.580Z"
      },
      {
        "duration": 1019,
        "start_time": "2023-05-31T16:52:59.421Z"
      },
      {
        "duration": 113,
        "start_time": "2023-05-31T16:53:14.308Z"
      },
      {
        "duration": 17,
        "start_time": "2023-05-31T16:53:14.425Z"
      },
      {
        "duration": 1989,
        "start_time": "2023-05-31T16:53:14.457Z"
      },
      {
        "duration": 17,
        "start_time": "2023-05-31T16:53:16.449Z"
      },
      {
        "duration": 15,
        "start_time": "2023-05-31T16:53:16.469Z"
      },
      {
        "duration": 24,
        "start_time": "2023-05-31T16:53:16.486Z"
      },
      {
        "duration": 15,
        "start_time": "2023-05-31T16:53:16.512Z"
      },
      {
        "duration": 16,
        "start_time": "2023-05-31T16:53:16.529Z"
      },
      {
        "duration": 23,
        "start_time": "2023-05-31T16:53:16.547Z"
      },
      {
        "duration": 24,
        "start_time": "2023-05-31T16:53:16.572Z"
      },
      {
        "duration": 28,
        "start_time": "2023-05-31T16:53:16.597Z"
      },
      {
        "duration": 18,
        "start_time": "2023-05-31T16:53:16.627Z"
      },
      {
        "duration": 34,
        "start_time": "2023-05-31T16:53:16.647Z"
      },
      {
        "duration": 31,
        "start_time": "2023-05-31T16:53:16.684Z"
      },
      {
        "duration": 9,
        "start_time": "2023-05-31T16:53:16.717Z"
      },
      {
        "duration": 171,
        "start_time": "2023-05-31T16:53:16.728Z"
      },
      {
        "duration": 5,
        "start_time": "2023-05-31T16:53:16.909Z"
      },
      {
        "duration": 24,
        "start_time": "2023-05-31T16:53:16.916Z"
      },
      {
        "duration": 13,
        "start_time": "2023-05-31T16:53:16.943Z"
      },
      {
        "duration": 12,
        "start_time": "2023-05-31T16:53:16.958Z"
      },
      {
        "duration": 15,
        "start_time": "2023-05-31T16:53:16.972Z"
      },
      {
        "duration": 6,
        "start_time": "2023-05-31T16:53:16.989Z"
      },
      {
        "duration": 24,
        "start_time": "2023-05-31T16:53:16.996Z"
      },
      {
        "duration": 34,
        "start_time": "2023-05-31T16:53:17.022Z"
      },
      {
        "duration": 12,
        "start_time": "2023-05-31T16:53:17.057Z"
      },
      {
        "duration": 6,
        "start_time": "2023-05-31T16:55:19.699Z"
      },
      {
        "duration": 25,
        "start_time": "2023-05-31T16:55:34.380Z"
      },
      {
        "duration": 5,
        "start_time": "2023-05-31T16:55:45.479Z"
      },
      {
        "duration": 4,
        "start_time": "2023-05-31T16:55:54.912Z"
      },
      {
        "duration": 106,
        "start_time": "2023-05-31T16:56:34.952Z"
      },
      {
        "duration": 15,
        "start_time": "2023-05-31T16:56:35.060Z"
      },
      {
        "duration": 1890,
        "start_time": "2023-05-31T16:56:35.077Z"
      },
      {
        "duration": 11,
        "start_time": "2023-05-31T16:56:36.969Z"
      },
      {
        "duration": 14,
        "start_time": "2023-05-31T16:56:36.983Z"
      },
      {
        "duration": 30,
        "start_time": "2023-05-31T16:56:36.998Z"
      },
      {
        "duration": 19,
        "start_time": "2023-05-31T16:56:37.030Z"
      },
      {
        "duration": 6,
        "start_time": "2023-05-31T16:56:37.051Z"
      },
      {
        "duration": 5,
        "start_time": "2023-05-31T16:56:37.059Z"
      },
      {
        "duration": 4,
        "start_time": "2023-05-31T16:56:37.066Z"
      },
      {
        "duration": 9,
        "start_time": "2023-05-31T16:56:37.071Z"
      },
      {
        "duration": 9,
        "start_time": "2023-05-31T16:56:37.081Z"
      },
      {
        "duration": 14,
        "start_time": "2023-05-31T16:56:37.091Z"
      },
      {
        "duration": 16,
        "start_time": "2023-05-31T16:56:37.108Z"
      },
      {
        "duration": 35,
        "start_time": "2023-05-31T16:56:37.126Z"
      },
      {
        "duration": 167,
        "start_time": "2023-05-31T16:56:37.163Z"
      },
      {
        "duration": 4,
        "start_time": "2023-05-31T16:56:37.332Z"
      },
      {
        "duration": 21,
        "start_time": "2023-05-31T16:56:37.338Z"
      },
      {
        "duration": 5,
        "start_time": "2023-05-31T16:56:37.361Z"
      },
      {
        "duration": 6,
        "start_time": "2023-05-31T16:56:37.367Z"
      },
      {
        "duration": 16,
        "start_time": "2023-05-31T16:56:37.374Z"
      },
      {
        "duration": 6,
        "start_time": "2023-05-31T16:56:37.392Z"
      },
      {
        "duration": 14,
        "start_time": "2023-05-31T16:56:37.400Z"
      },
      {
        "duration": 5,
        "start_time": "2023-05-31T16:56:37.415Z"
      },
      {
        "duration": 5,
        "start_time": "2023-05-31T16:56:37.422Z"
      },
      {
        "duration": 8,
        "start_time": "2023-05-31T16:57:25.935Z"
      },
      {
        "duration": 5,
        "start_time": "2023-05-31T16:57:27.495Z"
      },
      {
        "duration": 9,
        "start_time": "2023-05-31T16:58:21.893Z"
      },
      {
        "duration": 4,
        "start_time": "2023-05-31T16:58:22.778Z"
      },
      {
        "duration": 10,
        "start_time": "2023-05-31T16:58:53.483Z"
      },
      {
        "duration": 11,
        "start_time": "2023-05-31T16:59:13.879Z"
      },
      {
        "duration": 5,
        "start_time": "2023-05-31T16:59:14.591Z"
      },
      {
        "duration": 115,
        "start_time": "2023-05-31T16:59:18.587Z"
      },
      {
        "duration": 15,
        "start_time": "2023-05-31T16:59:18.704Z"
      },
      {
        "duration": 1936,
        "start_time": "2023-05-31T16:59:18.720Z"
      },
      {
        "duration": 9,
        "start_time": "2023-05-31T16:59:20.659Z"
      },
      {
        "duration": 19,
        "start_time": "2023-05-31T16:59:20.670Z"
      },
      {
        "duration": 24,
        "start_time": "2023-05-31T16:59:20.691Z"
      },
      {
        "duration": 17,
        "start_time": "2023-05-31T16:59:20.717Z"
      },
      {
        "duration": 25,
        "start_time": "2023-05-31T16:59:20.735Z"
      },
      {
        "duration": 48,
        "start_time": "2023-05-31T16:59:20.762Z"
      },
      {
        "duration": 11,
        "start_time": "2023-05-31T16:59:20.811Z"
      },
      {
        "duration": 17,
        "start_time": "2023-05-31T16:59:20.823Z"
      },
      {
        "duration": 20,
        "start_time": "2023-05-31T16:59:20.842Z"
      },
      {
        "duration": 33,
        "start_time": "2023-05-31T16:59:20.864Z"
      },
      {
        "duration": 27,
        "start_time": "2023-05-31T16:59:20.900Z"
      },
      {
        "duration": 10,
        "start_time": "2023-05-31T16:59:20.929Z"
      },
      {
        "duration": 151,
        "start_time": "2023-05-31T16:59:20.940Z"
      },
      {
        "duration": 3,
        "start_time": "2023-05-31T16:59:21.093Z"
      },
      {
        "duration": 12,
        "start_time": "2023-05-31T16:59:21.098Z"
      },
      {
        "duration": 35,
        "start_time": "2023-05-31T16:59:21.112Z"
      },
      {
        "duration": 18,
        "start_time": "2023-05-31T16:59:21.149Z"
      },
      {
        "duration": 6,
        "start_time": "2023-05-31T16:59:21.168Z"
      },
      {
        "duration": 18,
        "start_time": "2023-05-31T16:59:21.175Z"
      },
      {
        "duration": 15,
        "start_time": "2023-05-31T16:59:21.196Z"
      },
      {
        "duration": 5,
        "start_time": "2023-05-31T16:59:21.214Z"
      },
      {
        "duration": 41,
        "start_time": "2023-05-31T17:01:46.519Z"
      },
      {
        "duration": 11,
        "start_time": "2023-05-31T17:03:11.995Z"
      },
      {
        "duration": 29,
        "start_time": "2023-05-31T17:28:27.874Z"
      },
      {
        "duration": 29,
        "start_time": "2023-05-31T17:29:42.150Z"
      },
      {
        "duration": 12,
        "start_time": "2023-05-31T17:31:15.260Z"
      },
      {
        "duration": 41,
        "start_time": "2023-05-31T17:31:22.496Z"
      },
      {
        "duration": 4,
        "start_time": "2023-05-31T17:31:30.537Z"
      },
      {
        "duration": 28,
        "start_time": "2023-05-31T17:34:05.982Z"
      },
      {
        "duration": 6,
        "start_time": "2023-05-31T17:34:40.575Z"
      },
      {
        "duration": 7,
        "start_time": "2023-05-31T17:37:50.367Z"
      },
      {
        "duration": 30,
        "start_time": "2023-05-31T17:38:01.195Z"
      },
      {
        "duration": 6,
        "start_time": "2023-05-31T17:38:18.897Z"
      },
      {
        "duration": 7,
        "start_time": "2023-05-31T17:38:31.338Z"
      },
      {
        "duration": 28,
        "start_time": "2023-05-31T17:38:43.140Z"
      },
      {
        "duration": 6,
        "start_time": "2023-05-31T17:38:51.913Z"
      },
      {
        "duration": 4,
        "start_time": "2023-05-31T17:54:03.176Z"
      },
      {
        "duration": 7,
        "start_time": "2023-05-31T17:54:25.480Z"
      },
      {
        "duration": 2600,
        "start_time": "2023-05-31T17:55:23.176Z"
      },
      {
        "duration": 8636,
        "start_time": "2023-05-31T17:56:10.604Z"
      },
      {
        "duration": 28,
        "start_time": "2023-05-31T17:56:38.087Z"
      },
      {
        "duration": 6,
        "start_time": "2023-05-31T18:00:06.975Z"
      },
      {
        "duration": 14,
        "start_time": "2023-05-31T18:01:31.200Z"
      },
      {
        "duration": 7599,
        "start_time": "2023-05-31T18:01:53.138Z"
      },
      {
        "duration": 8971,
        "start_time": "2023-05-31T18:02:28.341Z"
      },
      {
        "duration": 5,
        "start_time": "2023-05-31T18:06:09.229Z"
      },
      {
        "duration": 3122,
        "start_time": "2023-05-31T18:07:13.308Z"
      },
      {
        "duration": 3144,
        "start_time": "2023-05-31T18:07:24.038Z"
      },
      {
        "duration": 3187,
        "start_time": "2023-05-31T18:07:34.308Z"
      },
      {
        "duration": 3061,
        "start_time": "2023-05-31T18:07:46.917Z"
      },
      {
        "duration": 25,
        "start_time": "2023-05-31T18:08:04.889Z"
      },
      {
        "duration": 109,
        "start_time": "2023-05-31T18:08:37.285Z"
      },
      {
        "duration": 17,
        "start_time": "2023-05-31T18:08:37.396Z"
      },
      {
        "duration": 2063,
        "start_time": "2023-05-31T18:08:37.414Z"
      },
      {
        "duration": 10,
        "start_time": "2023-05-31T18:08:39.478Z"
      },
      {
        "duration": 5,
        "start_time": "2023-05-31T18:08:39.490Z"
      },
      {
        "duration": 8,
        "start_time": "2023-05-31T18:08:39.497Z"
      },
      {
        "duration": 8,
        "start_time": "2023-05-31T18:08:39.507Z"
      },
      {
        "duration": 6,
        "start_time": "2023-05-31T18:08:39.516Z"
      },
      {
        "duration": 38,
        "start_time": "2023-05-31T18:08:39.523Z"
      },
      {
        "duration": 11,
        "start_time": "2023-05-31T18:08:39.566Z"
      },
      {
        "duration": 7,
        "start_time": "2023-05-31T18:08:39.579Z"
      },
      {
        "duration": 10,
        "start_time": "2023-05-31T18:08:39.588Z"
      },
      {
        "duration": 16,
        "start_time": "2023-05-31T18:08:39.600Z"
      },
      {
        "duration": 21,
        "start_time": "2023-05-31T18:08:39.619Z"
      },
      {
        "duration": 26,
        "start_time": "2023-05-31T18:08:39.641Z"
      },
      {
        "duration": 203,
        "start_time": "2023-05-31T18:08:39.673Z"
      },
      {
        "duration": 5,
        "start_time": "2023-05-31T18:08:39.878Z"
      },
      {
        "duration": 16,
        "start_time": "2023-05-31T18:08:39.885Z"
      },
      {
        "duration": 8,
        "start_time": "2023-05-31T18:08:39.903Z"
      },
      {
        "duration": 9,
        "start_time": "2023-05-31T18:08:39.913Z"
      },
      {
        "duration": 9,
        "start_time": "2023-05-31T18:08:39.924Z"
      },
      {
        "duration": 4,
        "start_time": "2023-05-31T18:08:39.935Z"
      },
      {
        "duration": 12,
        "start_time": "2023-05-31T18:08:39.957Z"
      },
      {
        "duration": 6,
        "start_time": "2023-05-31T18:08:39.973Z"
      },
      {
        "duration": 45,
        "start_time": "2023-05-31T18:08:39.981Z"
      },
      {
        "duration": 30,
        "start_time": "2023-05-31T18:08:40.028Z"
      },
      {
        "duration": 8,
        "start_time": "2023-05-31T18:08:40.065Z"
      },
      {
        "duration": 9,
        "start_time": "2023-05-31T18:08:40.076Z"
      },
      {
        "duration": 11,
        "start_time": "2023-05-31T18:08:40.087Z"
      },
      {
        "duration": 28,
        "start_time": "2023-05-31T18:08:40.099Z"
      },
      {
        "duration": 3083,
        "start_time": "2023-05-31T18:08:40.128Z"
      },
      {
        "duration": 24,
        "start_time": "2023-05-31T18:08:43.213Z"
      },
      {
        "duration": 332,
        "start_time": "2023-05-31T18:09:44.779Z"
      },
      {
        "duration": 23,
        "start_time": "2023-05-31T18:09:47.783Z"
      },
      {
        "duration": 358,
        "start_time": "2023-05-31T18:10:43.191Z"
      },
      {
        "duration": 4,
        "start_time": "2023-05-31T18:12:40.728Z"
      },
      {
        "duration": 110,
        "start_time": "2023-05-31T18:13:30.734Z"
      },
      {
        "duration": 26,
        "start_time": "2023-05-31T18:13:30.846Z"
      },
      {
        "duration": 2619,
        "start_time": "2023-05-31T18:13:30.874Z"
      },
      {
        "duration": 10,
        "start_time": "2023-05-31T18:13:33.496Z"
      },
      {
        "duration": 24,
        "start_time": "2023-05-31T18:13:33.508Z"
      },
      {
        "duration": 9,
        "start_time": "2023-05-31T18:13:33.534Z"
      },
      {
        "duration": 26,
        "start_time": "2023-05-31T18:13:33.545Z"
      },
      {
        "duration": 21,
        "start_time": "2023-05-31T18:13:33.573Z"
      },
      {
        "duration": 11,
        "start_time": "2023-05-31T18:13:33.596Z"
      },
      {
        "duration": 25,
        "start_time": "2023-05-31T18:13:33.610Z"
      },
      {
        "duration": 14,
        "start_time": "2023-05-31T18:13:33.637Z"
      },
      {
        "duration": 18,
        "start_time": "2023-05-31T18:13:33.653Z"
      },
      {
        "duration": 14,
        "start_time": "2023-05-31T18:13:33.673Z"
      },
      {
        "duration": 33,
        "start_time": "2023-05-31T18:13:33.689Z"
      },
      {
        "duration": 9,
        "start_time": "2023-05-31T18:13:33.724Z"
      },
      {
        "duration": 190,
        "start_time": "2023-05-31T18:13:33.735Z"
      },
      {
        "duration": 4,
        "start_time": "2023-05-31T18:13:33.928Z"
      },
      {
        "duration": 26,
        "start_time": "2023-05-31T18:13:33.933Z"
      },
      {
        "duration": 24,
        "start_time": "2023-05-31T18:13:33.961Z"
      },
      {
        "duration": 23,
        "start_time": "2023-05-31T18:13:33.987Z"
      },
      {
        "duration": 5,
        "start_time": "2023-05-31T18:13:34.012Z"
      },
      {
        "duration": 15,
        "start_time": "2023-05-31T18:13:34.019Z"
      },
      {
        "duration": 15,
        "start_time": "2023-05-31T18:13:34.036Z"
      },
      {
        "duration": 13,
        "start_time": "2023-05-31T18:13:34.053Z"
      },
      {
        "duration": 49,
        "start_time": "2023-05-31T18:13:34.069Z"
      },
      {
        "duration": 8,
        "start_time": "2023-05-31T18:13:34.119Z"
      },
      {
        "duration": 7,
        "start_time": "2023-05-31T18:13:34.129Z"
      },
      {
        "duration": 30,
        "start_time": "2023-05-31T18:13:34.139Z"
      },
      {
        "duration": 6,
        "start_time": "2023-05-31T18:13:34.171Z"
      },
      {
        "duration": 6,
        "start_time": "2023-05-31T18:13:34.179Z"
      },
      {
        "duration": 345,
        "start_time": "2023-05-31T18:13:34.187Z"
      },
      {
        "duration": 4,
        "start_time": "2023-05-31T18:13:34.534Z"
      },
      {
        "duration": 46,
        "start_time": "2023-05-31T18:13:34.540Z"
      },
      {
        "duration": 135,
        "start_time": "2023-05-31T18:32:25.912Z"
      },
      {
        "duration": 179,
        "start_time": "2023-05-31T18:32:54.543Z"
      },
      {
        "duration": 201,
        "start_time": "2023-05-31T18:37:01.621Z"
      },
      {
        "duration": 188,
        "start_time": "2023-05-31T18:38:00.987Z"
      },
      {
        "duration": 163,
        "start_time": "2023-05-31T18:38:27.484Z"
      },
      {
        "duration": 230,
        "start_time": "2023-05-31T18:39:59.113Z"
      },
      {
        "duration": 127,
        "start_time": "2023-05-31T18:40:20.000Z"
      },
      {
        "duration": 209,
        "start_time": "2023-05-31T18:40:28.892Z"
      },
      {
        "duration": 177,
        "start_time": "2023-05-31T18:40:49.345Z"
      },
      {
        "duration": 157,
        "start_time": "2023-05-31T18:41:06.438Z"
      },
      {
        "duration": 138,
        "start_time": "2023-05-31T18:43:28.487Z"
      },
      {
        "duration": 187,
        "start_time": "2023-05-31T18:43:40.926Z"
      },
      {
        "duration": 144,
        "start_time": "2023-05-31T18:43:51.400Z"
      },
      {
        "duration": 172,
        "start_time": "2023-05-31T18:45:23.783Z"
      },
      {
        "duration": 171,
        "start_time": "2023-05-31T18:45:59.209Z"
      },
      {
        "duration": 153,
        "start_time": "2023-05-31T18:46:05.988Z"
      },
      {
        "duration": 11,
        "start_time": "2023-05-31T18:47:58.941Z"
      },
      {
        "duration": 199,
        "start_time": "2023-05-31T18:48:08.815Z"
      },
      {
        "duration": 5,
        "start_time": "2023-05-31T18:49:21.692Z"
      },
      {
        "duration": 226,
        "start_time": "2023-05-31T18:50:26.404Z"
      },
      {
        "duration": 171,
        "start_time": "2023-05-31T18:50:37.811Z"
      },
      {
        "duration": 149,
        "start_time": "2023-05-31T18:50:44.427Z"
      },
      {
        "duration": 176,
        "start_time": "2023-05-31T18:50:49.803Z"
      },
      {
        "duration": 160,
        "start_time": "2023-05-31T18:52:24.924Z"
      },
      {
        "duration": 193,
        "start_time": "2023-05-31T18:52:44.105Z"
      },
      {
        "duration": 211,
        "start_time": "2023-05-31T18:52:54.084Z"
      },
      {
        "duration": 172,
        "start_time": "2023-05-31T18:53:00.303Z"
      },
      {
        "duration": 157,
        "start_time": "2023-05-31T18:55:29.984Z"
      },
      {
        "duration": 192,
        "start_time": "2023-05-31T18:55:38.386Z"
      },
      {
        "duration": 191,
        "start_time": "2023-05-31T18:57:21.115Z"
      },
      {
        "duration": 164,
        "start_time": "2023-05-31T18:57:26.440Z"
      },
      {
        "duration": 200,
        "start_time": "2023-05-31T18:57:43.346Z"
      },
      {
        "duration": 138,
        "start_time": "2023-05-31T18:57:47.557Z"
      },
      {
        "duration": 150,
        "start_time": "2023-05-31T18:59:30.988Z"
      },
      {
        "duration": 205,
        "start_time": "2023-05-31T19:00:59.054Z"
      },
      {
        "duration": 138,
        "start_time": "2023-05-31T19:03:21.986Z"
      },
      {
        "duration": 185,
        "start_time": "2023-05-31T19:03:54.926Z"
      },
      {
        "duration": 183,
        "start_time": "2023-05-31T19:05:46.685Z"
      },
      {
        "duration": 237,
        "start_time": "2023-05-31T19:05:58.062Z"
      },
      {
        "duration": 168,
        "start_time": "2023-05-31T19:07:44.906Z"
      },
      {
        "duration": 135,
        "start_time": "2023-05-31T19:08:36.609Z"
      },
      {
        "duration": 147,
        "start_time": "2023-05-31T19:08:40.492Z"
      },
      {
        "duration": 138,
        "start_time": "2023-05-31T19:08:46.072Z"
      },
      {
        "duration": 213,
        "start_time": "2023-05-31T19:10:51.713Z"
      },
      {
        "duration": 188,
        "start_time": "2023-05-31T19:10:58.534Z"
      },
      {
        "duration": 191,
        "start_time": "2023-05-31T19:11:15.146Z"
      },
      {
        "duration": 137,
        "start_time": "2023-05-31T19:12:55.446Z"
      },
      {
        "duration": 137,
        "start_time": "2023-05-31T19:13:21.927Z"
      },
      {
        "duration": 260,
        "start_time": "2023-05-31T19:17:45.755Z"
      },
      {
        "duration": 153,
        "start_time": "2023-05-31T19:18:13.933Z"
      },
      {
        "duration": 163,
        "start_time": "2023-05-31T19:18:30.388Z"
      },
      {
        "duration": 156,
        "start_time": "2023-05-31T19:18:40.611Z"
      },
      {
        "duration": 7,
        "start_time": "2023-05-31T19:19:30.545Z"
      },
      {
        "duration": 9,
        "start_time": "2023-05-31T19:19:46.655Z"
      },
      {
        "duration": 27,
        "start_time": "2023-05-31T20:45:30.714Z"
      },
      {
        "duration": 19,
        "start_time": "2023-05-31T20:46:38.220Z"
      },
      {
        "duration": 136,
        "start_time": "2023-05-31T20:47:26.379Z"
      },
      {
        "duration": 176,
        "start_time": "2023-05-31T20:48:10.817Z"
      },
      {
        "duration": 164,
        "start_time": "2023-05-31T20:48:19.484Z"
      },
      {
        "duration": 162,
        "start_time": "2023-05-31T20:48:24.890Z"
      },
      {
        "duration": 77,
        "start_time": "2023-05-31T20:49:18.616Z"
      },
      {
        "duration": 186,
        "start_time": "2023-05-31T20:49:36.038Z"
      },
      {
        "duration": 180,
        "start_time": "2023-05-31T20:49:54.717Z"
      },
      {
        "duration": 15,
        "start_time": "2023-05-31T20:50:08.011Z"
      },
      {
        "duration": 7,
        "start_time": "2023-05-31T20:51:18.843Z"
      },
      {
        "duration": 168,
        "start_time": "2023-05-31T20:52:24.610Z"
      },
      {
        "duration": 216,
        "start_time": "2023-05-31T20:57:14.491Z"
      },
      {
        "duration": 276,
        "start_time": "2023-05-31T21:00:17.208Z"
      },
      {
        "duration": 193,
        "start_time": "2023-05-31T21:00:40.494Z"
      },
      {
        "duration": 174,
        "start_time": "2023-05-31T21:02:15.662Z"
      },
      {
        "duration": 190,
        "start_time": "2023-05-31T21:04:29.987Z"
      },
      {
        "duration": 402,
        "start_time": "2023-05-31T21:06:41.679Z"
      },
      {
        "duration": 381,
        "start_time": "2023-05-31T21:06:58.832Z"
      },
      {
        "duration": 204,
        "start_time": "2023-05-31T21:07:17.667Z"
      },
      {
        "duration": 163,
        "start_time": "2023-05-31T21:07:30.271Z"
      },
      {
        "duration": 172,
        "start_time": "2023-05-31T21:10:02.107Z"
      },
      {
        "duration": 185,
        "start_time": "2023-05-31T21:11:46.155Z"
      },
      {
        "duration": 178,
        "start_time": "2023-05-31T21:15:33.283Z"
      },
      {
        "duration": 191,
        "start_time": "2023-05-31T21:16:18.939Z"
      },
      {
        "duration": 166,
        "start_time": "2023-05-31T21:16:43.784Z"
      },
      {
        "duration": 12,
        "start_time": "2023-05-31T21:20:04.746Z"
      },
      {
        "duration": 9,
        "start_time": "2023-05-31T21:20:13.888Z"
      },
      {
        "duration": 100,
        "start_time": "2023-05-31T21:23:20.679Z"
      },
      {
        "duration": 61,
        "start_time": "2023-05-31T21:24:43.432Z"
      },
      {
        "duration": 10,
        "start_time": "2023-05-31T21:25:28.391Z"
      },
      {
        "duration": 23,
        "start_time": "2023-05-31T21:27:55.476Z"
      },
      {
        "duration": 19,
        "start_time": "2023-05-31T21:28:19.396Z"
      },
      {
        "duration": 21,
        "start_time": "2023-05-31T21:28:27.084Z"
      },
      {
        "duration": 20,
        "start_time": "2023-05-31T21:28:49.071Z"
      },
      {
        "duration": 26,
        "start_time": "2023-05-31T21:29:43.252Z"
      },
      {
        "duration": 54,
        "start_time": "2023-05-31T21:34:39.435Z"
      },
      {
        "duration": 36,
        "start_time": "2023-05-31T21:37:37.127Z"
      },
      {
        "duration": 33,
        "start_time": "2023-05-31T21:38:19.776Z"
      },
      {
        "duration": 19,
        "start_time": "2023-05-31T21:39:17.108Z"
      },
      {
        "duration": 35,
        "start_time": "2023-05-31T21:39:36.602Z"
      },
      {
        "duration": 29,
        "start_time": "2023-05-31T21:39:55.778Z"
      },
      {
        "duration": 12,
        "start_time": "2023-05-31T21:41:03.677Z"
      },
      {
        "duration": 13,
        "start_time": "2023-05-31T21:41:59.631Z"
      },
      {
        "duration": 44,
        "start_time": "2023-05-31T21:42:26.172Z"
      },
      {
        "duration": 11,
        "start_time": "2023-05-31T21:44:36.295Z"
      },
      {
        "duration": 13,
        "start_time": "2023-05-31T21:44:49.963Z"
      },
      {
        "duration": 66,
        "start_time": "2023-05-31T21:46:07.448Z"
      },
      {
        "duration": 57,
        "start_time": "2023-05-31T21:46:21.167Z"
      },
      {
        "duration": 72,
        "start_time": "2023-05-31T21:49:22.656Z"
      },
      {
        "duration": 13,
        "start_time": "2023-05-31T21:49:26.958Z"
      },
      {
        "duration": 10,
        "start_time": "2023-05-31T21:51:02.219Z"
      },
      {
        "duration": 34,
        "start_time": "2023-05-31T21:51:21.579Z"
      },
      {
        "duration": 9,
        "start_time": "2023-05-31T21:55:07.250Z"
      },
      {
        "duration": 221,
        "start_time": "2023-05-31T21:56:09.066Z"
      },
      {
        "duration": 228,
        "start_time": "2023-05-31T21:56:29.132Z"
      },
      {
        "duration": 171,
        "start_time": "2023-05-31T21:56:33.932Z"
      },
      {
        "duration": 171,
        "start_time": "2023-05-31T21:56:47.634Z"
      },
      {
        "duration": 51,
        "start_time": "2023-05-31T21:57:40.858Z"
      },
      {
        "duration": 11,
        "start_time": "2023-05-31T21:59:38.594Z"
      },
      {
        "duration": 30,
        "start_time": "2023-05-31T21:59:51.914Z"
      },
      {
        "duration": 61,
        "start_time": "2023-05-31T22:00:10.916Z"
      },
      {
        "duration": 12,
        "start_time": "2023-05-31T22:00:46.935Z"
      },
      {
        "duration": 21,
        "start_time": "2023-05-31T22:01:28.558Z"
      },
      {
        "duration": 19,
        "start_time": "2023-05-31T22:01:36.075Z"
      },
      {
        "duration": 50,
        "start_time": "2023-05-31T22:01:44.486Z"
      },
      {
        "duration": 22,
        "start_time": "2023-05-31T22:02:06.284Z"
      },
      {
        "duration": 107,
        "start_time": "2023-05-31T22:09:14.117Z"
      },
      {
        "duration": 35,
        "start_time": "2023-05-31T22:09:14.226Z"
      },
      {
        "duration": 2478,
        "start_time": "2023-05-31T22:09:14.263Z"
      },
      {
        "duration": 15,
        "start_time": "2023-05-31T22:09:16.743Z"
      },
      {
        "duration": 19,
        "start_time": "2023-05-31T22:09:16.760Z"
      },
      {
        "duration": 17,
        "start_time": "2023-05-31T22:09:16.781Z"
      },
      {
        "duration": 13,
        "start_time": "2023-05-31T22:09:16.800Z"
      },
      {
        "duration": 23,
        "start_time": "2023-05-31T22:09:16.815Z"
      },
      {
        "duration": 24,
        "start_time": "2023-05-31T22:09:16.840Z"
      },
      {
        "duration": 23,
        "start_time": "2023-05-31T22:09:16.865Z"
      },
      {
        "duration": 25,
        "start_time": "2023-05-31T22:09:16.890Z"
      },
      {
        "duration": 18,
        "start_time": "2023-05-31T22:09:16.916Z"
      },
      {
        "duration": 19,
        "start_time": "2023-05-31T22:09:16.936Z"
      },
      {
        "duration": 14,
        "start_time": "2023-05-31T22:09:16.958Z"
      },
      {
        "duration": 36,
        "start_time": "2023-05-31T22:09:16.974Z"
      },
      {
        "duration": 150,
        "start_time": "2023-05-31T22:09:17.012Z"
      },
      {
        "duration": 5,
        "start_time": "2023-05-31T22:09:17.164Z"
      },
      {
        "duration": 19,
        "start_time": "2023-05-31T22:09:17.170Z"
      },
      {
        "duration": 17,
        "start_time": "2023-05-31T22:09:17.191Z"
      },
      {
        "duration": 32,
        "start_time": "2023-05-31T22:09:17.210Z"
      },
      {
        "duration": 18,
        "start_time": "2023-05-31T22:09:17.244Z"
      },
      {
        "duration": 14,
        "start_time": "2023-05-31T22:09:17.263Z"
      },
      {
        "duration": 35,
        "start_time": "2023-05-31T22:09:17.280Z"
      },
      {
        "duration": 13,
        "start_time": "2023-05-31T22:09:17.316Z"
      },
      {
        "duration": 54,
        "start_time": "2023-05-31T22:09:17.331Z"
      },
      {
        "duration": 10,
        "start_time": "2023-05-31T22:09:17.387Z"
      },
      {
        "duration": 13,
        "start_time": "2023-05-31T22:09:17.400Z"
      },
      {
        "duration": 23,
        "start_time": "2023-05-31T22:09:17.415Z"
      },
      {
        "duration": 23,
        "start_time": "2023-05-31T22:09:17.441Z"
      },
      {
        "duration": 8,
        "start_time": "2023-05-31T22:09:17.466Z"
      },
      {
        "duration": 302,
        "start_time": "2023-05-31T22:09:17.476Z"
      },
      {
        "duration": 5,
        "start_time": "2023-05-31T22:09:17.779Z"
      },
      {
        "duration": 35,
        "start_time": "2023-05-31T22:09:17.785Z"
      },
      {
        "duration": 149,
        "start_time": "2023-05-31T22:09:17.822Z"
      },
      {
        "duration": 131,
        "start_time": "2023-05-31T22:09:17.974Z"
      },
      {
        "duration": 164,
        "start_time": "2023-05-31T22:09:18.106Z"
      },
      {
        "duration": 147,
        "start_time": "2023-05-31T22:09:18.271Z"
      },
      {
        "duration": 154,
        "start_time": "2023-05-31T22:09:18.420Z"
      },
      {
        "duration": 157,
        "start_time": "2023-05-31T22:09:18.576Z"
      },
      {
        "duration": 144,
        "start_time": "2023-05-31T22:09:18.735Z"
      },
      {
        "duration": 207,
        "start_time": "2023-05-31T22:09:18.883Z"
      },
      {
        "duration": 226,
        "start_time": "2023-05-31T22:09:19.092Z"
      },
      {
        "duration": 147,
        "start_time": "2023-05-31T22:09:19.320Z"
      },
      {
        "duration": 148,
        "start_time": "2023-05-31T22:09:19.468Z"
      },
      {
        "duration": 141,
        "start_time": "2023-05-31T22:09:19.618Z"
      },
      {
        "duration": 141,
        "start_time": "2023-05-31T22:09:19.760Z"
      },
      {
        "duration": 139,
        "start_time": "2023-05-31T22:09:19.903Z"
      },
      {
        "duration": 147,
        "start_time": "2023-05-31T22:09:20.044Z"
      },
      {
        "duration": 6,
        "start_time": "2023-05-31T22:09:20.192Z"
      },
      {
        "duration": 169,
        "start_time": "2023-05-31T22:09:20.200Z"
      },
      {
        "duration": 195,
        "start_time": "2023-05-31T22:09:20.371Z"
      },
      {
        "duration": 221,
        "start_time": "2023-05-31T22:09:20.568Z"
      },
      {
        "duration": 176,
        "start_time": "2023-05-31T22:09:20.791Z"
      },
      {
        "duration": 190,
        "start_time": "2023-05-31T22:09:20.968Z"
      },
      {
        "duration": 199,
        "start_time": "2023-05-31T22:09:21.160Z"
      },
      {
        "duration": 195,
        "start_time": "2023-05-31T22:09:21.361Z"
      },
      {
        "duration": 188,
        "start_time": "2023-05-31T22:09:21.559Z"
      },
      {
        "duration": 12,
        "start_time": "2023-05-31T22:09:21.749Z"
      },
      {
        "duration": 24,
        "start_time": "2023-05-31T22:09:21.763Z"
      },
      {
        "duration": 15,
        "start_time": "2023-05-31T22:09:21.788Z"
      },
      {
        "duration": 190,
        "start_time": "2023-05-31T22:09:21.805Z"
      },
      {
        "duration": 148,
        "start_time": "2023-05-31T22:21:15.695Z"
      },
      {
        "duration": 1086,
        "start_time": "2023-05-31T23:17:11.064Z"
      },
      {
        "duration": 13,
        "start_time": "2023-05-31T23:17:12.152Z"
      },
      {
        "duration": 2220,
        "start_time": "2023-05-31T23:17:12.167Z"
      },
      {
        "duration": 10,
        "start_time": "2023-05-31T23:17:14.390Z"
      },
      {
        "duration": 10,
        "start_time": "2023-05-31T23:17:14.402Z"
      },
      {
        "duration": 18,
        "start_time": "2023-05-31T23:17:14.414Z"
      },
      {
        "duration": 7,
        "start_time": "2023-05-31T23:17:14.434Z"
      },
      {
        "duration": 22,
        "start_time": "2023-05-31T23:17:14.442Z"
      },
      {
        "duration": 34,
        "start_time": "2023-05-31T23:17:14.466Z"
      },
      {
        "duration": 14,
        "start_time": "2023-05-31T23:17:14.504Z"
      },
      {
        "duration": 17,
        "start_time": "2023-05-31T23:17:14.520Z"
      },
      {
        "duration": 24,
        "start_time": "2023-05-31T23:17:14.539Z"
      },
      {
        "duration": 30,
        "start_time": "2023-05-31T23:17:14.565Z"
      },
      {
        "duration": 47,
        "start_time": "2023-05-31T23:17:14.596Z"
      },
      {
        "duration": 23,
        "start_time": "2023-05-31T23:17:14.645Z"
      },
      {
        "duration": 170,
        "start_time": "2023-05-31T23:17:14.669Z"
      },
      {
        "duration": 3,
        "start_time": "2023-05-31T23:17:14.841Z"
      },
      {
        "duration": 10,
        "start_time": "2023-05-31T23:17:14.845Z"
      },
      {
        "duration": 11,
        "start_time": "2023-05-31T23:17:14.857Z"
      },
      {
        "duration": 47,
        "start_time": "2023-05-31T23:17:14.869Z"
      },
      {
        "duration": 8,
        "start_time": "2023-05-31T23:17:14.917Z"
      },
      {
        "duration": 15,
        "start_time": "2023-05-31T23:17:14.927Z"
      },
      {
        "duration": 17,
        "start_time": "2023-05-31T23:17:14.943Z"
      },
      {
        "duration": 9,
        "start_time": "2023-05-31T23:17:14.961Z"
      },
      {
        "duration": 47,
        "start_time": "2023-05-31T23:17:14.972Z"
      },
      {
        "duration": 14,
        "start_time": "2023-05-31T23:17:15.020Z"
      },
      {
        "duration": 58,
        "start_time": "2023-05-31T23:17:15.036Z"
      },
      {
        "duration": 17,
        "start_time": "2023-05-31T23:17:15.097Z"
      },
      {
        "duration": 4,
        "start_time": "2023-05-31T23:17:15.116Z"
      },
      {
        "duration": 6,
        "start_time": "2023-05-31T23:17:15.121Z"
      },
      {
        "duration": 304,
        "start_time": "2023-05-31T23:17:15.128Z"
      },
      {
        "duration": 4,
        "start_time": "2023-05-31T23:17:15.433Z"
      },
      {
        "duration": 23,
        "start_time": "2023-05-31T23:17:15.438Z"
      },
      {
        "duration": 125,
        "start_time": "2023-05-31T23:17:15.462Z"
      },
      {
        "duration": 116,
        "start_time": "2023-05-31T23:17:15.588Z"
      },
      {
        "duration": 165,
        "start_time": "2023-05-31T23:17:15.705Z"
      },
      {
        "duration": 145,
        "start_time": "2023-05-31T23:17:15.871Z"
      },
      {
        "duration": 147,
        "start_time": "2023-05-31T23:17:16.018Z"
      },
      {
        "duration": 127,
        "start_time": "2023-05-31T23:17:16.167Z"
      },
      {
        "duration": 142,
        "start_time": "2023-05-31T23:17:16.295Z"
      },
      {
        "duration": 107,
        "start_time": "2023-05-31T23:17:16.439Z"
      },
      {
        "duration": 124,
        "start_time": "2023-05-31T23:17:16.547Z"
      },
      {
        "duration": 125,
        "start_time": "2023-05-31T23:17:16.673Z"
      },
      {
        "duration": 124,
        "start_time": "2023-05-31T23:17:16.800Z"
      },
      {
        "duration": 131,
        "start_time": "2023-05-31T23:17:16.925Z"
      },
      {
        "duration": 139,
        "start_time": "2023-05-31T23:17:17.058Z"
      },
      {
        "duration": 126,
        "start_time": "2023-05-31T23:17:17.199Z"
      },
      {
        "duration": 202,
        "start_time": "2023-05-31T23:17:17.327Z"
      },
      {
        "duration": 6,
        "start_time": "2023-05-31T23:17:17.531Z"
      },
      {
        "duration": 175,
        "start_time": "2023-05-31T23:17:17.538Z"
      },
      {
        "duration": 176,
        "start_time": "2023-05-31T23:17:17.715Z"
      },
      {
        "duration": 163,
        "start_time": "2023-05-31T23:17:17.892Z"
      },
      {
        "duration": 165,
        "start_time": "2023-05-31T23:17:18.056Z"
      },
      {
        "duration": 146,
        "start_time": "2023-05-31T23:17:18.222Z"
      },
      {
        "duration": 168,
        "start_time": "2023-05-31T23:17:18.369Z"
      },
      {
        "duration": 155,
        "start_time": "2023-05-31T23:17:18.539Z"
      },
      {
        "duration": 152,
        "start_time": "2023-05-31T23:17:18.695Z"
      },
      {
        "duration": 7,
        "start_time": "2023-05-31T23:17:18.848Z"
      },
      {
        "duration": 29,
        "start_time": "2023-05-31T23:17:18.856Z"
      },
      {
        "duration": 13,
        "start_time": "2023-05-31T23:17:18.887Z"
      },
      {
        "duration": 151,
        "start_time": "2023-05-31T23:17:18.901Z"
      },
      {
        "duration": 2272,
        "start_time": "2023-05-31T23:22:00.279Z"
      },
      {
        "duration": 123,
        "start_time": "2023-05-31T23:37:21.134Z"
      },
      {
        "duration": 571,
        "start_time": "2023-06-01T11:44:22.504Z"
      },
      {
        "duration": 13,
        "start_time": "2023-06-01T11:44:23.077Z"
      },
      {
        "duration": 2073,
        "start_time": "2023-06-01T11:44:23.092Z"
      },
      {
        "duration": 8,
        "start_time": "2023-06-01T11:44:25.166Z"
      },
      {
        "duration": 4,
        "start_time": "2023-06-01T11:44:25.176Z"
      },
      {
        "duration": 12,
        "start_time": "2023-06-01T11:44:25.181Z"
      },
      {
        "duration": 17,
        "start_time": "2023-06-01T11:44:25.194Z"
      },
      {
        "duration": 5,
        "start_time": "2023-06-01T11:44:25.213Z"
      },
      {
        "duration": 9,
        "start_time": "2023-06-01T11:44:25.220Z"
      },
      {
        "duration": 18,
        "start_time": "2023-06-01T11:44:25.232Z"
      },
      {
        "duration": 16,
        "start_time": "2023-06-01T11:44:25.251Z"
      },
      {
        "duration": 24,
        "start_time": "2023-06-01T11:44:25.268Z"
      },
      {
        "duration": 15,
        "start_time": "2023-06-01T11:44:25.293Z"
      },
      {
        "duration": 24,
        "start_time": "2023-06-01T11:44:25.309Z"
      },
      {
        "duration": 5,
        "start_time": "2023-06-01T11:44:25.335Z"
      },
      {
        "duration": 151,
        "start_time": "2023-06-01T11:44:25.342Z"
      },
      {
        "duration": 3,
        "start_time": "2023-06-01T11:44:25.495Z"
      },
      {
        "duration": 9,
        "start_time": "2023-06-01T11:44:25.512Z"
      },
      {
        "duration": 10,
        "start_time": "2023-06-01T11:44:25.522Z"
      },
      {
        "duration": 8,
        "start_time": "2023-06-01T11:44:25.534Z"
      },
      {
        "duration": 3,
        "start_time": "2023-06-01T11:44:25.544Z"
      },
      {
        "duration": 4,
        "start_time": "2023-06-01T11:44:25.549Z"
      },
      {
        "duration": 9,
        "start_time": "2023-06-01T11:44:25.554Z"
      },
      {
        "duration": 3,
        "start_time": "2023-06-01T11:44:25.565Z"
      },
      {
        "duration": 58,
        "start_time": "2023-06-01T11:44:25.569Z"
      },
      {
        "duration": 7,
        "start_time": "2023-06-01T11:44:25.628Z"
      },
      {
        "duration": 20,
        "start_time": "2023-06-01T11:44:25.636Z"
      },
      {
        "duration": 16,
        "start_time": "2023-06-01T11:44:25.660Z"
      },
      {
        "duration": 8,
        "start_time": "2023-06-01T11:44:25.677Z"
      },
      {
        "duration": 5,
        "start_time": "2023-06-01T11:44:25.686Z"
      },
      {
        "duration": 300,
        "start_time": "2023-06-01T11:44:25.693Z"
      },
      {
        "duration": 9,
        "start_time": "2023-06-01T11:44:25.994Z"
      },
      {
        "duration": 40,
        "start_time": "2023-06-01T11:44:26.005Z"
      },
      {
        "duration": 140,
        "start_time": "2023-06-01T11:44:26.047Z"
      },
      {
        "duration": 133,
        "start_time": "2023-06-01T11:44:26.188Z"
      },
      {
        "duration": 123,
        "start_time": "2023-06-01T11:44:26.323Z"
      },
      {
        "duration": 227,
        "start_time": "2023-06-01T11:44:26.448Z"
      },
      {
        "duration": 156,
        "start_time": "2023-06-01T11:44:26.677Z"
      },
      {
        "duration": 157,
        "start_time": "2023-06-01T11:44:26.834Z"
      },
      {
        "duration": 153,
        "start_time": "2023-06-01T11:44:26.993Z"
      },
      {
        "duration": 124,
        "start_time": "2023-06-01T11:44:27.148Z"
      },
      {
        "duration": 150,
        "start_time": "2023-06-01T11:44:27.274Z"
      },
      {
        "duration": 138,
        "start_time": "2023-06-01T11:44:27.426Z"
      },
      {
        "duration": 166,
        "start_time": "2023-06-01T11:44:27.565Z"
      },
      {
        "duration": 133,
        "start_time": "2023-06-01T11:44:27.733Z"
      },
      {
        "duration": 137,
        "start_time": "2023-06-01T11:44:27.868Z"
      },
      {
        "duration": 119,
        "start_time": "2023-06-01T11:44:28.008Z"
      },
      {
        "duration": 147,
        "start_time": "2023-06-01T11:44:28.128Z"
      },
      {
        "duration": 56,
        "start_time": "2023-06-01T11:44:28.277Z"
      },
      {
        "duration": 295,
        "start_time": "2023-06-01T11:44:28.335Z"
      },
      {
        "duration": 193,
        "start_time": "2023-06-01T11:44:28.633Z"
      },
      {
        "duration": 162,
        "start_time": "2023-06-01T11:44:28.828Z"
      },
      {
        "duration": 183,
        "start_time": "2023-06-01T11:44:28.992Z"
      },
      {
        "duration": 159,
        "start_time": "2023-06-01T11:44:29.177Z"
      },
      {
        "duration": 184,
        "start_time": "2023-06-01T11:44:29.338Z"
      },
      {
        "duration": 169,
        "start_time": "2023-06-01T11:44:29.524Z"
      },
      {
        "duration": 185,
        "start_time": "2023-06-01T11:44:29.695Z"
      },
      {
        "duration": 7,
        "start_time": "2023-06-01T11:44:29.882Z"
      },
      {
        "duration": 35,
        "start_time": "2023-06-01T11:44:29.890Z"
      },
      {
        "duration": 19,
        "start_time": "2023-06-01T11:44:29.926Z"
      },
      {
        "duration": 178,
        "start_time": "2023-06-01T11:44:29.946Z"
      },
      {
        "duration": 505,
        "start_time": "2023-06-01T12:24:00.532Z"
      },
      {
        "duration": 14,
        "start_time": "2023-06-01T12:24:01.040Z"
      },
      {
        "duration": 2225,
        "start_time": "2023-06-01T12:24:01.056Z"
      },
      {
        "duration": 11,
        "start_time": "2023-06-01T12:24:03.283Z"
      },
      {
        "duration": 31,
        "start_time": "2023-06-01T12:24:03.296Z"
      },
      {
        "duration": 27,
        "start_time": "2023-06-01T12:24:03.330Z"
      },
      {
        "duration": 19,
        "start_time": "2023-06-01T12:24:03.358Z"
      },
      {
        "duration": 13,
        "start_time": "2023-06-01T12:24:03.378Z"
      },
      {
        "duration": 30,
        "start_time": "2023-06-01T12:24:03.392Z"
      },
      {
        "duration": 11,
        "start_time": "2023-06-01T12:24:03.424Z"
      },
      {
        "duration": 35,
        "start_time": "2023-06-01T12:24:03.437Z"
      },
      {
        "duration": 48,
        "start_time": "2023-06-01T12:24:03.474Z"
      },
      {
        "duration": 25,
        "start_time": "2023-06-01T12:24:03.523Z"
      },
      {
        "duration": 32,
        "start_time": "2023-06-01T12:24:03.552Z"
      },
      {
        "duration": 5,
        "start_time": "2023-06-01T12:24:03.586Z"
      },
      {
        "duration": 178,
        "start_time": "2023-06-01T12:24:03.593Z"
      },
      {
        "duration": 3,
        "start_time": "2023-06-01T12:24:03.773Z"
      },
      {
        "duration": 15,
        "start_time": "2023-06-01T12:24:03.778Z"
      },
      {
        "duration": 15,
        "start_time": "2023-06-01T12:24:03.794Z"
      },
      {
        "duration": 21,
        "start_time": "2023-06-01T12:24:03.812Z"
      },
      {
        "duration": 17,
        "start_time": "2023-06-01T12:24:03.834Z"
      },
      {
        "duration": 13,
        "start_time": "2023-06-01T12:24:03.853Z"
      },
      {
        "duration": 23,
        "start_time": "2023-06-01T12:24:03.868Z"
      },
      {
        "duration": 7,
        "start_time": "2023-06-01T12:24:03.893Z"
      },
      {
        "duration": 61,
        "start_time": "2023-06-01T12:24:03.902Z"
      },
      {
        "duration": 7,
        "start_time": "2023-06-01T12:24:03.965Z"
      },
      {
        "duration": 11,
        "start_time": "2023-06-01T12:24:03.973Z"
      },
      {
        "duration": 53,
        "start_time": "2023-06-01T12:24:03.985Z"
      },
      {
        "duration": 5,
        "start_time": "2023-06-01T12:24:04.039Z"
      },
      {
        "duration": 19,
        "start_time": "2023-06-01T12:24:04.045Z"
      },
      {
        "duration": 370,
        "start_time": "2023-06-01T12:24:04.065Z"
      },
      {
        "duration": 4,
        "start_time": "2023-06-01T12:24:04.437Z"
      },
      {
        "duration": 45,
        "start_time": "2023-06-01T12:24:04.442Z"
      },
      {
        "duration": 173,
        "start_time": "2023-06-01T12:24:04.489Z"
      },
      {
        "duration": 135,
        "start_time": "2023-06-01T12:24:04.664Z"
      },
      {
        "duration": 139,
        "start_time": "2023-06-01T12:24:04.800Z"
      },
      {
        "duration": 224,
        "start_time": "2023-06-01T12:24:04.940Z"
      },
      {
        "duration": 132,
        "start_time": "2023-06-01T12:24:05.165Z"
      },
      {
        "duration": 146,
        "start_time": "2023-06-01T12:24:05.299Z"
      },
      {
        "duration": 150,
        "start_time": "2023-06-01T12:24:05.447Z"
      },
      {
        "duration": 120,
        "start_time": "2023-06-01T12:24:05.600Z"
      },
      {
        "duration": 146,
        "start_time": "2023-06-01T12:24:05.723Z"
      },
      {
        "duration": 147,
        "start_time": "2023-06-01T12:24:05.870Z"
      },
      {
        "duration": 128,
        "start_time": "2023-06-01T12:24:06.021Z"
      },
      {
        "duration": 127,
        "start_time": "2023-06-01T12:24:06.151Z"
      },
      {
        "duration": 169,
        "start_time": "2023-06-01T12:24:06.280Z"
      },
      {
        "duration": 140,
        "start_time": "2023-06-01T12:24:06.451Z"
      },
      {
        "duration": 160,
        "start_time": "2023-06-01T12:24:06.593Z"
      },
      {
        "duration": 6,
        "start_time": "2023-06-01T12:24:06.755Z"
      },
      {
        "duration": 282,
        "start_time": "2023-06-01T12:24:06.763Z"
      },
      {
        "duration": 214,
        "start_time": "2023-06-01T12:24:07.047Z"
      },
      {
        "duration": 205,
        "start_time": "2023-06-01T12:24:07.263Z"
      },
      {
        "duration": 208,
        "start_time": "2023-06-01T12:24:07.469Z"
      },
      {
        "duration": 178,
        "start_time": "2023-06-01T12:24:07.679Z"
      },
      {
        "duration": 197,
        "start_time": "2023-06-01T12:24:07.859Z"
      },
      {
        "duration": 188,
        "start_time": "2023-06-01T12:24:08.057Z"
      },
      {
        "duration": 183,
        "start_time": "2023-06-01T12:24:08.247Z"
      },
      {
        "duration": 7,
        "start_time": "2023-06-01T12:24:08.436Z"
      },
      {
        "duration": 34,
        "start_time": "2023-06-01T12:24:08.444Z"
      },
      {
        "duration": 67,
        "start_time": "2023-06-01T12:24:08.480Z"
      },
      {
        "duration": 218,
        "start_time": "2023-06-01T12:24:08.549Z"
      },
      {
        "duration": 394,
        "start_time": "2023-06-01T17:11:12.084Z"
      },
      {
        "duration": 208,
        "start_time": "2023-06-01T17:11:19.392Z"
      },
      {
        "duration": 115,
        "start_time": "2023-06-01T17:12:40.603Z"
      },
      {
        "duration": 34,
        "start_time": "2023-06-01T17:14:32.555Z"
      },
      {
        "duration": 24,
        "start_time": "2023-06-01T17:15:49.700Z"
      },
      {
        "duration": 2449,
        "start_time": "2023-06-01T17:18:54.822Z"
      },
      {
        "duration": 2069,
        "start_time": "2023-06-01T17:21:11.551Z"
      },
      {
        "duration": 2011,
        "start_time": "2023-06-01T17:21:20.891Z"
      },
      {
        "duration": 73,
        "start_time": "2023-06-01T17:21:36.490Z"
      },
      {
        "duration": 1904,
        "start_time": "2023-06-01T17:21:48.068Z"
      },
      {
        "duration": 82,
        "start_time": "2023-06-01T17:22:08.961Z"
      },
      {
        "duration": 2069,
        "start_time": "2023-06-01T17:22:15.190Z"
      },
      {
        "duration": 13,
        "start_time": "2023-06-01T17:28:41.123Z"
      },
      {
        "duration": 9,
        "start_time": "2023-06-01T17:28:49.894Z"
      },
      {
        "duration": 9,
        "start_time": "2023-06-01T17:29:14.795Z"
      },
      {
        "duration": 4,
        "start_time": "2023-06-01T17:30:26.417Z"
      },
      {
        "duration": 11,
        "start_time": "2023-06-01T17:30:30.513Z"
      },
      {
        "duration": 8,
        "start_time": "2023-06-01T17:30:35.975Z"
      },
      {
        "duration": 6,
        "start_time": "2023-06-01T17:30:36.693Z"
      },
      {
        "duration": 6,
        "start_time": "2023-06-01T17:30:38.096Z"
      },
      {
        "duration": 4,
        "start_time": "2023-06-01T17:30:39.613Z"
      },
      {
        "duration": 6,
        "start_time": "2023-06-01T17:30:49.285Z"
      },
      {
        "duration": 10,
        "start_time": "2023-06-01T17:30:52.586Z"
      },
      {
        "duration": 19,
        "start_time": "2023-06-01T17:31:21.883Z"
      },
      {
        "duration": 18,
        "start_time": "2023-06-01T17:31:23.174Z"
      },
      {
        "duration": 6,
        "start_time": "2023-06-01T17:31:47.015Z"
      },
      {
        "duration": 153,
        "start_time": "2023-06-01T17:31:52.177Z"
      },
      {
        "duration": 5,
        "start_time": "2023-06-01T17:32:06.563Z"
      },
      {
        "duration": 8,
        "start_time": "2023-06-01T17:32:09.248Z"
      },
      {
        "duration": 5,
        "start_time": "2023-06-01T17:32:10.624Z"
      },
      {
        "duration": 9,
        "start_time": "2023-06-01T17:32:11.286Z"
      },
      {
        "duration": 4,
        "start_time": "2023-06-01T17:32:14.585Z"
      },
      {
        "duration": 4,
        "start_time": "2023-06-01T17:32:18.787Z"
      },
      {
        "duration": 8,
        "start_time": "2023-06-01T17:32:22.823Z"
      },
      {
        "duration": 5,
        "start_time": "2023-06-01T17:32:24.471Z"
      },
      {
        "duration": 39,
        "start_time": "2023-06-01T17:32:29.103Z"
      },
      {
        "duration": 9,
        "start_time": "2023-06-01T17:32:31.737Z"
      },
      {
        "duration": 5,
        "start_time": "2023-06-01T17:34:09.069Z"
      },
      {
        "duration": 3,
        "start_time": "2023-06-01T17:34:34.312Z"
      },
      {
        "duration": 119,
        "start_time": "2023-06-01T17:34:34.773Z"
      },
      {
        "duration": 19,
        "start_time": "2023-06-01T17:34:40.672Z"
      },
      {
        "duration": 27,
        "start_time": "2023-06-01T17:34:43.084Z"
      },
      {
        "duration": 2007,
        "start_time": "2023-06-01T17:34:44.165Z"
      },
      {
        "duration": 13,
        "start_time": "2023-06-01T17:34:50.708Z"
      },
      {
        "duration": 6,
        "start_time": "2023-06-01T17:34:52.701Z"
      },
      {
        "duration": 10,
        "start_time": "2023-06-01T17:34:53.668Z"
      },
      {
        "duration": 7,
        "start_time": "2023-06-01T17:34:54.565Z"
      },
      {
        "duration": 5,
        "start_time": "2023-06-01T17:34:54.914Z"
      },
      {
        "duration": 7,
        "start_time": "2023-06-01T17:34:55.668Z"
      },
      {
        "duration": 4,
        "start_time": "2023-06-01T17:34:56.414Z"
      },
      {
        "duration": 5,
        "start_time": "2023-06-01T17:34:58.225Z"
      },
      {
        "duration": 10,
        "start_time": "2023-06-01T17:34:59.469Z"
      },
      {
        "duration": 19,
        "start_time": "2023-06-01T17:35:04.005Z"
      },
      {
        "duration": 17,
        "start_time": "2023-06-01T17:35:04.348Z"
      },
      {
        "duration": 9,
        "start_time": "2023-06-01T17:35:07.869Z"
      },
      {
        "duration": 156,
        "start_time": "2023-06-01T17:35:08.239Z"
      },
      {
        "duration": 5,
        "start_time": "2023-06-01T17:35:14.680Z"
      },
      {
        "duration": 54,
        "start_time": "2023-06-01T17:35:23.269Z"
      },
      {
        "duration": 57,
        "start_time": "2023-06-01T17:35:38.649Z"
      },
      {
        "duration": 12,
        "start_time": "2023-06-01T17:35:59.060Z"
      },
      {
        "duration": 8,
        "start_time": "2023-06-01T17:36:27.076Z"
      },
      {
        "duration": 8,
        "start_time": "2023-06-01T17:39:09.882Z"
      },
      {
        "duration": 17,
        "start_time": "2023-06-01T17:39:15.572Z"
      },
      {
        "duration": 7,
        "start_time": "2023-06-01T17:40:39.368Z"
      },
      {
        "duration": 7,
        "start_time": "2023-06-01T17:41:14.517Z"
      },
      {
        "duration": 8,
        "start_time": "2023-06-01T17:41:16.802Z"
      },
      {
        "duration": 6,
        "start_time": "2023-06-01T17:41:19.920Z"
      },
      {
        "duration": 48,
        "start_time": "2023-06-01T17:41:41.790Z"
      },
      {
        "duration": 68,
        "start_time": "2023-06-01T17:42:01.287Z"
      },
      {
        "duration": 58,
        "start_time": "2023-06-01T17:42:17.449Z"
      },
      {
        "duration": 13,
        "start_time": "2023-06-01T17:42:33.275Z"
      },
      {
        "duration": 8,
        "start_time": "2023-06-01T17:43:25.855Z"
      },
      {
        "duration": 5,
        "start_time": "2023-06-01T17:43:26.652Z"
      },
      {
        "duration": 7,
        "start_time": "2023-06-01T17:44:18.301Z"
      },
      {
        "duration": 8,
        "start_time": "2023-06-01T17:45:25.362Z"
      },
      {
        "duration": 5,
        "start_time": "2023-06-01T17:45:26.472Z"
      },
      {
        "duration": 35,
        "start_time": "2023-06-01T17:45:34.496Z"
      },
      {
        "duration": 9,
        "start_time": "2023-06-01T17:45:46.919Z"
      },
      {
        "duration": 5,
        "start_time": "2023-06-01T17:50:03.481Z"
      },
      {
        "duration": 6,
        "start_time": "2023-06-01T17:50:03.863Z"
      },
      {
        "duration": 6,
        "start_time": "2023-06-01T17:50:04.215Z"
      },
      {
        "duration": 6,
        "start_time": "2023-06-01T17:50:04.604Z"
      },
      {
        "duration": 472,
        "start_time": "2023-06-01T17:50:05.379Z"
      },
      {
        "duration": 6,
        "start_time": "2023-06-01T17:50:07.503Z"
      },
      {
        "duration": 24,
        "start_time": "2023-06-01T17:50:08.323Z"
      },
      {
        "duration": 135,
        "start_time": "2023-06-01T17:54:19.619Z"
      },
      {
        "duration": 132,
        "start_time": "2023-06-01T17:54:50.352Z"
      },
      {
        "duration": 134,
        "start_time": "2023-06-01T17:57:00.877Z"
      },
      {
        "duration": 132,
        "start_time": "2023-06-01T17:58:32.495Z"
      },
      {
        "duration": 146,
        "start_time": "2023-06-01T17:58:39.601Z"
      },
      {
        "duration": 131,
        "start_time": "2023-06-01T18:00:09.216Z"
      },
      {
        "duration": 66,
        "start_time": "2023-06-01T18:01:49.105Z"
      },
      {
        "duration": 148,
        "start_time": "2023-06-01T18:02:09.440Z"
      },
      {
        "duration": 140,
        "start_time": "2023-06-01T18:02:31.450Z"
      },
      {
        "duration": 136,
        "start_time": "2023-06-01T18:02:41.322Z"
      },
      {
        "duration": 143,
        "start_time": "2023-06-01T18:04:40.419Z"
      },
      {
        "duration": 137,
        "start_time": "2023-06-01T18:06:09.282Z"
      },
      {
        "duration": 133,
        "start_time": "2023-06-01T18:07:51.745Z"
      },
      {
        "duration": 130,
        "start_time": "2023-06-01T18:08:22.691Z"
      },
      {
        "duration": 232,
        "start_time": "2023-06-01T18:08:59.152Z"
      },
      {
        "duration": 119,
        "start_time": "2023-06-01T18:09:28.301Z"
      },
      {
        "duration": 111,
        "start_time": "2023-06-01T18:10:18.354Z"
      },
      {
        "duration": 102,
        "start_time": "2023-06-01T18:10:58.682Z"
      },
      {
        "duration": 120,
        "start_time": "2023-06-01T18:11:03.428Z"
      },
      {
        "duration": 128,
        "start_time": "2023-06-01T18:11:38.258Z"
      },
      {
        "duration": 150,
        "start_time": "2023-06-01T18:12:20.400Z"
      },
      {
        "duration": 153,
        "start_time": "2023-06-01T18:12:49.347Z"
      },
      {
        "duration": 152,
        "start_time": "2023-06-01T18:13:25.875Z"
      },
      {
        "duration": 163,
        "start_time": "2023-06-01T18:13:37.911Z"
      },
      {
        "duration": 14,
        "start_time": "2023-06-01T18:14:14.971Z"
      },
      {
        "duration": 107,
        "start_time": "2023-06-01T18:14:33.644Z"
      },
      {
        "duration": 232,
        "start_time": "2023-06-01T18:19:03.602Z"
      },
      {
        "duration": 130,
        "start_time": "2023-06-01T18:20:44.784Z"
      },
      {
        "duration": 138,
        "start_time": "2023-06-01T18:21:17.452Z"
      },
      {
        "duration": 150,
        "start_time": "2023-06-01T18:21:52.789Z"
      },
      {
        "duration": 121,
        "start_time": "2023-06-01T18:22:22.135Z"
      },
      {
        "duration": 136,
        "start_time": "2023-06-01T18:23:36.209Z"
      },
      {
        "duration": 127,
        "start_time": "2023-06-01T18:24:04.761Z"
      },
      {
        "duration": 112,
        "start_time": "2023-06-01T18:24:23.805Z"
      },
      {
        "duration": 224,
        "start_time": "2023-06-01T18:27:33.683Z"
      },
      {
        "duration": 135,
        "start_time": "2023-06-01T18:27:55.355Z"
      },
      {
        "duration": 318,
        "start_time": "2023-06-01T18:31:14.592Z"
      },
      {
        "duration": 165,
        "start_time": "2023-06-01T18:38:00.421Z"
      },
      {
        "duration": 156,
        "start_time": "2023-06-01T18:38:24.339Z"
      },
      {
        "duration": 164,
        "start_time": "2023-06-01T18:38:35.343Z"
      },
      {
        "duration": 72,
        "start_time": "2023-06-01T18:38:47.052Z"
      },
      {
        "duration": 153,
        "start_time": "2023-06-01T18:39:00.487Z"
      },
      {
        "duration": 76,
        "start_time": "2023-06-01T18:39:40.554Z"
      },
      {
        "duration": 86,
        "start_time": "2023-06-01T18:39:50.253Z"
      },
      {
        "duration": 77,
        "start_time": "2023-06-01T18:40:34.483Z"
      },
      {
        "duration": 151,
        "start_time": "2023-06-01T18:40:50.645Z"
      },
      {
        "duration": 157,
        "start_time": "2023-06-01T18:42:11.815Z"
      },
      {
        "duration": 175,
        "start_time": "2023-06-01T18:42:37.286Z"
      },
      {
        "duration": 178,
        "start_time": "2023-06-01T18:42:46.052Z"
      },
      {
        "duration": 158,
        "start_time": "2023-06-01T18:43:00.948Z"
      },
      {
        "duration": 163,
        "start_time": "2023-06-01T18:43:30.606Z"
      },
      {
        "duration": 236,
        "start_time": "2023-06-01T18:43:52.242Z"
      },
      {
        "duration": 162,
        "start_time": "2023-06-01T18:44:13.248Z"
      },
      {
        "duration": 173,
        "start_time": "2023-06-01T18:44:25.809Z"
      },
      {
        "duration": 182,
        "start_time": "2023-06-01T18:44:35.320Z"
      },
      {
        "duration": 22,
        "start_time": "2023-06-01T18:46:40.505Z"
      },
      {
        "duration": 4,
        "start_time": "2023-06-01T18:48:00.560Z"
      },
      {
        "duration": 193,
        "start_time": "2023-06-01T18:48:08.605Z"
      },
      {
        "duration": 186,
        "start_time": "2023-06-01T18:48:20.452Z"
      },
      {
        "duration": 75,
        "start_time": "2023-06-01T18:49:28.093Z"
      },
      {
        "duration": 74,
        "start_time": "2023-06-01T18:49:34.456Z"
      },
      {
        "duration": 81,
        "start_time": "2023-06-01T18:49:54.649Z"
      },
      {
        "duration": 73,
        "start_time": "2023-06-01T18:50:11.361Z"
      },
      {
        "duration": 183,
        "start_time": "2023-06-01T18:50:25.959Z"
      },
      {
        "duration": 161,
        "start_time": "2023-06-01T18:51:49.751Z"
      },
      {
        "duration": 394,
        "start_time": "2023-06-02T07:54:02.317Z"
      },
      {
        "duration": 335,
        "start_time": "2023-06-02T07:54:02.713Z"
      },
      {
        "duration": 13,
        "start_time": "2023-06-02T07:54:03.050Z"
      },
      {
        "duration": 27,
        "start_time": "2023-06-02T07:54:03.065Z"
      },
      {
        "duration": 2057,
        "start_time": "2023-06-02T07:54:03.093Z"
      },
      {
        "duration": 9,
        "start_time": "2023-06-02T07:54:05.152Z"
      },
      {
        "duration": 7,
        "start_time": "2023-06-02T07:54:05.163Z"
      },
      {
        "duration": 25,
        "start_time": "2023-06-02T07:54:05.172Z"
      },
      {
        "duration": 7,
        "start_time": "2023-06-02T07:54:05.198Z"
      },
      {
        "duration": 5,
        "start_time": "2023-06-02T07:54:05.207Z"
      },
      {
        "duration": 11,
        "start_time": "2023-06-02T07:54:05.213Z"
      },
      {
        "duration": 16,
        "start_time": "2023-06-02T07:54:05.225Z"
      },
      {
        "duration": 24,
        "start_time": "2023-06-02T07:54:05.243Z"
      },
      {
        "duration": 29,
        "start_time": "2023-06-02T07:54:05.268Z"
      },
      {
        "duration": 19,
        "start_time": "2023-06-02T07:54:05.299Z"
      },
      {
        "duration": 23,
        "start_time": "2023-06-02T07:54:05.320Z"
      },
      {
        "duration": 9,
        "start_time": "2023-06-02T07:54:05.345Z"
      },
      {
        "duration": 171,
        "start_time": "2023-06-02T07:54:05.355Z"
      },
      {
        "duration": 4,
        "start_time": "2023-06-02T07:54:05.528Z"
      },
      {
        "duration": 34,
        "start_time": "2023-06-02T07:54:05.533Z"
      },
      {
        "duration": 11,
        "start_time": "2023-06-02T07:54:05.569Z"
      },
      {
        "duration": 20,
        "start_time": "2023-06-02T07:54:05.581Z"
      },
      {
        "duration": 24,
        "start_time": "2023-06-02T07:54:05.603Z"
      },
      {
        "duration": 25,
        "start_time": "2023-06-02T07:54:05.628Z"
      },
      {
        "duration": 29,
        "start_time": "2023-06-02T07:54:05.655Z"
      },
      {
        "duration": 48,
        "start_time": "2023-06-02T07:54:05.686Z"
      },
      {
        "duration": 22,
        "start_time": "2023-06-02T07:54:05.735Z"
      },
      {
        "duration": 67,
        "start_time": "2023-06-02T07:54:05.761Z"
      },
      {
        "duration": 5,
        "start_time": "2023-06-02T07:54:05.830Z"
      },
      {
        "duration": 40,
        "start_time": "2023-06-02T07:54:05.836Z"
      },
      {
        "duration": 8,
        "start_time": "2023-06-02T07:54:05.881Z"
      },
      {
        "duration": 7,
        "start_time": "2023-06-02T07:54:05.891Z"
      },
      {
        "duration": 20,
        "start_time": "2023-06-02T07:54:05.900Z"
      },
      {
        "duration": 6,
        "start_time": "2023-06-02T07:54:05.922Z"
      },
      {
        "duration": 10,
        "start_time": "2023-06-02T07:54:05.929Z"
      },
      {
        "duration": 333,
        "start_time": "2023-06-02T07:54:05.941Z"
      },
      {
        "duration": 5,
        "start_time": "2023-06-02T07:54:06.275Z"
      },
      {
        "duration": 29,
        "start_time": "2023-06-02T07:54:06.281Z"
      },
      {
        "duration": 130,
        "start_time": "2023-06-02T07:54:06.315Z"
      },
      {
        "duration": 123,
        "start_time": "2023-06-02T07:54:06.447Z"
      },
      {
        "duration": 191,
        "start_time": "2023-06-02T07:54:06.572Z"
      },
      {
        "duration": 131,
        "start_time": "2023-06-02T07:54:06.765Z"
      },
      {
        "duration": 128,
        "start_time": "2023-06-02T07:54:06.898Z"
      },
      {
        "duration": 130,
        "start_time": "2023-06-02T07:54:07.028Z"
      },
      {
        "duration": 143,
        "start_time": "2023-06-02T07:54:07.159Z"
      },
      {
        "duration": 103,
        "start_time": "2023-06-02T07:54:07.303Z"
      },
      {
        "duration": 130,
        "start_time": "2023-06-02T07:54:07.408Z"
      },
      {
        "duration": 134,
        "start_time": "2023-06-02T07:54:07.539Z"
      },
      {
        "duration": 134,
        "start_time": "2023-06-02T07:54:07.674Z"
      },
      {
        "duration": 124,
        "start_time": "2023-06-02T07:54:07.810Z"
      },
      {
        "duration": 137,
        "start_time": "2023-06-02T07:54:07.936Z"
      },
      {
        "duration": 191,
        "start_time": "2023-06-02T07:54:08.075Z"
      },
      {
        "duration": 127,
        "start_time": "2023-06-02T07:54:08.267Z"
      },
      {
        "duration": 4,
        "start_time": "2023-06-02T07:54:08.396Z"
      },
      {
        "duration": 200,
        "start_time": "2023-06-02T07:54:08.415Z"
      },
      {
        "duration": 161,
        "start_time": "2023-06-02T07:54:08.617Z"
      },
      {
        "duration": 176,
        "start_time": "2023-06-02T07:54:08.779Z"
      },
      {
        "duration": 182,
        "start_time": "2023-06-02T07:54:08.956Z"
      },
      {
        "duration": 165,
        "start_time": "2023-06-02T07:54:09.139Z"
      },
      {
        "duration": 159,
        "start_time": "2023-06-02T07:54:09.306Z"
      },
      {
        "duration": 173,
        "start_time": "2023-06-02T07:54:09.467Z"
      },
      {
        "duration": 172,
        "start_time": "2023-06-02T07:54:09.642Z"
      },
      {
        "duration": 230,
        "start_time": "2023-06-02T07:54:09.816Z"
      },
      {
        "duration": 7,
        "start_time": "2023-06-02T07:54:10.048Z"
      },
      {
        "duration": 28,
        "start_time": "2023-06-02T07:54:10.057Z"
      },
      {
        "duration": 192,
        "start_time": "2023-06-02T07:54:10.087Z"
      },
      {
        "duration": 13,
        "start_time": "2023-06-02T07:54:10.281Z"
      },
      {
        "duration": 163,
        "start_time": "2023-06-02T07:54:10.296Z"
      },
      {
        "duration": 96,
        "start_time": "2023-06-02T08:23:27.694Z"
      },
      {
        "duration": 14,
        "start_time": "2023-06-02T08:23:30.767Z"
      },
      {
        "duration": 431,
        "start_time": "2023-06-02T08:24:15.500Z"
      },
      {
        "duration": 123,
        "start_time": "2023-06-02T08:24:15.934Z"
      },
      {
        "duration": 14,
        "start_time": "2023-06-02T08:24:16.058Z"
      },
      {
        "duration": 24,
        "start_time": "2023-06-02T08:24:16.074Z"
      },
      {
        "duration": 2142,
        "start_time": "2023-06-02T08:24:16.100Z"
      },
      {
        "duration": 10,
        "start_time": "2023-06-02T08:24:18.244Z"
      },
      {
        "duration": 5,
        "start_time": "2023-06-02T08:24:18.256Z"
      },
      {
        "duration": 10,
        "start_time": "2023-06-02T08:24:18.263Z"
      },
      {
        "duration": 24,
        "start_time": "2023-06-02T08:24:18.274Z"
      },
      {
        "duration": 5,
        "start_time": "2023-06-02T08:24:18.301Z"
      },
      {
        "duration": 21,
        "start_time": "2023-06-02T08:24:18.307Z"
      },
      {
        "duration": 21,
        "start_time": "2023-06-02T08:24:18.329Z"
      },
      {
        "duration": 13,
        "start_time": "2023-06-02T08:24:18.351Z"
      },
      {
        "duration": 19,
        "start_time": "2023-06-02T08:24:18.365Z"
      },
      {
        "duration": 13,
        "start_time": "2023-06-02T08:24:18.386Z"
      },
      {
        "duration": 41,
        "start_time": "2023-06-02T08:24:18.400Z"
      },
      {
        "duration": 22,
        "start_time": "2023-06-02T08:24:18.442Z"
      },
      {
        "duration": 204,
        "start_time": "2023-06-02T08:24:18.465Z"
      },
      {
        "duration": 4,
        "start_time": "2023-06-02T08:24:18.670Z"
      },
      {
        "duration": 37,
        "start_time": "2023-06-02T08:24:18.675Z"
      },
      {
        "duration": 31,
        "start_time": "2023-06-02T08:24:18.714Z"
      },
      {
        "duration": 22,
        "start_time": "2023-06-02T08:24:18.747Z"
      },
      {
        "duration": 22,
        "start_time": "2023-06-02T08:24:18.771Z"
      },
      {
        "duration": 9,
        "start_time": "2023-06-02T08:24:18.795Z"
      },
      {
        "duration": 9,
        "start_time": "2023-06-02T08:24:18.806Z"
      },
      {
        "duration": 31,
        "start_time": "2023-06-02T08:24:18.817Z"
      },
      {
        "duration": 14,
        "start_time": "2023-06-02T08:24:18.849Z"
      },
      {
        "duration": 17,
        "start_time": "2023-06-02T08:24:18.867Z"
      },
      {
        "duration": 8,
        "start_time": "2023-06-02T08:24:18.885Z"
      },
      {
        "duration": 43,
        "start_time": "2023-06-02T08:24:18.894Z"
      },
      {
        "duration": 8,
        "start_time": "2023-06-02T08:24:18.939Z"
      },
      {
        "duration": 12,
        "start_time": "2023-06-02T08:24:18.948Z"
      },
      {
        "duration": 33,
        "start_time": "2023-06-02T08:24:18.961Z"
      },
      {
        "duration": 10,
        "start_time": "2023-06-02T08:24:18.996Z"
      },
      {
        "duration": 9,
        "start_time": "2023-06-02T08:24:19.008Z"
      },
      {
        "duration": 383,
        "start_time": "2023-06-02T08:24:19.019Z"
      },
      {
        "duration": 4,
        "start_time": "2023-06-02T08:24:19.404Z"
      },
      {
        "duration": 29,
        "start_time": "2023-06-02T08:24:19.415Z"
      },
      {
        "duration": 145,
        "start_time": "2023-06-02T08:24:19.445Z"
      },
      {
        "duration": 141,
        "start_time": "2023-06-02T08:24:19.592Z"
      },
      {
        "duration": 143,
        "start_time": "2023-06-02T08:24:19.734Z"
      },
      {
        "duration": 205,
        "start_time": "2023-06-02T08:24:19.878Z"
      },
      {
        "duration": 130,
        "start_time": "2023-06-02T08:24:20.085Z"
      },
      {
        "duration": 137,
        "start_time": "2023-06-02T08:24:20.217Z"
      },
      {
        "duration": 147,
        "start_time": "2023-06-02T08:24:20.355Z"
      },
      {
        "duration": 118,
        "start_time": "2023-06-02T08:24:20.504Z"
      },
      {
        "duration": 136,
        "start_time": "2023-06-02T08:24:20.624Z"
      },
      {
        "duration": 135,
        "start_time": "2023-06-02T08:24:20.762Z"
      },
      {
        "duration": 145,
        "start_time": "2023-06-02T08:24:20.899Z"
      },
      {
        "duration": 131,
        "start_time": "2023-06-02T08:24:21.045Z"
      },
      {
        "duration": 134,
        "start_time": "2023-06-02T08:24:21.178Z"
      },
      {
        "duration": 129,
        "start_time": "2023-06-02T08:24:21.316Z"
      },
      {
        "duration": 188,
        "start_time": "2023-06-02T08:24:21.447Z"
      },
      {
        "duration": 5,
        "start_time": "2023-06-02T08:24:21.636Z"
      },
      {
        "duration": 222,
        "start_time": "2023-06-02T08:24:21.642Z"
      },
      {
        "duration": 170,
        "start_time": "2023-06-02T08:24:21.865Z"
      },
      {
        "duration": 178,
        "start_time": "2023-06-02T08:24:22.036Z"
      },
      {
        "duration": 168,
        "start_time": "2023-06-02T08:24:22.216Z"
      },
      {
        "duration": 179,
        "start_time": "2023-06-02T08:24:22.385Z"
      },
      {
        "duration": 163,
        "start_time": "2023-06-02T08:24:22.565Z"
      },
      {
        "duration": 179,
        "start_time": "2023-06-02T08:24:22.730Z"
      },
      {
        "duration": 176,
        "start_time": "2023-06-02T08:24:22.911Z"
      },
      {
        "duration": 178,
        "start_time": "2023-06-02T08:24:23.089Z"
      },
      {
        "duration": 8,
        "start_time": "2023-06-02T08:24:23.268Z"
      },
      {
        "duration": 69,
        "start_time": "2023-06-02T08:24:23.277Z"
      },
      {
        "duration": 243,
        "start_time": "2023-06-02T08:24:23.348Z"
      },
      {
        "duration": 23,
        "start_time": "2023-06-02T08:24:23.593Z"
      },
      {
        "duration": 185,
        "start_time": "2023-06-02T08:24:23.617Z"
      },
      {
        "duration": 382,
        "start_time": "2023-06-02T08:58:59.083Z"
      },
      {
        "duration": 148,
        "start_time": "2023-06-02T08:58:59.467Z"
      },
      {
        "duration": 30,
        "start_time": "2023-06-02T08:58:59.617Z"
      },
      {
        "duration": 26,
        "start_time": "2023-06-02T08:58:59.649Z"
      },
      {
        "duration": 2158,
        "start_time": "2023-06-02T08:58:59.677Z"
      },
      {
        "duration": 20,
        "start_time": "2023-06-02T08:59:01.838Z"
      },
      {
        "duration": 30,
        "start_time": "2023-06-02T08:59:01.859Z"
      },
      {
        "duration": 45,
        "start_time": "2023-06-02T08:59:01.890Z"
      },
      {
        "duration": 28,
        "start_time": "2023-06-02T08:59:01.937Z"
      },
      {
        "duration": 11,
        "start_time": "2023-06-02T08:59:01.968Z"
      },
      {
        "duration": 22,
        "start_time": "2023-06-02T08:59:01.981Z"
      },
      {
        "duration": 35,
        "start_time": "2023-06-02T08:59:02.004Z"
      },
      {
        "duration": 33,
        "start_time": "2023-06-02T08:59:02.041Z"
      },
      {
        "duration": 36,
        "start_time": "2023-06-02T08:59:02.075Z"
      },
      {
        "duration": 50,
        "start_time": "2023-06-02T08:59:02.112Z"
      },
      {
        "duration": 30,
        "start_time": "2023-06-02T08:59:02.163Z"
      },
      {
        "duration": 25,
        "start_time": "2023-06-02T08:59:02.194Z"
      },
      {
        "duration": 220,
        "start_time": "2023-06-02T08:59:02.230Z"
      },
      {
        "duration": 4,
        "start_time": "2023-06-02T08:59:02.451Z"
      },
      {
        "duration": 25,
        "start_time": "2023-06-02T08:59:02.456Z"
      },
      {
        "duration": 30,
        "start_time": "2023-06-02T08:59:02.483Z"
      },
      {
        "duration": 34,
        "start_time": "2023-06-02T08:59:02.514Z"
      },
      {
        "duration": 21,
        "start_time": "2023-06-02T08:59:02.550Z"
      },
      {
        "duration": 6,
        "start_time": "2023-06-02T08:59:02.572Z"
      },
      {
        "duration": 15,
        "start_time": "2023-06-02T08:59:02.579Z"
      },
      {
        "duration": 14,
        "start_time": "2023-06-02T08:59:02.595Z"
      },
      {
        "duration": 38,
        "start_time": "2023-06-02T08:59:02.611Z"
      },
      {
        "duration": 22,
        "start_time": "2023-06-02T08:59:02.654Z"
      },
      {
        "duration": 17,
        "start_time": "2023-06-02T08:59:02.677Z"
      },
      {
        "duration": 53,
        "start_time": "2023-06-02T08:59:02.695Z"
      },
      {
        "duration": 22,
        "start_time": "2023-06-02T08:59:02.750Z"
      },
      {
        "duration": 17,
        "start_time": "2023-06-02T08:59:02.773Z"
      },
      {
        "duration": 16,
        "start_time": "2023-06-02T08:59:02.791Z"
      },
      {
        "duration": 58,
        "start_time": "2023-06-02T08:59:02.809Z"
      },
      {
        "duration": 25,
        "start_time": "2023-06-02T08:59:02.869Z"
      },
      {
        "duration": 392,
        "start_time": "2023-06-02T08:59:02.895Z"
      },
      {
        "duration": 4,
        "start_time": "2023-06-02T08:59:03.288Z"
      },
      {
        "duration": 40,
        "start_time": "2023-06-02T08:59:03.293Z"
      },
      {
        "duration": 164,
        "start_time": "2023-06-02T08:59:03.334Z"
      },
      {
        "duration": 139,
        "start_time": "2023-06-02T08:59:03.499Z"
      },
      {
        "duration": 152,
        "start_time": "2023-06-02T08:59:03.639Z"
      },
      {
        "duration": 229,
        "start_time": "2023-06-02T08:59:03.793Z"
      },
      {
        "duration": 151,
        "start_time": "2023-06-02T08:59:04.024Z"
      },
      {
        "duration": 157,
        "start_time": "2023-06-02T08:59:04.176Z"
      },
      {
        "duration": 183,
        "start_time": "2023-06-02T08:59:04.335Z"
      },
      {
        "duration": 115,
        "start_time": "2023-06-02T08:59:04.524Z"
      },
      {
        "duration": 144,
        "start_time": "2023-06-02T08:59:04.641Z"
      },
      {
        "duration": 152,
        "start_time": "2023-06-02T08:59:04.787Z"
      },
      {
        "duration": 155,
        "start_time": "2023-06-02T08:59:04.942Z"
      },
      {
        "duration": 149,
        "start_time": "2023-06-02T08:59:05.099Z"
      },
      {
        "duration": 153,
        "start_time": "2023-06-02T08:59:05.250Z"
      },
      {
        "duration": 173,
        "start_time": "2023-06-02T08:59:05.405Z"
      },
      {
        "duration": 212,
        "start_time": "2023-06-02T08:59:05.580Z"
      },
      {
        "duration": 5,
        "start_time": "2023-06-02T08:59:05.794Z"
      },
      {
        "duration": 260,
        "start_time": "2023-06-02T08:59:05.800Z"
      },
      {
        "duration": 203,
        "start_time": "2023-06-02T08:59:06.062Z"
      },
      {
        "duration": 185,
        "start_time": "2023-06-02T08:59:06.266Z"
      },
      {
        "duration": 176,
        "start_time": "2023-06-02T08:59:06.452Z"
      },
      {
        "duration": 186,
        "start_time": "2023-06-02T08:59:06.630Z"
      },
      {
        "duration": 354,
        "start_time": "2023-06-02T08:59:06.818Z"
      },
      {
        "duration": 249,
        "start_time": "2023-06-02T08:59:07.174Z"
      },
      {
        "duration": 193,
        "start_time": "2023-06-02T08:59:07.425Z"
      },
      {
        "duration": 188,
        "start_time": "2023-06-02T08:59:07.619Z"
      },
      {
        "duration": 14,
        "start_time": "2023-06-02T08:59:07.808Z"
      },
      {
        "duration": 40,
        "start_time": "2023-06-02T08:59:07.824Z"
      },
      {
        "duration": 255,
        "start_time": "2023-06-02T08:59:07.865Z"
      },
      {
        "duration": 26,
        "start_time": "2023-06-02T08:59:08.122Z"
      },
      {
        "duration": 191,
        "start_time": "2023-06-02T08:59:08.150Z"
      }
    ],
    "kernelspec": {
      "display_name": "Python 3 (ipykernel)",
      "language": "python",
      "name": "python3"
    },
    "language_info": {
      "codemirror_mode": {
        "name": "ipython",
        "version": 3
      },
      "file_extension": ".py",
      "mimetype": "text/x-python",
      "name": "python",
      "nbconvert_exporter": "python",
      "pygments_lexer": "ipython3",
      "version": "3.9.5"
    },
    "toc": {
      "base_numbering": 1,
      "nav_menu": {
        "height": "133px",
        "width": "396px"
      },
      "number_sections": true,
      "sideBar": true,
      "skip_h1_title": true,
      "title_cell": "Table of Contents",
      "title_sidebar": "Contents",
      "toc_cell": false,
      "toc_position": {},
      "toc_section_display": true,
      "toc_window_display": false
    },
    "colab": {
      "provenance": []
    }
  },
  "nbformat": 4,
  "nbformat_minor": 0
}