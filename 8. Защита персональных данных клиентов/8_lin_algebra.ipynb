{
  "cells": [
    {
      "cell_type": "markdown",
      "metadata": {
        "toc": true,
        "id": "CIhoLf_rDgYX"
      },
      "source": [
        "<h1>Содержание<span class=\"tocSkip\"></span></h1>\n",
        "<div class=\"toc\"><ul class=\"toc-item\"><li><span><a href=\"#Загрузка-данных\" data-toc-modified-id=\"Загрузка-данных-1\"><span class=\"toc-item-num\">1&nbsp;&nbsp;</span>Загрузка данных</a></span></li><li><span><a href=\"#Умножение-матриц\" data-toc-modified-id=\"Умножение-матриц-2\"><span class=\"toc-item-num\">2&nbsp;&nbsp;</span>Умножение матриц</a></span></li><li><span><a href=\"#Алгоритм-преобразования\" data-toc-modified-id=\"Алгоритм-преобразования-3\"><span class=\"toc-item-num\">3&nbsp;&nbsp;</span>Алгоритм преобразования</a></span></li><li><span><a href=\"#Проверка-алгоритма\" data-toc-modified-id=\"Проверка-алгоритма-4\"><span class=\"toc-item-num\">4&nbsp;&nbsp;</span>Проверка алгоритма</a></span><ul class=\"toc-item\"><li><span><a href=\"#Выделим-обучающие-и-целевой-признаки\" data-toc-modified-id=\"Выделим-обучающие-и-целевой-признаки-4.1\"><span class=\"toc-item-num\">4.1&nbsp;&nbsp;</span>Выделим обучающие и целевой признаки</a></span></li><li><span><a href=\"#Сгенерируем-случайную-матрицу-и-проверим-её-на-обратимость\" data-toc-modified-id=\"Сгенерируем-случайную-матрицу-и-проверим-её-на-обратимость-4.2\"><span class=\"toc-item-num\">4.2&nbsp;&nbsp;</span>Сгенерируем случайную матрицу и проверим её на обратимость</a></span></li><li><span><a href=\"#Создадим-класс-LinearRegression-с-методами-fit()-и-predict()\" data-toc-modified-id=\"Создадим-класс-LinearRegression-с-методами-fit()-и-predict()-4.3\"><span class=\"toc-item-num\">4.3&nbsp;&nbsp;</span>Создадим класс LinearRegression с методами fit() и predict()</a></span></li><li><span><a href=\"#Обучим-модель-и-проверим-её-качество\" data-toc-modified-id=\"Обучим-модель-и-проверим-её-качество-4.4\"><span class=\"toc-item-num\">4.4&nbsp;&nbsp;</span>Обучим модель и проверим её качество</a></span></li></ul></li><li><span><a href=\"#Вывод\" data-toc-modified-id=\"Вывод-5\"><span class=\"toc-item-num\">5&nbsp;&nbsp;</span>Вывод</a></span></li><li><span><a href=\"#Чек-лист-проверки\" data-toc-modified-id=\"Чек-лист-проверки-6\"><span class=\"toc-item-num\">6&nbsp;&nbsp;</span>Чек-лист проверки</a></span></li></ul></div>"
      ]
    },
    {
      "cell_type": "markdown",
      "metadata": {
        "id": "Fo1SoWaMDgYY"
      },
      "source": [
        "# Защита персональных данных клиентов"
      ]
    },
    {
      "cell_type": "markdown",
      "metadata": {
        "id": "-FfJVQaqDgYY"
      },
      "source": [
        "Вам нужно защитить данные клиентов страховой компании «Хоть потоп». Разработайте такой метод преобразования данных, чтобы по ним было сложно восстановить персональную информацию. Обоснуйте корректность его работы.\n",
        "\n",
        "Нужно защитить данные, чтобы при преобразовании качество моделей машинного обучения не ухудшилось. Подбирать наилучшую модель не требуется."
      ]
    },
    {
      "cell_type": "markdown",
      "metadata": {
        "id": "sVyOB8fdDgYY"
      },
      "source": [
        "## Загрузка данных"
      ]
    },
    {
      "cell_type": "code",
      "execution_count": null,
      "metadata": {
        "id": "LUVNVKd-DgYY"
      },
      "outputs": [],
      "source": [
        "#импортируем необходимые для работы библиотеки\n",
        "import pandas as pd\n",
        "import numpy as np\n",
        "from sklearn.metrics import r2_score\n",
        "import seaborn as sns\n",
        "import matplotlib.pyplot as plt\n",
        "from sklearn.model_selection import train_test_split"
      ]
    },
    {
      "cell_type": "code",
      "execution_count": null,
      "metadata": {
        "scrolled": false,
        "id": "xUFdiRpmDgYZ",
        "outputId": "d8b5123a-c8c9-4458-93d7-7a52e2ae90fc"
      },
      "outputs": [
        {
          "data": {
            "text/html": [
              "<div>\n",
              "<style scoped>\n",
              "    .dataframe tbody tr th:only-of-type {\n",
              "        vertical-align: middle;\n",
              "    }\n",
              "\n",
              "    .dataframe tbody tr th {\n",
              "        vertical-align: top;\n",
              "    }\n",
              "\n",
              "    .dataframe thead th {\n",
              "        text-align: right;\n",
              "    }\n",
              "</style>\n",
              "<table border=\"1\" class=\"dataframe\">\n",
              "  <thead>\n",
              "    <tr style=\"text-align: right;\">\n",
              "      <th></th>\n",
              "      <th>Пол</th>\n",
              "      <th>Возраст</th>\n",
              "      <th>Зарплата</th>\n",
              "      <th>Члены семьи</th>\n",
              "      <th>Страховые выплаты</th>\n",
              "    </tr>\n",
              "  </thead>\n",
              "  <tbody>\n",
              "    <tr>\n",
              "      <th>0</th>\n",
              "      <td>1</td>\n",
              "      <td>41.0</td>\n",
              "      <td>49600.0</td>\n",
              "      <td>1</td>\n",
              "      <td>0</td>\n",
              "    </tr>\n",
              "    <tr>\n",
              "      <th>1</th>\n",
              "      <td>0</td>\n",
              "      <td>46.0</td>\n",
              "      <td>38000.0</td>\n",
              "      <td>1</td>\n",
              "      <td>1</td>\n",
              "    </tr>\n",
              "    <tr>\n",
              "      <th>2</th>\n",
              "      <td>0</td>\n",
              "      <td>29.0</td>\n",
              "      <td>21000.0</td>\n",
              "      <td>0</td>\n",
              "      <td>0</td>\n",
              "    </tr>\n",
              "    <tr>\n",
              "      <th>3</th>\n",
              "      <td>0</td>\n",
              "      <td>21.0</td>\n",
              "      <td>41700.0</td>\n",
              "      <td>2</td>\n",
              "      <td>0</td>\n",
              "    </tr>\n",
              "    <tr>\n",
              "      <th>4</th>\n",
              "      <td>1</td>\n",
              "      <td>28.0</td>\n",
              "      <td>26100.0</td>\n",
              "      <td>0</td>\n",
              "      <td>0</td>\n",
              "    </tr>\n",
              "  </tbody>\n",
              "</table>\n",
              "</div>"
            ],
            "text/plain": [
              "   Пол  Возраст  Зарплата  Члены семьи  Страховые выплаты\n",
              "0    1     41.0   49600.0            1                  0\n",
              "1    0     46.0   38000.0            1                  1\n",
              "2    0     29.0   21000.0            0                  0\n",
              "3    0     21.0   41700.0            2                  0\n",
              "4    1     28.0   26100.0            0                  0"
            ]
          },
          "execution_count": 51,
          "metadata": {},
          "output_type": "execute_result"
        }
      ],
      "source": [
        "#считаем датасет и сохраним его в переменной\n",
        "try:\n",
        "    data = pd.read_csv('/datasets/insurance.csv')\n",
        "except:\n",
        "    data = pd.read_csv('https://code.s3.yandex.net/datasets/insurance.csv')\n",
        "\n",
        "data.head() #выведем первые 5 строк получившегося датафрейма"
      ]
    },
    {
      "cell_type": "code",
      "execution_count": null,
      "metadata": {
        "id": "iv_vT6lUDgYa",
        "outputId": "e8022548-0282-4b77-8481-4de41b6f8b69"
      },
      "outputs": [
        {
          "name": "stdout",
          "output_type": "stream",
          "text": [
            "<class 'pandas.core.frame.DataFrame'>\n",
            "RangeIndex: 5000 entries, 0 to 4999\n",
            "Data columns (total 5 columns):\n",
            " #   Column             Non-Null Count  Dtype  \n",
            "---  ------             --------------  -----  \n",
            " 0   Пол                5000 non-null   int64  \n",
            " 1   Возраст            5000 non-null   float64\n",
            " 2   Зарплата           5000 non-null   float64\n",
            " 3   Члены семьи        5000 non-null   int64  \n",
            " 4   Страховые выплаты  5000 non-null   int64  \n",
            "dtypes: float64(2), int64(3)\n",
            "memory usage: 195.4 KB\n"
          ]
        }
      ],
      "source": [
        "data.info() #выведем основную информацию о датафрейме"
      ]
    },
    {
      "cell_type": "markdown",
      "metadata": {
        "id": "gnM995D7DgYa"
      },
      "source": [
        "Пропусков нет. Посмотрим на наличие полных дубликатов:"
      ]
    },
    {
      "cell_type": "code",
      "execution_count": null,
      "metadata": {
        "id": "CeaHB3oTDgYa",
        "outputId": "a4ba0aaa-c0be-454c-9509-4033efba6d96"
      },
      "outputs": [
        {
          "name": "stdout",
          "output_type": "stream",
          "text": [
            "Количество полных дубликатов в датафрейме: 153\n"
          ]
        }
      ],
      "source": [
        "print('Количество полных дубликатов в датафрейме:', data.duplicated().sum())"
      ]
    },
    {
      "cell_type": "markdown",
      "metadata": {
        "id": "-vpJQcGjDgYa"
      },
      "source": [
        "Удалим полные дубликаты:"
      ]
    },
    {
      "cell_type": "code",
      "execution_count": null,
      "metadata": {
        "id": "aswzCurrDgYb"
      },
      "outputs": [],
      "source": [
        "data = data.drop_duplicates()"
      ]
    },
    {
      "cell_type": "markdown",
      "metadata": {
        "id": "LqeYFAGODgYb"
      },
      "source": [
        "В столбцах \"Возраст\" и \"Зарплата\" данные хранятся в типе float64, хотя все значения целочисленные. Переведём данные, содержащиеся в этих столбцах, в int64."
      ]
    },
    {
      "cell_type": "code",
      "execution_count": null,
      "metadata": {
        "id": "0EX7YoE_DgYb"
      },
      "outputs": [],
      "source": [
        "data['Возраст'] = data['Возраст'].astype('int64')\n",
        "data['Зарплата'] = data['Зарплата'].astype('int64')"
      ]
    },
    {
      "cell_type": "code",
      "execution_count": null,
      "metadata": {
        "id": "FN5HPdMMDgYb",
        "outputId": "f07fed47-b55d-4dbe-a577-b2b385c79106"
      },
      "outputs": [
        {
          "name": "stdout",
          "output_type": "stream",
          "text": [
            "<class 'pandas.core.frame.DataFrame'>\n",
            "Int64Index: 4847 entries, 0 to 4999\n",
            "Data columns (total 5 columns):\n",
            " #   Column             Non-Null Count  Dtype\n",
            "---  ------             --------------  -----\n",
            " 0   Пол                4847 non-null   int64\n",
            " 1   Возраст            4847 non-null   int64\n",
            " 2   Зарплата           4847 non-null   int64\n",
            " 3   Члены семьи        4847 non-null   int64\n",
            " 4   Страховые выплаты  4847 non-null   int64\n",
            "dtypes: int64(5)\n",
            "memory usage: 227.2 KB\n"
          ]
        }
      ],
      "source": [
        "data.info() #снова выведем основную информацию о датафрейме после всех преобразований"
      ]
    },
    {
      "cell_type": "markdown",
      "metadata": {
        "id": "BcyPX34qDgYb"
      },
      "source": [
        "Посмотрим на распределение данных с помощью метода describe()."
      ]
    },
    {
      "cell_type": "code",
      "execution_count": null,
      "metadata": {
        "id": "SexlEbIuDgYb",
        "outputId": "f6979ef6-5654-49f3-d608-209318cc99a8"
      },
      "outputs": [
        {
          "data": {
            "text/html": [
              "<div>\n",
              "<style scoped>\n",
              "    .dataframe tbody tr th:only-of-type {\n",
              "        vertical-align: middle;\n",
              "    }\n",
              "\n",
              "    .dataframe tbody tr th {\n",
              "        vertical-align: top;\n",
              "    }\n",
              "\n",
              "    .dataframe thead th {\n",
              "        text-align: right;\n",
              "    }\n",
              "</style>\n",
              "<table border=\"1\" class=\"dataframe\">\n",
              "  <thead>\n",
              "    <tr style=\"text-align: right;\">\n",
              "      <th></th>\n",
              "      <th>Пол</th>\n",
              "      <th>Возраст</th>\n",
              "      <th>Зарплата</th>\n",
              "      <th>Члены семьи</th>\n",
              "      <th>Страховые выплаты</th>\n",
              "    </tr>\n",
              "  </thead>\n",
              "  <tbody>\n",
              "    <tr>\n",
              "      <th>count</th>\n",
              "      <td>4847.000000</td>\n",
              "      <td>4847.000000</td>\n",
              "      <td>4847.000000</td>\n",
              "      <td>4847.000000</td>\n",
              "      <td>4847.000000</td>\n",
              "    </tr>\n",
              "    <tr>\n",
              "      <th>mean</th>\n",
              "      <td>0.498453</td>\n",
              "      <td>31.023932</td>\n",
              "      <td>39895.811223</td>\n",
              "      <td>1.203425</td>\n",
              "      <td>0.152259</td>\n",
              "    </tr>\n",
              "    <tr>\n",
              "      <th>std</th>\n",
              "      <td>0.500049</td>\n",
              "      <td>8.487995</td>\n",
              "      <td>9972.952441</td>\n",
              "      <td>1.098664</td>\n",
              "      <td>0.468934</td>\n",
              "    </tr>\n",
              "    <tr>\n",
              "      <th>min</th>\n",
              "      <td>0.000000</td>\n",
              "      <td>18.000000</td>\n",
              "      <td>5300.000000</td>\n",
              "      <td>0.000000</td>\n",
              "      <td>0.000000</td>\n",
              "    </tr>\n",
              "    <tr>\n",
              "      <th>25%</th>\n",
              "      <td>0.000000</td>\n",
              "      <td>24.000000</td>\n",
              "      <td>33200.000000</td>\n",
              "      <td>0.000000</td>\n",
              "      <td>0.000000</td>\n",
              "    </tr>\n",
              "    <tr>\n",
              "      <th>50%</th>\n",
              "      <td>0.000000</td>\n",
              "      <td>30.000000</td>\n",
              "      <td>40200.000000</td>\n",
              "      <td>1.000000</td>\n",
              "      <td>0.000000</td>\n",
              "    </tr>\n",
              "    <tr>\n",
              "      <th>75%</th>\n",
              "      <td>1.000000</td>\n",
              "      <td>37.000000</td>\n",
              "      <td>46600.000000</td>\n",
              "      <td>2.000000</td>\n",
              "      <td>0.000000</td>\n",
              "    </tr>\n",
              "    <tr>\n",
              "      <th>max</th>\n",
              "      <td>1.000000</td>\n",
              "      <td>65.000000</td>\n",
              "      <td>79000.000000</td>\n",
              "      <td>6.000000</td>\n",
              "      <td>5.000000</td>\n",
              "    </tr>\n",
              "  </tbody>\n",
              "</table>\n",
              "</div>"
            ],
            "text/plain": [
              "               Пол      Возраст      Зарплата  Члены семьи  Страховые выплаты\n",
              "count  4847.000000  4847.000000   4847.000000  4847.000000        4847.000000\n",
              "mean      0.498453    31.023932  39895.811223     1.203425           0.152259\n",
              "std       0.500049     8.487995   9972.952441     1.098664           0.468934\n",
              "min       0.000000    18.000000   5300.000000     0.000000           0.000000\n",
              "25%       0.000000    24.000000  33200.000000     0.000000           0.000000\n",
              "50%       0.000000    30.000000  40200.000000     1.000000           0.000000\n",
              "75%       1.000000    37.000000  46600.000000     2.000000           0.000000\n",
              "max       1.000000    65.000000  79000.000000     6.000000           5.000000"
            ]
          },
          "execution_count": 57,
          "metadata": {},
          "output_type": "execute_result"
        }
      ],
      "source": [
        "data.describe()"
      ]
    },
    {
      "cell_type": "markdown",
      "metadata": {
        "id": "7_7gbERRDgYb"
      },
      "source": [
        "Теперь для категориальных признаков построим гистограммы, а для количественных - \"ящик с усами\"."
      ]
    },
    {
      "cell_type": "code",
      "execution_count": null,
      "metadata": {
        "id": "jRMcLUvFDgYc",
        "outputId": "9c5045c4-db5e-4b9d-98ec-2dbfafc41a3d"
      },
      "outputs": [
        {
          "data": {
            "image/png": "[encoded data removed]",
            "text/plain": [
              "<Figure size 1080x1440 with 4 Axes>"
            ]
          },
          "metadata": {},
          "output_type": "display_data"
        }
      ],
      "source": [
        "cat_features = ['Пол', 'Возраст', 'Члены семьи', 'Страховые выплаты']\n",
        "\n",
        "plt.figure(figsize=(15, 20))\n",
        "plt.subplots_adjust(hspace=0.3)\n",
        "sns.set_style('whitegrid')\n",
        "\n",
        "position = 0\n",
        "\n",
        "for feature in cat_features:\n",
        "    position += 1\n",
        "    plt.subplot(4, 2, position)\n",
        "    plt.title(f'Гистограмма для столбца {feature}', fontsize=16)\n",
        "    sns.histplot(data[feature], color='m')\n",
        "plt.show();"
      ]
    },
    {
      "cell_type": "code",
      "execution_count": null,
      "metadata": {
        "id": "_ffV1lXDDgYc",
        "outputId": "c05506ce-4129-4a89-a813-6d2b2955898e"
      },
      "outputs": [
        {
          "data": {
            "image/png": "[encoded data removed]",
            "text/plain": [
              "<Figure size 1080x1080 with 1 Axes>"
            ]
          },
          "metadata": {},
          "output_type": "display_data"
        }
      ],
      "source": [
        "plt.figure(figsize=(15, 15))\n",
        "sns.boxplot(data=data['Зарплата'])\n",
        "plt.title('Диаграмма размаха для столбца Зарплата')\n",
        "plt.show()"
      ]
    },
    {
      "cell_type": "markdown",
      "metadata": {
        "id": "JJq4xnLoDgYc"
      },
      "source": [
        "Мы видим, что, в целом, данные распределены нормально, хотя наблюдаются выбросы в столбцах Зарплата и Возраст. Также мы видим, что в столбце с целевым признаком - Страховые выплаты - наблюдается дисбаланс классов, так как подавляющее большинство значений составляет \"0\". Поскольку подбирать наилучшую модель по условиям исследования не требуется, оставим данные в исходном виде. В противном случае стоит подробнее изучить и по необходимости удалить выбросы, а также перед обучением модели сбалансировать целевой признак с помощью upsampling или downsampling."
      ]
    },
    {
      "cell_type": "markdown",
      "metadata": {
        "id": "p6nPs3KfDgYc"
      },
      "source": [
        "**Вывод:** мы считали данные и сохранили их в переменную, убедились в отсутствии пропусков, удалили явные дубликаты и поменяли тип данных в двух столбцах для удобства работы, а также изучили распределение данных."
      ]
    },
    {
      "cell_type": "markdown",
      "metadata": {
        "id": "0nLJQYOJDgYc"
      },
      "source": [
        "## Умножение матриц"
      ]
    },
    {
      "cell_type": "markdown",
      "metadata": {
        "id": "Vcclji7ODgYc"
      },
      "source": [
        "В этом задании вы можете записывать формулы в *Jupyter Notebook.*\n",
        "\n",
        "Чтобы записать формулу внутри текста, окружите её символами доллара \\\\$; если снаружи —  двойными символами \\\\$\\\\$. Эти формулы записываются на языке вёрстки *LaTeX.*\n",
        "\n",
        "Для примера мы записали формулы линейной регрессии. Можете их скопировать и отредактировать, чтобы решить задачу.\n",
        "\n",
        "Работать в *LaTeX* необязательно."
      ]
    },
    {
      "cell_type": "markdown",
      "metadata": {
        "id": "sxBiITF-DgYc"
      },
      "source": [
        "Обозначения:\n",
        "\n",
        "- $X$ — матрица признаков (нулевой столбец состоит из единиц)\n",
        "\n",
        "- $y$ — вектор целевого признака\n",
        "\n",
        "- $P$ — матрица, на которую умножаются признаки\n",
        "\n",
        "- $w$ — вектор весов линейной регрессии (нулевой элемент равен сдвигу)"
      ]
    },
    {
      "cell_type": "markdown",
      "metadata": {
        "id": "TwJRJ58HDgYc"
      },
      "source": [
        "Предсказания:\n",
        "\n",
        "$$\n",
        "a = Xw\n",
        "$$\n",
        "\n",
        "Задача обучения:\n",
        "\n",
        "$$\n",
        "w = \\arg\\min_w MSE(Xw, y)\n",
        "$$\n",
        "\n",
        "Формула обучения:\n",
        "\n",
        "$$\n",
        "w = (X^T X)^{-1} X^T y\n",
        "$$"
      ]
    },
    {
      "cell_type": "markdown",
      "metadata": {
        "id": "YcgjZI2TDgYd"
      },
      "source": [
        "**Вопрос:** Признаки умножают на обратимую матрицу. Изменится ли качество линейной регрессии? (Её можно обучить заново.)"
      ]
    },
    {
      "cell_type": "markdown",
      "metadata": {
        "id": "XG1JQSHiDgYd"
      },
      "source": [
        "**Ответ:** Нет, качество линейной регрессии не изменится.\n",
        "\n",
        "**Обоснование:** Используем формулу предсказания и формулу обучения. Пусть $Z$ - матрица, получившаяся в результате умножения признаков на обратимую матрицу:\n",
        "\n",
        "$$\n",
        "Z = XP\n",
        "$$\n",
        "\n",
        "Нам нужно выяснить, равны ли предсказания $a$ (для исходной матрицы признаков $X$) и $a'$ (для матрицы $Z$).\n",
        "\n",
        "Запишем формулу предсказания $a'$:\n",
        "\n",
        "$$\n",
        "a' = Zw'\n",
        "$$\n",
        "\n",
        "Также запишем формулу обучения для $Z$ - обозначим её $w'$:\n",
        "\n",
        "$$\n",
        "w' = (Z^T Z)^{-1} Z^T y\n",
        "$$\n",
        "\n",
        "Выразим $Z$ через $XP$:\n",
        "\n",
        "$$\n",
        "w' = ((XP)^T XP)^{-1} (XP)^T y\n",
        "$$\n",
        "\n",
        "Далее преобразуем формулу, раскрывая скобки:\n",
        "\n",
        "$$\n",
        "w' = (P^T X^T X P)^{-1} (XP)^T y\n",
        "$$\n",
        "\n",
        "$$\n",
        "w' = P^{-1} (P^T)^{-1} (X^T X)^{-1} (XP)^T y\n",
        "$$\n",
        "\n",
        "$$\n",
        "w' = P^{-1} (P^T)^{-1} (X^T X)^{-1} X^T P^T y\n",
        "$$\n",
        "\n",
        "У нас есть матрица $P^T$ и обратная ей матрица $(P^T)^{-1}$. Мы знаем, что при умножении друг на друга они дают $E$ - единичную матрицу:\n",
        "\n",
        "$$\n",
        "w' = P^{-1} E (X^T X)^{-1} X^T y\n",
        "$$\n",
        "\n",
        "Здесь мы видим $(X^T X)^{-1} X^T y$, которое равно $w$:\n",
        "\n",
        "$$\n",
        "w' = P^{-1} E w\n",
        "$$\n",
        "\n",
        "Мы также знаем, что, если любую матрицу умножить на единичную (или наоборот), получится эта же матрица - следовательно, сократим $E$:\n",
        "\n",
        "$$\n",
        "w' = P^{-1} w\n",
        "$$\n",
        "\n",
        "Вернёмся к формуле предсказания $a'$ и выразим $Z$ через $XP$, а $w'$ - через $P^{-1} w$:\n",
        "\n",
        "$$\n",
        "a' = Zw' = X P P^{-1} w\n",
        "$$\n",
        "\n",
        "Здесь мы снова получаем единичную матрицу $E$, которая при умножении на $X$ даёт ту же матрицу $X$:\n",
        "\n",
        "$$\n",
        "a' = X E w\n",
        "$$\n",
        "\n",
        "$$\n",
        "a' = X w\n",
        "$$\n",
        "\n",
        "Таким образом, $a = Xw$ и $a' = Xw$ - следовательно, предсказания для исходной матрицы и для матрицы, умноженной на обратимую, равны."
      ]
    },
    {
      "cell_type": "markdown",
      "metadata": {
        "id": "s8ISg_8YDgYd"
      },
      "source": [
        "**Вывод:** использовав формулу предсказания и формулу обучения мы выяснили, что при умножении матрицы признаков на обратимую матрицу качество линейной регрессии не изменится."
      ]
    },
    {
      "cell_type": "markdown",
      "metadata": {
        "id": "v6wpTh6hDgYd"
      },
      "source": [
        "## Алгоритм преобразования"
      ]
    },
    {
      "cell_type": "markdown",
      "metadata": {
        "id": "6WIR6CraDgYd"
      },
      "source": [
        "**Алгоритм**\n",
        "\n",
        "1) Разделим данные на обучающие и целевой признаки.\n",
        "\n",
        "2) Сгенерируем случайную матрицу и проверим её на обратимость.\n",
        "\n",
        "3) Создадим класс LinearRegression с методами fit() и predict().\n",
        "\n",
        "4) Создадим модель, обучим её и получим предсказания. Проверим качество модели с помощью метрики R2 на исходной матрице признаков и матрице, домноженной на случайную обратимую. Сравним показатели R2."
      ]
    },
    {
      "cell_type": "markdown",
      "metadata": {
        "id": "6Nqrn4AiDgYd"
      },
      "source": [
        "**Обоснование**\n",
        "\n",
        "С помощью этого алгоритма мы сможем проверить способ шифрования данных пользователей, при котором матрица с признакми (персональными данными) домножается на случайную обратимую матрицу, и оценить качество модели при использовании этого метода, а также сравнить качество с использованием модели на исходных признаках."
      ]
    },
    {
      "cell_type": "markdown",
      "metadata": {
        "id": "VBu_TEuRDgYe"
      },
      "source": [
        "## Проверка алгоритма"
      ]
    },
    {
      "cell_type": "markdown",
      "metadata": {
        "id": "RpC3wpAzDgYe"
      },
      "source": [
        "### Выделим обучающие и целевой признаки"
      ]
    },
    {
      "cell_type": "code",
      "execution_count": null,
      "metadata": {
        "id": "fs7uCzZhDgYe"
      },
      "outputs": [],
      "source": [
        "features = data.drop('Страховые выплаты', axis=1)\n",
        "target = data['Страховые выплаты']"
      ]
    },
    {
      "cell_type": "markdown",
      "metadata": {
        "id": "T2URD6GsDgYe"
      },
      "source": [
        "### Сгенерируем случайную матрицу и проверим её на обратимость"
      ]
    },
    {
      "cell_type": "code",
      "execution_count": null,
      "metadata": {
        "id": "ok7LGCoYDgYe",
        "outputId": "3525a88d-5bd9-4ba4-fea0-0e4f765441cc"
      },
      "outputs": [
        {
          "name": "stdout",
          "output_type": "stream",
          "text": [
            "Для случайно сгенерированной матрицы существует обратимая матрица\n"
          ]
        }
      ],
      "source": [
        "P = np.random.normal(size=(4, 4)) #генерируем случайную матрицу с нормальным распределением значений\n",
        "\n",
        "#проверяем её на обратимость\n",
        "try:\n",
        "    inv_P = np.linalg.inv(P)\n",
        "    print('Для случайно сгенерированной матрицы существует обратимая матрица')\n",
        "except:\n",
        "    print('Для случайно сгенерированной матрицы не существует обратимой матрицы')"
      ]
    },
    {
      "cell_type": "markdown",
      "metadata": {
        "id": "YwAw1KCRDgYe"
      },
      "source": [
        "### Создадим класс LinearRegression с методами fit() и predict()"
      ]
    },
    {
      "cell_type": "code",
      "execution_count": null,
      "metadata": {
        "id": "v3mM4GNADgYe"
      },
      "outputs": [],
      "source": [
        "class LinearRegression:\n",
        "    def fit(self, train_features, train_target):\n",
        "        X = np.concatenate((np.ones((train_features.shape[0], 1)), train_features), axis=1)\n",
        "        y = train_target\n",
        "        w = np.linalg.inv(X.T.dot(X)).dot(X.T).dot(y)\n",
        "        self.w = w[1:]\n",
        "        self.w0 = w[0]\n",
        "\n",
        "    def predict(self, test_features):\n",
        "        return test_features.dot(self.w) + self.w0"
      ]
    },
    {
      "cell_type": "markdown",
      "metadata": {
        "id": "za49ZsZoDgYe"
      },
      "source": [
        "### Обучим модель и проверим её качество"
      ]
    },
    {
      "cell_type": "markdown",
      "metadata": {
        "id": "WrzdJ4DhDgYe"
      },
      "source": [
        "Создадим функцию, которая принимает на вход обучающие и целевой признаки, обучает модель линейной регрессии, делает предсказания и возвращает значение метрики качества R2."
      ]
    },
    {
      "cell_type": "code",
      "execution_count": null,
      "metadata": {
        "id": "St1xxqyyDgYf"
      },
      "outputs": [],
      "source": [
        "def lr_model(features, target):\n",
        "    features_train, features_test, target_train, target_test = train_test_split(features,\n",
        "                                                                            target,\n",
        "                                                                            test_size=0.25,\n",
        "                                                                            random_state=12345\n",
        "                                                                           )\n",
        "    model = LinearRegression()\n",
        "    model.fit(features_train, target_train)\n",
        "    predictions = model.predict(features_test)\n",
        "    return r2_score(target_test, predictions)"
      ]
    },
    {
      "cell_type": "markdown",
      "metadata": {
        "id": "jSruEG8-DgYf"
      },
      "source": [
        "Проверим модель на исходных обучающих признаках и вычислим значение R2."
      ]
    },
    {
      "cell_type": "code",
      "execution_count": null,
      "metadata": {
        "id": "QLySeMC3DgYf",
        "outputId": "824bca60-c67b-4b7a-b68d-e5c969db21ef"
      },
      "outputs": [
        {
          "name": "stdout",
          "output_type": "stream",
          "text": [
            "R2 для исходных признаков 0.423077276158367\n"
          ]
        }
      ],
      "source": [
        "r2_initial = lr_model(features, target)\n",
        "print('R2 для исходных признаков', r2_initial)"
      ]
    },
    {
      "cell_type": "markdown",
      "metadata": {
        "id": "_czGRTc4DgYf"
      },
      "source": [
        "Теперь повторим то же, взяв в качестве обучающих признаков исходную матрицу, умноженную на случайную обратимую матрицу, которую мы сгенерировали ранее."
      ]
    },
    {
      "cell_type": "code",
      "execution_count": null,
      "metadata": {
        "id": "f2Djb-yEDgYf",
        "outputId": "b88feec4-8446-4f5a-ede0-831bc7e7bb3d"
      },
      "outputs": [
        {
          "name": "stdout",
          "output_type": "stream",
          "text": [
            "R2 для преобразованных признаков 0.4230772745069533\n"
          ]
        }
      ],
      "source": [
        "new_features = features @ P\n",
        "r2_new = lr_model(new_features, target)\n",
        "print('R2 для преобразованных признаков', r2_new)"
      ]
    },
    {
      "cell_type": "markdown",
      "metadata": {
        "id": "jY7ZFIQnDgYf"
      },
      "source": [
        "Сравним получившиеся показатели R2: вычислим разницу между ними."
      ]
    },
    {
      "cell_type": "code",
      "execution_count": null,
      "metadata": {
        "id": "GWnAwSOaDgYg",
        "outputId": "54f28bcc-c4fa-4b61-dc33-0b2438e18a00"
      },
      "outputs": [
        {
          "name": "stdout",
          "output_type": "stream",
          "text": [
            "Разница между показателями R2: 1.651413672476565e-09\n"
          ]
        }
      ],
      "source": [
        "print('Разница между показателями R2:', np.abs(r2_new - r2_initial))"
      ]
    },
    {
      "cell_type": "markdown",
      "metadata": {
        "id": "cVCgfdO1DgYg"
      },
      "source": [
        "Разница между метрикой качества R2 оказалась минимальной: 1.651413672476565e-09. Таким образом, можно сказать, что при умножении матрицы исходных признаков на обратимую матрицу качество линейной регрессии не меняется. Следовательно, можно использовать этот способ для шифрования персональных данных без потери качества линейной регрессии."
      ]
    },
    {
      "cell_type": "markdown",
      "metadata": {
        "id": "399n6gp6DgYg"
      },
      "source": [
        "## Вывод"
      ]
    },
    {
      "cell_type": "markdown",
      "metadata": {
        "id": "Ysai6UQoDgYg"
      },
      "source": [
        "Мы провели исследование, целью которого являлась разработка такого метод преобразования данных, чтобы по ним было сложно восстановить персональную информацию клиентов страховой компании «Хоть потоп».\n",
        "\n",
        "1) Мы считали данные и сохранили их в переменную, убедились в отсутствии пропусков, удалили явные дубликаты и поменяли тип данных в двух столбцах для удобства работы, а также изучили распределение данных.\n",
        "\n",
        "2) Использовав формулу предсказания и формулу обучения мы выяснили, что при умножении матрицы признаков на обратимую матрицу качество линейной регрессии не изменится.\n",
        "\n",
        "3) Мы подготовили алгоритм преобразования данных:\n",
        "\n",
        "    - разделить данные на обучающие и целевой признаки;\n",
        "    \n",
        "    - сгенерировать случайную матрицу и проверить её на обратимость;\n",
        "    \n",
        "    - создать класс LinearRegression с методами fit() и predict();\n",
        "    \n",
        "    - создать модель, обучить её и получить предсказания. Проверить качество модели с помощью метрики R2 на исходной матрице признаков и матрице, домноженной на случайную обратимую. Сравнить показатели R2.\n",
        "    \n",
        "С помощью этого алгоритма мы смогли проверить способ шифрования данных пользователей, при котором матрица с признакми (персональными данными) домножается на случайную обратимую матрицу, и оценить качество модели при использовании этого метода, а также сравнить качество с использованием модели на исходных признаках.  \n",
        "\n",
        "4) Выполнив все шаги описанного выше алгоритма, мы выяснили, что метрика R2 на исходной матрице признаков и матрице, домноженной на случайную обратимую, отличается минимально: разница между ними составила 1.651413672476565e-09.\n",
        "\n",
        "**Таким образом, можно сказать, что при умножении матрицы исходных признаков на обратимую матрицу качество линейной регрессии не меняется. Следовательно, можно использовать этот способ для шифрования персональных данных без потери качества линейной регрессии.**"
      ]
    }
  ],
  "metadata": {
    "ExecuteTimeLog": [
      {
        "duration": 376,
        "start_time": "2023-08-28T18:55:43.067Z"
      },
      {
        "duration": 57,
        "start_time": "2023-08-28T18:58:43.200Z"
      },
      {
        "duration": 88,
        "start_time": "2023-08-28T18:59:02.882Z"
      },
      {
        "duration": 33,
        "start_time": "2023-08-28T18:59:57.373Z"
      },
      {
        "duration": 11,
        "start_time": "2023-08-28T19:02:08.879Z"
      },
      {
        "duration": 8,
        "start_time": "2023-08-28T19:04:42.709Z"
      },
      {
        "duration": 6,
        "start_time": "2023-08-28T19:05:12.475Z"
      },
      {
        "duration": 15,
        "start_time": "2023-08-28T19:06:03.379Z"
      },
      {
        "duration": 6,
        "start_time": "2023-08-28T19:09:13.634Z"
      },
      {
        "duration": 13,
        "start_time": "2023-08-28T19:09:18.252Z"
      },
      {
        "duration": 5,
        "start_time": "2023-08-28T19:09:20.083Z"
      },
      {
        "duration": 4,
        "start_time": "2023-08-28T19:09:27.801Z"
      },
      {
        "duration": 6,
        "start_time": "2023-08-28T19:09:29.040Z"
      },
      {
        "duration": 4,
        "start_time": "2023-08-28T19:13:19.822Z"
      },
      {
        "duration": 10,
        "start_time": "2023-08-28T19:13:39.231Z"
      },
      {
        "duration": 12,
        "start_time": "2023-08-28T19:14:02.414Z"
      },
      {
        "duration": 474,
        "start_time": "2023-08-29T17:36:32.405Z"
      },
      {
        "duration": 156,
        "start_time": "2023-08-29T17:36:32.881Z"
      },
      {
        "duration": 11,
        "start_time": "2023-08-29T17:36:33.039Z"
      },
      {
        "duration": 8,
        "start_time": "2023-08-29T17:36:33.052Z"
      },
      {
        "duration": 5,
        "start_time": "2023-08-29T17:36:33.062Z"
      },
      {
        "duration": 18,
        "start_time": "2023-08-29T17:36:33.069Z"
      },
      {
        "duration": 29,
        "start_time": "2023-08-29T17:36:33.090Z"
      },
      {
        "duration": 10,
        "start_time": "2023-08-29T20:05:31.401Z"
      },
      {
        "duration": 81,
        "start_time": "2023-08-29T20:11:37.331Z"
      },
      {
        "duration": 6,
        "start_time": "2023-08-29T20:11:47.250Z"
      },
      {
        "duration": 4,
        "start_time": "2023-08-29T20:11:56.173Z"
      },
      {
        "duration": 5,
        "start_time": "2023-08-29T20:12:09.650Z"
      },
      {
        "duration": 5,
        "start_time": "2023-08-29T20:16:20.228Z"
      },
      {
        "duration": 4,
        "start_time": "2023-08-29T20:18:39.925Z"
      },
      {
        "duration": 4,
        "start_time": "2023-08-29T20:19:07.140Z"
      },
      {
        "duration": 4,
        "start_time": "2023-08-29T20:20:53.765Z"
      },
      {
        "duration": 8,
        "start_time": "2023-08-29T20:21:39.637Z"
      },
      {
        "duration": 7,
        "start_time": "2023-08-29T20:21:43.606Z"
      },
      {
        "duration": 4,
        "start_time": "2023-08-29T20:23:16.113Z"
      },
      {
        "duration": 805,
        "start_time": "2023-08-29T20:25:15.534Z"
      },
      {
        "duration": 3,
        "start_time": "2023-08-29T20:29:13.519Z"
      },
      {
        "duration": 56,
        "start_time": "2023-08-29T20:30:53.407Z"
      },
      {
        "duration": 4,
        "start_time": "2023-08-29T20:31:15.940Z"
      },
      {
        "duration": 19,
        "start_time": "2023-08-29T20:31:17.154Z"
      },
      {
        "duration": 10,
        "start_time": "2023-08-29T20:33:59.669Z"
      },
      {
        "duration": 5,
        "start_time": "2023-08-29T20:35:45.382Z"
      },
      {
        "duration": 5,
        "start_time": "2023-08-29T20:44:05.921Z"
      },
      {
        "duration": 7,
        "start_time": "2023-08-29T20:44:55.937Z"
      },
      {
        "duration": 1148,
        "start_time": "2023-08-30T15:58:52.252Z"
      },
      {
        "duration": 40,
        "start_time": "2023-08-30T15:58:53.402Z"
      },
      {
        "duration": 13,
        "start_time": "2023-08-30T15:58:53.443Z"
      },
      {
        "duration": 7,
        "start_time": "2023-08-30T15:58:53.459Z"
      },
      {
        "duration": 5,
        "start_time": "2023-08-30T15:58:53.468Z"
      },
      {
        "duration": 6,
        "start_time": "2023-08-30T15:58:53.474Z"
      },
      {
        "duration": 26,
        "start_time": "2023-08-30T15:58:53.482Z"
      },
      {
        "duration": 5,
        "start_time": "2023-08-30T15:58:53.525Z"
      },
      {
        "duration": 20,
        "start_time": "2023-08-30T15:58:53.532Z"
      },
      {
        "duration": 68,
        "start_time": "2023-08-30T15:58:53.557Z"
      },
      {
        "duration": 5,
        "start_time": "2023-08-30T15:58:53.629Z"
      },
      {
        "duration": 94,
        "start_time": "2023-08-30T15:58:53.636Z"
      },
      {
        "duration": 108,
        "start_time": "2023-08-30T15:58:53.732Z"
      },
      {
        "duration": 84,
        "start_time": "2023-08-30T15:58:53.844Z"
      },
      {
        "duration": 1313,
        "start_time": "2023-08-31T16:46:11.832Z"
      },
      {
        "duration": 98,
        "start_time": "2023-08-31T16:47:00.426Z"
      },
      {
        "duration": 18,
        "start_time": "2023-08-31T16:47:52.909Z"
      },
      {
        "duration": 15,
        "start_time": "2023-08-31T16:47:54.304Z"
      },
      {
        "duration": 6,
        "start_time": "2023-08-31T16:47:55.499Z"
      },
      {
        "duration": 6,
        "start_time": "2023-08-31T16:47:58.066Z"
      },
      {
        "duration": 12,
        "start_time": "2023-08-31T16:47:58.624Z"
      },
      {
        "duration": 621,
        "start_time": "2023-08-31T16:50:37.204Z"
      },
      {
        "duration": 939,
        "start_time": "2023-08-31T16:53:56.558Z"
      },
      {
        "duration": 1047,
        "start_time": "2023-08-31T16:56:31.748Z"
      },
      {
        "duration": 837,
        "start_time": "2023-08-31T16:56:46.633Z"
      },
      {
        "duration": 942,
        "start_time": "2023-08-31T16:59:21.929Z"
      },
      {
        "duration": 202,
        "start_time": "2023-08-31T17:05:38.325Z"
      },
      {
        "duration": 27,
        "start_time": "2023-08-31T17:06:50.026Z"
      },
      {
        "duration": 4,
        "start_time": "2023-08-31T17:18:40.682Z"
      },
      {
        "duration": 3,
        "start_time": "2023-08-31T17:18:45.058Z"
      },
      {
        "duration": 46,
        "start_time": "2023-08-31T17:18:45.085Z"
      },
      {
        "duration": 11,
        "start_time": "2023-08-31T17:18:45.133Z"
      },
      {
        "duration": 8,
        "start_time": "2023-08-31T17:18:45.146Z"
      },
      {
        "duration": 6,
        "start_time": "2023-08-31T17:18:45.155Z"
      },
      {
        "duration": 8,
        "start_time": "2023-08-31T17:18:45.164Z"
      },
      {
        "duration": 12,
        "start_time": "2023-08-31T17:18:45.174Z"
      },
      {
        "duration": 56,
        "start_time": "2023-08-31T17:18:45.187Z"
      },
      {
        "duration": 953,
        "start_time": "2023-08-31T17:18:45.245Z"
      },
      {
        "duration": 200,
        "start_time": "2023-08-31T17:18:46.200Z"
      },
      {
        "duration": 19,
        "start_time": "2023-08-31T17:18:46.402Z"
      },
      {
        "duration": 9,
        "start_time": "2023-08-31T17:18:46.424Z"
      },
      {
        "duration": 80,
        "start_time": "2023-08-31T17:18:46.435Z"
      },
      {
        "duration": 10,
        "start_time": "2023-08-31T17:18:46.517Z"
      },
      {
        "duration": 230,
        "start_time": "2023-08-31T17:18:46.533Z"
      },
      {
        "duration": 0,
        "start_time": "2023-08-31T17:18:46.765Z"
      },
      {
        "duration": 0,
        "start_time": "2023-08-31T17:18:46.766Z"
      },
      {
        "duration": 9,
        "start_time": "2023-08-31T17:19:23.447Z"
      },
      {
        "duration": 36,
        "start_time": "2023-08-31T17:19:23.458Z"
      },
      {
        "duration": 12,
        "start_time": "2023-08-31T17:19:23.495Z"
      },
      {
        "duration": 18,
        "start_time": "2023-08-31T17:19:23.509Z"
      },
      {
        "duration": 6,
        "start_time": "2023-08-31T17:19:23.530Z"
      },
      {
        "duration": 5,
        "start_time": "2023-08-31T17:19:23.538Z"
      },
      {
        "duration": 11,
        "start_time": "2023-08-31T17:19:23.545Z"
      },
      {
        "duration": 30,
        "start_time": "2023-08-31T17:19:23.557Z"
      },
      {
        "duration": 853,
        "start_time": "2023-08-31T17:19:23.589Z"
      },
      {
        "duration": 213,
        "start_time": "2023-08-31T17:19:24.444Z"
      },
      {
        "duration": 4,
        "start_time": "2023-08-31T17:19:24.659Z"
      },
      {
        "duration": 6,
        "start_time": "2023-08-31T17:19:24.665Z"
      },
      {
        "duration": 46,
        "start_time": "2023-08-31T17:19:24.674Z"
      },
      {
        "duration": 12,
        "start_time": "2023-08-31T17:19:24.724Z"
      },
      {
        "duration": 99,
        "start_time": "2023-08-31T17:19:24.738Z"
      },
      {
        "duration": 0,
        "start_time": "2023-08-31T17:19:24.908Z"
      },
      {
        "duration": 0,
        "start_time": "2023-08-31T17:19:24.911Z"
      },
      {
        "duration": 4,
        "start_time": "2023-08-31T17:21:59.123Z"
      },
      {
        "duration": 11,
        "start_time": "2023-08-31T17:22:00.831Z"
      },
      {
        "duration": 10,
        "start_time": "2023-08-31T17:22:05.120Z"
      },
      {
        "duration": 3,
        "start_time": "2023-08-31T17:22:06.978Z"
      },
      {
        "duration": 3,
        "start_time": "2023-08-31T17:24:49.137Z"
      },
      {
        "duration": 52,
        "start_time": "2023-08-31T17:24:49.142Z"
      },
      {
        "duration": 11,
        "start_time": "2023-08-31T17:24:49.196Z"
      },
      {
        "duration": 12,
        "start_time": "2023-08-31T17:24:49.211Z"
      },
      {
        "duration": 7,
        "start_time": "2023-08-31T17:24:49.226Z"
      },
      {
        "duration": 8,
        "start_time": "2023-08-31T17:24:49.234Z"
      },
      {
        "duration": 19,
        "start_time": "2023-08-31T17:24:49.243Z"
      },
      {
        "duration": 23,
        "start_time": "2023-08-31T17:24:49.264Z"
      },
      {
        "duration": 849,
        "start_time": "2023-08-31T17:24:49.289Z"
      },
      {
        "duration": 210,
        "start_time": "2023-08-31T17:24:50.140Z"
      },
      {
        "duration": 4,
        "start_time": "2023-08-31T17:24:50.352Z"
      },
      {
        "duration": 8,
        "start_time": "2023-08-31T17:24:50.357Z"
      },
      {
        "duration": 59,
        "start_time": "2023-08-31T17:24:50.367Z"
      },
      {
        "duration": 91,
        "start_time": "2023-08-31T17:24:50.429Z"
      },
      {
        "duration": 16,
        "start_time": "2023-08-31T17:24:50.523Z"
      },
      {
        "duration": 84,
        "start_time": "2023-08-31T17:24:50.542Z"
      },
      {
        "duration": 87,
        "start_time": "2023-08-31T17:24:50.632Z"
      }
    ],
    "kernelspec": {
      "display_name": "Python 3 (ipykernel)",
      "language": "python",
      "name": "python3"
    },
    "language_info": {
      "codemirror_mode": {
        "name": "ipython",
        "version": 3
      },
      "file_extension": ".py",
      "mimetype": "text/x-python",
      "name": "python",
      "nbconvert_exporter": "python",
      "pygments_lexer": "ipython3",
      "version": "3.9.5"
    },
    "toc": {
      "base_numbering": 1,
      "nav_menu": {},
      "number_sections": true,
      "sideBar": true,
      "skip_h1_title": true,
      "title_cell": "Содержание",
      "title_sidebar": "Contents",
      "toc_cell": true,
      "toc_position": {
        "height": "calc(100% - 180px)",
        "left": "10px",
        "top": "150px",
        "width": "231px"
      },
      "toc_section_display": true,
      "toc_window_display": true
    },
    "colab": {
      "provenance": []
    }
  },
  "nbformat": 4,
  "nbformat_minor": 0
}