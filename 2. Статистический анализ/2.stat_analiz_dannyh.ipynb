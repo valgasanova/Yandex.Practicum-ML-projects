{
  "cells": [
    {
      "cell_type": "markdown",
      "id": "fded3324",
      "metadata": {
        "id": "fded3324"
      },
      "source": [
        "# Исследование данных сервиса аренды самокатов"
      ]
    },
    {
      "cell_type": "markdown",
      "id": "15545173",
      "metadata": {
        "id": "15545173"
      },
      "source": [
        "В этом исследовании мы проанализируем данные популярного сервиса аренды самокатов GoFast. В нашем распоряжении - данные о некоторых пользователях из нескольких городов, а также об их поездках:\n",
        "\n",
        "* датасет \"Пользователи\" — users_go.csv — со следующими столбцами:\n",
        "    + user_id — уникальный идентификатор пользователя\n",
        "    + name — имя пользователя\n",
        "    + age — возраст\n",
        "    + city — город\n",
        "    + subscription_type — тип подписки (free, ultra)\n",
        "\n",
        "* датасет \"Поездки\" — rides_go.csv — со следующими столбцами:\n",
        "    + user_id — уникальный идентификатор пользователя\n",
        "    + distance — расстояние, которое пользователь проехал в текущей сессии (в метрах)\n",
        "    + duration — продолжительность сессии (в минутах) — время с того момента, как пользователь нажал кнопку «Начать поездку» до момента, как он нажал кнопку «Завершить поездку»\n",
        "    + date — дата совершения поездки\n",
        "\n",
        "* датасет \"Подписки\" — subscriptions_go.csv — со следующими столбцами:\n",
        "    + subscription_type\tтип подписки\n",
        "    + minute_price\tстоимость одной минуты поездки по данной подписке\n",
        "    + start_ride_price\tстоимость начала поездки\n",
        "    + subscription_fee\tстоимость ежемесячного платежа\n",
        "\n",
        "Чтобы совершать поездки по городу, пользователи сервиса GoFast пользуются мобильным приложением. Сервисом можно пользоваться:\n",
        "* без подписки\n",
        "    + абонентская плата отсутствует;\n",
        "    + стоимость одной минуты поездки — 8 рублей;\n",
        "    + стоимость старта (начала поездки) — 50 рублей;\n",
        "    \n",
        "* с подпиской Ultra\n",
        "    + абонентская плата — 199 рублей в месяц;\n",
        "    + стоимость одной минуты поездки — 6 рублей;\n",
        "    + стоимость старта — бесплатно.    \n",
        "    \n",
        "Мы изучим исходные данные, проведём предобработку данных, проанализируем их и проверим некоторые гипотезы, которые могут помочь бизнесу вырасти.    "
      ]
    },
    {
      "cell_type": "code",
      "execution_count": null,
      "id": "f66eda1b",
      "metadata": {
        "id": "f66eda1b"
      },
      "outputs": [],
      "source": [
        "import pandas as pd #импортируем необходимые библиотеки\n",
        "import matplotlib.pyplot as plt\n",
        "import numpy as np\n",
        "import scipy.stats as st"
      ]
    },
    {
      "cell_type": "markdown",
      "id": "1239e2e8",
      "metadata": {
        "id": "1239e2e8"
      },
      "source": [
        "### Шаг 1. Загрузка данных"
      ]
    },
    {
      "cell_type": "markdown",
      "id": "c702e5bc",
      "metadata": {
        "id": "c702e5bc"
      },
      "source": [
        "Считаем исходные файлы и изучим их:"
      ]
    },
    {
      "cell_type": "code",
      "execution_count": null,
      "id": "a02f5b49",
      "metadata": {
        "id": "a02f5b49"
      },
      "outputs": [],
      "source": [
        "users = pd.read_csv('/datasets/users_go.csv') #считаем cvs-файл с информацией о пользователях и сохраним его в переменную users"
      ]
    },
    {
      "cell_type": "code",
      "execution_count": null,
      "id": "89877ba4",
      "metadata": {
        "id": "89877ba4"
      },
      "outputs": [],
      "source": [
        "rides = pd.read_csv('/datasets/rides_go.csv') #считаем cvs-файл с информацией о поездках и сохраним его в переменную rides"
      ]
    },
    {
      "cell_type": "code",
      "execution_count": null,
      "id": "ed3842e4",
      "metadata": {
        "id": "ed3842e4"
      },
      "outputs": [],
      "source": [
        "subscriptions = pd.read_csv('/datasets/subscriptions_go.csv') #считаем cvs-файл с информацией о подписках\n",
        "#и сохраним его в переменную subscriptions"
      ]
    },
    {
      "cell_type": "code",
      "execution_count": null,
      "id": "4b039a23",
      "metadata": {
        "id": "4b039a23",
        "outputId": "54a0144d-0653-44d4-ec93-8d06922c18ab"
      },
      "outputs": [
        {
          "data": {
            "text/html": [
              "<div>\n",
              "<style scoped>\n",
              "    .dataframe tbody tr th:only-of-type {\n",
              "        vertical-align: middle;\n",
              "    }\n",
              "\n",
              "    .dataframe tbody tr th {\n",
              "        vertical-align: top;\n",
              "    }\n",
              "\n",
              "    .dataframe thead th {\n",
              "        text-align: right;\n",
              "    }\n",
              "</style>\n",
              "<table border=\"1\" class=\"dataframe\">\n",
              "  <thead>\n",
              "    <tr style=\"text-align: right;\">\n",
              "      <th></th>\n",
              "      <th>user_id</th>\n",
              "      <th>name</th>\n",
              "      <th>age</th>\n",
              "      <th>city</th>\n",
              "      <th>subscription_type</th>\n",
              "    </tr>\n",
              "  </thead>\n",
              "  <tbody>\n",
              "    <tr>\n",
              "      <th>0</th>\n",
              "      <td>1</td>\n",
              "      <td>Кира</td>\n",
              "      <td>22</td>\n",
              "      <td>Тюмень</td>\n",
              "      <td>ultra</td>\n",
              "    </tr>\n",
              "    <tr>\n",
              "      <th>1</th>\n",
              "      <td>2</td>\n",
              "      <td>Станислав</td>\n",
              "      <td>31</td>\n",
              "      <td>Омск</td>\n",
              "      <td>ultra</td>\n",
              "    </tr>\n",
              "    <tr>\n",
              "      <th>2</th>\n",
              "      <td>3</td>\n",
              "      <td>Алексей</td>\n",
              "      <td>20</td>\n",
              "      <td>Москва</td>\n",
              "      <td>ultra</td>\n",
              "    </tr>\n",
              "    <tr>\n",
              "      <th>3</th>\n",
              "      <td>4</td>\n",
              "      <td>Константин</td>\n",
              "      <td>26</td>\n",
              "      <td>Ростов-на-Дону</td>\n",
              "      <td>ultra</td>\n",
              "    </tr>\n",
              "    <tr>\n",
              "      <th>4</th>\n",
              "      <td>5</td>\n",
              "      <td>Адель</td>\n",
              "      <td>28</td>\n",
              "      <td>Омск</td>\n",
              "      <td>ultra</td>\n",
              "    </tr>\n",
              "    <tr>\n",
              "      <th>5</th>\n",
              "      <td>6</td>\n",
              "      <td>Регина</td>\n",
              "      <td>25</td>\n",
              "      <td>Краснодар</td>\n",
              "      <td>ultra</td>\n",
              "    </tr>\n",
              "    <tr>\n",
              "      <th>6</th>\n",
              "      <td>7</td>\n",
              "      <td>Игорь</td>\n",
              "      <td>23</td>\n",
              "      <td>Омск</td>\n",
              "      <td>ultra</td>\n",
              "    </tr>\n",
              "    <tr>\n",
              "      <th>7</th>\n",
              "      <td>8</td>\n",
              "      <td>Юрий</td>\n",
              "      <td>23</td>\n",
              "      <td>Краснодар</td>\n",
              "      <td>ultra</td>\n",
              "    </tr>\n",
              "    <tr>\n",
              "      <th>8</th>\n",
              "      <td>9</td>\n",
              "      <td>Ян</td>\n",
              "      <td>21</td>\n",
              "      <td>Пятигорск</td>\n",
              "      <td>ultra</td>\n",
              "    </tr>\n",
              "    <tr>\n",
              "      <th>9</th>\n",
              "      <td>10</td>\n",
              "      <td>Валерий</td>\n",
              "      <td>18</td>\n",
              "      <td>Екатеринбург</td>\n",
              "      <td>ultra</td>\n",
              "    </tr>\n",
              "    <tr>\n",
              "      <th>10</th>\n",
              "      <td>11</td>\n",
              "      <td>Агата</td>\n",
              "      <td>31</td>\n",
              "      <td>Краснодар</td>\n",
              "      <td>ultra</td>\n",
              "    </tr>\n",
              "    <tr>\n",
              "      <th>11</th>\n",
              "      <td>12</td>\n",
              "      <td>Марк</td>\n",
              "      <td>27</td>\n",
              "      <td>Тюмень</td>\n",
              "      <td>ultra</td>\n",
              "    </tr>\n",
              "    <tr>\n",
              "      <th>12</th>\n",
              "      <td>13</td>\n",
              "      <td>Ева</td>\n",
              "      <td>24</td>\n",
              "      <td>Краснодар</td>\n",
              "      <td>ultra</td>\n",
              "    </tr>\n",
              "    <tr>\n",
              "      <th>13</th>\n",
              "      <td>14</td>\n",
              "      <td>Антонина</td>\n",
              "      <td>18</td>\n",
              "      <td>Пятигорск</td>\n",
              "      <td>ultra</td>\n",
              "    </tr>\n",
              "    <tr>\n",
              "      <th>14</th>\n",
              "      <td>15</td>\n",
              "      <td>Валерия</td>\n",
              "      <td>24</td>\n",
              "      <td>Тюмень</td>\n",
              "      <td>ultra</td>\n",
              "    </tr>\n",
              "  </tbody>\n",
              "</table>\n",
              "</div>"
            ],
            "text/plain": [
              "    user_id        name  age            city subscription_type\n",
              "0         1        Кира   22          Тюмень             ultra\n",
              "1         2   Станислав   31            Омск             ultra\n",
              "2         3     Алексей   20          Москва             ultra\n",
              "3         4  Константин   26  Ростов-на-Дону             ultra\n",
              "4         5       Адель   28            Омск             ultra\n",
              "5         6      Регина   25       Краснодар             ultra\n",
              "6         7       Игорь   23            Омск             ultra\n",
              "7         8        Юрий   23       Краснодар             ultra\n",
              "8         9          Ян   21       Пятигорск             ultra\n",
              "9        10     Валерий   18    Екатеринбург             ultra\n",
              "10       11       Агата   31       Краснодар             ultra\n",
              "11       12        Марк   27          Тюмень             ultra\n",
              "12       13         Ева   24       Краснодар             ultra\n",
              "13       14    Антонина   18       Пятигорск             ultra\n",
              "14       15     Валерия   24          Тюмень             ultra"
            ]
          },
          "execution_count": 5,
          "metadata": {},
          "output_type": "execute_result"
        }
      ],
      "source": [
        "users.head(15) #выведем первые 15 строк датафрейма с информацией о пользователях"
      ]
    },
    {
      "cell_type": "code",
      "execution_count": null,
      "id": "bf8530a8",
      "metadata": {
        "id": "bf8530a8",
        "outputId": "2df83c23-92d2-4854-ab69-10eebcbd4948"
      },
      "outputs": [
        {
          "data": {
            "text/html": [
              "<div>\n",
              "<style scoped>\n",
              "    .dataframe tbody tr th:only-of-type {\n",
              "        vertical-align: middle;\n",
              "    }\n",
              "\n",
              "    .dataframe tbody tr th {\n",
              "        vertical-align: top;\n",
              "    }\n",
              "\n",
              "    .dataframe thead th {\n",
              "        text-align: right;\n",
              "    }\n",
              "</style>\n",
              "<table border=\"1\" class=\"dataframe\">\n",
              "  <thead>\n",
              "    <tr style=\"text-align: right;\">\n",
              "      <th></th>\n",
              "      <th>user_id</th>\n",
              "      <th>distance</th>\n",
              "      <th>duration</th>\n",
              "      <th>date</th>\n",
              "    </tr>\n",
              "  </thead>\n",
              "  <tbody>\n",
              "    <tr>\n",
              "      <th>0</th>\n",
              "      <td>1</td>\n",
              "      <td>4409.919140</td>\n",
              "      <td>25.599769</td>\n",
              "      <td>2021-01-01</td>\n",
              "    </tr>\n",
              "    <tr>\n",
              "      <th>1</th>\n",
              "      <td>1</td>\n",
              "      <td>2617.592153</td>\n",
              "      <td>15.816871</td>\n",
              "      <td>2021-01-18</td>\n",
              "    </tr>\n",
              "    <tr>\n",
              "      <th>2</th>\n",
              "      <td>1</td>\n",
              "      <td>754.159807</td>\n",
              "      <td>6.232113</td>\n",
              "      <td>2021-04-20</td>\n",
              "    </tr>\n",
              "    <tr>\n",
              "      <th>3</th>\n",
              "      <td>1</td>\n",
              "      <td>2694.783254</td>\n",
              "      <td>18.511000</td>\n",
              "      <td>2021-08-11</td>\n",
              "    </tr>\n",
              "    <tr>\n",
              "      <th>4</th>\n",
              "      <td>1</td>\n",
              "      <td>4028.687306</td>\n",
              "      <td>26.265803</td>\n",
              "      <td>2021-08-28</td>\n",
              "    </tr>\n",
              "    <tr>\n",
              "      <th>5</th>\n",
              "      <td>1</td>\n",
              "      <td>2770.890808</td>\n",
              "      <td>16.650138</td>\n",
              "      <td>2021-10-09</td>\n",
              "    </tr>\n",
              "    <tr>\n",
              "      <th>6</th>\n",
              "      <td>1</td>\n",
              "      <td>3039.020292</td>\n",
              "      <td>14.927879</td>\n",
              "      <td>2021-10-19</td>\n",
              "    </tr>\n",
              "    <tr>\n",
              "      <th>7</th>\n",
              "      <td>1</td>\n",
              "      <td>2842.118050</td>\n",
              "      <td>23.117468</td>\n",
              "      <td>2021-11-06</td>\n",
              "    </tr>\n",
              "    <tr>\n",
              "      <th>8</th>\n",
              "      <td>1</td>\n",
              "      <td>3412.690668</td>\n",
              "      <td>15.238072</td>\n",
              "      <td>2021-11-14</td>\n",
              "    </tr>\n",
              "    <tr>\n",
              "      <th>9</th>\n",
              "      <td>1</td>\n",
              "      <td>748.690645</td>\n",
              "      <td>15.041884</td>\n",
              "      <td>2021-11-22</td>\n",
              "    </tr>\n",
              "    <tr>\n",
              "      <th>10</th>\n",
              "      <td>1</td>\n",
              "      <td>4031.020195</td>\n",
              "      <td>17.674448</td>\n",
              "      <td>2021-12-14</td>\n",
              "    </tr>\n",
              "    <tr>\n",
              "      <th>11</th>\n",
              "      <td>1</td>\n",
              "      <td>2720.609748</td>\n",
              "      <td>9.529463</td>\n",
              "      <td>2021-12-22</td>\n",
              "    </tr>\n",
              "    <tr>\n",
              "      <th>12</th>\n",
              "      <td>2</td>\n",
              "      <td>3105.086678</td>\n",
              "      <td>24.307514</td>\n",
              "      <td>2021-03-15</td>\n",
              "    </tr>\n",
              "    <tr>\n",
              "      <th>13</th>\n",
              "      <td>2</td>\n",
              "      <td>3053.519401</td>\n",
              "      <td>11.543256</td>\n",
              "      <td>2021-03-18</td>\n",
              "    </tr>\n",
              "    <tr>\n",
              "      <th>14</th>\n",
              "      <td>2</td>\n",
              "      <td>4029.116927</td>\n",
              "      <td>25.109188</td>\n",
              "      <td>2021-03-23</td>\n",
              "    </tr>\n",
              "  </tbody>\n",
              "</table>\n",
              "</div>"
            ],
            "text/plain": [
              "    user_id     distance   duration        date\n",
              "0         1  4409.919140  25.599769  2021-01-01\n",
              "1         1  2617.592153  15.816871  2021-01-18\n",
              "2         1   754.159807   6.232113  2021-04-20\n",
              "3         1  2694.783254  18.511000  2021-08-11\n",
              "4         1  4028.687306  26.265803  2021-08-28\n",
              "5         1  2770.890808  16.650138  2021-10-09\n",
              "6         1  3039.020292  14.927879  2021-10-19\n",
              "7         1  2842.118050  23.117468  2021-11-06\n",
              "8         1  3412.690668  15.238072  2021-11-14\n",
              "9         1   748.690645  15.041884  2021-11-22\n",
              "10        1  4031.020195  17.674448  2021-12-14\n",
              "11        1  2720.609748   9.529463  2021-12-22\n",
              "12        2  3105.086678  24.307514  2021-03-15\n",
              "13        2  3053.519401  11.543256  2021-03-18\n",
              "14        2  4029.116927  25.109188  2021-03-23"
            ]
          },
          "execution_count": 6,
          "metadata": {},
          "output_type": "execute_result"
        }
      ],
      "source": [
        "rides.head(15) #выведем первые 15 строк датафрейма с информацией о поездках"
      ]
    },
    {
      "cell_type": "code",
      "execution_count": null,
      "id": "a4671813",
      "metadata": {
        "id": "a4671813",
        "outputId": "7080439f-161c-4fb2-aa3d-2c94717b6347"
      },
      "outputs": [
        {
          "data": {
            "text/html": [
              "<div>\n",
              "<style scoped>\n",
              "    .dataframe tbody tr th:only-of-type {\n",
              "        vertical-align: middle;\n",
              "    }\n",
              "\n",
              "    .dataframe tbody tr th {\n",
              "        vertical-align: top;\n",
              "    }\n",
              "\n",
              "    .dataframe thead th {\n",
              "        text-align: right;\n",
              "    }\n",
              "</style>\n",
              "<table border=\"1\" class=\"dataframe\">\n",
              "  <thead>\n",
              "    <tr style=\"text-align: right;\">\n",
              "      <th></th>\n",
              "      <th>subscription_type</th>\n",
              "      <th>minute_price</th>\n",
              "      <th>start_ride_price</th>\n",
              "      <th>subscription_fee</th>\n",
              "    </tr>\n",
              "  </thead>\n",
              "  <tbody>\n",
              "    <tr>\n",
              "      <th>0</th>\n",
              "      <td>free</td>\n",
              "      <td>8</td>\n",
              "      <td>50</td>\n",
              "      <td>0</td>\n",
              "    </tr>\n",
              "    <tr>\n",
              "      <th>1</th>\n",
              "      <td>ultra</td>\n",
              "      <td>6</td>\n",
              "      <td>0</td>\n",
              "      <td>199</td>\n",
              "    </tr>\n",
              "  </tbody>\n",
              "</table>\n",
              "</div>"
            ],
            "text/plain": [
              "  subscription_type  minute_price  start_ride_price  subscription_fee\n",
              "0              free             8                50                 0\n",
              "1             ultra             6                 0               199"
            ]
          },
          "execution_count": 7,
          "metadata": {},
          "output_type": "execute_result"
        }
      ],
      "source": [
        "subscriptions #выведем датафрейм с информацией о подписках"
      ]
    },
    {
      "cell_type": "code",
      "execution_count": null,
      "id": "9d13caf7",
      "metadata": {
        "id": "9d13caf7",
        "outputId": "822eed1c-ba99-462d-8921-c625e1885844"
      },
      "outputs": [
        {
          "name": "stdout",
          "output_type": "stream",
          "text": [
            "<class 'pandas.core.frame.DataFrame'>\n",
            "RangeIndex: 1565 entries, 0 to 1564\n",
            "Data columns (total 5 columns):\n",
            " #   Column             Non-Null Count  Dtype \n",
            "---  ------             --------------  ----- \n",
            " 0   user_id            1565 non-null   int64 \n",
            " 1   name               1565 non-null   object\n",
            " 2   age                1565 non-null   int64 \n",
            " 3   city               1565 non-null   object\n",
            " 4   subscription_type  1565 non-null   object\n",
            "dtypes: int64(2), object(3)\n",
            "memory usage: 61.3+ KB\n"
          ]
        }
      ],
      "source": [
        "users.info() #выведем и изучим общую информацию о датафрейме с информацией о пользователях"
      ]
    },
    {
      "cell_type": "code",
      "execution_count": null,
      "id": "61904bd2",
      "metadata": {
        "id": "61904bd2",
        "outputId": "7ce3376e-ee2e-458e-e4aa-90af5cb3b2d7"
      },
      "outputs": [
        {
          "name": "stdout",
          "output_type": "stream",
          "text": [
            "<class 'pandas.core.frame.DataFrame'>\n",
            "RangeIndex: 18068 entries, 0 to 18067\n",
            "Data columns (total 4 columns):\n",
            " #   Column    Non-Null Count  Dtype  \n",
            "---  ------    --------------  -----  \n",
            " 0   user_id   18068 non-null  int64  \n",
            " 1   distance  18068 non-null  float64\n",
            " 2   duration  18068 non-null  float64\n",
            " 3   date      18068 non-null  object \n",
            "dtypes: float64(2), int64(1), object(1)\n",
            "memory usage: 564.8+ KB\n"
          ]
        }
      ],
      "source": [
        "rides.info() #выведем и изучим общую информацию о датафрейме с информацией о поездках"
      ]
    },
    {
      "cell_type": "code",
      "execution_count": null,
      "id": "11b2cf6e",
      "metadata": {
        "id": "11b2cf6e",
        "outputId": "444d1ac7-6905-4279-b813-cda1649db588"
      },
      "outputs": [
        {
          "name": "stdout",
          "output_type": "stream",
          "text": [
            "<class 'pandas.core.frame.DataFrame'>\n",
            "RangeIndex: 2 entries, 0 to 1\n",
            "Data columns (total 4 columns):\n",
            " #   Column             Non-Null Count  Dtype \n",
            "---  ------             --------------  ----- \n",
            " 0   subscription_type  2 non-null      object\n",
            " 1   minute_price       2 non-null      int64 \n",
            " 2   start_ride_price   2 non-null      int64 \n",
            " 3   subscription_fee   2 non-null      int64 \n",
            "dtypes: int64(3), object(1)\n",
            "memory usage: 192.0+ bytes\n"
          ]
        }
      ],
      "source": [
        "subscriptions.info() #выведем и изучим общую информацию о датафрейме с информацией о подписках"
      ]
    },
    {
      "cell_type": "markdown",
      "id": "463368fa",
      "metadata": {
        "id": "463368fa"
      },
      "source": [
        "**Вывод:**\n",
        "- мы считали cvs-файлы с необходимой информацией о пользователях, поездках и подписках;\n",
        "- вывели первые строки датафреймов и изучили, какие столбцы и какие данные в них содержатся;\n",
        "- изучили общую информацию о датафреймах и узнали, в каком формате в них записаны данные."
      ]
    },
    {
      "cell_type": "markdown",
      "id": "0741c2ce",
      "metadata": {
        "id": "0741c2ce"
      },
      "source": [
        "### Шаг 2. Предобработка данных"
      ]
    },
    {
      "cell_type": "markdown",
      "id": "f86baa49",
      "metadata": {
        "id": "f86baa49"
      },
      "source": [
        "#### Приведём значения в столбце date в датафрейме rides к типу datetime для удобства работы:"
      ]
    },
    {
      "cell_type": "code",
      "execution_count": null,
      "id": "f3b80fc3",
      "metadata": {
        "id": "f3b80fc3",
        "outputId": "13570514-11e0-48e7-9efc-bb36e4adabec"
      },
      "outputs": [
        {
          "name": "stdout",
          "output_type": "stream",
          "text": [
            "<class 'pandas.core.frame.DataFrame'>\n",
            "RangeIndex: 18068 entries, 0 to 18067\n",
            "Data columns (total 4 columns):\n",
            " #   Column    Non-Null Count  Dtype         \n",
            "---  ------    --------------  -----         \n",
            " 0   user_id   18068 non-null  int64         \n",
            " 1   distance  18068 non-null  float64       \n",
            " 2   duration  18068 non-null  float64       \n",
            " 3   date      18068 non-null  datetime64[ns]\n",
            "dtypes: datetime64[ns](1), float64(2), int64(1)\n",
            "memory usage: 564.8 KB\n"
          ]
        }
      ],
      "source": [
        "rides['date'] = pd.to_datetime(rides['date'], format='%Y-%m-%d') #меняем тип на datetime\n",
        "rides.info() #и проверяем, что изменения прошли успешно"
      ]
    },
    {
      "cell_type": "markdown",
      "id": "a2115229",
      "metadata": {
        "id": "a2115229"
      },
      "source": [
        "#### Cоздадим новый столбец month с номером месяца на основе столбца date:"
      ]
    },
    {
      "cell_type": "code",
      "execution_count": null,
      "id": "6d4d2da0",
      "metadata": {
        "id": "6d4d2da0",
        "outputId": "59209878-ebde-4f8d-f238-961ac7489362"
      },
      "outputs": [
        {
          "data": {
            "text/html": [
              "<div>\n",
              "<style scoped>\n",
              "    .dataframe tbody tr th:only-of-type {\n",
              "        vertical-align: middle;\n",
              "    }\n",
              "\n",
              "    .dataframe tbody tr th {\n",
              "        vertical-align: top;\n",
              "    }\n",
              "\n",
              "    .dataframe thead th {\n",
              "        text-align: right;\n",
              "    }\n",
              "</style>\n",
              "<table border=\"1\" class=\"dataframe\">\n",
              "  <thead>\n",
              "    <tr style=\"text-align: right;\">\n",
              "      <th></th>\n",
              "      <th>user_id</th>\n",
              "      <th>distance</th>\n",
              "      <th>duration</th>\n",
              "      <th>date</th>\n",
              "      <th>month</th>\n",
              "    </tr>\n",
              "  </thead>\n",
              "  <tbody>\n",
              "    <tr>\n",
              "      <th>0</th>\n",
              "      <td>1</td>\n",
              "      <td>4409.919140</td>\n",
              "      <td>25.599769</td>\n",
              "      <td>2021-01-01</td>\n",
              "      <td>1</td>\n",
              "    </tr>\n",
              "    <tr>\n",
              "      <th>1</th>\n",
              "      <td>1</td>\n",
              "      <td>2617.592153</td>\n",
              "      <td>15.816871</td>\n",
              "      <td>2021-01-18</td>\n",
              "      <td>1</td>\n",
              "    </tr>\n",
              "    <tr>\n",
              "      <th>2</th>\n",
              "      <td>1</td>\n",
              "      <td>754.159807</td>\n",
              "      <td>6.232113</td>\n",
              "      <td>2021-04-20</td>\n",
              "      <td>4</td>\n",
              "    </tr>\n",
              "    <tr>\n",
              "      <th>3</th>\n",
              "      <td>1</td>\n",
              "      <td>2694.783254</td>\n",
              "      <td>18.511000</td>\n",
              "      <td>2021-08-11</td>\n",
              "      <td>8</td>\n",
              "    </tr>\n",
              "    <tr>\n",
              "      <th>4</th>\n",
              "      <td>1</td>\n",
              "      <td>4028.687306</td>\n",
              "      <td>26.265803</td>\n",
              "      <td>2021-08-28</td>\n",
              "      <td>8</td>\n",
              "    </tr>\n",
              "  </tbody>\n",
              "</table>\n",
              "</div>"
            ],
            "text/plain": [
              "   user_id     distance   duration       date  month\n",
              "0        1  4409.919140  25.599769 2021-01-01      1\n",
              "1        1  2617.592153  15.816871 2021-01-18      1\n",
              "2        1   754.159807   6.232113 2021-04-20      4\n",
              "3        1  2694.783254  18.511000 2021-08-11      8\n",
              "4        1  4028.687306  26.265803 2021-08-28      8"
            ]
          },
          "execution_count": 12,
          "metadata": {},
          "output_type": "execute_result"
        }
      ],
      "source": [
        "rides['month'] = rides['date'].dt.month #создаём новый столбец с номером месяца\n",
        "rides.head() #и проверяем, что изменения прошли успешно"
      ]
    },
    {
      "cell_type": "code",
      "execution_count": null,
      "id": "24722b1e",
      "metadata": {
        "id": "24722b1e",
        "outputId": "090c1d5e-ca96-4647-83f6-41cd7cba61bf"
      },
      "outputs": [
        {
          "data": {
            "text/plain": [
              "Timestamp('2021-01-01 00:00:00')"
            ]
          },
          "execution_count": 13,
          "metadata": {},
          "output_type": "execute_result"
        }
      ],
      "source": [
        "rides['date'].min()"
      ]
    },
    {
      "cell_type": "code",
      "execution_count": null,
      "id": "90e1b233",
      "metadata": {
        "scrolled": true,
        "id": "90e1b233",
        "outputId": "9548c88f-48df-4a28-ce22-189342869672"
      },
      "outputs": [
        {
          "data": {
            "text/plain": [
              "Timestamp('2021-12-30 00:00:00')"
            ]
          },
          "execution_count": 14,
          "metadata": {},
          "output_type": "execute_result"
        }
      ],
      "source": [
        "rides['date'].max()"
      ]
    },
    {
      "cell_type": "markdown",
      "id": "85ea99dc",
      "metadata": {
        "id": "85ea99dc"
      },
      "source": [
        "У нас есть данные за весь 2021 год."
      ]
    },
    {
      "cell_type": "markdown",
      "id": "9d7a7959",
      "metadata": {
        "id": "9d7a7959"
      },
      "source": [
        "#### Проверим наличие пропущенных значений и дубликатов в датафреймах:"
      ]
    },
    {
      "cell_type": "code",
      "execution_count": null,
      "id": "51a1e03c",
      "metadata": {
        "id": "51a1e03c",
        "outputId": "b056a145-cf39-46e8-d31e-c2af740fdfd4"
      },
      "outputs": [
        {
          "data": {
            "text/plain": [
              "user_id              0\n",
              "name                 0\n",
              "age                  0\n",
              "city                 0\n",
              "subscription_type    0\n",
              "dtype: int64"
            ]
          },
          "execution_count": 15,
          "metadata": {},
          "output_type": "execute_result"
        }
      ],
      "source": [
        "users.isna().sum() #узнаем количество пропусков в каждом столбце датафрейма users"
      ]
    },
    {
      "cell_type": "markdown",
      "id": "fcd67f81",
      "metadata": {
        "id": "fcd67f81"
      },
      "source": [
        "Пропусков нет."
      ]
    },
    {
      "cell_type": "code",
      "execution_count": null,
      "id": "9ec078b4",
      "metadata": {
        "id": "9ec078b4",
        "outputId": "490e4233-00aa-4ddb-ddf2-199c1498cb8e"
      },
      "outputs": [
        {
          "data": {
            "text/plain": [
              "31"
            ]
          },
          "execution_count": 16,
          "metadata": {},
          "output_type": "execute_result"
        }
      ],
      "source": [
        "users.duplicated().sum() #теперь узнаем количество явных дубликатов в этом датафрейме"
      ]
    },
    {
      "cell_type": "code",
      "execution_count": null,
      "id": "5b67f3e9",
      "metadata": {
        "id": "5b67f3e9",
        "outputId": "95be27c8-25b5-4772-b0a9-a3c82a5e2890"
      },
      "outputs": [
        {
          "data": {
            "text/plain": [
              "0"
            ]
          },
          "execution_count": 17,
          "metadata": {},
          "output_type": "execute_result"
        }
      ],
      "source": [
        "users = users.drop_duplicates() #устраняем явные дубликаты\n",
        "users.duplicated().sum() #и проверяем, что изменения прошли успешно"
      ]
    },
    {
      "cell_type": "markdown",
      "id": "4f63e3b9",
      "metadata": {
        "id": "4f63e3b9"
      },
      "source": [
        "Теперь явных дубликатов нет. Посмотрим, есть ли неявные дубликаты - неправильно записанные имена или названия городов."
      ]
    },
    {
      "cell_type": "code",
      "execution_count": null,
      "id": "4adb47a5",
      "metadata": {
        "id": "4adb47a5",
        "outputId": "c5e2263b-e3fd-41a9-fa97-127c38168aa8"
      },
      "outputs": [
        {
          "data": {
            "text/plain": [
              "array(['Кира', 'Станислав', 'Алексей', 'Константин', 'Адель', 'Регина',\n",
              "       'Игорь', 'Юрий', 'Ян', 'Валерий', 'Агата', 'Марк', 'Ева',\n",
              "       'Антонина', 'Валерия', 'Амалия', 'Даниил', 'Аделина', 'Святогор',\n",
              "       'Борис', 'Вероника', 'Ростислав', 'Назар', 'Эдуард', 'Василий',\n",
              "       'Денис', 'Тамара', 'Николай', 'Эвелина', 'Федор', 'Руслан', 'Иван',\n",
              "       'Любовь', 'Ярослава', 'Майя', 'Ильдар', 'Данила', 'Нина',\n",
              "       'Стефания', 'Ясмина', 'Дмитрий', 'Александр', 'Одиссей', 'Арсений',\n",
              "       'Алла', 'Таисия', 'Максим', 'Юлиана', 'Павел', 'Карина', 'Алиса',\n",
              "       'Лидия', 'Рамиль', 'Родион', 'Ника', 'Оксана', 'Анастасия',\n",
              "       'Маргарита', 'Вера', 'Тимур', 'Никита', 'Лев', 'Влад', 'Артур',\n",
              "       'Анна', 'Ольга', 'Вячеслав', 'Ксения', 'Виталина', 'Владислав',\n",
              "       'Тамерлан', 'Амина', 'Вадим', 'Олеся', 'Зарина', 'Егор', 'Гордей',\n",
              "       'Лилия', 'Святослав', 'Роберт', 'Амир', 'Влада', 'Богдан',\n",
              "       'Полина', 'Марат', 'Елисей', 'Макар', 'Алина', 'Глеб', 'Андрей',\n",
              "       'Альбина', 'Людмила', 'Марсель', 'Милена', 'Диана', 'Дарина',\n",
              "       'Данил', 'Артемий', 'Лиана', 'Альберт', 'Герман', 'Жанна', 'Нелли',\n",
              "       'Евгения', 'Ариана', 'Самира', 'Захар', 'Эльвира', 'Екатерина',\n",
              "       'Инна', 'Демид', 'Яна', 'Михаил', 'Татьяна', 'Степан', 'Мелания',\n",
              "       'Тимофей', 'Ирина', 'Анжелика', 'Владислава', 'Елизавета',\n",
              "       'Мадина', 'Снежана', 'Даниэль', 'Рустам', 'Каролина', 'Ангелина',\n",
              "       'Владимир', 'Виктория', 'Валентина', 'Семен', 'Арина', 'Лариса',\n",
              "       'Есения', 'Галина', 'Кирилл', 'Игнат', 'Виталий', 'Эмилия',\n",
              "       'Виолетта', 'Яромир', 'Софья', 'Мирослава', 'Евгений', 'Варвара',\n",
              "       'Платон', 'Наталия', 'Анатолий', 'Кристина', 'Всеволод', 'Дарья',\n",
              "       'Наташа', 'Мария', 'Марина', 'Василиса', 'Юлия', 'Илья', 'Злата',\n",
              "       'Роман', 'Наталья', 'Элина', 'Арсен', 'Айдар', 'Алия', 'Виктор',\n",
              "       'Мирон', 'Ульяна', 'Георгий', 'Петр', 'Эльмира', 'Олег', 'Дамир',\n",
              "       'Самир', 'Ярослав', 'Камилла', 'Сергей', 'Эмиль', 'Радмир',\n",
              "       'Савелий', 'Елена', 'Антон', 'Мирослав', 'София', 'Тихон', 'Артём',\n",
              "       'Давид', 'Григорий', 'Алёна', 'Светлана', 'Леонид', 'Александра',\n",
              "       'Василина', 'Милана', 'Матвей'], dtype=object)"
            ]
          },
          "execution_count": 18,
          "metadata": {},
          "output_type": "execute_result"
        }
      ],
      "source": [
        "users['name'].unique()"
      ]
    },
    {
      "cell_type": "code",
      "execution_count": null,
      "id": "1f08450e",
      "metadata": {
        "id": "1f08450e",
        "outputId": "d4ae402e-9cd4-430c-ed54-b5129ae84f16"
      },
      "outputs": [
        {
          "data": {
            "text/plain": [
              "array(['Тюмень', 'Омск', 'Москва', 'Ростов-на-Дону', 'Краснодар',\n",
              "       'Пятигорск', 'Екатеринбург', 'Сочи'], dtype=object)"
            ]
          },
          "execution_count": 19,
          "metadata": {},
          "output_type": "execute_result"
        }
      ],
      "source": [
        "users['city'].unique()"
      ]
    },
    {
      "cell_type": "markdown",
      "id": "fb7b2c3f",
      "metadata": {
        "id": "fb7b2c3f"
      },
      "source": [
        "В этих столбцах неявных дубликатов нет, можно двигаться дальше."
      ]
    },
    {
      "cell_type": "code",
      "execution_count": null,
      "id": "bb910989",
      "metadata": {
        "scrolled": false,
        "id": "bb910989",
        "outputId": "499934ee-418f-4ab6-f25c-754f17c25c21"
      },
      "outputs": [
        {
          "data": {
            "text/plain": [
              "user_id     0\n",
              "distance    0\n",
              "duration    0\n",
              "date        0\n",
              "month       0\n",
              "dtype: int64"
            ]
          },
          "execution_count": 20,
          "metadata": {},
          "output_type": "execute_result"
        }
      ],
      "source": [
        "rides.isna().sum() #узнаем количество пропусков в каждом столбце датафрейма rides"
      ]
    },
    {
      "cell_type": "markdown",
      "id": "b0131a61",
      "metadata": {
        "id": "b0131a61"
      },
      "source": [
        "Пропусков также нет."
      ]
    },
    {
      "cell_type": "code",
      "execution_count": null,
      "id": "3229bc09",
      "metadata": {
        "id": "3229bc09",
        "outputId": "2515238e-4901-4a0b-e0db-7977558d627e"
      },
      "outputs": [
        {
          "data": {
            "text/plain": [
              "0"
            ]
          },
          "execution_count": 21,
          "metadata": {},
          "output_type": "execute_result"
        }
      ],
      "source": [
        "rides.duplicated().sum() #теперь узнаем количество явных дубликатов в этом датафрейме"
      ]
    },
    {
      "cell_type": "markdown",
      "id": "ef8de1ad",
      "metadata": {
        "id": "ef8de1ad"
      },
      "source": [
        "И явных дубликатов тоже нет. Неявных дубликатов в этом датафрейме не может быть, так как здесь нет столбцов с текстовым типом данных.\n",
        "В последнем датафрейме subscriptions всего две строки с информацией о тарифах - мы видели этот датафрейм целиком в шаге 1 и убедились, что там нет ни пропусков, ни дубликатов."
      ]
    },
    {
      "cell_type": "markdown",
      "id": "15cc2cc2",
      "metadata": {
        "id": "15cc2cc2"
      },
      "source": [
        "**Вывод:**\n",
        "- мы изменили тип данных в столбце date в датафрейме rides на datetime для удобства работы;\n",
        "- создали новый столбец month с номером месяца на основе столбца date;\n",
        "- посмотрели, за какой срок у нас есть данные;\n",
        "- обработали неявные дубликаты;\n",
        "- убедились в отсутствии пропусков, явных и неявных дубликатов во всех датафреймах после обработки."
      ]
    },
    {
      "cell_type": "markdown",
      "id": "087c999a",
      "metadata": {
        "id": "087c999a"
      },
      "source": [
        "### Шаг 3. Исследовательский анализ данных"
      ]
    },
    {
      "cell_type": "markdown",
      "id": "7254fcec",
      "metadata": {
        "id": "7254fcec"
      },
      "source": [
        "В этом шаге мы опишем и визуализируем общую информацию о пользователях и поездках."
      ]
    },
    {
      "cell_type": "markdown",
      "id": "65a597f3",
      "metadata": {
        "id": "65a597f3"
      },
      "source": [
        "#### Частота встречаемости городов"
      ]
    },
    {
      "cell_type": "code",
      "execution_count": null,
      "id": "6627dde4",
      "metadata": {
        "id": "6627dde4"
      },
      "outputs": [],
      "source": [
        "#users['city'].hist(bins=8, figsize=(10, 7)) #построим гистограмму для столбца city с названиями городов датафрейма users\n",
        "#plt.title('Частота встречаемости городов')\n",
        "#plt.xlabel('Название города')\n",
        "#plt.ylabel('Частота')\n",
        "#plt.show()"
      ]
    },
    {
      "cell_type": "code",
      "execution_count": null,
      "id": "abf81150",
      "metadata": {
        "id": "abf81150",
        "outputId": "002c67c0-c834-48eb-c810-b9f3a10b6db2"
      },
      "outputs": [
        {
          "data": {
            "text/plain": [
              "Пятигорск         219\n",
              "Екатеринбург      204\n",
              "Ростов-на-Дону    198\n",
              "Краснодар         193\n",
              "Сочи              189\n",
              "Омск              183\n",
              "Тюмень            180\n",
              "Москва            168\n",
              "Name: city, dtype: int64"
            ]
          },
          "execution_count": 23,
          "metadata": {},
          "output_type": "execute_result"
        }
      ],
      "source": [
        "users['city'].value_counts().sort_values(ascending=False) #выведем информацию о частоте, с которой встречаются города"
      ]
    },
    {
      "cell_type": "code",
      "execution_count": null,
      "id": "0a6f735e",
      "metadata": {
        "id": "0a6f735e",
        "outputId": "8a9687f0-d064-4f71-cd41-aca381fff82a"
      },
      "outputs": [
        {
          "data": {
            "image/png": "[encoded data removed]",
            "text/plain": [
              "<Figure size 720x360 with 1 Axes>"
            ]
          },
          "metadata": {
            "needs_background": "light"
          },
          "output_type": "display_data"
        }
      ],
      "source": [
        "#создадим переменные со списками городов и того, как часто они встречаются\n",
        "#и построим горизонтальную столбчатую диаграмму\n",
        "cities = ['Москва', 'Тюмень', 'Омск', 'Сочи', 'Краснодар', 'Ростов-на-Дону', 'Екатеринбург', 'Пятигорск']\n",
        "amt = [168, 180, 183, 189, 193, 198, 204, 219]\n",
        "plt.figure(figsize=(10, 5))\n",
        "plt.barh(cities, amt)\n",
        "plt.title('Частота встречаемости городов')\n",
        "plt.xlabel('Частота')\n",
        "plt.ylabel('Название города')\n",
        "plt.show()"
      ]
    },
    {
      "cell_type": "markdown",
      "id": "91d59be6",
      "metadata": {
        "id": "91d59be6"
      },
      "source": [
        "Чаще всего самокатами пользуются в Пятигорске (встречается в датафрейме 219 раз), Екатеринбурге и Ростове-на-Дону (встречаются 204 и 198 раз соответственно), наименьшей популярностью сервис пользуется в Москве (168 вхождений)."
      ]
    },
    {
      "cell_type": "markdown",
      "id": "feb6fde4",
      "metadata": {
        "id": "feb6fde4"
      },
      "source": [
        "#### Соотношение пользователей с подпиской и без подписки"
      ]
    },
    {
      "cell_type": "code",
      "execution_count": null,
      "id": "25bd69f7",
      "metadata": {
        "id": "25bd69f7"
      },
      "outputs": [],
      "source": [
        "#users['subscription_type'].hist(figsize=(7, 5)) #построим гистограмму для столбца subscription_type с типами подписок датафрейма users\n",
        "#plt.title('Соотношение пользователей с подпиской и без подписки')\n",
        "#plt.xlabel('Тип подписки')\n",
        "#plt.ylabel('Количество пользователей')\n",
        "#plt.show()"
      ]
    },
    {
      "cell_type": "code",
      "execution_count": null,
      "id": "46ed3452",
      "metadata": {
        "id": "46ed3452",
        "outputId": "fb51012e-846d-4ed1-925d-9b148992f5d4"
      },
      "outputs": [
        {
          "data": {
            "text/plain": [
              "free     835\n",
              "ultra    699\n",
              "Name: subscription_type, dtype: int64"
            ]
          },
          "execution_count": 26,
          "metadata": {},
          "output_type": "execute_result"
        }
      ],
      "source": [
        "users['subscription_type'].value_counts() #узнаем точное количество значений в каждой группе"
      ]
    },
    {
      "cell_type": "code",
      "execution_count": null,
      "id": "a63f7971",
      "metadata": {
        "id": "a63f7971",
        "outputId": "1ffb8bb7-f39a-4a8b-fef1-94701bd17a7a"
      },
      "outputs": [
        {
          "data": {
            "image/png": "[encoded data removed]",
            "text/plain": [
              "<Figure size 432x288 with 1 Axes>"
            ]
          },
          "metadata": {},
          "output_type": "display_data"
        }
      ],
      "source": [
        "#и построим круговую диаграмму\n",
        "vals = [835, 699]\n",
        "labels = ['free', 'ultra']\n",
        "\n",
        "fig, ax = plt.subplots()\n",
        "ax.pie(vals, labels=labels, autopct='%1.1f%%')\n",
        "\n",
        "plt.show()"
      ]
    },
    {
      "cell_type": "markdown",
      "id": "113ea38f",
      "metadata": {
        "id": "113ea38f"
      },
      "source": [
        "54,4% пользователей пользуется бесплатным тарифом, в то время как подпиской пользуются 45,6%."
      ]
    },
    {
      "cell_type": "markdown",
      "id": "f328e700",
      "metadata": {
        "id": "f328e700"
      },
      "source": [
        "#### Возраст пользователей"
      ]
    },
    {
      "cell_type": "code",
      "execution_count": null,
      "id": "9ec312d5",
      "metadata": {
        "id": "9ec312d5",
        "outputId": "fdeb17f9-a7aa-4342-aab9-0a8d80bdbb46"
      },
      "outputs": [
        {
          "data": {
            "image/png": "[encoded data removed]",
            "text/plain": [
              "<Figure size 864x504 with 1 Axes>"
            ]
          },
          "metadata": {
            "needs_background": "light"
          },
          "output_type": "display_data"
        }
      ],
      "source": [
        "users['age'].hist(bins=30, figsize=(12, 7)) #построим гистограмму для столбца age с возрастом пользователей датафрейма users\n",
        "plt.title('Возраст пользователей')\n",
        "plt.xlabel('Возраст в годах')\n",
        "plt.ylabel('Количество пользователей')\n",
        "plt.show()"
      ]
    },
    {
      "cell_type": "code",
      "execution_count": null,
      "id": "06912dcf",
      "metadata": {
        "id": "06912dcf",
        "outputId": "742c2d82-4238-48cd-8367-ebd4103566e7"
      },
      "outputs": [
        {
          "data": {
            "text/plain": [
              "count    1534.000000\n",
              "mean       24.903520\n",
              "std         4.572367\n",
              "min        12.000000\n",
              "25%        22.000000\n",
              "50%        25.000000\n",
              "75%        28.000000\n",
              "max        43.000000\n",
              "Name: age, dtype: float64"
            ]
          },
          "execution_count": 29,
          "metadata": {},
          "output_type": "execute_result"
        }
      ],
      "source": [
        "users['age'].describe()"
      ]
    },
    {
      "cell_type": "markdown",
      "id": "90dd840c",
      "metadata": {
        "id": "90dd840c"
      },
      "source": [
        "Чаще всего самокатами пользуются люди в возрасте от 21 до 28 лет, пик приходится на 25-летних пользователей. Меньше всего пользователей в возрасте до 15 и старше 35 лет."
      ]
    },
    {
      "cell_type": "markdown",
      "id": "f0a56796",
      "metadata": {
        "id": "f0a56796"
      },
      "source": [
        "#### Расстояние, которое пользователь преодолел за одну поездку"
      ]
    },
    {
      "cell_type": "code",
      "execution_count": null,
      "id": "516ed3cf",
      "metadata": {
        "id": "516ed3cf",
        "outputId": "4d7c3905-8e7f-4d68-e85c-28786df74e67"
      },
      "outputs": [
        {
          "data": {
            "image/png": "[encoded data removed]",
            "text/plain": [
              "<Figure size 864x504 with 1 Axes>"
            ]
          },
          "metadata": {
            "needs_background": "light"
          },
          "output_type": "display_data"
        }
      ],
      "source": [
        "rides['distance'].hist(bins=25, figsize=(12, 7)) #построим гистограмму для столбца distance с расстоянием поездки датафрейма rides\n",
        "plt.title('Расстояние, которое пользователь преодолел за одну поездку')\n",
        "plt.xlabel('Расстояние в метрах')\n",
        "plt.ylabel('Количество поездок')\n",
        "plt.show()"
      ]
    },
    {
      "cell_type": "markdown",
      "id": "a167f52e",
      "metadata": {
        "id": "a167f52e"
      },
      "source": [
        "Чаще всего пользователи совершают поездки на расстояние около 3 км - таких пользователей более 2400. Также есть небольшой всплеск в районе коротких поездок на 600-800 м. Можно предположить, что это объясняется тем, что самокаты чаще всего берут для двух целей: чтобы по-быстрому куда-то доехать (работа, учёба, метро) - это поездки до 1 км, - и для прогулок - это поездки в районе 3 км. Реже всего пользователи проезжают 6 и более км."
      ]
    },
    {
      "cell_type": "markdown",
      "id": "83426eaf",
      "metadata": {
        "id": "83426eaf"
      },
      "source": [
        "#### Продолжительность поездок"
      ]
    },
    {
      "cell_type": "code",
      "execution_count": null,
      "id": "df91bc5b",
      "metadata": {
        "id": "df91bc5b",
        "outputId": "31fc6d9d-eb9f-4292-8956-6044242d80e1"
      },
      "outputs": [
        {
          "data": {
            "image/png": "[encoded data removed]",
            "text/plain": [
              "<Figure size 864x504 with 1 Axes>"
            ]
          },
          "metadata": {
            "needs_background": "light"
          },
          "output_type": "display_data"
        }
      ],
      "source": [
        "rides['duration'].hist(bins=30, figsize=(12, 7)) #построим гистограмму для столбца duration со временем поездки датафрейма rides\n",
        "plt.title('Продолжительность поездок')\n",
        "plt.xlabel('Время в минутах')\n",
        "plt.ylabel('Количество поездок')\n",
        "plt.show()"
      ]
    },
    {
      "cell_type": "markdown",
      "id": "db9a1ca1",
      "metadata": {
        "id": "db9a1ca1"
      },
      "source": [
        "Большинство поездок длятся от 15 до 20 минут. Реже всего самокаты берут на более длительные поездки более 30 минут."
      ]
    },
    {
      "cell_type": "markdown",
      "id": "6cc53e51",
      "metadata": {
        "id": "6cc53e51"
      },
      "source": [
        "**Вывод:** мы визуализировали и изучили общую информацию о пользователях и поездках:\n",
        "- чаще всего самокатами пользуются в Пятигорске (встречается в датафрейме 219 раз), Екатеринбурге и Ростове-на-Дону (встречаются 204 и 198 раз соответственно), наименьшей популярностью сервис пользуется в Москве (168 вхождений).;\n",
        "- 54,4% пользователей пользуется бесплатным тарифом, в то время как подпиской пользуются 45,6%;\n",
        "- чаще всего самокатами пользуются люди в возрасте от 21 до 28 лет (пик приходится на 25-летних пользователей), реже всего - пользователи в возрасте до 15 и старше 35 лет;\n",
        "- чаще всего пользователи совершают поездки на расстояние около 3 км - таких пользователей более 2400, также есть небольшой всплеск в районе коротких поездок на 600-800 м. Реже всего пользователи проезжают 6 и более км;\n",
        "- большинство поездок длятся от 15 до 20 минут, реже всего самокаты берут на поездки более 30 минут."
      ]
    },
    {
      "cell_type": "markdown",
      "id": "c181a4f1",
      "metadata": {
        "id": "c181a4f1"
      },
      "source": [
        "### Шаг 4. Объединение данных"
      ]
    },
    {
      "cell_type": "markdown",
      "id": "a4321528",
      "metadata": {
        "id": "a4321528"
      },
      "source": [
        "#### Объединим данные о пользователях, поездках и подписках в один датафрейм."
      ]
    },
    {
      "cell_type": "code",
      "execution_count": null,
      "id": "0ad761bb",
      "metadata": {
        "id": "0ad761bb",
        "outputId": "ff82e5e2-f945-44db-9610-2275b5c0cb9e"
      },
      "outputs": [
        {
          "data": {
            "text/html": [
              "<div>\n",
              "<style scoped>\n",
              "    .dataframe tbody tr th:only-of-type {\n",
              "        vertical-align: middle;\n",
              "    }\n",
              "\n",
              "    .dataframe tbody tr th {\n",
              "        vertical-align: top;\n",
              "    }\n",
              "\n",
              "    .dataframe thead th {\n",
              "        text-align: right;\n",
              "    }\n",
              "</style>\n",
              "<table border=\"1\" class=\"dataframe\">\n",
              "  <thead>\n",
              "    <tr style=\"text-align: right;\">\n",
              "      <th></th>\n",
              "      <th>user_id</th>\n",
              "      <th>name</th>\n",
              "      <th>age</th>\n",
              "      <th>city</th>\n",
              "      <th>subscription_type</th>\n",
              "      <th>distance</th>\n",
              "      <th>duration</th>\n",
              "      <th>date</th>\n",
              "      <th>month</th>\n",
              "      <th>minute_price</th>\n",
              "      <th>start_ride_price</th>\n",
              "      <th>subscription_fee</th>\n",
              "    </tr>\n",
              "  </thead>\n",
              "  <tbody>\n",
              "    <tr>\n",
              "      <th>0</th>\n",
              "      <td>1</td>\n",
              "      <td>Кира</td>\n",
              "      <td>22</td>\n",
              "      <td>Тюмень</td>\n",
              "      <td>ultra</td>\n",
              "      <td>4409.919140</td>\n",
              "      <td>25.599769</td>\n",
              "      <td>2021-01-01</td>\n",
              "      <td>1</td>\n",
              "      <td>6</td>\n",
              "      <td>0</td>\n",
              "      <td>199</td>\n",
              "    </tr>\n",
              "    <tr>\n",
              "      <th>1</th>\n",
              "      <td>1</td>\n",
              "      <td>Кира</td>\n",
              "      <td>22</td>\n",
              "      <td>Тюмень</td>\n",
              "      <td>ultra</td>\n",
              "      <td>2617.592153</td>\n",
              "      <td>15.816871</td>\n",
              "      <td>2021-01-18</td>\n",
              "      <td>1</td>\n",
              "      <td>6</td>\n",
              "      <td>0</td>\n",
              "      <td>199</td>\n",
              "    </tr>\n",
              "    <tr>\n",
              "      <th>2</th>\n",
              "      <td>1</td>\n",
              "      <td>Кира</td>\n",
              "      <td>22</td>\n",
              "      <td>Тюмень</td>\n",
              "      <td>ultra</td>\n",
              "      <td>754.159807</td>\n",
              "      <td>6.232113</td>\n",
              "      <td>2021-04-20</td>\n",
              "      <td>4</td>\n",
              "      <td>6</td>\n",
              "      <td>0</td>\n",
              "      <td>199</td>\n",
              "    </tr>\n",
              "    <tr>\n",
              "      <th>3</th>\n",
              "      <td>1</td>\n",
              "      <td>Кира</td>\n",
              "      <td>22</td>\n",
              "      <td>Тюмень</td>\n",
              "      <td>ultra</td>\n",
              "      <td>2694.783254</td>\n",
              "      <td>18.511000</td>\n",
              "      <td>2021-08-11</td>\n",
              "      <td>8</td>\n",
              "      <td>6</td>\n",
              "      <td>0</td>\n",
              "      <td>199</td>\n",
              "    </tr>\n",
              "    <tr>\n",
              "      <th>4</th>\n",
              "      <td>1</td>\n",
              "      <td>Кира</td>\n",
              "      <td>22</td>\n",
              "      <td>Тюмень</td>\n",
              "      <td>ultra</td>\n",
              "      <td>4028.687306</td>\n",
              "      <td>26.265803</td>\n",
              "      <td>2021-08-28</td>\n",
              "      <td>8</td>\n",
              "      <td>6</td>\n",
              "      <td>0</td>\n",
              "      <td>199</td>\n",
              "    </tr>\n",
              "    <tr>\n",
              "      <th>5</th>\n",
              "      <td>1</td>\n",
              "      <td>Кира</td>\n",
              "      <td>22</td>\n",
              "      <td>Тюмень</td>\n",
              "      <td>ultra</td>\n",
              "      <td>2770.890808</td>\n",
              "      <td>16.650138</td>\n",
              "      <td>2021-10-09</td>\n",
              "      <td>10</td>\n",
              "      <td>6</td>\n",
              "      <td>0</td>\n",
              "      <td>199</td>\n",
              "    </tr>\n",
              "    <tr>\n",
              "      <th>6</th>\n",
              "      <td>1</td>\n",
              "      <td>Кира</td>\n",
              "      <td>22</td>\n",
              "      <td>Тюмень</td>\n",
              "      <td>ultra</td>\n",
              "      <td>3039.020292</td>\n",
              "      <td>14.927879</td>\n",
              "      <td>2021-10-19</td>\n",
              "      <td>10</td>\n",
              "      <td>6</td>\n",
              "      <td>0</td>\n",
              "      <td>199</td>\n",
              "    </tr>\n",
              "    <tr>\n",
              "      <th>7</th>\n",
              "      <td>1</td>\n",
              "      <td>Кира</td>\n",
              "      <td>22</td>\n",
              "      <td>Тюмень</td>\n",
              "      <td>ultra</td>\n",
              "      <td>2842.118050</td>\n",
              "      <td>23.117468</td>\n",
              "      <td>2021-11-06</td>\n",
              "      <td>11</td>\n",
              "      <td>6</td>\n",
              "      <td>0</td>\n",
              "      <td>199</td>\n",
              "    </tr>\n",
              "    <tr>\n",
              "      <th>8</th>\n",
              "      <td>1</td>\n",
              "      <td>Кира</td>\n",
              "      <td>22</td>\n",
              "      <td>Тюмень</td>\n",
              "      <td>ultra</td>\n",
              "      <td>3412.690668</td>\n",
              "      <td>15.238072</td>\n",
              "      <td>2021-11-14</td>\n",
              "      <td>11</td>\n",
              "      <td>6</td>\n",
              "      <td>0</td>\n",
              "      <td>199</td>\n",
              "    </tr>\n",
              "    <tr>\n",
              "      <th>9</th>\n",
              "      <td>1</td>\n",
              "      <td>Кира</td>\n",
              "      <td>22</td>\n",
              "      <td>Тюмень</td>\n",
              "      <td>ultra</td>\n",
              "      <td>748.690645</td>\n",
              "      <td>15.041884</td>\n",
              "      <td>2021-11-22</td>\n",
              "      <td>11</td>\n",
              "      <td>6</td>\n",
              "      <td>0</td>\n",
              "      <td>199</td>\n",
              "    </tr>\n",
              "    <tr>\n",
              "      <th>10</th>\n",
              "      <td>1</td>\n",
              "      <td>Кира</td>\n",
              "      <td>22</td>\n",
              "      <td>Тюмень</td>\n",
              "      <td>ultra</td>\n",
              "      <td>4031.020195</td>\n",
              "      <td>17.674448</td>\n",
              "      <td>2021-12-14</td>\n",
              "      <td>12</td>\n",
              "      <td>6</td>\n",
              "      <td>0</td>\n",
              "      <td>199</td>\n",
              "    </tr>\n",
              "    <tr>\n",
              "      <th>11</th>\n",
              "      <td>1</td>\n",
              "      <td>Кира</td>\n",
              "      <td>22</td>\n",
              "      <td>Тюмень</td>\n",
              "      <td>ultra</td>\n",
              "      <td>2720.609748</td>\n",
              "      <td>9.529463</td>\n",
              "      <td>2021-12-22</td>\n",
              "      <td>12</td>\n",
              "      <td>6</td>\n",
              "      <td>0</td>\n",
              "      <td>199</td>\n",
              "    </tr>\n",
              "    <tr>\n",
              "      <th>12</th>\n",
              "      <td>2</td>\n",
              "      <td>Станислав</td>\n",
              "      <td>31</td>\n",
              "      <td>Омск</td>\n",
              "      <td>ultra</td>\n",
              "      <td>3105.086678</td>\n",
              "      <td>24.307514</td>\n",
              "      <td>2021-03-15</td>\n",
              "      <td>3</td>\n",
              "      <td>6</td>\n",
              "      <td>0</td>\n",
              "      <td>199</td>\n",
              "    </tr>\n",
              "    <tr>\n",
              "      <th>13</th>\n",
              "      <td>2</td>\n",
              "      <td>Станислав</td>\n",
              "      <td>31</td>\n",
              "      <td>Омск</td>\n",
              "      <td>ultra</td>\n",
              "      <td>3053.519401</td>\n",
              "      <td>11.543256</td>\n",
              "      <td>2021-03-18</td>\n",
              "      <td>3</td>\n",
              "      <td>6</td>\n",
              "      <td>0</td>\n",
              "      <td>199</td>\n",
              "    </tr>\n",
              "    <tr>\n",
              "      <th>14</th>\n",
              "      <td>2</td>\n",
              "      <td>Станислав</td>\n",
              "      <td>31</td>\n",
              "      <td>Омск</td>\n",
              "      <td>ultra</td>\n",
              "      <td>4029.116927</td>\n",
              "      <td>25.109188</td>\n",
              "      <td>2021-03-23</td>\n",
              "      <td>3</td>\n",
              "      <td>6</td>\n",
              "      <td>0</td>\n",
              "      <td>199</td>\n",
              "    </tr>\n",
              "  </tbody>\n",
              "</table>\n",
              "</div>"
            ],
            "text/plain": [
              "    user_id       name  age    city subscription_type     distance   duration  \\\n",
              "0         1       Кира   22  Тюмень             ultra  4409.919140  25.599769   \n",
              "1         1       Кира   22  Тюмень             ultra  2617.592153  15.816871   \n",
              "2         1       Кира   22  Тюмень             ultra   754.159807   6.232113   \n",
              "3         1       Кира   22  Тюмень             ultra  2694.783254  18.511000   \n",
              "4         1       Кира   22  Тюмень             ultra  4028.687306  26.265803   \n",
              "5         1       Кира   22  Тюмень             ultra  2770.890808  16.650138   \n",
              "6         1       Кира   22  Тюмень             ultra  3039.020292  14.927879   \n",
              "7         1       Кира   22  Тюмень             ultra  2842.118050  23.117468   \n",
              "8         1       Кира   22  Тюмень             ultra  3412.690668  15.238072   \n",
              "9         1       Кира   22  Тюмень             ultra   748.690645  15.041884   \n",
              "10        1       Кира   22  Тюмень             ultra  4031.020195  17.674448   \n",
              "11        1       Кира   22  Тюмень             ultra  2720.609748   9.529463   \n",
              "12        2  Станислав   31    Омск             ultra  3105.086678  24.307514   \n",
              "13        2  Станислав   31    Омск             ultra  3053.519401  11.543256   \n",
              "14        2  Станислав   31    Омск             ultra  4029.116927  25.109188   \n",
              "\n",
              "         date  month  minute_price  start_ride_price  subscription_fee  \n",
              "0  2021-01-01      1             6                 0               199  \n",
              "1  2021-01-18      1             6                 0               199  \n",
              "2  2021-04-20      4             6                 0               199  \n",
              "3  2021-08-11      8             6                 0               199  \n",
              "4  2021-08-28      8             6                 0               199  \n",
              "5  2021-10-09     10             6                 0               199  \n",
              "6  2021-10-19     10             6                 0               199  \n",
              "7  2021-11-06     11             6                 0               199  \n",
              "8  2021-11-14     11             6                 0               199  \n",
              "9  2021-11-22     11             6                 0               199  \n",
              "10 2021-12-14     12             6                 0               199  \n",
              "11 2021-12-22     12             6                 0               199  \n",
              "12 2021-03-15      3             6                 0               199  \n",
              "13 2021-03-18      3             6                 0               199  \n",
              "14 2021-03-23      3             6                 0               199  "
            ]
          },
          "execution_count": 32,
          "metadata": {},
          "output_type": "execute_result"
        }
      ],
      "source": [
        "#сначала объединим датафреймы users и rides по столбцу user_id\n",
        "data = users.merge(rides, on='user_id', how='left')\n",
        "\n",
        "#затем объединим получившийся датафрейм и subscriptions по столбцу subscription_type\n",
        "data_merged = data.merge(subscriptions, on='subscription_type', how='left')\n",
        "data_merged.head(15) #выведем первые 15 строк получившегося датафрейм, чтобы убедиться, что объединение прошло успешно"
      ]
    },
    {
      "cell_type": "code",
      "execution_count": null,
      "id": "e9bc4f0f",
      "metadata": {
        "scrolled": true,
        "id": "e9bc4f0f",
        "outputId": "954cdbd8-1203-4fa4-94c8-fef1c42731d9"
      },
      "outputs": [
        {
          "name": "stdout",
          "output_type": "stream",
          "text": [
            "<class 'pandas.core.frame.DataFrame'>\n",
            "Int64Index: 18068 entries, 0 to 18067\n",
            "Data columns (total 12 columns):\n",
            " #   Column             Non-Null Count  Dtype         \n",
            "---  ------             --------------  -----         \n",
            " 0   user_id            18068 non-null  int64         \n",
            " 1   name               18068 non-null  object        \n",
            " 2   age                18068 non-null  int64         \n",
            " 3   city               18068 non-null  object        \n",
            " 4   subscription_type  18068 non-null  object        \n",
            " 5   distance           18068 non-null  float64       \n",
            " 6   duration           18068 non-null  float64       \n",
            " 7   date               18068 non-null  datetime64[ns]\n",
            " 8   month              18068 non-null  int64         \n",
            " 9   minute_price       18068 non-null  int64         \n",
            " 10  start_ride_price   18068 non-null  int64         \n",
            " 11  subscription_fee   18068 non-null  int64         \n",
            "dtypes: datetime64[ns](1), float64(2), int64(6), object(3)\n",
            "memory usage: 1.8+ MB\n"
          ]
        }
      ],
      "source": [
        "data_merged.info()"
      ]
    },
    {
      "cell_type": "markdown",
      "id": "199fd717",
      "metadata": {
        "id": "199fd717"
      },
      "source": [
        "Все строки и столбцы трёх исходных датафреймов на месте - можем двигаться дальше."
      ]
    },
    {
      "cell_type": "markdown",
      "id": "e034b0f4",
      "metadata": {
        "id": "e034b0f4"
      },
      "source": [
        "#### Создадим датафреймы с данными о пользователях без подписки и с подпиской."
      ]
    },
    {
      "cell_type": "code",
      "execution_count": null,
      "id": "126d2ea0",
      "metadata": {
        "id": "126d2ea0",
        "outputId": "e4bb3a44-7fbb-4abd-9385-0ab18918a3db"
      },
      "outputs": [
        {
          "data": {
            "text/html": [
              "<div>\n",
              "<style scoped>\n",
              "    .dataframe tbody tr th:only-of-type {\n",
              "        vertical-align: middle;\n",
              "    }\n",
              "\n",
              "    .dataframe tbody tr th {\n",
              "        vertical-align: top;\n",
              "    }\n",
              "\n",
              "    .dataframe thead th {\n",
              "        text-align: right;\n",
              "    }\n",
              "</style>\n",
              "<table border=\"1\" class=\"dataframe\">\n",
              "  <thead>\n",
              "    <tr style=\"text-align: right;\">\n",
              "      <th></th>\n",
              "      <th>user_id</th>\n",
              "      <th>name</th>\n",
              "      <th>age</th>\n",
              "      <th>city</th>\n",
              "      <th>subscription_type</th>\n",
              "      <th>distance</th>\n",
              "      <th>duration</th>\n",
              "      <th>date</th>\n",
              "      <th>month</th>\n",
              "      <th>minute_price</th>\n",
              "      <th>start_ride_price</th>\n",
              "      <th>subscription_fee</th>\n",
              "    </tr>\n",
              "  </thead>\n",
              "  <tbody>\n",
              "  </tbody>\n",
              "</table>\n",
              "</div>"
            ],
            "text/plain": [
              "Empty DataFrame\n",
              "Columns: [user_id, name, age, city, subscription_type, distance, duration, date, month, minute_price, start_ride_price, subscription_fee]\n",
              "Index: []"
            ]
          },
          "execution_count": 34,
          "metadata": {},
          "output_type": "execute_result"
        }
      ],
      "source": [
        "#создадим датафрейм с данными о пользователях без подписки\n",
        "\n",
        "#выбираем из объединённого датафрейма только строчки без подписки\n",
        "sub_free = data_merged.query('subscription_type == \"free\"')\n",
        "\n",
        "sub_free.query('subscription_type == \"ultra\"') #проверяем, что в новый датафрейм sub_free не попали строчки с платной подпиской"
      ]
    },
    {
      "cell_type": "code",
      "execution_count": null,
      "id": "a93a417e",
      "metadata": {
        "id": "a93a417e",
        "outputId": "a4ddee00-a91f-49ad-943c-0fe16253882e"
      },
      "outputs": [
        {
          "data": {
            "text/html": [
              "<div>\n",
              "<style scoped>\n",
              "    .dataframe tbody tr th:only-of-type {\n",
              "        vertical-align: middle;\n",
              "    }\n",
              "\n",
              "    .dataframe tbody tr th {\n",
              "        vertical-align: top;\n",
              "    }\n",
              "\n",
              "    .dataframe thead th {\n",
              "        text-align: right;\n",
              "    }\n",
              "</style>\n",
              "<table border=\"1\" class=\"dataframe\">\n",
              "  <thead>\n",
              "    <tr style=\"text-align: right;\">\n",
              "      <th></th>\n",
              "      <th>user_id</th>\n",
              "      <th>name</th>\n",
              "      <th>age</th>\n",
              "      <th>city</th>\n",
              "      <th>subscription_type</th>\n",
              "      <th>distance</th>\n",
              "      <th>duration</th>\n",
              "      <th>date</th>\n",
              "      <th>month</th>\n",
              "      <th>minute_price</th>\n",
              "      <th>start_ride_price</th>\n",
              "      <th>subscription_fee</th>\n",
              "    </tr>\n",
              "  </thead>\n",
              "  <tbody>\n",
              "  </tbody>\n",
              "</table>\n",
              "</div>"
            ],
            "text/plain": [
              "Empty DataFrame\n",
              "Columns: [user_id, name, age, city, subscription_type, distance, duration, date, month, minute_price, start_ride_price, subscription_fee]\n",
              "Index: []"
            ]
          },
          "execution_count": 35,
          "metadata": {},
          "output_type": "execute_result"
        }
      ],
      "source": [
        "#создадим датафрейм с данными о пользователях с подпиской\n",
        "\n",
        "#выбираем из объединённого датафрейма только строчки с платной подпиской\n",
        "sub_ultra = data_merged.query('subscription_type == \"ultra\"')\n",
        "sub_ultra.query('subscription_type == \"free\"') #проверяем, что в новый датафрейм sub_ultra не попали строчки с бесплатным тарифом"
      ]
    },
    {
      "cell_type": "markdown",
      "id": "8af05ff6",
      "metadata": {
        "id": "8af05ff6"
      },
      "source": [
        "#### Визуализируем информацию о расстоянии и времени поездок для пользователей обеих категорий."
      ]
    },
    {
      "cell_type": "code",
      "execution_count": null,
      "id": "c2d60656",
      "metadata": {
        "id": "c2d60656",
        "outputId": "09515c12-3c51-4ffa-d899-40856a21ed8a"
      },
      "outputs": [
        {
          "data": {
            "image/png": "[encoded data removed]",
            "text/plain": [
              "<Figure size 864x504 with 1 Axes>"
            ]
          },
          "metadata": {
            "needs_background": "light"
          },
          "output_type": "display_data"
        }
      ],
      "source": [
        "plt.figure(figsize=(12, 7))\n",
        "plt.grid(True)\n",
        "plt.hist(sub_free['distance'], bins=25, label='без подписки')\n",
        "plt.hist(sub_ultra['distance'], bins=25, label='с подпиской')\n",
        "plt.title('Расстояние, которое пользователи преодолели за одну поездку')\n",
        "plt.xlabel('Расстояние в метрах')\n",
        "plt.ylabel('Количество поездок')\n",
        "plt.legend(loc='upper left')\n",
        "plt.show()"
      ]
    },
    {
      "cell_type": "markdown",
      "id": "4913382c",
      "metadata": {
        "id": "4913382c"
      },
      "source": [
        "В среднем, пользователи без подписки чаще совершают поездки на 2,5-2,7 км и 3,5-3,7 км, в то время как пользователи с подпиской чаще проезжают 2,7-3,5 км. Также пользователи без подписки совершают больше поездок на расстояния меньше 1 км и больше 5 км."
      ]
    },
    {
      "cell_type": "code",
      "execution_count": null,
      "id": "36795000",
      "metadata": {
        "id": "36795000",
        "outputId": "addefb20-6514-48ca-f184-0cbcb8a30bd2"
      },
      "outputs": [
        {
          "data": {
            "image/png": "[encoded data removed]",
            "text/plain": [
              "<Figure size 864x504 with 1 Axes>"
            ]
          },
          "metadata": {
            "needs_background": "light"
          },
          "output_type": "display_data"
        }
      ],
      "source": [
        "plt.figure(figsize=(12, 7))\n",
        "plt.grid(True)\n",
        "plt.hist(sub_free['duration'], bins=30, label='без подписки')\n",
        "plt.hist(sub_ultra['duration'], bins=30, label='с подпиской')\n",
        "plt.title('Продолжительность поездок пользователей обеих групп')\n",
        "plt.xlabel('Время в минутах')\n",
        "plt.ylabel('Количество поездок')\n",
        "plt.legend(loc='upper left')\n",
        "plt.show()"
      ]
    },
    {
      "cell_type": "markdown",
      "id": "418748e8",
      "metadata": {
        "id": "418748e8"
      },
      "source": [
        "Для обеих категорий пользователей самое популярная длительность поездки - 15-20 минут. В то же время пользователи без подписки чаще берут самокат на короткий срок до 5 минут, а пользователи с подпиской - на длительные поездки больше 35 минут."
      ]
    },
    {
      "cell_type": "markdown",
      "id": "1e3db4c0",
      "metadata": {
        "id": "1e3db4c0"
      },
      "source": [
        "**Вывод:**\n",
        "- мы объединили данные о пользователях, поездках и подписках в один датафрейм;\n",
        "- создали датафреймы с данными о пользователях без подписки и с подпиской;\n",
        "- визуализировали и изучили информацию о расстоянии и времени поездок для пользователей обеих категорий и выяснили, что:\n",
        "    + пользователи без подписки чаще совершают поездки на 2,5-2,7 км и 3,5-3,7 км, в то время как пользователи с подпиской чаще проезжают 2,7-3,5 км. Также пользователи без подписки совершают больше поездок на расстояния меньше 1 км и больше 5 км.\n",
        "    + для обеих категорий пользователей самое популярная длительность поездки - 15-20 минут. В то же время пользователи без подписки чаще берут самокат на короткий срок до 5 минут, а пользователи с подпиской - на длительные поездки больше 35 минут."
      ]
    },
    {
      "cell_type": "markdown",
      "id": "d42411fd",
      "metadata": {
        "id": "d42411fd"
      },
      "source": [
        "### Шаг 5. Подсчёт выручки"
      ]
    },
    {
      "cell_type": "markdown",
      "id": "cc67ac4d",
      "metadata": {
        "id": "cc67ac4d"
      },
      "source": [
        "#### Создадим датафрейм с агрегированными данными о поездках на основе датафрейма с объединёнными данными из шага 4: найдём суммарное расстояние, количество поездок и суммарное время для каждого пользователя за каждый месяц."
      ]
    },
    {
      "cell_type": "code",
      "execution_count": null,
      "id": "bd11a52e",
      "metadata": {
        "scrolled": false,
        "id": "bd11a52e",
        "outputId": "44fc3070-ce8f-49e0-c057-046974cda251"
      },
      "outputs": [
        {
          "data": {
            "text/html": [
              "<div>\n",
              "<style scoped>\n",
              "    .dataframe tbody tr th:only-of-type {\n",
              "        vertical-align: middle;\n",
              "    }\n",
              "\n",
              "    .dataframe tbody tr th {\n",
              "        vertical-align: top;\n",
              "    }\n",
              "\n",
              "    .dataframe thead th {\n",
              "        text-align: right;\n",
              "    }\n",
              "</style>\n",
              "<table border=\"1\" class=\"dataframe\">\n",
              "  <thead>\n",
              "    <tr style=\"text-align: right;\">\n",
              "      <th></th>\n",
              "      <th></th>\n",
              "      <th>subscription_type</th>\n",
              "      <th>sum_distance</th>\n",
              "      <th>sum_duration</th>\n",
              "      <th>rides_count</th>\n",
              "      <th>minute_price</th>\n",
              "      <th>start_ride_price</th>\n",
              "      <th>subscription_fee</th>\n",
              "    </tr>\n",
              "    <tr>\n",
              "      <th>user_id</th>\n",
              "      <th>month</th>\n",
              "      <th></th>\n",
              "      <th></th>\n",
              "      <th></th>\n",
              "      <th></th>\n",
              "      <th></th>\n",
              "      <th></th>\n",
              "      <th></th>\n",
              "    </tr>\n",
              "  </thead>\n",
              "  <tbody>\n",
              "    <tr>\n",
              "      <th rowspan=\"6\" valign=\"top\">1</th>\n",
              "      <th>1</th>\n",
              "      <td>ultra</td>\n",
              "      <td>7027.511294</td>\n",
              "      <td>42.0</td>\n",
              "      <td>2</td>\n",
              "      <td>6</td>\n",
              "      <td>0</td>\n",
              "      <td>199</td>\n",
              "    </tr>\n",
              "    <tr>\n",
              "      <th>4</th>\n",
              "      <td>ultra</td>\n",
              "      <td>754.159807</td>\n",
              "      <td>7.0</td>\n",
              "      <td>1</td>\n",
              "      <td>6</td>\n",
              "      <td>0</td>\n",
              "      <td>199</td>\n",
              "    </tr>\n",
              "    <tr>\n",
              "      <th>8</th>\n",
              "      <td>ultra</td>\n",
              "      <td>6723.470560</td>\n",
              "      <td>46.0</td>\n",
              "      <td>2</td>\n",
              "      <td>6</td>\n",
              "      <td>0</td>\n",
              "      <td>199</td>\n",
              "    </tr>\n",
              "    <tr>\n",
              "      <th>10</th>\n",
              "      <td>ultra</td>\n",
              "      <td>5809.911100</td>\n",
              "      <td>32.0</td>\n",
              "      <td>2</td>\n",
              "      <td>6</td>\n",
              "      <td>0</td>\n",
              "      <td>199</td>\n",
              "    </tr>\n",
              "    <tr>\n",
              "      <th>11</th>\n",
              "      <td>ultra</td>\n",
              "      <td>7003.499363</td>\n",
              "      <td>56.0</td>\n",
              "      <td>3</td>\n",
              "      <td>6</td>\n",
              "      <td>0</td>\n",
              "      <td>199</td>\n",
              "    </tr>\n",
              "    <tr>\n",
              "      <th>12</th>\n",
              "      <td>ultra</td>\n",
              "      <td>6751.629942</td>\n",
              "      <td>28.0</td>\n",
              "      <td>2</td>\n",
              "      <td>6</td>\n",
              "      <td>0</td>\n",
              "      <td>199</td>\n",
              "    </tr>\n",
              "    <tr>\n",
              "      <th rowspan=\"7\" valign=\"top\">2</th>\n",
              "      <th>3</th>\n",
              "      <td>ultra</td>\n",
              "      <td>10187.723006</td>\n",
              "      <td>63.0</td>\n",
              "      <td>3</td>\n",
              "      <td>6</td>\n",
              "      <td>0</td>\n",
              "      <td>199</td>\n",
              "    </tr>\n",
              "    <tr>\n",
              "      <th>4</th>\n",
              "      <td>ultra</td>\n",
              "      <td>6164.381824</td>\n",
              "      <td>40.0</td>\n",
              "      <td>2</td>\n",
              "      <td>6</td>\n",
              "      <td>0</td>\n",
              "      <td>199</td>\n",
              "    </tr>\n",
              "    <tr>\n",
              "      <th>6</th>\n",
              "      <td>ultra</td>\n",
              "      <td>3255.338202</td>\n",
              "      <td>14.0</td>\n",
              "      <td>1</td>\n",
              "      <td>6</td>\n",
              "      <td>0</td>\n",
              "      <td>199</td>\n",
              "    </tr>\n",
              "    <tr>\n",
              "      <th>7</th>\n",
              "      <td>ultra</td>\n",
              "      <td>6780.722964</td>\n",
              "      <td>48.0</td>\n",
              "      <td>2</td>\n",
              "      <td>6</td>\n",
              "      <td>0</td>\n",
              "      <td>199</td>\n",
              "    </tr>\n",
              "    <tr>\n",
              "      <th>8</th>\n",
              "      <td>ultra</td>\n",
              "      <td>923.007439</td>\n",
              "      <td>7.0</td>\n",
              "      <td>1</td>\n",
              "      <td>6</td>\n",
              "      <td>0</td>\n",
              "      <td>199</td>\n",
              "    </tr>\n",
              "    <tr>\n",
              "      <th>10</th>\n",
              "      <td>ultra</td>\n",
              "      <td>2824.636598</td>\n",
              "      <td>19.0</td>\n",
              "      <td>1</td>\n",
              "      <td>6</td>\n",
              "      <td>0</td>\n",
              "      <td>199</td>\n",
              "    </tr>\n",
              "    <tr>\n",
              "      <th>12</th>\n",
              "      <td>ultra</td>\n",
              "      <td>3828.248580</td>\n",
              "      <td>12.0</td>\n",
              "      <td>1</td>\n",
              "      <td>6</td>\n",
              "      <td>0</td>\n",
              "      <td>199</td>\n",
              "    </tr>\n",
              "    <tr>\n",
              "      <th rowspan=\"2\" valign=\"top\">3</th>\n",
              "      <th>1</th>\n",
              "      <td>ultra</td>\n",
              "      <td>3061.777147</td>\n",
              "      <td>13.0</td>\n",
              "      <td>1</td>\n",
              "      <td>6</td>\n",
              "      <td>0</td>\n",
              "      <td>199</td>\n",
              "    </tr>\n",
              "    <tr>\n",
              "      <th>2</th>\n",
              "      <td>ultra</td>\n",
              "      <td>5421.152016</td>\n",
              "      <td>39.0</td>\n",
              "      <td>2</td>\n",
              "      <td>6</td>\n",
              "      <td>0</td>\n",
              "      <td>199</td>\n",
              "    </tr>\n",
              "  </tbody>\n",
              "</table>\n",
              "</div>"
            ],
            "text/plain": [
              "              subscription_type  sum_distance  sum_duration  rides_count  \\\n",
              "user_id month                                                              \n",
              "1       1                 ultra   7027.511294          42.0            2   \n",
              "        4                 ultra    754.159807           7.0            1   \n",
              "        8                 ultra   6723.470560          46.0            2   \n",
              "        10                ultra   5809.911100          32.0            2   \n",
              "        11                ultra   7003.499363          56.0            3   \n",
              "        12                ultra   6751.629942          28.0            2   \n",
              "2       3                 ultra  10187.723006          63.0            3   \n",
              "        4                 ultra   6164.381824          40.0            2   \n",
              "        6                 ultra   3255.338202          14.0            1   \n",
              "        7                 ultra   6780.722964          48.0            2   \n",
              "        8                 ultra    923.007439           7.0            1   \n",
              "        10                ultra   2824.636598          19.0            1   \n",
              "        12                ultra   3828.248580          12.0            1   \n",
              "3       1                 ultra   3061.777147          13.0            1   \n",
              "        2                 ultra   5421.152016          39.0            2   \n",
              "\n",
              "               minute_price  start_ride_price  subscription_fee  \n",
              "user_id month                                                    \n",
              "1       1                 6                 0               199  \n",
              "        4                 6                 0               199  \n",
              "        8                 6                 0               199  \n",
              "        10                6                 0               199  \n",
              "        11                6                 0               199  \n",
              "        12                6                 0               199  \n",
              "2       3                 6                 0               199  \n",
              "        4                 6                 0               199  \n",
              "        6                 6                 0               199  \n",
              "        7                 6                 0               199  \n",
              "        8                 6                 0               199  \n",
              "        10                6                 0               199  \n",
              "        12                6                 0               199  \n",
              "3       1                 6                 0               199  \n",
              "        2                 6                 0               199  "
            ]
          },
          "execution_count": 42,
          "metadata": {},
          "output_type": "execute_result"
        }
      ],
      "source": [
        "#в исходном датафрейме округляем длительность поездки до следующего целого значения\n",
        "data_merged['duration'] = np.ceil(data_merged['duration'])\n",
        "\n",
        "#создадим сводную таблицу на основе датафрейма с объединёнными данными с суммарным расстоянием и суммарным временем\n",
        "data_agg = data_merged.pivot_table(index=['user_id', 'month', 'subscription_type'], values=['distance', 'duration'], aggfunc='sum')\n",
        "data_agg.columns = ['sum_distance', 'sum_duration'] #переименуем столбцы для обозначения сумм. расстояния и длительности поездки\n",
        "\n",
        "#добавим столбец с количеством поездок за каждый месяц для каждого пользователя\n",
        "data_agg['rides_count'] = data_merged.groupby('user_id')['month'].value_counts()\n",
        "\n",
        "#переведём тип подписки subscription_type из индекса в обычный столбец, чтобы в дальнейшем работать с ним\n",
        "data_agg.reset_index(inplace= True , level = ['subscription_type'])\n",
        "\n",
        "#создадим агрегированную таблицу с информацией о стоимости по тарифам\n",
        "data_fees = data_merged.pivot_table(index=['user_id', 'month'], values=['minute_price', 'start_ride_price', 'subscription_fee'], aggfunc='first')\n",
        "data_agg = data_agg.merge(data_fees, on=['user_id', 'month'], how='left') #и добавим её к data_agg\n",
        "\n",
        "data_agg.head(15) #выведем первые 15 строк получившегося датафрейма"
      ]
    },
    {
      "cell_type": "markdown",
      "id": "60b0dc1f",
      "metadata": {
        "id": "60b0dc1f"
      },
      "source": [
        "#### Добавим столбец с помесячной выручкой, которую принёс каждый пользователь."
      ]
    },
    {
      "cell_type": "code",
      "execution_count": null,
      "id": "edf8895e",
      "metadata": {
        "id": "edf8895e",
        "outputId": "c965d398-db53-4d3f-fa9f-30a1e8d35a9f"
      },
      "outputs": [
        {
          "data": {
            "text/html": [
              "<div>\n",
              "<style scoped>\n",
              "    .dataframe tbody tr th:only-of-type {\n",
              "        vertical-align: middle;\n",
              "    }\n",
              "\n",
              "    .dataframe tbody tr th {\n",
              "        vertical-align: top;\n",
              "    }\n",
              "\n",
              "    .dataframe thead th {\n",
              "        text-align: right;\n",
              "    }\n",
              "</style>\n",
              "<table border=\"1\" class=\"dataframe\">\n",
              "  <thead>\n",
              "    <tr style=\"text-align: right;\">\n",
              "      <th></th>\n",
              "      <th></th>\n",
              "      <th>subscription_type</th>\n",
              "      <th>sum_distance</th>\n",
              "      <th>sum_duration</th>\n",
              "      <th>rides_count</th>\n",
              "      <th>minute_price</th>\n",
              "      <th>start_ride_price</th>\n",
              "      <th>subscription_fee</th>\n",
              "      <th>revenue</th>\n",
              "    </tr>\n",
              "    <tr>\n",
              "      <th>user_id</th>\n",
              "      <th>month</th>\n",
              "      <th></th>\n",
              "      <th></th>\n",
              "      <th></th>\n",
              "      <th></th>\n",
              "      <th></th>\n",
              "      <th></th>\n",
              "      <th></th>\n",
              "      <th></th>\n",
              "    </tr>\n",
              "  </thead>\n",
              "  <tbody>\n",
              "    <tr>\n",
              "      <th rowspan=\"6\" valign=\"top\">1</th>\n",
              "      <th>1</th>\n",
              "      <td>ultra</td>\n",
              "      <td>7027.511294</td>\n",
              "      <td>42.0</td>\n",
              "      <td>2</td>\n",
              "      <td>6</td>\n",
              "      <td>0</td>\n",
              "      <td>199</td>\n",
              "      <td>451.0</td>\n",
              "    </tr>\n",
              "    <tr>\n",
              "      <th>4</th>\n",
              "      <td>ultra</td>\n",
              "      <td>754.159807</td>\n",
              "      <td>7.0</td>\n",
              "      <td>1</td>\n",
              "      <td>6</td>\n",
              "      <td>0</td>\n",
              "      <td>199</td>\n",
              "      <td>241.0</td>\n",
              "    </tr>\n",
              "    <tr>\n",
              "      <th>8</th>\n",
              "      <td>ultra</td>\n",
              "      <td>6723.470560</td>\n",
              "      <td>46.0</td>\n",
              "      <td>2</td>\n",
              "      <td>6</td>\n",
              "      <td>0</td>\n",
              "      <td>199</td>\n",
              "      <td>475.0</td>\n",
              "    </tr>\n",
              "    <tr>\n",
              "      <th>10</th>\n",
              "      <td>ultra</td>\n",
              "      <td>5809.911100</td>\n",
              "      <td>32.0</td>\n",
              "      <td>2</td>\n",
              "      <td>6</td>\n",
              "      <td>0</td>\n",
              "      <td>199</td>\n",
              "      <td>391.0</td>\n",
              "    </tr>\n",
              "    <tr>\n",
              "      <th>11</th>\n",
              "      <td>ultra</td>\n",
              "      <td>7003.499363</td>\n",
              "      <td>56.0</td>\n",
              "      <td>3</td>\n",
              "      <td>6</td>\n",
              "      <td>0</td>\n",
              "      <td>199</td>\n",
              "      <td>535.0</td>\n",
              "    </tr>\n",
              "    <tr>\n",
              "      <th>12</th>\n",
              "      <td>ultra</td>\n",
              "      <td>6751.629942</td>\n",
              "      <td>28.0</td>\n",
              "      <td>2</td>\n",
              "      <td>6</td>\n",
              "      <td>0</td>\n",
              "      <td>199</td>\n",
              "      <td>367.0</td>\n",
              "    </tr>\n",
              "    <tr>\n",
              "      <th rowspan=\"7\" valign=\"top\">2</th>\n",
              "      <th>3</th>\n",
              "      <td>ultra</td>\n",
              "      <td>10187.723006</td>\n",
              "      <td>63.0</td>\n",
              "      <td>3</td>\n",
              "      <td>6</td>\n",
              "      <td>0</td>\n",
              "      <td>199</td>\n",
              "      <td>577.0</td>\n",
              "    </tr>\n",
              "    <tr>\n",
              "      <th>4</th>\n",
              "      <td>ultra</td>\n",
              "      <td>6164.381824</td>\n",
              "      <td>40.0</td>\n",
              "      <td>2</td>\n",
              "      <td>6</td>\n",
              "      <td>0</td>\n",
              "      <td>199</td>\n",
              "      <td>439.0</td>\n",
              "    </tr>\n",
              "    <tr>\n",
              "      <th>6</th>\n",
              "      <td>ultra</td>\n",
              "      <td>3255.338202</td>\n",
              "      <td>14.0</td>\n",
              "      <td>1</td>\n",
              "      <td>6</td>\n",
              "      <td>0</td>\n",
              "      <td>199</td>\n",
              "      <td>283.0</td>\n",
              "    </tr>\n",
              "    <tr>\n",
              "      <th>7</th>\n",
              "      <td>ultra</td>\n",
              "      <td>6780.722964</td>\n",
              "      <td>48.0</td>\n",
              "      <td>2</td>\n",
              "      <td>6</td>\n",
              "      <td>0</td>\n",
              "      <td>199</td>\n",
              "      <td>487.0</td>\n",
              "    </tr>\n",
              "    <tr>\n",
              "      <th>8</th>\n",
              "      <td>ultra</td>\n",
              "      <td>923.007439</td>\n",
              "      <td>7.0</td>\n",
              "      <td>1</td>\n",
              "      <td>6</td>\n",
              "      <td>0</td>\n",
              "      <td>199</td>\n",
              "      <td>241.0</td>\n",
              "    </tr>\n",
              "    <tr>\n",
              "      <th>10</th>\n",
              "      <td>ultra</td>\n",
              "      <td>2824.636598</td>\n",
              "      <td>19.0</td>\n",
              "      <td>1</td>\n",
              "      <td>6</td>\n",
              "      <td>0</td>\n",
              "      <td>199</td>\n",
              "      <td>313.0</td>\n",
              "    </tr>\n",
              "    <tr>\n",
              "      <th>12</th>\n",
              "      <td>ultra</td>\n",
              "      <td>3828.248580</td>\n",
              "      <td>12.0</td>\n",
              "      <td>1</td>\n",
              "      <td>6</td>\n",
              "      <td>0</td>\n",
              "      <td>199</td>\n",
              "      <td>271.0</td>\n",
              "    </tr>\n",
              "    <tr>\n",
              "      <th rowspan=\"2\" valign=\"top\">3</th>\n",
              "      <th>1</th>\n",
              "      <td>ultra</td>\n",
              "      <td>3061.777147</td>\n",
              "      <td>13.0</td>\n",
              "      <td>1</td>\n",
              "      <td>6</td>\n",
              "      <td>0</td>\n",
              "      <td>199</td>\n",
              "      <td>277.0</td>\n",
              "    </tr>\n",
              "    <tr>\n",
              "      <th>2</th>\n",
              "      <td>ultra</td>\n",
              "      <td>5421.152016</td>\n",
              "      <td>39.0</td>\n",
              "      <td>2</td>\n",
              "      <td>6</td>\n",
              "      <td>0</td>\n",
              "      <td>199</td>\n",
              "      <td>433.0</td>\n",
              "    </tr>\n",
              "  </tbody>\n",
              "</table>\n",
              "</div>"
            ],
            "text/plain": [
              "              subscription_type  sum_distance  sum_duration  rides_count  \\\n",
              "user_id month                                                              \n",
              "1       1                 ultra   7027.511294          42.0            2   \n",
              "        4                 ultra    754.159807           7.0            1   \n",
              "        8                 ultra   6723.470560          46.0            2   \n",
              "        10                ultra   5809.911100          32.0            2   \n",
              "        11                ultra   7003.499363          56.0            3   \n",
              "        12                ultra   6751.629942          28.0            2   \n",
              "2       3                 ultra  10187.723006          63.0            3   \n",
              "        4                 ultra   6164.381824          40.0            2   \n",
              "        6                 ultra   3255.338202          14.0            1   \n",
              "        7                 ultra   6780.722964          48.0            2   \n",
              "        8                 ultra    923.007439           7.0            1   \n",
              "        10                ultra   2824.636598          19.0            1   \n",
              "        12                ultra   3828.248580          12.0            1   \n",
              "3       1                 ultra   3061.777147          13.0            1   \n",
              "        2                 ultra   5421.152016          39.0            2   \n",
              "\n",
              "               minute_price  start_ride_price  subscription_fee  revenue  \n",
              "user_id month                                                             \n",
              "1       1                 6                 0               199    451.0  \n",
              "        4                 6                 0               199    241.0  \n",
              "        8                 6                 0               199    475.0  \n",
              "        10                6                 0               199    391.0  \n",
              "        11                6                 0               199    535.0  \n",
              "        12                6                 0               199    367.0  \n",
              "2       3                 6                 0               199    577.0  \n",
              "        4                 6                 0               199    439.0  \n",
              "        6                 6                 0               199    283.0  \n",
              "        7                 6                 0               199    487.0  \n",
              "        8                 6                 0               199    241.0  \n",
              "        10                6                 0               199    313.0  \n",
              "        12                6                 0               199    271.0  \n",
              "3       1                 6                 0               199    277.0  \n",
              "        2                 6                 0               199    433.0  "
            ]
          },
          "execution_count": 43,
          "metadata": {},
          "output_type": "execute_result"
        }
      ],
      "source": [
        "#создадим функцию, которая подсчитывает выручку для всех типов подписки:\n",
        "#стоимость подписки + стоимость начала поездки*кол-во поездок + сумм. длительность поездок за месяц*стоимость минуты поездки\n",
        "def revenue_func(row):\n",
        "    return row['subscription_fee'] + row['start_ride_price']*row['rides_count'] + row['sum_duration']*row['minute_price']\n",
        "\n",
        "#применяем получившуюся функцию к датафрейму, чтобы получить столбец с помесячной выручкой\n",
        "data_agg['revenue'] = data_agg.apply(revenue_func, axis=1)\n",
        "data_agg.head(15) #выводим первые 15 строк обновлённого датафрейма на экран"
      ]
    },
    {
      "cell_type": "markdown",
      "id": "26e8db10",
      "metadata": {
        "id": "26e8db10"
      },
      "source": [
        "**Вывод:** Мы подсчитали помесячную выручку, которую принёс каждый пользователь. Для этого мы подсчитали суммарные время и расстояние поездок за каждый месяц, а также их количество, а затем рассчитали выручку с помощью функции.   "
      ]
    },
    {
      "cell_type": "markdown",
      "id": "ffccceb9",
      "metadata": {
        "id": "ffccceb9"
      },
      "source": [
        "### Шаг 6. Проверка гипотез"
      ]
    },
    {
      "cell_type": "markdown",
      "id": "31f0d001",
      "metadata": {
        "id": "31f0d001"
      },
      "source": [
        "Продакт-менеджеры сервиса хотят увеличить количество пользователей с подпиской. В этом шаге мы проверим несколько гипотез, чтобы выяснить несколько важных моментов о пользователях с подпиской и без неё."
      ]
    },
    {
      "cell_type": "markdown",
      "id": "419598c3",
      "metadata": {
        "id": "419598c3"
      },
      "source": [
        "#### Тратят ли пользователи с подпиской больше времени на поездки? Если да, то пользователи с подпиской могут быть «выгоднее» для компании."
      ]
    },
    {
      "cell_type": "markdown",
      "id": "59788bcd",
      "metadata": {
        "id": "59788bcd"
      },
      "source": [
        "Сформулируем гипотезы:\n",
        "    \n",
        "H0 - Пользователи с подпиской тратят на поездки столько же времени, сколько и пользователи без подписки.\n",
        "\n",
        "H1 - Пользователи с подпиской тратят на поездки больше времени, чем пользователи без подписки."
      ]
    },
    {
      "cell_type": "code",
      "execution_count": null,
      "id": "bc6fde60",
      "metadata": {
        "id": "bc6fde60",
        "outputId": "c0d68f72-295b-43d7-c008-76cc6137a7d0"
      },
      "outputs": [
        {
          "name": "stdout",
          "output_type": "stream",
          "text": [
            "p-value: 1.2804098316645618e-34\n",
            "Средняя продолжительность поездок пользователей без подписки: 17.39090929866399\n",
            "Средняя продолжительность поездок пользователей с подпиской: 18.54198516280583\n",
            "Отвергаем нулевую гипотезу\n"
          ]
        }
      ],
      "source": [
        "alpha = 0.05 #задаём уровень значимости\n",
        "\n",
        "sub_total = sub_ultra['duration'] #длительность поездок пользователей с подпиской\n",
        "free_total = sub_free['duration'] #длительность поездок пользователей без подписки\n",
        "\n",
        "#проводим ttest, в качестве альтернативной используем одностороннюю гипотезу \"больше\"\n",
        "results = st.ttest_ind(sub_total, free_total, alternative='greater')\n",
        "\n",
        "print(f'p-value: {results.pvalue}')\n",
        "\n",
        "print('Средняя продолжительность поездок пользователей без подписки:', sub_free['duration'].mean())\n",
        "print('Средняя продолжительность поездок пользователей с подпиской:', sub_ultra['duration'].mean())\n",
        "\n",
        "#проверяем p-value\n",
        "if results.pvalue < alpha:\n",
        "   print('Отвергаем нулевую гипотезу')\n",
        "else:\n",
        "   print('Нет оснований отвергнуть нулевую гипотезу')"
      ]
    },
    {
      "cell_type": "markdown",
      "id": "bc2056ad",
      "metadata": {
        "id": "bc2056ad"
      },
      "source": [
        "Мы отвергли нулевую гипотезу в пользу альтернативной - пользователи с подпиской тратят на поездки больше времени, чем пользователи без подписки."
      ]
    },
    {
      "cell_type": "markdown",
      "id": "11de714d",
      "metadata": {
        "id": "11de714d"
      },
      "source": [
        "#### Расстояние одной поездки в 3130 метров — оптимальное с точки зрения износа самоката. Можно ли сказать, что расстояние, которое проезжают пользователи с подпиской за одну поездку, не превышает 3130 метров?"
      ]
    },
    {
      "cell_type": "markdown",
      "id": "7dcf5cfc",
      "metadata": {
        "id": "7dcf5cfc"
      },
      "source": [
        "Сформулируем гипотезы:\n",
        "\n",
        "H0 - Пользователи с подпиской в среднем проезжают 3130 метров.\n",
        "\n",
        "H1 - Пользователи с подпиской в среднем проезжают больше 3130 метров."
      ]
    },
    {
      "cell_type": "code",
      "execution_count": null,
      "id": "89d7ad9a",
      "metadata": {
        "id": "89d7ad9a",
        "outputId": "4fefaff4-c945-4d7b-e6dd-896a4d798293"
      },
      "outputs": [
        {
          "name": "stdout",
          "output_type": "stream",
          "text": [
            "p-value: 0.9195368847849785\n",
            "Нет оснований отвергнуть нулевую гипотезу\n"
          ]
        }
      ],
      "source": [
        "dist = sub_ultra['distance'] #расстояние поездок пользователей с подпиской\n",
        "\n",
        "optimal_dist = 3130 #оптимальное расстояние одной поездки\n",
        "\n",
        "alpha = 0.05 #задаём уровень значимости\n",
        "\n",
        "#проводим ttest, в качестве альтернативной используем одностороннюю гипотезу \"больше\"\n",
        "results = st.ttest_1samp(dist, optimal_dist, alternative='greater')\n",
        "\n",
        "print(f'p-value: {results.pvalue}')\n",
        "\n",
        "# проверяем p-value\n",
        "if results.pvalue < alpha:\n",
        "   print('Отвергаем нулевую гипотезу')\n",
        "else:\n",
        "   print('Нет оснований отвергнуть нулевую гипотезу')"
      ]
    },
    {
      "cell_type": "markdown",
      "id": "c55e7c6e",
      "metadata": {
        "id": "c55e7c6e"
      },
      "source": [
        "Мы придерживаемся нулевой гипотезы: пользователи с подпиской в среднем проезжают около 3130 метров и не превышают это значение."
      ]
    },
    {
      "cell_type": "markdown",
      "id": "431c34b4",
      "metadata": {
        "id": "431c34b4"
      },
      "source": [
        "#### Проверим гипотезу о том, будет ли помесячная выручка от пользователей с подпиской по месяцам выше, чем выручка от пользователей без подписки."
      ]
    },
    {
      "cell_type": "markdown",
      "id": "21520510",
      "metadata": {
        "id": "21520510"
      },
      "source": [
        "Сформиулируем гипотезы:\n",
        "\n",
        "H0 - Помесячная выручка от пользователей с подпиской по месяцам равна выручке от пользователей без подписки.\n",
        "\n",
        "H1 - Помесячная выручка от пользователей с подпиской по месяцам выше, чем выручка от пользователей без подписки."
      ]
    },
    {
      "cell_type": "code",
      "execution_count": null,
      "id": "9f184636",
      "metadata": {
        "id": "9f184636",
        "outputId": "55ede64d-33d1-464d-95aa-68f9072c057e"
      },
      "outputs": [
        {
          "name": "stdout",
          "output_type": "stream",
          "text": [
            "p-value: 1.8850394384715216e-31\n",
            "Средняя помесячная выручка от пользователей без подписки: 328.6413651073845\n",
            "Средняя помесячная выручка от пользователей с подпиской: 362.7921906022502\n",
            "Отвергаем нулевую гипотезу\n"
          ]
        }
      ],
      "source": [
        "sub_revenue = data_agg.query('subscription_type == \"ultra\"')['revenue'] #помесячная выручка пользователей с подпиской\n",
        "free_revenue = data_agg.query('subscription_type == \"free\"')['revenue'] #помесячная выручка пользователей без подписки\n",
        "\n",
        "alpha = 0.05 #задаём уровень значимости\n",
        "\n",
        "#проводим ttest, в качестве альтернативной используем одностороннюю гипотезу \"больше\"\n",
        "results = st.ttest_ind(sub_revenue, free_revenue, alternative='greater')\n",
        "\n",
        "print(f'p-value: {results.pvalue}')\n",
        "print('Средняя помесячная выручка от пользователей без подписки:', data_agg.query('subscription_type == \"free\"')['revenue'].mean())\n",
        "print('Средняя помесячная выручка от пользователей с подпиской:', data_agg.query('subscription_type == \"ultra\"')['revenue'].mean())\n",
        "\n",
        "# проверяем p-value\n",
        "if results.pvalue < alpha:\n",
        "   print('Отвергаем нулевую гипотезу')\n",
        "else:\n",
        "   print('Нет оснований отвергнуть нулевую гипотезу')"
      ]
    },
    {
      "cell_type": "markdown",
      "id": "9df56798",
      "metadata": {
        "id": "9df56798"
      },
      "source": [
        "Мы отвергли нулевую гипотезу в пользу альтернативной - помесячная выручка от пользователей с подпиской по месяцам выше, чем выручка от пользователей без подписки."
      ]
    },
    {
      "cell_type": "markdown",
      "id": "b8889b06",
      "metadata": {
        "id": "b8889b06"
      },
      "source": [
        "#### Представим такую ситуацию: техническая команда сервиса обновила сервера, с которыми взаимодействует мобильное приложение. Она надеется, что из-за этого количество обращений в техподдержку значимо снизилось. Некоторый файл содержит для каждого пользователя данные о количестве обращений до обновления и после него. Какой тест нам понадобился бы для проверки этой гипотезы?"
      ]
    },
    {
      "cell_type": "markdown",
      "id": "99699dff",
      "metadata": {
        "id": "99699dff"
      },
      "source": [
        "В этом случае выборки будут парными (зависимыми), поэтому для проверки этой гипотезы нам понадобится метод scipy.stats.ttest_rel()."
      ]
    },
    {
      "cell_type": "markdown",
      "id": "4140fcd2",
      "metadata": {
        "id": "4140fcd2"
      },
      "source": [
        "**Вывод:** мы проверили несколько гипотез и выяснили, что:\n",
        "- пользователи с подпиской тратят на поездки больше времени, чем пользователи без подписки;\n",
        "- пользователи с подпиской в среднем проезжают около 3130 метров и не превышают это значение;\n",
        "- помесячная выручка от пользователей с подпиской по месяцам выше, чем выручка от пользователей без подписки.\n",
        "\n",
        "В целом, можно сказать, что для компании более \"выгодны\" пользователи, которые пользуются подпиской."
      ]
    },
    {
      "cell_type": "markdown",
      "id": "25837401",
      "metadata": {
        "id": "25837401"
      },
      "source": [
        "### Вывод"
      ]
    },
    {
      "cell_type": "markdown",
      "id": "7bc94f4e",
      "metadata": {
        "id": "7bc94f4e"
      },
      "source": [
        "Мы провели исследование на основе данных популярного сервиса аренды самокатов GoFast.\n",
        "\n",
        "Мы провели предобработку данных: заменили тип некоторых данных для удобства работы, удалили явные дубликаты, объединили несколько датафреймов, а также добавили несколько столбцов для удобства исследования.\n",
        "\n",
        "Мы построили ряд гистограмм и на их основе сделали следующие **выводы**:\n",
        "\n",
        "1) Чаще всего самокатами пользуются в Пятигорске (встречается в датафрейме 219 раз), Екатеринбурге и Ростове-на-Дону (встречаются 204 и 198 раз соответственно), наименьшей популярностью сервис пользуется в Москве (168 вхождений).\n",
        "\n",
        "2) 54,4% пользователей пользуется бесплатным тарифом, в то время как подпиской пользуются 45,6%.\n",
        "\n",
        "3) Чаще всего самокатами пользуются люди в возрасте от 21 до 28 лет (пик приходится на 25-летних пользователей), реже всего - пользователи в возрасте до 15 и старше 35 лет.\n",
        "\n",
        "4) Чаще всего пользователи совершают поездки на расстояние около 3 км - таких пользователей более 2400, также есть небольшой всплеск в районе коротких поездок на 600-800 м. Реже всего пользователи проезжают 6 и более км.\n",
        "\n",
        "5) Большинство поездок длятся от 15 до 20 минут, реже всего самокаты берут на поездки более 30 минут.\n",
        "\n",
        "6) Пользователи без подписки чаще совершают поездки на 2,5-2,7 км и 3,5-3,7 км, в то время как пользователи с подпиской чаще проезжают 2,7-3,5 км. Также пользователи без подписки совершают больше поездок на расстояния меньше 1 км и больше 5 км.\n",
        "\n",
        "7) Для обеих категорий пользователей самое популярная длительность поездки - 15-20 минут. В то же время пользователи без подписки чаще берут самокат на короткий срок до 5 минут, а пользователи с подпиской - на длительные поездки больше 35 минут.\n",
        "\n",
        "Мы также проверили несколько гипотез и **выяснили**, что:\n",
        "\n",
        "1) Пользователи с подпиской тратят на поездки больше времени, чем пользователи без подписки.\n",
        "\n",
        "2) Пользователи с подпиской в среднем проезжают около 3130 метров - оптимальное расстояние с точки зрения износа самоката - и не превышают это значение.\n",
        "\n",
        "3) Помесячная выручка от пользователей с подпиской по месяцам выше, чем выручка от пользователей без подписки.\n",
        "\n",
        "В целом, можно сказать, что для компании более \"выгодны\" пользователи, которые пользуются подпиской.\n",
        "\n",
        "**Рекомендация для сервиса:** проводить рекламные кампании и акции для увеличения количества пользователей с подпиской для увеличения прибыли."
      ]
    },
    {
      "cell_type": "code",
      "execution_count": null,
      "id": "19dff535",
      "metadata": {
        "id": "19dff535"
      },
      "outputs": [],
      "source": []
    }
  ],
  "metadata": {
    "ExecuteTimeLog": [
      {
        "duration": 388,
        "start_time": "2023-06-17T12:23:04.011Z"
      },
      {
        "duration": 85,
        "start_time": "2023-06-17T12:24:02.895Z"
      },
      {
        "duration": 176,
        "start_time": "2023-06-17T12:25:10.640Z"
      },
      {
        "duration": 66,
        "start_time": "2023-06-17T12:25:12.182Z"
      },
      {
        "duration": 14,
        "start_time": "2023-06-17T12:27:14.611Z"
      },
      {
        "duration": 9,
        "start_time": "2023-06-17T12:27:43.114Z"
      },
      {
        "duration": 10,
        "start_time": "2023-06-17T12:27:58.590Z"
      },
      {
        "duration": 7,
        "start_time": "2023-06-17T12:28:14.853Z"
      },
      {
        "duration": 10,
        "start_time": "2023-06-17T12:28:44.658Z"
      },
      {
        "duration": 10,
        "start_time": "2023-06-17T12:28:54.800Z"
      },
      {
        "duration": 25,
        "start_time": "2023-06-17T12:29:17.962Z"
      },
      {
        "duration": 3,
        "start_time": "2023-06-17T12:33:35.083Z"
      },
      {
        "duration": 37,
        "start_time": "2023-06-17T12:33:35.088Z"
      },
      {
        "duration": 33,
        "start_time": "2023-06-17T12:33:35.127Z"
      },
      {
        "duration": 22,
        "start_time": "2023-06-17T12:33:35.163Z"
      },
      {
        "duration": 8,
        "start_time": "2023-06-17T12:33:35.187Z"
      },
      {
        "duration": 15,
        "start_time": "2023-06-17T12:33:35.196Z"
      },
      {
        "duration": 23,
        "start_time": "2023-06-17T12:33:35.212Z"
      },
      {
        "duration": 14,
        "start_time": "2023-06-17T12:33:35.236Z"
      },
      {
        "duration": 14,
        "start_time": "2023-06-17T12:33:35.251Z"
      },
      {
        "duration": 15,
        "start_time": "2023-06-17T12:33:35.268Z"
      },
      {
        "duration": 64,
        "start_time": "2023-06-17T14:12:43.803Z"
      },
      {
        "duration": 379,
        "start_time": "2023-06-17T14:12:55.472Z"
      },
      {
        "duration": 77,
        "start_time": "2023-06-17T14:12:55.853Z"
      },
      {
        "duration": 66,
        "start_time": "2023-06-17T14:12:55.931Z"
      },
      {
        "duration": 54,
        "start_time": "2023-06-17T14:12:55.998Z"
      },
      {
        "duration": 14,
        "start_time": "2023-06-17T14:12:56.054Z"
      },
      {
        "duration": 10,
        "start_time": "2023-06-17T14:12:56.069Z"
      },
      {
        "duration": 17,
        "start_time": "2023-06-17T14:12:56.080Z"
      },
      {
        "duration": 27,
        "start_time": "2023-06-17T14:12:56.098Z"
      },
      {
        "duration": 27,
        "start_time": "2023-06-17T14:12:56.127Z"
      },
      {
        "duration": 9,
        "start_time": "2023-06-17T14:12:56.155Z"
      },
      {
        "duration": 43,
        "start_time": "2023-06-17T14:12:56.165Z"
      },
      {
        "duration": 59,
        "start_time": "2023-06-17T14:13:13.655Z"
      },
      {
        "duration": 18,
        "start_time": "2023-06-17T14:18:31.682Z"
      },
      {
        "duration": 14,
        "start_time": "2023-06-17T14:21:45.895Z"
      },
      {
        "duration": 60,
        "start_time": "2023-06-17T14:22:54.461Z"
      },
      {
        "duration": 25,
        "start_time": "2023-06-17T14:41:14.289Z"
      },
      {
        "duration": 6,
        "start_time": "2023-06-17T14:43:19.640Z"
      },
      {
        "duration": 6,
        "start_time": "2023-06-17T14:44:07.653Z"
      },
      {
        "duration": 10,
        "start_time": "2023-06-17T14:45:03.426Z"
      },
      {
        "duration": 8,
        "start_time": "2023-06-17T14:45:19.352Z"
      },
      {
        "duration": 5,
        "start_time": "2023-06-17T14:45:56.896Z"
      },
      {
        "duration": 4,
        "start_time": "2023-06-17T14:47:14.813Z"
      },
      {
        "duration": 15,
        "start_time": "2023-06-17T14:47:36.929Z"
      },
      {
        "duration": 8,
        "start_time": "2023-06-17T14:47:56.206Z"
      },
      {
        "duration": 4,
        "start_time": "2023-06-17T14:51:07.314Z"
      },
      {
        "duration": 5,
        "start_time": "2023-06-17T14:51:31.988Z"
      },
      {
        "duration": 72,
        "start_time": "2023-06-17T14:53:24.245Z"
      },
      {
        "duration": 7,
        "start_time": "2023-06-17T14:56:09.545Z"
      },
      {
        "duration": 2,
        "start_time": "2023-06-17T14:57:21.415Z"
      },
      {
        "duration": 54,
        "start_time": "2023-06-17T14:57:21.420Z"
      },
      {
        "duration": 26,
        "start_time": "2023-06-17T14:57:21.476Z"
      },
      {
        "duration": 15,
        "start_time": "2023-06-17T14:57:21.504Z"
      },
      {
        "duration": 17,
        "start_time": "2023-06-17T14:57:21.521Z"
      },
      {
        "duration": 23,
        "start_time": "2023-06-17T14:57:21.542Z"
      },
      {
        "duration": 10,
        "start_time": "2023-06-17T14:57:21.567Z"
      },
      {
        "duration": 14,
        "start_time": "2023-06-17T14:57:21.579Z"
      },
      {
        "duration": 20,
        "start_time": "2023-06-17T14:57:21.595Z"
      },
      {
        "duration": 53,
        "start_time": "2023-06-17T14:57:21.617Z"
      },
      {
        "duration": 31,
        "start_time": "2023-06-17T14:57:21.672Z"
      },
      {
        "duration": 17,
        "start_time": "2023-06-17T14:57:21.705Z"
      },
      {
        "duration": 45,
        "start_time": "2023-06-17T14:57:21.724Z"
      },
      {
        "duration": 42,
        "start_time": "2023-06-17T14:57:21.772Z"
      },
      {
        "duration": 29,
        "start_time": "2023-06-17T14:57:21.816Z"
      },
      {
        "duration": 12,
        "start_time": "2023-06-17T14:57:21.847Z"
      },
      {
        "duration": 10,
        "start_time": "2023-06-17T14:57:21.862Z"
      },
      {
        "duration": 15,
        "start_time": "2023-06-17T14:57:21.874Z"
      },
      {
        "duration": 23,
        "start_time": "2023-06-17T14:57:21.891Z"
      },
      {
        "duration": 2,
        "start_time": "2023-06-17T15:04:25.163Z"
      },
      {
        "duration": 386,
        "start_time": "2023-06-17T15:27:01.489Z"
      },
      {
        "duration": 17,
        "start_time": "2023-06-17T15:32:37.700Z"
      },
      {
        "duration": 3,
        "start_time": "2023-06-17T15:34:12.126Z"
      },
      {
        "duration": 3,
        "start_time": "2023-06-17T15:34:19.648Z"
      },
      {
        "duration": 2,
        "start_time": "2023-06-17T15:34:30.603Z"
      },
      {
        "duration": 3,
        "start_time": "2023-06-17T15:34:47.913Z"
      },
      {
        "duration": 36,
        "start_time": "2023-06-17T15:34:47.919Z"
      },
      {
        "duration": 28,
        "start_time": "2023-06-17T15:34:47.956Z"
      },
      {
        "duration": 15,
        "start_time": "2023-06-17T15:34:47.986Z"
      },
      {
        "duration": 10,
        "start_time": "2023-06-17T15:34:48.003Z"
      },
      {
        "duration": 55,
        "start_time": "2023-06-17T15:34:48.015Z"
      },
      {
        "duration": 93,
        "start_time": "2023-06-17T15:34:48.071Z"
      },
      {
        "duration": 28,
        "start_time": "2023-06-17T15:34:48.166Z"
      },
      {
        "duration": 67,
        "start_time": "2023-06-17T15:34:48.196Z"
      },
      {
        "duration": 11,
        "start_time": "2023-06-17T15:34:48.265Z"
      },
      {
        "duration": 12,
        "start_time": "2023-06-17T15:34:48.278Z"
      },
      {
        "duration": 10,
        "start_time": "2023-06-17T15:34:48.291Z"
      },
      {
        "duration": 6,
        "start_time": "2023-06-17T15:34:48.302Z"
      },
      {
        "duration": 26,
        "start_time": "2023-06-17T15:34:48.311Z"
      },
      {
        "duration": 19,
        "start_time": "2023-06-17T15:34:48.338Z"
      },
      {
        "duration": 32,
        "start_time": "2023-06-17T15:34:48.358Z"
      },
      {
        "duration": 8,
        "start_time": "2023-06-17T15:34:48.391Z"
      },
      {
        "duration": 16,
        "start_time": "2023-06-17T15:34:48.401Z"
      },
      {
        "duration": 24,
        "start_time": "2023-06-17T15:34:48.418Z"
      },
      {
        "duration": 11,
        "start_time": "2023-06-17T15:34:48.444Z"
      },
      {
        "duration": 9,
        "start_time": "2023-06-17T15:34:48.457Z"
      },
      {
        "duration": 137,
        "start_time": "2023-06-17T15:35:23.227Z"
      },
      {
        "duration": 197,
        "start_time": "2023-06-17T15:36:14.673Z"
      },
      {
        "duration": 9,
        "start_time": "2023-06-17T15:36:52.848Z"
      },
      {
        "duration": 9,
        "start_time": "2023-06-17T15:37:40.033Z"
      },
      {
        "duration": 13,
        "start_time": "2023-06-17T15:38:57.908Z"
      },
      {
        "duration": 12,
        "start_time": "2023-06-17T15:39:09.375Z"
      },
      {
        "duration": 139,
        "start_time": "2023-06-17T15:39:32.995Z"
      },
      {
        "duration": 130,
        "start_time": "2023-06-17T15:39:46.829Z"
      },
      {
        "duration": 150,
        "start_time": "2023-06-17T15:41:02.126Z"
      },
      {
        "duration": 152,
        "start_time": "2023-06-17T15:42:11.696Z"
      },
      {
        "duration": 149,
        "start_time": "2023-06-17T15:43:12.510Z"
      },
      {
        "duration": 149,
        "start_time": "2023-06-17T15:43:36.594Z"
      },
      {
        "duration": 147,
        "start_time": "2023-06-17T15:43:45.947Z"
      },
      {
        "duration": 146,
        "start_time": "2023-06-17T15:49:26.570Z"
      },
      {
        "duration": 141,
        "start_time": "2023-06-17T15:49:37.852Z"
      },
      {
        "duration": 124,
        "start_time": "2023-06-17T15:49:44.791Z"
      },
      {
        "duration": 219,
        "start_time": "2023-06-17T15:50:24.423Z"
      },
      {
        "duration": 180,
        "start_time": "2023-06-17T15:53:46.966Z"
      },
      {
        "duration": 158,
        "start_time": "2023-06-17T15:53:56.058Z"
      },
      {
        "duration": 195,
        "start_time": "2023-06-17T15:54:13.257Z"
      },
      {
        "duration": 182,
        "start_time": "2023-06-17T15:54:34.394Z"
      },
      {
        "duration": 183,
        "start_time": "2023-06-17T15:54:57.494Z"
      },
      {
        "duration": 187,
        "start_time": "2023-06-17T15:55:36.847Z"
      },
      {
        "duration": 202,
        "start_time": "2023-06-17T15:55:43.356Z"
      },
      {
        "duration": 196,
        "start_time": "2023-06-17T16:15:51.485Z"
      },
      {
        "duration": 239,
        "start_time": "2023-06-17T16:16:17.482Z"
      },
      {
        "duration": 180,
        "start_time": "2023-06-17T16:20:40.845Z"
      },
      {
        "duration": 21,
        "start_time": "2023-06-17T16:36:04.159Z"
      },
      {
        "duration": 13,
        "start_time": "2023-06-17T16:37:35.489Z"
      },
      {
        "duration": 17,
        "start_time": "2023-06-17T16:37:51.341Z"
      },
      {
        "duration": 27,
        "start_time": "2023-06-17T16:38:04.196Z"
      },
      {
        "duration": 25,
        "start_time": "2023-06-17T16:38:20.591Z"
      },
      {
        "duration": 104,
        "start_time": "2023-06-17T16:40:23.945Z"
      },
      {
        "duration": 8,
        "start_time": "2023-06-17T16:55:23.045Z"
      },
      {
        "duration": 16,
        "start_time": "2023-06-17T16:55:38.009Z"
      },
      {
        "duration": 15,
        "start_time": "2023-06-17T16:56:12.276Z"
      },
      {
        "duration": 22,
        "start_time": "2023-06-17T16:56:48.229Z"
      },
      {
        "duration": 23,
        "start_time": "2023-06-17T16:59:02.120Z"
      },
      {
        "duration": 12,
        "start_time": "2023-06-17T17:00:10.595Z"
      },
      {
        "duration": 176,
        "start_time": "2023-06-17T17:02:09.622Z"
      },
      {
        "duration": 170,
        "start_time": "2023-06-17T17:03:02.743Z"
      },
      {
        "duration": 176,
        "start_time": "2023-06-17T17:05:35.299Z"
      },
      {
        "duration": 213,
        "start_time": "2023-06-17T17:05:47.876Z"
      },
      {
        "duration": 174,
        "start_time": "2023-06-17T17:12:08.926Z"
      },
      {
        "duration": 193,
        "start_time": "2023-06-17T17:12:43.281Z"
      },
      {
        "duration": 220,
        "start_time": "2023-06-17T17:13:29.044Z"
      },
      {
        "duration": 92,
        "start_time": "2023-06-17T17:24:52.276Z"
      },
      {
        "duration": 12,
        "start_time": "2023-06-17T17:25:15.775Z"
      },
      {
        "duration": 18,
        "start_time": "2023-06-17T17:25:24.068Z"
      },
      {
        "duration": 17,
        "start_time": "2023-06-17T17:27:46.093Z"
      },
      {
        "duration": 17,
        "start_time": "2023-06-17T17:29:52.061Z"
      },
      {
        "duration": 25,
        "start_time": "2023-06-17T17:30:20.755Z"
      },
      {
        "duration": 29,
        "start_time": "2023-06-17T17:32:17.734Z"
      },
      {
        "duration": 15,
        "start_time": "2023-06-17T17:33:28.055Z"
      },
      {
        "duration": 14,
        "start_time": "2023-06-17T17:33:55.352Z"
      },
      {
        "duration": 20,
        "start_time": "2023-06-17T17:34:14.561Z"
      },
      {
        "duration": 20,
        "start_time": "2023-06-17T17:34:45.361Z"
      },
      {
        "duration": 4,
        "start_time": "2023-06-17T18:48:37.454Z"
      },
      {
        "duration": 3,
        "start_time": "2023-06-17T18:49:08.750Z"
      },
      {
        "duration": 56,
        "start_time": "2023-06-17T18:49:08.755Z"
      },
      {
        "duration": 30,
        "start_time": "2023-06-17T18:49:08.813Z"
      },
      {
        "duration": 14,
        "start_time": "2023-06-17T18:49:08.846Z"
      },
      {
        "duration": 21,
        "start_time": "2023-06-17T18:49:08.861Z"
      },
      {
        "duration": 42,
        "start_time": "2023-06-17T18:49:08.884Z"
      },
      {
        "duration": 34,
        "start_time": "2023-06-17T18:49:08.927Z"
      },
      {
        "duration": 29,
        "start_time": "2023-06-17T18:49:08.962Z"
      },
      {
        "duration": 19,
        "start_time": "2023-06-17T18:49:08.992Z"
      },
      {
        "duration": 24,
        "start_time": "2023-06-17T18:49:09.014Z"
      },
      {
        "duration": 29,
        "start_time": "2023-06-17T18:49:09.040Z"
      },
      {
        "duration": 25,
        "start_time": "2023-06-17T18:49:09.070Z"
      },
      {
        "duration": 5,
        "start_time": "2023-06-17T18:49:09.097Z"
      },
      {
        "duration": 16,
        "start_time": "2023-06-17T18:49:09.104Z"
      },
      {
        "duration": 32,
        "start_time": "2023-06-17T18:49:09.122Z"
      },
      {
        "duration": 11,
        "start_time": "2023-06-17T18:49:09.155Z"
      },
      {
        "duration": 5,
        "start_time": "2023-06-17T18:49:09.168Z"
      },
      {
        "duration": 12,
        "start_time": "2023-06-17T18:49:09.175Z"
      },
      {
        "duration": 8,
        "start_time": "2023-06-17T18:49:09.189Z"
      },
      {
        "duration": 7,
        "start_time": "2023-06-17T18:49:09.198Z"
      },
      {
        "duration": 148,
        "start_time": "2023-06-17T18:49:09.207Z"
      },
      {
        "duration": 122,
        "start_time": "2023-06-17T18:49:09.356Z"
      },
      {
        "duration": 188,
        "start_time": "2023-06-17T18:49:09.479Z"
      },
      {
        "duration": 187,
        "start_time": "2023-06-17T18:49:09.669Z"
      },
      {
        "duration": 256,
        "start_time": "2023-06-17T18:49:09.858Z"
      },
      {
        "duration": 30,
        "start_time": "2023-06-17T18:49:10.116Z"
      },
      {
        "duration": 15,
        "start_time": "2023-06-17T18:49:10.148Z"
      },
      {
        "duration": 11,
        "start_time": "2023-06-17T18:49:10.166Z"
      },
      {
        "duration": 192,
        "start_time": "2023-06-17T18:49:10.178Z"
      },
      {
        "duration": 174,
        "start_time": "2023-06-17T18:49:10.372Z"
      },
      {
        "duration": 170,
        "start_time": "2023-06-17T18:49:10.547Z"
      },
      {
        "duration": 185,
        "start_time": "2023-06-17T18:49:10.719Z"
      },
      {
        "duration": 3,
        "start_time": "2023-06-17T18:49:10.906Z"
      },
      {
        "duration": 18,
        "start_time": "2023-06-17T18:49:38.007Z"
      },
      {
        "duration": 12,
        "start_time": "2023-06-17T18:52:59.876Z"
      },
      {
        "duration": 17,
        "start_time": "2023-06-17T18:53:15.796Z"
      },
      {
        "duration": 22,
        "start_time": "2023-06-17T18:53:31.688Z"
      },
      {
        "duration": 35,
        "start_time": "2023-06-17T18:54:56.257Z"
      },
      {
        "duration": 28,
        "start_time": "2023-06-17T18:55:12.164Z"
      },
      {
        "duration": 115,
        "start_time": "2023-06-17T18:55:22.353Z"
      },
      {
        "duration": 37,
        "start_time": "2023-06-17T18:56:10.817Z"
      },
      {
        "duration": 32,
        "start_time": "2023-06-17T18:58:23.681Z"
      },
      {
        "duration": 4,
        "start_time": "2023-06-17T19:04:32.658Z"
      },
      {
        "duration": 8,
        "start_time": "2023-06-17T19:09:32.132Z"
      },
      {
        "duration": 967,
        "start_time": "2023-06-17T19:12:57.816Z"
      },
      {
        "duration": 4,
        "start_time": "2023-06-17T19:13:14.051Z"
      },
      {
        "duration": 9,
        "start_time": "2023-06-17T19:13:26.650Z"
      },
      {
        "duration": 3,
        "start_time": "2023-06-17T19:13:33.901Z"
      },
      {
        "duration": 7,
        "start_time": "2023-06-17T19:13:58.236Z"
      },
      {
        "duration": 32,
        "start_time": "2023-06-17T19:13:58.245Z"
      },
      {
        "duration": 25,
        "start_time": "2023-06-17T19:13:58.279Z"
      },
      {
        "duration": 15,
        "start_time": "2023-06-17T19:13:58.306Z"
      },
      {
        "duration": 17,
        "start_time": "2023-06-17T19:13:58.322Z"
      },
      {
        "duration": 18,
        "start_time": "2023-06-17T19:13:58.341Z"
      },
      {
        "duration": 9,
        "start_time": "2023-06-17T19:13:58.361Z"
      },
      {
        "duration": 13,
        "start_time": "2023-06-17T19:13:58.371Z"
      },
      {
        "duration": 19,
        "start_time": "2023-06-17T19:13:58.385Z"
      },
      {
        "duration": 9,
        "start_time": "2023-06-17T19:13:58.406Z"
      },
      {
        "duration": 31,
        "start_time": "2023-06-17T19:13:58.416Z"
      },
      {
        "duration": 11,
        "start_time": "2023-06-17T19:13:58.449Z"
      },
      {
        "duration": 7,
        "start_time": "2023-06-17T19:13:58.461Z"
      },
      {
        "duration": 20,
        "start_time": "2023-06-17T19:13:58.469Z"
      },
      {
        "duration": 8,
        "start_time": "2023-06-17T19:13:58.491Z"
      },
      {
        "duration": 7,
        "start_time": "2023-06-17T19:13:58.501Z"
      },
      {
        "duration": 10,
        "start_time": "2023-06-17T19:13:58.510Z"
      },
      {
        "duration": 27,
        "start_time": "2023-06-17T19:13:58.521Z"
      },
      {
        "duration": 19,
        "start_time": "2023-06-17T19:13:58.550Z"
      },
      {
        "duration": 6,
        "start_time": "2023-06-17T19:13:58.571Z"
      },
      {
        "duration": 151,
        "start_time": "2023-06-17T19:13:58.578Z"
      },
      {
        "duration": 128,
        "start_time": "2023-06-17T19:13:58.734Z"
      },
      {
        "duration": 186,
        "start_time": "2023-06-17T19:13:58.864Z"
      },
      {
        "duration": 191,
        "start_time": "2023-06-17T19:13:59.051Z"
      },
      {
        "duration": 188,
        "start_time": "2023-06-17T19:13:59.246Z"
      },
      {
        "duration": 30,
        "start_time": "2023-06-17T19:13:59.435Z"
      },
      {
        "duration": 12,
        "start_time": "2023-06-17T19:13:59.467Z"
      },
      {
        "duration": 11,
        "start_time": "2023-06-17T19:13:59.482Z"
      },
      {
        "duration": 261,
        "start_time": "2023-06-17T19:13:59.494Z"
      },
      {
        "duration": 186,
        "start_time": "2023-06-17T19:13:59.756Z"
      },
      {
        "duration": 182,
        "start_time": "2023-06-17T19:13:59.943Z"
      },
      {
        "duration": 187,
        "start_time": "2023-06-17T19:14:00.132Z"
      },
      {
        "duration": 38,
        "start_time": "2023-06-17T19:14:00.320Z"
      },
      {
        "duration": 13,
        "start_time": "2023-06-17T19:14:00.360Z"
      },
      {
        "duration": 8,
        "start_time": "2023-06-17T19:29:33.565Z"
      },
      {
        "duration": 5,
        "start_time": "2023-06-17T19:31:05.417Z"
      },
      {
        "duration": 4,
        "start_time": "2023-06-17T19:31:40.945Z"
      },
      {
        "duration": 11,
        "start_time": "2023-06-17T19:34:54.594Z"
      },
      {
        "duration": 14,
        "start_time": "2023-06-17T19:35:16.858Z"
      },
      {
        "duration": 10,
        "start_time": "2023-06-17T19:35:31.762Z"
      },
      {
        "duration": 7,
        "start_time": "2023-06-17T19:35:57.976Z"
      },
      {
        "duration": 18,
        "start_time": "2023-06-17T19:36:05.084Z"
      },
      {
        "duration": 19,
        "start_time": "2023-06-17T19:36:26.007Z"
      },
      {
        "duration": 21,
        "start_time": "2023-06-17T19:41:14.434Z"
      },
      {
        "duration": 5,
        "start_time": "2023-06-17T19:41:24.790Z"
      },
      {
        "duration": 46,
        "start_time": "2023-06-17T19:47:15.530Z"
      },
      {
        "duration": 4,
        "start_time": "2023-06-17T19:52:35.652Z"
      },
      {
        "duration": 90,
        "start_time": "2023-06-17T19:53:30.728Z"
      },
      {
        "duration": 1018,
        "start_time": "2023-06-17T19:54:08.155Z"
      },
      {
        "duration": 1202,
        "start_time": "2023-06-17T19:54:38.214Z"
      },
      {
        "duration": 3,
        "start_time": "2023-06-17T19:55:24.793Z"
      },
      {
        "duration": 971,
        "start_time": "2023-06-17T19:55:34.544Z"
      },
      {
        "duration": 993,
        "start_time": "2023-06-17T19:58:43.319Z"
      },
      {
        "duration": 3,
        "start_time": "2023-06-17T20:02:08.546Z"
      },
      {
        "duration": 30,
        "start_time": "2023-06-17T20:02:08.551Z"
      },
      {
        "duration": 26,
        "start_time": "2023-06-17T20:02:08.583Z"
      },
      {
        "duration": 14,
        "start_time": "2023-06-17T20:02:08.610Z"
      },
      {
        "duration": 11,
        "start_time": "2023-06-17T20:02:08.626Z"
      },
      {
        "duration": 36,
        "start_time": "2023-06-17T20:02:08.639Z"
      },
      {
        "duration": 36,
        "start_time": "2023-06-17T20:02:08.676Z"
      },
      {
        "duration": 21,
        "start_time": "2023-06-17T20:02:08.713Z"
      },
      {
        "duration": 30,
        "start_time": "2023-06-17T20:02:08.736Z"
      },
      {
        "duration": 9,
        "start_time": "2023-06-17T20:02:08.768Z"
      },
      {
        "duration": 35,
        "start_time": "2023-06-17T20:02:08.778Z"
      },
      {
        "duration": 9,
        "start_time": "2023-06-17T20:02:08.815Z"
      },
      {
        "duration": 6,
        "start_time": "2023-06-17T20:02:08.826Z"
      },
      {
        "duration": 26,
        "start_time": "2023-06-17T20:02:08.836Z"
      },
      {
        "duration": 29,
        "start_time": "2023-06-17T20:02:08.864Z"
      },
      {
        "duration": 8,
        "start_time": "2023-06-17T20:02:08.895Z"
      },
      {
        "duration": 16,
        "start_time": "2023-06-17T20:02:08.905Z"
      },
      {
        "duration": 25,
        "start_time": "2023-06-17T20:02:08.923Z"
      },
      {
        "duration": 11,
        "start_time": "2023-06-17T20:02:08.950Z"
      },
      {
        "duration": 3,
        "start_time": "2023-06-17T20:02:08.963Z"
      },
      {
        "duration": 151,
        "start_time": "2023-06-17T20:02:08.967Z"
      },
      {
        "duration": 193,
        "start_time": "2023-06-17T20:02:09.120Z"
      },
      {
        "duration": 200,
        "start_time": "2023-06-17T20:02:09.314Z"
      },
      {
        "duration": 200,
        "start_time": "2023-06-17T20:02:09.516Z"
      },
      {
        "duration": 200,
        "start_time": "2023-06-17T20:02:09.717Z"
      },
      {
        "duration": 43,
        "start_time": "2023-06-17T20:02:09.919Z"
      },
      {
        "duration": 14,
        "start_time": "2023-06-17T20:02:09.964Z"
      },
      {
        "duration": 12,
        "start_time": "2023-06-17T20:02:09.979Z"
      },
      {
        "duration": 204,
        "start_time": "2023-06-17T20:02:09.992Z"
      },
      {
        "duration": 184,
        "start_time": "2023-06-17T20:02:10.197Z"
      },
      {
        "duration": 191,
        "start_time": "2023-06-17T20:02:10.383Z"
      },
      {
        "duration": 194,
        "start_time": "2023-06-17T20:02:10.576Z"
      },
      {
        "duration": 31,
        "start_time": "2023-06-17T20:02:10.772Z"
      },
      {
        "duration": 4,
        "start_time": "2023-06-17T20:02:10.804Z"
      },
      {
        "duration": 1468,
        "start_time": "2023-06-17T20:02:10.809Z"
      },
      {
        "duration": 10,
        "start_time": "2023-06-17T20:02:42.080Z"
      },
      {
        "duration": 365,
        "start_time": "2023-06-17T20:03:22.975Z"
      },
      {
        "duration": 106,
        "start_time": "2023-06-17T20:03:37.964Z"
      },
      {
        "duration": 21,
        "start_time": "2023-06-17T20:11:32.733Z"
      },
      {
        "duration": 10,
        "start_time": "2023-06-17T20:12:43.598Z"
      },
      {
        "duration": 30,
        "start_time": "2023-06-17T20:13:08.168Z"
      },
      {
        "duration": 12,
        "start_time": "2023-06-17T20:13:14.698Z"
      },
      {
        "duration": 34,
        "start_time": "2023-06-17T20:16:34.895Z"
      },
      {
        "duration": 33,
        "start_time": "2023-06-17T20:19:22.343Z"
      },
      {
        "duration": 100,
        "start_time": "2023-06-17T20:21:48.970Z"
      },
      {
        "duration": 4,
        "start_time": "2023-06-17T20:21:56.176Z"
      },
      {
        "duration": 10,
        "start_time": "2023-06-17T20:21:57.090Z"
      },
      {
        "duration": 129,
        "start_time": "2023-06-17T20:22:07.505Z"
      },
      {
        "duration": 130,
        "start_time": "2023-06-17T20:25:31.877Z"
      },
      {
        "duration": 408,
        "start_time": "2023-06-18T12:23:26.076Z"
      },
      {
        "duration": 93,
        "start_time": "2023-06-18T12:23:26.486Z"
      },
      {
        "duration": 72,
        "start_time": "2023-06-18T12:23:26.581Z"
      },
      {
        "duration": 59,
        "start_time": "2023-06-18T12:23:26.655Z"
      },
      {
        "duration": 17,
        "start_time": "2023-06-18T12:23:26.715Z"
      },
      {
        "duration": 31,
        "start_time": "2023-06-18T12:23:26.734Z"
      },
      {
        "duration": 17,
        "start_time": "2023-06-18T12:23:26.767Z"
      },
      {
        "duration": 13,
        "start_time": "2023-06-18T12:23:26.786Z"
      },
      {
        "duration": 15,
        "start_time": "2023-06-18T12:23:26.800Z"
      },
      {
        "duration": 11,
        "start_time": "2023-06-18T12:23:26.818Z"
      },
      {
        "duration": 32,
        "start_time": "2023-06-18T12:23:26.831Z"
      },
      {
        "duration": 12,
        "start_time": "2023-06-18T12:23:26.868Z"
      },
      {
        "duration": 7,
        "start_time": "2023-06-18T12:23:26.881Z"
      },
      {
        "duration": 10,
        "start_time": "2023-06-18T12:23:26.890Z"
      },
      {
        "duration": 8,
        "start_time": "2023-06-18T12:23:26.902Z"
      },
      {
        "duration": 6,
        "start_time": "2023-06-18T12:23:26.912Z"
      },
      {
        "duration": 10,
        "start_time": "2023-06-18T12:23:26.919Z"
      },
      {
        "duration": 19,
        "start_time": "2023-06-18T12:23:26.954Z"
      },
      {
        "duration": 12,
        "start_time": "2023-06-18T12:23:26.975Z"
      },
      {
        "duration": 429,
        "start_time": "2023-06-18T12:23:26.989Z"
      },
      {
        "duration": 187,
        "start_time": "2023-06-18T12:23:27.420Z"
      },
      {
        "duration": 153,
        "start_time": "2023-06-18T12:23:27.609Z"
      },
      {
        "duration": 217,
        "start_time": "2023-06-18T12:23:27.764Z"
      },
      {
        "duration": 293,
        "start_time": "2023-06-18T12:23:27.983Z"
      },
      {
        "duration": 339,
        "start_time": "2023-06-18T12:23:28.279Z"
      },
      {
        "duration": 47,
        "start_time": "2023-06-18T12:23:28.620Z"
      },
      {
        "duration": 27,
        "start_time": "2023-06-18T12:23:28.669Z"
      },
      {
        "duration": 32,
        "start_time": "2023-06-18T12:23:28.701Z"
      },
      {
        "duration": 286,
        "start_time": "2023-06-18T12:23:28.735Z"
      },
      {
        "duration": 221,
        "start_time": "2023-06-18T12:23:29.023Z"
      },
      {
        "duration": 251,
        "start_time": "2023-06-18T12:23:29.246Z"
      },
      {
        "duration": 230,
        "start_time": "2023-06-18T12:23:29.500Z"
      },
      {
        "duration": 57,
        "start_time": "2023-06-18T12:23:29.732Z"
      },
      {
        "duration": 4,
        "start_time": "2023-06-18T12:23:29.791Z"
      },
      {
        "duration": 196,
        "start_time": "2023-06-18T12:23:29.797Z"
      },
      {
        "duration": 65,
        "start_time": "2023-06-18T12:32:27.002Z"
      },
      {
        "duration": 18,
        "start_time": "2023-06-18T12:36:28.106Z"
      },
      {
        "duration": 14,
        "start_time": "2023-06-18T12:36:35.687Z"
      },
      {
        "duration": 528,
        "start_time": "2023-06-18T12:45:37.160Z"
      },
      {
        "duration": 11,
        "start_time": "2023-06-18T12:46:20.451Z"
      },
      {
        "duration": 16,
        "start_time": "2023-06-18T12:46:43.850Z"
      },
      {
        "duration": 6,
        "start_time": "2023-06-18T13:18:01.991Z"
      },
      {
        "duration": 6,
        "start_time": "2023-06-18T13:19:14.736Z"
      },
      {
        "duration": 12,
        "start_time": "2023-06-18T13:26:33.428Z"
      },
      {
        "duration": 12,
        "start_time": "2023-06-18T13:27:18.890Z"
      },
      {
        "duration": 1988,
        "start_time": "2023-06-18T14:26:18.122Z"
      },
      {
        "duration": 1981,
        "start_time": "2023-06-18T14:26:30.395Z"
      },
      {
        "duration": 4,
        "start_time": "2023-06-18T14:29:36.835Z"
      },
      {
        "duration": 56,
        "start_time": "2023-06-18T14:29:36.842Z"
      },
      {
        "duration": 36,
        "start_time": "2023-06-18T14:29:36.901Z"
      },
      {
        "duration": 34,
        "start_time": "2023-06-18T14:29:36.940Z"
      },
      {
        "duration": 15,
        "start_time": "2023-06-18T14:29:36.976Z"
      },
      {
        "duration": 15,
        "start_time": "2023-06-18T14:29:36.993Z"
      },
      {
        "duration": 26,
        "start_time": "2023-06-18T14:29:37.010Z"
      },
      {
        "duration": 19,
        "start_time": "2023-06-18T14:29:37.038Z"
      },
      {
        "duration": 44,
        "start_time": "2023-06-18T14:29:37.061Z"
      },
      {
        "duration": 31,
        "start_time": "2023-06-18T14:29:37.110Z"
      },
      {
        "duration": 48,
        "start_time": "2023-06-18T14:29:37.143Z"
      },
      {
        "duration": 12,
        "start_time": "2023-06-18T14:29:37.194Z"
      },
      {
        "duration": 7,
        "start_time": "2023-06-18T14:29:37.209Z"
      },
      {
        "duration": 23,
        "start_time": "2023-06-18T14:29:37.218Z"
      },
      {
        "duration": 52,
        "start_time": "2023-06-18T14:29:37.243Z"
      },
      {
        "duration": 16,
        "start_time": "2023-06-18T14:29:37.298Z"
      },
      {
        "duration": 8,
        "start_time": "2023-06-18T14:29:37.316Z"
      },
      {
        "duration": 13,
        "start_time": "2023-06-18T14:29:37.328Z"
      },
      {
        "duration": 51,
        "start_time": "2023-06-18T14:29:37.344Z"
      },
      {
        "duration": 3,
        "start_time": "2023-06-18T14:29:37.397Z"
      },
      {
        "duration": 226,
        "start_time": "2023-06-18T14:29:37.402Z"
      },
      {
        "duration": 205,
        "start_time": "2023-06-18T14:29:37.630Z"
      },
      {
        "duration": 262,
        "start_time": "2023-06-18T14:29:37.837Z"
      },
      {
        "duration": 253,
        "start_time": "2023-06-18T14:29:38.101Z"
      },
      {
        "duration": 560,
        "start_time": "2023-06-18T14:29:38.357Z"
      },
      {
        "duration": 59,
        "start_time": "2023-06-18T14:29:38.918Z"
      },
      {
        "duration": 26,
        "start_time": "2023-06-18T14:29:38.980Z"
      },
      {
        "duration": 19,
        "start_time": "2023-06-18T14:29:39.011Z"
      },
      {
        "duration": 268,
        "start_time": "2023-06-18T14:29:39.033Z"
      },
      {
        "duration": 243,
        "start_time": "2023-06-18T14:29:39.304Z"
      },
      {
        "duration": 275,
        "start_time": "2023-06-18T14:29:39.559Z"
      },
      {
        "duration": 244,
        "start_time": "2023-06-18T14:29:39.836Z"
      },
      {
        "duration": 41,
        "start_time": "2023-06-18T14:29:40.082Z"
      },
      {
        "duration": 4,
        "start_time": "2023-06-18T14:29:40.126Z"
      },
      {
        "duration": 262,
        "start_time": "2023-06-18T14:29:40.132Z"
      },
      {
        "duration": 9,
        "start_time": "2023-06-18T14:29:40.396Z"
      },
      {
        "duration": 53,
        "start_time": "2023-06-18T14:29:40.409Z"
      },
      {
        "duration": 30,
        "start_time": "2023-06-18T14:29:40.464Z"
      },
      {
        "duration": 15,
        "start_time": "2023-06-18T14:33:00.253Z"
      },
      {
        "duration": 8,
        "start_time": "2023-06-18T14:33:08.383Z"
      },
      {
        "duration": 3,
        "start_time": "2023-06-18T14:33:17.095Z"
      },
      {
        "duration": 47,
        "start_time": "2023-06-18T14:33:17.101Z"
      },
      {
        "duration": 43,
        "start_time": "2023-06-18T14:33:17.151Z"
      },
      {
        "duration": 18,
        "start_time": "2023-06-18T14:33:17.196Z"
      },
      {
        "duration": 21,
        "start_time": "2023-06-18T14:33:17.217Z"
      },
      {
        "duration": 26,
        "start_time": "2023-06-18T14:33:17.241Z"
      },
      {
        "duration": 44,
        "start_time": "2023-06-18T14:33:17.275Z"
      },
      {
        "duration": 27,
        "start_time": "2023-06-18T14:33:17.321Z"
      },
      {
        "duration": 51,
        "start_time": "2023-06-18T14:33:17.351Z"
      },
      {
        "duration": 17,
        "start_time": "2023-06-18T14:33:17.404Z"
      },
      {
        "duration": 41,
        "start_time": "2023-06-18T14:33:17.424Z"
      },
      {
        "duration": 20,
        "start_time": "2023-06-18T14:33:17.474Z"
      },
      {
        "duration": 8,
        "start_time": "2023-06-18T14:33:17.499Z"
      },
      {
        "duration": 32,
        "start_time": "2023-06-18T14:33:17.509Z"
      },
      {
        "duration": 37,
        "start_time": "2023-06-18T14:33:17.543Z"
      },
      {
        "duration": 28,
        "start_time": "2023-06-18T14:33:17.582Z"
      },
      {
        "duration": 25,
        "start_time": "2023-06-18T14:33:17.613Z"
      },
      {
        "duration": 49,
        "start_time": "2023-06-18T14:33:17.641Z"
      },
      {
        "duration": 34,
        "start_time": "2023-06-18T14:33:17.692Z"
      },
      {
        "duration": 7,
        "start_time": "2023-06-18T14:33:17.728Z"
      },
      {
        "duration": 238,
        "start_time": "2023-06-18T14:33:17.737Z"
      },
      {
        "duration": 169,
        "start_time": "2023-06-18T14:33:17.977Z"
      },
      {
        "duration": 264,
        "start_time": "2023-06-18T14:33:18.148Z"
      },
      {
        "duration": 519,
        "start_time": "2023-06-18T14:33:18.415Z"
      },
      {
        "duration": 277,
        "start_time": "2023-06-18T14:33:18.937Z"
      },
      {
        "duration": 63,
        "start_time": "2023-06-18T14:33:19.217Z"
      },
      {
        "duration": 25,
        "start_time": "2023-06-18T14:33:19.282Z"
      },
      {
        "duration": 30,
        "start_time": "2023-06-18T14:33:19.309Z"
      },
      {
        "duration": 265,
        "start_time": "2023-06-18T14:33:19.341Z"
      },
      {
        "duration": 234,
        "start_time": "2023-06-18T14:33:19.608Z"
      },
      {
        "duration": 297,
        "start_time": "2023-06-18T14:33:19.845Z"
      },
      {
        "duration": 283,
        "start_time": "2023-06-18T14:33:20.151Z"
      },
      {
        "duration": 72,
        "start_time": "2023-06-18T14:33:20.436Z"
      },
      {
        "duration": 20,
        "start_time": "2023-06-18T14:33:20.510Z"
      },
      {
        "duration": 255,
        "start_time": "2023-06-18T14:33:20.533Z"
      },
      {
        "duration": 10,
        "start_time": "2023-06-18T14:33:20.790Z"
      },
      {
        "duration": 24,
        "start_time": "2023-06-18T14:33:20.805Z"
      },
      {
        "duration": 31,
        "start_time": "2023-06-18T14:33:20.831Z"
      },
      {
        "duration": 3,
        "start_time": "2023-06-18T14:58:53.906Z"
      },
      {
        "duration": 33,
        "start_time": "2023-06-18T14:58:53.913Z"
      },
      {
        "duration": 28,
        "start_time": "2023-06-18T14:58:53.949Z"
      },
      {
        "duration": 18,
        "start_time": "2023-06-18T14:58:53.979Z"
      },
      {
        "duration": 15,
        "start_time": "2023-06-18T14:58:54.001Z"
      },
      {
        "duration": 12,
        "start_time": "2023-06-18T14:58:54.019Z"
      },
      {
        "duration": 20,
        "start_time": "2023-06-18T14:58:54.033Z"
      },
      {
        "duration": 22,
        "start_time": "2023-06-18T14:58:54.056Z"
      },
      {
        "duration": 32,
        "start_time": "2023-06-18T14:58:54.080Z"
      },
      {
        "duration": 21,
        "start_time": "2023-06-18T14:58:54.115Z"
      },
      {
        "duration": 55,
        "start_time": "2023-06-18T14:58:54.137Z"
      },
      {
        "duration": 13,
        "start_time": "2023-06-18T14:58:54.194Z"
      },
      {
        "duration": 13,
        "start_time": "2023-06-18T14:58:54.209Z"
      },
      {
        "duration": 19,
        "start_time": "2023-06-18T14:58:54.227Z"
      },
      {
        "duration": 30,
        "start_time": "2023-06-18T14:58:54.248Z"
      },
      {
        "duration": 14,
        "start_time": "2023-06-18T14:58:54.280Z"
      },
      {
        "duration": 11,
        "start_time": "2023-06-18T14:58:54.297Z"
      },
      {
        "duration": 10,
        "start_time": "2023-06-18T14:58:54.311Z"
      },
      {
        "duration": 18,
        "start_time": "2023-06-18T14:58:54.323Z"
      },
      {
        "duration": 12,
        "start_time": "2023-06-18T14:58:54.343Z"
      },
      {
        "duration": 173,
        "start_time": "2023-06-18T14:58:54.358Z"
      },
      {
        "duration": 305,
        "start_time": "2023-06-18T14:58:54.533Z"
      },
      {
        "duration": 227,
        "start_time": "2023-06-18T14:58:54.840Z"
      },
      {
        "duration": 224,
        "start_time": "2023-06-18T14:58:55.069Z"
      },
      {
        "duration": 270,
        "start_time": "2023-06-18T14:58:55.296Z"
      },
      {
        "duration": 38,
        "start_time": "2023-06-18T14:58:55.569Z"
      },
      {
        "duration": 47,
        "start_time": "2023-06-18T14:58:55.610Z"
      },
      {
        "duration": 19,
        "start_time": "2023-06-18T14:58:55.659Z"
      },
      {
        "duration": 230,
        "start_time": "2023-06-18T14:58:55.680Z"
      },
      {
        "duration": 233,
        "start_time": "2023-06-18T14:58:55.913Z"
      },
      {
        "duration": 237,
        "start_time": "2023-06-18T14:58:56.148Z"
      },
      {
        "duration": 241,
        "start_time": "2023-06-18T14:58:56.387Z"
      },
      {
        "duration": 69,
        "start_time": "2023-06-18T14:58:56.630Z"
      },
      {
        "duration": 6,
        "start_time": "2023-06-18T14:58:56.701Z"
      },
      {
        "duration": 376,
        "start_time": "2023-06-18T14:58:56.710Z"
      },
      {
        "duration": 6,
        "start_time": "2023-06-18T14:58:57.089Z"
      },
      {
        "duration": 16,
        "start_time": "2023-06-18T14:58:57.097Z"
      },
      {
        "duration": 16,
        "start_time": "2023-06-18T14:58:57.116Z"
      },
      {
        "duration": 412,
        "start_time": "2023-06-18T15:57:53.926Z"
      },
      {
        "duration": 43,
        "start_time": "2023-06-18T15:57:54.340Z"
      },
      {
        "duration": 33,
        "start_time": "2023-06-18T15:57:54.388Z"
      },
      {
        "duration": 17,
        "start_time": "2023-06-18T15:57:54.425Z"
      },
      {
        "duration": 30,
        "start_time": "2023-06-18T15:57:54.444Z"
      },
      {
        "duration": 11,
        "start_time": "2023-06-18T15:57:54.476Z"
      },
      {
        "duration": 9,
        "start_time": "2023-06-18T15:57:54.489Z"
      },
      {
        "duration": 13,
        "start_time": "2023-06-18T15:57:54.500Z"
      },
      {
        "duration": 12,
        "start_time": "2023-06-18T15:57:54.515Z"
      },
      {
        "duration": 24,
        "start_time": "2023-06-18T15:57:54.558Z"
      },
      {
        "duration": 18,
        "start_time": "2023-06-18T15:57:54.584Z"
      },
      {
        "duration": 11,
        "start_time": "2023-06-18T15:57:54.605Z"
      },
      {
        "duration": 9,
        "start_time": "2023-06-18T15:57:54.618Z"
      },
      {
        "duration": 32,
        "start_time": "2023-06-18T15:57:54.629Z"
      },
      {
        "duration": 11,
        "start_time": "2023-06-18T15:57:54.673Z"
      },
      {
        "duration": 12,
        "start_time": "2023-06-18T15:57:54.686Z"
      },
      {
        "duration": 6,
        "start_time": "2023-06-18T15:57:54.700Z"
      },
      {
        "duration": 7,
        "start_time": "2023-06-18T15:57:54.708Z"
      },
      {
        "duration": 11,
        "start_time": "2023-06-18T15:57:54.718Z"
      },
      {
        "duration": 411,
        "start_time": "2023-06-18T15:57:54.731Z"
      },
      {
        "duration": 176,
        "start_time": "2023-06-18T15:57:55.144Z"
      },
      {
        "duration": 165,
        "start_time": "2023-06-18T15:57:55.322Z"
      },
      {
        "duration": 245,
        "start_time": "2023-06-18T15:57:55.488Z"
      },
      {
        "duration": 241,
        "start_time": "2023-06-18T15:57:55.735Z"
      },
      {
        "duration": 327,
        "start_time": "2023-06-18T15:57:55.980Z"
      },
      {
        "duration": 31,
        "start_time": "2023-06-18T15:57:56.309Z"
      },
      {
        "duration": 37,
        "start_time": "2023-06-18T15:57:56.342Z"
      },
      {
        "duration": 31,
        "start_time": "2023-06-18T15:57:56.384Z"
      },
      {
        "duration": 290,
        "start_time": "2023-06-18T15:57:56.417Z"
      },
      {
        "duration": 234,
        "start_time": "2023-06-18T15:57:56.710Z"
      },
      {
        "duration": 268,
        "start_time": "2023-06-18T15:57:56.954Z"
      },
      {
        "duration": 234,
        "start_time": "2023-06-18T15:57:57.224Z"
      },
      {
        "duration": 59,
        "start_time": "2023-06-18T15:57:57.460Z"
      },
      {
        "duration": 5,
        "start_time": "2023-06-18T15:57:57.521Z"
      },
      {
        "duration": 213,
        "start_time": "2023-06-18T15:57:57.529Z"
      },
      {
        "duration": 555,
        "start_time": "2023-06-18T15:57:57.745Z"
      },
      {
        "duration": 8,
        "start_time": "2023-06-18T15:57:58.302Z"
      },
      {
        "duration": 15,
        "start_time": "2023-06-18T15:57:58.312Z"
      },
      {
        "duration": 483,
        "start_time": "2023-06-18T16:04:39.823Z"
      },
      {
        "duration": 32,
        "start_time": "2023-06-18T16:04:40.308Z"
      },
      {
        "duration": 34,
        "start_time": "2023-06-18T16:04:40.343Z"
      },
      {
        "duration": 17,
        "start_time": "2023-06-18T16:04:40.379Z"
      },
      {
        "duration": 21,
        "start_time": "2023-06-18T16:04:40.399Z"
      },
      {
        "duration": 12,
        "start_time": "2023-06-18T16:04:40.421Z"
      },
      {
        "duration": 22,
        "start_time": "2023-06-18T16:04:40.439Z"
      },
      {
        "duration": 16,
        "start_time": "2023-06-18T16:04:40.464Z"
      },
      {
        "duration": 15,
        "start_time": "2023-06-18T16:04:40.482Z"
      },
      {
        "duration": 17,
        "start_time": "2023-06-18T16:04:40.500Z"
      },
      {
        "duration": 54,
        "start_time": "2023-06-18T16:04:40.520Z"
      },
      {
        "duration": 14,
        "start_time": "2023-06-18T16:04:40.576Z"
      },
      {
        "duration": 8,
        "start_time": "2023-06-18T16:04:40.592Z"
      },
      {
        "duration": 7,
        "start_time": "2023-06-18T16:04:40.606Z"
      },
      {
        "duration": 40,
        "start_time": "2023-06-18T16:04:40.616Z"
      },
      {
        "duration": 8,
        "start_time": "2023-06-18T16:04:40.659Z"
      },
      {
        "duration": 6,
        "start_time": "2023-06-18T16:04:40.669Z"
      },
      {
        "duration": 10,
        "start_time": "2023-06-18T16:04:40.677Z"
      },
      {
        "duration": 21,
        "start_time": "2023-06-18T16:04:40.690Z"
      },
      {
        "duration": 389,
        "start_time": "2023-06-18T16:04:40.713Z"
      },
      {
        "duration": 234,
        "start_time": "2023-06-18T16:04:41.104Z"
      },
      {
        "duration": 189,
        "start_time": "2023-06-18T16:04:41.340Z"
      },
      {
        "duration": 267,
        "start_time": "2023-06-18T16:04:41.531Z"
      },
      {
        "duration": 284,
        "start_time": "2023-06-18T16:04:41.800Z"
      },
      {
        "duration": 347,
        "start_time": "2023-06-18T16:04:42.086Z"
      },
      {
        "duration": 49,
        "start_time": "2023-06-18T16:04:42.435Z"
      },
      {
        "duration": 25,
        "start_time": "2023-06-18T16:04:42.486Z"
      },
      {
        "duration": 18,
        "start_time": "2023-06-18T16:04:42.513Z"
      },
      {
        "duration": 270,
        "start_time": "2023-06-18T16:04:42.555Z"
      },
      {
        "duration": 250,
        "start_time": "2023-06-18T16:04:42.828Z"
      },
      {
        "duration": 269,
        "start_time": "2023-06-18T16:04:43.080Z"
      },
      {
        "duration": 289,
        "start_time": "2023-06-18T16:04:43.351Z"
      },
      {
        "duration": 63,
        "start_time": "2023-06-18T16:04:43.642Z"
      },
      {
        "duration": 5,
        "start_time": "2023-06-18T16:04:43.707Z"
      },
      {
        "duration": 228,
        "start_time": "2023-06-18T16:04:43.714Z"
      },
      {
        "duration": 757,
        "start_time": "2023-06-18T16:04:43.945Z"
      },
      {
        "duration": 8,
        "start_time": "2023-06-18T16:04:44.705Z"
      },
      {
        "duration": 40,
        "start_time": "2023-06-18T16:04:44.715Z"
      },
      {
        "duration": 24,
        "start_time": "2023-06-18T16:13:17.749Z"
      },
      {
        "duration": 7,
        "start_time": "2023-06-18T16:15:54.602Z"
      },
      {
        "duration": 506,
        "start_time": "2023-06-18T16:19:25.235Z"
      },
      {
        "duration": 29,
        "start_time": "2023-06-18T16:19:25.743Z"
      },
      {
        "duration": 28,
        "start_time": "2023-06-18T16:19:25.774Z"
      },
      {
        "duration": 15,
        "start_time": "2023-06-18T16:19:25.804Z"
      },
      {
        "duration": 24,
        "start_time": "2023-06-18T16:19:25.821Z"
      },
      {
        "duration": 14,
        "start_time": "2023-06-18T16:19:25.848Z"
      },
      {
        "duration": 11,
        "start_time": "2023-06-18T16:19:25.864Z"
      },
      {
        "duration": 30,
        "start_time": "2023-06-18T16:19:25.877Z"
      },
      {
        "duration": 33,
        "start_time": "2023-06-18T16:19:25.909Z"
      },
      {
        "duration": 19,
        "start_time": "2023-06-18T16:19:25.946Z"
      },
      {
        "duration": 26,
        "start_time": "2023-06-18T16:19:25.967Z"
      },
      {
        "duration": 16,
        "start_time": "2023-06-18T16:19:25.995Z"
      },
      {
        "duration": 6,
        "start_time": "2023-06-18T16:19:26.013Z"
      },
      {
        "duration": 13,
        "start_time": "2023-06-18T16:19:26.022Z"
      },
      {
        "duration": 19,
        "start_time": "2023-06-18T16:19:26.055Z"
      },
      {
        "duration": 8,
        "start_time": "2023-06-18T16:19:26.076Z"
      },
      {
        "duration": 22,
        "start_time": "2023-06-18T16:19:26.086Z"
      },
      {
        "duration": 9,
        "start_time": "2023-06-18T16:19:26.110Z"
      },
      {
        "duration": 13,
        "start_time": "2023-06-18T16:19:26.121Z"
      },
      {
        "duration": 330,
        "start_time": "2023-06-18T16:19:26.142Z"
      },
      {
        "duration": 270,
        "start_time": "2023-06-18T16:19:26.474Z"
      },
      {
        "duration": 182,
        "start_time": "2023-06-18T16:19:26.754Z"
      },
      {
        "duration": 222,
        "start_time": "2023-06-18T16:19:26.938Z"
      },
      {
        "duration": 249,
        "start_time": "2023-06-18T16:19:27.162Z"
      },
      {
        "duration": 390,
        "start_time": "2023-06-18T16:19:27.413Z"
      },
      {
        "duration": 51,
        "start_time": "2023-06-18T16:19:27.805Z"
      },
      {
        "duration": 25,
        "start_time": "2023-06-18T16:19:27.858Z"
      },
      {
        "duration": 17,
        "start_time": "2023-06-18T16:19:27.887Z"
      },
      {
        "duration": 261,
        "start_time": "2023-06-18T16:19:27.906Z"
      },
      {
        "duration": 205,
        "start_time": "2023-06-18T16:19:28.169Z"
      },
      {
        "duration": 202,
        "start_time": "2023-06-18T16:19:28.375Z"
      },
      {
        "duration": 230,
        "start_time": "2023-06-18T16:19:28.579Z"
      },
      {
        "duration": 53,
        "start_time": "2023-06-18T16:19:28.812Z"
      },
      {
        "duration": 4,
        "start_time": "2023-06-18T16:19:28.868Z"
      },
      {
        "duration": 162,
        "start_time": "2023-06-18T16:19:28.875Z"
      },
      {
        "duration": 529,
        "start_time": "2023-06-18T16:19:29.039Z"
      },
      {
        "duration": 6,
        "start_time": "2023-06-18T16:19:29.570Z"
      },
      {
        "duration": 16,
        "start_time": "2023-06-18T16:19:29.579Z"
      },
      {
        "duration": 74,
        "start_time": "2023-06-18T21:40:29.607Z"
      },
      {
        "duration": 398,
        "start_time": "2023-06-18T21:40:38.494Z"
      },
      {
        "duration": 109,
        "start_time": "2023-06-18T21:40:38.894Z"
      },
      {
        "duration": 525,
        "start_time": "2023-06-18T21:40:39.004Z"
      },
      {
        "duration": 65,
        "start_time": "2023-06-18T21:40:39.535Z"
      },
      {
        "duration": 26,
        "start_time": "2023-06-18T21:40:39.603Z"
      },
      {
        "duration": 18,
        "start_time": "2023-06-18T21:40:39.631Z"
      },
      {
        "duration": 13,
        "start_time": "2023-06-18T21:40:39.651Z"
      },
      {
        "duration": 18,
        "start_time": "2023-06-18T21:40:39.666Z"
      },
      {
        "duration": 13,
        "start_time": "2023-06-18T21:40:39.687Z"
      },
      {
        "duration": 28,
        "start_time": "2023-06-18T21:40:39.702Z"
      },
      {
        "duration": 29,
        "start_time": "2023-06-18T21:40:39.732Z"
      },
      {
        "duration": 13,
        "start_time": "2023-06-18T21:40:39.766Z"
      },
      {
        "duration": 6,
        "start_time": "2023-06-18T21:40:39.782Z"
      },
      {
        "duration": 27,
        "start_time": "2023-06-18T21:40:39.792Z"
      },
      {
        "duration": 25,
        "start_time": "2023-06-18T21:40:39.821Z"
      },
      {
        "duration": 11,
        "start_time": "2023-06-18T21:40:39.849Z"
      },
      {
        "duration": 12,
        "start_time": "2023-06-18T21:40:39.862Z"
      },
      {
        "duration": 10,
        "start_time": "2023-06-18T21:40:39.876Z"
      },
      {
        "duration": 8,
        "start_time": "2023-06-18T21:40:39.888Z"
      },
      {
        "duration": 34,
        "start_time": "2023-06-18T21:40:39.898Z"
      },
      {
        "duration": 570,
        "start_time": "2023-06-18T21:40:39.936Z"
      },
      {
        "duration": 236,
        "start_time": "2023-06-18T21:40:40.508Z"
      },
      {
        "duration": 154,
        "start_time": "2023-06-18T21:40:40.745Z"
      },
      {
        "duration": 221,
        "start_time": "2023-06-18T21:40:40.901Z"
      },
      {
        "duration": 274,
        "start_time": "2023-06-18T21:40:41.126Z"
      },
      {
        "duration": 236,
        "start_time": "2023-06-18T21:40:41.401Z"
      },
      {
        "duration": 34,
        "start_time": "2023-06-18T21:40:41.640Z"
      },
      {
        "duration": 17,
        "start_time": "2023-06-18T21:40:41.676Z"
      },
      {
        "duration": 41,
        "start_time": "2023-06-18T21:40:41.695Z"
      },
      {
        "duration": 216,
        "start_time": "2023-06-18T21:40:41.742Z"
      },
      {
        "duration": 211,
        "start_time": "2023-06-18T21:40:41.960Z"
      },
      {
        "duration": 231,
        "start_time": "2023-06-18T21:40:42.173Z"
      },
      {
        "duration": 279,
        "start_time": "2023-06-18T21:40:42.407Z"
      },
      {
        "duration": 73,
        "start_time": "2023-06-18T21:40:42.688Z"
      },
      {
        "duration": 5,
        "start_time": "2023-06-18T21:40:42.763Z"
      },
      {
        "duration": 198,
        "start_time": "2023-06-18T21:40:42.770Z"
      },
      {
        "duration": 637,
        "start_time": "2023-06-18T21:40:42.971Z"
      },
      {
        "duration": 13,
        "start_time": "2023-06-18T21:40:43.610Z"
      },
      {
        "duration": 20,
        "start_time": "2023-06-18T21:40:43.635Z"
      },
      {
        "duration": 5,
        "start_time": "2023-06-18T21:41:15.589Z"
      },
      {
        "duration": 3,
        "start_time": "2023-06-18T21:45:47.891Z"
      },
      {
        "duration": 131,
        "start_time": "2023-06-18T21:46:25.709Z"
      },
      {
        "duration": 3,
        "start_time": "2023-06-18T21:46:36.032Z"
      },
      {
        "duration": 38,
        "start_time": "2023-06-18T21:46:36.037Z"
      },
      {
        "duration": 28,
        "start_time": "2023-06-18T21:46:36.078Z"
      },
      {
        "duration": 27,
        "start_time": "2023-06-18T21:46:36.108Z"
      },
      {
        "duration": 10,
        "start_time": "2023-06-18T21:46:36.138Z"
      },
      {
        "duration": 29,
        "start_time": "2023-06-18T21:46:36.150Z"
      },
      {
        "duration": 29,
        "start_time": "2023-06-18T21:46:36.182Z"
      },
      {
        "duration": 21,
        "start_time": "2023-06-18T21:46:36.212Z"
      },
      {
        "duration": 12,
        "start_time": "2023-06-18T21:46:36.235Z"
      },
      {
        "duration": 13,
        "start_time": "2023-06-18T21:46:36.250Z"
      },
      {
        "duration": 20,
        "start_time": "2023-06-18T21:46:36.265Z"
      },
      {
        "duration": 30,
        "start_time": "2023-06-18T21:46:36.287Z"
      },
      {
        "duration": 5,
        "start_time": "2023-06-18T21:46:36.320Z"
      },
      {
        "duration": 5,
        "start_time": "2023-06-18T21:46:36.329Z"
      },
      {
        "duration": 25,
        "start_time": "2023-06-18T21:46:36.335Z"
      },
      {
        "duration": 28,
        "start_time": "2023-06-18T21:46:36.362Z"
      },
      {
        "duration": 11,
        "start_time": "2023-06-18T21:46:36.392Z"
      },
      {
        "duration": 11,
        "start_time": "2023-06-18T21:46:36.405Z"
      },
      {
        "duration": 7,
        "start_time": "2023-06-18T21:46:36.418Z"
      },
      {
        "duration": 14,
        "start_time": "2023-06-18T21:46:36.427Z"
      },
      {
        "duration": 16,
        "start_time": "2023-06-18T21:46:36.443Z"
      },
      {
        "duration": 208,
        "start_time": "2023-06-18T21:46:36.461Z"
      },
      {
        "duration": 194,
        "start_time": "2023-06-18T21:46:36.671Z"
      },
      {
        "duration": 215,
        "start_time": "2023-06-18T21:46:36.866Z"
      },
      {
        "duration": 209,
        "start_time": "2023-06-18T21:46:37.083Z"
      },
      {
        "duration": 213,
        "start_time": "2023-06-18T21:46:37.294Z"
      },
      {
        "duration": 34,
        "start_time": "2023-06-18T21:46:37.509Z"
      },
      {
        "duration": 15,
        "start_time": "2023-06-18T21:46:37.545Z"
      },
      {
        "duration": 13,
        "start_time": "2023-06-18T21:46:37.562Z"
      },
      {
        "duration": 257,
        "start_time": "2023-06-18T21:46:37.576Z"
      },
      {
        "duration": 286,
        "start_time": "2023-06-18T21:46:37.835Z"
      },
      {
        "duration": 253,
        "start_time": "2023-06-18T21:46:38.125Z"
      },
      {
        "duration": 257,
        "start_time": "2023-06-18T21:46:38.380Z"
      },
      {
        "duration": 52,
        "start_time": "2023-06-18T21:46:38.639Z"
      },
      {
        "duration": 4,
        "start_time": "2023-06-18T21:46:38.694Z"
      },
      {
        "duration": 161,
        "start_time": "2023-06-18T21:46:38.713Z"
      },
      {
        "duration": 6,
        "start_time": "2023-06-18T21:46:38.876Z"
      },
      {
        "duration": 11,
        "start_time": "2023-06-18T21:46:38.884Z"
      },
      {
        "duration": 38,
        "start_time": "2023-06-18T21:46:38.896Z"
      },
      {
        "duration": 3,
        "start_time": "2023-06-18T21:48:10.650Z"
      },
      {
        "duration": 81,
        "start_time": "2023-06-18T21:48:46.753Z"
      },
      {
        "duration": 23,
        "start_time": "2023-06-18T21:48:55.606Z"
      },
      {
        "duration": 17,
        "start_time": "2023-06-18T21:51:06.791Z"
      },
      {
        "duration": 14,
        "start_time": "2023-06-18T21:52:22.989Z"
      },
      {
        "duration": 11,
        "start_time": "2023-06-18T21:52:38.831Z"
      },
      {
        "duration": 195,
        "start_time": "2023-06-18T21:56:09.132Z"
      },
      {
        "duration": 8,
        "start_time": "2023-06-18T21:58:44.151Z"
      },
      {
        "duration": 6,
        "start_time": "2023-06-18T22:01:08.057Z"
      },
      {
        "duration": 12,
        "start_time": "2023-06-18T22:01:49.424Z"
      },
      {
        "duration": 11,
        "start_time": "2023-06-18T22:01:57.189Z"
      },
      {
        "duration": 11,
        "start_time": "2023-06-18T22:02:24.997Z"
      },
      {
        "duration": 12,
        "start_time": "2023-06-18T22:02:56.244Z"
      },
      {
        "duration": 10,
        "start_time": "2023-06-18T22:03:21.373Z"
      },
      {
        "duration": 8,
        "start_time": "2023-06-18T22:03:47.965Z"
      },
      {
        "duration": 159,
        "start_time": "2023-06-18T22:03:57.749Z"
      },
      {
        "duration": 152,
        "start_time": "2023-06-18T22:06:28.107Z"
      },
      {
        "duration": 6,
        "start_time": "2023-06-18T22:18:23.032Z"
      },
      {
        "duration": 87,
        "start_time": "2023-06-18T22:19:45.130Z"
      },
      {
        "duration": 194,
        "start_time": "2023-06-18T22:21:07.895Z"
      },
      {
        "duration": 11,
        "start_time": "2023-06-18T22:26:28.487Z"
      },
      {
        "duration": 232,
        "start_time": "2023-06-18T22:30:55.247Z"
      },
      {
        "duration": 122,
        "start_time": "2023-06-18T22:31:23.400Z"
      },
      {
        "duration": 61,
        "start_time": "2023-06-19T14:34:49.075Z"
      },
      {
        "duration": 1267,
        "start_time": "2023-06-19T14:34:53.969Z"
      },
      {
        "duration": 101,
        "start_time": "2023-06-19T14:34:55.238Z"
      },
      {
        "duration": 75,
        "start_time": "2023-06-19T14:34:55.341Z"
      },
      {
        "duration": 87,
        "start_time": "2023-06-19T14:34:55.425Z"
      },
      {
        "duration": 19,
        "start_time": "2023-06-19T14:34:55.514Z"
      },
      {
        "duration": 40,
        "start_time": "2023-06-19T14:34:55.534Z"
      },
      {
        "duration": 42,
        "start_time": "2023-06-19T14:34:55.576Z"
      },
      {
        "duration": 31,
        "start_time": "2023-06-19T14:34:55.619Z"
      },
      {
        "duration": 44,
        "start_time": "2023-06-19T14:34:55.651Z"
      },
      {
        "duration": 89,
        "start_time": "2023-06-19T14:34:55.698Z"
      },
      {
        "duration": 23,
        "start_time": "2023-06-19T14:34:55.788Z"
      },
      {
        "duration": 27,
        "start_time": "2023-06-19T14:34:55.812Z"
      },
      {
        "duration": 4,
        "start_time": "2023-06-19T14:34:55.840Z"
      },
      {
        "duration": 39,
        "start_time": "2023-06-19T14:34:55.846Z"
      },
      {
        "duration": 25,
        "start_time": "2023-06-19T14:34:55.886Z"
      },
      {
        "duration": 36,
        "start_time": "2023-06-19T14:34:55.912Z"
      },
      {
        "duration": 21,
        "start_time": "2023-06-19T14:34:55.949Z"
      },
      {
        "duration": 12,
        "start_time": "2023-06-19T14:34:55.971Z"
      },
      {
        "duration": 16,
        "start_time": "2023-06-19T14:34:55.985Z"
      },
      {
        "duration": 11,
        "start_time": "2023-06-19T14:34:56.003Z"
      },
      {
        "duration": 27,
        "start_time": "2023-06-19T14:34:56.016Z"
      },
      {
        "duration": 10,
        "start_time": "2023-06-19T14:34:56.044Z"
      },
      {
        "duration": 40,
        "start_time": "2023-06-19T14:34:56.055Z"
      },
      {
        "duration": 142,
        "start_time": "2023-06-19T14:34:56.097Z"
      },
      {
        "duration": 131,
        "start_time": "2023-06-19T14:34:56.241Z"
      },
      {
        "duration": 5,
        "start_time": "2023-06-19T14:34:56.373Z"
      },
      {
        "duration": 67,
        "start_time": "2023-06-19T14:34:56.379Z"
      },
      {
        "duration": 184,
        "start_time": "2023-06-19T14:34:56.450Z"
      },
      {
        "duration": 8,
        "start_time": "2023-06-19T14:34:56.635Z"
      },
      {
        "duration": 164,
        "start_time": "2023-06-19T14:34:56.644Z"
      },
      {
        "duration": 189,
        "start_time": "2023-06-19T14:34:56.809Z"
      },
      {
        "duration": 38,
        "start_time": "2023-06-19T14:34:56.999Z"
      },
      {
        "duration": 12,
        "start_time": "2023-06-19T14:34:57.039Z"
      },
      {
        "duration": 28,
        "start_time": "2023-06-19T14:34:57.052Z"
      },
      {
        "duration": 11,
        "start_time": "2023-06-19T14:34:57.082Z"
      },
      {
        "duration": 189,
        "start_time": "2023-06-19T14:34:57.094Z"
      },
      {
        "duration": 167,
        "start_time": "2023-06-19T14:34:57.285Z"
      },
      {
        "duration": 172,
        "start_time": "2023-06-19T14:34:57.453Z"
      },
      {
        "duration": 223,
        "start_time": "2023-06-19T14:34:57.632Z"
      },
      {
        "duration": 32,
        "start_time": "2023-06-19T14:34:57.856Z"
      },
      {
        "duration": 3,
        "start_time": "2023-06-19T14:34:57.889Z"
      },
      {
        "duration": 160,
        "start_time": "2023-06-19T14:34:57.893Z"
      },
      {
        "duration": 5,
        "start_time": "2023-06-19T14:34:58.054Z"
      },
      {
        "duration": 21,
        "start_time": "2023-06-19T14:34:58.061Z"
      },
      {
        "duration": 32,
        "start_time": "2023-06-19T14:34:58.087Z"
      },
      {
        "duration": 172,
        "start_time": "2023-06-19T14:45:54.717Z"
      },
      {
        "duration": 203,
        "start_time": "2023-06-19T14:47:12.923Z"
      },
      {
        "duration": 187,
        "start_time": "2023-06-19T14:47:35.309Z"
      },
      {
        "duration": 173,
        "start_time": "2023-06-19T14:47:49.347Z"
      },
      {
        "duration": 175,
        "start_time": "2023-06-19T14:48:36.808Z"
      },
      {
        "duration": 257,
        "start_time": "2023-06-19T14:49:01.571Z"
      },
      {
        "duration": 275,
        "start_time": "2023-06-19T14:50:46.859Z"
      },
      {
        "duration": 185,
        "start_time": "2023-06-19T14:51:00.801Z"
      },
      {
        "duration": 220,
        "start_time": "2023-06-19T14:52:14.742Z"
      },
      {
        "duration": 220,
        "start_time": "2023-06-19T14:53:11.384Z"
      },
      {
        "duration": 3,
        "start_time": "2023-06-19T14:53:51.861Z"
      },
      {
        "duration": 2,
        "start_time": "2023-06-19T14:53:57.935Z"
      },
      {
        "duration": 235,
        "start_time": "2023-06-19T14:57:25.009Z"
      },
      {
        "duration": 2,
        "start_time": "2023-06-19T14:58:05.586Z"
      },
      {
        "duration": 3,
        "start_time": "2023-06-19T14:58:11.426Z"
      },
      {
        "duration": 36,
        "start_time": "2023-06-19T15:06:16.585Z"
      },
      {
        "duration": 4,
        "start_time": "2023-06-19T15:07:46.812Z"
      },
      {
        "duration": 89,
        "start_time": "2023-06-19T15:07:46.820Z"
      },
      {
        "duration": 42,
        "start_time": "2023-06-19T15:07:46.911Z"
      },
      {
        "duration": 42,
        "start_time": "2023-06-19T15:07:46.955Z"
      },
      {
        "duration": 9,
        "start_time": "2023-06-19T15:07:46.999Z"
      },
      {
        "duration": 57,
        "start_time": "2023-06-19T15:07:47.010Z"
      },
      {
        "duration": 20,
        "start_time": "2023-06-19T15:07:47.068Z"
      },
      {
        "duration": 86,
        "start_time": "2023-06-19T15:07:47.090Z"
      },
      {
        "duration": 31,
        "start_time": "2023-06-19T15:07:47.178Z"
      },
      {
        "duration": 75,
        "start_time": "2023-06-19T15:07:47.210Z"
      },
      {
        "duration": 13,
        "start_time": "2023-06-19T15:07:47.375Z"
      },
      {
        "duration": 22,
        "start_time": "2023-06-19T15:07:47.390Z"
      },
      {
        "duration": 12,
        "start_time": "2023-06-19T15:07:47.414Z"
      },
      {
        "duration": 49,
        "start_time": "2023-06-19T15:07:47.428Z"
      },
      {
        "duration": 37,
        "start_time": "2023-06-19T15:07:47.479Z"
      },
      {
        "duration": 53,
        "start_time": "2023-06-19T15:07:47.517Z"
      },
      {
        "duration": 24,
        "start_time": "2023-06-19T15:07:47.572Z"
      },
      {
        "duration": 62,
        "start_time": "2023-06-19T15:07:47.597Z"
      },
      {
        "duration": 16,
        "start_time": "2023-06-19T15:07:47.661Z"
      },
      {
        "duration": 10,
        "start_time": "2023-06-19T15:07:47.679Z"
      },
      {
        "duration": 9,
        "start_time": "2023-06-19T15:07:47.691Z"
      },
      {
        "duration": 56,
        "start_time": "2023-06-19T15:07:47.701Z"
      },
      {
        "duration": 32,
        "start_time": "2023-06-19T15:07:47.759Z"
      },
      {
        "duration": 186,
        "start_time": "2023-06-19T15:07:47.793Z"
      },
      {
        "duration": 135,
        "start_time": "2023-06-19T15:07:47.981Z"
      },
      {
        "duration": 7,
        "start_time": "2023-06-19T15:07:48.118Z"
      },
      {
        "duration": 92,
        "start_time": "2023-06-19T15:07:48.127Z"
      },
      {
        "duration": 191,
        "start_time": "2023-06-19T15:07:48.226Z"
      },
      {
        "duration": 10,
        "start_time": "2023-06-19T15:07:48.422Z"
      },
      {
        "duration": 281,
        "start_time": "2023-06-19T15:07:48.433Z"
      },
      {
        "duration": 319,
        "start_time": "2023-06-19T15:07:48.716Z"
      },
      {
        "duration": 37,
        "start_time": "2023-06-19T15:07:49.037Z"
      },
      {
        "duration": 117,
        "start_time": "2023-06-19T15:07:49.076Z"
      },
      {
        "duration": 219,
        "start_time": "2023-06-19T15:07:49.195Z"
      },
      {
        "duration": 114,
        "start_time": "2023-06-19T15:07:49.415Z"
      },
      {
        "duration": 52,
        "start_time": "2023-06-19T15:07:49.531Z"
      },
      {
        "duration": 115,
        "start_time": "2023-06-19T15:07:49.584Z"
      },
      {
        "duration": 328,
        "start_time": "2023-06-19T15:07:49.700Z"
      },
      {
        "duration": 5,
        "start_time": "2023-06-19T15:07:50.031Z"
      },
      {
        "duration": 58,
        "start_time": "2023-06-19T15:07:50.037Z"
      },
      {
        "duration": 373,
        "start_time": "2023-06-19T15:07:50.097Z"
      },
      {
        "duration": 108,
        "start_time": "2023-06-19T15:07:50.471Z"
      },
      {
        "duration": 179,
        "start_time": "2023-06-19T15:07:50.581Z"
      },
      {
        "duration": 5,
        "start_time": "2023-06-19T15:07:50.762Z"
      },
      {
        "duration": 16,
        "start_time": "2023-06-19T15:07:50.769Z"
      },
      {
        "duration": 35,
        "start_time": "2023-06-19T15:07:50.787Z"
      },
      {
        "duration": 36,
        "start_time": "2023-06-19T15:09:31.213Z"
      },
      {
        "duration": 3,
        "start_time": "2023-06-19T15:09:39.991Z"
      },
      {
        "duration": 73,
        "start_time": "2023-06-19T15:09:39.996Z"
      },
      {
        "duration": 34,
        "start_time": "2023-06-19T15:09:40.071Z"
      },
      {
        "duration": 33,
        "start_time": "2023-06-19T15:09:40.107Z"
      },
      {
        "duration": 13,
        "start_time": "2023-06-19T15:09:40.142Z"
      },
      {
        "duration": 33,
        "start_time": "2023-06-19T15:09:40.158Z"
      },
      {
        "duration": 19,
        "start_time": "2023-06-19T15:09:40.193Z"
      },
      {
        "duration": 41,
        "start_time": "2023-06-19T15:09:40.213Z"
      },
      {
        "duration": 26,
        "start_time": "2023-06-19T15:09:40.256Z"
      },
      {
        "duration": 21,
        "start_time": "2023-06-19T15:09:40.283Z"
      },
      {
        "duration": 55,
        "start_time": "2023-06-19T15:09:40.305Z"
      },
      {
        "duration": 18,
        "start_time": "2023-06-19T15:09:40.362Z"
      },
      {
        "duration": 10,
        "start_time": "2023-06-19T15:09:40.381Z"
      },
      {
        "duration": 18,
        "start_time": "2023-06-19T15:09:40.392Z"
      },
      {
        "duration": 29,
        "start_time": "2023-06-19T15:09:40.412Z"
      },
      {
        "duration": 16,
        "start_time": "2023-06-19T15:09:40.443Z"
      },
      {
        "duration": 15,
        "start_time": "2023-06-19T15:09:40.461Z"
      },
      {
        "duration": 16,
        "start_time": "2023-06-19T15:09:40.477Z"
      },
      {
        "duration": 10,
        "start_time": "2023-06-19T15:09:40.495Z"
      },
      {
        "duration": 38,
        "start_time": "2023-06-19T15:09:40.507Z"
      },
      {
        "duration": 27,
        "start_time": "2023-06-19T15:09:40.546Z"
      },
      {
        "duration": 8,
        "start_time": "2023-06-19T15:09:40.575Z"
      },
      {
        "duration": 19,
        "start_time": "2023-06-19T15:09:40.585Z"
      },
      {
        "duration": 147,
        "start_time": "2023-06-19T15:09:40.608Z"
      },
      {
        "duration": 146,
        "start_time": "2023-06-19T15:09:40.757Z"
      },
      {
        "duration": 21,
        "start_time": "2023-06-19T15:09:40.905Z"
      },
      {
        "duration": 79,
        "start_time": "2023-06-19T15:09:40.929Z"
      },
      {
        "duration": 255,
        "start_time": "2023-06-19T15:09:41.010Z"
      },
      {
        "duration": 8,
        "start_time": "2023-06-19T15:09:41.267Z"
      },
      {
        "duration": 198,
        "start_time": "2023-06-19T15:09:41.277Z"
      },
      {
        "duration": 195,
        "start_time": "2023-06-19T15:09:41.477Z"
      },
      {
        "duration": 30,
        "start_time": "2023-06-19T15:09:41.673Z"
      },
      {
        "duration": 24,
        "start_time": "2023-06-19T15:09:41.705Z"
      },
      {
        "duration": 29,
        "start_time": "2023-06-19T15:09:41.730Z"
      },
      {
        "duration": 17,
        "start_time": "2023-06-19T15:09:41.760Z"
      },
      {
        "duration": 9,
        "start_time": "2023-06-19T15:09:41.778Z"
      },
      {
        "duration": 7,
        "start_time": "2023-06-19T15:09:41.788Z"
      },
      {
        "duration": 216,
        "start_time": "2023-06-19T15:09:41.798Z"
      },
      {
        "duration": 11,
        "start_time": "2023-06-19T15:09:42.022Z"
      },
      {
        "duration": 19,
        "start_time": "2023-06-19T15:09:42.038Z"
      },
      {
        "duration": 288,
        "start_time": "2023-06-19T15:09:42.059Z"
      },
      {
        "duration": 32,
        "start_time": "2023-06-19T15:09:42.349Z"
      },
      {
        "duration": 156,
        "start_time": "2023-06-19T15:09:42.382Z"
      },
      {
        "duration": 5,
        "start_time": "2023-06-19T15:09:42.540Z"
      },
      {
        "duration": 40,
        "start_time": "2023-06-19T15:09:42.547Z"
      },
      {
        "duration": 27,
        "start_time": "2023-06-19T15:09:42.589Z"
      },
      {
        "duration": 35,
        "start_time": "2023-06-19T15:10:50.057Z"
      },
      {
        "duration": 3,
        "start_time": "2023-06-19T15:11:11.946Z"
      },
      {
        "duration": 136,
        "start_time": "2023-06-19T15:11:11.951Z"
      },
      {
        "duration": 123,
        "start_time": "2023-06-19T15:11:12.089Z"
      },
      {
        "duration": 139,
        "start_time": "2023-06-19T15:11:12.214Z"
      },
      {
        "duration": 173,
        "start_time": "2023-06-19T15:11:12.356Z"
      },
      {
        "duration": 61,
        "start_time": "2023-06-19T15:11:12.533Z"
      },
      {
        "duration": 84,
        "start_time": "2023-06-19T15:11:12.596Z"
      },
      {
        "duration": 75,
        "start_time": "2023-06-19T15:11:12.682Z"
      },
      {
        "duration": 60,
        "start_time": "2023-06-19T15:11:12.759Z"
      },
      {
        "duration": 52,
        "start_time": "2023-06-19T15:11:12.826Z"
      },
      {
        "duration": 83,
        "start_time": "2023-06-19T15:11:12.880Z"
      },
      {
        "duration": 39,
        "start_time": "2023-06-19T15:11:12.965Z"
      },
      {
        "duration": 39,
        "start_time": "2023-06-19T15:11:13.005Z"
      },
      {
        "duration": 18,
        "start_time": "2023-06-19T15:11:13.046Z"
      },
      {
        "duration": 22,
        "start_time": "2023-06-19T15:11:13.066Z"
      },
      {
        "duration": 24,
        "start_time": "2023-06-19T15:11:13.090Z"
      },
      {
        "duration": 44,
        "start_time": "2023-06-19T15:11:13.115Z"
      },
      {
        "duration": 10,
        "start_time": "2023-06-19T15:11:13.160Z"
      },
      {
        "duration": 26,
        "start_time": "2023-06-19T15:11:13.172Z"
      },
      {
        "duration": 44,
        "start_time": "2023-06-19T15:11:13.200Z"
      },
      {
        "duration": 21,
        "start_time": "2023-06-19T15:11:13.246Z"
      },
      {
        "duration": 21,
        "start_time": "2023-06-19T15:11:13.268Z"
      },
      {
        "duration": 17,
        "start_time": "2023-06-19T15:11:13.290Z"
      },
      {
        "duration": 178,
        "start_time": "2023-06-19T15:11:13.309Z"
      },
      {
        "duration": 143,
        "start_time": "2023-06-19T15:11:13.488Z"
      },
      {
        "duration": 8,
        "start_time": "2023-06-19T15:11:13.632Z"
      },
      {
        "duration": 83,
        "start_time": "2023-06-19T15:11:13.642Z"
      },
      {
        "duration": 267,
        "start_time": "2023-06-19T15:11:13.738Z"
      },
      {
        "duration": 8,
        "start_time": "2023-06-19T15:11:14.009Z"
      },
      {
        "duration": 249,
        "start_time": "2023-06-19T15:11:14.022Z"
      },
      {
        "duration": 213,
        "start_time": "2023-06-19T15:11:14.273Z"
      },
      {
        "duration": 21,
        "start_time": "2023-06-19T15:11:14.488Z"
      },
      {
        "duration": 60,
        "start_time": "2023-06-19T15:11:14.511Z"
      },
      {
        "duration": 34,
        "start_time": "2023-06-19T15:11:14.573Z"
      },
      {
        "duration": 64,
        "start_time": "2023-06-19T15:11:14.609Z"
      },
      {
        "duration": 6,
        "start_time": "2023-06-19T15:11:14.675Z"
      },
      {
        "duration": 16,
        "start_time": "2023-06-19T15:11:14.683Z"
      },
      {
        "duration": 265,
        "start_time": "2023-06-19T15:11:14.701Z"
      },
      {
        "duration": 3,
        "start_time": "2023-06-19T15:11:14.967Z"
      },
      {
        "duration": 23,
        "start_time": "2023-06-19T15:11:14.971Z"
      },
      {
        "duration": 290,
        "start_time": "2023-06-19T15:11:14.996Z"
      },
      {
        "duration": 55,
        "start_time": "2023-06-19T15:11:15.288Z"
      },
      {
        "duration": 164,
        "start_time": "2023-06-19T15:11:15.347Z"
      },
      {
        "duration": 9,
        "start_time": "2023-06-19T15:11:15.513Z"
      },
      {
        "duration": 62,
        "start_time": "2023-06-19T15:11:15.523Z"
      },
      {
        "duration": 113,
        "start_time": "2023-06-19T15:11:15.587Z"
      },
      {
        "duration": 362,
        "start_time": "2023-06-19T15:12:05.404Z"
      },
      {
        "duration": 208,
        "start_time": "2023-06-19T15:12:16.184Z"
      },
      {
        "duration": 283,
        "start_time": "2023-06-19T15:12:26.066Z"
      },
      {
        "duration": 16,
        "start_time": "2023-06-19T15:27:39.462Z"
      },
      {
        "duration": 56,
        "start_time": "2023-06-19T15:31:11.956Z"
      },
      {
        "duration": 103,
        "start_time": "2023-06-19T15:31:41.401Z"
      },
      {
        "duration": 60,
        "start_time": "2023-06-19T15:31:54.623Z"
      },
      {
        "duration": 49,
        "start_time": "2023-06-19T15:32:39.898Z"
      },
      {
        "duration": 54,
        "start_time": "2023-06-19T15:33:11.553Z"
      },
      {
        "duration": 102,
        "start_time": "2023-06-19T15:35:17.410Z"
      },
      {
        "duration": 268,
        "start_time": "2023-06-19T15:38:00.789Z"
      },
      {
        "duration": 207,
        "start_time": "2023-06-19T15:40:10.242Z"
      },
      {
        "duration": 87,
        "start_time": "2023-06-19T15:43:09.290Z"
      },
      {
        "duration": 66,
        "start_time": "2023-06-19T15:44:32.675Z"
      },
      {
        "duration": 247,
        "start_time": "2023-06-19T15:45:22.258Z"
      },
      {
        "duration": 7,
        "start_time": "2023-06-19T15:46:13.576Z"
      },
      {
        "duration": 8,
        "start_time": "2023-06-19T15:46:35.496Z"
      },
      {
        "duration": 18,
        "start_time": "2023-06-19T15:50:05.642Z"
      },
      {
        "duration": 3,
        "start_time": "2023-06-19T15:51:15.061Z"
      },
      {
        "duration": 67,
        "start_time": "2023-06-19T15:51:15.066Z"
      },
      {
        "duration": 31,
        "start_time": "2023-06-19T15:51:15.135Z"
      },
      {
        "duration": 15,
        "start_time": "2023-06-19T15:51:15.167Z"
      },
      {
        "duration": 10,
        "start_time": "2023-06-19T15:51:15.184Z"
      },
      {
        "duration": 22,
        "start_time": "2023-06-19T15:51:15.195Z"
      },
      {
        "duration": 51,
        "start_time": "2023-06-19T15:51:15.218Z"
      },
      {
        "duration": 33,
        "start_time": "2023-06-19T15:51:15.271Z"
      },
      {
        "duration": 13,
        "start_time": "2023-06-19T15:51:15.305Z"
      },
      {
        "duration": 27,
        "start_time": "2023-06-19T15:51:15.319Z"
      },
      {
        "duration": 33,
        "start_time": "2023-06-19T15:51:15.349Z"
      },
      {
        "duration": 30,
        "start_time": "2023-06-19T15:51:15.384Z"
      },
      {
        "duration": 45,
        "start_time": "2023-06-19T15:51:15.416Z"
      },
      {
        "duration": 13,
        "start_time": "2023-06-19T15:51:15.463Z"
      },
      {
        "duration": 15,
        "start_time": "2023-06-19T15:51:15.477Z"
      },
      {
        "duration": 16,
        "start_time": "2023-06-19T15:51:15.494Z"
      },
      {
        "duration": 43,
        "start_time": "2023-06-19T15:51:15.512Z"
      },
      {
        "duration": 5,
        "start_time": "2023-06-19T15:51:15.557Z"
      },
      {
        "duration": 10,
        "start_time": "2023-06-19T15:51:15.564Z"
      },
      {
        "duration": 13,
        "start_time": "2023-06-19T15:51:15.575Z"
      },
      {
        "duration": 13,
        "start_time": "2023-06-19T15:51:15.590Z"
      },
      {
        "duration": 10,
        "start_time": "2023-06-19T15:51:15.606Z"
      },
      {
        "duration": 47,
        "start_time": "2023-06-19T15:51:15.617Z"
      },
      {
        "duration": 140,
        "start_time": "2023-06-19T15:51:15.665Z"
      },
      {
        "duration": 125,
        "start_time": "2023-06-19T15:51:15.806Z"
      },
      {
        "duration": 5,
        "start_time": "2023-06-19T15:51:15.932Z"
      },
      {
        "duration": 54,
        "start_time": "2023-06-19T15:51:15.938Z"
      },
      {
        "duration": 186,
        "start_time": "2023-06-19T15:51:15.993Z"
      },
      {
        "duration": 5,
        "start_time": "2023-06-19T15:51:16.182Z"
      },
      {
        "duration": 187,
        "start_time": "2023-06-19T15:51:16.189Z"
      },
      {
        "duration": 212,
        "start_time": "2023-06-19T15:51:16.377Z"
      },
      {
        "duration": 24,
        "start_time": "2023-06-19T15:51:16.590Z"
      },
      {
        "duration": 17,
        "start_time": "2023-06-19T15:51:16.620Z"
      },
      {
        "duration": 22,
        "start_time": "2023-06-19T15:51:16.639Z"
      },
      {
        "duration": 10,
        "start_time": "2023-06-19T15:51:16.663Z"
      },
      {
        "duration": 69,
        "start_time": "2023-06-19T15:51:16.675Z"
      },
      {
        "duration": 26,
        "start_time": "2023-06-19T15:51:16.745Z"
      },
      {
        "duration": 213,
        "start_time": "2023-06-19T15:51:16.772Z"
      },
      {
        "duration": 3,
        "start_time": "2023-06-19T15:51:16.986Z"
      },
      {
        "duration": 57,
        "start_time": "2023-06-19T15:51:16.990Z"
      },
      {
        "duration": 238,
        "start_time": "2023-06-19T15:51:17.048Z"
      },
      {
        "duration": 112,
        "start_time": "2023-06-19T15:51:17.287Z"
      },
      {
        "duration": 207,
        "start_time": "2023-06-19T15:51:17.400Z"
      },
      {
        "duration": 6,
        "start_time": "2023-06-19T15:51:17.608Z"
      },
      {
        "duration": 39,
        "start_time": "2023-06-19T15:51:17.615Z"
      },
      {
        "duration": 27,
        "start_time": "2023-06-19T15:51:17.656Z"
      },
      {
        "duration": 2,
        "start_time": "2023-06-19T15:55:31.749Z"
      },
      {
        "duration": 141,
        "start_time": "2023-06-19T15:56:41.043Z"
      },
      {
        "duration": 57,
        "start_time": "2023-06-19T15:57:00.251Z"
      },
      {
        "duration": 56,
        "start_time": "2023-06-19T15:57:11.538Z"
      },
      {
        "duration": 68,
        "start_time": "2023-06-19T15:57:22.305Z"
      },
      {
        "duration": 62,
        "start_time": "2023-06-19T15:57:33.013Z"
      },
      {
        "duration": 5,
        "start_time": "2023-06-19T16:01:39.453Z"
      },
      {
        "duration": 37,
        "start_time": "2023-06-19T16:01:39.461Z"
      },
      {
        "duration": 49,
        "start_time": "2023-06-19T16:01:39.500Z"
      },
      {
        "duration": 18,
        "start_time": "2023-06-19T16:01:39.550Z"
      },
      {
        "duration": 11,
        "start_time": "2023-06-19T16:01:39.570Z"
      },
      {
        "duration": 13,
        "start_time": "2023-06-19T16:01:39.582Z"
      },
      {
        "duration": 21,
        "start_time": "2023-06-19T16:01:39.597Z"
      },
      {
        "duration": 41,
        "start_time": "2023-06-19T16:01:39.619Z"
      },
      {
        "duration": 13,
        "start_time": "2023-06-19T16:01:39.662Z"
      },
      {
        "duration": 11,
        "start_time": "2023-06-19T16:01:39.677Z"
      },
      {
        "duration": 27,
        "start_time": "2023-06-19T16:01:39.691Z"
      },
      {
        "duration": 26,
        "start_time": "2023-06-19T16:01:39.719Z"
      },
      {
        "duration": 11,
        "start_time": "2023-06-19T16:01:39.747Z"
      },
      {
        "duration": 23,
        "start_time": "2023-06-19T16:01:39.760Z"
      },
      {
        "duration": 10,
        "start_time": "2023-06-19T16:01:39.785Z"
      },
      {
        "duration": 18,
        "start_time": "2023-06-19T16:01:39.796Z"
      },
      {
        "duration": 17,
        "start_time": "2023-06-19T16:01:39.816Z"
      },
      {
        "duration": 32,
        "start_time": "2023-06-19T16:01:39.834Z"
      },
      {
        "duration": 23,
        "start_time": "2023-06-19T16:01:39.867Z"
      },
      {
        "duration": 11,
        "start_time": "2023-06-19T16:01:39.892Z"
      },
      {
        "duration": 29,
        "start_time": "2023-06-19T16:01:39.905Z"
      },
      {
        "duration": 24,
        "start_time": "2023-06-19T16:01:39.935Z"
      },
      {
        "duration": 7,
        "start_time": "2023-06-19T16:01:39.961Z"
      },
      {
        "duration": 144,
        "start_time": "2023-06-19T16:01:39.970Z"
      },
      {
        "duration": 2,
        "start_time": "2023-06-19T16:01:40.116Z"
      },
      {
        "duration": 61,
        "start_time": "2023-06-19T16:01:40.119Z"
      },
      {
        "duration": 104,
        "start_time": "2023-06-19T16:01:40.182Z"
      },
      {
        "duration": 196,
        "start_time": "2023-06-19T16:01:40.287Z"
      },
      {
        "duration": 7,
        "start_time": "2023-06-19T16:01:40.487Z"
      },
      {
        "duration": 201,
        "start_time": "2023-06-19T16:01:40.496Z"
      },
      {
        "duration": 265,
        "start_time": "2023-06-19T16:01:40.698Z"
      },
      {
        "duration": 25,
        "start_time": "2023-06-19T16:01:40.965Z"
      },
      {
        "duration": 34,
        "start_time": "2023-06-19T16:01:40.991Z"
      },
      {
        "duration": 33,
        "start_time": "2023-06-19T16:01:41.028Z"
      },
      {
        "duration": 11,
        "start_time": "2023-06-19T16:01:41.063Z"
      },
      {
        "duration": 8,
        "start_time": "2023-06-19T16:01:41.075Z"
      },
      {
        "duration": 16,
        "start_time": "2023-06-19T16:01:41.084Z"
      },
      {
        "duration": 243,
        "start_time": "2023-06-19T16:01:41.101Z"
      },
      {
        "duration": 3,
        "start_time": "2023-06-19T16:01:41.346Z"
      },
      {
        "duration": 8,
        "start_time": "2023-06-19T16:01:41.352Z"
      },
      {
        "duration": 247,
        "start_time": "2023-06-19T16:01:41.361Z"
      },
      {
        "duration": 63,
        "start_time": "2023-06-19T16:01:41.610Z"
      },
      {
        "duration": 226,
        "start_time": "2023-06-19T16:01:41.674Z"
      },
      {
        "duration": 6,
        "start_time": "2023-06-19T16:01:41.902Z"
      },
      {
        "duration": 28,
        "start_time": "2023-06-19T16:01:41.909Z"
      },
      {
        "duration": 24,
        "start_time": "2023-06-19T16:01:41.946Z"
      },
      {
        "duration": 1438,
        "start_time": "2023-06-20T01:36:39.416Z"
      },
      {
        "duration": 112,
        "start_time": "2023-06-20T01:36:40.867Z"
      },
      {
        "duration": 79,
        "start_time": "2023-06-20T01:36:40.983Z"
      },
      {
        "duration": 60,
        "start_time": "2023-06-20T01:36:41.067Z"
      },
      {
        "duration": 15,
        "start_time": "2023-06-20T01:36:41.128Z"
      },
      {
        "duration": 12,
        "start_time": "2023-06-20T01:36:41.145Z"
      },
      {
        "duration": 48,
        "start_time": "2023-06-20T01:36:41.159Z"
      },
      {
        "duration": 15,
        "start_time": "2023-06-20T01:36:41.208Z"
      },
      {
        "duration": 14,
        "start_time": "2023-06-20T01:36:41.225Z"
      },
      {
        "duration": 15,
        "start_time": "2023-06-20T01:36:41.242Z"
      },
      {
        "duration": 41,
        "start_time": "2023-06-20T01:36:41.266Z"
      },
      {
        "duration": 10,
        "start_time": "2023-06-20T01:36:41.309Z"
      },
      {
        "duration": 7,
        "start_time": "2023-06-20T01:36:41.321Z"
      },
      {
        "duration": 8,
        "start_time": "2023-06-20T01:36:41.330Z"
      },
      {
        "duration": 13,
        "start_time": "2023-06-20T01:36:41.339Z"
      },
      {
        "duration": 42,
        "start_time": "2023-06-20T01:36:41.363Z"
      },
      {
        "duration": 7,
        "start_time": "2023-06-20T01:36:41.406Z"
      },
      {
        "duration": 6,
        "start_time": "2023-06-20T01:36:41.415Z"
      },
      {
        "duration": 15,
        "start_time": "2023-06-20T01:36:41.422Z"
      },
      {
        "duration": 9,
        "start_time": "2023-06-20T01:36:41.439Z"
      },
      {
        "duration": 52,
        "start_time": "2023-06-20T01:36:41.450Z"
      },
      {
        "duration": 4,
        "start_time": "2023-06-20T01:36:41.504Z"
      },
      {
        "duration": 16,
        "start_time": "2023-06-20T01:36:41.509Z"
      },
      {
        "duration": 176,
        "start_time": "2023-06-20T01:36:41.527Z"
      },
      {
        "duration": 3,
        "start_time": "2023-06-20T01:36:41.704Z"
      },
      {
        "duration": 12,
        "start_time": "2023-06-20T01:36:41.708Z"
      },
      {
        "duration": 89,
        "start_time": "2023-06-20T01:36:41.721Z"
      },
      {
        "duration": 228,
        "start_time": "2023-06-20T01:36:41.813Z"
      },
      {
        "duration": 31,
        "start_time": "2023-06-20T01:36:42.042Z"
      },
      {
        "duration": 237,
        "start_time": "2023-06-20T01:36:42.075Z"
      },
      {
        "duration": 230,
        "start_time": "2023-06-20T01:36:42.313Z"
      },
      {
        "duration": 55,
        "start_time": "2023-06-20T01:36:42.544Z"
      },
      {
        "duration": 12,
        "start_time": "2023-06-20T01:36:42.601Z"
      },
      {
        "duration": 16,
        "start_time": "2023-06-20T01:36:42.614Z"
      },
      {
        "duration": 48,
        "start_time": "2023-06-20T01:36:42.631Z"
      },
      {
        "duration": 5,
        "start_time": "2023-06-20T01:36:42.681Z"
      },
      {
        "duration": 12,
        "start_time": "2023-06-20T01:36:42.688Z"
      },
      {
        "duration": 285,
        "start_time": "2023-06-20T01:36:42.702Z"
      },
      {
        "duration": 4,
        "start_time": "2023-06-20T01:36:42.991Z"
      },
      {
        "duration": 10,
        "start_time": "2023-06-20T01:36:42.996Z"
      },
      {
        "duration": 289,
        "start_time": "2023-06-20T01:36:43.008Z"
      },
      {
        "duration": 178,
        "start_time": "2023-06-20T01:36:43.299Z"
      },
      {
        "duration": 230,
        "start_time": "2023-06-20T01:36:43.481Z"
      },
      {
        "duration": 6,
        "start_time": "2023-06-20T01:36:43.713Z"
      },
      {
        "duration": 13,
        "start_time": "2023-06-20T01:36:43.720Z"
      },
      {
        "duration": 33,
        "start_time": "2023-06-20T01:36:43.735Z"
      },
      {
        "duration": 7,
        "start_time": "2023-06-20T01:39:35.479Z"
      }
    ],
    "kernelspec": {
      "display_name": "Python 3 (ipykernel)",
      "language": "python",
      "name": "python3"
    },
    "language_info": {
      "codemirror_mode": {
        "name": "ipython",
        "version": 3
      },
      "file_extension": ".py",
      "mimetype": "text/x-python",
      "name": "python",
      "nbconvert_exporter": "python",
      "pygments_lexer": "ipython3",
      "version": "3.9.5"
    },
    "toc": {
      "base_numbering": 1,
      "nav_menu": {
        "height": "213px",
        "width": "388px"
      },
      "number_sections": true,
      "sideBar": true,
      "skip_h1_title": true,
      "title_cell": "Table of Contents",
      "title_sidebar": "Contents",
      "toc_cell": false,
      "toc_position": {},
      "toc_section_display": true,
      "toc_window_display": false
    },
    "colab": {
      "provenance": []
    }
  },
  "nbformat": 4,
  "nbformat_minor": 5
}