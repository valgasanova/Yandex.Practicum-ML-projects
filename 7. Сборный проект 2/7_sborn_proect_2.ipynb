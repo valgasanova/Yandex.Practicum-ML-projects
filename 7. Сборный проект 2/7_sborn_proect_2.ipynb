{
  "cells": [
    {
      "cell_type": "markdown",
      "metadata": {
        "toc": true,
        "id": "CZhF5ZGZBwMz"
      },
      "source": [
        "<h1>Содержание<span class=\"tocSkip\"></span></h1>\n",
        "<div class=\"toc\"><ul class=\"toc-item\"><li><span><a href=\"#Подготовка-данных\" data-toc-modified-id=\"Подготовка-данных-1\"><span class=\"toc-item-num\">1&nbsp;&nbsp;</span>Подготовка данных</a></span><ul class=\"toc-item\"><li><span><a href=\"#Откроем-и-изучим-данные\" data-toc-modified-id=\"Откроем-и-изучим-данные-1.1\"><span class=\"toc-item-num\">1.1&nbsp;&nbsp;</span>Откроем и изучим данные</a></span></li><li><span><a href=\"#Проверим,-что-эффективность-обогащения-рассчитана-правильно\" data-toc-modified-id=\"Проверим,-что-эффективность-обогащения-рассчитана-правильно-1.2\"><span class=\"toc-item-num\">1.2&nbsp;&nbsp;</span>Проверим, что эффективность обогащения рассчитана правильно</a></span></li><li><span><a href=\"#Проанализируем-признаки,-недоступные-в-тестовой-выборке\" data-toc-modified-id=\"Проанализируем-признаки,-недоступные-в-тестовой-выборке-1.3\"><span class=\"toc-item-num\">1.3&nbsp;&nbsp;</span>Проанализируем признаки, недоступные в тестовой выборке</a></span></li><li><span><a href=\"#Предобработка-данных\" data-toc-modified-id=\"Предобработка-данных-1.4\"><span class=\"toc-item-num\">1.4&nbsp;&nbsp;</span>Предобработка данных</a></span></li></ul></li><li><span><a href=\"#Анализ-данных\" data-toc-modified-id=\"Анализ-данных-2\"><span class=\"toc-item-num\">2&nbsp;&nbsp;</span>Анализ данных</a></span><ul class=\"toc-item\"><li><span><a href=\"#Как-меняется-концентрация-металлов-(Au,-Ag,-Pb)-на-различных-этапах:-в-сырье,-в-черновом-концентрате,-в-концентрате-после-первой-очистки-и-в-финальном-концентрате?-Какие-особенности-имеют-распределения?\" data-toc-modified-id=\"Как-меняется-концентрация-металлов-(Au,-Ag,-Pb)-на-различных-этапах:-в-сырье,-в-черновом-концентрате,-в-концентрате-после-первой-очистки-и-в-финальном-концентрате?-Какие-особенности-имеют-распределения?-2.1\"><span class=\"toc-item-num\">2.1&nbsp;&nbsp;</span>Как меняется концентрация металлов (Au, Ag, Pb) на различных этапах: в сырье, в черновом концентрате, в концентрате после первой очистки и в финальном концентрате? Какие особенности имеют распределения?</a></span></li><li><span><a href=\"#Сравним-распределения-размеров-гранул-исходного-сырья-на-обучающей-и-тестовой-выборках\" data-toc-modified-id=\"Сравним-распределения-размеров-гранул-исходного-сырья-на-обучающей-и-тестовой-выборках-2.2\"><span class=\"toc-item-num\">2.2&nbsp;&nbsp;</span>Сравним распределения размеров гранул исходного сырья на обучающей и тестовой выборках</a></span></li><li><span><a href=\"#Исследуем-суммарную-концентрацию-металлов-на-разных-стадиях:-в-сырье,-в-черновом-концентрате,-в-концентрате-после-первой-очистки-и-в-финальном-концентрате\" data-toc-modified-id=\"Исследуем-суммарную-концентрацию-металлов-на-разных-стадиях:-в-сырье,-в-черновом-концентрате,-в-концентрате-после-первой-очистки-и-в-финальном-концентрате-2.3\"><span class=\"toc-item-num\">2.3&nbsp;&nbsp;</span>Исследуем суммарную концентрацию металлов на разных стадиях: в сырье, в черновом концентрате, в концентрате после первой очистки и в финальном концентрате</a></span></li></ul></li><li><span><a href=\"#Модель\" data-toc-modified-id=\"Модель-3\"><span class=\"toc-item-num\">3&nbsp;&nbsp;</span>Модель</a></span><ul class=\"toc-item\"><li><span><a href=\"#Напишем-функцию-для-вычисления-итоговой-sMAPE\" data-toc-modified-id=\"Напишем-функцию-для-вычисления-итоговой-sMAPE-3.1\"><span class=\"toc-item-num\">3.1&nbsp;&nbsp;</span>Напишем функцию для вычисления итоговой sMAPE</a></span></li><li><span><a href=\"#Обучим-разные-модели-и-оценим-их-качество-кросс-валидацией.-Выберем-лучшую-модель-и-проверим-её-на-тестовой-выборке\" data-toc-modified-id=\"Обучим-разные-модели-и-оценим-их-качество-кросс-валидацией.-Выберем-лучшую-модель-и-проверим-её-на-тестовой-выборке-3.2\"><span class=\"toc-item-num\">3.2&nbsp;&nbsp;</span>Обучим разные модели и оценим их качество кросс-валидацией. Выберем лучшую модель и проверим её на тестовой выборке</a></span><ul class=\"toc-item\"><li><span><a href=\"#Решающее-дерево\" data-toc-modified-id=\"Решающее-дерево-3.2.1\"><span class=\"toc-item-num\">3.2.1&nbsp;&nbsp;</span>Решающее дерево</a></span></li><li><span><a href=\"#Случайный-лес\" data-toc-modified-id=\"Случайный-лес-3.2.2\"><span class=\"toc-item-num\">3.2.2&nbsp;&nbsp;</span>Случайный лес</a></span></li><li><span><a href=\"#Линейная-регрессия\" data-toc-modified-id=\"Линейная-регрессия-3.2.3\"><span class=\"toc-item-num\">3.2.3&nbsp;&nbsp;</span>Линейная регрессия</a></span></li></ul></li><li><span><a href=\"#Проверка-лучшей-модели-на-тестовой-выборке\" data-toc-modified-id=\"Проверка-лучшей-модели-на-тестовой-выборке-3.3\"><span class=\"toc-item-num\">3.3&nbsp;&nbsp;</span>Проверка лучшей модели на тестовой выборке</a></span><ul class=\"toc-item\"><li><span><a href=\"#Проверка-модели-линейной-регрессии\" data-toc-modified-id=\"Проверка-модели-линейной-регрессии-3.3.1\"><span class=\"toc-item-num\">3.3.1&nbsp;&nbsp;</span>Проверка модели линейной регрессии</a></span></li><li><span><a href=\"#Сравнение-с-константной-моделью\" data-toc-modified-id=\"Сравнение-с-константной-моделью-3.3.2\"><span class=\"toc-item-num\">3.3.2&nbsp;&nbsp;</span>Сравнение с константной моделью</a></span></li><li><span><a href=\"#Проверка-модели-случайного-леса\" data-toc-modified-id=\"Проверка-модели-случайного-леса-3.3.3\"><span class=\"toc-item-num\">3.3.3&nbsp;&nbsp;</span>Проверка модели случайного леса</a></span></li></ul></li></ul></li><li><span><a href=\"#Вывод\" data-toc-modified-id=\"Вывод-4\"><span class=\"toc-item-num\">4&nbsp;&nbsp;</span>Вывод</a></span></li></ul></div>"
      ]
    },
    {
      "cell_type": "markdown",
      "metadata": {
        "id": "hNHSaltbBwM0"
      },
      "source": [
        "# Восстановление золота из руды"
      ]
    },
    {
      "cell_type": "markdown",
      "metadata": {
        "id": "wIYDMbXyBwM0"
      },
      "source": [
        "Подготовьте прототип модели машинного обучения для «Цифры». Компания разрабатывает решения для эффективной работы промышленных предприятий.\n",
        "\n",
        "Модель должна предсказать коэффициент восстановления золота из золотосодержащей руды. Используйте данные с параметрами добычи и очистки.\n",
        "\n",
        "Модель поможет оптимизировать производство, чтобы не запускать предприятие с убыточными характеристиками.\n",
        "\n",
        "Вам нужно:\n",
        "\n",
        "1. Подготовить данные;\n",
        "2. Провести исследовательский анализ данных;\n",
        "3. Построить и обучить модель.\n",
        "\n",
        "Чтобы выполнить проект, обращайтесь к библиотекам *pandas*, *matplotlib* и *sklearn.* Вам поможет их документация.\n",
        "\n",
        "**Описание данных**\n",
        "\n",
        "Технологический процесс\n",
        "- Rougher feed — исходное сырье\n",
        "- Rougher additions (или reagent additions) — флотационные реагенты: Xanthate, Sulphate, Depressant\n",
        "  - Xanthate — ксантогенат (промотер, или активатор флотации);\n",
        "  - Sulphate — сульфат (на данном производстве сульфид натрия);\n",
        "  - Depressant — депрессант (силикат натрия).\n",
        "- Rougher process (англ. «грубый процесс») — флотация\n",
        "- Rougher tails — отвальные хвосты\n",
        "- Float banks — флотационная установка\n",
        "- Cleaner process — очистка\n",
        "- Rougher Au — черновой концентрат золота\n",
        "- Final Au — финальный концентрат золота\n",
        "\n",
        "Параметры этапов\n",
        "- air amount — объём воздуха\n",
        "- fluid levels — уровень жидкости\n",
        "- feed size — размер гранул сырья\n",
        "- feed rate — скорость подачи\n",
        "\n",
        "Наименование признаков\n",
        "Наименование признаков должно быть такое:\n",
        "[этап].[тип_параметра].[название_параметра]\n",
        "Пример: rougher.input.feed_ag\n",
        "Возможные значения для блока [этап]:\n",
        "- rougher — флотация\n",
        "- primary_cleaner — первичная очистка\n",
        "- secondary_cleaner — вторичная очистка\n",
        "- final — финальные характеристики\n",
        "Возможные значения для блока [тип_параметра]:\n",
        "- input — параметры сырья\n",
        "- output — параметры продукта\n",
        "- state — параметры, характеризующие текущее состояние этапа\n",
        "- calculation — расчётные характеристики"
      ]
    },
    {
      "cell_type": "markdown",
      "metadata": {
        "id": "3oxION92BwM0"
      },
      "source": [
        "## Подготовка данных"
      ]
    },
    {
      "cell_type": "code",
      "execution_count": null,
      "metadata": {
        "id": "x8TEnNBABwM1"
      },
      "outputs": [],
      "source": [
        "#импортируем все необходимые для работы библиотеки\n",
        "import pandas as pd\n",
        "import numpy as np\n",
        "from sklearn.metrics import mean_absolute_error, mean_squared_error, make_scorer\n",
        "from sklearn.impute import KNNImputer\n",
        "import seaborn as sns\n",
        "import matplotlib.pyplot as plt\n",
        "from sklearn.preprocessing import StandardScaler\n",
        "from sklearn.tree import DecisionTreeRegressor\n",
        "from sklearn.ensemble import RandomForestRegressor\n",
        "from sklearn.linear_model import LinearRegression\n",
        "from sklearn.model_selection import cross_val_score\n",
        "from sklearn.dummy import DummyRegressor\n",
        "\n",
        "#сбросим ограничения на число столбцов и строк\n",
        "pd.set_option('display.max_columns', None)\n",
        "pd.set_option('display.max_rows', None)\n",
        "\n",
        "import warnings\n",
        "warnings.simplefilter(action='ignore', category=FutureWarning)"
      ]
    },
    {
      "cell_type": "markdown",
      "metadata": {
        "id": "m_ZKGcpgBwM1"
      },
      "source": [
        "### Откроем и изучим данные"
      ]
    },
    {
      "cell_type": "code",
      "execution_count": null,
      "metadata": {
        "id": "ODb27b3ABwM1"
      },
      "outputs": [],
      "source": [
        "#считаем датасеты и сохраним их в переменных\n",
        "data_train = pd.read_csv('/datasets/gold_industry_train.csv')\n",
        "data_test = pd.read_csv('/datasets/gold_industry_test.csv')\n",
        "data_full = pd.read_csv('/datasets/gold_industry_full.csv')"
      ]
    },
    {
      "cell_type": "code",
      "execution_count": null,
      "metadata": {
        "id": "gKs6BNn7BwM2",
        "outputId": "00703d54-d480-47b3-9dbf-9dc29423d5fd"
      },
      "outputs": [
        {
          "data": {
            "text/html": [
              "<div>\n",
              "<style scoped>\n",
              "    .dataframe tbody tr th:only-of-type {\n",
              "        vertical-align: middle;\n",
              "    }\n",
              "\n",
              "    .dataframe tbody tr th {\n",
              "        vertical-align: top;\n",
              "    }\n",
              "\n",
              "    .dataframe thead th {\n",
              "        text-align: right;\n",
              "    }\n",
              "</style>\n",
              "<table border=\"1\" class=\"dataframe\">\n",
              "  <thead>\n",
              "    <tr style=\"text-align: right;\">\n",
              "      <th></th>\n",
              "      <th>date</th>\n",
              "      <th>rougher.input.feed_au</th>\n",
              "      <th>rougher.input.feed_ag</th>\n",
              "      <th>rougher.input.feed_pb</th>\n",
              "      <th>rougher.input.feed_sol</th>\n",
              "      <th>rougher.input.feed_rate</th>\n",
              "      <th>rougher.input.feed_size</th>\n",
              "      <th>rougher.input.floatbank10_sulfate</th>\n",
              "      <th>rougher.input.floatbank10_xanthate</th>\n",
              "      <th>rougher.state.floatbank10_a_air</th>\n",
              "      <th>rougher.state.floatbank10_a_level</th>\n",
              "      <th>rougher.state.floatbank10_b_air</th>\n",
              "      <th>rougher.state.floatbank10_b_level</th>\n",
              "      <th>rougher.state.floatbank10_c_air</th>\n",
              "      <th>rougher.state.floatbank10_c_level</th>\n",
              "      <th>rougher.state.floatbank10_d_air</th>\n",
              "      <th>rougher.state.floatbank10_d_level</th>\n",
              "      <th>rougher.state.floatbank10_e_air</th>\n",
              "      <th>rougher.state.floatbank10_e_level</th>\n",
              "      <th>rougher.state.floatbank10_f_air</th>\n",
              "      <th>rougher.state.floatbank10_f_level</th>\n",
              "      <th>rougher.input.floatbank11_sulfate</th>\n",
              "      <th>rougher.input.floatbank11_xanthate</th>\n",
              "      <th>rougher.calculation.sulfate_to_au_concentrate</th>\n",
              "      <th>rougher.calculation.floatbank10_sulfate_to_au_feed</th>\n",
              "      <th>rougher.calculation.floatbank11_sulfate_to_au_feed</th>\n",
              "      <th>rougher.calculation.au_pb_ratio</th>\n",
              "      <th>rougher.output.concentrate_au</th>\n",
              "      <th>rougher.output.concentrate_ag</th>\n",
              "      <th>rougher.output.concentrate_pb</th>\n",
              "      <th>rougher.output.concentrate_sol</th>\n",
              "      <th>rougher.output.recovery</th>\n",
              "      <th>rougher.output.tail_au</th>\n",
              "      <th>rougher.output.tail_ag</th>\n",
              "      <th>rougher.output.tail_pb</th>\n",
              "      <th>rougher.output.tail_sol</th>\n",
              "      <th>primary_cleaner.input.sulfate</th>\n",
              "      <th>primary_cleaner.input.depressant</th>\n",
              "      <th>primary_cleaner.input.feed_size</th>\n",
              "      <th>primary_cleaner.input.xanthate</th>\n",
              "      <th>primary_cleaner.state.floatbank8_a_air</th>\n",
              "      <th>primary_cleaner.state.floatbank8_a_level</th>\n",
              "      <th>primary_cleaner.state.floatbank8_b_air</th>\n",
              "      <th>primary_cleaner.state.floatbank8_b_level</th>\n",
              "      <th>primary_cleaner.state.floatbank8_c_air</th>\n",
              "      <th>primary_cleaner.state.floatbank8_c_level</th>\n",
              "      <th>primary_cleaner.state.floatbank8_d_air</th>\n",
              "      <th>primary_cleaner.state.floatbank8_d_level</th>\n",
              "      <th>primary_cleaner.output.concentrate_au</th>\n",
              "      <th>primary_cleaner.output.concentrate_ag</th>\n",
              "      <th>primary_cleaner.output.concentrate_pb</th>\n",
              "      <th>primary_cleaner.output.concentrate_sol</th>\n",
              "      <th>primary_cleaner.output.tail_au</th>\n",
              "      <th>primary_cleaner.output.tail_ag</th>\n",
              "      <th>primary_cleaner.output.tail_pb</th>\n",
              "      <th>primary_cleaner.output.tail_sol</th>\n",
              "      <th>secondary_cleaner.state.floatbank2_a_air</th>\n",
              "      <th>secondary_cleaner.state.floatbank2_a_level</th>\n",
              "      <th>secondary_cleaner.state.floatbank2_b_air</th>\n",
              "      <th>secondary_cleaner.state.floatbank2_b_level</th>\n",
              "      <th>secondary_cleaner.state.floatbank3_a_air</th>\n",
              "      <th>secondary_cleaner.state.floatbank3_a_level</th>\n",
              "      <th>secondary_cleaner.state.floatbank3_b_air</th>\n",
              "      <th>secondary_cleaner.state.floatbank3_b_level</th>\n",
              "      <th>secondary_cleaner.state.floatbank4_a_air</th>\n",
              "      <th>secondary_cleaner.state.floatbank4_a_level</th>\n",
              "      <th>secondary_cleaner.state.floatbank4_b_air</th>\n",
              "      <th>secondary_cleaner.state.floatbank4_b_level</th>\n",
              "      <th>secondary_cleaner.state.floatbank5_a_air</th>\n",
              "      <th>secondary_cleaner.state.floatbank5_a_level</th>\n",
              "      <th>secondary_cleaner.state.floatbank5_b_air</th>\n",
              "      <th>secondary_cleaner.state.floatbank5_b_level</th>\n",
              "      <th>secondary_cleaner.state.floatbank6_a_air</th>\n",
              "      <th>secondary_cleaner.state.floatbank6_a_level</th>\n",
              "      <th>secondary_cleaner.output.tail_au</th>\n",
              "      <th>secondary_cleaner.output.tail_ag</th>\n",
              "      <th>secondary_cleaner.output.tail_pb</th>\n",
              "      <th>secondary_cleaner.output.tail_sol</th>\n",
              "      <th>final.output.concentrate_au</th>\n",
              "      <th>final.output.concentrate_ag</th>\n",
              "      <th>final.output.concentrate_pb</th>\n",
              "      <th>final.output.concentrate_sol</th>\n",
              "      <th>final.output.recovery</th>\n",
              "      <th>final.output.tail_au</th>\n",
              "      <th>final.output.tail_ag</th>\n",
              "      <th>final.output.tail_pb</th>\n",
              "      <th>final.output.tail_sol</th>\n",
              "    </tr>\n",
              "  </thead>\n",
              "  <tbody>\n",
              "    <tr>\n",
              "      <th>0</th>\n",
              "      <td>2016-01-15 00:00:00</td>\n",
              "      <td>6.486150</td>\n",
              "      <td>6.100378</td>\n",
              "      <td>2.284912</td>\n",
              "      <td>36.808594</td>\n",
              "      <td>523.546326</td>\n",
              "      <td>55.486599</td>\n",
              "      <td>11.986616</td>\n",
              "      <td>6.007990</td>\n",
              "      <td>999.706909</td>\n",
              "      <td>-404.066986</td>\n",
              "      <td>1603.011353</td>\n",
              "      <td>-434.715027</td>\n",
              "      <td>1602.375000</td>\n",
              "      <td>-442.204468</td>\n",
              "      <td>1598.937256</td>\n",
              "      <td>-451.294128</td>\n",
              "      <td>1404.472046</td>\n",
              "      <td>-455.462982</td>\n",
              "      <td>1416.354980</td>\n",
              "      <td>-451.939636</td>\n",
              "      <td>11.836743</td>\n",
              "      <td>6.005818</td>\n",
              "      <td>41885.707031</td>\n",
              "      <td>3481.779053</td>\n",
              "      <td>3520.337158</td>\n",
              "      <td>2.838687</td>\n",
              "      <td>19.793808</td>\n",
              "      <td>11.500771</td>\n",
              "      <td>7.101074</td>\n",
              "      <td>28.029297</td>\n",
              "      <td>87.107763</td>\n",
              "      <td>1.170244</td>\n",
              "      <td>5.008018</td>\n",
              "      <td>0.508728</td>\n",
              "      <td>19.154297</td>\n",
              "      <td>127.092003</td>\n",
              "      <td>10.128295</td>\n",
              "      <td>7.25</td>\n",
              "      <td>0.988759</td>\n",
              "      <td>1549.775757</td>\n",
              "      <td>-498.912140</td>\n",
              "      <td>1551.434204</td>\n",
              "      <td>-516.403442</td>\n",
              "      <td>1549.873901</td>\n",
              "      <td>-498.666595</td>\n",
              "      <td>1554.367432</td>\n",
              "      <td>-493.428131</td>\n",
              "      <td>34.174427</td>\n",
              "      <td>8.547551</td>\n",
              "      <td>10.389648</td>\n",
              "      <td>19.529297</td>\n",
              "      <td>2.106679</td>\n",
              "      <td>14.936526</td>\n",
              "      <td>2.534912</td>\n",
              "      <td>7.476074</td>\n",
              "      <td>25.853109</td>\n",
              "      <td>-498.526489</td>\n",
              "      <td>23.893660</td>\n",
              "      <td>-501.406281</td>\n",
              "      <td>23.961798</td>\n",
              "      <td>-495.262817</td>\n",
              "      <td>21.940409</td>\n",
              "      <td>-499.340973</td>\n",
              "      <td>14.016835</td>\n",
              "      <td>-502.488007</td>\n",
              "      <td>12.099931</td>\n",
              "      <td>-504.715942</td>\n",
              "      <td>9.925633</td>\n",
              "      <td>-498.310211</td>\n",
              "      <td>8.079666</td>\n",
              "      <td>-500.470978</td>\n",
              "      <td>14.151341</td>\n",
              "      <td>-605.841980</td>\n",
              "      <td>2.606185</td>\n",
              "      <td>14.500184</td>\n",
              "      <td>4.694824</td>\n",
              "      <td>8.764648</td>\n",
              "      <td>42.192020</td>\n",
              "      <td>6.055403</td>\n",
              "      <td>9.889648</td>\n",
              "      <td>5.507324</td>\n",
              "      <td>70.541216</td>\n",
              "      <td>2.143149</td>\n",
              "      <td>10.411962</td>\n",
              "      <td>0.895447</td>\n",
              "      <td>16.904297</td>\n",
              "    </tr>\n",
              "    <tr>\n",
              "      <th>1</th>\n",
              "      <td>2016-01-15 01:00:00</td>\n",
              "      <td>6.478583</td>\n",
              "      <td>6.161113</td>\n",
              "      <td>2.266033</td>\n",
              "      <td>35.753385</td>\n",
              "      <td>525.290581</td>\n",
              "      <td>57.278666</td>\n",
              "      <td>11.971193</td>\n",
              "      <td>6.005766</td>\n",
              "      <td>1000.286398</td>\n",
              "      <td>-400.065196</td>\n",
              "      <td>1600.754587</td>\n",
              "      <td>-449.953435</td>\n",
              "      <td>1600.479580</td>\n",
              "      <td>-449.830646</td>\n",
              "      <td>1600.527589</td>\n",
              "      <td>-449.953649</td>\n",
              "      <td>1399.227084</td>\n",
              "      <td>-450.869848</td>\n",
              "      <td>1399.719514</td>\n",
              "      <td>-450.119001</td>\n",
              "      <td>11.996163</td>\n",
              "      <td>6.012594</td>\n",
              "      <td>42050.861809</td>\n",
              "      <td>3498.370979</td>\n",
              "      <td>3489.981857</td>\n",
              "      <td>2.858998</td>\n",
              "      <td>20.050975</td>\n",
              "      <td>11.615865</td>\n",
              "      <td>7.278807</td>\n",
              "      <td>28.067063</td>\n",
              "      <td>86.843261</td>\n",
              "      <td>1.184827</td>\n",
              "      <td>4.955378</td>\n",
              "      <td>0.536689</td>\n",
              "      <td>18.965234</td>\n",
              "      <td>125.629232</td>\n",
              "      <td>10.296251</td>\n",
              "      <td>7.25</td>\n",
              "      <td>1.002663</td>\n",
              "      <td>1576.166671</td>\n",
              "      <td>-500.904965</td>\n",
              "      <td>1575.950626</td>\n",
              "      <td>-499.865889</td>\n",
              "      <td>1575.994189</td>\n",
              "      <td>-499.315107</td>\n",
              "      <td>1574.479259</td>\n",
              "      <td>-498.931665</td>\n",
              "      <td>34.118526</td>\n",
              "      <td>8.558743</td>\n",
              "      <td>10.497069</td>\n",
              "      <td>19.369147</td>\n",
              "      <td>2.353017</td>\n",
              "      <td>16.250511</td>\n",
              "      <td>3.049646</td>\n",
              "      <td>6.733907</td>\n",
              "      <td>25.880539</td>\n",
              "      <td>-499.989656</td>\n",
              "      <td>23.889530</td>\n",
              "      <td>-500.372428</td>\n",
              "      <td>23.970550</td>\n",
              "      <td>-500.085473</td>\n",
              "      <td>22.085714</td>\n",
              "      <td>-499.446897</td>\n",
              "      <td>13.992281</td>\n",
              "      <td>-505.503262</td>\n",
              "      <td>11.950531</td>\n",
              "      <td>-501.331529</td>\n",
              "      <td>10.039245</td>\n",
              "      <td>-500.169983</td>\n",
              "      <td>7.984757</td>\n",
              "      <td>-500.582168</td>\n",
              "      <td>13.998353</td>\n",
              "      <td>-599.787184</td>\n",
              "      <td>2.488248</td>\n",
              "      <td>14.265474</td>\n",
              "      <td>4.592547</td>\n",
              "      <td>9.001494</td>\n",
              "      <td>42.701629</td>\n",
              "      <td>6.029369</td>\n",
              "      <td>9.968944</td>\n",
              "      <td>5.257781</td>\n",
              "      <td>69.266198</td>\n",
              "      <td>2.224930</td>\n",
              "      <td>10.462676</td>\n",
              "      <td>0.927452</td>\n",
              "      <td>16.634514</td>\n",
              "    </tr>\n",
              "    <tr>\n",
              "      <th>2</th>\n",
              "      <td>2016-01-15 02:00:00</td>\n",
              "      <td>6.362222</td>\n",
              "      <td>6.116455</td>\n",
              "      <td>2.159622</td>\n",
              "      <td>35.971630</td>\n",
              "      <td>530.026610</td>\n",
              "      <td>57.510649</td>\n",
              "      <td>11.920603</td>\n",
              "      <td>6.197377</td>\n",
              "      <td>999.719565</td>\n",
              "      <td>-400.074028</td>\n",
              "      <td>1599.337330</td>\n",
              "      <td>-450.008530</td>\n",
              "      <td>1599.672797</td>\n",
              "      <td>-449.954491</td>\n",
              "      <td>1599.849325</td>\n",
              "      <td>-449.954185</td>\n",
              "      <td>1399.180945</td>\n",
              "      <td>-449.937588</td>\n",
              "      <td>1400.316682</td>\n",
              "      <td>-450.527147</td>\n",
              "      <td>11.920305</td>\n",
              "      <td>6.204633</td>\n",
              "      <td>42018.101184</td>\n",
              "      <td>3495.348910</td>\n",
              "      <td>3502.359819</td>\n",
              "      <td>2.945989</td>\n",
              "      <td>19.737170</td>\n",
              "      <td>11.695753</td>\n",
              "      <td>7.216833</td>\n",
              "      <td>27.454037</td>\n",
              "      <td>86.842308</td>\n",
              "      <td>1.162562</td>\n",
              "      <td>4.843460</td>\n",
              "      <td>0.546416</td>\n",
              "      <td>18.808533</td>\n",
              "      <td>123.819808</td>\n",
              "      <td>11.316280</td>\n",
              "      <td>7.25</td>\n",
              "      <td>0.991265</td>\n",
              "      <td>1601.556163</td>\n",
              "      <td>-499.997791</td>\n",
              "      <td>1600.386685</td>\n",
              "      <td>-500.607762</td>\n",
              "      <td>1602.003542</td>\n",
              "      <td>-500.870069</td>\n",
              "      <td>1599.541515</td>\n",
              "      <td>-499.827444</td>\n",
              "      <td>33.969464</td>\n",
              "      <td>8.603505</td>\n",
              "      <td>10.354494</td>\n",
              "      <td>19.167579</td>\n",
              "      <td>2.416800</td>\n",
              "      <td>16.491823</td>\n",
              "      <td>3.124664</td>\n",
              "      <td>6.471768</td>\n",
              "      <td>26.005245</td>\n",
              "      <td>-499.929616</td>\n",
              "      <td>23.886657</td>\n",
              "      <td>-499.951928</td>\n",
              "      <td>23.913535</td>\n",
              "      <td>-499.442343</td>\n",
              "      <td>23.957717</td>\n",
              "      <td>-499.901982</td>\n",
              "      <td>14.015015</td>\n",
              "      <td>-502.520901</td>\n",
              "      <td>11.912783</td>\n",
              "      <td>-501.133383</td>\n",
              "      <td>10.070913</td>\n",
              "      <td>-500.129135</td>\n",
              "      <td>8.013877</td>\n",
              "      <td>-500.517572</td>\n",
              "      <td>14.028663</td>\n",
              "      <td>-601.427363</td>\n",
              "      <td>2.458187</td>\n",
              "      <td>14.115662</td>\n",
              "      <td>4.624775</td>\n",
              "      <td>8.842896</td>\n",
              "      <td>42.657501</td>\n",
              "      <td>6.055926</td>\n",
              "      <td>10.213995</td>\n",
              "      <td>5.383759</td>\n",
              "      <td>68.116445</td>\n",
              "      <td>2.257889</td>\n",
              "      <td>10.507046</td>\n",
              "      <td>0.953716</td>\n",
              "      <td>16.208849</td>\n",
              "    </tr>\n",
              "    <tr>\n",
              "      <th>3</th>\n",
              "      <td>2016-01-15 03:00:00</td>\n",
              "      <td>6.118189</td>\n",
              "      <td>6.043309</td>\n",
              "      <td>2.037807</td>\n",
              "      <td>36.862241</td>\n",
              "      <td>542.590390</td>\n",
              "      <td>57.792734</td>\n",
              "      <td>11.630094</td>\n",
              "      <td>6.203177</td>\n",
              "      <td>999.814770</td>\n",
              "      <td>-400.200179</td>\n",
              "      <td>1600.059442</td>\n",
              "      <td>-450.619948</td>\n",
              "      <td>1600.012842</td>\n",
              "      <td>-449.910497</td>\n",
              "      <td>1597.725177</td>\n",
              "      <td>-450.130127</td>\n",
              "      <td>1400.943157</td>\n",
              "      <td>-450.030142</td>\n",
              "      <td>1400.234743</td>\n",
              "      <td>-449.790835</td>\n",
              "      <td>11.692450</td>\n",
              "      <td>6.196578</td>\n",
              "      <td>42029.447991</td>\n",
              "      <td>3498.578313</td>\n",
              "      <td>3499.162912</td>\n",
              "      <td>3.002340</td>\n",
              "      <td>19.320810</td>\n",
              "      <td>11.915047</td>\n",
              "      <td>7.175616</td>\n",
              "      <td>27.341277</td>\n",
              "      <td>87.226430</td>\n",
              "      <td>1.079755</td>\n",
              "      <td>4.655288</td>\n",
              "      <td>0.542525</td>\n",
              "      <td>19.330200</td>\n",
              "      <td>122.270188</td>\n",
              "      <td>11.322140</td>\n",
              "      <td>7.25</td>\n",
              "      <td>0.996739</td>\n",
              "      <td>1599.968720</td>\n",
              "      <td>-500.951778</td>\n",
              "      <td>1600.659236</td>\n",
              "      <td>-499.677094</td>\n",
              "      <td>1600.304144</td>\n",
              "      <td>-500.727997</td>\n",
              "      <td>1600.449520</td>\n",
              "      <td>-500.052575</td>\n",
              "      <td>28.260743</td>\n",
              "      <td>7.221879</td>\n",
              "      <td>8.496563</td>\n",
              "      <td>15.978538</td>\n",
              "      <td>2.262051</td>\n",
              "      <td>16.024359</td>\n",
              "      <td>2.960362</td>\n",
              "      <td>6.843791</td>\n",
              "      <td>25.942508</td>\n",
              "      <td>-499.176749</td>\n",
              "      <td>23.955516</td>\n",
              "      <td>-499.848796</td>\n",
              "      <td>23.966838</td>\n",
              "      <td>-500.008812</td>\n",
              "      <td>23.954443</td>\n",
              "      <td>-499.944710</td>\n",
              "      <td>14.036510</td>\n",
              "      <td>-500.857308</td>\n",
              "      <td>11.999550</td>\n",
              "      <td>-501.193686</td>\n",
              "      <td>9.970366</td>\n",
              "      <td>-499.201640</td>\n",
              "      <td>7.977324</td>\n",
              "      <td>-500.255908</td>\n",
              "      <td>14.005551</td>\n",
              "      <td>-599.996129</td>\n",
              "      <td>2.322062</td>\n",
              "      <td>13.732071</td>\n",
              "      <td>4.482453</td>\n",
              "      <td>9.122857</td>\n",
              "      <td>42.689819</td>\n",
              "      <td>6.047977</td>\n",
              "      <td>9.977019</td>\n",
              "      <td>4.858634</td>\n",
              "      <td>68.347543</td>\n",
              "      <td>2.146849</td>\n",
              "      <td>10.422762</td>\n",
              "      <td>0.883763</td>\n",
              "      <td>16.532835</td>\n",
              "    </tr>\n",
              "    <tr>\n",
              "      <th>4</th>\n",
              "      <td>2016-01-15 04:00:00</td>\n",
              "      <td>5.663707</td>\n",
              "      <td>6.060915</td>\n",
              "      <td>1.786875</td>\n",
              "      <td>34.347666</td>\n",
              "      <td>540.531893</td>\n",
              "      <td>56.047189</td>\n",
              "      <td>10.957755</td>\n",
              "      <td>6.198826</td>\n",
              "      <td>999.678690</td>\n",
              "      <td>-399.752729</td>\n",
              "      <td>1600.208824</td>\n",
              "      <td>-449.599614</td>\n",
              "      <td>1600.357732</td>\n",
              "      <td>-450.034364</td>\n",
              "      <td>1599.759049</td>\n",
              "      <td>-449.909799</td>\n",
              "      <td>1401.560902</td>\n",
              "      <td>-448.877187</td>\n",
              "      <td>1401.160227</td>\n",
              "      <td>-450.407128</td>\n",
              "      <td>10.960521</td>\n",
              "      <td>6.194897</td>\n",
              "      <td>42125.354245</td>\n",
              "      <td>3494.800771</td>\n",
              "      <td>3506.679315</td>\n",
              "      <td>3.169615</td>\n",
              "      <td>19.216101</td>\n",
              "      <td>12.411054</td>\n",
              "      <td>7.240205</td>\n",
              "      <td>27.041023</td>\n",
              "      <td>86.688794</td>\n",
              "      <td>1.012642</td>\n",
              "      <td>4.552800</td>\n",
              "      <td>0.515438</td>\n",
              "      <td>19.267422</td>\n",
              "      <td>117.988169</td>\n",
              "      <td>11.913613</td>\n",
              "      <td>7.25</td>\n",
              "      <td>1.009869</td>\n",
              "      <td>1601.339707</td>\n",
              "      <td>-498.975456</td>\n",
              "      <td>1601.437854</td>\n",
              "      <td>-500.323246</td>\n",
              "      <td>1599.581894</td>\n",
              "      <td>-500.888152</td>\n",
              "      <td>1602.649541</td>\n",
              "      <td>-500.593010</td>\n",
              "      <td>33.044932</td>\n",
              "      <td>9.089428</td>\n",
              "      <td>9.986786</td>\n",
              "      <td>19.199864</td>\n",
              "      <td>2.277073</td>\n",
              "      <td>16.480185</td>\n",
              "      <td>3.112100</td>\n",
              "      <td>6.550154</td>\n",
              "      <td>26.024787</td>\n",
              "      <td>-500.279091</td>\n",
              "      <td>23.955345</td>\n",
              "      <td>-500.593614</td>\n",
              "      <td>23.985703</td>\n",
              "      <td>-500.083811</td>\n",
              "      <td>23.958945</td>\n",
              "      <td>-499.990309</td>\n",
              "      <td>14.027298</td>\n",
              "      <td>-499.838632</td>\n",
              "      <td>11.953070</td>\n",
              "      <td>-501.053894</td>\n",
              "      <td>9.925709</td>\n",
              "      <td>-501.686727</td>\n",
              "      <td>7.894242</td>\n",
              "      <td>-500.356035</td>\n",
              "      <td>13.996647</td>\n",
              "      <td>-601.496691</td>\n",
              "      <td>2.330448</td>\n",
              "      <td>14.079996</td>\n",
              "      <td>4.470737</td>\n",
              "      <td>8.871028</td>\n",
              "      <td>42.774141</td>\n",
              "      <td>6.148599</td>\n",
              "      <td>10.142511</td>\n",
              "      <td>4.939416</td>\n",
              "      <td>66.927016</td>\n",
              "      <td>2.055292</td>\n",
              "      <td>10.360302</td>\n",
              "      <td>0.792826</td>\n",
              "      <td>16.525686</td>\n",
              "    </tr>\n",
              "  </tbody>\n",
              "</table>\n",
              "</div>"
            ],
            "text/plain": [
              "                  date  rougher.input.feed_au  rougher.input.feed_ag  \\\n",
              "0  2016-01-15 00:00:00               6.486150               6.100378   \n",
              "1  2016-01-15 01:00:00               6.478583               6.161113   \n",
              "2  2016-01-15 02:00:00               6.362222               6.116455   \n",
              "3  2016-01-15 03:00:00               6.118189               6.043309   \n",
              "4  2016-01-15 04:00:00               5.663707               6.060915   \n",
              "\n",
              "   rougher.input.feed_pb  rougher.input.feed_sol  rougher.input.feed_rate  \\\n",
              "0               2.284912               36.808594               523.546326   \n",
              "1               2.266033               35.753385               525.290581   \n",
              "2               2.159622               35.971630               530.026610   \n",
              "3               2.037807               36.862241               542.590390   \n",
              "4               1.786875               34.347666               540.531893   \n",
              "\n",
              "   rougher.input.feed_size  rougher.input.floatbank10_sulfate  \\\n",
              "0                55.486599                          11.986616   \n",
              "1                57.278666                          11.971193   \n",
              "2                57.510649                          11.920603   \n",
              "3                57.792734                          11.630094   \n",
              "4                56.047189                          10.957755   \n",
              "\n",
              "   rougher.input.floatbank10_xanthate  rougher.state.floatbank10_a_air  \\\n",
              "0                            6.007990                       999.706909   \n",
              "1                            6.005766                      1000.286398   \n",
              "2                            6.197377                       999.719565   \n",
              "3                            6.203177                       999.814770   \n",
              "4                            6.198826                       999.678690   \n",
              "\n",
              "   rougher.state.floatbank10_a_level  rougher.state.floatbank10_b_air  \\\n",
              "0                        -404.066986                      1603.011353   \n",
              "1                        -400.065196                      1600.754587   \n",
              "2                        -400.074028                      1599.337330   \n",
              "3                        -400.200179                      1600.059442   \n",
              "4                        -399.752729                      1600.208824   \n",
              "\n",
              "   rougher.state.floatbank10_b_level  rougher.state.floatbank10_c_air  \\\n",
              "0                        -434.715027                      1602.375000   \n",
              "1                        -449.953435                      1600.479580   \n",
              "2                        -450.008530                      1599.672797   \n",
              "3                        -450.619948                      1600.012842   \n",
              "4                        -449.599614                      1600.357732   \n",
              "\n",
              "   rougher.state.floatbank10_c_level  rougher.state.floatbank10_d_air  \\\n",
              "0                        -442.204468                      1598.937256   \n",
              "1                        -449.830646                      1600.527589   \n",
              "2                        -449.954491                      1599.849325   \n",
              "3                        -449.910497                      1597.725177   \n",
              "4                        -450.034364                      1599.759049   \n",
              "\n",
              "   rougher.state.floatbank10_d_level  rougher.state.floatbank10_e_air  \\\n",
              "0                        -451.294128                      1404.472046   \n",
              "1                        -449.953649                      1399.227084   \n",
              "2                        -449.954185                      1399.180945   \n",
              "3                        -450.130127                      1400.943157   \n",
              "4                        -449.909799                      1401.560902   \n",
              "\n",
              "   rougher.state.floatbank10_e_level  rougher.state.floatbank10_f_air  \\\n",
              "0                        -455.462982                      1416.354980   \n",
              "1                        -450.869848                      1399.719514   \n",
              "2                        -449.937588                      1400.316682   \n",
              "3                        -450.030142                      1400.234743   \n",
              "4                        -448.877187                      1401.160227   \n",
              "\n",
              "   rougher.state.floatbank10_f_level  rougher.input.floatbank11_sulfate  \\\n",
              "0                        -451.939636                          11.836743   \n",
              "1                        -450.119001                          11.996163   \n",
              "2                        -450.527147                          11.920305   \n",
              "3                        -449.790835                          11.692450   \n",
              "4                        -450.407128                          10.960521   \n",
              "\n",
              "   rougher.input.floatbank11_xanthate  \\\n",
              "0                            6.005818   \n",
              "1                            6.012594   \n",
              "2                            6.204633   \n",
              "3                            6.196578   \n",
              "4                            6.194897   \n",
              "\n",
              "   rougher.calculation.sulfate_to_au_concentrate  \\\n",
              "0                                   41885.707031   \n",
              "1                                   42050.861809   \n",
              "2                                   42018.101184   \n",
              "3                                   42029.447991   \n",
              "4                                   42125.354245   \n",
              "\n",
              "   rougher.calculation.floatbank10_sulfate_to_au_feed  \\\n",
              "0                                        3481.779053    \n",
              "1                                        3498.370979    \n",
              "2                                        3495.348910    \n",
              "3                                        3498.578313    \n",
              "4                                        3494.800771    \n",
              "\n",
              "   rougher.calculation.floatbank11_sulfate_to_au_feed  \\\n",
              "0                                        3520.337158    \n",
              "1                                        3489.981857    \n",
              "2                                        3502.359819    \n",
              "3                                        3499.162912    \n",
              "4                                        3506.679315    \n",
              "\n",
              "   rougher.calculation.au_pb_ratio  rougher.output.concentrate_au  \\\n",
              "0                         2.838687                      19.793808   \n",
              "1                         2.858998                      20.050975   \n",
              "2                         2.945989                      19.737170   \n",
              "3                         3.002340                      19.320810   \n",
              "4                         3.169615                      19.216101   \n",
              "\n",
              "   rougher.output.concentrate_ag  rougher.output.concentrate_pb  \\\n",
              "0                      11.500771                       7.101074   \n",
              "1                      11.615865                       7.278807   \n",
              "2                      11.695753                       7.216833   \n",
              "3                      11.915047                       7.175616   \n",
              "4                      12.411054                       7.240205   \n",
              "\n",
              "   rougher.output.concentrate_sol  rougher.output.recovery  \\\n",
              "0                       28.029297                87.107763   \n",
              "1                       28.067063                86.843261   \n",
              "2                       27.454037                86.842308   \n",
              "3                       27.341277                87.226430   \n",
              "4                       27.041023                86.688794   \n",
              "\n",
              "   rougher.output.tail_au  rougher.output.tail_ag  rougher.output.tail_pb  \\\n",
              "0                1.170244                5.008018                0.508728   \n",
              "1                1.184827                4.955378                0.536689   \n",
              "2                1.162562                4.843460                0.546416   \n",
              "3                1.079755                4.655288                0.542525   \n",
              "4                1.012642                4.552800                0.515438   \n",
              "\n",
              "   rougher.output.tail_sol  primary_cleaner.input.sulfate  \\\n",
              "0                19.154297                     127.092003   \n",
              "1                18.965234                     125.629232   \n",
              "2                18.808533                     123.819808   \n",
              "3                19.330200                     122.270188   \n",
              "4                19.267422                     117.988169   \n",
              "\n",
              "   primary_cleaner.input.depressant  primary_cleaner.input.feed_size  \\\n",
              "0                         10.128295                             7.25   \n",
              "1                         10.296251                             7.25   \n",
              "2                         11.316280                             7.25   \n",
              "3                         11.322140                             7.25   \n",
              "4                         11.913613                             7.25   \n",
              "\n",
              "   primary_cleaner.input.xanthate  primary_cleaner.state.floatbank8_a_air  \\\n",
              "0                        0.988759                             1549.775757   \n",
              "1                        1.002663                             1576.166671   \n",
              "2                        0.991265                             1601.556163   \n",
              "3                        0.996739                             1599.968720   \n",
              "4                        1.009869                             1601.339707   \n",
              "\n",
              "   primary_cleaner.state.floatbank8_a_level  \\\n",
              "0                               -498.912140   \n",
              "1                               -500.904965   \n",
              "2                               -499.997791   \n",
              "3                               -500.951778   \n",
              "4                               -498.975456   \n",
              "\n",
              "   primary_cleaner.state.floatbank8_b_air  \\\n",
              "0                             1551.434204   \n",
              "1                             1575.950626   \n",
              "2                             1600.386685   \n",
              "3                             1600.659236   \n",
              "4                             1601.437854   \n",
              "\n",
              "   primary_cleaner.state.floatbank8_b_level  \\\n",
              "0                               -516.403442   \n",
              "1                               -499.865889   \n",
              "2                               -500.607762   \n",
              "3                               -499.677094   \n",
              "4                               -500.323246   \n",
              "\n",
              "   primary_cleaner.state.floatbank8_c_air  \\\n",
              "0                             1549.873901   \n",
              "1                             1575.994189   \n",
              "2                             1602.003542   \n",
              "3                             1600.304144   \n",
              "4                             1599.581894   \n",
              "\n",
              "   primary_cleaner.state.floatbank8_c_level  \\\n",
              "0                               -498.666595   \n",
              "1                               -499.315107   \n",
              "2                               -500.870069   \n",
              "3                               -500.727997   \n",
              "4                               -500.888152   \n",
              "\n",
              "   primary_cleaner.state.floatbank8_d_air  \\\n",
              "0                             1554.367432   \n",
              "1                             1574.479259   \n",
              "2                             1599.541515   \n",
              "3                             1600.449520   \n",
              "4                             1602.649541   \n",
              "\n",
              "   primary_cleaner.state.floatbank8_d_level  \\\n",
              "0                               -493.428131   \n",
              "1                               -498.931665   \n",
              "2                               -499.827444   \n",
              "3                               -500.052575   \n",
              "4                               -500.593010   \n",
              "\n",
              "   primary_cleaner.output.concentrate_au  \\\n",
              "0                              34.174427   \n",
              "1                              34.118526   \n",
              "2                              33.969464   \n",
              "3                              28.260743   \n",
              "4                              33.044932   \n",
              "\n",
              "   primary_cleaner.output.concentrate_ag  \\\n",
              "0                               8.547551   \n",
              "1                               8.558743   \n",
              "2                               8.603505   \n",
              "3                               7.221879   \n",
              "4                               9.089428   \n",
              "\n",
              "   primary_cleaner.output.concentrate_pb  \\\n",
              "0                              10.389648   \n",
              "1                              10.497069   \n",
              "2                              10.354494   \n",
              "3                               8.496563   \n",
              "4                               9.986786   \n",
              "\n",
              "   primary_cleaner.output.concentrate_sol  primary_cleaner.output.tail_au  \\\n",
              "0                               19.529297                        2.106679   \n",
              "1                               19.369147                        2.353017   \n",
              "2                               19.167579                        2.416800   \n",
              "3                               15.978538                        2.262051   \n",
              "4                               19.199864                        2.277073   \n",
              "\n",
              "   primary_cleaner.output.tail_ag  primary_cleaner.output.tail_pb  \\\n",
              "0                       14.936526                        2.534912   \n",
              "1                       16.250511                        3.049646   \n",
              "2                       16.491823                        3.124664   \n",
              "3                       16.024359                        2.960362   \n",
              "4                       16.480185                        3.112100   \n",
              "\n",
              "   primary_cleaner.output.tail_sol  secondary_cleaner.state.floatbank2_a_air  \\\n",
              "0                         7.476074                                 25.853109   \n",
              "1                         6.733907                                 25.880539   \n",
              "2                         6.471768                                 26.005245   \n",
              "3                         6.843791                                 25.942508   \n",
              "4                         6.550154                                 26.024787   \n",
              "\n",
              "   secondary_cleaner.state.floatbank2_a_level  \\\n",
              "0                                 -498.526489   \n",
              "1                                 -499.989656   \n",
              "2                                 -499.929616   \n",
              "3                                 -499.176749   \n",
              "4                                 -500.279091   \n",
              "\n",
              "   secondary_cleaner.state.floatbank2_b_air  \\\n",
              "0                                 23.893660   \n",
              "1                                 23.889530   \n",
              "2                                 23.886657   \n",
              "3                                 23.955516   \n",
              "4                                 23.955345   \n",
              "\n",
              "   secondary_cleaner.state.floatbank2_b_level  \\\n",
              "0                                 -501.406281   \n",
              "1                                 -500.372428   \n",
              "2                                 -499.951928   \n",
              "3                                 -499.848796   \n",
              "4                                 -500.593614   \n",
              "\n",
              "   secondary_cleaner.state.floatbank3_a_air  \\\n",
              "0                                 23.961798   \n",
              "1                                 23.970550   \n",
              "2                                 23.913535   \n",
              "3                                 23.966838   \n",
              "4                                 23.985703   \n",
              "\n",
              "   secondary_cleaner.state.floatbank3_a_level  \\\n",
              "0                                 -495.262817   \n",
              "1                                 -500.085473   \n",
              "2                                 -499.442343   \n",
              "3                                 -500.008812   \n",
              "4                                 -500.083811   \n",
              "\n",
              "   secondary_cleaner.state.floatbank3_b_air  \\\n",
              "0                                 21.940409   \n",
              "1                                 22.085714   \n",
              "2                                 23.957717   \n",
              "3                                 23.954443   \n",
              "4                                 23.958945   \n",
              "\n",
              "   secondary_cleaner.state.floatbank3_b_level  \\\n",
              "0                                 -499.340973   \n",
              "1                                 -499.446897   \n",
              "2                                 -499.901982   \n",
              "3                                 -499.944710   \n",
              "4                                 -499.990309   \n",
              "\n",
              "   secondary_cleaner.state.floatbank4_a_air  \\\n",
              "0                                 14.016835   \n",
              "1                                 13.992281   \n",
              "2                                 14.015015   \n",
              "3                                 14.036510   \n",
              "4                                 14.027298   \n",
              "\n",
              "   secondary_cleaner.state.floatbank4_a_level  \\\n",
              "0                                 -502.488007   \n",
              "1                                 -505.503262   \n",
              "2                                 -502.520901   \n",
              "3                                 -500.857308   \n",
              "4                                 -499.838632   \n",
              "\n",
              "   secondary_cleaner.state.floatbank4_b_air  \\\n",
              "0                                 12.099931   \n",
              "1                                 11.950531   \n",
              "2                                 11.912783   \n",
              "3                                 11.999550   \n",
              "4                                 11.953070   \n",
              "\n",
              "   secondary_cleaner.state.floatbank4_b_level  \\\n",
              "0                                 -504.715942   \n",
              "1                                 -501.331529   \n",
              "2                                 -501.133383   \n",
              "3                                 -501.193686   \n",
              "4                                 -501.053894   \n",
              "\n",
              "   secondary_cleaner.state.floatbank5_a_air  \\\n",
              "0                                  9.925633   \n",
              "1                                 10.039245   \n",
              "2                                 10.070913   \n",
              "3                                  9.970366   \n",
              "4                                  9.925709   \n",
              "\n",
              "   secondary_cleaner.state.floatbank5_a_level  \\\n",
              "0                                 -498.310211   \n",
              "1                                 -500.169983   \n",
              "2                                 -500.129135   \n",
              "3                                 -499.201640   \n",
              "4                                 -501.686727   \n",
              "\n",
              "   secondary_cleaner.state.floatbank5_b_air  \\\n",
              "0                                  8.079666   \n",
              "1                                  7.984757   \n",
              "2                                  8.013877   \n",
              "3                                  7.977324   \n",
              "4                                  7.894242   \n",
              "\n",
              "   secondary_cleaner.state.floatbank5_b_level  \\\n",
              "0                                 -500.470978   \n",
              "1                                 -500.582168   \n",
              "2                                 -500.517572   \n",
              "3                                 -500.255908   \n",
              "4                                 -500.356035   \n",
              "\n",
              "   secondary_cleaner.state.floatbank6_a_air  \\\n",
              "0                                 14.151341   \n",
              "1                                 13.998353   \n",
              "2                                 14.028663   \n",
              "3                                 14.005551   \n",
              "4                                 13.996647   \n",
              "\n",
              "   secondary_cleaner.state.floatbank6_a_level  \\\n",
              "0                                 -605.841980   \n",
              "1                                 -599.787184   \n",
              "2                                 -601.427363   \n",
              "3                                 -599.996129   \n",
              "4                                 -601.496691   \n",
              "\n",
              "   secondary_cleaner.output.tail_au  secondary_cleaner.output.tail_ag  \\\n",
              "0                          2.606185                         14.500184   \n",
              "1                          2.488248                         14.265474   \n",
              "2                          2.458187                         14.115662   \n",
              "3                          2.322062                         13.732071   \n",
              "4                          2.330448                         14.079996   \n",
              "\n",
              "   secondary_cleaner.output.tail_pb  secondary_cleaner.output.tail_sol  \\\n",
              "0                          4.694824                           8.764648   \n",
              "1                          4.592547                           9.001494   \n",
              "2                          4.624775                           8.842896   \n",
              "3                          4.482453                           9.122857   \n",
              "4                          4.470737                           8.871028   \n",
              "\n",
              "   final.output.concentrate_au  final.output.concentrate_ag  \\\n",
              "0                    42.192020                     6.055403   \n",
              "1                    42.701629                     6.029369   \n",
              "2                    42.657501                     6.055926   \n",
              "3                    42.689819                     6.047977   \n",
              "4                    42.774141                     6.148599   \n",
              "\n",
              "   final.output.concentrate_pb  final.output.concentrate_sol  \\\n",
              "0                     9.889648                      5.507324   \n",
              "1                     9.968944                      5.257781   \n",
              "2                    10.213995                      5.383759   \n",
              "3                     9.977019                      4.858634   \n",
              "4                    10.142511                      4.939416   \n",
              "\n",
              "   final.output.recovery  final.output.tail_au  final.output.tail_ag  \\\n",
              "0              70.541216              2.143149             10.411962   \n",
              "1              69.266198              2.224930             10.462676   \n",
              "2              68.116445              2.257889             10.507046   \n",
              "3              68.347543              2.146849             10.422762   \n",
              "4              66.927016              2.055292             10.360302   \n",
              "\n",
              "   final.output.tail_pb  final.output.tail_sol  \n",
              "0              0.895447              16.904297  \n",
              "1              0.927452              16.634514  \n",
              "2              0.953716              16.208849  \n",
              "3              0.883763              16.532835  \n",
              "4              0.792826              16.525686  "
            ]
          },
          "execution_count": 66,
          "metadata": {},
          "output_type": "execute_result"
        }
      ],
      "source": [
        "#выведем по пять первых строк каждого датафрейма, чтобы ознакомиться с данными\n",
        "data_train.head()"
      ]
    },
    {
      "cell_type": "code",
      "execution_count": null,
      "metadata": {
        "id": "U_IF8TIdBwM2",
        "outputId": "9a786da3-9b77-43c4-b2f9-dcdba83d9718"
      },
      "outputs": [
        {
          "data": {
            "text/html": [
              "<div>\n",
              "<style scoped>\n",
              "    .dataframe tbody tr th:only-of-type {\n",
              "        vertical-align: middle;\n",
              "    }\n",
              "\n",
              "    .dataframe tbody tr th {\n",
              "        vertical-align: top;\n",
              "    }\n",
              "\n",
              "    .dataframe thead th {\n",
              "        text-align: right;\n",
              "    }\n",
              "</style>\n",
              "<table border=\"1\" class=\"dataframe\">\n",
              "  <thead>\n",
              "    <tr style=\"text-align: right;\">\n",
              "      <th></th>\n",
              "      <th>date</th>\n",
              "      <th>rougher.input.feed_au</th>\n",
              "      <th>rougher.input.feed_ag</th>\n",
              "      <th>rougher.input.feed_pb</th>\n",
              "      <th>rougher.input.feed_sol</th>\n",
              "      <th>rougher.input.feed_rate</th>\n",
              "      <th>rougher.input.feed_size</th>\n",
              "      <th>rougher.input.floatbank10_sulfate</th>\n",
              "      <th>rougher.input.floatbank10_xanthate</th>\n",
              "      <th>rougher.state.floatbank10_a_air</th>\n",
              "      <th>rougher.state.floatbank10_a_level</th>\n",
              "      <th>rougher.state.floatbank10_b_air</th>\n",
              "      <th>rougher.state.floatbank10_b_level</th>\n",
              "      <th>rougher.state.floatbank10_c_air</th>\n",
              "      <th>rougher.state.floatbank10_c_level</th>\n",
              "      <th>rougher.state.floatbank10_d_air</th>\n",
              "      <th>rougher.state.floatbank10_d_level</th>\n",
              "      <th>rougher.state.floatbank10_e_air</th>\n",
              "      <th>rougher.state.floatbank10_e_level</th>\n",
              "      <th>rougher.state.floatbank10_f_air</th>\n",
              "      <th>rougher.state.floatbank10_f_level</th>\n",
              "      <th>rougher.input.floatbank11_sulfate</th>\n",
              "      <th>rougher.input.floatbank11_xanthate</th>\n",
              "      <th>primary_cleaner.input.sulfate</th>\n",
              "      <th>primary_cleaner.input.depressant</th>\n",
              "      <th>primary_cleaner.input.feed_size</th>\n",
              "      <th>primary_cleaner.input.xanthate</th>\n",
              "      <th>primary_cleaner.state.floatbank8_a_air</th>\n",
              "      <th>primary_cleaner.state.floatbank8_a_level</th>\n",
              "      <th>primary_cleaner.state.floatbank8_b_air</th>\n",
              "      <th>primary_cleaner.state.floatbank8_b_level</th>\n",
              "      <th>primary_cleaner.state.floatbank8_c_air</th>\n",
              "      <th>primary_cleaner.state.floatbank8_c_level</th>\n",
              "      <th>primary_cleaner.state.floatbank8_d_air</th>\n",
              "      <th>primary_cleaner.state.floatbank8_d_level</th>\n",
              "      <th>secondary_cleaner.state.floatbank2_a_air</th>\n",
              "      <th>secondary_cleaner.state.floatbank2_a_level</th>\n",
              "      <th>secondary_cleaner.state.floatbank2_b_air</th>\n",
              "      <th>secondary_cleaner.state.floatbank2_b_level</th>\n",
              "      <th>secondary_cleaner.state.floatbank3_a_air</th>\n",
              "      <th>secondary_cleaner.state.floatbank3_a_level</th>\n",
              "      <th>secondary_cleaner.state.floatbank3_b_air</th>\n",
              "      <th>secondary_cleaner.state.floatbank3_b_level</th>\n",
              "      <th>secondary_cleaner.state.floatbank4_a_air</th>\n",
              "      <th>secondary_cleaner.state.floatbank4_a_level</th>\n",
              "      <th>secondary_cleaner.state.floatbank4_b_air</th>\n",
              "      <th>secondary_cleaner.state.floatbank4_b_level</th>\n",
              "      <th>secondary_cleaner.state.floatbank5_a_air</th>\n",
              "      <th>secondary_cleaner.state.floatbank5_a_level</th>\n",
              "      <th>secondary_cleaner.state.floatbank5_b_air</th>\n",
              "      <th>secondary_cleaner.state.floatbank5_b_level</th>\n",
              "      <th>secondary_cleaner.state.floatbank6_a_air</th>\n",
              "      <th>secondary_cleaner.state.floatbank6_a_level</th>\n",
              "    </tr>\n",
              "  </thead>\n",
              "  <tbody>\n",
              "    <tr>\n",
              "      <th>0</th>\n",
              "      <td>2017-12-09 14:59:59</td>\n",
              "      <td>4.365491</td>\n",
              "      <td>6.158718</td>\n",
              "      <td>3.875727</td>\n",
              "      <td>39.135119</td>\n",
              "      <td>555.820208</td>\n",
              "      <td>94.544358</td>\n",
              "      <td>6.146982</td>\n",
              "      <td>9.308612</td>\n",
              "      <td>1196.238112</td>\n",
              "      <td>-299.862743</td>\n",
              "      <td>1147.248241</td>\n",
              "      <td>-500.363165</td>\n",
              "      <td>1047.279065</td>\n",
              "      <td>-500.354091</td>\n",
              "      <td>948.756608</td>\n",
              "      <td>-498.439416</td>\n",
              "      <td>849.441918</td>\n",
              "      <td>-499.255503</td>\n",
              "      <td>850.112246</td>\n",
              "      <td>-499.407112</td>\n",
              "      <td>6.168939</td>\n",
              "      <td>9.309852</td>\n",
              "      <td>95.248427</td>\n",
              "      <td>8.078957</td>\n",
              "      <td>6.500000</td>\n",
              "      <td>1.283045</td>\n",
              "      <td>1648.759906</td>\n",
              "      <td>-399.862053</td>\n",
              "      <td>1650.135395</td>\n",
              "      <td>-399.957321</td>\n",
              "      <td>1648.831890</td>\n",
              "      <td>-400.586116</td>\n",
              "      <td>1649.464582</td>\n",
              "      <td>-400.673303</td>\n",
              "      <td>34.940919</td>\n",
              "      <td>-500.150510</td>\n",
              "      <td>30.031867</td>\n",
              "      <td>-500.328335</td>\n",
              "      <td>26.033990</td>\n",
              "      <td>-500.147792</td>\n",
              "      <td>22.952306</td>\n",
              "      <td>-500.037678</td>\n",
              "      <td>23.018622</td>\n",
              "      <td>-500.492702</td>\n",
              "      <td>20.020205</td>\n",
              "      <td>-500.220296</td>\n",
              "      <td>17.963512</td>\n",
              "      <td>-499.939490</td>\n",
              "      <td>12.990306</td>\n",
              "      <td>-500.080993</td>\n",
              "      <td>19.990336</td>\n",
              "      <td>-499.191575</td>\n",
              "    </tr>\n",
              "    <tr>\n",
              "      <th>1</th>\n",
              "      <td>2017-12-09 15:59:59</td>\n",
              "      <td>4.362781</td>\n",
              "      <td>6.048130</td>\n",
              "      <td>3.902537</td>\n",
              "      <td>39.713906</td>\n",
              "      <td>544.731687</td>\n",
              "      <td>123.742430</td>\n",
              "      <td>6.210119</td>\n",
              "      <td>9.297709</td>\n",
              "      <td>1201.904177</td>\n",
              "      <td>-299.907308</td>\n",
              "      <td>1154.087804</td>\n",
              "      <td>-500.036580</td>\n",
              "      <td>1054.009756</td>\n",
              "      <td>-500.237335</td>\n",
              "      <td>944.138793</td>\n",
              "      <td>-496.866953</td>\n",
              "      <td>851.589767</td>\n",
              "      <td>-499.040466</td>\n",
              "      <td>851.345606</td>\n",
              "      <td>-499.122561</td>\n",
              "      <td>6.209517</td>\n",
              "      <td>9.297194</td>\n",
              "      <td>98.880538</td>\n",
              "      <td>7.984164</td>\n",
              "      <td>6.500000</td>\n",
              "      <td>1.241969</td>\n",
              "      <td>1646.547763</td>\n",
              "      <td>-398.977083</td>\n",
              "      <td>1648.212240</td>\n",
              "      <td>-400.383265</td>\n",
              "      <td>1648.917387</td>\n",
              "      <td>-399.521344</td>\n",
              "      <td>1651.498591</td>\n",
              "      <td>-399.745329</td>\n",
              "      <td>34.980742</td>\n",
              "      <td>-498.131002</td>\n",
              "      <td>29.968453</td>\n",
              "      <td>-586.013330</td>\n",
              "      <td>25.971737</td>\n",
              "      <td>-499.608392</td>\n",
              "      <td>22.958448</td>\n",
              "      <td>-499.821308</td>\n",
              "      <td>23.024963</td>\n",
              "      <td>-501.153409</td>\n",
              "      <td>20.054122</td>\n",
              "      <td>-500.314711</td>\n",
              "      <td>17.979515</td>\n",
              "      <td>-499.272871</td>\n",
              "      <td>12.992404</td>\n",
              "      <td>-499.976268</td>\n",
              "      <td>20.013986</td>\n",
              "      <td>-500.625471</td>\n",
              "    </tr>\n",
              "    <tr>\n",
              "      <th>2</th>\n",
              "      <td>2017-12-09 16:59:59</td>\n",
              "      <td>5.081681</td>\n",
              "      <td>6.082745</td>\n",
              "      <td>4.564078</td>\n",
              "      <td>37.208683</td>\n",
              "      <td>558.155110</td>\n",
              "      <td>82.610855</td>\n",
              "      <td>7.363824</td>\n",
              "      <td>9.003562</td>\n",
              "      <td>1200.826926</td>\n",
              "      <td>-300.124116</td>\n",
              "      <td>1150.754676</td>\n",
              "      <td>-499.986009</td>\n",
              "      <td>1049.182824</td>\n",
              "      <td>-500.014696</td>\n",
              "      <td>948.085464</td>\n",
              "      <td>-499.997003</td>\n",
              "      <td>850.170086</td>\n",
              "      <td>-500.270334</td>\n",
              "      <td>849.557905</td>\n",
              "      <td>-500.198702</td>\n",
              "      <td>7.358308</td>\n",
              "      <td>9.000624</td>\n",
              "      <td>119.497545</td>\n",
              "      <td>8.003752</td>\n",
              "      <td>6.500000</td>\n",
              "      <td>1.259741</td>\n",
              "      <td>1647.368779</td>\n",
              "      <td>-399.788506</td>\n",
              "      <td>1648.395206</td>\n",
              "      <td>-400.166490</td>\n",
              "      <td>1648.953828</td>\n",
              "      <td>-400.468641</td>\n",
              "      <td>1649.821569</td>\n",
              "      <td>-400.071884</td>\n",
              "      <td>34.952967</td>\n",
              "      <td>-501.204647</td>\n",
              "      <td>29.927025</td>\n",
              "      <td>-500.106628</td>\n",
              "      <td>25.978253</td>\n",
              "      <td>-499.890060</td>\n",
              "      <td>23.004376</td>\n",
              "      <td>-500.014529</td>\n",
              "      <td>22.993827</td>\n",
              "      <td>-501.559663</td>\n",
              "      <td>20.029144</td>\n",
              "      <td>-500.000662</td>\n",
              "      <td>18.012723</td>\n",
              "      <td>-500.024764</td>\n",
              "      <td>13.016445</td>\n",
              "      <td>-500.058432</td>\n",
              "      <td>19.973767</td>\n",
              "      <td>-501.394155</td>\n",
              "    </tr>\n",
              "    <tr>\n",
              "      <th>3</th>\n",
              "      <td>2017-12-09 17:59:59</td>\n",
              "      <td>5.145949</td>\n",
              "      <td>6.084374</td>\n",
              "      <td>4.768124</td>\n",
              "      <td>36.808874</td>\n",
              "      <td>539.713765</td>\n",
              "      <td>77.984784</td>\n",
              "      <td>6.927072</td>\n",
              "      <td>8.955597</td>\n",
              "      <td>1199.292489</td>\n",
              "      <td>-299.778385</td>\n",
              "      <td>1152.512559</td>\n",
              "      <td>-500.338106</td>\n",
              "      <td>1052.601592</td>\n",
              "      <td>-499.695075</td>\n",
              "      <td>955.171539</td>\n",
              "      <td>-500.294989</td>\n",
              "      <td>851.957342</td>\n",
              "      <td>-499.779541</td>\n",
              "      <td>850.765662</td>\n",
              "      <td>-501.030559</td>\n",
              "      <td>6.929364</td>\n",
              "      <td>8.920717</td>\n",
              "      <td>108.080163</td>\n",
              "      <td>7.970121</td>\n",
              "      <td>6.660000</td>\n",
              "      <td>0.774909</td>\n",
              "      <td>1652.660845</td>\n",
              "      <td>-399.702218</td>\n",
              "      <td>1651.203128</td>\n",
              "      <td>-400.291472</td>\n",
              "      <td>1651.924848</td>\n",
              "      <td>-398.058033</td>\n",
              "      <td>1650.782696</td>\n",
              "      <td>-399.597977</td>\n",
              "      <td>35.038256</td>\n",
              "      <td>-500.102649</td>\n",
              "      <td>30.066959</td>\n",
              "      <td>-500.211499</td>\n",
              "      <td>26.013515</td>\n",
              "      <td>-500.054597</td>\n",
              "      <td>22.988928</td>\n",
              "      <td>-499.981410</td>\n",
              "      <td>23.032807</td>\n",
              "      <td>-501.287889</td>\n",
              "      <td>19.977466</td>\n",
              "      <td>-500.159903</td>\n",
              "      <td>17.980463</td>\n",
              "      <td>-500.504602</td>\n",
              "      <td>12.949071</td>\n",
              "      <td>-500.009937</td>\n",
              "      <td>20.010332</td>\n",
              "      <td>-508.337973</td>\n",
              "    </tr>\n",
              "    <tr>\n",
              "      <th>4</th>\n",
              "      <td>2017-12-09 18:59:59</td>\n",
              "      <td>5.735249</td>\n",
              "      <td>6.165220</td>\n",
              "      <td>4.512346</td>\n",
              "      <td>37.810642</td>\n",
              "      <td>558.713584</td>\n",
              "      <td>86.434874</td>\n",
              "      <td>7.823471</td>\n",
              "      <td>7.490356</td>\n",
              "      <td>1198.005449</td>\n",
              "      <td>-300.283401</td>\n",
              "      <td>1099.481500</td>\n",
              "      <td>-499.702465</td>\n",
              "      <td>999.539264</td>\n",
              "      <td>-499.306051</td>\n",
              "      <td>889.445596</td>\n",
              "      <td>-498.118617</td>\n",
              "      <td>800.533525</td>\n",
              "      <td>-499.765068</td>\n",
              "      <td>800.510356</td>\n",
              "      <td>-497.289533</td>\n",
              "      <td>7.824875</td>\n",
              "      <td>7.500678</td>\n",
              "      <td>117.750648</td>\n",
              "      <td>6.954311</td>\n",
              "      <td>6.426667</td>\n",
              "      <td>0.731271</td>\n",
              "      <td>1649.411497</td>\n",
              "      <td>-399.853156</td>\n",
              "      <td>1648.917211</td>\n",
              "      <td>-400.321866</td>\n",
              "      <td>1649.117753</td>\n",
              "      <td>-399.645348</td>\n",
              "      <td>1650.398209</td>\n",
              "      <td>-400.654533</td>\n",
              "      <td>34.894598</td>\n",
              "      <td>-498.444587</td>\n",
              "      <td>30.020745</td>\n",
              "      <td>-533.831343</td>\n",
              "      <td>26.022094</td>\n",
              "      <td>-499.725484</td>\n",
              "      <td>22.992992</td>\n",
              "      <td>-499.891405</td>\n",
              "      <td>23.001911</td>\n",
              "      <td>-499.947838</td>\n",
              "      <td>20.023735</td>\n",
              "      <td>-499.713680</td>\n",
              "      <td>17.990955</td>\n",
              "      <td>-500.334769</td>\n",
              "      <td>13.007523</td>\n",
              "      <td>-499.968459</td>\n",
              "      <td>19.995999</td>\n",
              "      <td>-499.788805</td>\n",
              "    </tr>\n",
              "  </tbody>\n",
              "</table>\n",
              "</div>"
            ],
            "text/plain": [
              "                  date  rougher.input.feed_au  rougher.input.feed_ag  \\\n",
              "0  2017-12-09 14:59:59               4.365491               6.158718   \n",
              "1  2017-12-09 15:59:59               4.362781               6.048130   \n",
              "2  2017-12-09 16:59:59               5.081681               6.082745   \n",
              "3  2017-12-09 17:59:59               5.145949               6.084374   \n",
              "4  2017-12-09 18:59:59               5.735249               6.165220   \n",
              "\n",
              "   rougher.input.feed_pb  rougher.input.feed_sol  rougher.input.feed_rate  \\\n",
              "0               3.875727               39.135119               555.820208   \n",
              "1               3.902537               39.713906               544.731687   \n",
              "2               4.564078               37.208683               558.155110   \n",
              "3               4.768124               36.808874               539.713765   \n",
              "4               4.512346               37.810642               558.713584   \n",
              "\n",
              "   rougher.input.feed_size  rougher.input.floatbank10_sulfate  \\\n",
              "0                94.544358                           6.146982   \n",
              "1               123.742430                           6.210119   \n",
              "2                82.610855                           7.363824   \n",
              "3                77.984784                           6.927072   \n",
              "4                86.434874                           7.823471   \n",
              "\n",
              "   rougher.input.floatbank10_xanthate  rougher.state.floatbank10_a_air  \\\n",
              "0                            9.308612                      1196.238112   \n",
              "1                            9.297709                      1201.904177   \n",
              "2                            9.003562                      1200.826926   \n",
              "3                            8.955597                      1199.292489   \n",
              "4                            7.490356                      1198.005449   \n",
              "\n",
              "   rougher.state.floatbank10_a_level  rougher.state.floatbank10_b_air  \\\n",
              "0                        -299.862743                      1147.248241   \n",
              "1                        -299.907308                      1154.087804   \n",
              "2                        -300.124116                      1150.754676   \n",
              "3                        -299.778385                      1152.512559   \n",
              "4                        -300.283401                      1099.481500   \n",
              "\n",
              "   rougher.state.floatbank10_b_level  rougher.state.floatbank10_c_air  \\\n",
              "0                        -500.363165                      1047.279065   \n",
              "1                        -500.036580                      1054.009756   \n",
              "2                        -499.986009                      1049.182824   \n",
              "3                        -500.338106                      1052.601592   \n",
              "4                        -499.702465                       999.539264   \n",
              "\n",
              "   rougher.state.floatbank10_c_level  rougher.state.floatbank10_d_air  \\\n",
              "0                        -500.354091                       948.756608   \n",
              "1                        -500.237335                       944.138793   \n",
              "2                        -500.014696                       948.085464   \n",
              "3                        -499.695075                       955.171539   \n",
              "4                        -499.306051                       889.445596   \n",
              "\n",
              "   rougher.state.floatbank10_d_level  rougher.state.floatbank10_e_air  \\\n",
              "0                        -498.439416                       849.441918   \n",
              "1                        -496.866953                       851.589767   \n",
              "2                        -499.997003                       850.170086   \n",
              "3                        -500.294989                       851.957342   \n",
              "4                        -498.118617                       800.533525   \n",
              "\n",
              "   rougher.state.floatbank10_e_level  rougher.state.floatbank10_f_air  \\\n",
              "0                        -499.255503                       850.112246   \n",
              "1                        -499.040466                       851.345606   \n",
              "2                        -500.270334                       849.557905   \n",
              "3                        -499.779541                       850.765662   \n",
              "4                        -499.765068                       800.510356   \n",
              "\n",
              "   rougher.state.floatbank10_f_level  rougher.input.floatbank11_sulfate  \\\n",
              "0                        -499.407112                           6.168939   \n",
              "1                        -499.122561                           6.209517   \n",
              "2                        -500.198702                           7.358308   \n",
              "3                        -501.030559                           6.929364   \n",
              "4                        -497.289533                           7.824875   \n",
              "\n",
              "   rougher.input.floatbank11_xanthate  primary_cleaner.input.sulfate  \\\n",
              "0                            9.309852                      95.248427   \n",
              "1                            9.297194                      98.880538   \n",
              "2                            9.000624                     119.497545   \n",
              "3                            8.920717                     108.080163   \n",
              "4                            7.500678                     117.750648   \n",
              "\n",
              "   primary_cleaner.input.depressant  primary_cleaner.input.feed_size  \\\n",
              "0                          8.078957                         6.500000   \n",
              "1                          7.984164                         6.500000   \n",
              "2                          8.003752                         6.500000   \n",
              "3                          7.970121                         6.660000   \n",
              "4                          6.954311                         6.426667   \n",
              "\n",
              "   primary_cleaner.input.xanthate  primary_cleaner.state.floatbank8_a_air  \\\n",
              "0                        1.283045                             1648.759906   \n",
              "1                        1.241969                             1646.547763   \n",
              "2                        1.259741                             1647.368779   \n",
              "3                        0.774909                             1652.660845   \n",
              "4                        0.731271                             1649.411497   \n",
              "\n",
              "   primary_cleaner.state.floatbank8_a_level  \\\n",
              "0                               -399.862053   \n",
              "1                               -398.977083   \n",
              "2                               -399.788506   \n",
              "3                               -399.702218   \n",
              "4                               -399.853156   \n",
              "\n",
              "   primary_cleaner.state.floatbank8_b_air  \\\n",
              "0                             1650.135395   \n",
              "1                             1648.212240   \n",
              "2                             1648.395206   \n",
              "3                             1651.203128   \n",
              "4                             1648.917211   \n",
              "\n",
              "   primary_cleaner.state.floatbank8_b_level  \\\n",
              "0                               -399.957321   \n",
              "1                               -400.383265   \n",
              "2                               -400.166490   \n",
              "3                               -400.291472   \n",
              "4                               -400.321866   \n",
              "\n",
              "   primary_cleaner.state.floatbank8_c_air  \\\n",
              "0                             1648.831890   \n",
              "1                             1648.917387   \n",
              "2                             1648.953828   \n",
              "3                             1651.924848   \n",
              "4                             1649.117753   \n",
              "\n",
              "   primary_cleaner.state.floatbank8_c_level  \\\n",
              "0                               -400.586116   \n",
              "1                               -399.521344   \n",
              "2                               -400.468641   \n",
              "3                               -398.058033   \n",
              "4                               -399.645348   \n",
              "\n",
              "   primary_cleaner.state.floatbank8_d_air  \\\n",
              "0                             1649.464582   \n",
              "1                             1651.498591   \n",
              "2                             1649.821569   \n",
              "3                             1650.782696   \n",
              "4                             1650.398209   \n",
              "\n",
              "   primary_cleaner.state.floatbank8_d_level  \\\n",
              "0                               -400.673303   \n",
              "1                               -399.745329   \n",
              "2                               -400.071884   \n",
              "3                               -399.597977   \n",
              "4                               -400.654533   \n",
              "\n",
              "   secondary_cleaner.state.floatbank2_a_air  \\\n",
              "0                                 34.940919   \n",
              "1                                 34.980742   \n",
              "2                                 34.952967   \n",
              "3                                 35.038256   \n",
              "4                                 34.894598   \n",
              "\n",
              "   secondary_cleaner.state.floatbank2_a_level  \\\n",
              "0                                 -500.150510   \n",
              "1                                 -498.131002   \n",
              "2                                 -501.204647   \n",
              "3                                 -500.102649   \n",
              "4                                 -498.444587   \n",
              "\n",
              "   secondary_cleaner.state.floatbank2_b_air  \\\n",
              "0                                 30.031867   \n",
              "1                                 29.968453   \n",
              "2                                 29.927025   \n",
              "3                                 30.066959   \n",
              "4                                 30.020745   \n",
              "\n",
              "   secondary_cleaner.state.floatbank2_b_level  \\\n",
              "0                                 -500.328335   \n",
              "1                                 -586.013330   \n",
              "2                                 -500.106628   \n",
              "3                                 -500.211499   \n",
              "4                                 -533.831343   \n",
              "\n",
              "   secondary_cleaner.state.floatbank3_a_air  \\\n",
              "0                                 26.033990   \n",
              "1                                 25.971737   \n",
              "2                                 25.978253   \n",
              "3                                 26.013515   \n",
              "4                                 26.022094   \n",
              "\n",
              "   secondary_cleaner.state.floatbank3_a_level  \\\n",
              "0                                 -500.147792   \n",
              "1                                 -499.608392   \n",
              "2                                 -499.890060   \n",
              "3                                 -500.054597   \n",
              "4                                 -499.725484   \n",
              "\n",
              "   secondary_cleaner.state.floatbank3_b_air  \\\n",
              "0                                 22.952306   \n",
              "1                                 22.958448   \n",
              "2                                 23.004376   \n",
              "3                                 22.988928   \n",
              "4                                 22.992992   \n",
              "\n",
              "   secondary_cleaner.state.floatbank3_b_level  \\\n",
              "0                                 -500.037678   \n",
              "1                                 -499.821308   \n",
              "2                                 -500.014529   \n",
              "3                                 -499.981410   \n",
              "4                                 -499.891405   \n",
              "\n",
              "   secondary_cleaner.state.floatbank4_a_air  \\\n",
              "0                                 23.018622   \n",
              "1                                 23.024963   \n",
              "2                                 22.993827   \n",
              "3                                 23.032807   \n",
              "4                                 23.001911   \n",
              "\n",
              "   secondary_cleaner.state.floatbank4_a_level  \\\n",
              "0                                 -500.492702   \n",
              "1                                 -501.153409   \n",
              "2                                 -501.559663   \n",
              "3                                 -501.287889   \n",
              "4                                 -499.947838   \n",
              "\n",
              "   secondary_cleaner.state.floatbank4_b_air  \\\n",
              "0                                 20.020205   \n",
              "1                                 20.054122   \n",
              "2                                 20.029144   \n",
              "3                                 19.977466   \n",
              "4                                 20.023735   \n",
              "\n",
              "   secondary_cleaner.state.floatbank4_b_level  \\\n",
              "0                                 -500.220296   \n",
              "1                                 -500.314711   \n",
              "2                                 -500.000662   \n",
              "3                                 -500.159903   \n",
              "4                                 -499.713680   \n",
              "\n",
              "   secondary_cleaner.state.floatbank5_a_air  \\\n",
              "0                                 17.963512   \n",
              "1                                 17.979515   \n",
              "2                                 18.012723   \n",
              "3                                 17.980463   \n",
              "4                                 17.990955   \n",
              "\n",
              "   secondary_cleaner.state.floatbank5_a_level  \\\n",
              "0                                 -499.939490   \n",
              "1                                 -499.272871   \n",
              "2                                 -500.024764   \n",
              "3                                 -500.504602   \n",
              "4                                 -500.334769   \n",
              "\n",
              "   secondary_cleaner.state.floatbank5_b_air  \\\n",
              "0                                 12.990306   \n",
              "1                                 12.992404   \n",
              "2                                 13.016445   \n",
              "3                                 12.949071   \n",
              "4                                 13.007523   \n",
              "\n",
              "   secondary_cleaner.state.floatbank5_b_level  \\\n",
              "0                                 -500.080993   \n",
              "1                                 -499.976268   \n",
              "2                                 -500.058432   \n",
              "3                                 -500.009937   \n",
              "4                                 -499.968459   \n",
              "\n",
              "   secondary_cleaner.state.floatbank6_a_air  \\\n",
              "0                                 19.990336   \n",
              "1                                 20.013986   \n",
              "2                                 19.973767   \n",
              "3                                 20.010332   \n",
              "4                                 19.995999   \n",
              "\n",
              "   secondary_cleaner.state.floatbank6_a_level  \n",
              "0                                 -499.191575  \n",
              "1                                 -500.625471  \n",
              "2                                 -501.394155  \n",
              "3                                 -508.337973  \n",
              "4                                 -499.788805  "
            ]
          },
          "execution_count": 67,
          "metadata": {},
          "output_type": "execute_result"
        }
      ],
      "source": [
        "data_test.head()"
      ]
    },
    {
      "cell_type": "code",
      "execution_count": null,
      "metadata": {
        "id": "Sk2omfNsBwM2",
        "outputId": "0637910a-3f90-4eb0-95ba-6ffe29f5075f"
      },
      "outputs": [
        {
          "data": {
            "text/html": [
              "<div>\n",
              "<style scoped>\n",
              "    .dataframe tbody tr th:only-of-type {\n",
              "        vertical-align: middle;\n",
              "    }\n",
              "\n",
              "    .dataframe tbody tr th {\n",
              "        vertical-align: top;\n",
              "    }\n",
              "\n",
              "    .dataframe thead th {\n",
              "        text-align: right;\n",
              "    }\n",
              "</style>\n",
              "<table border=\"1\" class=\"dataframe\">\n",
              "  <thead>\n",
              "    <tr style=\"text-align: right;\">\n",
              "      <th></th>\n",
              "      <th>date</th>\n",
              "      <th>rougher.input.feed_au</th>\n",
              "      <th>rougher.input.feed_ag</th>\n",
              "      <th>rougher.input.feed_pb</th>\n",
              "      <th>rougher.input.feed_sol</th>\n",
              "      <th>rougher.input.feed_rate</th>\n",
              "      <th>rougher.input.feed_size</th>\n",
              "      <th>rougher.input.floatbank10_sulfate</th>\n",
              "      <th>rougher.input.floatbank10_xanthate</th>\n",
              "      <th>rougher.state.floatbank10_a_air</th>\n",
              "      <th>rougher.state.floatbank10_a_level</th>\n",
              "      <th>rougher.state.floatbank10_b_air</th>\n",
              "      <th>rougher.state.floatbank10_b_level</th>\n",
              "      <th>rougher.state.floatbank10_c_air</th>\n",
              "      <th>rougher.state.floatbank10_c_level</th>\n",
              "      <th>rougher.state.floatbank10_d_air</th>\n",
              "      <th>rougher.state.floatbank10_d_level</th>\n",
              "      <th>rougher.state.floatbank10_e_air</th>\n",
              "      <th>rougher.state.floatbank10_e_level</th>\n",
              "      <th>rougher.state.floatbank10_f_air</th>\n",
              "      <th>rougher.state.floatbank10_f_level</th>\n",
              "      <th>rougher.input.floatbank11_sulfate</th>\n",
              "      <th>rougher.input.floatbank11_xanthate</th>\n",
              "      <th>rougher.calculation.sulfate_to_au_concentrate</th>\n",
              "      <th>rougher.calculation.floatbank10_sulfate_to_au_feed</th>\n",
              "      <th>rougher.calculation.floatbank11_sulfate_to_au_feed</th>\n",
              "      <th>rougher.calculation.au_pb_ratio</th>\n",
              "      <th>rougher.output.concentrate_au</th>\n",
              "      <th>rougher.output.concentrate_ag</th>\n",
              "      <th>rougher.output.concentrate_pb</th>\n",
              "      <th>rougher.output.concentrate_sol</th>\n",
              "      <th>rougher.output.recovery</th>\n",
              "      <th>rougher.output.tail_au</th>\n",
              "      <th>rougher.output.tail_ag</th>\n",
              "      <th>rougher.output.tail_pb</th>\n",
              "      <th>rougher.output.tail_sol</th>\n",
              "      <th>primary_cleaner.input.sulfate</th>\n",
              "      <th>primary_cleaner.input.depressant</th>\n",
              "      <th>primary_cleaner.input.feed_size</th>\n",
              "      <th>primary_cleaner.input.xanthate</th>\n",
              "      <th>primary_cleaner.state.floatbank8_a_air</th>\n",
              "      <th>primary_cleaner.state.floatbank8_a_level</th>\n",
              "      <th>primary_cleaner.state.floatbank8_b_air</th>\n",
              "      <th>primary_cleaner.state.floatbank8_b_level</th>\n",
              "      <th>primary_cleaner.state.floatbank8_c_air</th>\n",
              "      <th>primary_cleaner.state.floatbank8_c_level</th>\n",
              "      <th>primary_cleaner.state.floatbank8_d_air</th>\n",
              "      <th>primary_cleaner.state.floatbank8_d_level</th>\n",
              "      <th>primary_cleaner.output.concentrate_au</th>\n",
              "      <th>primary_cleaner.output.concentrate_ag</th>\n",
              "      <th>primary_cleaner.output.concentrate_pb</th>\n",
              "      <th>primary_cleaner.output.concentrate_sol</th>\n",
              "      <th>primary_cleaner.output.tail_au</th>\n",
              "      <th>primary_cleaner.output.tail_ag</th>\n",
              "      <th>primary_cleaner.output.tail_pb</th>\n",
              "      <th>primary_cleaner.output.tail_sol</th>\n",
              "      <th>secondary_cleaner.state.floatbank2_a_air</th>\n",
              "      <th>secondary_cleaner.state.floatbank2_a_level</th>\n",
              "      <th>secondary_cleaner.state.floatbank2_b_air</th>\n",
              "      <th>secondary_cleaner.state.floatbank2_b_level</th>\n",
              "      <th>secondary_cleaner.state.floatbank3_a_air</th>\n",
              "      <th>secondary_cleaner.state.floatbank3_a_level</th>\n",
              "      <th>secondary_cleaner.state.floatbank3_b_air</th>\n",
              "      <th>secondary_cleaner.state.floatbank3_b_level</th>\n",
              "      <th>secondary_cleaner.state.floatbank4_a_air</th>\n",
              "      <th>secondary_cleaner.state.floatbank4_a_level</th>\n",
              "      <th>secondary_cleaner.state.floatbank4_b_air</th>\n",
              "      <th>secondary_cleaner.state.floatbank4_b_level</th>\n",
              "      <th>secondary_cleaner.state.floatbank5_a_air</th>\n",
              "      <th>secondary_cleaner.state.floatbank5_a_level</th>\n",
              "      <th>secondary_cleaner.state.floatbank5_b_air</th>\n",
              "      <th>secondary_cleaner.state.floatbank5_b_level</th>\n",
              "      <th>secondary_cleaner.state.floatbank6_a_air</th>\n",
              "      <th>secondary_cleaner.state.floatbank6_a_level</th>\n",
              "      <th>secondary_cleaner.output.tail_au</th>\n",
              "      <th>secondary_cleaner.output.tail_ag</th>\n",
              "      <th>secondary_cleaner.output.tail_pb</th>\n",
              "      <th>secondary_cleaner.output.tail_sol</th>\n",
              "      <th>final.output.concentrate_au</th>\n",
              "      <th>final.output.concentrate_ag</th>\n",
              "      <th>final.output.concentrate_pb</th>\n",
              "      <th>final.output.concentrate_sol</th>\n",
              "      <th>final.output.recovery</th>\n",
              "      <th>final.output.tail_au</th>\n",
              "      <th>final.output.tail_ag</th>\n",
              "      <th>final.output.tail_pb</th>\n",
              "      <th>final.output.tail_sol</th>\n",
              "    </tr>\n",
              "  </thead>\n",
              "  <tbody>\n",
              "    <tr>\n",
              "      <th>0</th>\n",
              "      <td>2016-01-15 00:00:00</td>\n",
              "      <td>6.486150</td>\n",
              "      <td>6.100378</td>\n",
              "      <td>2.284912</td>\n",
              "      <td>36.808594</td>\n",
              "      <td>523.546326</td>\n",
              "      <td>55.486599</td>\n",
              "      <td>11.986616</td>\n",
              "      <td>6.007990</td>\n",
              "      <td>999.706909</td>\n",
              "      <td>-404.066986</td>\n",
              "      <td>1603.011353</td>\n",
              "      <td>-434.715027</td>\n",
              "      <td>1602.375000</td>\n",
              "      <td>-442.204468</td>\n",
              "      <td>1598.937256</td>\n",
              "      <td>-451.294128</td>\n",
              "      <td>1404.472046</td>\n",
              "      <td>-455.462982</td>\n",
              "      <td>1416.354980</td>\n",
              "      <td>-451.939636</td>\n",
              "      <td>11.836743</td>\n",
              "      <td>6.005818</td>\n",
              "      <td>41885.707031</td>\n",
              "      <td>3481.779053</td>\n",
              "      <td>3520.337158</td>\n",
              "      <td>2.838687</td>\n",
              "      <td>19.793808</td>\n",
              "      <td>11.500771</td>\n",
              "      <td>7.101074</td>\n",
              "      <td>28.029297</td>\n",
              "      <td>87.107763</td>\n",
              "      <td>1.170244</td>\n",
              "      <td>5.008018</td>\n",
              "      <td>0.508728</td>\n",
              "      <td>19.154297</td>\n",
              "      <td>127.092003</td>\n",
              "      <td>10.128295</td>\n",
              "      <td>7.25</td>\n",
              "      <td>0.988759</td>\n",
              "      <td>1549.775757</td>\n",
              "      <td>-498.912140</td>\n",
              "      <td>1551.434204</td>\n",
              "      <td>-516.403442</td>\n",
              "      <td>1549.873901</td>\n",
              "      <td>-498.666595</td>\n",
              "      <td>1554.367432</td>\n",
              "      <td>-493.428131</td>\n",
              "      <td>34.174427</td>\n",
              "      <td>8.547551</td>\n",
              "      <td>10.389648</td>\n",
              "      <td>19.529297</td>\n",
              "      <td>2.106679</td>\n",
              "      <td>14.936526</td>\n",
              "      <td>2.534912</td>\n",
              "      <td>7.476074</td>\n",
              "      <td>25.853109</td>\n",
              "      <td>-498.526489</td>\n",
              "      <td>23.893660</td>\n",
              "      <td>-501.406281</td>\n",
              "      <td>23.961798</td>\n",
              "      <td>-495.262817</td>\n",
              "      <td>21.940409</td>\n",
              "      <td>-499.340973</td>\n",
              "      <td>14.016835</td>\n",
              "      <td>-502.488007</td>\n",
              "      <td>12.099931</td>\n",
              "      <td>-504.715942</td>\n",
              "      <td>9.925633</td>\n",
              "      <td>-498.310211</td>\n",
              "      <td>8.079666</td>\n",
              "      <td>-500.470978</td>\n",
              "      <td>14.151341</td>\n",
              "      <td>-605.841980</td>\n",
              "      <td>2.606185</td>\n",
              "      <td>14.500184</td>\n",
              "      <td>4.694824</td>\n",
              "      <td>8.764648</td>\n",
              "      <td>42.192020</td>\n",
              "      <td>6.055403</td>\n",
              "      <td>9.889648</td>\n",
              "      <td>5.507324</td>\n",
              "      <td>70.541216</td>\n",
              "      <td>2.143149</td>\n",
              "      <td>10.411962</td>\n",
              "      <td>0.895447</td>\n",
              "      <td>16.904297</td>\n",
              "    </tr>\n",
              "    <tr>\n",
              "      <th>1</th>\n",
              "      <td>2016-01-15 01:00:00</td>\n",
              "      <td>6.478583</td>\n",
              "      <td>6.161113</td>\n",
              "      <td>2.266033</td>\n",
              "      <td>35.753385</td>\n",
              "      <td>525.290581</td>\n",
              "      <td>57.278666</td>\n",
              "      <td>11.971193</td>\n",
              "      <td>6.005766</td>\n",
              "      <td>1000.286398</td>\n",
              "      <td>-400.065196</td>\n",
              "      <td>1600.754587</td>\n",
              "      <td>-449.953435</td>\n",
              "      <td>1600.479580</td>\n",
              "      <td>-449.830646</td>\n",
              "      <td>1600.527589</td>\n",
              "      <td>-449.953649</td>\n",
              "      <td>1399.227084</td>\n",
              "      <td>-450.869848</td>\n",
              "      <td>1399.719514</td>\n",
              "      <td>-450.119001</td>\n",
              "      <td>11.996163</td>\n",
              "      <td>6.012594</td>\n",
              "      <td>42050.861809</td>\n",
              "      <td>3498.370979</td>\n",
              "      <td>3489.981857</td>\n",
              "      <td>2.858998</td>\n",
              "      <td>20.050975</td>\n",
              "      <td>11.615865</td>\n",
              "      <td>7.278807</td>\n",
              "      <td>28.067063</td>\n",
              "      <td>86.843261</td>\n",
              "      <td>1.184827</td>\n",
              "      <td>4.955378</td>\n",
              "      <td>0.536689</td>\n",
              "      <td>18.965234</td>\n",
              "      <td>125.629232</td>\n",
              "      <td>10.296251</td>\n",
              "      <td>7.25</td>\n",
              "      <td>1.002663</td>\n",
              "      <td>1576.166671</td>\n",
              "      <td>-500.904965</td>\n",
              "      <td>1575.950626</td>\n",
              "      <td>-499.865889</td>\n",
              "      <td>1575.994189</td>\n",
              "      <td>-499.315107</td>\n",
              "      <td>1574.479259</td>\n",
              "      <td>-498.931665</td>\n",
              "      <td>34.118526</td>\n",
              "      <td>8.558743</td>\n",
              "      <td>10.497069</td>\n",
              "      <td>19.369147</td>\n",
              "      <td>2.353017</td>\n",
              "      <td>16.250511</td>\n",
              "      <td>3.049646</td>\n",
              "      <td>6.733907</td>\n",
              "      <td>25.880539</td>\n",
              "      <td>-499.989656</td>\n",
              "      <td>23.889530</td>\n",
              "      <td>-500.372428</td>\n",
              "      <td>23.970550</td>\n",
              "      <td>-500.085473</td>\n",
              "      <td>22.085714</td>\n",
              "      <td>-499.446897</td>\n",
              "      <td>13.992281</td>\n",
              "      <td>-505.503262</td>\n",
              "      <td>11.950531</td>\n",
              "      <td>-501.331529</td>\n",
              "      <td>10.039245</td>\n",
              "      <td>-500.169983</td>\n",
              "      <td>7.984757</td>\n",
              "      <td>-500.582168</td>\n",
              "      <td>13.998353</td>\n",
              "      <td>-599.787184</td>\n",
              "      <td>2.488248</td>\n",
              "      <td>14.265474</td>\n",
              "      <td>4.592547</td>\n",
              "      <td>9.001494</td>\n",
              "      <td>42.701629</td>\n",
              "      <td>6.029369</td>\n",
              "      <td>9.968944</td>\n",
              "      <td>5.257781</td>\n",
              "      <td>69.266198</td>\n",
              "      <td>2.224930</td>\n",
              "      <td>10.462676</td>\n",
              "      <td>0.927452</td>\n",
              "      <td>16.634514</td>\n",
              "    </tr>\n",
              "    <tr>\n",
              "      <th>2</th>\n",
              "      <td>2016-01-15 02:00:00</td>\n",
              "      <td>6.362222</td>\n",
              "      <td>6.116455</td>\n",
              "      <td>2.159622</td>\n",
              "      <td>35.971630</td>\n",
              "      <td>530.026610</td>\n",
              "      <td>57.510649</td>\n",
              "      <td>11.920603</td>\n",
              "      <td>6.197377</td>\n",
              "      <td>999.719565</td>\n",
              "      <td>-400.074028</td>\n",
              "      <td>1599.337330</td>\n",
              "      <td>-450.008530</td>\n",
              "      <td>1599.672797</td>\n",
              "      <td>-449.954491</td>\n",
              "      <td>1599.849325</td>\n",
              "      <td>-449.954185</td>\n",
              "      <td>1399.180945</td>\n",
              "      <td>-449.937588</td>\n",
              "      <td>1400.316682</td>\n",
              "      <td>-450.527147</td>\n",
              "      <td>11.920305</td>\n",
              "      <td>6.204633</td>\n",
              "      <td>42018.101184</td>\n",
              "      <td>3495.348910</td>\n",
              "      <td>3502.359819</td>\n",
              "      <td>2.945989</td>\n",
              "      <td>19.737170</td>\n",
              "      <td>11.695753</td>\n",
              "      <td>7.216833</td>\n",
              "      <td>27.454037</td>\n",
              "      <td>86.842308</td>\n",
              "      <td>1.162562</td>\n",
              "      <td>4.843460</td>\n",
              "      <td>0.546416</td>\n",
              "      <td>18.808533</td>\n",
              "      <td>123.819808</td>\n",
              "      <td>11.316280</td>\n",
              "      <td>7.25</td>\n",
              "      <td>0.991265</td>\n",
              "      <td>1601.556163</td>\n",
              "      <td>-499.997791</td>\n",
              "      <td>1600.386685</td>\n",
              "      <td>-500.607762</td>\n",
              "      <td>1602.003542</td>\n",
              "      <td>-500.870069</td>\n",
              "      <td>1599.541515</td>\n",
              "      <td>-499.827444</td>\n",
              "      <td>33.969464</td>\n",
              "      <td>8.603505</td>\n",
              "      <td>10.354494</td>\n",
              "      <td>19.167579</td>\n",
              "      <td>2.416800</td>\n",
              "      <td>16.491823</td>\n",
              "      <td>3.124664</td>\n",
              "      <td>6.471768</td>\n",
              "      <td>26.005245</td>\n",
              "      <td>-499.929616</td>\n",
              "      <td>23.886657</td>\n",
              "      <td>-499.951928</td>\n",
              "      <td>23.913535</td>\n",
              "      <td>-499.442343</td>\n",
              "      <td>23.957717</td>\n",
              "      <td>-499.901982</td>\n",
              "      <td>14.015015</td>\n",
              "      <td>-502.520901</td>\n",
              "      <td>11.912783</td>\n",
              "      <td>-501.133383</td>\n",
              "      <td>10.070913</td>\n",
              "      <td>-500.129135</td>\n",
              "      <td>8.013877</td>\n",
              "      <td>-500.517572</td>\n",
              "      <td>14.028663</td>\n",
              "      <td>-601.427363</td>\n",
              "      <td>2.458187</td>\n",
              "      <td>14.115662</td>\n",
              "      <td>4.624775</td>\n",
              "      <td>8.842896</td>\n",
              "      <td>42.657501</td>\n",
              "      <td>6.055926</td>\n",
              "      <td>10.213995</td>\n",
              "      <td>5.383759</td>\n",
              "      <td>68.116445</td>\n",
              "      <td>2.257889</td>\n",
              "      <td>10.507046</td>\n",
              "      <td>0.953716</td>\n",
              "      <td>16.208849</td>\n",
              "    </tr>\n",
              "    <tr>\n",
              "      <th>3</th>\n",
              "      <td>2016-01-15 03:00:00</td>\n",
              "      <td>6.118189</td>\n",
              "      <td>6.043309</td>\n",
              "      <td>2.037807</td>\n",
              "      <td>36.862241</td>\n",
              "      <td>542.590390</td>\n",
              "      <td>57.792734</td>\n",
              "      <td>11.630094</td>\n",
              "      <td>6.203177</td>\n",
              "      <td>999.814770</td>\n",
              "      <td>-400.200179</td>\n",
              "      <td>1600.059442</td>\n",
              "      <td>-450.619948</td>\n",
              "      <td>1600.012842</td>\n",
              "      <td>-449.910497</td>\n",
              "      <td>1597.725177</td>\n",
              "      <td>-450.130127</td>\n",
              "      <td>1400.943157</td>\n",
              "      <td>-450.030142</td>\n",
              "      <td>1400.234743</td>\n",
              "      <td>-449.790835</td>\n",
              "      <td>11.692450</td>\n",
              "      <td>6.196578</td>\n",
              "      <td>42029.447991</td>\n",
              "      <td>3498.578313</td>\n",
              "      <td>3499.162912</td>\n",
              "      <td>3.002340</td>\n",
              "      <td>19.320810</td>\n",
              "      <td>11.915047</td>\n",
              "      <td>7.175616</td>\n",
              "      <td>27.341277</td>\n",
              "      <td>87.226430</td>\n",
              "      <td>1.079755</td>\n",
              "      <td>4.655288</td>\n",
              "      <td>0.542525</td>\n",
              "      <td>19.330200</td>\n",
              "      <td>122.270188</td>\n",
              "      <td>11.322140</td>\n",
              "      <td>7.25</td>\n",
              "      <td>0.996739</td>\n",
              "      <td>1599.968720</td>\n",
              "      <td>-500.951778</td>\n",
              "      <td>1600.659236</td>\n",
              "      <td>-499.677094</td>\n",
              "      <td>1600.304144</td>\n",
              "      <td>-500.727997</td>\n",
              "      <td>1600.449520</td>\n",
              "      <td>-500.052575</td>\n",
              "      <td>28.260743</td>\n",
              "      <td>7.221879</td>\n",
              "      <td>8.496563</td>\n",
              "      <td>15.978538</td>\n",
              "      <td>2.262051</td>\n",
              "      <td>16.024359</td>\n",
              "      <td>2.960362</td>\n",
              "      <td>6.843791</td>\n",
              "      <td>25.942508</td>\n",
              "      <td>-499.176749</td>\n",
              "      <td>23.955516</td>\n",
              "      <td>-499.848796</td>\n",
              "      <td>23.966838</td>\n",
              "      <td>-500.008812</td>\n",
              "      <td>23.954443</td>\n",
              "      <td>-499.944710</td>\n",
              "      <td>14.036510</td>\n",
              "      <td>-500.857308</td>\n",
              "      <td>11.999550</td>\n",
              "      <td>-501.193686</td>\n",
              "      <td>9.970366</td>\n",
              "      <td>-499.201640</td>\n",
              "      <td>7.977324</td>\n",
              "      <td>-500.255908</td>\n",
              "      <td>14.005551</td>\n",
              "      <td>-599.996129</td>\n",
              "      <td>2.322062</td>\n",
              "      <td>13.732071</td>\n",
              "      <td>4.482453</td>\n",
              "      <td>9.122857</td>\n",
              "      <td>42.689819</td>\n",
              "      <td>6.047977</td>\n",
              "      <td>9.977019</td>\n",
              "      <td>4.858634</td>\n",
              "      <td>68.347543</td>\n",
              "      <td>2.146849</td>\n",
              "      <td>10.422762</td>\n",
              "      <td>0.883763</td>\n",
              "      <td>16.532835</td>\n",
              "    </tr>\n",
              "    <tr>\n",
              "      <th>4</th>\n",
              "      <td>2016-01-15 04:00:00</td>\n",
              "      <td>5.663707</td>\n",
              "      <td>6.060915</td>\n",
              "      <td>1.786875</td>\n",
              "      <td>34.347666</td>\n",
              "      <td>540.531893</td>\n",
              "      <td>56.047189</td>\n",
              "      <td>10.957755</td>\n",
              "      <td>6.198826</td>\n",
              "      <td>999.678690</td>\n",
              "      <td>-399.752729</td>\n",
              "      <td>1600.208824</td>\n",
              "      <td>-449.599614</td>\n",
              "      <td>1600.357732</td>\n",
              "      <td>-450.034364</td>\n",
              "      <td>1599.759049</td>\n",
              "      <td>-449.909799</td>\n",
              "      <td>1401.560902</td>\n",
              "      <td>-448.877187</td>\n",
              "      <td>1401.160227</td>\n",
              "      <td>-450.407128</td>\n",
              "      <td>10.960521</td>\n",
              "      <td>6.194897</td>\n",
              "      <td>42125.354245</td>\n",
              "      <td>3494.800771</td>\n",
              "      <td>3506.679315</td>\n",
              "      <td>3.169615</td>\n",
              "      <td>19.216101</td>\n",
              "      <td>12.411054</td>\n",
              "      <td>7.240205</td>\n",
              "      <td>27.041023</td>\n",
              "      <td>86.688794</td>\n",
              "      <td>1.012642</td>\n",
              "      <td>4.552800</td>\n",
              "      <td>0.515438</td>\n",
              "      <td>19.267422</td>\n",
              "      <td>117.988169</td>\n",
              "      <td>11.913613</td>\n",
              "      <td>7.25</td>\n",
              "      <td>1.009869</td>\n",
              "      <td>1601.339707</td>\n",
              "      <td>-498.975456</td>\n",
              "      <td>1601.437854</td>\n",
              "      <td>-500.323246</td>\n",
              "      <td>1599.581894</td>\n",
              "      <td>-500.888152</td>\n",
              "      <td>1602.649541</td>\n",
              "      <td>-500.593010</td>\n",
              "      <td>33.044932</td>\n",
              "      <td>9.089428</td>\n",
              "      <td>9.986786</td>\n",
              "      <td>19.199864</td>\n",
              "      <td>2.277073</td>\n",
              "      <td>16.480185</td>\n",
              "      <td>3.112100</td>\n",
              "      <td>6.550154</td>\n",
              "      <td>26.024787</td>\n",
              "      <td>-500.279091</td>\n",
              "      <td>23.955345</td>\n",
              "      <td>-500.593614</td>\n",
              "      <td>23.985703</td>\n",
              "      <td>-500.083811</td>\n",
              "      <td>23.958945</td>\n",
              "      <td>-499.990309</td>\n",
              "      <td>14.027298</td>\n",
              "      <td>-499.838632</td>\n",
              "      <td>11.953070</td>\n",
              "      <td>-501.053894</td>\n",
              "      <td>9.925709</td>\n",
              "      <td>-501.686727</td>\n",
              "      <td>7.894242</td>\n",
              "      <td>-500.356035</td>\n",
              "      <td>13.996647</td>\n",
              "      <td>-601.496691</td>\n",
              "      <td>2.330448</td>\n",
              "      <td>14.079996</td>\n",
              "      <td>4.470737</td>\n",
              "      <td>8.871028</td>\n",
              "      <td>42.774141</td>\n",
              "      <td>6.148599</td>\n",
              "      <td>10.142511</td>\n",
              "      <td>4.939416</td>\n",
              "      <td>66.927016</td>\n",
              "      <td>2.055292</td>\n",
              "      <td>10.360302</td>\n",
              "      <td>0.792826</td>\n",
              "      <td>16.525686</td>\n",
              "    </tr>\n",
              "  </tbody>\n",
              "</table>\n",
              "</div>"
            ],
            "text/plain": [
              "                  date  rougher.input.feed_au  rougher.input.feed_ag  \\\n",
              "0  2016-01-15 00:00:00               6.486150               6.100378   \n",
              "1  2016-01-15 01:00:00               6.478583               6.161113   \n",
              "2  2016-01-15 02:00:00               6.362222               6.116455   \n",
              "3  2016-01-15 03:00:00               6.118189               6.043309   \n",
              "4  2016-01-15 04:00:00               5.663707               6.060915   \n",
              "\n",
              "   rougher.input.feed_pb  rougher.input.feed_sol  rougher.input.feed_rate  \\\n",
              "0               2.284912               36.808594               523.546326   \n",
              "1               2.266033               35.753385               525.290581   \n",
              "2               2.159622               35.971630               530.026610   \n",
              "3               2.037807               36.862241               542.590390   \n",
              "4               1.786875               34.347666               540.531893   \n",
              "\n",
              "   rougher.input.feed_size  rougher.input.floatbank10_sulfate  \\\n",
              "0                55.486599                          11.986616   \n",
              "1                57.278666                          11.971193   \n",
              "2                57.510649                          11.920603   \n",
              "3                57.792734                          11.630094   \n",
              "4                56.047189                          10.957755   \n",
              "\n",
              "   rougher.input.floatbank10_xanthate  rougher.state.floatbank10_a_air  \\\n",
              "0                            6.007990                       999.706909   \n",
              "1                            6.005766                      1000.286398   \n",
              "2                            6.197377                       999.719565   \n",
              "3                            6.203177                       999.814770   \n",
              "4                            6.198826                       999.678690   \n",
              "\n",
              "   rougher.state.floatbank10_a_level  rougher.state.floatbank10_b_air  \\\n",
              "0                        -404.066986                      1603.011353   \n",
              "1                        -400.065196                      1600.754587   \n",
              "2                        -400.074028                      1599.337330   \n",
              "3                        -400.200179                      1600.059442   \n",
              "4                        -399.752729                      1600.208824   \n",
              "\n",
              "   rougher.state.floatbank10_b_level  rougher.state.floatbank10_c_air  \\\n",
              "0                        -434.715027                      1602.375000   \n",
              "1                        -449.953435                      1600.479580   \n",
              "2                        -450.008530                      1599.672797   \n",
              "3                        -450.619948                      1600.012842   \n",
              "4                        -449.599614                      1600.357732   \n",
              "\n",
              "   rougher.state.floatbank10_c_level  rougher.state.floatbank10_d_air  \\\n",
              "0                        -442.204468                      1598.937256   \n",
              "1                        -449.830646                      1600.527589   \n",
              "2                        -449.954491                      1599.849325   \n",
              "3                        -449.910497                      1597.725177   \n",
              "4                        -450.034364                      1599.759049   \n",
              "\n",
              "   rougher.state.floatbank10_d_level  rougher.state.floatbank10_e_air  \\\n",
              "0                        -451.294128                      1404.472046   \n",
              "1                        -449.953649                      1399.227084   \n",
              "2                        -449.954185                      1399.180945   \n",
              "3                        -450.130127                      1400.943157   \n",
              "4                        -449.909799                      1401.560902   \n",
              "\n",
              "   rougher.state.floatbank10_e_level  rougher.state.floatbank10_f_air  \\\n",
              "0                        -455.462982                      1416.354980   \n",
              "1                        -450.869848                      1399.719514   \n",
              "2                        -449.937588                      1400.316682   \n",
              "3                        -450.030142                      1400.234743   \n",
              "4                        -448.877187                      1401.160227   \n",
              "\n",
              "   rougher.state.floatbank10_f_level  rougher.input.floatbank11_sulfate  \\\n",
              "0                        -451.939636                          11.836743   \n",
              "1                        -450.119001                          11.996163   \n",
              "2                        -450.527147                          11.920305   \n",
              "3                        -449.790835                          11.692450   \n",
              "4                        -450.407128                          10.960521   \n",
              "\n",
              "   rougher.input.floatbank11_xanthate  \\\n",
              "0                            6.005818   \n",
              "1                            6.012594   \n",
              "2                            6.204633   \n",
              "3                            6.196578   \n",
              "4                            6.194897   \n",
              "\n",
              "   rougher.calculation.sulfate_to_au_concentrate  \\\n",
              "0                                   41885.707031   \n",
              "1                                   42050.861809   \n",
              "2                                   42018.101184   \n",
              "3                                   42029.447991   \n",
              "4                                   42125.354245   \n",
              "\n",
              "   rougher.calculation.floatbank10_sulfate_to_au_feed  \\\n",
              "0                                        3481.779053    \n",
              "1                                        3498.370979    \n",
              "2                                        3495.348910    \n",
              "3                                        3498.578313    \n",
              "4                                        3494.800771    \n",
              "\n",
              "   rougher.calculation.floatbank11_sulfate_to_au_feed  \\\n",
              "0                                        3520.337158    \n",
              "1                                        3489.981857    \n",
              "2                                        3502.359819    \n",
              "3                                        3499.162912    \n",
              "4                                        3506.679315    \n",
              "\n",
              "   rougher.calculation.au_pb_ratio  rougher.output.concentrate_au  \\\n",
              "0                         2.838687                      19.793808   \n",
              "1                         2.858998                      20.050975   \n",
              "2                         2.945989                      19.737170   \n",
              "3                         3.002340                      19.320810   \n",
              "4                         3.169615                      19.216101   \n",
              "\n",
              "   rougher.output.concentrate_ag  rougher.output.concentrate_pb  \\\n",
              "0                      11.500771                       7.101074   \n",
              "1                      11.615865                       7.278807   \n",
              "2                      11.695753                       7.216833   \n",
              "3                      11.915047                       7.175616   \n",
              "4                      12.411054                       7.240205   \n",
              "\n",
              "   rougher.output.concentrate_sol  rougher.output.recovery  \\\n",
              "0                       28.029297                87.107763   \n",
              "1                       28.067063                86.843261   \n",
              "2                       27.454037                86.842308   \n",
              "3                       27.341277                87.226430   \n",
              "4                       27.041023                86.688794   \n",
              "\n",
              "   rougher.output.tail_au  rougher.output.tail_ag  rougher.output.tail_pb  \\\n",
              "0                1.170244                5.008018                0.508728   \n",
              "1                1.184827                4.955378                0.536689   \n",
              "2                1.162562                4.843460                0.546416   \n",
              "3                1.079755                4.655288                0.542525   \n",
              "4                1.012642                4.552800                0.515438   \n",
              "\n",
              "   rougher.output.tail_sol  primary_cleaner.input.sulfate  \\\n",
              "0                19.154297                     127.092003   \n",
              "1                18.965234                     125.629232   \n",
              "2                18.808533                     123.819808   \n",
              "3                19.330200                     122.270188   \n",
              "4                19.267422                     117.988169   \n",
              "\n",
              "   primary_cleaner.input.depressant  primary_cleaner.input.feed_size  \\\n",
              "0                         10.128295                             7.25   \n",
              "1                         10.296251                             7.25   \n",
              "2                         11.316280                             7.25   \n",
              "3                         11.322140                             7.25   \n",
              "4                         11.913613                             7.25   \n",
              "\n",
              "   primary_cleaner.input.xanthate  primary_cleaner.state.floatbank8_a_air  \\\n",
              "0                        0.988759                             1549.775757   \n",
              "1                        1.002663                             1576.166671   \n",
              "2                        0.991265                             1601.556163   \n",
              "3                        0.996739                             1599.968720   \n",
              "4                        1.009869                             1601.339707   \n",
              "\n",
              "   primary_cleaner.state.floatbank8_a_level  \\\n",
              "0                               -498.912140   \n",
              "1                               -500.904965   \n",
              "2                               -499.997791   \n",
              "3                               -500.951778   \n",
              "4                               -498.975456   \n",
              "\n",
              "   primary_cleaner.state.floatbank8_b_air  \\\n",
              "0                             1551.434204   \n",
              "1                             1575.950626   \n",
              "2                             1600.386685   \n",
              "3                             1600.659236   \n",
              "4                             1601.437854   \n",
              "\n",
              "   primary_cleaner.state.floatbank8_b_level  \\\n",
              "0                               -516.403442   \n",
              "1                               -499.865889   \n",
              "2                               -500.607762   \n",
              "3                               -499.677094   \n",
              "4                               -500.323246   \n",
              "\n",
              "   primary_cleaner.state.floatbank8_c_air  \\\n",
              "0                             1549.873901   \n",
              "1                             1575.994189   \n",
              "2                             1602.003542   \n",
              "3                             1600.304144   \n",
              "4                             1599.581894   \n",
              "\n",
              "   primary_cleaner.state.floatbank8_c_level  \\\n",
              "0                               -498.666595   \n",
              "1                               -499.315107   \n",
              "2                               -500.870069   \n",
              "3                               -500.727997   \n",
              "4                               -500.888152   \n",
              "\n",
              "   primary_cleaner.state.floatbank8_d_air  \\\n",
              "0                             1554.367432   \n",
              "1                             1574.479259   \n",
              "2                             1599.541515   \n",
              "3                             1600.449520   \n",
              "4                             1602.649541   \n",
              "\n",
              "   primary_cleaner.state.floatbank8_d_level  \\\n",
              "0                               -493.428131   \n",
              "1                               -498.931665   \n",
              "2                               -499.827444   \n",
              "3                               -500.052575   \n",
              "4                               -500.593010   \n",
              "\n",
              "   primary_cleaner.output.concentrate_au  \\\n",
              "0                              34.174427   \n",
              "1                              34.118526   \n",
              "2                              33.969464   \n",
              "3                              28.260743   \n",
              "4                              33.044932   \n",
              "\n",
              "   primary_cleaner.output.concentrate_ag  \\\n",
              "0                               8.547551   \n",
              "1                               8.558743   \n",
              "2                               8.603505   \n",
              "3                               7.221879   \n",
              "4                               9.089428   \n",
              "\n",
              "   primary_cleaner.output.concentrate_pb  \\\n",
              "0                              10.389648   \n",
              "1                              10.497069   \n",
              "2                              10.354494   \n",
              "3                               8.496563   \n",
              "4                               9.986786   \n",
              "\n",
              "   primary_cleaner.output.concentrate_sol  primary_cleaner.output.tail_au  \\\n",
              "0                               19.529297                        2.106679   \n",
              "1                               19.369147                        2.353017   \n",
              "2                               19.167579                        2.416800   \n",
              "3                               15.978538                        2.262051   \n",
              "4                               19.199864                        2.277073   \n",
              "\n",
              "   primary_cleaner.output.tail_ag  primary_cleaner.output.tail_pb  \\\n",
              "0                       14.936526                        2.534912   \n",
              "1                       16.250511                        3.049646   \n",
              "2                       16.491823                        3.124664   \n",
              "3                       16.024359                        2.960362   \n",
              "4                       16.480185                        3.112100   \n",
              "\n",
              "   primary_cleaner.output.tail_sol  secondary_cleaner.state.floatbank2_a_air  \\\n",
              "0                         7.476074                                 25.853109   \n",
              "1                         6.733907                                 25.880539   \n",
              "2                         6.471768                                 26.005245   \n",
              "3                         6.843791                                 25.942508   \n",
              "4                         6.550154                                 26.024787   \n",
              "\n",
              "   secondary_cleaner.state.floatbank2_a_level  \\\n",
              "0                                 -498.526489   \n",
              "1                                 -499.989656   \n",
              "2                                 -499.929616   \n",
              "3                                 -499.176749   \n",
              "4                                 -500.279091   \n",
              "\n",
              "   secondary_cleaner.state.floatbank2_b_air  \\\n",
              "0                                 23.893660   \n",
              "1                                 23.889530   \n",
              "2                                 23.886657   \n",
              "3                                 23.955516   \n",
              "4                                 23.955345   \n",
              "\n",
              "   secondary_cleaner.state.floatbank2_b_level  \\\n",
              "0                                 -501.406281   \n",
              "1                                 -500.372428   \n",
              "2                                 -499.951928   \n",
              "3                                 -499.848796   \n",
              "4                                 -500.593614   \n",
              "\n",
              "   secondary_cleaner.state.floatbank3_a_air  \\\n",
              "0                                 23.961798   \n",
              "1                                 23.970550   \n",
              "2                                 23.913535   \n",
              "3                                 23.966838   \n",
              "4                                 23.985703   \n",
              "\n",
              "   secondary_cleaner.state.floatbank3_a_level  \\\n",
              "0                                 -495.262817   \n",
              "1                                 -500.085473   \n",
              "2                                 -499.442343   \n",
              "3                                 -500.008812   \n",
              "4                                 -500.083811   \n",
              "\n",
              "   secondary_cleaner.state.floatbank3_b_air  \\\n",
              "0                                 21.940409   \n",
              "1                                 22.085714   \n",
              "2                                 23.957717   \n",
              "3                                 23.954443   \n",
              "4                                 23.958945   \n",
              "\n",
              "   secondary_cleaner.state.floatbank3_b_level  \\\n",
              "0                                 -499.340973   \n",
              "1                                 -499.446897   \n",
              "2                                 -499.901982   \n",
              "3                                 -499.944710   \n",
              "4                                 -499.990309   \n",
              "\n",
              "   secondary_cleaner.state.floatbank4_a_air  \\\n",
              "0                                 14.016835   \n",
              "1                                 13.992281   \n",
              "2                                 14.015015   \n",
              "3                                 14.036510   \n",
              "4                                 14.027298   \n",
              "\n",
              "   secondary_cleaner.state.floatbank4_a_level  \\\n",
              "0                                 -502.488007   \n",
              "1                                 -505.503262   \n",
              "2                                 -502.520901   \n",
              "3                                 -500.857308   \n",
              "4                                 -499.838632   \n",
              "\n",
              "   secondary_cleaner.state.floatbank4_b_air  \\\n",
              "0                                 12.099931   \n",
              "1                                 11.950531   \n",
              "2                                 11.912783   \n",
              "3                                 11.999550   \n",
              "4                                 11.953070   \n",
              "\n",
              "   secondary_cleaner.state.floatbank4_b_level  \\\n",
              "0                                 -504.715942   \n",
              "1                                 -501.331529   \n",
              "2                                 -501.133383   \n",
              "3                                 -501.193686   \n",
              "4                                 -501.053894   \n",
              "\n",
              "   secondary_cleaner.state.floatbank5_a_air  \\\n",
              "0                                  9.925633   \n",
              "1                                 10.039245   \n",
              "2                                 10.070913   \n",
              "3                                  9.970366   \n",
              "4                                  9.925709   \n",
              "\n",
              "   secondary_cleaner.state.floatbank5_a_level  \\\n",
              "0                                 -498.310211   \n",
              "1                                 -500.169983   \n",
              "2                                 -500.129135   \n",
              "3                                 -499.201640   \n",
              "4                                 -501.686727   \n",
              "\n",
              "   secondary_cleaner.state.floatbank5_b_air  \\\n",
              "0                                  8.079666   \n",
              "1                                  7.984757   \n",
              "2                                  8.013877   \n",
              "3                                  7.977324   \n",
              "4                                  7.894242   \n",
              "\n",
              "   secondary_cleaner.state.floatbank5_b_level  \\\n",
              "0                                 -500.470978   \n",
              "1                                 -500.582168   \n",
              "2                                 -500.517572   \n",
              "3                                 -500.255908   \n",
              "4                                 -500.356035   \n",
              "\n",
              "   secondary_cleaner.state.floatbank6_a_air  \\\n",
              "0                                 14.151341   \n",
              "1                                 13.998353   \n",
              "2                                 14.028663   \n",
              "3                                 14.005551   \n",
              "4                                 13.996647   \n",
              "\n",
              "   secondary_cleaner.state.floatbank6_a_level  \\\n",
              "0                                 -605.841980   \n",
              "1                                 -599.787184   \n",
              "2                                 -601.427363   \n",
              "3                                 -599.996129   \n",
              "4                                 -601.496691   \n",
              "\n",
              "   secondary_cleaner.output.tail_au  secondary_cleaner.output.tail_ag  \\\n",
              "0                          2.606185                         14.500184   \n",
              "1                          2.488248                         14.265474   \n",
              "2                          2.458187                         14.115662   \n",
              "3                          2.322062                         13.732071   \n",
              "4                          2.330448                         14.079996   \n",
              "\n",
              "   secondary_cleaner.output.tail_pb  secondary_cleaner.output.tail_sol  \\\n",
              "0                          4.694824                           8.764648   \n",
              "1                          4.592547                           9.001494   \n",
              "2                          4.624775                           8.842896   \n",
              "3                          4.482453                           9.122857   \n",
              "4                          4.470737                           8.871028   \n",
              "\n",
              "   final.output.concentrate_au  final.output.concentrate_ag  \\\n",
              "0                    42.192020                     6.055403   \n",
              "1                    42.701629                     6.029369   \n",
              "2                    42.657501                     6.055926   \n",
              "3                    42.689819                     6.047977   \n",
              "4                    42.774141                     6.148599   \n",
              "\n",
              "   final.output.concentrate_pb  final.output.concentrate_sol  \\\n",
              "0                     9.889648                      5.507324   \n",
              "1                     9.968944                      5.257781   \n",
              "2                    10.213995                      5.383759   \n",
              "3                     9.977019                      4.858634   \n",
              "4                    10.142511                      4.939416   \n",
              "\n",
              "   final.output.recovery  final.output.tail_au  final.output.tail_ag  \\\n",
              "0              70.541216              2.143149             10.411962   \n",
              "1              69.266198              2.224930             10.462676   \n",
              "2              68.116445              2.257889             10.507046   \n",
              "3              68.347543              2.146849             10.422762   \n",
              "4              66.927016              2.055292             10.360302   \n",
              "\n",
              "   final.output.tail_pb  final.output.tail_sol  \n",
              "0              0.895447              16.904297  \n",
              "1              0.927452              16.634514  \n",
              "2              0.953716              16.208849  \n",
              "3              0.883763              16.532835  \n",
              "4              0.792826              16.525686  "
            ]
          },
          "execution_count": 68,
          "metadata": {},
          "output_type": "execute_result"
        }
      ],
      "source": [
        "data_full.head()"
      ]
    },
    {
      "cell_type": "markdown",
      "metadata": {
        "id": "yTNoCWkABwM3"
      },
      "source": [
        "В тестовой выборке 53 столбца, в то время как в полном датафрейме и в тестовой выборке 57 столбцов. Согласно описанию задачи, некоторые параметры недоступны, потому что замеряются и/или рассчитываются значительно позже. Из-за этого в тестовой выборке отсутствуют некоторые признаки, которые могут быть в обучающей. Также в тестовом наборе нет целевых признаков.\n",
        "Теперь выведем основную информацию о трёх датафреймах:"
      ]
    },
    {
      "cell_type": "code",
      "execution_count": null,
      "metadata": {
        "id": "oU2ZxyRRBwM3",
        "outputId": "090ecc3a-fe9b-4efe-9f98-b6b062b7ebb8"
      },
      "outputs": [
        {
          "name": "stdout",
          "output_type": "stream",
          "text": [
            "<class 'pandas.core.frame.DataFrame'>\n",
            "RangeIndex: 14579 entries, 0 to 14578\n",
            "Data columns (total 87 columns):\n",
            " #   Column                                              Non-Null Count  Dtype  \n",
            "---  ------                                              --------------  -----  \n",
            " 0   date                                                14579 non-null  object \n",
            " 1   rougher.input.feed_au                               14579 non-null  float64\n",
            " 2   rougher.input.feed_ag                               14579 non-null  float64\n",
            " 3   rougher.input.feed_pb                               14507 non-null  float64\n",
            " 4   rougher.input.feed_sol                              14502 non-null  float64\n",
            " 5   rougher.input.feed_rate                             14572 non-null  float64\n",
            " 6   rougher.input.feed_size                             14478 non-null  float64\n",
            " 7   rougher.input.floatbank10_sulfate                   14548 non-null  float64\n",
            " 8   rougher.input.floatbank10_xanthate                  14572 non-null  float64\n",
            " 9   rougher.state.floatbank10_a_air                     14579 non-null  float64\n",
            " 10  rougher.state.floatbank10_a_level                   14579 non-null  float64\n",
            " 11  rougher.state.floatbank10_b_air                     14579 non-null  float64\n",
            " 12  rougher.state.floatbank10_b_level                   14579 non-null  float64\n",
            " 13  rougher.state.floatbank10_c_air                     14579 non-null  float64\n",
            " 14  rougher.state.floatbank10_c_level                   14579 non-null  float64\n",
            " 15  rougher.state.floatbank10_d_air                     14579 non-null  float64\n",
            " 16  rougher.state.floatbank10_d_level                   14579 non-null  float64\n",
            " 17  rougher.state.floatbank10_e_air                     14150 non-null  float64\n",
            " 18  rougher.state.floatbank10_e_level                   14579 non-null  float64\n",
            " 19  rougher.state.floatbank10_f_air                     14579 non-null  float64\n",
            " 20  rougher.state.floatbank10_f_level                   14579 non-null  float64\n",
            " 21  rougher.input.floatbank11_sulfate                   14543 non-null  float64\n",
            " 22  rougher.input.floatbank11_xanthate                  14172 non-null  float64\n",
            " 23  rougher.calculation.sulfate_to_au_concentrate       14578 non-null  float64\n",
            " 24  rougher.calculation.floatbank10_sulfate_to_au_feed  14578 non-null  float64\n",
            " 25  rougher.calculation.floatbank11_sulfate_to_au_feed  14578 non-null  float64\n",
            " 26  rougher.calculation.au_pb_ratio                     14579 non-null  float64\n",
            " 27  rougher.output.concentrate_au                       14579 non-null  float64\n",
            " 28  rougher.output.concentrate_ag                       14579 non-null  float64\n",
            " 29  rougher.output.concentrate_pb                       14579 non-null  float64\n",
            " 30  rougher.output.concentrate_sol                      14561 non-null  float64\n",
            " 31  rougher.output.recovery                             14579 non-null  float64\n",
            " 32  rougher.output.tail_au                              14579 non-null  float64\n",
            " 33  rougher.output.tail_ag                              14578 non-null  float64\n",
            " 34  rougher.output.tail_pb                              14579 non-null  float64\n",
            " 35  rougher.output.tail_sol                             14579 non-null  float64\n",
            " 36  primary_cleaner.input.sulfate                       14556 non-null  float64\n",
            " 37  primary_cleaner.input.depressant                    14551 non-null  float64\n",
            " 38  primary_cleaner.input.feed_size                     14579 non-null  float64\n",
            " 39  primary_cleaner.input.xanthate                      14518 non-null  float64\n",
            " 40  primary_cleaner.state.floatbank8_a_air              14576 non-null  float64\n",
            " 41  primary_cleaner.state.floatbank8_a_level            14579 non-null  float64\n",
            " 42  primary_cleaner.state.floatbank8_b_air              14576 non-null  float64\n",
            " 43  primary_cleaner.state.floatbank8_b_level            14579 non-null  float64\n",
            " 44  primary_cleaner.state.floatbank8_c_air              14579 non-null  float64\n",
            " 45  primary_cleaner.state.floatbank8_c_level            14579 non-null  float64\n",
            " 46  primary_cleaner.state.floatbank8_d_air              14578 non-null  float64\n",
            " 47  primary_cleaner.state.floatbank8_d_level            14579 non-null  float64\n",
            " 48  primary_cleaner.output.concentrate_au               14579 non-null  float64\n",
            " 49  primary_cleaner.output.concentrate_ag               14579 non-null  float64\n",
            " 50  primary_cleaner.output.concentrate_pb               14491 non-null  float64\n",
            " 51  primary_cleaner.output.concentrate_sol              14314 non-null  float64\n",
            " 52  primary_cleaner.output.tail_au                      14579 non-null  float64\n",
            " 53  primary_cleaner.output.tail_ag                      14575 non-null  float64\n",
            " 54  primary_cleaner.output.tail_pb                      14573 non-null  float64\n",
            " 55  primary_cleaner.output.tail_sol                     14534 non-null  float64\n",
            " 56  secondary_cleaner.state.floatbank2_a_air            14485 non-null  float64\n",
            " 57  secondary_cleaner.state.floatbank2_a_level          14579 non-null  float64\n",
            " 58  secondary_cleaner.state.floatbank2_b_air            14557 non-null  float64\n",
            " 59  secondary_cleaner.state.floatbank2_b_level          14579 non-null  float64\n",
            " 60  secondary_cleaner.state.floatbank3_a_air            14567 non-null  float64\n",
            " 61  secondary_cleaner.state.floatbank3_a_level          14579 non-null  float64\n",
            " 62  secondary_cleaner.state.floatbank3_b_air            14579 non-null  float64\n",
            " 63  secondary_cleaner.state.floatbank3_b_level          14579 non-null  float64\n",
            " 64  secondary_cleaner.state.floatbank4_a_air            14574 non-null  float64\n",
            " 65  secondary_cleaner.state.floatbank4_a_level          14579 non-null  float64\n",
            " 66  secondary_cleaner.state.floatbank4_b_air            14579 non-null  float64\n",
            " 67  secondary_cleaner.state.floatbank4_b_level          14579 non-null  float64\n",
            " 68  secondary_cleaner.state.floatbank5_a_air            14579 non-null  float64\n",
            " 69  secondary_cleaner.state.floatbank5_a_level          14579 non-null  float64\n",
            " 70  secondary_cleaner.state.floatbank5_b_air            14579 non-null  float64\n",
            " 71  secondary_cleaner.state.floatbank5_b_level          14579 non-null  float64\n",
            " 72  secondary_cleaner.state.floatbank6_a_air            14578 non-null  float64\n",
            " 73  secondary_cleaner.state.floatbank6_a_level          14579 non-null  float64\n",
            " 74  secondary_cleaner.output.tail_au                    14579 non-null  float64\n",
            " 75  secondary_cleaner.output.tail_ag                    14578 non-null  float64\n",
            " 76  secondary_cleaner.output.tail_pb                    14575 non-null  float64\n",
            " 77  secondary_cleaner.output.tail_sol                   13659 non-null  float64\n",
            " 78  final.output.concentrate_au                         14579 non-null  float64\n",
            " 79  final.output.concentrate_ag                         14578 non-null  float64\n",
            " 80  final.output.concentrate_pb                         14578 non-null  float64\n",
            " 81  final.output.concentrate_sol                        14387 non-null  float64\n",
            " 82  final.output.recovery                               14579 non-null  float64\n",
            " 83  final.output.tail_au                                14579 non-null  float64\n",
            " 84  final.output.tail_ag                                14578 non-null  float64\n",
            " 85  final.output.tail_pb                                14504 non-null  float64\n",
            " 86  final.output.tail_sol                               14574 non-null  float64\n",
            "dtypes: float64(86), object(1)\n",
            "memory usage: 9.7+ MB\n"
          ]
        }
      ],
      "source": [
        "data_train.info()"
      ]
    },
    {
      "cell_type": "code",
      "execution_count": null,
      "metadata": {
        "id": "-rMQL0OFBwM3",
        "outputId": "be781ebe-9603-400c-af84-8a7c03f736c1"
      },
      "outputs": [
        {
          "name": "stdout",
          "output_type": "stream",
          "text": [
            "<class 'pandas.core.frame.DataFrame'>\n",
            "RangeIndex: 4860 entries, 0 to 4859\n",
            "Data columns (total 53 columns):\n",
            " #   Column                                      Non-Null Count  Dtype  \n",
            "---  ------                                      --------------  -----  \n",
            " 0   date                                        4860 non-null   object \n",
            " 1   rougher.input.feed_au                       4860 non-null   float64\n",
            " 2   rougher.input.feed_ag                       4860 non-null   float64\n",
            " 3   rougher.input.feed_pb                       4832 non-null   float64\n",
            " 4   rougher.input.feed_sol                      4838 non-null   float64\n",
            " 5   rougher.input.feed_rate                     4856 non-null   float64\n",
            " 6   rougher.input.feed_size                     4816 non-null   float64\n",
            " 7   rougher.input.floatbank10_sulfate           4857 non-null   float64\n",
            " 8   rougher.input.floatbank10_xanthate          4859 non-null   float64\n",
            " 9   rougher.state.floatbank10_a_air             4859 non-null   float64\n",
            " 10  rougher.state.floatbank10_a_level           4859 non-null   float64\n",
            " 11  rougher.state.floatbank10_b_air             4859 non-null   float64\n",
            " 12  rougher.state.floatbank10_b_level           4859 non-null   float64\n",
            " 13  rougher.state.floatbank10_c_air             4859 non-null   float64\n",
            " 14  rougher.state.floatbank10_c_level           4859 non-null   float64\n",
            " 15  rougher.state.floatbank10_d_air             4860 non-null   float64\n",
            " 16  rougher.state.floatbank10_d_level           4860 non-null   float64\n",
            " 17  rougher.state.floatbank10_e_air             4853 non-null   float64\n",
            " 18  rougher.state.floatbank10_e_level           4860 non-null   float64\n",
            " 19  rougher.state.floatbank10_f_air             4860 non-null   float64\n",
            " 20  rougher.state.floatbank10_f_level           4860 non-null   float64\n",
            " 21  rougher.input.floatbank11_sulfate           4852 non-null   float64\n",
            " 22  rougher.input.floatbank11_xanthate          4814 non-null   float64\n",
            " 23  primary_cleaner.input.sulfate               4859 non-null   float64\n",
            " 24  primary_cleaner.input.depressant            4851 non-null   float64\n",
            " 25  primary_cleaner.input.feed_size             4860 non-null   float64\n",
            " 26  primary_cleaner.input.xanthate              4817 non-null   float64\n",
            " 27  primary_cleaner.state.floatbank8_a_air      4859 non-null   float64\n",
            " 28  primary_cleaner.state.floatbank8_a_level    4859 non-null   float64\n",
            " 29  primary_cleaner.state.floatbank8_b_air      4859 non-null   float64\n",
            " 30  primary_cleaner.state.floatbank8_b_level    4859 non-null   float64\n",
            " 31  primary_cleaner.state.floatbank8_c_air      4858 non-null   float64\n",
            " 32  primary_cleaner.state.floatbank8_c_level    4859 non-null   float64\n",
            " 33  primary_cleaner.state.floatbank8_d_air      4858 non-null   float64\n",
            " 34  primary_cleaner.state.floatbank8_d_level    4859 non-null   float64\n",
            " 35  secondary_cleaner.state.floatbank2_a_air    4734 non-null   float64\n",
            " 36  secondary_cleaner.state.floatbank2_a_level  4859 non-null   float64\n",
            " 37  secondary_cleaner.state.floatbank2_b_air    4859 non-null   float64\n",
            " 38  secondary_cleaner.state.floatbank2_b_level  4859 non-null   float64\n",
            " 39  secondary_cleaner.state.floatbank3_a_air    4859 non-null   float64\n",
            " 40  secondary_cleaner.state.floatbank3_a_level  4859 non-null   float64\n",
            " 41  secondary_cleaner.state.floatbank3_b_air    4859 non-null   float64\n",
            " 42  secondary_cleaner.state.floatbank3_b_level  4859 non-null   float64\n",
            " 43  secondary_cleaner.state.floatbank4_a_air    4859 non-null   float64\n",
            " 44  secondary_cleaner.state.floatbank4_a_level  4859 non-null   float64\n",
            " 45  secondary_cleaner.state.floatbank4_b_air    4859 non-null   float64\n",
            " 46  secondary_cleaner.state.floatbank4_b_level  4859 non-null   float64\n",
            " 47  secondary_cleaner.state.floatbank5_a_air    4859 non-null   float64\n",
            " 48  secondary_cleaner.state.floatbank5_a_level  4859 non-null   float64\n",
            " 49  secondary_cleaner.state.floatbank5_b_air    4859 non-null   float64\n",
            " 50  secondary_cleaner.state.floatbank5_b_level  4859 non-null   float64\n",
            " 51  secondary_cleaner.state.floatbank6_a_air    4859 non-null   float64\n",
            " 52  secondary_cleaner.state.floatbank6_a_level  4859 non-null   float64\n",
            "dtypes: float64(52), object(1)\n",
            "memory usage: 2.0+ MB\n"
          ]
        }
      ],
      "source": [
        "data_test.info()"
      ]
    },
    {
      "cell_type": "code",
      "execution_count": null,
      "metadata": {
        "scrolled": false,
        "id": "Uq3Nd9DVBwM3",
        "outputId": "20bfcfdc-012d-4d70-e294-59dfb68008de"
      },
      "outputs": [
        {
          "name": "stdout",
          "output_type": "stream",
          "text": [
            "<class 'pandas.core.frame.DataFrame'>\n",
            "RangeIndex: 19439 entries, 0 to 19438\n",
            "Data columns (total 87 columns):\n",
            " #   Column                                              Non-Null Count  Dtype  \n",
            "---  ------                                              --------------  -----  \n",
            " 0   date                                                19439 non-null  object \n",
            " 1   rougher.input.feed_au                               19439 non-null  float64\n",
            " 2   rougher.input.feed_ag                               19439 non-null  float64\n",
            " 3   rougher.input.feed_pb                               19339 non-null  float64\n",
            " 4   rougher.input.feed_sol                              19340 non-null  float64\n",
            " 5   rougher.input.feed_rate                             19428 non-null  float64\n",
            " 6   rougher.input.feed_size                             19294 non-null  float64\n",
            " 7   rougher.input.floatbank10_sulfate                   19405 non-null  float64\n",
            " 8   rougher.input.floatbank10_xanthate                  19431 non-null  float64\n",
            " 9   rougher.state.floatbank10_a_air                     19438 non-null  float64\n",
            " 10  rougher.state.floatbank10_a_level                   19438 non-null  float64\n",
            " 11  rougher.state.floatbank10_b_air                     19438 non-null  float64\n",
            " 12  rougher.state.floatbank10_b_level                   19438 non-null  float64\n",
            " 13  rougher.state.floatbank10_c_air                     19438 non-null  float64\n",
            " 14  rougher.state.floatbank10_c_level                   19438 non-null  float64\n",
            " 15  rougher.state.floatbank10_d_air                     19439 non-null  float64\n",
            " 16  rougher.state.floatbank10_d_level                   19439 non-null  float64\n",
            " 17  rougher.state.floatbank10_e_air                     19003 non-null  float64\n",
            " 18  rougher.state.floatbank10_e_level                   19439 non-null  float64\n",
            " 19  rougher.state.floatbank10_f_air                     19439 non-null  float64\n",
            " 20  rougher.state.floatbank10_f_level                   19439 non-null  float64\n",
            " 21  rougher.input.floatbank11_sulfate                   19395 non-null  float64\n",
            " 22  rougher.input.floatbank11_xanthate                  18986 non-null  float64\n",
            " 23  rougher.calculation.sulfate_to_au_concentrate       19437 non-null  float64\n",
            " 24  rougher.calculation.floatbank10_sulfate_to_au_feed  19437 non-null  float64\n",
            " 25  rougher.calculation.floatbank11_sulfate_to_au_feed  19437 non-null  float64\n",
            " 26  rougher.calculation.au_pb_ratio                     19439 non-null  float64\n",
            " 27  rougher.output.concentrate_au                       19439 non-null  float64\n",
            " 28  rougher.output.concentrate_ag                       19439 non-null  float64\n",
            " 29  rougher.output.concentrate_pb                       19439 non-null  float64\n",
            " 30  rougher.output.concentrate_sol                      19416 non-null  float64\n",
            " 31  rougher.output.recovery                             19439 non-null  float64\n",
            " 32  rougher.output.tail_au                              19439 non-null  float64\n",
            " 33  rougher.output.tail_ag                              19438 non-null  float64\n",
            " 34  rougher.output.tail_pb                              19439 non-null  float64\n",
            " 35  rougher.output.tail_sol                             19439 non-null  float64\n",
            " 36  primary_cleaner.input.sulfate                       19415 non-null  float64\n",
            " 37  primary_cleaner.input.depressant                    19402 non-null  float64\n",
            " 38  primary_cleaner.input.feed_size                     19439 non-null  float64\n",
            " 39  primary_cleaner.input.xanthate                      19335 non-null  float64\n",
            " 40  primary_cleaner.state.floatbank8_a_air              19435 non-null  float64\n",
            " 41  primary_cleaner.state.floatbank8_a_level            19438 non-null  float64\n",
            " 42  primary_cleaner.state.floatbank8_b_air              19435 non-null  float64\n",
            " 43  primary_cleaner.state.floatbank8_b_level            19438 non-null  float64\n",
            " 44  primary_cleaner.state.floatbank8_c_air              19437 non-null  float64\n",
            " 45  primary_cleaner.state.floatbank8_c_level            19438 non-null  float64\n",
            " 46  primary_cleaner.state.floatbank8_d_air              19436 non-null  float64\n",
            " 47  primary_cleaner.state.floatbank8_d_level            19438 non-null  float64\n",
            " 48  primary_cleaner.output.concentrate_au               19439 non-null  float64\n",
            " 49  primary_cleaner.output.concentrate_ag               19439 non-null  float64\n",
            " 50  primary_cleaner.output.concentrate_pb               19323 non-null  float64\n",
            " 51  primary_cleaner.output.concentrate_sol              19069 non-null  float64\n",
            " 52  primary_cleaner.output.tail_au                      19439 non-null  float64\n",
            " 53  primary_cleaner.output.tail_ag                      19435 non-null  float64\n",
            " 54  primary_cleaner.output.tail_pb                      19418 non-null  float64\n",
            " 55  primary_cleaner.output.tail_sol                     19377 non-null  float64\n",
            " 56  secondary_cleaner.state.floatbank2_a_air            19219 non-null  float64\n",
            " 57  secondary_cleaner.state.floatbank2_a_level          19438 non-null  float64\n",
            " 58  secondary_cleaner.state.floatbank2_b_air            19416 non-null  float64\n",
            " 59  secondary_cleaner.state.floatbank2_b_level          19438 non-null  float64\n",
            " 60  secondary_cleaner.state.floatbank3_a_air            19426 non-null  float64\n",
            " 61  secondary_cleaner.state.floatbank3_a_level          19438 non-null  float64\n",
            " 62  secondary_cleaner.state.floatbank3_b_air            19438 non-null  float64\n",
            " 63  secondary_cleaner.state.floatbank3_b_level          19438 non-null  float64\n",
            " 64  secondary_cleaner.state.floatbank4_a_air            19433 non-null  float64\n",
            " 65  secondary_cleaner.state.floatbank4_a_level          19438 non-null  float64\n",
            " 66  secondary_cleaner.state.floatbank4_b_air            19438 non-null  float64\n",
            " 67  secondary_cleaner.state.floatbank4_b_level          19438 non-null  float64\n",
            " 68  secondary_cleaner.state.floatbank5_a_air            19438 non-null  float64\n",
            " 69  secondary_cleaner.state.floatbank5_a_level          19438 non-null  float64\n",
            " 70  secondary_cleaner.state.floatbank5_b_air            19438 non-null  float64\n",
            " 71  secondary_cleaner.state.floatbank5_b_level          19438 non-null  float64\n",
            " 72  secondary_cleaner.state.floatbank6_a_air            19437 non-null  float64\n",
            " 73  secondary_cleaner.state.floatbank6_a_level          19438 non-null  float64\n",
            " 74  secondary_cleaner.output.tail_au                    19439 non-null  float64\n",
            " 75  secondary_cleaner.output.tail_ag                    19437 non-null  float64\n",
            " 76  secondary_cleaner.output.tail_pb                    19427 non-null  float64\n",
            " 77  secondary_cleaner.output.tail_sol                   17691 non-null  float64\n",
            " 78  final.output.concentrate_au                         19439 non-null  float64\n",
            " 79  final.output.concentrate_ag                         19438 non-null  float64\n",
            " 80  final.output.concentrate_pb                         19438 non-null  float64\n",
            " 81  final.output.concentrate_sol                        19228 non-null  float64\n",
            " 82  final.output.recovery                               19439 non-null  float64\n",
            " 83  final.output.tail_au                                19439 non-null  float64\n",
            " 84  final.output.tail_ag                                19438 non-null  float64\n",
            " 85  final.output.tail_pb                                19338 non-null  float64\n",
            " 86  final.output.tail_sol                               19433 non-null  float64\n",
            "dtypes: float64(86), object(1)\n",
            "memory usage: 12.9+ MB\n"
          ]
        }
      ],
      "source": [
        "data_full.info()"
      ]
    },
    {
      "cell_type": "markdown",
      "metadata": {
        "id": "BXgbcSNkBwM3"
      },
      "source": [
        "### Проверим, что эффективность обогащения рассчитана правильно"
      ]
    },
    {
      "cell_type": "markdown",
      "metadata": {
        "id": "X1k9ezFDBwM3"
      },
      "source": [
        "Эффективность обогащения рассчитывается по формуле ((C*(F-T))/(F*(C-T))) * 100%, где:\n",
        "- C — доля золота в концентрате после флотации/очистки;\n",
        "- F — доля золота в сырье/концентрате до флотации/очистки;\n",
        "- T — доля золота в отвальных хвостах после флотации/очистки.\n",
        "\n",
        "Рассчитаем эффективность на обучающей выборке для признака rougher.output.recovery и найдём MAE между нашими расчётами и значением признака."
      ]
    },
    {
      "cell_type": "code",
      "execution_count": null,
      "metadata": {
        "id": "1kJu-v1vBwM3"
      },
      "outputs": [],
      "source": [
        "#создадим функцию, которая рассчитывает эффективность обогащения\n",
        "def apply_recovery(row):\n",
        "    (input_au,\n",
        "     output_au,\n",
        "     output_tail) = (row[\"rougher.input.feed_au\"],\n",
        "                     row[\"rougher.output.concentrate_au\"],\n",
        "                     row[\"rougher.output.tail_au\"])\n",
        "    recovery_metric = (((output_au) * ((input_au) - (output_tail)))/\n",
        "                       (((input_au) * ((output_au) - (output_tail))))) * 100\n",
        "    return recovery_metric"
      ]
    },
    {
      "cell_type": "code",
      "execution_count": null,
      "metadata": {
        "id": "NUlXuirjBwM3"
      },
      "outputs": [],
      "source": [
        "#рассчитаем эффективность на обучающей выборке для признака rougher.output.recovery\n",
        "test = data_train.dropna(subset = [\"rougher.input.feed_au\",\n",
        "                                    \"rougher.output.concentrate_au\",\n",
        "                                    \"rougher.output.tail_au\",\n",
        "                                    \"rougher.output.recovery\"],axis = 0).apply(\n",
        "                                                                        apply_recovery,axis = 1)"
      ]
    },
    {
      "cell_type": "code",
      "execution_count": null,
      "metadata": {
        "id": "jCSPauyXBwM4",
        "outputId": "3413046c-aa50-4337-9bbd-faaf9065e678"
      },
      "outputs": [
        {
          "name": "stdout",
          "output_type": "stream",
          "text": [
            "MAE: 9.83758577644259e-15\n"
          ]
        }
      ],
      "source": [
        "#найдём MAE между нашими расчётами и значением признака\n",
        "print('MAE:', mean_absolute_error(data_train.dropna(subset = [\"rougher.input.feed_au\",\n",
        "                                    \"rougher.output.concentrate_au\",\n",
        "                                    \"rougher.output.tail_au\",\n",
        "                                    \"rougher.output.recovery\"])[\"rougher.output.recovery\"],\n",
        "                       test))"
      ]
    },
    {
      "cell_type": "markdown",
      "metadata": {
        "id": "jTK6-d3lBwM4"
      },
      "source": [
        "Приближенное к нулю значение МАЕ говорит о правильности расчётов."
      ]
    },
    {
      "cell_type": "markdown",
      "metadata": {
        "id": "WlP9WYL1BwM4"
      },
      "source": [
        "### Проанализируем признаки, недоступные в тестовой выборке"
      ]
    },
    {
      "cell_type": "code",
      "execution_count": null,
      "metadata": {
        "id": "20kIAqfrBwM4",
        "outputId": "ad53984e-5ad0-4699-f5c5-4931468546be"
      },
      "outputs": [
        {
          "name": "stdout",
          "output_type": "stream",
          "text": [
            "Признаки, которые отсутствуют в тестовой выборке: {'final.output.concentrate_au', 'rougher.output.recovery', 'secondary_cleaner.output.tail_au', 'primary_cleaner.output.concentrate_sol', 'final.output.tail_au', 'rougher.output.tail_pb', 'final.output.concentrate_pb', 'primary_cleaner.output.concentrate_ag', 'rougher.calculation.floatbank11_sulfate_to_au_feed', 'rougher.output.concentrate_ag', 'secondary_cleaner.output.tail_ag', 'primary_cleaner.output.tail_ag', 'secondary_cleaner.output.tail_sol', 'final.output.tail_sol', 'primary_cleaner.output.concentrate_pb', 'final.output.concentrate_sol', 'primary_cleaner.output.tail_au', 'rougher.output.tail_sol', 'rougher.output.tail_ag', 'primary_cleaner.output.tail_pb', 'primary_cleaner.output.tail_sol', 'rougher.output.concentrate_pb', 'rougher.output.concentrate_au', 'rougher.calculation.au_pb_ratio', 'rougher.calculation.floatbank10_sulfate_to_au_feed', 'final.output.concentrate_ag', 'final.output.recovery', 'final.output.tail_pb', 'primary_cleaner.output.concentrate_au', 'rougher.output.concentrate_sol', 'rougher.output.tail_au', 'rougher.calculation.sulfate_to_au_concentrate', 'final.output.tail_ag', 'secondary_cleaner.output.tail_pb'}\n"
          ]
        }
      ],
      "source": [
        "difference_train_test = set(data_train.columns) - set(data_test.columns)\n",
        "\n",
        "print('Признаки, которые отсутствуют в тестовой выборке:', difference_train_test)"
      ]
    },
    {
      "cell_type": "markdown",
      "metadata": {
        "id": "cco4JunYBwM4"
      },
      "source": [
        "В тестовой выборке отсутствуют такие признаки, как доли металлов в черновом и финальном концентрате, \"отвальные хвосты\", доли металлов после первичной и вторичной очистки, расчётные характеристики сульфата к золоту в флотационной установке и соотношения золота и свинца в сырье. То есть, они относятся к расчётным характеристикам и параметрам продукта. Как было сказано ранее, согласно описанию задачи, некоторые параметры недоступны, потому что замеряются и/или рассчитываются значительно позже. Из-за этого в тестовой выборке отсутствуют некоторые признаки, которые могут быть в обучающей. Также в тестовом наборе нет целевых признаков."
      ]
    },
    {
      "cell_type": "markdown",
      "metadata": {
        "id": "L97-_gNOBwM4"
      },
      "source": [
        "### Предобработка данных"
      ]
    },
    {
      "cell_type": "markdown",
      "metadata": {
        "id": "crqFG0HiBwM4"
      },
      "source": [
        "Сначала поменяем тип данных в столбце data с object (текстовый) на специальный datetime."
      ]
    },
    {
      "cell_type": "code",
      "execution_count": null,
      "metadata": {
        "id": "BXUaP2RYBwM4"
      },
      "outputs": [],
      "source": [
        "for df in [data_full, data_train, data_test]:\n",
        "    df['date'] = pd.to_datetime(df['date'], format='%Y-%m-%d %H:%M:%S')"
      ]
    },
    {
      "cell_type": "markdown",
      "metadata": {
        "id": "VcmIiaw1BwM5"
      },
      "source": [
        "Нам известно, что в тестовом наборе данных нет целевых признаков. Добавим их, объединив тестовый набор с исходным."
      ]
    },
    {
      "cell_type": "code",
      "execution_count": null,
      "metadata": {
        "id": "-Jj7gHUPBwM5"
      },
      "outputs": [],
      "source": [
        "data_test = data_test.merge(data_full[['date','rougher.output.recovery', 'final.output.recovery']],\n",
        "                            how='left', on='date')"
      ]
    },
    {
      "cell_type": "markdown",
      "metadata": {
        "id": "Kc_lxiiDBwM5"
      },
      "source": [
        "Посмотрим на количество пропусков в тестовой и обучающей выборках."
      ]
    },
    {
      "cell_type": "code",
      "execution_count": null,
      "metadata": {
        "id": "oQ4UupeaBwM5"
      },
      "outputs": [],
      "source": [
        "#оздадим функцию, которая строит горизонтальную столбчатую диаграмму с количеством пропусков в столбцах датафрейма\n",
        "#на графике будут показаны только столбцы с пропусками\n",
        "def pass_value_barh(df):\n",
        "    try:\n",
        "        (df.isna().sum()\n",
        "            .to_frame()\n",
        "            .rename(columns = {0:'space'})\n",
        "            .query('space > 0')\n",
        "            .sort_values(by = 'space', ascending = True)\n",
        "            .plot(kind = 'barh', figsize = (19,10), title='Столбцы с пропусками и их количество', xlabel='Название столбца', ylabel='Количество ошибок')\n",
        "        )\n",
        "\n",
        "    except:\n",
        "        print('Ошибка')"
      ]
    },
    {
      "cell_type": "code",
      "execution_count": null,
      "metadata": {
        "id": "P7l9C17ZBwM5",
        "outputId": "502a1744-7e65-4450-e26e-b2ebac6a79da"
      },
      "outputs": [
        {
          "data": {
            "image/png": "[encoded data removed]",
            "text/plain": [
              "<Figure size 1368x720 with 1 Axes>"
            ]
          },
          "metadata": {
            "needs_background": "light"
          },
          "output_type": "display_data"
        }
      ],
      "source": [
        "#посмотрим на график с количеством пропусков в обучающей выборке\n",
        "pass_value_barh(data_train)"
      ]
    },
    {
      "cell_type": "code",
      "execution_count": null,
      "metadata": {
        "id": "LfuEqH4ZBwM5",
        "outputId": "cf0ba04d-777a-4ae9-c529-73635884f566"
      },
      "outputs": [
        {
          "data": {
            "text/plain": [
              "secondary_cleaner.output.tail_sol                     920\n",
              "rougher.state.floatbank10_e_air                       429\n",
              "rougher.input.floatbank11_xanthate                    407\n",
              "primary_cleaner.output.concentrate_sol                265\n",
              "final.output.concentrate_sol                          192\n",
              "rougher.input.feed_size                               101\n",
              "secondary_cleaner.state.floatbank2_a_air               94\n",
              "primary_cleaner.output.concentrate_pb                  88\n",
              "rougher.input.feed_sol                                 77\n",
              "final.output.tail_pb                                   75\n",
              "rougher.input.feed_pb                                  72\n",
              "primary_cleaner.input.xanthate                         61\n",
              "primary_cleaner.output.tail_sol                        45\n",
              "rougher.input.floatbank11_sulfate                      36\n",
              "rougher.input.floatbank10_sulfate                      31\n",
              "primary_cleaner.input.depressant                       28\n",
              "primary_cleaner.input.sulfate                          23\n",
              "secondary_cleaner.state.floatbank2_b_air               22\n",
              "rougher.output.concentrate_sol                         18\n",
              "secondary_cleaner.state.floatbank3_a_air               12\n",
              "rougher.input.floatbank10_xanthate                      7\n",
              "rougher.input.feed_rate                                 7\n",
              "primary_cleaner.output.tail_pb                          6\n",
              "secondary_cleaner.state.floatbank4_a_air                5\n",
              "final.output.tail_sol                                   5\n",
              "primary_cleaner.output.tail_ag                          4\n",
              "secondary_cleaner.output.tail_pb                        4\n",
              "primary_cleaner.state.floatbank8_a_air                  3\n",
              "primary_cleaner.state.floatbank8_b_air                  3\n",
              "secondary_cleaner.output.tail_ag                        1\n",
              "final.output.tail_ag                                    1\n",
              "final.output.concentrate_pb                             1\n",
              "final.output.concentrate_ag                             1\n",
              "primary_cleaner.state.floatbank8_d_air                  1\n",
              "rougher.calculation.floatbank11_sulfate_to_au_feed      1\n",
              "secondary_cleaner.state.floatbank6_a_air                1\n",
              "rougher.calculation.floatbank10_sulfate_to_au_feed      1\n",
              "rougher.output.tail_ag                                  1\n",
              "rougher.calculation.sulfate_to_au_concentrate           1\n",
              "secondary_cleaner.state.floatbank4_b_air                0\n",
              "secondary_cleaner.state.floatbank5_a_level              0\n",
              "secondary_cleaner.state.floatbank2_a_level              0\n",
              "final.output.tail_au                                    0\n",
              "final.output.recovery                                   0\n",
              "secondary_cleaner.state.floatbank5_b_air                0\n",
              "secondary_cleaner.state.floatbank2_b_level              0\n",
              "secondary_cleaner.state.floatbank3_a_level              0\n",
              "secondary_cleaner.output.tail_au                        0\n",
              "secondary_cleaner.state.floatbank3_b_air                0\n",
              "secondary_cleaner.state.floatbank3_b_level              0\n",
              "secondary_cleaner.state.floatbank5_a_air                0\n",
              "final.output.concentrate_au                             0\n",
              "secondary_cleaner.state.floatbank6_a_level              0\n",
              "secondary_cleaner.state.floatbank4_a_level              0\n",
              "secondary_cleaner.state.floatbank4_b_level              0\n",
              "secondary_cleaner.state.floatbank5_b_level              0\n",
              "date                                                    0\n",
              "primary_cleaner.output.tail_au                          0\n",
              "primary_cleaner.output.concentrate_ag                   0\n",
              "rougher.input.feed_ag                                   0\n",
              "rougher.state.floatbank10_a_air                         0\n",
              "rougher.state.floatbank10_a_level                       0\n",
              "rougher.state.floatbank10_b_air                         0\n",
              "rougher.state.floatbank10_b_level                       0\n",
              "rougher.state.floatbank10_c_air                         0\n",
              "rougher.state.floatbank10_c_level                       0\n",
              "rougher.state.floatbank10_d_air                         0\n",
              "rougher.state.floatbank10_d_level                       0\n",
              "rougher.state.floatbank10_e_level                       0\n",
              "rougher.state.floatbank10_f_air                         0\n",
              "rougher.state.floatbank10_f_level                       0\n",
              "rougher.calculation.au_pb_ratio                         0\n",
              "rougher.output.concentrate_au                           0\n",
              "rougher.output.concentrate_ag                           0\n",
              "rougher.output.concentrate_pb                           0\n",
              "rougher.output.recovery                                 0\n",
              "rougher.output.tail_au                                  0\n",
              "rougher.output.tail_pb                                  0\n",
              "rougher.output.tail_sol                                 0\n",
              "primary_cleaner.input.feed_size                         0\n",
              "primary_cleaner.state.floatbank8_a_level                0\n",
              "rougher.input.feed_au                                   0\n",
              "primary_cleaner.state.floatbank8_c_air                  0\n",
              "primary_cleaner.state.floatbank8_c_level                0\n",
              "primary_cleaner.state.floatbank8_d_level                0\n",
              "primary_cleaner.output.concentrate_au                   0\n",
              "primary_cleaner.state.floatbank8_b_level                0\n",
              "dtype: int64"
            ]
          },
          "execution_count": 80,
          "metadata": {},
          "output_type": "execute_result"
        }
      ],
      "source": [
        "#также посмотрим на точное количество пропусков в обучающей выборке\n",
        "data_train.isna().sum().sort_values(ascending=False)"
      ]
    },
    {
      "cell_type": "code",
      "execution_count": null,
      "metadata": {
        "id": "4Q8Y5NZTBwM6",
        "outputId": "7ac15c1a-62bd-4ad1-9f7c-aaaf89f34eb7"
      },
      "outputs": [
        {
          "data": {
            "image/png": "[encoded data removed]",
            "text/plain": [
              "<Figure size 1368x720 with 1 Axes>"
            ]
          },
          "metadata": {
            "needs_background": "light"
          },
          "output_type": "display_data"
        }
      ],
      "source": [
        "#теперь посмотрим на график с количеством пропусков в тестовой выборке\n",
        "pass_value_barh(data_test)"
      ]
    },
    {
      "cell_type": "code",
      "execution_count": null,
      "metadata": {
        "scrolled": false,
        "id": "p6wJk0ORBwM6",
        "outputId": "a7be2c27-c623-48f8-98d9-20f2bf2e8c29"
      },
      "outputs": [
        {
          "data": {
            "text/plain": [
              "secondary_cleaner.state.floatbank2_a_air      126\n",
              "rougher.input.floatbank11_xanthate             46\n",
              "rougher.input.feed_size                        44\n",
              "primary_cleaner.input.xanthate                 43\n",
              "rougher.input.feed_pb                          28\n",
              "rougher.input.feed_sol                         22\n",
              "primary_cleaner.input.depressant                9\n",
              "rougher.input.floatbank11_sulfate               8\n",
              "rougher.state.floatbank10_e_air                 7\n",
              "rougher.input.feed_rate                         4\n",
              "rougher.input.floatbank10_sulfate               3\n",
              "primary_cleaner.state.floatbank8_c_air          2\n",
              "primary_cleaner.state.floatbank8_d_air          2\n",
              "primary_cleaner.state.floatbank8_a_level        1\n",
              "primary_cleaner.state.floatbank8_b_air          1\n",
              "primary_cleaner.state.floatbank8_b_level        1\n",
              "primary_cleaner.state.floatbank8_c_level        1\n",
              "secondary_cleaner.state.floatbank4_a_air        1\n",
              "primary_cleaner.state.floatbank8_d_level        1\n",
              "secondary_cleaner.state.floatbank2_a_level      1\n",
              "secondary_cleaner.state.floatbank4_b_level      1\n",
              "secondary_cleaner.state.floatbank2_b_level      1\n",
              "secondary_cleaner.state.floatbank3_a_air        1\n",
              "secondary_cleaner.state.floatbank3_a_level      1\n",
              "secondary_cleaner.state.floatbank3_b_air        1\n",
              "secondary_cleaner.state.floatbank3_b_level      1\n",
              "secondary_cleaner.state.floatbank2_b_air        1\n",
              "primary_cleaner.state.floatbank8_a_air          1\n",
              "secondary_cleaner.state.floatbank5_a_air        1\n",
              "primary_cleaner.input.sulfate                   1\n",
              "rougher.input.floatbank10_xanthate              1\n",
              "rougher.state.floatbank10_a_air                 1\n",
              "rougher.state.floatbank10_a_level               1\n",
              "rougher.state.floatbank10_b_air                 1\n",
              "rougher.state.floatbank10_b_level               1\n",
              "rougher.state.floatbank10_c_air                 1\n",
              "rougher.state.floatbank10_c_level               1\n",
              "secondary_cleaner.state.floatbank6_a_level      1\n",
              "secondary_cleaner.state.floatbank6_a_air        1\n",
              "secondary_cleaner.state.floatbank5_b_level      1\n",
              "secondary_cleaner.state.floatbank5_b_air        1\n",
              "secondary_cleaner.state.floatbank5_a_level      1\n",
              "secondary_cleaner.state.floatbank4_b_air        1\n",
              "secondary_cleaner.state.floatbank4_a_level      1\n",
              "rougher.output.recovery                         0\n",
              "date                                            0\n",
              "rougher.input.feed_au                           0\n",
              "primary_cleaner.input.feed_size                 0\n",
              "rougher.state.floatbank10_f_level               0\n",
              "rougher.state.floatbank10_f_air                 0\n",
              "rougher.state.floatbank10_e_level               0\n",
              "rougher.state.floatbank10_d_level               0\n",
              "rougher.state.floatbank10_d_air                 0\n",
              "rougher.input.feed_ag                           0\n",
              "final.output.recovery                           0\n",
              "dtype: int64"
            ]
          },
          "execution_count": 82,
          "metadata": {},
          "output_type": "execute_result"
        }
      ],
      "source": [
        "#также посмотрим на точное количество пропусков в тестовой выборке\n",
        "data_test.isna().sum().sort_values(ascending=False)"
      ]
    },
    {
      "cell_type": "code",
      "execution_count": null,
      "metadata": {
        "id": "6xWYivKNBwM6"
      },
      "outputs": [],
      "source": [
        "#заполним пропуски в обучающей выборкой с помощью KNNImputer\n",
        "#сразу удалим столбец date, чтобы в дальнейшем не запутать нашу модель\n",
        "X_train = data_train.copy()\n",
        "imputer = KNNImputer(n_neighbors=5, weights='uniform')\n",
        "X_1_train = imputer.fit_transform(X_train.drop(['date'],axis = 1))\n",
        "new_data_train = pd.DataFrame(X_1_train,columns = data_train.columns[1:])"
      ]
    },
    {
      "cell_type": "code",
      "execution_count": null,
      "metadata": {
        "id": "TpndAB_0BwM6",
        "outputId": "2e3df8cb-bc3a-4b60-e5c1-81a53143c056"
      },
      "outputs": [
        {
          "data": {
            "text/plain": [
              "rougher.input.feed_au                                 0\n",
              "primary_cleaner.output.tail_sol                       0\n",
              "secondary_cleaner.state.floatbank3_b_level            0\n",
              "secondary_cleaner.state.floatbank3_b_air              0\n",
              "secondary_cleaner.state.floatbank3_a_level            0\n",
              "secondary_cleaner.state.floatbank3_a_air              0\n",
              "secondary_cleaner.state.floatbank2_b_level            0\n",
              "secondary_cleaner.state.floatbank2_b_air              0\n",
              "secondary_cleaner.state.floatbank2_a_level            0\n",
              "secondary_cleaner.state.floatbank2_a_air              0\n",
              "primary_cleaner.output.tail_pb                        0\n",
              "secondary_cleaner.state.floatbank4_a_level            0\n",
              "primary_cleaner.output.tail_ag                        0\n",
              "primary_cleaner.output.tail_au                        0\n",
              "primary_cleaner.output.concentrate_sol                0\n",
              "primary_cleaner.output.concentrate_pb                 0\n",
              "primary_cleaner.output.concentrate_ag                 0\n",
              "primary_cleaner.output.concentrate_au                 0\n",
              "primary_cleaner.state.floatbank8_d_level              0\n",
              "primary_cleaner.state.floatbank8_d_air                0\n",
              "secondary_cleaner.state.floatbank4_a_air              0\n",
              "secondary_cleaner.state.floatbank4_b_air              0\n",
              "rougher.input.feed_ag                                 0\n",
              "secondary_cleaner.output.tail_sol                     0\n",
              "final.output.tail_pb                                  0\n",
              "final.output.tail_ag                                  0\n",
              "final.output.tail_au                                  0\n",
              "final.output.recovery                                 0\n",
              "final.output.concentrate_sol                          0\n",
              "final.output.concentrate_pb                           0\n",
              "final.output.concentrate_ag                           0\n",
              "final.output.concentrate_au                           0\n",
              "secondary_cleaner.output.tail_pb                      0\n",
              "secondary_cleaner.state.floatbank4_b_level            0\n",
              "secondary_cleaner.output.tail_ag                      0\n",
              "secondary_cleaner.output.tail_au                      0\n",
              "secondary_cleaner.state.floatbank6_a_level            0\n",
              "secondary_cleaner.state.floatbank6_a_air              0\n",
              "secondary_cleaner.state.floatbank5_b_level            0\n",
              "secondary_cleaner.state.floatbank5_b_air              0\n",
              "secondary_cleaner.state.floatbank5_a_level            0\n",
              "secondary_cleaner.state.floatbank5_a_air              0\n",
              "primary_cleaner.state.floatbank8_c_level              0\n",
              "primary_cleaner.state.floatbank8_c_air                0\n",
              "primary_cleaner.state.floatbank8_b_level              0\n",
              "rougher.state.floatbank10_b_level                     0\n",
              "rougher.state.floatbank10_f_level                     0\n",
              "rougher.state.floatbank10_f_air                       0\n",
              "rougher.state.floatbank10_e_level                     0\n",
              "rougher.state.floatbank10_e_air                       0\n",
              "rougher.state.floatbank10_d_level                     0\n",
              "rougher.state.floatbank10_d_air                       0\n",
              "rougher.state.floatbank10_c_level                     0\n",
              "rougher.state.floatbank10_c_air                       0\n",
              "rougher.state.floatbank10_b_air                       0\n",
              "primary_cleaner.state.floatbank8_b_air                0\n",
              "rougher.state.floatbank10_a_level                     0\n",
              "rougher.state.floatbank10_a_air                       0\n",
              "rougher.input.floatbank10_xanthate                    0\n",
              "rougher.input.floatbank10_sulfate                     0\n",
              "rougher.input.feed_size                               0\n",
              "rougher.input.feed_rate                               0\n",
              "rougher.input.feed_sol                                0\n",
              "rougher.input.feed_pb                                 0\n",
              "rougher.input.floatbank11_sulfate                     0\n",
              "rougher.input.floatbank11_xanthate                    0\n",
              "rougher.calculation.sulfate_to_au_concentrate         0\n",
              "rougher.calculation.floatbank10_sulfate_to_au_feed    0\n",
              "primary_cleaner.state.floatbank8_a_level              0\n",
              "primary_cleaner.state.floatbank8_a_air                0\n",
              "primary_cleaner.input.xanthate                        0\n",
              "primary_cleaner.input.feed_size                       0\n",
              "primary_cleaner.input.depressant                      0\n",
              "primary_cleaner.input.sulfate                         0\n",
              "rougher.output.tail_sol                               0\n",
              "rougher.output.tail_pb                                0\n",
              "rougher.output.tail_ag                                0\n",
              "rougher.output.tail_au                                0\n",
              "rougher.output.recovery                               0\n",
              "rougher.output.concentrate_sol                        0\n",
              "rougher.output.concentrate_pb                         0\n",
              "rougher.output.concentrate_ag                         0\n",
              "rougher.output.concentrate_au                         0\n",
              "rougher.calculation.au_pb_ratio                       0\n",
              "rougher.calculation.floatbank11_sulfate_to_au_feed    0\n",
              "final.output.tail_sol                                 0\n",
              "dtype: int64"
            ]
          },
          "execution_count": 84,
          "metadata": {},
          "output_type": "execute_result"
        }
      ],
      "source": [
        "#проверим количество пропусков после заполнения\n",
        "new_data_train.isna().sum().sort_values(ascending=False)"
      ]
    },
    {
      "cell_type": "code",
      "execution_count": null,
      "metadata": {
        "id": "Ec4XZmU0BwM6"
      },
      "outputs": [],
      "source": [
        "#повторим ту же процедуру для тестовой выборки\n",
        "new_diff_train_test = set(new_data_train.columns) - set(data_test.columns)\n",
        "X_test = data_test.copy()\n",
        "imputer.fit(new_data_train.drop(columns=new_diff_train_test,axis = 1))\n",
        "X_1_test = imputer.transform(X_test.drop(['date'],axis = 1))\n",
        "new_data_test = pd.DataFrame(X_1_test,columns = data_test.columns[1:])"
      ]
    },
    {
      "cell_type": "code",
      "execution_count": null,
      "metadata": {
        "id": "yFip0SQhBwM6",
        "outputId": "9e979061-f4e1-4c31-8a5c-536ca1ecc017"
      },
      "outputs": [
        {
          "data": {
            "text/plain": [
              "rougher.input.feed_au                         0\n",
              "secondary_cleaner.state.floatbank3_b_air      0\n",
              "primary_cleaner.state.floatbank8_b_level      0\n",
              "primary_cleaner.state.floatbank8_c_air        0\n",
              "primary_cleaner.state.floatbank8_c_level      0\n",
              "primary_cleaner.state.floatbank8_d_air        0\n",
              "primary_cleaner.state.floatbank8_d_level      0\n",
              "secondary_cleaner.state.floatbank2_a_air      0\n",
              "secondary_cleaner.state.floatbank2_a_level    0\n",
              "secondary_cleaner.state.floatbank2_b_air      0\n",
              "secondary_cleaner.state.floatbank2_b_level    0\n",
              "secondary_cleaner.state.floatbank3_a_air      0\n",
              "secondary_cleaner.state.floatbank3_a_level    0\n",
              "secondary_cleaner.state.floatbank3_b_level    0\n",
              "rougher.input.feed_ag                         0\n",
              "secondary_cleaner.state.floatbank4_a_air      0\n",
              "secondary_cleaner.state.floatbank4_a_level    0\n",
              "secondary_cleaner.state.floatbank4_b_air      0\n",
              "secondary_cleaner.state.floatbank4_b_level    0\n",
              "secondary_cleaner.state.floatbank5_a_air      0\n",
              "secondary_cleaner.state.floatbank5_a_level    0\n",
              "secondary_cleaner.state.floatbank5_b_air      0\n",
              "secondary_cleaner.state.floatbank5_b_level    0\n",
              "secondary_cleaner.state.floatbank6_a_air      0\n",
              "secondary_cleaner.state.floatbank6_a_level    0\n",
              "rougher.output.recovery                       0\n",
              "primary_cleaner.state.floatbank8_b_air        0\n",
              "primary_cleaner.state.floatbank8_a_level      0\n",
              "primary_cleaner.state.floatbank8_a_air        0\n",
              "primary_cleaner.input.xanthate                0\n",
              "rougher.input.feed_pb                         0\n",
              "rougher.input.feed_sol                        0\n",
              "rougher.input.feed_rate                       0\n",
              "rougher.input.feed_size                       0\n",
              "rougher.input.floatbank10_sulfate             0\n",
              "rougher.input.floatbank10_xanthate            0\n",
              "rougher.state.floatbank10_a_air               0\n",
              "rougher.state.floatbank10_a_level             0\n",
              "rougher.state.floatbank10_b_air               0\n",
              "rougher.state.floatbank10_b_level             0\n",
              "rougher.state.floatbank10_c_air               0\n",
              "rougher.state.floatbank10_c_level             0\n",
              "rougher.state.floatbank10_d_air               0\n",
              "rougher.state.floatbank10_d_level             0\n",
              "rougher.state.floatbank10_e_air               0\n",
              "rougher.state.floatbank10_e_level             0\n",
              "rougher.state.floatbank10_f_air               0\n",
              "rougher.state.floatbank10_f_level             0\n",
              "rougher.input.floatbank11_sulfate             0\n",
              "rougher.input.floatbank11_xanthate            0\n",
              "primary_cleaner.input.sulfate                 0\n",
              "primary_cleaner.input.depressant              0\n",
              "primary_cleaner.input.feed_size               0\n",
              "final.output.recovery                         0\n",
              "dtype: int64"
            ]
          },
          "execution_count": 86,
          "metadata": {},
          "output_type": "execute_result"
        }
      ],
      "source": [
        "#также проверим количество пропусков после заполнения\n",
        "new_data_test.isna().sum().sort_values(ascending=False)"
      ]
    },
    {
      "cell_type": "markdown",
      "metadata": {
        "id": "2GSQVyCMBwM7"
      },
      "source": [
        "Все пропуски заполнены. Теперь проверим, есть ли в обучающей и тестовой выборках явные дубликаты."
      ]
    },
    {
      "cell_type": "code",
      "execution_count": null,
      "metadata": {
        "id": "VUtNq-vaBwM7",
        "outputId": "51ed4161-fe4b-42c2-a9e3-65e846cee9f7"
      },
      "outputs": [
        {
          "data": {
            "text/plain": [
              "0"
            ]
          },
          "execution_count": 87,
          "metadata": {},
          "output_type": "execute_result"
        }
      ],
      "source": [
        "new_data_train.duplicated().sum()"
      ]
    },
    {
      "cell_type": "code",
      "execution_count": null,
      "metadata": {
        "scrolled": true,
        "id": "tJ1qvAhDBwM7",
        "outputId": "dbfbf621-16d1-49a5-d82b-ab20f508bc43"
      },
      "outputs": [
        {
          "data": {
            "text/plain": [
              "0"
            ]
          },
          "execution_count": 88,
          "metadata": {},
          "output_type": "execute_result"
        }
      ],
      "source": [
        "new_data_test.duplicated().sum()"
      ]
    },
    {
      "cell_type": "markdown",
      "metadata": {
        "id": "_fu1JTTxBwM7"
      },
      "source": [
        "Дубликатов нет. В этом пункте мы поменяли тип данных в столбце data с object (текстовый) на специальный datetime, добавили целевые признаки в тестовую выборку, заполнили пропуски с помощью KNNImpute и сразу удалили столбец date, который может запутать модель, а также убедились в отсутствии дубликатов."
      ]
    },
    {
      "cell_type": "markdown",
      "metadata": {
        "id": "UoV_qk6UBwM7"
      },
      "source": [
        "**Вывод:**\n",
        "- мы ознакомились с данными;\n",
        "- проверили, что эффективность обогащения рассчитана правильно: MAE между нашими расчётами и значением признака rougher.output.recovery составляет .83758577644259e-15;\n",
        "- выяснили, что в тестовом наборе данных отсутсвуют такие признаки, как доли металлов в черновом и финальном концентрате, \"отвальные хвосты\", доли металлов после первичной и вторичной очистки, расчётные характеристики сульфата к золоту в флотационной установке и соотношения золота и свинца в сырье. То есть, они относятся к расчётным характеристикам и параметрам продукта. Согласно описанию задачи, некоторые параметры недоступны, потому что замеряются и/или рассчитываются значительно позже;\n",
        "- провели предобработку данных: поменяли тип данных в столбце data с object (текстовый) на специальный datetime, добавили целевые признаки в тестовую выборку, заполнили пропуски с помощью KNNImpute и сразу удалили столбец date, который может запутать модель, а также убедились в отсутствии дубликатов."
      ]
    },
    {
      "cell_type": "markdown",
      "metadata": {
        "id": "e8xGPlmzBwM7"
      },
      "source": [
        "## Анализ данных"
      ]
    },
    {
      "cell_type": "markdown",
      "metadata": {
        "id": "8N1jMzg1BwM7"
      },
      "source": [
        "### Как меняется концентрация металлов (Au, Ag, Pb) на различных этапах: в сырье, в черновом концентрате, в концентрате после первой очистки и в финальном концентрате? Какие особенности имеют распределения?"
      ]
    },
    {
      "cell_type": "markdown",
      "metadata": {
        "id": "8kqOnsxaBwM7"
      },
      "source": [
        "Построим столбчатые диаграммы, чтобы проследить, как меняется концентрация металлов на разных этапах производства."
      ]
    },
    {
      "cell_type": "code",
      "execution_count": null,
      "metadata": {
        "id": "9p4zbQZrBwM8",
        "outputId": "c794fde3-55b9-42a8-f103-ee760753dbc1"
      },
      "outputs": [
        {
          "data": {
            "image/png": "[encoded data removed]",
            "text/plain": [
              "<Figure size 864x576 with 1 Axes>"
            ]
          },
          "metadata": {
            "needs_background": "light"
          },
          "output_type": "display_data"
        }
      ],
      "source": [
        "concentrate_au = data_full[['rougher.input.feed_au',\n",
        "                          'rougher.output.concentrate_au',\n",
        "                          'primary_cleaner.output.concentrate_au',\n",
        "                          'final.output.concentrate_au']]\n",
        "\n",
        "plt.figure(figsize=(12, 8))\n",
        "ax = sns.histplot(data=concentrate_au)\n",
        "plt.title('Изменение концентрации золота')\n",
        "plt.legend(['Финальный концентрат',\n",
        "            'Концентрат после первичной очистки',\n",
        "            'Черновой концентрат',\n",
        "            'Исходное сырье'],\n",
        "           loc='upper right')\n",
        "plt.xlabel('Концентрация вещества, %')\n",
        "plt.ylabel('Количество наблюдений')\n",
        "plt.show()"
      ]
    },
    {
      "cell_type": "code",
      "execution_count": null,
      "metadata": {
        "id": "cYfL5VgVBwM8",
        "outputId": "02375f2f-5090-4460-af07-8e1564def823"
      },
      "outputs": [
        {
          "data": {
            "image/png": "[encoded data removed]",
            "text/plain": [
              "<Figure size 864x576 with 1 Axes>"
            ]
          },
          "metadata": {
            "needs_background": "light"
          },
          "output_type": "display_data"
        }
      ],
      "source": [
        "concentrate_ag = data_full[['rougher.input.feed_ag',\n",
        "                          'rougher.output.concentrate_ag',\n",
        "                          'primary_cleaner.output.concentrate_ag',\n",
        "                          'final.output.concentrate_ag']]\n",
        "\n",
        "plt.figure(figsize=(12, 8))\n",
        "ax = sns.histplot(data=concentrate_ag)\n",
        "plt.title('Изменение концентрации серебра')\n",
        "plt.legend(['Финальный концентрат',\n",
        "            'Концентрат после первичной очистки',\n",
        "            'Черновой концентрат',\n",
        "            'Исходное сырье'],\n",
        "           loc='upper right')\n",
        "plt.xlabel('Концентрация вещества, %')\n",
        "plt.ylabel('Количество наблюдений')\n",
        "plt.show()"
      ]
    },
    {
      "cell_type": "code",
      "execution_count": null,
      "metadata": {
        "scrolled": false,
        "id": "NzCIm--3BwM8",
        "outputId": "f851932f-7490-415b-d343-48e28cb5c84c"
      },
      "outputs": [
        {
          "data": {
            "image/png": "[encoded data removed]",
            "text/plain": [
              "<Figure size 864x576 with 1 Axes>"
            ]
          },
          "metadata": {
            "needs_background": "light"
          },
          "output_type": "display_data"
        }
      ],
      "source": [
        "concentrate_pb = data_full[['rougher.input.feed_pb',\n",
        "                          'rougher.output.concentrate_pb',\n",
        "                          'primary_cleaner.output.concentrate_pb',\n",
        "                          'final.output.concentrate_pb']]\n",
        "\n",
        "plt.figure(figsize=(12, 8))\n",
        "ax = sns.histplot(data=concentrate_pb)\n",
        "plt.title('Изменение концентрации свинца')\n",
        "plt.legend(['Финальный концентрат',\n",
        "            'Концентрат после первичной очистки',\n",
        "            'Черновой концентрат',\n",
        "            'Исходное сырье'],\n",
        "           loc='upper right')\n",
        "plt.xlabel('Концентрация вещества, %')\n",
        "plt.ylabel('Количество наблюдений')\n",
        "plt.show()"
      ]
    },
    {
      "cell_type": "markdown",
      "metadata": {
        "id": "M2U6ByZPBwM8"
      },
      "source": [
        "В целом, распределение похоже на нормальное, но на графиках заметны выбросы в районе 0 для всех этапов обработки, кроме финального концентрата, для всех металлов. Удалим эти выбросы."
      ]
    },
    {
      "cell_type": "code",
      "execution_count": null,
      "metadata": {
        "id": "0eRUGu61BwM8"
      },
      "outputs": [],
      "source": [
        "data_full = data_full.drop(index = data_full[data_full[\"rougher.input.feed_au\"] < 1].index,\n",
        "                               axis = 0)\n",
        "data_full = data_full.drop(index = data_full[data_full[\"rougher.input.feed_ag\"] < 1].index,\n",
        "                               axis = 0)\n",
        "data_full = data_full.drop(index = data_full[data_full[\"rougher.input.feed_pb\"] < 1].index,\n",
        "                               axis = 0)\n",
        "\n",
        "data_full = data_full.drop(index = data_full[data_full[\"rougher.output.concentrate_au\"] < 1].index,\n",
        "                               axis = 0)\n",
        "data_full = data_full.drop(index = data_full[data_full[\"rougher.output.concentrate_ag\"] < 1].index,\n",
        "                               axis = 0)\n",
        "data_full = data_full.drop(index = data_full[data_full[\"rougher.output.concentrate_pb\"] < 1].index,\n",
        "                               axis = 0)\n",
        "\n",
        "data_full = data_full.drop(index = data_full[data_full[\"primary_cleaner.output.concentrate_au\"] < 1].index,\n",
        "                               axis = 0)\n",
        "data_full = data_full.drop(index = data_full[data_full[\"primary_cleaner.output.concentrate_ag\"] < 1].index,\n",
        "                               axis = 0)\n",
        "data_full = data_full.drop(index = data_full[data_full[\"primary_cleaner.output.concentrate_pb\"] < 1].index,\n",
        "                               axis = 0)\n",
        "\n",
        "data_full = data_full.drop(index = data_full[data_full[\"final.output.concentrate_au\"] < 1].index,\n",
        "                               axis = 0)\n",
        "data_full = data_full.drop(index = data_full[data_full[\"final.output.concentrate_ag\"] < 1].index,\n",
        "                               axis = 0)\n",
        "data_full = data_full.drop(index = data_full[data_full[\"final.output.concentrate_pb\"] < 1].index,\n",
        "                               axis = 0)"
      ]
    },
    {
      "cell_type": "markdown",
      "metadata": {
        "id": "GsOp70SABwM8"
      },
      "source": [
        "Теперь снова посмотрим на графики после удаления выбросов."
      ]
    },
    {
      "cell_type": "code",
      "execution_count": null,
      "metadata": {
        "id": "Bje1q0SjBwM8",
        "outputId": "48c2ce94-aabd-476c-e9fd-e8fbccb047a9"
      },
      "outputs": [
        {
          "data": {
            "image/png": "[encoded data removed]",
            "text/plain": [
              "<Figure size 864x576 with 1 Axes>"
            ]
          },
          "metadata": {
            "needs_background": "light"
          },
          "output_type": "display_data"
        }
      ],
      "source": [
        "concentrate_au_new = data_full[['rougher.input.feed_au',\n",
        "                          'rougher.output.concentrate_au',\n",
        "                          'primary_cleaner.output.concentrate_au',\n",
        "                          'final.output.concentrate_au']]\n",
        "\n",
        "plt.figure(figsize=(12, 8))\n",
        "ax = sns.histplot(data=concentrate_au_new)\n",
        "plt.title('Изменение концентрации золота после удаления выбросов')\n",
        "plt.legend(['Финальный концентрат',\n",
        "            'Концентрат после первичной очистки',\n",
        "            'Черновой концентрат',\n",
        "            'Исходное сырье'],\n",
        "           loc='upper right')\n",
        "plt.xlabel('Концентрация вещества, %')\n",
        "plt.ylabel('Количество наблюдений')\n",
        "plt.show()"
      ]
    },
    {
      "cell_type": "code",
      "execution_count": null,
      "metadata": {
        "id": "f48K-GUMBwM8",
        "outputId": "3313f4b8-425e-4cce-c76e-6d7ddf5ebe2f"
      },
      "outputs": [
        {
          "data": {
            "image/png": "[encoded data removed]",
            "text/plain": [
              "<Figure size 864x576 with 1 Axes>"
            ]
          },
          "metadata": {
            "needs_background": "light"
          },
          "output_type": "display_data"
        }
      ],
      "source": [
        "concentrate_ag_new = data_full[['rougher.input.feed_ag',\n",
        "                          'rougher.output.concentrate_ag',\n",
        "                          'primary_cleaner.output.concentrate_ag',\n",
        "                          'final.output.concentrate_ag']]\n",
        "\n",
        "plt.figure(figsize=(12, 8))\n",
        "ax = sns.histplot(data=concentrate_ag_new)\n",
        "plt.title('Изменение концентрации серебра после удаления выбросов')\n",
        "plt.legend(['Финальный концентрат',\n",
        "            'Концентрат после первичной очистки',\n",
        "            'Черновой концентрат',\n",
        "            'Исходное сырье'],\n",
        "           loc='upper right')\n",
        "plt.xlabel('Концентрация вещества, %')\n",
        "plt.ylabel('Количество наблюдений')\n",
        "plt.show()"
      ]
    },
    {
      "cell_type": "code",
      "execution_count": null,
      "metadata": {
        "id": "uH4o7CDUBwM9",
        "outputId": "4a6348ee-ecb6-4bde-e899-e8cc00763fd1"
      },
      "outputs": [
        {
          "data": {
            "image/png": "[encoded data removed]",
            "text/plain": [
              "<Figure size 864x576 with 1 Axes>"
            ]
          },
          "metadata": {
            "needs_background": "light"
          },
          "output_type": "display_data"
        }
      ],
      "source": [
        "concentrate_pb_new = data_full[['rougher.input.feed_pb',\n",
        "                          'rougher.output.concentrate_pb',\n",
        "                          'primary_cleaner.output.concentrate_pb',\n",
        "                          'final.output.concentrate_pb']]\n",
        "\n",
        "plt.figure(figsize=(12, 8))\n",
        "ax = sns.histplot(data=concentrate_pb_new)\n",
        "plt.title('Изменение концентрации свинца после удаления выбросов')\n",
        "plt.legend(['Финальный концентрат',\n",
        "            'Концентрат после первичной очистки',\n",
        "            'Черновой концентрат',\n",
        "            'Исходное сырье'],\n",
        "           loc='upper right')\n",
        "plt.xlabel('Концентрация вещества, %')\n",
        "plt.ylabel('Количество наблюдений')\n",
        "plt.show()"
      ]
    },
    {
      "cell_type": "markdown",
      "metadata": {
        "id": "tWhtK8glBwM9"
      },
      "source": [
        "Выбросы удалены, теперь распределение концентрации на всх этапах для всех металлов нормальное. Наконец, посмотрим на точные значения концентрации вещества в процентах на каждом этапе."
      ]
    },
    {
      "cell_type": "code",
      "execution_count": null,
      "metadata": {
        "id": "fXzXPC_fBwM9",
        "outputId": "07625f52-6b4f-48ad-b2d4-1a1b7d31455d"
      },
      "outputs": [
        {
          "name": "stdout",
          "output_type": "stream",
          "text": [
            "Концентрация в исходном сырье:\n",
            "Золота: 8.30, серебра: 8.80, свинца: 3.61\n",
            "\n",
            "Концентрация в черновом конценрате:\n",
            "Золота: 20.22, серебра: 12.23, свинца: 7.79\n",
            "\n",
            "Концентрация после первичной очистки:\n",
            "Золота: 32.53, серебра: 8.57, свинца: 9.98\n",
            "\n",
            "Концентрация в финальном концентрате:\n",
            "Золота: 44.33, серебра: 5.20, свинца: 10.06\n"
          ]
        }
      ],
      "source": [
        "print(\"Концентрация в исходном сырье:\")\n",
        "print(\"Золота:{: 0.2f}, серебра:{: 0.2f}, свинца:{: 0.2f}\".\n",
        "format(data_full[\"rougher.input.feed_au\"].mean(),\n",
        "    data_full[\"rougher.input.feed_ag\"].mean(),\n",
        "    data_full[\"rougher.input.feed_pb\"].mean()))\n",
        "print()\n",
        "print(\"Концентрация в черновом конценрате:\")\n",
        "print(\"Золота:{: 0.2f}, серебра:{: 0.2f}, свинца:{: 0.2f}\".\n",
        "format(data_full[\"rougher.output.concentrate_au\"].mean(),\n",
        "    data_full[\"rougher.output.concentrate_ag\"].mean(),\n",
        "    data_full[\"rougher.output.concentrate_pb\"].mean()))\n",
        "print()\n",
        "print(\"Концентрация после первичной очистки:\")\n",
        "print(\"Золота:{: 0.2f}, серебра:{: 0.2f}, свинца:{: 0.2f}\".\n",
        "format(data_full[\"primary_cleaner.output.concentrate_au\"].mean(),\n",
        "    data_full[\"primary_cleaner.output.concentrate_ag\"].mean(),\n",
        "    data_full[\"primary_cleaner.output.concentrate_pb\"].mean()))\n",
        "print()\n",
        "print(\"Концентрация в финальном концентрате:\")\n",
        "print(\"Золота:{: 0.2f}, серебра:{: 0.2f}, свинца:{: 0.2f}\".\n",
        "format(data_full[\"final.output.concentrate_au\"].mean(),\n",
        "    data_full[\"final.output.concentrate_ag\"].mean(),\n",
        "    data_full[\"final.output.concentrate_pb\"].mean()))"
      ]
    },
    {
      "cell_type": "markdown",
      "metadata": {
        "id": "DanAOrqrBwM9"
      },
      "source": [
        "На основании графиков мы можем сказать, что концентрация золота и свинца увеличивается в ходе обработки сырья, а концентрация серебра наоборот снижается. В финальном концентрате концентрация золота составляет 44.33%, свинца -  10.06%, серебра - 5.20%."
      ]
    },
    {
      "cell_type": "code",
      "execution_count": null,
      "metadata": {
        "id": "OyjQqnvNBwM9"
      },
      "outputs": [],
      "source": [
        "#также удалим аномалии из обучающего набора данных\n",
        "new_data_train = new_data_train.drop(index = new_data_train[new_data_train[\"rougher.input.feed_au\"] < 1].index,\n",
        "                               axis = 0)\n",
        "new_data_train = new_data_train.drop(index = new_data_train[new_data_train[\"rougher.input.feed_ag\"] < 1].index,\n",
        "                               axis = 0)\n",
        "new_data_train = new_data_train.drop(index = new_data_train[new_data_train[\"rougher.input.feed_pb\"] < 1].index,\n",
        "                               axis = 0)\n",
        "\n",
        "new_data_train = new_data_train.drop(\n",
        "    index = new_data_train[new_data_train[\"rougher.output.concentrate_au\"] < 1].index,\n",
        "                               axis = 0)\n",
        "new_data_train = new_data_train.drop(\n",
        "    index = new_data_train[new_data_train[\"rougher.output.concentrate_ag\"] < 1].index,\n",
        "                               axis = 0)\n",
        "new_data_train = new_data_train.drop(\n",
        "    index = new_data_train[new_data_train[\"rougher.output.concentrate_pb\"] < 1].index,\n",
        "                               axis = 0)\n",
        "\n",
        "new_data_train = new_data_train.drop(\n",
        "    index = new_data_train[new_data_train[\"primary_cleaner.output.concentrate_au\"] < 1].index,\n",
        "                               axis = 0)\n",
        "new_data_train = new_data_train.drop(\n",
        "    index = new_data_train[new_data_train[\"primary_cleaner.output.concentrate_ag\"] < 1].index,\n",
        "                               axis = 0)\n",
        "new_data_train = new_data_train.drop(\n",
        "    index = new_data_train[new_data_train[\"primary_cleaner.output.concentrate_pb\"] < 1].index,\n",
        "                               axis = 0)\n",
        "\n",
        "new_data_train = new_data_train.drop(\n",
        "    index = new_data_train[new_data_train[\"final.output.concentrate_au\"] < 1].index,\n",
        "                               axis = 0)\n",
        "new_data_train = new_data_train.drop(\n",
        "    index = new_data_train[new_data_train[\"final.output.concentrate_ag\"] < 1].index,\n",
        "                               axis = 0)\n",
        "new_data_train = new_data_train.drop(\n",
        "    index = new_data_train[new_data_train[\"final.output.concentrate_pb\"] < 1].index,\n",
        "                               axis = 0)"
      ]
    },
    {
      "cell_type": "markdown",
      "metadata": {
        "id": "O_eKlm5oBwM-"
      },
      "source": [
        "### Сравним распределения размеров гранул исходного сырья на обучающей и тестовой выборках"
      ]
    },
    {
      "cell_type": "markdown",
      "metadata": {
        "id": "MAKKA7MaBwM-"
      },
      "source": [
        "Построим гистограммы, чтобы посмотреть на распределение размеров гранул исходного сырья на обучающей и тестовой выборках на этапах флотации и первичной очистки."
      ]
    },
    {
      "cell_type": "code",
      "execution_count": null,
      "metadata": {
        "id": "4n1NlcvtBwM-",
        "outputId": "a51ddcc2-e94d-4836-a1d5-636c666a6771"
      },
      "outputs": [
        {
          "data": {
            "image/png": "[encoded data removed]",
            "text/plain": [
              "<Figure size 864x504 with 1 Axes>"
            ]
          },
          "metadata": {
            "needs_background": "light"
          },
          "output_type": "display_data"
        }
      ],
      "source": [
        "new_data_train['rougher.input.feed_size'].hist(\n",
        "    alpha=0.4,\n",
        "    bins=60,\n",
        "    figsize=(12, 7),\n",
        "    density=True)\n",
        "new_data_test['rougher.input.feed_size'].hist(\n",
        "    alpha=0.4,\n",
        "    bins=60,\n",
        "    figsize=(12, 7),\n",
        "    density=True)\n",
        "plt.legend(['Обучающая выборка', 'Тестовая выборка'], fontsize=12)\n",
        "plt.title('Распределение размеров гранул исходного сырья на этапе флотации',\n",
        "          fontsize=14)\n",
        "plt.xlabel('Количество наблюдений', fontsize=12)\n",
        "plt.ylabel('Значение параметров', fontsize=12)\n",
        "plt.show()"
      ]
    },
    {
      "cell_type": "markdown",
      "metadata": {
        "id": "V2Ysw_Z1BwM-"
      },
      "source": [
        "Также применим метод describe(), чтобы оценить точные значения."
      ]
    },
    {
      "cell_type": "code",
      "execution_count": null,
      "metadata": {
        "id": "QqcYxnj1BwM-",
        "outputId": "44b62818-c839-4b86-c415-4de54ed8a0f4"
      },
      "outputs": [
        {
          "name": "stdout",
          "output_type": "stream",
          "text": [
            "Распределение на этапе флотации:\n",
            "Обучающая выборка:\n",
            "count    13776.000000\n",
            "mean        58.963579\n",
            "std         22.696087\n",
            "min          0.049194\n",
            "25%         47.299008\n",
            "50%         54.424829\n",
            "75%         64.240369\n",
            "max        484.967466\n",
            "Name: rougher.input.feed_size, dtype: float64\n",
            "Тестовая выборка:\n",
            "count    4860.000000\n",
            "mean       59.013537\n",
            "std        19.066986\n",
            "min         0.046369\n",
            "25%        47.613977\n",
            "50%        55.382436\n",
            "75%        66.531930\n",
            "max       363.989699\n",
            "Name: rougher.input.feed_size, dtype: float64\n",
            "\n",
            "Распределение на этапе первичной очистки:\n",
            "Обучающая выборка:\n",
            "count    13776.000000\n",
            "mean         7.311358\n",
            "std          0.620839\n",
            "min          1.080000\n",
            "25%          6.940000\n",
            "50%          7.290000\n",
            "75%          7.690000\n",
            "max         15.500000\n",
            "Name: primary_cleaner.input.feed_size, dtype: float64\n",
            "Тестовая выборка:\n",
            "count    4860.000000\n",
            "mean        7.305514\n",
            "std         0.588602\n",
            "min         4.970000\n",
            "25%         6.940000\n",
            "50%         7.290000\n",
            "75%         7.630000\n",
            "max         9.630000\n",
            "Name: primary_cleaner.input.feed_size, dtype: float64\n"
          ]
        }
      ],
      "source": [
        "print('Распределение на этапе флотации:')\n",
        "print('Обучающая выборка:')\n",
        "print(new_data_train['rougher.input.feed_size'].describe())\n",
        "print('Тестовая выборка:')\n",
        "print(new_data_test['rougher.input.feed_size'].describe())\n",
        "print()"
      ]
    },
    {
      "cell_type": "markdown",
      "metadata": {
        "id": "ZKWtrInDBwM-"
      },
      "source": [
        "Распределения на обоих этапах очистки и для тестовой, и для обучающей выборок примерно одинаковые - значит, оценка моделей будет верная. На этапе флотации размер гранул составляет 58,9-59,1, на этапе первичной очистки он заметно сокращается до 7,3."
      ]
    },
    {
      "cell_type": "markdown",
      "metadata": {
        "id": "skI0RztKBwM_"
      },
      "source": [
        "Н0 - Средний размер гранул исходного сырья на обучающей и тестовой выборках на этапе сырья равен.\n",
        "\n",
        "Н1 - Средний размер гранул исходного сырья на обучающей и тестовой выборках на этапе сырья не равен."
      ]
    },
    {
      "cell_type": "code",
      "execution_count": null,
      "metadata": {
        "scrolled": true,
        "id": "iUJvLRsgBwM_",
        "outputId": "3e67917e-d0c9-49b1-c236-d1707d85dc44"
      },
      "outputs": [
        {
          "name": "stdout",
          "output_type": "stream",
          "text": [
            "Средний размер гранул исходного сырья на обучающей выборке: 58.963578518326024\n",
            "Средний размер гранул исходного сырья на тестовой выборке: 59.013536872697365\n",
            "p-значение: 0.8907891207596019\n",
            "Не получилось отвергнуть нулевую гипотезу\n"
          ]
        }
      ],
      "source": [
        "from scipy import stats as st\n",
        "\n",
        "sample_train = new_data_train['rougher.input.feed_size']\n",
        "sample_test = new_data_test['rougher.input.feed_size']\n",
        "\n",
        "alpha = 0.05\n",
        "\n",
        "results = st.ttest_ind(sample_train, sample_test)\n",
        "\n",
        "print('Средний размер гранул исходного сырья на обучающей выборке:',\n",
        "      new_data_train['rougher.input.feed_size'].mean())\n",
        "print('Средний размер гранул исходного сырья на тестовой выборке:',\n",
        "      new_data_test['rougher.input.feed_size'].mean())\n",
        "print('p-значение:', results.pvalue)\n",
        "\n",
        "if results.pvalue < alpha:\n",
        "    print('Отвергаем нулевую гипотезу')\n",
        "else:\n",
        "    print('Не получилось отвергнуть нулевую гипотезу')"
      ]
    },
    {
      "cell_type": "markdown",
      "metadata": {
        "id": "4gqooZd5BwM_"
      },
      "source": [
        "Как мы видим, средние размеры гранул на обучающей и тестовой выборке практически равны (58.96 и 59.01), поэтому мы придерживаемся нулевой гипотезы."
      ]
    },
    {
      "cell_type": "markdown",
      "metadata": {
        "id": "mGYBAznSBwM_"
      },
      "source": [
        "### Исследуем суммарную концентрацию металлов на разных стадиях: в сырье, в черновом концентрате, в концентрате после первой очистки и в финальном концентрате"
      ]
    },
    {
      "cell_type": "code",
      "execution_count": null,
      "metadata": {
        "id": "jv5qE1MaBwM_",
        "outputId": "f3ddc4e1-14e3-45fe-fb9d-49784bc659e1"
      },
      "outputs": [
        {
          "data": {
            "image/png": "[encoded data removed]",
            "text/plain": [
              "<Figure size 864x720 with 1 Axes>"
            ]
          },
          "metadata": {
            "needs_background": "light"
          },
          "output_type": "display_data"
        }
      ],
      "source": [
        "#построим гистограмму, чтобы посмотреть на суммарную концентрацию металлов на разных стадиях\n",
        "total_input_feed = 0\n",
        "total_rougher_feed = 0\n",
        "total_primary_cleaner_feed = 0\n",
        "total_final_feed = 0\n",
        "\n",
        "for i in ['au', 'ag', 'pb']:\n",
        "    total_input_feed += data_full[f'rougher.input.feed_{i}']\n",
        "    total_rougher_feed += data_full[f'rougher.output.concentrate_{i}']\n",
        "    total_primary_cleaner_feed += data_full[f'primary_cleaner.output.concentrate_{i}']\n",
        "    total_final_feed += data_full[f'final.output.concentrate_{i}']\n",
        "\n",
        "plt.figure(figsize=(12, 10))\n",
        "sns.histplot(total_input_feed,\n",
        "             label='В исходном сырье',\n",
        "            color='r')\n",
        "sns.histplot(total_rougher_feed,\n",
        "             label='В черновом концентрате',\n",
        "            color='y')\n",
        "sns.histplot(total_primary_cleaner_feed,\n",
        "             label='В концентрате после первой очистки',\n",
        "            color='g')\n",
        "sns.histplot(total_final_feed,\n",
        "             label='Финальная концентрация',\n",
        "            color='b')\n",
        "plt.title('Суммарная концентрация металлов на разных стадиях',\n",
        "          fontsize=14)\n",
        "plt.xlabel('Суммарная концентрация, %', fontsize=12)\n",
        "plt.ylabel('Количество наблюдений', fontsize=12)\n",
        "plt.legend()\n",
        "plt.show()"
      ]
    },
    {
      "cell_type": "code",
      "execution_count": null,
      "metadata": {
        "id": "tJvVvi82BwM_",
        "outputId": "be23142e-d7e5-4ae6-e94c-c590b03df068"
      },
      "outputs": [
        {
          "name": "stdout",
          "output_type": "stream",
          "text": [
            "Суммарная концентрация металлов в исходном сырье: 20.744295138139393 %\n",
            "Суммарная концентрация металлов в черновом концентрате: 40.23344966954716 %\n",
            "Суммарная концентрация металлов в концентрате после первой очистки: 51.086237212494886 %\n",
            "Суммарная концентрация металлов в финальном концентрате: 59.5957842638982 %\n"
          ]
        }
      ],
      "source": [
        "print('Суммарная концентрация металлов в исходном сырье:', total_input_feed.mean(),'%')\n",
        "print('Суммарная концентрация металлов в черновом концентрате:', total_rougher_feed.mean(),'%')\n",
        "print('Суммарная концентрация металлов в концентрате после первой очистки:', total_primary_cleaner_feed.mean(),'%')\n",
        "print('Суммарная концентрация металлов в финальном концентрате:', total_final_feed.mean(),'%')"
      ]
    },
    {
      "cell_type": "markdown",
      "metadata": {
        "id": "S2JlS1eVBwM_"
      },
      "source": [
        "На графике видно, что в ходе очистки сырья суммарная концентрация металлов растёт - в исходном сырье она равна 20.7%, а в финальном концентрате она составляет 59.6%."
      ]
    },
    {
      "cell_type": "markdown",
      "metadata": {
        "id": "hGJsUsSZBwM_"
      },
      "source": [
        "**Вывод:** мы провели анализ данных и выяснили, что:\n",
        "- концентрация золота и свинца увеличивается в ходе обработки сырья, а концентрация серебра наоборот снижается. В финальном концентрате концентрация золота составляет 44.33%, свинца - 10.06%, серебра - 5.20%. В ходе построения графиков мы также выяснили, что около нуля были выбросы для всех металлов на всех этапах очистки сырья и удалили эти выбросы;\n",
        "- распределения на этапах флотации и первичной очистки и для тестовой, и для обучающей выборок примерно одинаковые - значит, оценка моделей будет верная. На этапе флотации размер гранул составляет 58,9-59,1, на этапе первичной очистки он заметно сокращается до 7,3;\n",
        "- в ходе очистки сырья суммарная концентрация металлов растёт - в исходном сырье она равна 20.7%, а в финальном концентрате она составляет 59.6%."
      ]
    },
    {
      "cell_type": "markdown",
      "metadata": {
        "id": "EPFJfgnrBwM_"
      },
      "source": [
        "## Модель"
      ]
    },
    {
      "cell_type": "markdown",
      "metadata": {
        "id": "5MefgN0DBwNA"
      },
      "source": [
        "### Напишем функцию для вычисления итоговой sMAPE"
      ]
    },
    {
      "cell_type": "code",
      "execution_count": null,
      "metadata": {
        "id": "EzdWFl_OBwNA"
      },
      "outputs": [],
      "source": [
        "def sMAPE(target, predictions):\n",
        "     return (1/len(target) * sum(abs(target - predictions) / ((abs(target) + abs(predictions)) / 2)) * 100)"
      ]
    },
    {
      "cell_type": "code",
      "execution_count": null,
      "metadata": {
        "id": "GZ2Nnr7DBwNA"
      },
      "outputs": [],
      "source": [
        "#сделаем нашу функцию для вычисления sMAPE методом оценки в кросс-валидации\n",
        "smape_scorer = make_scorer(sMAPE, greater_is_better = False)"
      ]
    },
    {
      "cell_type": "code",
      "execution_count": null,
      "metadata": {
        "id": "sIIwQ8DcBwNA"
      },
      "outputs": [],
      "source": [
        "def final_sMAPE(sMAPE_rougher, sMAPE_final):\n",
        "    return (abs(0.25*sMAPE_rougher + 0.75*sMAPE_final))"
      ]
    },
    {
      "cell_type": "markdown",
      "metadata": {
        "id": "KQOJgIWRBwNA"
      },
      "source": [
        "### Обучим разные модели и оценим их качество кросс-валидацией. Выберем лучшую модель и проверим её на тестовой выборке"
      ]
    },
    {
      "cell_type": "markdown",
      "metadata": {
        "id": "GCD9pOxoBwNA"
      },
      "source": [
        "Для решения этой задачи нам подойдут модели регрессии. Обучим решающее дерево, случайный лес и линейную регрессию. Для начала разделим обучающий и тестовый наборы на признаки и целевые признаки и масштабируем данные."
      ]
    },
    {
      "cell_type": "code",
      "execution_count": null,
      "metadata": {
        "id": "ONg3XFDGBwNA"
      },
      "outputs": [],
      "source": [
        "#делим на признаки и целевые признаки\n",
        "features_train = new_data_train.drop(columns=difference_train_test, axis=1)\n",
        "features_test = new_data_test.drop(columns=['final.output.recovery', 'rougher.output.recovery'], axis=1)\n",
        "\n",
        "target_train_final = new_data_train['final.output.recovery']\n",
        "target_train_rougher = new_data_train['rougher.output.recovery']\n",
        "target_test_final = new_data_test['final.output.recovery']\n",
        "target_test_rougher = new_data_test['rougher.output.recovery']"
      ]
    },
    {
      "cell_type": "code",
      "execution_count": null,
      "metadata": {
        "id": "aJCK-tN4BwNA"
      },
      "outputs": [],
      "source": [
        "#масштабируем данные\n",
        "scaler = StandardScaler()\n",
        "scaler.fit(features_train)\n",
        "features_train = scaler.transform(features_train)\n",
        "features_test = scaler.transform(features_test)\n",
        "pd.options.mode.chained_assignment = None"
      ]
    },
    {
      "cell_type": "markdown",
      "metadata": {
        "id": "F_8TCaeEBwNB"
      },
      "source": [
        "#### Решающее дерево"
      ]
    },
    {
      "cell_type": "code",
      "execution_count": null,
      "metadata": {
        "id": "c_Xw1W5KBwNB",
        "outputId": "72c71120-6632-4f7e-c809-225134620650"
      },
      "outputs": [
        {
          "name": "stdout",
          "output_type": "stream",
          "text": [
            "sMAPE наилучшей модели: 8.148753884892773 Глубина дерева: 10\n"
          ]
        }
      ],
      "source": [
        "#для target_rougher\n",
        "best_model = None\n",
        "best_result = 20\n",
        "best_depth = 0\n",
        "for depth in range(1, 11):\n",
        "    model = DecisionTreeRegressor(random_state=12345, max_depth=depth)\n",
        "    model.fit(features_train, target_train_rougher)\n",
        "    predictions_rougher = model.predict(features_train)\n",
        "    scores = cross_val_score(model, features_train, target_train_rougher, scoring=smape_scorer, n_jobs=-1, cv=5)\n",
        "    final_score_rougher = sum(scores) / len(scores)\n",
        "\n",
        "    if final_score_rougher < best_result:\n",
        "        best_model = model\n",
        "        best_result_rougher_tree = final_score_rougher\n",
        "        best_depth = depth\n",
        "\n",
        "print(\"sMAPE наилучшей модели:\", (best_result_rougher_tree * -1), \"Глубина дерева:\", best_depth)"
      ]
    },
    {
      "cell_type": "code",
      "execution_count": null,
      "metadata": {
        "id": "DufYHBAnBwNB",
        "outputId": "16333eb6-e4b1-4f49-fa4b-b8fe38faf31f"
      },
      "outputs": [
        {
          "name": "stdout",
          "output_type": "stream",
          "text": [
            "sMAPE наилучшей модели: 12.496130499968391 Глубина дерева: 10\n"
          ]
        }
      ],
      "source": [
        "#для target_final\n",
        "best_model = None\n",
        "best_result = 20\n",
        "best_depth = 0\n",
        "for depth in range(1, 11):\n",
        "    model = DecisionTreeRegressor(random_state=12345, max_depth=depth)\n",
        "    model.fit(features_train, target_train_final)\n",
        "    predictions_rougher = model.predict(features_train)\n",
        "    scores = cross_val_score(model, features_train, target_train_final, scoring=smape_scorer, n_jobs=-1, cv=5)\n",
        "    final_score_final = sum(scores) / len(scores)\n",
        "\n",
        "    if final_score_final < best_result:\n",
        "        best_model = model\n",
        "        best_result_final_tree = final_score_final\n",
        "        best_depth = depth\n",
        "\n",
        "print(\"sMAPE наилучшей модели:\", (best_result_final_tree * -1), \"Глубина дерева:\", best_depth)"
      ]
    },
    {
      "cell_type": "code",
      "execution_count": null,
      "metadata": {
        "id": "xWlcd6HFBwNB",
        "outputId": "93fc7794-ce1a-4f0c-eb4e-18eb123b9485"
      },
      "outputs": [
        {
          "name": "stdout",
          "output_type": "stream",
          "text": [
            "Итоговое sMAPE для лучших моделей решающего дерева: 11.409286346199487\n"
          ]
        }
      ],
      "source": [
        "print('Итоговое sMAPE для лучших моделей решающего дерева:',\n",
        "      final_sMAPE(best_result_rougher_tree, best_result_final_tree))"
      ]
    },
    {
      "cell_type": "markdown",
      "metadata": {
        "id": "8_yemDTgBwNB"
      },
      "source": [
        "#### Случайный лес"
      ]
    },
    {
      "cell_type": "code",
      "execution_count": null,
      "metadata": {
        "id": "lBc4PFljBwNB",
        "outputId": "3ef3d20a-08cc-41c7-f0f3-d6f510360e94"
      },
      "outputs": [
        {
          "name": "stdout",
          "output_type": "stream",
          "text": [
            "sMAPE наилучшей модели: 6.871711942605382 Количество деревьев: 19 Максимальная глубина: 19\n"
          ]
        }
      ],
      "source": [
        "#для target_rougher\n",
        "best_model = None\n",
        "best_result = 20\n",
        "best_est = 0\n",
        "best_depth = 0\n",
        "for est in range(1, 20):\n",
        "    for depth in range (1, 20):\n",
        "        model = RandomForestRegressor(random_state=12345, n_estimators=est, max_depth=depth)\n",
        "        model.fit(features_train, target_train_rougher)\n",
        "        predictions_rougher = model.predict(features_train)\n",
        "        scores = cross_val_score(model, features_train, target_train_rougher, scoring=smape_scorer, n_jobs=-1, cv=5)\n",
        "        final_score_rougher = sum(scores) / len(scores)\n",
        "\n",
        "        if final_score_rougher < best_result:\n",
        "            best_model = model\n",
        "            best_result_rougher_forest = final_score_rougher\n",
        "            best_est = est\n",
        "            best_depth = depth\n",
        "\n",
        "print(\"sMAPE наилучшей модели:\", (best_result_rougher_forest * -1), \"Количество деревьев:\", best_est, \"Максимальная глубина:\", depth)"
      ]
    },
    {
      "cell_type": "code",
      "execution_count": null,
      "metadata": {
        "id": "G_Cs-7RLBwNC",
        "outputId": "f9ea5ded-643e-4d77-d9da-dfffce6c8e28"
      },
      "outputs": [
        {
          "name": "stdout",
          "output_type": "stream",
          "text": [
            "sMAPE наилучшей модели: 9.936537599364035 Количество деревьев: 19 Максимальная глубина: 19\n"
          ]
        }
      ],
      "source": [
        "#для target_final\n",
        "best_model = None\n",
        "best_result = 20\n",
        "best_est = 0\n",
        "best_depth = 0\n",
        "for est in range(1, 20):\n",
        "    for depth in range (1, 20):\n",
        "        model = RandomForestRegressor(random_state=12345, n_estimators=est, max_depth=depth)\n",
        "        model.fit(features_train, target_train_final)\n",
        "        predictions_final = model.predict(features_train)\n",
        "        scores = cross_val_score(model, features_train, target_train_final, scoring=smape_scorer, n_jobs=-1, cv=5)\n",
        "        final_score_final = sum(scores) / len(scores)\n",
        "\n",
        "        if final_score_final < best_result:\n",
        "            best_model = model\n",
        "            best_result_final_forest = final_score_final\n",
        "            best_est = est\n",
        "            best_depth = depth\n",
        "\n",
        "print(\"sMAPE наилучшей модели:\", (best_result_final_forest * -1), \"Количество деревьев:\", best_est, \"Максимальная глубина:\", depth)"
      ]
    },
    {
      "cell_type": "code",
      "execution_count": null,
      "metadata": {
        "id": "67xiil_iBwNC",
        "outputId": "5f5c7865-f1be-43ba-d4fe-0ce6dbba725e"
      },
      "outputs": [
        {
          "name": "stdout",
          "output_type": "stream",
          "text": [
            "Итоговое sMAPE для лучших моделей случайного леса: 9.170331185174371\n"
          ]
        }
      ],
      "source": [
        "print('Итоговое sMAPE для лучших моделей случайного леса:',\n",
        "      final_sMAPE(best_result_rougher_forest, best_result_final_forest))"
      ]
    },
    {
      "cell_type": "markdown",
      "metadata": {
        "id": "5iL2fMVLBwNC"
      },
      "source": [
        "#### Линейная регрессия"
      ]
    },
    {
      "cell_type": "code",
      "execution_count": null,
      "metadata": {
        "id": "rCYPbKUSBwNC",
        "outputId": "10573dbe-8327-4ecb-db8c-1fe2a26f2f92"
      },
      "outputs": [
        {
          "name": "stdout",
          "output_type": "stream",
          "text": [
            "sMAPE наилучшей модели: 7.089378727056344\n"
          ]
        }
      ],
      "source": [
        "#для target_rougher\n",
        "model = LinearRegression()\n",
        "model.fit(features_train, target_train_rougher)\n",
        "predictions_rougher = model.predict(features_train)\n",
        "scores = cross_val_score(model, features_train, target_train_rougher, scoring=smape_scorer, n_jobs=-1, cv=5)\n",
        "final_score_rougher_regr = sum(scores) / len(scores)\n",
        "print(\"sMAPE наилучшей модели:\", (final_score_rougher_regr * -1))"
      ]
    },
    {
      "cell_type": "code",
      "execution_count": null,
      "metadata": {
        "id": "r0_U5vp0BwNC",
        "outputId": "c984e792-8006-4e69-be20-eeb319e59a30"
      },
      "outputs": [
        {
          "name": "stdout",
          "output_type": "stream",
          "text": [
            "sMAPE наилучшей модели: 9.35398605557782\n"
          ]
        }
      ],
      "source": [
        "#для target_final\n",
        "model = LinearRegression()\n",
        "model.fit(features_train, target_train_final)\n",
        "predictions_final = model.predict(features_train)\n",
        "scores = cross_val_score(model, features_train, target_train_final, scoring=smape_scorer, n_jobs=-1, cv=5)\n",
        "final_score_final_regr = sum(scores) / len(scores)\n",
        "print(\"sMAPE наилучшей модели:\", (final_score_final_regr * -1))"
      ]
    },
    {
      "cell_type": "code",
      "execution_count": null,
      "metadata": {
        "scrolled": true,
        "id": "oF90Z704BwND",
        "outputId": "2905eded-fb48-4d7f-8c09-c4249cf98d80"
      },
      "outputs": [
        {
          "name": "stdout",
          "output_type": "stream",
          "text": [
            "Итоговое sMAPE для лучших моделей линейной регрессии: 8.787834223447451\n"
          ]
        }
      ],
      "source": [
        "print('Итоговое sMAPE для лучших моделей линейной регрессии:',\n",
        "      final_sMAPE(final_score_rougher_regr, final_score_final_regr))"
      ]
    },
    {
      "cell_type": "markdown",
      "metadata": {
        "id": "n1Vt1wMwBwND"
      },
      "source": [
        "Мы построили модели решающего дерева, случайного леса и линейной регрессии; перебрали гиперпараметры, чтобы найти наилучшие; расчитали итоговое sMAPE для лучших моделей. Для решающего дерева итоговое sMAPE составляет 11.409286346199487, для случайного леса -  9.170331185174371, для линейной регрессии 8.787834223447451. Так как самое низкое значение sMAPE оказалось у модели линейной регрессии, выберем её для проверки на тестовой выборке."
      ]
    },
    {
      "cell_type": "markdown",
      "metadata": {
        "id": "T2kyDMlJBwND"
      },
      "source": [
        "### Проверка лучшей модели на тестовой выборке"
      ]
    },
    {
      "cell_type": "markdown",
      "metadata": {
        "id": "6P26qXtEBwND"
      },
      "source": [
        "#### Проверка модели линейной регрессии"
      ]
    },
    {
      "cell_type": "code",
      "execution_count": null,
      "metadata": {
        "id": "DmAvsdYZBwND",
        "outputId": "74f23a47-f37c-45eb-c066-38d419e389c0"
      },
      "outputs": [
        {
          "name": "stdout",
          "output_type": "stream",
          "text": [
            "sMAPE для target_rougher: 8.497708441132657\n"
          ]
        }
      ],
      "source": [
        "#для target_rougher\n",
        "best_model_rougher = LinearRegression()\n",
        "best_model_rougher.fit(features_train, target_train_rougher)\n",
        "predictions_rougher = best_model_rougher.predict(features_test)\n",
        "smape_rougher = sMAPE(target_test_rougher, predictions_rougher)\n",
        "print(\"sMAPE для target_rougher:\", smape_rougher)"
      ]
    },
    {
      "cell_type": "code",
      "execution_count": null,
      "metadata": {
        "id": "Uds8687aBwND",
        "outputId": "a6a6f48c-18b5-4baa-dc94-dfd61630b9e0"
      },
      "outputs": [
        {
          "name": "stdout",
          "output_type": "stream",
          "text": [
            "sMAPE для target_final: 12.845355745213341\n"
          ]
        }
      ],
      "source": [
        "#для target_final\n",
        "best_model_final = LinearRegression()\n",
        "best_model_final.fit(features_train, target_train_final)\n",
        "predictions_final = best_model_final.predict(features_test)\n",
        "smape_final = sMAPE(target_test_final, predictions_final)\n",
        "print(\"sMAPE для target_final:\", smape_final)"
      ]
    },
    {
      "cell_type": "code",
      "execution_count": null,
      "metadata": {
        "id": "nPTHYny5BwND",
        "outputId": "c00d0cab-8e38-4957-8f19-4c54020d7a4b"
      },
      "outputs": [
        {
          "name": "stdout",
          "output_type": "stream",
          "text": [
            "Итоговое sMAPE на тестовой модели: 11.758443919193171\n"
          ]
        }
      ],
      "source": [
        "print(\"Итоговое sMAPE на тестовой модели:\", final_sMAPE(smape_rougher, smape_final))"
      ]
    },
    {
      "cell_type": "markdown",
      "metadata": {
        "id": "NqvKoe2ABwND"
      },
      "source": [
        "#### Сравнение с константной моделью"
      ]
    },
    {
      "cell_type": "code",
      "execution_count": null,
      "metadata": {
        "id": "Mz-0H7fCBwNE",
        "outputId": "6556772b-89d5-4704-f24f-eded3c783c8c"
      },
      "outputs": [
        {
          "name": "stdout",
          "output_type": "stream",
          "text": [
            "sMAPE для dummy_rougher: 6.083704626702525\n"
          ]
        }
      ],
      "source": [
        "dummy_regr = DummyRegressor(strategy=\"mean\")\n",
        "dummy_regr.fit(features_train, target_train_rougher)\n",
        "dummy_predictions_rougher = dummy_regr.predict(features_test)\n",
        "dummy_smape_rougher = sMAPE(target_test_rougher, dummy_predictions_rougher)\n",
        "print(\"sMAPE для dummy_rougher:\", dummy_smape_rougher)"
      ]
    },
    {
      "cell_type": "code",
      "execution_count": null,
      "metadata": {
        "id": "oJIZSQjABwNE",
        "outputId": "108853cd-6539-4f9c-ea0a-f64dcfbadb6b"
      },
      "outputs": [
        {
          "name": "stdout",
          "output_type": "stream",
          "text": [
            "sMAPE для dummy_final: 9.250722612614945\n"
          ]
        }
      ],
      "source": [
        "dummy_regr.fit(features_train, target_train_final)\n",
        "dummy_predictions_final = dummy_regr.predict(features_test)\n",
        "dummy_smape_final = sMAPE(target_test_final, dummy_predictions_final)\n",
        "print(\"sMAPE для dummy_final:\", dummy_smape_final)"
      ]
    },
    {
      "cell_type": "code",
      "execution_count": null,
      "metadata": {
        "id": "L6Ssjp8aBwNE",
        "outputId": "20ed61c8-56f7-4b67-ced6-dcadd2ca3e42"
      },
      "outputs": [
        {
          "name": "stdout",
          "output_type": "stream",
          "text": [
            "Итоговое sMAPE на dummy модели: 8.458968116136841\n"
          ]
        }
      ],
      "source": [
        "print(\"Итоговое sMAPE на dummy модели:\", final_sMAPE(dummy_smape_rougher, dummy_smape_final))"
      ]
    },
    {
      "cell_type": "markdown",
      "metadata": {
        "id": "9xlOylY7BwNE"
      },
      "source": [
        "Итоговое sMAPE на константной модели оказывается ниже, чем на лучшей модели линейной регрессии - значит, она нам не подходит. Попробуем проверить вторую по значению итогового sMAPE модель - модель случайного леса с количеством деревьев и глубиной, равными 19."
      ]
    },
    {
      "cell_type": "markdown",
      "metadata": {
        "id": "qD0aOiBTBwNE"
      },
      "source": [
        "#### Проверка модели случайного леса"
      ]
    },
    {
      "cell_type": "code",
      "execution_count": null,
      "metadata": {
        "id": "_6OgVaMIBwNE",
        "outputId": "ad487369-ac90-4917-9c75-c7a7a06166a7"
      },
      "outputs": [
        {
          "name": "stdout",
          "output_type": "stream",
          "text": [
            "sMAPE для target_rougher: 2.743582340367566\n"
          ]
        }
      ],
      "source": [
        "best_model_forest_rougher = RandomForestRegressor(random_state=12345, n_estimators=19, max_depth=19)\n",
        "best_model_forest_rougher.fit(features_train, target_train_rougher)\n",
        "predictions_forest_rougher = best_model_forest_rougher.predict(features_test)\n",
        "smape_forest_rougher = sMAPE(target_test_rougher, predictions_forest_rougher)\n",
        "print(\"sMAPE для target_rougher:\", smape_forest_rougher)"
      ]
    },
    {
      "cell_type": "code",
      "execution_count": null,
      "metadata": {
        "id": "TRCLBUDsBwNE",
        "outputId": "c9302032-24da-497e-cbee-a2f05fd1a168"
      },
      "outputs": [
        {
          "name": "stdout",
          "output_type": "stream",
          "text": [
            "sMAPE для target_rougher: 6.46209741435466\n"
          ]
        }
      ],
      "source": [
        "best_model_forest_final = RandomForestRegressor(random_state=12345, n_estimators=19, max_depth=19)\n",
        "best_model_forest_final.fit(features_train, target_train_final)\n",
        "predictions_forest_final = best_model_forest_final.predict(features_test)\n",
        "smape_forest_final = sMAPE(target_test_final, predictions_forest_final)\n",
        "print(\"sMAPE для target_rougher:\", smape_forest_final)"
      ]
    },
    {
      "cell_type": "code",
      "execution_count": null,
      "metadata": {
        "id": "xVY0NtaDBwNE",
        "outputId": "d4fcbbdb-4ca6-4ee0-f121-3d7913b9b5ef"
      },
      "outputs": [
        {
          "name": "stdout",
          "output_type": "stream",
          "text": [
            "Итоговое sMAPE на тестовой модели: 5.532468645857887\n"
          ]
        }
      ],
      "source": [
        "print(\"Итоговое sMAPE на тестовой модели:\", final_sMAPE(smape_forest_rougher, smape_forest_final))"
      ]
    },
    {
      "cell_type": "markdown",
      "metadata": {
        "id": "P_J77YT6BwNE"
      },
      "source": [
        "Итоговое sMAPE на тестовой модели случайного леса составляет 5.532468645857887 - этот результат ниже, чем на константной модели. Значит, в качестве лучшей модели следует выбрать модель случайного леса с количеством деревьев и глубиной, равными 19."
      ]
    },
    {
      "cell_type": "markdown",
      "metadata": {
        "id": "Zi_IksHtBwNF"
      },
      "source": [
        "## Вывод"
      ]
    },
    {
      "cell_type": "markdown",
      "metadata": {
        "id": "d7NAFgFkBwNF"
      },
      "source": [
        "Мы провели исследование для «Цифры» и подготовили модель, которая должна предсказать коэффициент восстановления золота из золотосодержащей руды.\n",
        "\n",
        "Мы проделали следующее:\n",
        "1) Подготовка данных:     \n",
        "   - мы ознакомились с данными;\n",
        "   - проверили, что эффективность обогащения рассчитана правильно: MAE между нашими расчётами и значением признака rougher.output.recovery составляет .83758577644259e-15;\n",
        "   - выяснили, что в тестовом наборе данных отсутсвуют такие признаки, как доли металлов в черновом и финальном концентрате, \"отвальные хвосты\", доли металлов после первичной и вторичной очистки, расчётные характеристики сульфата к золоту в флотационной установке и соотношения золота и свинца в сырье. То есть, они относятся к расчётным характеристикам и параметрам продукта. Согласно описанию задачи, некоторые параметры недоступны, потому что замеряются и/или рассчитываются значительно позже;\n",
        "   - провели предобработку данных: поменяли тип данных в столбце data с object (текстовый) на специальный datetime, добавили целевые признаки в тестовую выборку, заполнили пропуски с помощью KNNImpute и сразу удалили столбец date, который может запутать модель, а также убедились в отсутствии дубликатов.\n",
        "2) Анализ данных: мы провели анализ данных и выяснили, что:\n",
        "   - концентрация золота и свинца увеличивается в ходе обработки сырья, а концентрация серебра наоборот снижается. В финальном концентрате концентрация золота составляет 44.33%, свинца - 10.06%, серебра - 5.20%. В ходе построения графиков мы также выяснили, что около нуля были выбросы для всех металлов на всех этапах очистки сырья и удалили эти выбросы;\n",
        "   - распределения на этапах флотации и первичной очистки и для тестовой, и для обучающей выборок примерно одинаковые - значит, оценка моделей будет верная. На этапе флотации размер гранул составляет 58,9-59,1, на этапе первичной очистки он заметно сокращается до 7,3;\n",
        "   - в ходе очистки сырья суммарная концентрация металлов растёт - в исходном сырье она равна 20.7%, а в финальном концентрате она составляет 59.6%.\n",
        "3) Модели:\n",
        "   - мы построили модели решающего дерева, случайного леса и линейной регрессии; перебрали гиперпараметры, чтобы найти наилучшие; расчитали итоговое sMAPE для лучших моделей. Для решающего дерева итоговое sMAPE составляет 11.409286346199487, для случайного леса - 9.170331185174371, для линейной регрессии 8.787834223447451. Так как самое низкое значение sMAPE оказалось у модели линейной регрессии, мы выбрали её для проверки на тестовой выборке.\n",
        "   - мы проверили лучшую модель линейной регрессии и получили итоговое значение sMAPE 11.758443919193171. Мы сравнили качество лучшей модели на тестовой выборке с итоговым значением sMAPE на константной модели (8.458968116136841) и выяснили, что модель линейной регрессии нам не подходит, так как её качество хуже, чем у константной. Далее мы проверили вторую по значению итогового sMAPE модель - модель случайного леса с количеством деревьев и глубиной, равными 19, и на тестовой модели итоговое sMAPE получилось 5.532468645857887. Это значение ниже, чем у константной модели - следовательно, эта модель прошла проверку на адекватность.\n",
        "   \n",
        "**Итого: мы выбрали модель случайного леса с количеством деревьев и глубиной, равными 19, в качестве лучшей. Итоговое sMAPE на тестовой модели составляет 5.532468645857887.**"
      ]
    }
  ],
  "metadata": {
    "ExecuteTimeLog": [
      {
        "duration": 376,
        "start_time": "2023-08-10T18:13:20.211Z"
      },
      {
        "duration": 2331,
        "start_time": "2023-08-10T18:14:56.107Z"
      },
      {
        "duration": 22,
        "start_time": "2023-08-10T18:21:32.676Z"
      },
      {
        "duration": 16,
        "start_time": "2023-08-10T18:21:57.715Z"
      },
      {
        "duration": 17,
        "start_time": "2023-08-10T18:22:18.196Z"
      },
      {
        "duration": 18,
        "start_time": "2023-08-10T18:26:24.424Z"
      },
      {
        "duration": 11,
        "start_time": "2023-08-10T18:26:50.113Z"
      },
      {
        "duration": 16,
        "start_time": "2023-08-10T18:27:13.914Z"
      },
      {
        "duration": 650,
        "start_time": "2023-08-10T18:49:21.592Z"
      },
      {
        "duration": 90,
        "start_time": "2023-08-10T18:50:21.636Z"
      },
      {
        "duration": 14,
        "start_time": "2023-08-10T18:50:28.512Z"
      },
      {
        "duration": 14,
        "start_time": "2023-08-10T18:51:54.448Z"
      },
      {
        "duration": 6,
        "start_time": "2023-08-10T18:52:25.440Z"
      },
      {
        "duration": 5,
        "start_time": "2023-08-10T18:53:54.250Z"
      },
      {
        "duration": 14,
        "start_time": "2023-08-10T18:53:58.384Z"
      },
      {
        "duration": 20,
        "start_time": "2023-08-10T18:55:20.607Z"
      },
      {
        "duration": 20,
        "start_time": "2023-08-10T18:55:52.106Z"
      },
      {
        "duration": 20,
        "start_time": "2023-08-10T18:56:15.051Z"
      },
      {
        "duration": 27,
        "start_time": "2023-08-10T18:58:03.102Z"
      },
      {
        "duration": 19,
        "start_time": "2023-08-10T19:00:16.987Z"
      },
      {
        "duration": 20,
        "start_time": "2023-08-10T19:00:42.019Z"
      },
      {
        "duration": 1090,
        "start_time": "2023-08-12T11:43:35.748Z"
      },
      {
        "duration": 3095,
        "start_time": "2023-08-12T11:43:36.840Z"
      },
      {
        "duration": 25,
        "start_time": "2023-08-12T11:43:39.937Z"
      },
      {
        "duration": 18,
        "start_time": "2023-08-12T11:43:39.963Z"
      },
      {
        "duration": 25,
        "start_time": "2023-08-12T11:43:39.982Z"
      },
      {
        "duration": 18,
        "start_time": "2023-08-12T11:43:40.009Z"
      },
      {
        "duration": 11,
        "start_time": "2023-08-12T11:43:40.029Z"
      },
      {
        "duration": 38,
        "start_time": "2023-08-12T11:43:40.041Z"
      },
      {
        "duration": 117,
        "start_time": "2023-08-12T11:43:40.080Z"
      },
      {
        "duration": 14,
        "start_time": "2023-08-12T11:45:10.517Z"
      },
      {
        "duration": 32,
        "start_time": "2023-08-12T11:48:10.049Z"
      },
      {
        "duration": 24,
        "start_time": "2023-08-12T11:49:17.038Z"
      },
      {
        "duration": 32,
        "start_time": "2023-08-12T11:49:37.196Z"
      },
      {
        "duration": 16,
        "start_time": "2023-08-12T11:53:43.967Z"
      },
      {
        "duration": 3,
        "start_time": "2023-08-12T11:54:05.920Z"
      },
      {
        "duration": 808,
        "start_time": "2023-08-12T11:54:05.926Z"
      },
      {
        "duration": 19,
        "start_time": "2023-08-12T11:54:06.735Z"
      },
      {
        "duration": 25,
        "start_time": "2023-08-12T11:54:06.756Z"
      },
      {
        "duration": 49,
        "start_time": "2023-08-12T11:54:06.783Z"
      },
      {
        "duration": 23,
        "start_time": "2023-08-12T11:54:06.833Z"
      },
      {
        "duration": 11,
        "start_time": "2023-08-12T11:54:06.858Z"
      },
      {
        "duration": 15,
        "start_time": "2023-08-12T11:54:06.871Z"
      },
      {
        "duration": 2,
        "start_time": "2023-08-12T11:54:06.888Z"
      },
      {
        "duration": 4,
        "start_time": "2023-08-12T11:55:57.275Z"
      },
      {
        "duration": 230,
        "start_time": "2023-08-12T11:55:58.869Z"
      },
      {
        "duration": 10,
        "start_time": "2023-08-12T11:56:00.229Z"
      },
      {
        "duration": 10,
        "start_time": "2023-08-12T11:58:21.260Z"
      },
      {
        "duration": 4,
        "start_time": "2023-08-12T12:06:55.677Z"
      },
      {
        "duration": 4,
        "start_time": "2023-08-12T12:07:44.216Z"
      },
      {
        "duration": 9,
        "start_time": "2023-08-12T13:11:18.416Z"
      },
      {
        "duration": 10,
        "start_time": "2023-08-12T13:11:58.693Z"
      },
      {
        "duration": 2391,
        "start_time": "2023-08-12T13:12:50.888Z"
      },
      {
        "duration": 1932,
        "start_time": "2023-08-12T13:13:01.174Z"
      },
      {
        "duration": 2002,
        "start_time": "2023-08-12T13:13:14.696Z"
      },
      {
        "duration": 60,
        "start_time": "2023-08-12T13:16:23.866Z"
      },
      {
        "duration": 86,
        "start_time": "2023-08-12T13:16:39.021Z"
      },
      {
        "duration": 72,
        "start_time": "2023-08-12T13:17:01.884Z"
      },
      {
        "duration": 67,
        "start_time": "2023-08-12T13:17:46.960Z"
      },
      {
        "duration": 3,
        "start_time": "2023-08-12T13:18:06.491Z"
      },
      {
        "duration": 5,
        "start_time": "2023-08-12T13:18:15.834Z"
      },
      {
        "duration": 4,
        "start_time": "2023-08-12T13:19:21.305Z"
      },
      {
        "duration": 530,
        "start_time": "2023-08-12T13:19:41.597Z"
      },
      {
        "duration": 3,
        "start_time": "2023-08-12T13:20:47.747Z"
      },
      {
        "duration": 481,
        "start_time": "2023-08-12T13:20:48.654Z"
      },
      {
        "duration": 4,
        "start_time": "2023-08-12T13:22:13.935Z"
      },
      {
        "duration": 499,
        "start_time": "2023-08-12T13:22:14.897Z"
      },
      {
        "duration": 3,
        "start_time": "2023-08-12T13:22:58.206Z"
      },
      {
        "duration": 494,
        "start_time": "2023-08-12T13:22:58.682Z"
      },
      {
        "duration": 4,
        "start_time": "2023-08-12T13:23:17.424Z"
      },
      {
        "duration": 638,
        "start_time": "2023-08-12T13:23:17.898Z"
      },
      {
        "duration": 850,
        "start_time": "2023-08-12T13:24:12.334Z"
      },
      {
        "duration": 35,
        "start_time": "2023-08-12T13:32:03.864Z"
      },
      {
        "duration": 3,
        "start_time": "2023-08-12T13:33:09.600Z"
      },
      {
        "duration": 9,
        "start_time": "2023-08-12T13:33:19.632Z"
      },
      {
        "duration": 4,
        "start_time": "2023-08-12T13:36:04.762Z"
      },
      {
        "duration": 536,
        "start_time": "2023-08-12T13:36:36.492Z"
      },
      {
        "duration": 16,
        "start_time": "2023-08-12T13:37:33.472Z"
      },
      {
        "duration": 735,
        "start_time": "2023-08-12T13:38:00.765Z"
      },
      {
        "duration": 8,
        "start_time": "2023-08-12T13:38:32.410Z"
      },
      {
        "duration": 1202,
        "start_time": "2023-08-12T15:27:43.154Z"
      },
      {
        "duration": 3952,
        "start_time": "2023-08-12T15:27:44.358Z"
      },
      {
        "duration": 69,
        "start_time": "2023-08-12T15:27:48.312Z"
      },
      {
        "duration": 51,
        "start_time": "2023-08-12T15:27:48.382Z"
      },
      {
        "duration": 71,
        "start_time": "2023-08-12T15:27:48.436Z"
      },
      {
        "duration": 20,
        "start_time": "2023-08-12T15:27:48.508Z"
      },
      {
        "duration": 13,
        "start_time": "2023-08-12T15:27:48.530Z"
      },
      {
        "duration": 51,
        "start_time": "2023-08-12T15:27:48.544Z"
      },
      {
        "duration": 5,
        "start_time": "2023-08-12T15:27:48.598Z"
      },
      {
        "duration": 315,
        "start_time": "2023-08-12T15:27:48.609Z"
      },
      {
        "duration": 12,
        "start_time": "2023-08-12T15:27:48.926Z"
      },
      {
        "duration": 4,
        "start_time": "2023-08-12T15:27:48.940Z"
      },
      {
        "duration": 5,
        "start_time": "2023-08-12T15:27:48.946Z"
      },
      {
        "duration": 1109,
        "start_time": "2023-08-12T15:27:48.954Z"
      },
      {
        "duration": 14,
        "start_time": "2023-08-12T15:27:50.066Z"
      },
      {
        "duration": 1006,
        "start_time": "2023-08-12T15:27:50.082Z"
      },
      {
        "duration": 11,
        "start_time": "2023-08-12T15:27:51.090Z"
      },
      {
        "duration": 235,
        "start_time": "2023-08-12T15:33:08.052Z"
      },
      {
        "duration": 20,
        "start_time": "2023-08-12T15:34:56.162Z"
      },
      {
        "duration": 7913,
        "start_time": "2023-08-12T15:36:52.705Z"
      },
      {
        "duration": 9,
        "start_time": "2023-08-12T15:37:41.834Z"
      },
      {
        "duration": 10254,
        "start_time": "2023-08-12T15:43:58.955Z"
      },
      {
        "duration": 82,
        "start_time": "2023-08-12T15:44:41.145Z"
      },
      {
        "duration": 8161,
        "start_time": "2023-08-12T15:44:53.242Z"
      },
      {
        "duration": 7668,
        "start_time": "2023-08-12T15:45:44.240Z"
      },
      {
        "duration": 9,
        "start_time": "2023-08-12T15:46:06.687Z"
      },
      {
        "duration": 8,
        "start_time": "2023-08-12T15:49:57.231Z"
      },
      {
        "duration": 364,
        "start_time": "2023-08-12T15:51:29.731Z"
      },
      {
        "duration": 7,
        "start_time": "2023-08-12T15:51:55.252Z"
      },
      {
        "duration": 138,
        "start_time": "2023-08-12T15:57:23.713Z"
      },
      {
        "duration": 28,
        "start_time": "2023-08-12T15:57:43.856Z"
      },
      {
        "duration": 12,
        "start_time": "2023-08-12T16:13:36.218Z"
      },
      {
        "duration": 12,
        "start_time": "2023-08-12T16:16:48.587Z"
      },
      {
        "duration": 4,
        "start_time": "2023-08-12T16:16:53.091Z"
      },
      {
        "duration": 573,
        "start_time": "2023-08-12T16:16:55.238Z"
      },
      {
        "duration": 9,
        "start_time": "2023-08-12T16:17:20.001Z"
      },
      {
        "duration": 756,
        "start_time": "2023-08-12T16:17:32.388Z"
      },
      {
        "duration": 7,
        "start_time": "2023-08-12T16:17:38.114Z"
      },
      {
        "duration": 7429,
        "start_time": "2023-08-12T16:18:09.185Z"
      },
      {
        "duration": 8,
        "start_time": "2023-08-12T16:18:18.054Z"
      },
      {
        "duration": 354,
        "start_time": "2023-08-12T16:18:22.434Z"
      },
      {
        "duration": 7,
        "start_time": "2023-08-12T16:18:28.846Z"
      },
      {
        "duration": 121,
        "start_time": "2023-08-12T16:18:34.270Z"
      },
      {
        "duration": 24,
        "start_time": "2023-08-12T16:18:34.991Z"
      },
      {
        "duration": 3,
        "start_time": "2023-08-12T16:20:17.276Z"
      },
      {
        "duration": 669,
        "start_time": "2023-08-12T16:20:17.280Z"
      },
      {
        "duration": 53,
        "start_time": "2023-08-12T16:20:17.950Z"
      },
      {
        "duration": 38,
        "start_time": "2023-08-12T16:20:18.005Z"
      },
      {
        "duration": 73,
        "start_time": "2023-08-12T16:20:18.045Z"
      },
      {
        "duration": 15,
        "start_time": "2023-08-12T16:20:18.120Z"
      },
      {
        "duration": 10,
        "start_time": "2023-08-12T16:20:18.137Z"
      },
      {
        "duration": 35,
        "start_time": "2023-08-12T16:20:18.148Z"
      },
      {
        "duration": 3,
        "start_time": "2023-08-12T16:20:18.186Z"
      },
      {
        "duration": 231,
        "start_time": "2023-08-12T16:20:18.190Z"
      },
      {
        "duration": 9,
        "start_time": "2023-08-12T16:20:18.422Z"
      },
      {
        "duration": 10,
        "start_time": "2023-08-12T16:20:18.432Z"
      },
      {
        "duration": 12,
        "start_time": "2023-08-12T16:20:18.443Z"
      },
      {
        "duration": 18,
        "start_time": "2023-08-12T16:20:18.457Z"
      },
      {
        "duration": 3,
        "start_time": "2023-08-12T16:20:18.476Z"
      },
      {
        "duration": 448,
        "start_time": "2023-08-12T16:20:18.481Z"
      },
      {
        "duration": 10,
        "start_time": "2023-08-12T16:20:18.930Z"
      },
      {
        "duration": 714,
        "start_time": "2023-08-12T16:20:18.941Z"
      },
      {
        "duration": 6,
        "start_time": "2023-08-12T16:20:19.657Z"
      },
      {
        "duration": 7087,
        "start_time": "2023-08-12T16:20:19.674Z"
      },
      {
        "duration": 7,
        "start_time": "2023-08-12T16:20:26.763Z"
      },
      {
        "duration": 415,
        "start_time": "2023-08-12T16:20:26.774Z"
      },
      {
        "duration": 6,
        "start_time": "2023-08-12T16:20:27.190Z"
      },
      {
        "duration": 123,
        "start_time": "2023-08-12T16:20:27.199Z"
      },
      {
        "duration": 20,
        "start_time": "2023-08-12T16:20:27.323Z"
      },
      {
        "duration": 53,
        "start_time": "2023-08-12T16:33:52.788Z"
      },
      {
        "duration": 485,
        "start_time": "2023-08-12T16:35:38.180Z"
      },
      {
        "duration": 563,
        "start_time": "2023-08-12T16:37:41.115Z"
      },
      {
        "duration": 500,
        "start_time": "2023-08-12T16:39:05.728Z"
      },
      {
        "duration": 968,
        "start_time": "2023-08-12T16:40:23.187Z"
      },
      {
        "duration": 657,
        "start_time": "2023-08-12T16:50:21.371Z"
      },
      {
        "duration": 10,
        "start_time": "2023-08-12T17:06:57.399Z"
      },
      {
        "duration": 384,
        "start_time": "2023-08-12T17:25:43.708Z"
      },
      {
        "duration": 361,
        "start_time": "2023-08-12T17:26:01.436Z"
      },
      {
        "duration": 342,
        "start_time": "2023-08-12T17:27:24.458Z"
      },
      {
        "duration": 15,
        "start_time": "2023-08-12T17:32:47.896Z"
      },
      {
        "duration": 27,
        "start_time": "2023-08-12T17:33:03.957Z"
      },
      {
        "duration": 1565,
        "start_time": "2023-08-13T10:27:12.406Z"
      },
      {
        "duration": 3115,
        "start_time": "2023-08-13T10:27:13.974Z"
      },
      {
        "duration": 62,
        "start_time": "2023-08-13T10:27:17.091Z"
      },
      {
        "duration": 39,
        "start_time": "2023-08-13T10:27:17.155Z"
      },
      {
        "duration": 76,
        "start_time": "2023-08-13T10:27:17.197Z"
      },
      {
        "duration": 18,
        "start_time": "2023-08-13T10:27:17.275Z"
      },
      {
        "duration": 19,
        "start_time": "2023-08-13T10:27:17.295Z"
      },
      {
        "duration": 45,
        "start_time": "2023-08-13T10:27:17.316Z"
      },
      {
        "duration": 5,
        "start_time": "2023-08-13T10:27:17.363Z"
      },
      {
        "duration": 268,
        "start_time": "2023-08-13T10:27:17.370Z"
      },
      {
        "duration": 21,
        "start_time": "2023-08-13T10:27:17.640Z"
      },
      {
        "duration": 4,
        "start_time": "2023-08-13T10:27:17.663Z"
      },
      {
        "duration": 36,
        "start_time": "2023-08-13T10:27:17.668Z"
      },
      {
        "duration": 8,
        "start_time": "2023-08-13T10:27:17.707Z"
      },
      {
        "duration": 5,
        "start_time": "2023-08-13T10:27:17.717Z"
      },
      {
        "duration": 533,
        "start_time": "2023-08-13T10:27:17.724Z"
      },
      {
        "duration": 10,
        "start_time": "2023-08-13T10:27:18.259Z"
      },
      {
        "duration": 926,
        "start_time": "2023-08-13T10:27:18.270Z"
      },
      {
        "duration": 8,
        "start_time": "2023-08-13T10:27:19.198Z"
      },
      {
        "duration": 9872,
        "start_time": "2023-08-13T10:27:19.208Z"
      },
      {
        "duration": 11,
        "start_time": "2023-08-13T10:27:29.082Z"
      },
      {
        "duration": 509,
        "start_time": "2023-08-13T10:27:29.095Z"
      },
      {
        "duration": 6,
        "start_time": "2023-08-13T10:27:29.606Z"
      },
      {
        "duration": 130,
        "start_time": "2023-08-13T10:27:29.614Z"
      },
      {
        "duration": 31,
        "start_time": "2023-08-13T10:27:29.745Z"
      },
      {
        "duration": 511,
        "start_time": "2023-08-13T10:27:29.778Z"
      },
      {
        "duration": 875,
        "start_time": "2023-08-13T10:27:30.291Z"
      },
      {
        "duration": 789,
        "start_time": "2023-08-13T10:27:31.168Z"
      },
      {
        "duration": 11,
        "start_time": "2023-08-13T10:27:31.959Z"
      },
      {
        "duration": 444,
        "start_time": "2023-08-13T10:27:31.972Z"
      },
      {
        "duration": 388,
        "start_time": "2023-08-13T10:27:32.418Z"
      },
      {
        "duration": 18,
        "start_time": "2023-08-13T10:27:32.808Z"
      },
      {
        "duration": 132,
        "start_time": "2023-08-13T10:38:30.082Z"
      },
      {
        "duration": 35,
        "start_time": "2023-08-13T10:38:51.496Z"
      },
      {
        "duration": 38,
        "start_time": "2023-08-13T10:41:42.412Z"
      },
      {
        "duration": 1641,
        "start_time": "2023-08-13T10:50:50.358Z"
      },
      {
        "duration": 1636,
        "start_time": "2023-08-13T10:51:03.030Z"
      },
      {
        "duration": 1668,
        "start_time": "2023-08-13T10:51:12.659Z"
      },
      {
        "duration": 384,
        "start_time": "2023-08-13T10:54:14.374Z"
      },
      {
        "duration": 1695,
        "start_time": "2023-08-13T10:55:05.928Z"
      },
      {
        "duration": 1811,
        "start_time": "2023-08-13T10:55:23.821Z"
      },
      {
        "duration": 11,
        "start_time": "2023-08-13T11:01:47.242Z"
      },
      {
        "duration": 62,
        "start_time": "2023-08-13T11:04:29.365Z"
      },
      {
        "duration": 63,
        "start_time": "2023-08-13T11:07:13.425Z"
      },
      {
        "duration": 667,
        "start_time": "2023-08-13T11:08:34.981Z"
      },
      {
        "duration": 821,
        "start_time": "2023-08-13T11:09:30.084Z"
      },
      {
        "duration": 651,
        "start_time": "2023-08-13T11:10:23.122Z"
      },
      {
        "duration": 12,
        "start_time": "2023-08-13T11:11:08.318Z"
      },
      {
        "duration": 573,
        "start_time": "2023-08-13T11:11:57.097Z"
      },
      {
        "duration": 401,
        "start_time": "2023-08-13T11:12:01.828Z"
      },
      {
        "duration": 21,
        "start_time": "2023-08-13T11:12:06.219Z"
      },
      {
        "duration": 4,
        "start_time": "2023-08-13T11:12:11.055Z"
      },
      {
        "duration": 749,
        "start_time": "2023-08-13T11:12:11.061Z"
      },
      {
        "duration": 67,
        "start_time": "2023-08-13T11:12:11.812Z"
      },
      {
        "duration": 39,
        "start_time": "2023-08-13T11:12:11.881Z"
      },
      {
        "duration": 76,
        "start_time": "2023-08-13T11:12:11.922Z"
      },
      {
        "duration": 23,
        "start_time": "2023-08-13T11:12:12.000Z"
      },
      {
        "duration": 12,
        "start_time": "2023-08-13T11:12:12.025Z"
      },
      {
        "duration": 35,
        "start_time": "2023-08-13T11:12:12.038Z"
      },
      {
        "duration": 3,
        "start_time": "2023-08-13T11:12:12.075Z"
      },
      {
        "duration": 253,
        "start_time": "2023-08-13T11:12:12.080Z"
      },
      {
        "duration": 21,
        "start_time": "2023-08-13T11:12:12.336Z"
      },
      {
        "duration": 4,
        "start_time": "2023-08-13T11:12:12.358Z"
      },
      {
        "duration": 15,
        "start_time": "2023-08-13T11:12:12.363Z"
      },
      {
        "duration": 10,
        "start_time": "2023-08-13T11:12:12.379Z"
      },
      {
        "duration": 4,
        "start_time": "2023-08-13T11:12:12.390Z"
      },
      {
        "duration": 505,
        "start_time": "2023-08-13T11:12:12.395Z"
      },
      {
        "duration": 10,
        "start_time": "2023-08-13T11:12:12.902Z"
      },
      {
        "duration": 783,
        "start_time": "2023-08-13T11:12:12.913Z"
      },
      {
        "duration": 8,
        "start_time": "2023-08-13T11:12:13.698Z"
      },
      {
        "duration": 12772,
        "start_time": "2023-08-13T11:12:13.707Z"
      },
      {
        "duration": 8,
        "start_time": "2023-08-13T11:12:26.482Z"
      },
      {
        "duration": 504,
        "start_time": "2023-08-13T11:12:26.492Z"
      },
      {
        "duration": 8,
        "start_time": "2023-08-13T11:12:26.998Z"
      },
      {
        "duration": 133,
        "start_time": "2023-08-13T11:12:27.008Z"
      },
      {
        "duration": 33,
        "start_time": "2023-08-13T11:12:27.143Z"
      },
      {
        "duration": 514,
        "start_time": "2023-08-13T11:12:27.178Z"
      },
      {
        "duration": 1057,
        "start_time": "2023-08-13T11:12:27.694Z"
      },
      {
        "duration": 809,
        "start_time": "2023-08-13T11:12:28.757Z"
      },
      {
        "duration": 63,
        "start_time": "2023-08-13T11:12:29.569Z"
      },
      {
        "duration": 661,
        "start_time": "2023-08-13T11:12:29.635Z"
      },
      {
        "duration": 966,
        "start_time": "2023-08-13T11:12:30.297Z"
      },
      {
        "duration": 831,
        "start_time": "2023-08-13T11:12:31.266Z"
      },
      {
        "duration": 12,
        "start_time": "2023-08-13T11:12:32.098Z"
      },
      {
        "duration": 439,
        "start_time": "2023-08-13T11:12:32.111Z"
      },
      {
        "duration": 376,
        "start_time": "2023-08-13T11:12:32.556Z"
      },
      {
        "duration": 27,
        "start_time": "2023-08-13T11:12:32.934Z"
      },
      {
        "duration": 1515,
        "start_time": "2023-08-13T11:12:32.962Z"
      },
      {
        "duration": 1557,
        "start_time": "2023-08-13T11:17:13.689Z"
      },
      {
        "duration": 2090,
        "start_time": "2023-08-13T11:17:38.295Z"
      },
      {
        "duration": 155,
        "start_time": "2023-08-13T11:19:11.265Z"
      },
      {
        "duration": 3,
        "start_time": "2023-08-13T11:19:20.611Z"
      },
      {
        "duration": 1914,
        "start_time": "2023-08-13T11:20:54.612Z"
      },
      {
        "duration": 7,
        "start_time": "2023-08-13T11:23:25.003Z"
      },
      {
        "duration": 3,
        "start_time": "2023-08-13T11:33:24.364Z"
      },
      {
        "duration": 3,
        "start_time": "2023-08-13T11:33:50.474Z"
      },
      {
        "duration": 14,
        "start_time": "2023-08-13T12:36:54.672Z"
      },
      {
        "duration": 1287,
        "start_time": "2023-08-13T12:37:13.436Z"
      },
      {
        "duration": 11,
        "start_time": "2023-08-13T12:41:05.867Z"
      },
      {
        "duration": 9,
        "start_time": "2023-08-13T12:41:43.875Z"
      },
      {
        "duration": 3,
        "start_time": "2023-08-13T12:41:53.898Z"
      },
      {
        "duration": 29,
        "start_time": "2023-08-13T12:43:28.955Z"
      },
      {
        "duration": 27,
        "start_time": "2023-08-13T12:48:51.542Z"
      },
      {
        "duration": 4,
        "start_time": "2023-08-13T12:56:19.498Z"
      },
      {
        "duration": 2,
        "start_time": "2023-08-13T12:58:45.997Z"
      },
      {
        "duration": 15,
        "start_time": "2023-08-13T13:07:52.536Z"
      },
      {
        "duration": 170,
        "start_time": "2023-08-13T13:08:21.565Z"
      },
      {
        "duration": 366,
        "start_time": "2023-08-13T13:08:29.431Z"
      },
      {
        "duration": 4,
        "start_time": "2023-08-13T13:11:09.601Z"
      },
      {
        "duration": 10,
        "start_time": "2023-08-13T13:12:38.323Z"
      },
      {
        "duration": 193,
        "start_time": "2023-08-13T13:13:00.199Z"
      },
      {
        "duration": 4,
        "start_time": "2023-08-13T13:13:48.909Z"
      },
      {
        "duration": 3,
        "start_time": "2023-08-13T13:13:49.796Z"
      },
      {
        "duration": 2,
        "start_time": "2023-08-13T13:13:50.430Z"
      },
      {
        "duration": 7,
        "start_time": "2023-08-13T13:13:52.397Z"
      },
      {
        "duration": 21,
        "start_time": "2023-08-13T13:13:53.185Z"
      },
      {
        "duration": 5,
        "start_time": "2023-08-13T13:13:53.795Z"
      },
      {
        "duration": 207,
        "start_time": "2023-08-13T13:13:54.992Z"
      },
      {
        "duration": 4,
        "start_time": "2023-08-13T13:15:28.891Z"
      },
      {
        "duration": 3,
        "start_time": "2023-08-13T13:15:29.752Z"
      },
      {
        "duration": 3,
        "start_time": "2023-08-13T13:15:30.343Z"
      },
      {
        "duration": 14,
        "start_time": "2023-08-13T13:15:31.961Z"
      },
      {
        "duration": 22,
        "start_time": "2023-08-13T13:15:32.513Z"
      },
      {
        "duration": 4,
        "start_time": "2023-08-13T13:15:33.001Z"
      },
      {
        "duration": 198,
        "start_time": "2023-08-13T13:15:33.659Z"
      },
      {
        "duration": 5,
        "start_time": "2023-08-13T13:17:44.006Z"
      },
      {
        "duration": 183,
        "start_time": "2023-08-13T13:17:44.697Z"
      },
      {
        "duration": 4,
        "start_time": "2023-08-13T13:18:48.201Z"
      },
      {
        "duration": 16,
        "start_time": "2023-08-13T13:18:48.975Z"
      },
      {
        "duration": 4,
        "start_time": "2023-08-13T13:18:59.940Z"
      },
      {
        "duration": 188,
        "start_time": "2023-08-13T13:19:01.917Z"
      },
      {
        "duration": 3,
        "start_time": "2023-08-13T13:26:07.027Z"
      },
      {
        "duration": 5,
        "start_time": "2023-08-13T13:26:07.576Z"
      },
      {
        "duration": 7,
        "start_time": "2023-08-13T13:26:09.557Z"
      },
      {
        "duration": 4,
        "start_time": "2023-08-13T13:26:14.239Z"
      },
      {
        "duration": 8723,
        "start_time": "2023-08-13T13:26:15.640Z"
      },
      {
        "duration": 8489,
        "start_time": "2023-08-13T13:27:02.496Z"
      },
      {
        "duration": 76,
        "start_time": "2023-08-13T13:27:56.994Z"
      },
      {
        "duration": 8661,
        "start_time": "2023-08-13T13:28:05.319Z"
      },
      {
        "duration": 4,
        "start_time": "2023-08-13T13:33:20.924Z"
      },
      {
        "duration": 28,
        "start_time": "2023-08-13T13:33:49.441Z"
      },
      {
        "duration": 5,
        "start_time": "2023-08-13T13:33:56.183Z"
      },
      {
        "duration": 26,
        "start_time": "2023-08-13T13:33:57.251Z"
      },
      {
        "duration": 167,
        "start_time": "2023-08-13T13:42:07.971Z"
      },
      {
        "duration": 178,
        "start_time": "2023-08-13T13:42:21.205Z"
      },
      {
        "duration": 7,
        "start_time": "2023-08-13T13:42:50.690Z"
      },
      {
        "duration": 4636,
        "start_time": "2023-08-13T13:42:53.073Z"
      },
      {
        "duration": 4589,
        "start_time": "2023-08-13T13:43:18.023Z"
      },
      {
        "duration": 4646,
        "start_time": "2023-08-13T13:44:53.662Z"
      },
      {
        "duration": 8443,
        "start_time": "2023-08-13T13:45:48.056Z"
      },
      {
        "duration": 5,
        "start_time": "2023-08-13T13:46:32.903Z"
      },
      {
        "duration": 8567,
        "start_time": "2023-08-13T13:46:39.347Z"
      },
      {
        "duration": 8423,
        "start_time": "2023-08-13T13:47:09.491Z"
      },
      {
        "duration": 3,
        "start_time": "2023-08-13T13:49:16.659Z"
      },
      {
        "duration": 3,
        "start_time": "2023-08-13T13:49:20.967Z"
      },
      {
        "duration": 3,
        "start_time": "2023-08-13T13:49:25.076Z"
      },
      {
        "duration": 3,
        "start_time": "2023-08-13T13:49:25.554Z"
      },
      {
        "duration": 3,
        "start_time": "2023-08-13T13:49:25.989Z"
      },
      {
        "duration": 216,
        "start_time": "2023-08-13T13:49:29.864Z"
      },
      {
        "duration": 8321,
        "start_time": "2023-08-13T13:49:39.972Z"
      },
      {
        "duration": 109,
        "start_time": "2023-08-13T13:51:28.906Z"
      },
      {
        "duration": 8126,
        "start_time": "2023-08-13T13:51:49.069Z"
      },
      {
        "duration": 8152,
        "start_time": "2023-08-13T13:52:09.036Z"
      },
      {
        "duration": 8888,
        "start_time": "2023-08-13T13:54:36.004Z"
      },
      {
        "duration": 8739,
        "start_time": "2023-08-13T13:55:00.538Z"
      },
      {
        "duration": 4,
        "start_time": "2023-08-13T13:55:29.555Z"
      },
      {
        "duration": 65,
        "start_time": "2023-08-13T13:58:58.594Z"
      },
      {
        "duration": 69,
        "start_time": "2023-08-13T13:59:14.469Z"
      },
      {
        "duration": 71,
        "start_time": "2023-08-13T14:00:27.489Z"
      },
      {
        "duration": 72,
        "start_time": "2023-08-13T14:00:34.470Z"
      },
      {
        "duration": 72,
        "start_time": "2023-08-13T14:01:14.463Z"
      },
      {
        "duration": 4,
        "start_time": "2023-08-13T14:02:42.606Z"
      },
      {
        "duration": 2,
        "start_time": "2023-08-13T14:02:44.456Z"
      },
      {
        "duration": 4,
        "start_time": "2023-08-13T14:02:46.667Z"
      },
      {
        "duration": 8,
        "start_time": "2023-08-13T14:02:48.558Z"
      },
      {
        "duration": 23,
        "start_time": "2023-08-13T14:02:50.514Z"
      },
      {
        "duration": 8486,
        "start_time": "2023-08-13T14:02:52.313Z"
      },
      {
        "duration": 8595,
        "start_time": "2023-08-13T14:03:03.834Z"
      },
      {
        "duration": 5,
        "start_time": "2023-08-13T14:03:14.105Z"
      },
      {
        "duration": 76,
        "start_time": "2023-08-13T14:04:13.188Z"
      },
      {
        "duration": 65,
        "start_time": "2023-08-13T14:06:10.935Z"
      },
      {
        "duration": 4,
        "start_time": "2023-08-13T14:06:32.111Z"
      },
      {
        "duration": 2,
        "start_time": "2023-08-13T14:06:32.917Z"
      },
      {
        "duration": 3,
        "start_time": "2023-08-13T14:06:33.402Z"
      },
      {
        "duration": 8,
        "start_time": "2023-08-13T14:06:35.175Z"
      },
      {
        "duration": 21,
        "start_time": "2023-08-13T14:06:35.820Z"
      },
      {
        "duration": 8329,
        "start_time": "2023-08-13T14:06:36.959Z"
      },
      {
        "duration": 8218,
        "start_time": "2023-08-13T14:06:47.202Z"
      },
      {
        "duration": 4,
        "start_time": "2023-08-13T14:06:56.706Z"
      },
      {
        "duration": 8101,
        "start_time": "2023-08-13T14:08:51.458Z"
      },
      {
        "duration": 8171,
        "start_time": "2023-08-13T14:09:03.216Z"
      },
      {
        "duration": 3,
        "start_time": "2023-08-13T14:09:19.802Z"
      },
      {
        "duration": 4,
        "start_time": "2023-08-13T14:16:13.093Z"
      },
      {
        "duration": 3,
        "start_time": "2023-08-13T14:16:14.857Z"
      },
      {
        "duration": 2,
        "start_time": "2023-08-13T14:16:15.433Z"
      },
      {
        "duration": 7,
        "start_time": "2023-08-13T14:16:16.904Z"
      },
      {
        "duration": 21,
        "start_time": "2023-08-13T14:16:17.590Z"
      },
      {
        "duration": 135,
        "start_time": "2023-08-13T14:16:18.655Z"
      },
      {
        "duration": 65,
        "start_time": "2023-08-13T14:18:47.058Z"
      },
      {
        "duration": 4,
        "start_time": "2023-08-13T14:18:55.169Z"
      },
      {
        "duration": 3,
        "start_time": "2023-08-13T14:18:57.167Z"
      },
      {
        "duration": 3,
        "start_time": "2023-08-13T14:18:57.573Z"
      },
      {
        "duration": 9,
        "start_time": "2023-08-13T14:18:58.860Z"
      },
      {
        "duration": 27,
        "start_time": "2023-08-13T14:18:59.360Z"
      },
      {
        "duration": 176,
        "start_time": "2023-08-13T14:19:00.221Z"
      },
      {
        "duration": 65,
        "start_time": "2023-08-13T14:20:53.553Z"
      },
      {
        "duration": 61,
        "start_time": "2023-08-13T14:21:23.594Z"
      },
      {
        "duration": 3,
        "start_time": "2023-08-13T14:22:12.061Z"
      },
      {
        "duration": 3,
        "start_time": "2023-08-13T14:22:13.039Z"
      },
      {
        "duration": 3,
        "start_time": "2023-08-13T14:22:13.496Z"
      },
      {
        "duration": 7,
        "start_time": "2023-08-13T14:22:15.067Z"
      },
      {
        "duration": 22,
        "start_time": "2023-08-13T14:22:15.700Z"
      },
      {
        "duration": 8201,
        "start_time": "2023-08-13T14:22:16.681Z"
      },
      {
        "duration": 18814,
        "start_time": "2023-08-13T14:25:53.310Z"
      },
      {
        "duration": 18991,
        "start_time": "2023-08-13T14:27:35.156Z"
      },
      {
        "duration": 18828,
        "start_time": "2023-08-13T14:28:24.596Z"
      },
      {
        "duration": 4,
        "start_time": "2023-08-13T14:28:45.845Z"
      },
      {
        "duration": 2503,
        "start_time": "2023-08-13T14:33:39.099Z"
      },
      {
        "duration": 740038,
        "start_time": "2023-08-13T14:35:02.307Z"
      },
      {
        "duration": 0,
        "start_time": "2023-08-13T15:03:35.430Z"
      },
      {
        "duration": 0,
        "start_time": "2023-08-13T15:03:35.431Z"
      },
      {
        "duration": 0,
        "start_time": "2023-08-13T15:03:35.432Z"
      },
      {
        "duration": 0,
        "start_time": "2023-08-13T15:03:35.432Z"
      },
      {
        "duration": 0,
        "start_time": "2023-08-13T15:03:35.433Z"
      },
      {
        "duration": 0,
        "start_time": "2023-08-13T15:03:35.434Z"
      },
      {
        "duration": 0,
        "start_time": "2023-08-13T15:03:35.435Z"
      },
      {
        "duration": 0,
        "start_time": "2023-08-13T15:03:35.436Z"
      },
      {
        "duration": 0,
        "start_time": "2023-08-13T15:03:35.456Z"
      },
      {
        "duration": 0,
        "start_time": "2023-08-13T15:03:35.457Z"
      },
      {
        "duration": 0,
        "start_time": "2023-08-13T15:03:35.458Z"
      },
      {
        "duration": 0,
        "start_time": "2023-08-13T15:03:35.459Z"
      },
      {
        "duration": 0,
        "start_time": "2023-08-13T15:03:35.460Z"
      },
      {
        "duration": 0,
        "start_time": "2023-08-13T15:03:35.461Z"
      },
      {
        "duration": 0,
        "start_time": "2023-08-13T15:03:35.462Z"
      },
      {
        "duration": 0,
        "start_time": "2023-08-13T15:03:35.463Z"
      },
      {
        "duration": 0,
        "start_time": "2023-08-13T15:03:35.463Z"
      },
      {
        "duration": 0,
        "start_time": "2023-08-13T15:03:35.465Z"
      },
      {
        "duration": 0,
        "start_time": "2023-08-13T15:03:35.465Z"
      },
      {
        "duration": 0,
        "start_time": "2023-08-13T15:03:35.466Z"
      },
      {
        "duration": 0,
        "start_time": "2023-08-13T15:03:35.467Z"
      },
      {
        "duration": 0,
        "start_time": "2023-08-13T15:03:35.468Z"
      },
      {
        "duration": 0,
        "start_time": "2023-08-13T15:03:35.469Z"
      },
      {
        "duration": 0,
        "start_time": "2023-08-13T15:03:35.470Z"
      },
      {
        "duration": 0,
        "start_time": "2023-08-13T15:03:35.471Z"
      },
      {
        "duration": 0,
        "start_time": "2023-08-13T15:03:35.472Z"
      },
      {
        "duration": 0,
        "start_time": "2023-08-13T15:03:35.473Z"
      },
      {
        "duration": 0,
        "start_time": "2023-08-13T15:03:35.474Z"
      },
      {
        "duration": 0,
        "start_time": "2023-08-13T15:03:35.476Z"
      },
      {
        "duration": 0,
        "start_time": "2023-08-13T15:03:35.476Z"
      },
      {
        "duration": 0,
        "start_time": "2023-08-13T15:03:35.477Z"
      },
      {
        "duration": 0,
        "start_time": "2023-08-13T15:03:35.478Z"
      },
      {
        "duration": 0,
        "start_time": "2023-08-13T15:03:35.479Z"
      },
      {
        "duration": 0,
        "start_time": "2023-08-13T15:03:35.480Z"
      },
      {
        "duration": 0,
        "start_time": "2023-08-13T15:03:35.481Z"
      },
      {
        "duration": 0,
        "start_time": "2023-08-13T15:03:35.482Z"
      },
      {
        "duration": 0,
        "start_time": "2023-08-13T15:03:35.483Z"
      },
      {
        "duration": 0,
        "start_time": "2023-08-13T15:03:35.484Z"
      },
      {
        "duration": 0,
        "start_time": "2023-08-13T15:03:35.485Z"
      },
      {
        "duration": 0,
        "start_time": "2023-08-13T15:03:35.486Z"
      },
      {
        "duration": 0,
        "start_time": "2023-08-13T15:03:35.487Z"
      },
      {
        "duration": 0,
        "start_time": "2023-08-13T15:03:35.488Z"
      },
      {
        "duration": 0,
        "start_time": "2023-08-13T15:03:35.489Z"
      },
      {
        "duration": 0,
        "start_time": "2023-08-13T15:03:35.490Z"
      },
      {
        "duration": 0,
        "start_time": "2023-08-13T15:03:35.491Z"
      },
      {
        "duration": 0,
        "start_time": "2023-08-13T15:03:35.492Z"
      },
      {
        "duration": 0,
        "start_time": "2023-08-13T15:03:35.493Z"
      },
      {
        "duration": 4,
        "start_time": "2023-08-13T15:04:19.413Z"
      },
      {
        "duration": 701,
        "start_time": "2023-08-13T15:04:19.419Z"
      },
      {
        "duration": 62,
        "start_time": "2023-08-13T15:04:20.122Z"
      },
      {
        "duration": 40,
        "start_time": "2023-08-13T15:04:20.185Z"
      },
      {
        "duration": 72,
        "start_time": "2023-08-13T15:04:20.228Z"
      },
      {
        "duration": 19,
        "start_time": "2023-08-13T15:04:20.301Z"
      },
      {
        "duration": 39,
        "start_time": "2023-08-13T15:04:20.322Z"
      },
      {
        "duration": 17,
        "start_time": "2023-08-13T15:04:20.363Z"
      },
      {
        "duration": 4,
        "start_time": "2023-08-13T15:04:20.382Z"
      },
      {
        "duration": 248,
        "start_time": "2023-08-13T15:04:20.387Z"
      },
      {
        "duration": 20,
        "start_time": "2023-08-13T15:04:20.636Z"
      },
      {
        "duration": 5,
        "start_time": "2023-08-13T15:04:20.658Z"
      },
      {
        "duration": 18,
        "start_time": "2023-08-13T15:04:20.665Z"
      },
      {
        "duration": 19,
        "start_time": "2023-08-13T15:04:20.687Z"
      },
      {
        "duration": 8,
        "start_time": "2023-08-13T15:04:20.708Z"
      },
      {
        "duration": 514,
        "start_time": "2023-08-13T15:04:20.718Z"
      },
      {
        "duration": 24,
        "start_time": "2023-08-13T15:04:21.234Z"
      },
      {
        "duration": 786,
        "start_time": "2023-08-13T15:04:21.260Z"
      },
      {
        "duration": 8,
        "start_time": "2023-08-13T15:04:22.056Z"
      },
      {
        "duration": 12310,
        "start_time": "2023-08-13T15:04:22.066Z"
      },
      {
        "duration": 9,
        "start_time": "2023-08-13T15:04:34.378Z"
      },
      {
        "duration": 412,
        "start_time": "2023-08-13T15:04:34.389Z"
      },
      {
        "duration": 7,
        "start_time": "2023-08-13T15:04:34.803Z"
      },
      {
        "duration": 146,
        "start_time": "2023-08-13T15:04:34.812Z"
      },
      {
        "duration": 23,
        "start_time": "2023-08-13T15:04:34.960Z"
      },
      {
        "duration": 517,
        "start_time": "2023-08-13T15:04:34.984Z"
      },
      {
        "duration": 998,
        "start_time": "2023-08-13T15:04:35.503Z"
      },
      {
        "duration": 664,
        "start_time": "2023-08-13T15:04:36.504Z"
      },
      {
        "duration": 69,
        "start_time": "2023-08-13T15:04:37.170Z"
      },
      {
        "duration": 664,
        "start_time": "2023-08-13T15:04:37.241Z"
      },
      {
        "duration": 905,
        "start_time": "2023-08-13T15:04:37.907Z"
      },
      {
        "duration": 771,
        "start_time": "2023-08-13T15:04:38.815Z"
      },
      {
        "duration": 13,
        "start_time": "2023-08-13T15:04:39.587Z"
      },
      {
        "duration": 546,
        "start_time": "2023-08-13T15:04:39.601Z"
      },
      {
        "duration": 386,
        "start_time": "2023-08-13T15:04:40.149Z"
      },
      {
        "duration": 30,
        "start_time": "2023-08-13T15:04:40.537Z"
      },
      {
        "duration": 1934,
        "start_time": "2023-08-13T15:04:40.568Z"
      },
      {
        "duration": 7,
        "start_time": "2023-08-13T15:04:42.504Z"
      },
      {
        "duration": 5,
        "start_time": "2023-08-13T15:04:42.513Z"
      },
      {
        "duration": 7,
        "start_time": "2023-08-13T15:04:42.520Z"
      },
      {
        "duration": 3,
        "start_time": "2023-08-13T15:04:42.530Z"
      },
      {
        "duration": 27,
        "start_time": "2023-08-13T15:04:42.535Z"
      },
      {
        "duration": 27,
        "start_time": "2023-08-13T15:04:42.564Z"
      },
      {
        "duration": 18670,
        "start_time": "2023-08-13T15:04:42.593Z"
      },
      {
        "duration": 18298,
        "start_time": "2023-08-13T15:05:01.265Z"
      },
      {
        "duration": 3,
        "start_time": "2023-08-13T15:05:19.565Z"
      },
      {
        "duration": 1629932,
        "start_time": "2023-08-13T15:05:19.570Z"
      },
      {
        "duration": 1257908,
        "start_time": "2023-08-13T15:32:38.226Z"
      },
      {
        "duration": 2086,
        "start_time": "2023-08-13T17:10:19.399Z"
      },
      {
        "duration": 2518,
        "start_time": "2023-08-13T17:10:21.488Z"
      },
      {
        "duration": 83,
        "start_time": "2023-08-13T17:10:24.008Z"
      },
      {
        "duration": 50,
        "start_time": "2023-08-13T17:10:24.108Z"
      },
      {
        "duration": 94,
        "start_time": "2023-08-13T17:10:24.161Z"
      },
      {
        "duration": 23,
        "start_time": "2023-08-13T17:10:24.257Z"
      },
      {
        "duration": 42,
        "start_time": "2023-08-13T17:10:24.282Z"
      },
      {
        "duration": 22,
        "start_time": "2023-08-13T17:10:24.326Z"
      },
      {
        "duration": 5,
        "start_time": "2023-08-13T17:10:24.350Z"
      },
      {
        "duration": 342,
        "start_time": "2023-08-13T17:10:24.358Z"
      },
      {
        "duration": 21,
        "start_time": "2023-08-13T17:10:24.702Z"
      },
      {
        "duration": 6,
        "start_time": "2023-08-13T17:10:24.727Z"
      },
      {
        "duration": 31,
        "start_time": "2023-08-13T17:10:24.736Z"
      },
      {
        "duration": 11,
        "start_time": "2023-08-13T17:10:24.770Z"
      },
      {
        "duration": 5,
        "start_time": "2023-08-13T17:10:24.783Z"
      },
      {
        "duration": 638,
        "start_time": "2023-08-13T17:10:24.809Z"
      },
      {
        "duration": 14,
        "start_time": "2023-08-13T17:10:25.449Z"
      },
      {
        "duration": 1162,
        "start_time": "2023-08-13T17:10:25.465Z"
      },
      {
        "duration": 11,
        "start_time": "2023-08-13T17:10:26.629Z"
      },
      {
        "duration": 25725,
        "start_time": "2023-08-13T17:10:26.642Z"
      },
      {
        "duration": 10,
        "start_time": "2023-08-13T17:10:52.370Z"
      },
      {
        "duration": 484,
        "start_time": "2023-08-13T17:10:52.382Z"
      },
      {
        "duration": 7,
        "start_time": "2023-08-13T17:10:52.869Z"
      },
      {
        "duration": 148,
        "start_time": "2023-08-13T17:10:52.878Z"
      },
      {
        "duration": 34,
        "start_time": "2023-08-13T17:10:53.029Z"
      },
      {
        "duration": 598,
        "start_time": "2023-08-13T17:10:53.065Z"
      },
      {
        "duration": 952,
        "start_time": "2023-08-13T17:10:53.665Z"
      },
      {
        "duration": 864,
        "start_time": "2023-08-13T17:10:54.621Z"
      },
      {
        "duration": 89,
        "start_time": "2023-08-13T17:10:55.487Z"
      },
      {
        "duration": 661,
        "start_time": "2023-08-13T17:10:55.577Z"
      },
      {
        "duration": 1134,
        "start_time": "2023-08-13T17:10:56.240Z"
      },
      {
        "duration": 725,
        "start_time": "2023-08-13T17:10:57.376Z"
      },
      {
        "duration": 18,
        "start_time": "2023-08-13T17:10:58.103Z"
      },
      {
        "duration": 447,
        "start_time": "2023-08-13T17:10:58.123Z"
      },
      {
        "duration": 402,
        "start_time": "2023-08-13T17:10:58.572Z"
      },
      {
        "duration": 42,
        "start_time": "2023-08-13T17:10:58.977Z"
      },
      {
        "duration": 2263,
        "start_time": "2023-08-13T17:10:59.022Z"
      },
      {
        "duration": 8,
        "start_time": "2023-08-13T17:11:01.287Z"
      },
      {
        "duration": 75,
        "start_time": "2023-08-13T17:11:01.297Z"
      },
      {
        "duration": 96,
        "start_time": "2023-08-13T17:11:01.374Z"
      },
      {
        "duration": 58,
        "start_time": "2023-08-13T17:11:01.474Z"
      },
      {
        "duration": 68,
        "start_time": "2023-08-13T17:11:01.535Z"
      },
      {
        "duration": 68,
        "start_time": "2023-08-13T17:11:01.604Z"
      },
      {
        "duration": 21499,
        "start_time": "2023-08-13T17:11:01.674Z"
      },
      {
        "duration": 20968,
        "start_time": "2023-08-13T17:11:23.175Z"
      },
      {
        "duration": 4,
        "start_time": "2023-08-13T17:11:44.145Z"
      },
      {
        "duration": 78924,
        "start_time": "2023-08-13T17:11:44.151Z"
      },
      {
        "duration": 4,
        "start_time": "2023-08-13T17:13:42.212Z"
      },
      {
        "duration": 4,
        "start_time": "2023-08-13T17:13:46.908Z"
      },
      {
        "duration": 3,
        "start_time": "2023-08-13T17:13:47.753Z"
      },
      {
        "duration": 12,
        "start_time": "2023-08-13T17:13:52.541Z"
      },
      {
        "duration": 35,
        "start_time": "2023-08-13T17:13:53.216Z"
      },
      {
        "duration": 21210,
        "start_time": "2023-08-13T17:13:55.027Z"
      },
      {
        "duration": 21012,
        "start_time": "2023-08-13T17:14:27.887Z"
      },
      {
        "duration": 4,
        "start_time": "2023-08-13T17:14:53.419Z"
      },
      {
        "duration": 7182523,
        "start_time": "2023-08-13T17:14:57.503Z"
      },
      {
        "duration": 6898547,
        "start_time": "2023-08-13T19:19:45.912Z"
      },
      {
        "duration": 3,
        "start_time": "2023-08-13T21:18:35.115Z"
      },
      {
        "duration": 1687,
        "start_time": "2023-08-13T21:21:30.825Z"
      },
      {
        "duration": 1918,
        "start_time": "2023-08-13T21:22:13.695Z"
      },
      {
        "duration": 1525,
        "start_time": "2023-08-13T21:22:32.087Z"
      },
      {
        "duration": 1570,
        "start_time": "2023-08-13T21:22:43.947Z"
      },
      {
        "duration": 4,
        "start_time": "2023-08-13T21:23:20.115Z"
      },
      {
        "duration": 1273,
        "start_time": "2023-08-13T21:31:09.136Z"
      },
      {
        "duration": 1192,
        "start_time": "2023-08-13T21:32:02.823Z"
      },
      {
        "duration": 3,
        "start_time": "2023-08-13T21:32:43.877Z"
      },
      {
        "duration": 12,
        "start_time": "2023-08-14T21:40:05.360Z"
      },
      {
        "duration": 188,
        "start_time": "2023-08-14T21:40:12.495Z"
      },
      {
        "duration": 1656,
        "start_time": "2023-08-15T16:38:06.257Z"
      },
      {
        "duration": 3228,
        "start_time": "2023-08-15T16:38:13.402Z"
      },
      {
        "duration": 63,
        "start_time": "2023-08-15T16:38:44.729Z"
      },
      {
        "duration": 43,
        "start_time": "2023-08-15T16:38:45.351Z"
      },
      {
        "duration": 62,
        "start_time": "2023-08-15T16:38:47.247Z"
      },
      {
        "duration": 18,
        "start_time": "2023-08-15T16:38:51.099Z"
      },
      {
        "duration": 16,
        "start_time": "2023-08-15T16:38:54.009Z"
      },
      {
        "duration": 19,
        "start_time": "2023-08-15T16:38:55.616Z"
      },
      {
        "duration": 4,
        "start_time": "2023-08-15T16:39:04.499Z"
      },
      {
        "duration": 247,
        "start_time": "2023-08-15T16:39:06.173Z"
      },
      {
        "duration": 13,
        "start_time": "2023-08-15T16:39:07.101Z"
      },
      {
        "duration": 4,
        "start_time": "2023-08-15T16:39:13.552Z"
      },
      {
        "duration": 13,
        "start_time": "2023-08-15T16:39:18.935Z"
      },
      {
        "duration": 12,
        "start_time": "2023-08-15T16:39:24.268Z"
      },
      {
        "duration": 4,
        "start_time": "2023-08-15T16:41:29.075Z"
      },
      {
        "duration": 524,
        "start_time": "2023-08-15T16:41:29.801Z"
      },
      {
        "duration": 9,
        "start_time": "2023-08-15T16:41:38.797Z"
      },
      {
        "duration": 838,
        "start_time": "2023-08-15T16:41:41.341Z"
      },
      {
        "duration": 8,
        "start_time": "2023-08-15T16:41:45.133Z"
      },
      {
        "duration": 9323,
        "start_time": "2023-08-15T16:42:04.527Z"
      },
      {
        "duration": 11,
        "start_time": "2023-08-15T16:42:13.852Z"
      },
      {
        "duration": 124,
        "start_time": "2023-08-15T16:47:05.271Z"
      },
      {
        "duration": 59,
        "start_time": "2023-08-15T16:49:33.680Z"
      },
      {
        "duration": 111,
        "start_time": "2023-08-15T16:49:44.966Z"
      },
      {
        "duration": 97,
        "start_time": "2023-08-15T16:53:52.675Z"
      },
      {
        "duration": 17917,
        "start_time": "2023-08-15T16:54:52.693Z"
      },
      {
        "duration": 6342,
        "start_time": "2023-08-15T16:55:55.373Z"
      },
      {
        "duration": 24,
        "start_time": "2023-08-15T16:59:37.111Z"
      },
      {
        "duration": 7,
        "start_time": "2023-08-15T17:01:09.396Z"
      },
      {
        "duration": 3,
        "start_time": "2023-08-15T17:03:10.801Z"
      },
      {
        "duration": 3,
        "start_time": "2023-08-15T17:03:37.622Z"
      },
      {
        "duration": 1216,
        "start_time": "2023-08-15T17:04:08.921Z"
      },
      {
        "duration": 6,
        "start_time": "2023-08-15T17:04:20.723Z"
      },
      {
        "duration": 8,
        "start_time": "2023-08-15T17:06:05.217Z"
      },
      {
        "duration": 122,
        "start_time": "2023-08-15T17:06:09.840Z"
      },
      {
        "duration": 24,
        "start_time": "2023-08-15T17:06:10.747Z"
      },
      {
        "duration": 480,
        "start_time": "2023-08-15T17:06:58.379Z"
      },
      {
        "duration": 847,
        "start_time": "2023-08-15T17:06:59.029Z"
      },
      {
        "duration": 816,
        "start_time": "2023-08-15T17:07:02.041Z"
      },
      {
        "duration": 76,
        "start_time": "2023-08-15T17:07:05.303Z"
      },
      {
        "duration": 502,
        "start_time": "2023-08-15T17:07:07.738Z"
      },
      {
        "duration": 983,
        "start_time": "2023-08-15T17:07:09.288Z"
      },
      {
        "duration": 622,
        "start_time": "2023-08-15T17:07:11.178Z"
      },
      {
        "duration": 11,
        "start_time": "2023-08-15T17:07:13.525Z"
      },
      {
        "duration": 46,
        "start_time": "2023-08-15T17:25:33.830Z"
      },
      {
        "duration": 414,
        "start_time": "2023-08-15T17:27:53.021Z"
      },
      {
        "duration": 366,
        "start_time": "2023-08-15T17:27:53.441Z"
      },
      {
        "duration": 27,
        "start_time": "2023-08-15T17:27:55.113Z"
      },
      {
        "duration": 512,
        "start_time": "2023-08-15T17:40:32.905Z"
      },
      {
        "duration": 361,
        "start_time": "2023-08-15T17:40:58.098Z"
      },
      {
        "duration": 18,
        "start_time": "2023-08-15T17:41:19.360Z"
      },
      {
        "duration": 7,
        "start_time": "2023-08-15T17:43:46.613Z"
      },
      {
        "duration": 1870,
        "start_time": "2023-08-15T17:49:28.971Z"
      },
      {
        "duration": 7,
        "start_time": "2023-08-15T17:49:33.614Z"
      },
      {
        "duration": 3,
        "start_time": "2023-08-15T17:53:13.055Z"
      },
      {
        "duration": 2,
        "start_time": "2023-08-15T17:53:15.078Z"
      },
      {
        "duration": 3,
        "start_time": "2023-08-15T17:53:16.141Z"
      },
      {
        "duration": 8,
        "start_time": "2023-08-15T17:53:26.677Z"
      },
      {
        "duration": 21,
        "start_time": "2023-08-15T17:53:29.579Z"
      },
      {
        "duration": 16370,
        "start_time": "2023-08-15T17:55:27.813Z"
      },
      {
        "duration": 16513,
        "start_time": "2023-08-15T17:56:07.477Z"
      },
      {
        "duration": 3,
        "start_time": "2023-08-15T17:56:27.705Z"
      },
      {
        "duration": 0,
        "start_time": "2023-08-16T13:52:19.666Z"
      },
      {
        "duration": 0,
        "start_time": "2023-08-16T13:52:19.673Z"
      },
      {
        "duration": 0,
        "start_time": "2023-08-16T13:52:19.687Z"
      },
      {
        "duration": 0,
        "start_time": "2023-08-16T13:52:19.692Z"
      },
      {
        "duration": 0,
        "start_time": "2023-08-16T13:52:19.697Z"
      },
      {
        "duration": 0,
        "start_time": "2023-08-16T13:52:19.701Z"
      },
      {
        "duration": 0,
        "start_time": "2023-08-16T13:52:19.702Z"
      },
      {
        "duration": 0,
        "start_time": "2023-08-16T13:52:19.704Z"
      },
      {
        "duration": 0,
        "start_time": "2023-08-16T13:52:19.706Z"
      },
      {
        "duration": 5,
        "start_time": "2023-08-16T13:53:22.110Z"
      },
      {
        "duration": 843,
        "start_time": "2023-08-16T13:53:22.118Z"
      },
      {
        "duration": 75,
        "start_time": "2023-08-16T13:53:22.966Z"
      },
      {
        "duration": 81,
        "start_time": "2023-08-16T13:53:23.043Z"
      },
      {
        "duration": 108,
        "start_time": "2023-08-16T13:53:23.127Z"
      },
      {
        "duration": 43,
        "start_time": "2023-08-16T13:53:23.237Z"
      },
      {
        "duration": 15,
        "start_time": "2023-08-16T13:53:23.283Z"
      },
      {
        "duration": 20,
        "start_time": "2023-08-16T13:53:23.300Z"
      },
      {
        "duration": 12,
        "start_time": "2023-08-16T13:53:23.323Z"
      },
      {
        "duration": 287,
        "start_time": "2023-08-16T13:53:23.337Z"
      },
      {
        "duration": 11,
        "start_time": "2023-08-16T13:53:23.625Z"
      },
      {
        "duration": 24,
        "start_time": "2023-08-16T13:53:23.638Z"
      },
      {
        "duration": 23,
        "start_time": "2023-08-16T13:53:23.664Z"
      },
      {
        "duration": 16,
        "start_time": "2023-08-16T13:53:23.691Z"
      },
      {
        "duration": 4,
        "start_time": "2023-08-16T13:53:23.710Z"
      },
      {
        "duration": 671,
        "start_time": "2023-08-16T13:53:23.716Z"
      },
      {
        "duration": 10,
        "start_time": "2023-08-16T13:53:24.389Z"
      },
      {
        "duration": 873,
        "start_time": "2023-08-16T13:53:24.401Z"
      },
      {
        "duration": 12,
        "start_time": "2023-08-16T13:53:25.276Z"
      },
      {
        "duration": 17707,
        "start_time": "2023-08-16T13:53:25.290Z"
      },
      {
        "duration": 10,
        "start_time": "2023-08-16T13:53:42.999Z"
      },
      {
        "duration": 1684,
        "start_time": "2023-08-16T13:53:43.010Z"
      },
      {
        "duration": 6,
        "start_time": "2023-08-16T13:53:44.696Z"
      },
      {
        "duration": 161,
        "start_time": "2023-08-16T13:53:44.704Z"
      },
      {
        "duration": 32,
        "start_time": "2023-08-16T13:53:44.868Z"
      },
      {
        "duration": 752,
        "start_time": "2023-08-16T13:53:44.902Z"
      },
      {
        "duration": 912,
        "start_time": "2023-08-16T13:53:45.658Z"
      },
      {
        "duration": 908,
        "start_time": "2023-08-16T13:53:46.573Z"
      },
      {
        "duration": 75,
        "start_time": "2023-08-16T13:53:47.485Z"
      },
      {
        "duration": 520,
        "start_time": "2023-08-16T13:53:47.562Z"
      },
      {
        "duration": 943,
        "start_time": "2023-08-16T13:53:48.083Z"
      },
      {
        "duration": 949,
        "start_time": "2023-08-16T13:53:49.028Z"
      },
      {
        "duration": 14,
        "start_time": "2023-08-16T13:53:49.980Z"
      },
      {
        "duration": 74,
        "start_time": "2023-08-16T13:53:49.996Z"
      },
      {
        "duration": 414,
        "start_time": "2023-08-16T13:53:50.072Z"
      },
      {
        "duration": 420,
        "start_time": "2023-08-16T13:53:50.488Z"
      },
      {
        "duration": 22,
        "start_time": "2023-08-16T13:53:50.911Z"
      },
      {
        "duration": 26,
        "start_time": "2023-08-16T13:53:50.934Z"
      },
      {
        "duration": 2216,
        "start_time": "2023-08-16T13:53:50.963Z"
      },
      {
        "duration": 7,
        "start_time": "2023-08-16T13:53:53.182Z"
      },
      {
        "duration": 28,
        "start_time": "2023-08-16T13:53:53.193Z"
      },
      {
        "duration": 25,
        "start_time": "2023-08-16T13:53:53.223Z"
      },
      {
        "duration": 95,
        "start_time": "2023-08-16T13:53:53.250Z"
      },
      {
        "duration": 48,
        "start_time": "2023-08-16T13:53:53.348Z"
      },
      {
        "duration": 46,
        "start_time": "2023-08-16T13:53:53.398Z"
      },
      {
        "duration": 18698,
        "start_time": "2023-08-16T13:53:53.446Z"
      },
      {
        "duration": 19086,
        "start_time": "2023-08-16T13:54:12.146Z"
      },
      {
        "duration": 4,
        "start_time": "2023-08-16T13:54:31.234Z"
      },
      {
        "duration": 5950702,
        "start_time": "2023-08-16T13:54:31.241Z"
      },
      {
        "duration": 6003933,
        "start_time": "2023-08-16T15:33:41.945Z"
      },
      {
        "duration": 4,
        "start_time": "2023-08-16T17:13:45.880Z"
      },
      {
        "duration": 1774,
        "start_time": "2023-08-16T17:13:45.886Z"
      },
      {
        "duration": 1401,
        "start_time": "2023-08-16T17:13:47.663Z"
      },
      {
        "duration": 6,
        "start_time": "2023-08-16T17:13:49.066Z"
      },
      {
        "duration": 1490,
        "start_time": "2023-08-16T17:13:49.074Z"
      },
      {
        "duration": 1295,
        "start_time": "2023-08-16T17:13:50.566Z"
      },
      {
        "duration": 5,
        "start_time": "2023-08-16T17:13:51.863Z"
      },
      {
        "duration": 291,
        "start_time": "2023-08-16T17:25:36.380Z"
      },
      {
        "duration": 74,
        "start_time": "2023-08-16T17:28:40.294Z"
      },
      {
        "duration": 50,
        "start_time": "2023-08-16T17:29:24.710Z"
      },
      {
        "duration": 7,
        "start_time": "2023-08-16T17:31:07.977Z"
      },
      {
        "duration": 14,
        "start_time": "2023-08-16T17:33:20.050Z"
      },
      {
        "duration": 5,
        "start_time": "2023-08-16T17:34:18.681Z"
      },
      {
        "duration": 7,
        "start_time": "2023-08-16T17:39:07.127Z"
      },
      {
        "duration": 14,
        "start_time": "2023-08-16T17:39:22.354Z"
      },
      {
        "duration": 5,
        "start_time": "2023-08-16T17:39:30.641Z"
      },
      {
        "duration": 6,
        "start_time": "2023-08-16T17:43:25.370Z"
      },
      {
        "duration": 147,
        "start_time": "2023-08-16T17:46:40.814Z"
      },
      {
        "duration": 169,
        "start_time": "2023-08-16T17:46:50.101Z"
      },
      {
        "duration": 198,
        "start_time": "2023-08-16T17:47:19.765Z"
      },
      {
        "duration": 4,
        "start_time": "2023-08-16T17:48:31.511Z"
      },
      {
        "duration": 11,
        "start_time": "2023-08-16T17:49:44.251Z"
      },
      {
        "duration": 9,
        "start_time": "2023-08-16T17:50:30.095Z"
      },
      {
        "duration": 8,
        "start_time": "2023-08-16T17:51:30.814Z"
      },
      {
        "duration": 7,
        "start_time": "2023-08-16T17:54:01.102Z"
      },
      {
        "duration": 6,
        "start_time": "2023-08-16T17:54:56.465Z"
      },
      {
        "duration": 7,
        "start_time": "2023-08-16T17:55:16.261Z"
      },
      {
        "duration": 3,
        "start_time": "2023-08-16T17:55:28.706Z"
      },
      {
        "duration": 4,
        "start_time": "2023-08-16T17:55:56.551Z"
      },
      {
        "duration": 22,
        "start_time": "2023-08-16T17:58:46.832Z"
      },
      {
        "duration": 7,
        "start_time": "2023-08-16T17:58:54.506Z"
      },
      {
        "duration": 7,
        "start_time": "2023-08-16T17:59:13.846Z"
      },
      {
        "duration": 9539,
        "start_time": "2023-08-16T18:07:05.220Z"
      },
      {
        "duration": 9452,
        "start_time": "2023-08-16T18:08:09.030Z"
      },
      {
        "duration": 10135,
        "start_time": "2023-08-16T18:08:40.624Z"
      },
      {
        "duration": 4,
        "start_time": "2023-08-16T18:09:17.147Z"
      }
    ],
    "kernelspec": {
      "display_name": "Python 3 (ipykernel)",
      "language": "python",
      "name": "python3"
    },
    "language_info": {
      "codemirror_mode": {
        "name": "ipython",
        "version": 3
      },
      "file_extension": ".py",
      "mimetype": "text/x-python",
      "name": "python",
      "nbconvert_exporter": "python",
      "pygments_lexer": "ipython3",
      "version": "3.9.5"
    },
    "toc": {
      "base_numbering": 1,
      "nav_menu": {},
      "number_sections": true,
      "sideBar": true,
      "skip_h1_title": true,
      "title_cell": "Содержание",
      "title_sidebar": "Contents",
      "toc_cell": true,
      "toc_position": {
        "height": "calc(100% - 180px)",
        "left": "10px",
        "top": "150px",
        "width": "271px"
      },
      "toc_section_display": true,
      "toc_window_display": true
    },
    "colab": {
      "provenance": []
    }
  },
  "nbformat": 4,
  "nbformat_minor": 0
}