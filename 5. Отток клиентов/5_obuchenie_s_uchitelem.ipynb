{
  "cells": [
    {
      "cell_type": "markdown",
      "metadata": {
        "toc": true,
        "id": "Cxsc5Ph5-8D8"
      },
      "source": [
        "<h1>Содержание<span class=\"tocSkip\"></span></h1>\n",
        "<div class=\"toc\"><ul class=\"toc-item\"><li><span><a href=\"#Подготовка-данных\" data-toc-modified-id=\"Подготовка-данных-1\"><span class=\"toc-item-num\">1&nbsp;&nbsp;</span>Подготовка данных</a></span></li><li><span><a href=\"#Исследование-задачи\" data-toc-modified-id=\"Исследование-задачи-2\"><span class=\"toc-item-num\">2&nbsp;&nbsp;</span>Исследование задачи</a></span><ul class=\"toc-item\"><li><span><a href=\"#Разделение-на-выборки\" data-toc-modified-id=\"Разделение-на-выборки-2.1\"><span class=\"toc-item-num\">2.1&nbsp;&nbsp;</span>Разделение на выборки</a></span></li><li><span><a href=\"#Масштабирование-признаков\" data-toc-modified-id=\"Масштабирование-признаков-2.2\"><span class=\"toc-item-num\">2.2&nbsp;&nbsp;</span>Масштабирование признаков</a></span></li><li><span><a href=\"#Обучение-моделей\" data-toc-modified-id=\"Обучение-моделей-2.3\"><span class=\"toc-item-num\">2.3&nbsp;&nbsp;</span>Обучение моделей</a></span></li><li><span><a href=\"#Проверка-моделей-на-адекватность\" data-toc-modified-id=\"Проверка-моделей-на-адекватность-2.4\"><span class=\"toc-item-num\">2.4&nbsp;&nbsp;</span>Проверка моделей на адекватность</a></span></li></ul></li><li><span><a href=\"#Борьба-с-дисбалансом\" data-toc-modified-id=\"Борьба-с-дисбалансом-3\"><span class=\"toc-item-num\">3&nbsp;&nbsp;</span>Борьба с дисбалансом</a></span><ul class=\"toc-item\"><li><span><a href=\"#Сбалансируем-выборку\" data-toc-modified-id=\"Сбалансируем-выборку-3.1\"><span class=\"toc-item-num\">3.1&nbsp;&nbsp;</span>Сбалансируем выборку</a></span><ul class=\"toc-item\"><li><span><a href=\"#Upsampling\" data-toc-modified-id=\"Upsampling-3.1.1\"><span class=\"toc-item-num\">3.1.1&nbsp;&nbsp;</span>Upsampling</a></span></li><li><span><a href=\"#Downsamling\" data-toc-modified-id=\"Downsamling-3.1.2\"><span class=\"toc-item-num\">3.1.2&nbsp;&nbsp;</span>Downsamling</a></span></li></ul></li><li><span><a href=\"#Обучение-моделей-на-сбалансированной-выборке\" data-toc-modified-id=\"Обучение-моделей-на-сбалансированной-выборке-3.2\"><span class=\"toc-item-num\">3.2&nbsp;&nbsp;</span>Обучение моделей на сбалансированной выборке</a></span><ul class=\"toc-item\"><li><span><a href=\"#Обучение-моделей-на-увеличенной-выборке\" data-toc-modified-id=\"Обучение-моделей-на-увеличенной-выборке-3.2.1\"><span class=\"toc-item-num\">3.2.1&nbsp;&nbsp;</span>Обучение моделей на увеличенной выборке</a></span></li><li><span><a href=\"#Обучение-моделей-на-уменьшенной-выборке\" data-toc-modified-id=\"Обучение-моделей-на-уменьшенной-выборке-3.2.2\"><span class=\"toc-item-num\">3.2.2&nbsp;&nbsp;</span>Обучение моделей на уменьшенной выборке</a></span></li></ul></li><li><span><a href=\"#Улучшаем-модель-случайного-леса\" data-toc-modified-id=\"Улучшаем-модель-случайного-леса-3.3\"><span class=\"toc-item-num\">3.3&nbsp;&nbsp;</span>Улучшаем модель случайного леса</a></span></li></ul></li><li><span><a href=\"#Тестирование-модели\" data-toc-modified-id=\"Тестирование-модели-4\"><span class=\"toc-item-num\">4&nbsp;&nbsp;</span>Тестирование модели</a></span></li><li><span><a href=\"#Вывод\" data-toc-modified-id=\"Вывод-5\"><span class=\"toc-item-num\">5&nbsp;&nbsp;</span>Вывод</a></span></li><li><span><a href=\"#Чек-лист-готовности-проекта\" data-toc-modified-id=\"Чек-лист-готовности-проекта-6\"><span class=\"toc-item-num\">6&nbsp;&nbsp;</span>Чек-лист готовности проекта</a></span></li></ul></div>"
      ]
    },
    {
      "cell_type": "markdown",
      "metadata": {
        "id": "eWAoV34a-8D8"
      },
      "source": [
        "# Отток клиентов"
      ]
    },
    {
      "cell_type": "markdown",
      "metadata": {
        "id": "JLDlJFXj-8D8"
      },
      "source": [
        "Из «Бета-Банка» стали уходить клиенты. Каждый месяц. Немного, но заметно. Банковские маркетологи посчитали: сохранять текущих клиентов дешевле, чем привлекать новых.\n",
        "\n",
        "Нужно спрогнозировать, уйдёт клиент из банка в ближайшее время или нет. Вам предоставлены исторические данные о поведении клиентов и расторжении договоров с банком.\n",
        "\n",
        "Постройте модель с предельно большим значением *F1*-меры. Чтобы сдать проект успешно, нужно довести метрику до 0.59. Проверьте *F1*-меру на тестовой выборке самостоятельно.\n",
        "\n",
        "Дополнительно измеряйте *AUC-ROC*, сравнивайте её значение с *F1*-мерой.\n",
        "\n",
        "Источник данных: [https://www.kaggle.com/barelydedicated/bank-customer-churn-modeling](https://www.kaggle.com/barelydedicated/bank-customer-churn-modeling)"
      ]
    },
    {
      "cell_type": "markdown",
      "metadata": {
        "id": "mx1FRdZL-8D8"
      },
      "source": [
        "## Подготовка данных"
      ]
    },
    {
      "cell_type": "code",
      "execution_count": null,
      "metadata": {
        "id": "Ai3OYhtE-8D9"
      },
      "outputs": [],
      "source": [
        "#импортируем необходимые для работы библиотеки\n",
        "import pandas as pd\n",
        "import numpy as np\n",
        "from sklearn.model_selection import train_test_split\n",
        "from sklearn.preprocessing import StandardScaler\n",
        "from sklearn.tree import DecisionTreeClassifier\n",
        "from sklearn.ensemble import RandomForestClassifier\n",
        "from sklearn.linear_model import LogisticRegression\n",
        "from sklearn.metrics import accuracy_score\n",
        "from sklearn.metrics import confusion_matrix\n",
        "from sklearn.metrics import recall_score\n",
        "from sklearn.metrics import precision_score\n",
        "from sklearn.metrics import f1_score\n",
        "from sklearn.metrics import roc_auc_score\n",
        "from sklearn.utils import shuffle"
      ]
    },
    {
      "cell_type": "code",
      "execution_count": null,
      "metadata": {
        "scrolled": true,
        "id": "LzstD0mE-8D-",
        "outputId": "c72149a9-b14e-4e79-cf2a-2ba1e329bc06"
      },
      "outputs": [
        {
          "data": {
            "text/html": [
              "<div>\n",
              "<style scoped>\n",
              "    .dataframe tbody tr th:only-of-type {\n",
              "        vertical-align: middle;\n",
              "    }\n",
              "\n",
              "    .dataframe tbody tr th {\n",
              "        vertical-align: top;\n",
              "    }\n",
              "\n",
              "    .dataframe thead th {\n",
              "        text-align: right;\n",
              "    }\n",
              "</style>\n",
              "<table border=\"1\" class=\"dataframe\">\n",
              "  <thead>\n",
              "    <tr style=\"text-align: right;\">\n",
              "      <th></th>\n",
              "      <th>RowNumber</th>\n",
              "      <th>CustomerId</th>\n",
              "      <th>Surname</th>\n",
              "      <th>CreditScore</th>\n",
              "      <th>Geography</th>\n",
              "      <th>Gender</th>\n",
              "      <th>Age</th>\n",
              "      <th>Tenure</th>\n",
              "      <th>Balance</th>\n",
              "      <th>NumOfProducts</th>\n",
              "      <th>HasCrCard</th>\n",
              "      <th>IsActiveMember</th>\n",
              "      <th>EstimatedSalary</th>\n",
              "      <th>Exited</th>\n",
              "    </tr>\n",
              "  </thead>\n",
              "  <tbody>\n",
              "    <tr>\n",
              "      <th>0</th>\n",
              "      <td>1</td>\n",
              "      <td>15634602</td>\n",
              "      <td>Hargrave</td>\n",
              "      <td>619</td>\n",
              "      <td>France</td>\n",
              "      <td>Female</td>\n",
              "      <td>42</td>\n",
              "      <td>2.0</td>\n",
              "      <td>0.00</td>\n",
              "      <td>1</td>\n",
              "      <td>1</td>\n",
              "      <td>1</td>\n",
              "      <td>101348.88</td>\n",
              "      <td>1</td>\n",
              "    </tr>\n",
              "    <tr>\n",
              "      <th>1</th>\n",
              "      <td>2</td>\n",
              "      <td>15647311</td>\n",
              "      <td>Hill</td>\n",
              "      <td>608</td>\n",
              "      <td>Spain</td>\n",
              "      <td>Female</td>\n",
              "      <td>41</td>\n",
              "      <td>1.0</td>\n",
              "      <td>83807.86</td>\n",
              "      <td>1</td>\n",
              "      <td>0</td>\n",
              "      <td>1</td>\n",
              "      <td>112542.58</td>\n",
              "      <td>0</td>\n",
              "    </tr>\n",
              "    <tr>\n",
              "      <th>2</th>\n",
              "      <td>3</td>\n",
              "      <td>15619304</td>\n",
              "      <td>Onio</td>\n",
              "      <td>502</td>\n",
              "      <td>France</td>\n",
              "      <td>Female</td>\n",
              "      <td>42</td>\n",
              "      <td>8.0</td>\n",
              "      <td>159660.80</td>\n",
              "      <td>3</td>\n",
              "      <td>1</td>\n",
              "      <td>0</td>\n",
              "      <td>113931.57</td>\n",
              "      <td>1</td>\n",
              "    </tr>\n",
              "    <tr>\n",
              "      <th>3</th>\n",
              "      <td>4</td>\n",
              "      <td>15701354</td>\n",
              "      <td>Boni</td>\n",
              "      <td>699</td>\n",
              "      <td>France</td>\n",
              "      <td>Female</td>\n",
              "      <td>39</td>\n",
              "      <td>1.0</td>\n",
              "      <td>0.00</td>\n",
              "      <td>2</td>\n",
              "      <td>0</td>\n",
              "      <td>0</td>\n",
              "      <td>93826.63</td>\n",
              "      <td>0</td>\n",
              "    </tr>\n",
              "    <tr>\n",
              "      <th>4</th>\n",
              "      <td>5</td>\n",
              "      <td>15737888</td>\n",
              "      <td>Mitchell</td>\n",
              "      <td>850</td>\n",
              "      <td>Spain</td>\n",
              "      <td>Female</td>\n",
              "      <td>43</td>\n",
              "      <td>2.0</td>\n",
              "      <td>125510.82</td>\n",
              "      <td>1</td>\n",
              "      <td>1</td>\n",
              "      <td>1</td>\n",
              "      <td>79084.10</td>\n",
              "      <td>0</td>\n",
              "    </tr>\n",
              "    <tr>\n",
              "      <th>5</th>\n",
              "      <td>6</td>\n",
              "      <td>15574012</td>\n",
              "      <td>Chu</td>\n",
              "      <td>645</td>\n",
              "      <td>Spain</td>\n",
              "      <td>Male</td>\n",
              "      <td>44</td>\n",
              "      <td>8.0</td>\n",
              "      <td>113755.78</td>\n",
              "      <td>2</td>\n",
              "      <td>1</td>\n",
              "      <td>0</td>\n",
              "      <td>149756.71</td>\n",
              "      <td>1</td>\n",
              "    </tr>\n",
              "    <tr>\n",
              "      <th>6</th>\n",
              "      <td>7</td>\n",
              "      <td>15592531</td>\n",
              "      <td>Bartlett</td>\n",
              "      <td>822</td>\n",
              "      <td>France</td>\n",
              "      <td>Male</td>\n",
              "      <td>50</td>\n",
              "      <td>7.0</td>\n",
              "      <td>0.00</td>\n",
              "      <td>2</td>\n",
              "      <td>1</td>\n",
              "      <td>1</td>\n",
              "      <td>10062.80</td>\n",
              "      <td>0</td>\n",
              "    </tr>\n",
              "    <tr>\n",
              "      <th>7</th>\n",
              "      <td>8</td>\n",
              "      <td>15656148</td>\n",
              "      <td>Obinna</td>\n",
              "      <td>376</td>\n",
              "      <td>Germany</td>\n",
              "      <td>Female</td>\n",
              "      <td>29</td>\n",
              "      <td>4.0</td>\n",
              "      <td>115046.74</td>\n",
              "      <td>4</td>\n",
              "      <td>1</td>\n",
              "      <td>0</td>\n",
              "      <td>119346.88</td>\n",
              "      <td>1</td>\n",
              "    </tr>\n",
              "    <tr>\n",
              "      <th>8</th>\n",
              "      <td>9</td>\n",
              "      <td>15792365</td>\n",
              "      <td>He</td>\n",
              "      <td>501</td>\n",
              "      <td>France</td>\n",
              "      <td>Male</td>\n",
              "      <td>44</td>\n",
              "      <td>4.0</td>\n",
              "      <td>142051.07</td>\n",
              "      <td>2</td>\n",
              "      <td>0</td>\n",
              "      <td>1</td>\n",
              "      <td>74940.50</td>\n",
              "      <td>0</td>\n",
              "    </tr>\n",
              "    <tr>\n",
              "      <th>9</th>\n",
              "      <td>10</td>\n",
              "      <td>15592389</td>\n",
              "      <td>H?</td>\n",
              "      <td>684</td>\n",
              "      <td>France</td>\n",
              "      <td>Male</td>\n",
              "      <td>27</td>\n",
              "      <td>2.0</td>\n",
              "      <td>134603.88</td>\n",
              "      <td>1</td>\n",
              "      <td>1</td>\n",
              "      <td>1</td>\n",
              "      <td>71725.73</td>\n",
              "      <td>0</td>\n",
              "    </tr>\n",
              "  </tbody>\n",
              "</table>\n",
              "</div>"
            ],
            "text/plain": [
              "   RowNumber  CustomerId   Surname  CreditScore Geography  Gender  Age  \\\n",
              "0          1    15634602  Hargrave          619    France  Female   42   \n",
              "1          2    15647311      Hill          608     Spain  Female   41   \n",
              "2          3    15619304      Onio          502    France  Female   42   \n",
              "3          4    15701354      Boni          699    France  Female   39   \n",
              "4          5    15737888  Mitchell          850     Spain  Female   43   \n",
              "5          6    15574012       Chu          645     Spain    Male   44   \n",
              "6          7    15592531  Bartlett          822    France    Male   50   \n",
              "7          8    15656148    Obinna          376   Germany  Female   29   \n",
              "8          9    15792365        He          501    France    Male   44   \n",
              "9         10    15592389        H?          684    France    Male   27   \n",
              "\n",
              "   Tenure    Balance  NumOfProducts  HasCrCard  IsActiveMember  \\\n",
              "0     2.0       0.00              1          1               1   \n",
              "1     1.0   83807.86              1          0               1   \n",
              "2     8.0  159660.80              3          1               0   \n",
              "3     1.0       0.00              2          0               0   \n",
              "4     2.0  125510.82              1          1               1   \n",
              "5     8.0  113755.78              2          1               0   \n",
              "6     7.0       0.00              2          1               1   \n",
              "7     4.0  115046.74              4          1               0   \n",
              "8     4.0  142051.07              2          0               1   \n",
              "9     2.0  134603.88              1          1               1   \n",
              "\n",
              "   EstimatedSalary  Exited  \n",
              "0        101348.88       1  \n",
              "1        112542.58       0  \n",
              "2        113931.57       1  \n",
              "3         93826.63       0  \n",
              "4         79084.10       0  \n",
              "5        149756.71       1  \n",
              "6         10062.80       0  \n",
              "7        119346.88       1  \n",
              "8         74940.50       0  \n",
              "9         71725.73       0  "
            ]
          },
          "execution_count": 2,
          "metadata": {},
          "output_type": "execute_result"
        }
      ],
      "source": [
        "data = pd.read_csv('/datasets/Churn.csv') #считаем данные и сохраним их в переменной data\n",
        "data.head(10) #выведем первые 10 строк датафрейма на экран"
      ]
    },
    {
      "cell_type": "code",
      "execution_count": null,
      "metadata": {
        "id": "k7YmOHbI-8D-",
        "outputId": "c1d341ac-6737-4441-af43-b997bc68b2b7"
      },
      "outputs": [
        {
          "name": "stdout",
          "output_type": "stream",
          "text": [
            "<class 'pandas.core.frame.DataFrame'>\n",
            "RangeIndex: 10000 entries, 0 to 9999\n",
            "Data columns (total 14 columns):\n",
            " #   Column           Non-Null Count  Dtype  \n",
            "---  ------           --------------  -----  \n",
            " 0   RowNumber        10000 non-null  int64  \n",
            " 1   CustomerId       10000 non-null  int64  \n",
            " 2   Surname          10000 non-null  object \n",
            " 3   CreditScore      10000 non-null  int64  \n",
            " 4   Geography        10000 non-null  object \n",
            " 5   Gender           10000 non-null  object \n",
            " 6   Age              10000 non-null  int64  \n",
            " 7   Tenure           9091 non-null   float64\n",
            " 8   Balance          10000 non-null  float64\n",
            " 9   NumOfProducts    10000 non-null  int64  \n",
            " 10  HasCrCard        10000 non-null  int64  \n",
            " 11  IsActiveMember   10000 non-null  int64  \n",
            " 12  EstimatedSalary  10000 non-null  float64\n",
            " 13  Exited           10000 non-null  int64  \n",
            "dtypes: float64(3), int64(8), object(3)\n",
            "memory usage: 1.1+ MB\n"
          ]
        }
      ],
      "source": [
        "data.info() #также изучим основную информацию о датафрейме"
      ]
    },
    {
      "cell_type": "markdown",
      "metadata": {
        "id": "KjuDzsyF-8D-"
      },
      "source": [
        "Всего в датафрейме 10000 строк, пропуски есть только в столбце Tenure (сколько лет человек является клиентом банка). Этот признак будет важен для обучения моделей, поэтому заполним пропуски в нём с помощью медианного значения:"
      ]
    },
    {
      "cell_type": "code",
      "execution_count": null,
      "metadata": {
        "id": "joTLN0eQ-8D-"
      },
      "outputs": [],
      "source": [
        "data['Tenure'] = data['Tenure'].fillna(data['Tenure'].median())"
      ]
    },
    {
      "cell_type": "code",
      "execution_count": null,
      "metadata": {
        "scrolled": false,
        "id": "AJUwdAKD-8D_",
        "outputId": "efc45bcb-388d-4981-f098-e4f85f4df305"
      },
      "outputs": [
        {
          "data": {
            "text/plain": [
              "0"
            ]
          },
          "execution_count": 5,
          "metadata": {},
          "output_type": "execute_result"
        }
      ],
      "source": [
        "data['Tenure'].isna().sum()"
      ]
    },
    {
      "cell_type": "markdown",
      "metadata": {
        "id": "LiCNbuwa-8D_"
      },
      "source": [
        "Пропуски устранены. Посмотрим, есть ли дубликаты:"
      ]
    },
    {
      "cell_type": "code",
      "execution_count": null,
      "metadata": {
        "id": "L7wGh16Z-8D_",
        "outputId": "4c9980cc-ef5c-483a-b48a-6662fd4aff86"
      },
      "outputs": [
        {
          "data": {
            "text/plain": [
              "0"
            ]
          },
          "execution_count": 6,
          "metadata": {},
          "output_type": "execute_result"
        }
      ],
      "source": [
        "data.duplicated().sum()"
      ]
    },
    {
      "cell_type": "markdown",
      "metadata": {
        "id": "e8gJP_g1-8D_"
      },
      "source": [
        "Дубликатов тоже нет - можно двигаться дальше. В датафрейме есть столбцы RowNumber (номер строки), CustomerId (айди клиента) и Surname (фамилия клиента). Эти данные никак не влияют на целевой признак - уход из банка, - но могут запутать модель. Удалим эти столбцы."
      ]
    },
    {
      "cell_type": "code",
      "execution_count": null,
      "metadata": {
        "id": "y8tLDdxQ-8D_",
        "outputId": "0696979d-a306-41a4-aa02-182df8627ba6"
      },
      "outputs": [
        {
          "data": {
            "text/plain": [
              "(10000, 11)"
            ]
          },
          "execution_count": 7,
          "metadata": {},
          "output_type": "execute_result"
        }
      ],
      "source": [
        "data = data.drop(['RowNumber','CustomerId', 'Surname'], axis=1) #удалим лишние столбцы\n",
        "data.shape #посмотрим на размер обновлённого датафрейма"
      ]
    },
    {
      "cell_type": "markdown",
      "metadata": {
        "id": "gGTTzvfn-8EA"
      },
      "source": [
        "Также мы видим два столбца-признака с категориальными данными - Gender (пол клиента) и Geography (страна проживания). Посмотрим на уникальные значения в этих столбцах:"
      ]
    },
    {
      "cell_type": "code",
      "execution_count": null,
      "metadata": {
        "id": "ItMN8y45-8EA",
        "outputId": "75424d53-178e-49a4-e1f2-d495ecac90d4"
      },
      "outputs": [
        {
          "data": {
            "text/plain": [
              "array(['Female', 'Male'], dtype=object)"
            ]
          },
          "execution_count": 8,
          "metadata": {},
          "output_type": "execute_result"
        }
      ],
      "source": [
        "data['Gender'].unique()"
      ]
    },
    {
      "cell_type": "code",
      "execution_count": null,
      "metadata": {
        "scrolled": true,
        "id": "Gx4owUoX-8EA",
        "outputId": "5cb91a76-de29-47f6-cb92-bc30589c1b58"
      },
      "outputs": [
        {
          "data": {
            "text/plain": [
              "array(['France', 'Spain', 'Germany'], dtype=object)"
            ]
          },
          "execution_count": 9,
          "metadata": {},
          "output_type": "execute_result"
        }
      ],
      "source": [
        "data['Geography'].unique()"
      ]
    },
    {
      "cell_type": "markdown",
      "metadata": {
        "id": "nFuPwuT1-8EA"
      },
      "source": [
        "2 и 3 значения соответственно. Преобразуем эти колонки техникой OHE. Чтобы не попасть в дамми-ловушку, применим аргумент drop_first функции pd.get_dummies()."
      ]
    },
    {
      "cell_type": "code",
      "execution_count": null,
      "metadata": {
        "id": "yjAtMaTt-8EA",
        "outputId": "b1edae0a-5626-46df-aef0-3da73884ced6"
      },
      "outputs": [
        {
          "data": {
            "text/plain": [
              "(10000, 12)"
            ]
          },
          "execution_count": 10,
          "metadata": {},
          "output_type": "execute_result"
        }
      ],
      "source": [
        "data = pd.get_dummies(data, drop_first=True)\n",
        "data.shape #посмотрим на размер обновлённого датафрейма"
      ]
    },
    {
      "cell_type": "markdown",
      "metadata": {
        "id": "EE01UqVj-8EA"
      },
      "source": [
        "Во всех остальных столбцах преобразование данных не требуется - в них содержатся или числовые данные, или категориальные данные, подходящие для дальнейшего обучения моделей."
      ]
    },
    {
      "cell_type": "markdown",
      "metadata": {
        "id": "Ifbraq4o-8EA"
      },
      "source": [
        "**Вывод:** мы изучили исходные данные и подготовили их для дальнейшего машинного обучения: устранили пропуски, убедились в отсутствии дубликатов, удалили лишние столбцы и преобразовали некоторые данные с помощью OHE."
      ]
    },
    {
      "cell_type": "markdown",
      "metadata": {
        "id": "TQlXYmZT-8EA"
      },
      "source": [
        "## Исследование задачи"
      ]
    },
    {
      "cell_type": "markdown",
      "metadata": {
        "id": "uKolPska-8EB"
      },
      "source": [
        "### Разделение на выборки"
      ]
    },
    {
      "cell_type": "markdown",
      "metadata": {
        "id": "dj9tgGtB-8EB"
      },
      "source": [
        "Разделим данные на выборки: обучающую, валидационную и тестовую. В данном исследовании нет скрытой тестовой выборки, поэтому разделим данные в пропорции 3:1:1."
      ]
    },
    {
      "cell_type": "code",
      "execution_count": null,
      "metadata": {
        "id": "YEXzSK0w-8EB"
      },
      "outputs": [],
      "source": [
        "#укажем признаки и целевой признак\n",
        "features = data.drop('Exited', axis=1)\n",
        "target = data['Exited']"
      ]
    },
    {
      "cell_type": "markdown",
      "metadata": {
        "id": "PKX7HMvV-8EB"
      },
      "source": [
        "Стоит отметить, что целевой признак - Exited - это категориальное значение. Соответсвенно, в исследовании мы будем пользоваться методами классификации, а не регрессии."
      ]
    },
    {
      "cell_type": "markdown",
      "metadata": {
        "id": "fn6BwBHf-8EB"
      },
      "source": [
        "Сначала разобьём данные на обучающую и тестовую выборку. features_train - обучающие параметры, features_test - тестовые параметры, target_train - обучающее целевое значение, target_test - тестовое целевое значение. Так как мы разбиваем данные в соотношении 60%-20%-20%, и сейчас мы отделяем тестовую выборку, в которую входит и валидационная, в параметр test_size мы передадим 0.2+0.2=0.4. Также зададим параметр псевдослучайных чисел random_state."
      ]
    },
    {
      "cell_type": "code",
      "execution_count": null,
      "metadata": {
        "id": "ex9Kva77-8EB"
      },
      "outputs": [],
      "source": [
        "features_train, features_test, target_train, target_test = train_test_split(features,\n",
        "                                                                            target,\n",
        "                                                                            test_size=0.4,\n",
        "                                                                            random_state=12345\n",
        "                                                                           )"
      ]
    },
    {
      "cell_type": "markdown",
      "metadata": {
        "id": "rTUtYhc4-8EB"
      },
      "source": [
        "Посмотрим на размер обучающей выборки:"
      ]
    },
    {
      "cell_type": "code",
      "execution_count": null,
      "metadata": {
        "id": "Y3GJCEMr-8EB",
        "outputId": "2ecab8af-2531-4c25-eb3c-d3976ecf5338"
      },
      "outputs": [
        {
          "name": "stdout",
          "output_type": "stream",
          "text": [
            "(6000, 11)\n",
            "(6000,)\n"
          ]
        }
      ],
      "source": [
        "print(features_train.shape)\n",
        "print(target_train.shape)"
      ]
    },
    {
      "cell_type": "markdown",
      "metadata": {
        "id": "jZtOjovv-8EB"
      },
      "source": [
        "Теперь разобьём тестовую часть выборки на тестовую и валидационную: в параметр test_size мы передадим 0.5, поскольку сейчас мы работаем с 40% исходных данных (features_test и target_test), и нам нужно разделить их пополам и получить изначальное сооношение 3:1:1."
      ]
    },
    {
      "cell_type": "code",
      "execution_count": null,
      "metadata": {
        "id": "nBkI_yZE-8EG"
      },
      "outputs": [],
      "source": [
        "features_valid, features_test, target_valid, target_test = train_test_split(features_test,\n",
        "                                                                            target_test,\n",
        "                                                                            test_size=0.5,\n",
        "                                                                            random_state=12345\n",
        "                                                                           )"
      ]
    },
    {
      "cell_type": "markdown",
      "metadata": {
        "id": "GQ_izg4V-8EH"
      },
      "source": [
        "Посмотрим на размеры валидационной выборки:"
      ]
    },
    {
      "cell_type": "code",
      "execution_count": null,
      "metadata": {
        "id": "W8C2gpgW-8EH",
        "outputId": "62480d9e-4a8d-4fc2-b12d-8596b637b9ef"
      },
      "outputs": [
        {
          "name": "stdout",
          "output_type": "stream",
          "text": [
            "(2000, 11)\n",
            "(2000,)\n"
          ]
        }
      ],
      "source": [
        "print(features_valid.shape)\n",
        "print(target_valid.shape)"
      ]
    },
    {
      "cell_type": "markdown",
      "metadata": {
        "id": "3yZONJXU-8EH"
      },
      "source": [
        "Посмотрим на размеры тестовой выборки:"
      ]
    },
    {
      "cell_type": "code",
      "execution_count": null,
      "metadata": {
        "id": "J92Q9ZG7-8EH",
        "outputId": "cd6b8964-367b-4d11-b71c-cc85d84bc668"
      },
      "outputs": [
        {
          "name": "stdout",
          "output_type": "stream",
          "text": [
            "(2000, 11)\n",
            "(2000,)\n"
          ]
        }
      ],
      "source": [
        "print(features_test.shape)\n",
        "print(target_test.shape)"
      ]
    },
    {
      "cell_type": "markdown",
      "metadata": {
        "id": "5Rdw29cc-8EH"
      },
      "source": [
        "Данные разделены верно, в соотношении 3:1:1."
      ]
    },
    {
      "cell_type": "markdown",
      "metadata": {
        "id": "ZFz9vVZj-8EH"
      },
      "source": [
        "### Масштабирование признаков"
      ]
    },
    {
      "cell_type": "markdown",
      "metadata": {
        "id": "3AkNLb0N-8EH"
      },
      "source": [
        "Стандартизируем данные:"
      ]
    },
    {
      "cell_type": "code",
      "execution_count": null,
      "metadata": {
        "id": "ys1hUWkh-8EH",
        "outputId": "293c4c01-0050-40cc-9872-3981f9b4abb8"
      },
      "outputs": [
        {
          "name": "stderr",
          "output_type": "stream",
          "text": [
            "/tmp/ipykernel_32/3463045475.py:4: SettingWithCopyWarning: \n",
            "A value is trying to be set on a copy of a slice from a DataFrame.\n",
            "Try using .loc[row_indexer,col_indexer] = value instead\n",
            "\n",
            "See the caveats in the documentation: https://pandas.pydata.org/pandas-docs/stable/user_guide/indexing.html#returning-a-view-versus-a-copy\n",
            "  features_train[numeric] = scaler.transform(features_train[numeric]) #масштабируем численные признаки обучающей выборки\n",
            "/opt/conda/lib/python3.9/site-packages/pandas/core/indexing.py:1738: SettingWithCopyWarning: \n",
            "A value is trying to be set on a copy of a slice from a DataFrame.\n",
            "Try using .loc[row_indexer,col_indexer] = value instead\n",
            "\n",
            "See the caveats in the documentation: https://pandas.pydata.org/pandas-docs/stable/user_guide/indexing.html#returning-a-view-versus-a-copy\n",
            "  self._setitem_single_column(loc, value[:, i].tolist(), pi)\n"
          ]
        }
      ],
      "source": [
        "numeric = ['CreditScore', 'Age', 'Tenure', 'Balance', 'NumOfProducts', 'EstimatedSalary'] #зафиксируем числовые признаки\n",
        "scaler = StandardScaler()\n",
        "scaler.fit(features_train[numeric])\n",
        "features_train[numeric] = scaler.transform(features_train[numeric]) #масштабируем численные признаки обучающей выборки\n",
        "features_valid[numeric] = scaler.transform(features_valid[numeric]) #масштабируем численные признаки валидационной выборки\n",
        "features_test[numeric] = scaler.transform(features_test[numeric]) #масштабируем численные признаки тестовой выборки\n",
        "pd.options.mode.chained_assignment = None"
      ]
    },
    {
      "cell_type": "markdown",
      "metadata": {
        "id": "rVNzXd11-8EI"
      },
      "source": [
        "Выведем по пять строк каждой группы признаков (обучающих, валидационных, тестовых), чтобы убедиться, что масштабирование прошло успешно."
      ]
    },
    {
      "cell_type": "code",
      "execution_count": null,
      "metadata": {
        "scrolled": true,
        "id": "4RN9N4YG-8EI",
        "outputId": "87c98719-5fbc-4089-f571-d240b8592687"
      },
      "outputs": [
        {
          "data": {
            "text/html": [
              "<div>\n",
              "<style scoped>\n",
              "    .dataframe tbody tr th:only-of-type {\n",
              "        vertical-align: middle;\n",
              "    }\n",
              "\n",
              "    .dataframe tbody tr th {\n",
              "        vertical-align: top;\n",
              "    }\n",
              "\n",
              "    .dataframe thead th {\n",
              "        text-align: right;\n",
              "    }\n",
              "</style>\n",
              "<table border=\"1\" class=\"dataframe\">\n",
              "  <thead>\n",
              "    <tr style=\"text-align: right;\">\n",
              "      <th></th>\n",
              "      <th>CreditScore</th>\n",
              "      <th>Age</th>\n",
              "      <th>Tenure</th>\n",
              "      <th>Balance</th>\n",
              "      <th>NumOfProducts</th>\n",
              "      <th>HasCrCard</th>\n",
              "      <th>IsActiveMember</th>\n",
              "      <th>EstimatedSalary</th>\n",
              "      <th>Geography_Germany</th>\n",
              "      <th>Geography_Spain</th>\n",
              "      <th>Gender_Male</th>\n",
              "    </tr>\n",
              "  </thead>\n",
              "  <tbody>\n",
              "    <tr>\n",
              "      <th>7479</th>\n",
              "      <td>-0.886751</td>\n",
              "      <td>-0.373192</td>\n",
              "      <td>1.082277</td>\n",
              "      <td>1.232271</td>\n",
              "      <td>-0.891560</td>\n",
              "      <td>1</td>\n",
              "      <td>0</td>\n",
              "      <td>-0.187705</td>\n",
              "      <td>0</td>\n",
              "      <td>1</td>\n",
              "      <td>1</td>\n",
              "    </tr>\n",
              "    <tr>\n",
              "      <th>3411</th>\n",
              "      <td>0.608663</td>\n",
              "      <td>-0.183385</td>\n",
              "      <td>1.082277</td>\n",
              "      <td>0.600563</td>\n",
              "      <td>-0.891560</td>\n",
              "      <td>0</td>\n",
              "      <td>0</td>\n",
              "      <td>-0.333945</td>\n",
              "      <td>0</td>\n",
              "      <td>0</td>\n",
              "      <td>0</td>\n",
              "    </tr>\n",
              "    <tr>\n",
              "      <th>6027</th>\n",
              "      <td>2.052152</td>\n",
              "      <td>0.480939</td>\n",
              "      <td>-0.737696</td>\n",
              "      <td>1.027098</td>\n",
              "      <td>0.830152</td>\n",
              "      <td>0</td>\n",
              "      <td>1</td>\n",
              "      <td>1.503095</td>\n",
              "      <td>1</td>\n",
              "      <td>0</td>\n",
              "      <td>1</td>\n",
              "    </tr>\n",
              "    <tr>\n",
              "      <th>1247</th>\n",
              "      <td>-1.457915</td>\n",
              "      <td>-1.417129</td>\n",
              "      <td>0.354288</td>\n",
              "      <td>-1.233163</td>\n",
              "      <td>0.830152</td>\n",
              "      <td>1</td>\n",
              "      <td>0</td>\n",
              "      <td>-1.071061</td>\n",
              "      <td>0</td>\n",
              "      <td>0</td>\n",
              "      <td>1</td>\n",
              "    </tr>\n",
              "    <tr>\n",
              "      <th>3716</th>\n",
              "      <td>0.130961</td>\n",
              "      <td>-1.132419</td>\n",
              "      <td>-1.101690</td>\n",
              "      <td>1.140475</td>\n",
              "      <td>-0.891560</td>\n",
              "      <td>0</td>\n",
              "      <td>0</td>\n",
              "      <td>1.524268</td>\n",
              "      <td>1</td>\n",
              "      <td>0</td>\n",
              "      <td>0</td>\n",
              "    </tr>\n",
              "  </tbody>\n",
              "</table>\n",
              "</div>"
            ],
            "text/plain": [
              "      CreditScore       Age    Tenure   Balance  NumOfProducts  HasCrCard  \\\n",
              "7479    -0.886751 -0.373192  1.082277  1.232271      -0.891560          1   \n",
              "3411     0.608663 -0.183385  1.082277  0.600563      -0.891560          0   \n",
              "6027     2.052152  0.480939 -0.737696  1.027098       0.830152          0   \n",
              "1247    -1.457915 -1.417129  0.354288 -1.233163       0.830152          1   \n",
              "3716     0.130961 -1.132419 -1.101690  1.140475      -0.891560          0   \n",
              "\n",
              "      IsActiveMember  EstimatedSalary  Geography_Germany  Geography_Spain  \\\n",
              "7479               0        -0.187705                  0                1   \n",
              "3411               0        -0.333945                  0                0   \n",
              "6027               1         1.503095                  1                0   \n",
              "1247               0        -1.071061                  0                0   \n",
              "3716               0         1.524268                  1                0   \n",
              "\n",
              "      Gender_Male  \n",
              "7479            1  \n",
              "3411            0  \n",
              "6027            1  \n",
              "1247            1  \n",
              "3716            0  "
            ]
          },
          "execution_count": 18,
          "metadata": {},
          "output_type": "execute_result"
        }
      ],
      "source": [
        "features_train.head()"
      ]
    },
    {
      "cell_type": "code",
      "execution_count": null,
      "metadata": {
        "id": "mFHQrz-O-8EI",
        "outputId": "ea3a0066-5f3e-42c6-b711-9754e1de6ebd"
      },
      "outputs": [
        {
          "data": {
            "text/html": [
              "<div>\n",
              "<style scoped>\n",
              "    .dataframe tbody tr th:only-of-type {\n",
              "        vertical-align: middle;\n",
              "    }\n",
              "\n",
              "    .dataframe tbody tr th {\n",
              "        vertical-align: top;\n",
              "    }\n",
              "\n",
              "    .dataframe thead th {\n",
              "        text-align: right;\n",
              "    }\n",
              "</style>\n",
              "<table border=\"1\" class=\"dataframe\">\n",
              "  <thead>\n",
              "    <tr style=\"text-align: right;\">\n",
              "      <th></th>\n",
              "      <th>CreditScore</th>\n",
              "      <th>Age</th>\n",
              "      <th>Tenure</th>\n",
              "      <th>Balance</th>\n",
              "      <th>NumOfProducts</th>\n",
              "      <th>HasCrCard</th>\n",
              "      <th>IsActiveMember</th>\n",
              "      <th>EstimatedSalary</th>\n",
              "      <th>Geography_Germany</th>\n",
              "      <th>Geography_Spain</th>\n",
              "      <th>Gender_Male</th>\n",
              "    </tr>\n",
              "  </thead>\n",
              "  <tbody>\n",
              "    <tr>\n",
              "      <th>8532</th>\n",
              "      <td>-0.699824</td>\n",
              "      <td>-0.373192</td>\n",
              "      <td>-1.101690</td>\n",
              "      <td>-1.233163</td>\n",
              "      <td>0.830152</td>\n",
              "      <td>1</td>\n",
              "      <td>0</td>\n",
              "      <td>-0.015173</td>\n",
              "      <td>0</td>\n",
              "      <td>0</td>\n",
              "      <td>0</td>\n",
              "    </tr>\n",
              "    <tr>\n",
              "      <th>5799</th>\n",
              "      <td>-0.284431</td>\n",
              "      <td>0.575842</td>\n",
              "      <td>-0.737696</td>\n",
              "      <td>-1.233163</td>\n",
              "      <td>-0.891560</td>\n",
              "      <td>1</td>\n",
              "      <td>1</td>\n",
              "      <td>1.471724</td>\n",
              "      <td>0</td>\n",
              "      <td>0</td>\n",
              "      <td>0</td>\n",
              "    </tr>\n",
              "    <tr>\n",
              "      <th>5511</th>\n",
              "      <td>0.151731</td>\n",
              "      <td>-0.657902</td>\n",
              "      <td>-1.829679</td>\n",
              "      <td>0.438711</td>\n",
              "      <td>-0.891560</td>\n",
              "      <td>1</td>\n",
              "      <td>0</td>\n",
              "      <td>-1.367107</td>\n",
              "      <td>1</td>\n",
              "      <td>0</td>\n",
              "      <td>1</td>\n",
              "    </tr>\n",
              "    <tr>\n",
              "      <th>7365</th>\n",
              "      <td>-0.876366</td>\n",
              "      <td>-0.278288</td>\n",
              "      <td>1.810266</td>\n",
              "      <td>1.239884</td>\n",
              "      <td>-0.891560</td>\n",
              "      <td>1</td>\n",
              "      <td>1</td>\n",
              "      <td>-0.786517</td>\n",
              "      <td>0</td>\n",
              "      <td>1</td>\n",
              "      <td>0</td>\n",
              "    </tr>\n",
              "    <tr>\n",
              "      <th>7367</th>\n",
              "      <td>-0.481743</td>\n",
              "      <td>0.291132</td>\n",
              "      <td>1.810266</td>\n",
              "      <td>-1.233163</td>\n",
              "      <td>0.830152</td>\n",
              "      <td>1</td>\n",
              "      <td>0</td>\n",
              "      <td>1.358533</td>\n",
              "      <td>0</td>\n",
              "      <td>1</td>\n",
              "      <td>1</td>\n",
              "    </tr>\n",
              "  </tbody>\n",
              "</table>\n",
              "</div>"
            ],
            "text/plain": [
              "      CreditScore       Age    Tenure   Balance  NumOfProducts  HasCrCard  \\\n",
              "8532    -0.699824 -0.373192 -1.101690 -1.233163       0.830152          1   \n",
              "5799    -0.284431  0.575842 -0.737696 -1.233163      -0.891560          1   \n",
              "5511     0.151731 -0.657902 -1.829679  0.438711      -0.891560          1   \n",
              "7365    -0.876366 -0.278288  1.810266  1.239884      -0.891560          1   \n",
              "7367    -0.481743  0.291132  1.810266 -1.233163       0.830152          1   \n",
              "\n",
              "      IsActiveMember  EstimatedSalary  Geography_Germany  Geography_Spain  \\\n",
              "8532               0        -0.015173                  0                0   \n",
              "5799               1         1.471724                  0                0   \n",
              "5511               0        -1.367107                  1                0   \n",
              "7365               1        -0.786517                  0                1   \n",
              "7367               0         1.358533                  0                1   \n",
              "\n",
              "      Gender_Male  \n",
              "8532            0  \n",
              "5799            0  \n",
              "5511            1  \n",
              "7365            0  \n",
              "7367            1  "
            ]
          },
          "execution_count": 19,
          "metadata": {},
          "output_type": "execute_result"
        }
      ],
      "source": [
        "features_valid.head()"
      ]
    },
    {
      "cell_type": "code",
      "execution_count": null,
      "metadata": {
        "scrolled": false,
        "id": "zxBQ06A5-8EI",
        "outputId": "e26cf4aa-7aaa-4183-e0d5-2b5aa5364626"
      },
      "outputs": [
        {
          "data": {
            "text/html": [
              "<div>\n",
              "<style scoped>\n",
              "    .dataframe tbody tr th:only-of-type {\n",
              "        vertical-align: middle;\n",
              "    }\n",
              "\n",
              "    .dataframe tbody tr th {\n",
              "        vertical-align: top;\n",
              "    }\n",
              "\n",
              "    .dataframe thead th {\n",
              "        text-align: right;\n",
              "    }\n",
              "</style>\n",
              "<table border=\"1\" class=\"dataframe\">\n",
              "  <thead>\n",
              "    <tr style=\"text-align: right;\">\n",
              "      <th></th>\n",
              "      <th>CreditScore</th>\n",
              "      <th>Age</th>\n",
              "      <th>Tenure</th>\n",
              "      <th>Balance</th>\n",
              "      <th>NumOfProducts</th>\n",
              "      <th>HasCrCard</th>\n",
              "      <th>IsActiveMember</th>\n",
              "      <th>EstimatedSalary</th>\n",
              "      <th>Geography_Germany</th>\n",
              "      <th>Geography_Spain</th>\n",
              "      <th>Gender_Male</th>\n",
              "    </tr>\n",
              "  </thead>\n",
              "  <tbody>\n",
              "    <tr>\n",
              "      <th>7041</th>\n",
              "      <td>-2.226392</td>\n",
              "      <td>-0.088482</td>\n",
              "      <td>-1.101690</td>\n",
              "      <td>-1.233163</td>\n",
              "      <td>0.830152</td>\n",
              "      <td>1</td>\n",
              "      <td>0</td>\n",
              "      <td>0.647083</td>\n",
              "      <td>0</td>\n",
              "      <td>0</td>\n",
              "      <td>1</td>\n",
              "    </tr>\n",
              "    <tr>\n",
              "      <th>5709</th>\n",
              "      <td>-0.087120</td>\n",
              "      <td>0.006422</td>\n",
              "      <td>1.446272</td>\n",
              "      <td>-1.233163</td>\n",
              "      <td>-0.891560</td>\n",
              "      <td>1</td>\n",
              "      <td>0</td>\n",
              "      <td>-1.658410</td>\n",
              "      <td>0</td>\n",
              "      <td>0</td>\n",
              "      <td>0</td>\n",
              "    </tr>\n",
              "    <tr>\n",
              "      <th>7117</th>\n",
              "      <td>-0.917905</td>\n",
              "      <td>-0.752805</td>\n",
              "      <td>-0.009707</td>\n",
              "      <td>0.722307</td>\n",
              "      <td>-0.891560</td>\n",
              "      <td>1</td>\n",
              "      <td>1</td>\n",
              "      <td>-1.369334</td>\n",
              "      <td>0</td>\n",
              "      <td>1</td>\n",
              "      <td>1</td>\n",
              "    </tr>\n",
              "    <tr>\n",
              "      <th>7775</th>\n",
              "      <td>-0.253277</td>\n",
              "      <td>0.101325</td>\n",
              "      <td>1.810266</td>\n",
              "      <td>-1.233163</td>\n",
              "      <td>0.830152</td>\n",
              "      <td>1</td>\n",
              "      <td>0</td>\n",
              "      <td>0.075086</td>\n",
              "      <td>0</td>\n",
              "      <td>1</td>\n",
              "      <td>1</td>\n",
              "    </tr>\n",
              "    <tr>\n",
              "      <th>8735</th>\n",
              "      <td>0.785204</td>\n",
              "      <td>-0.847708</td>\n",
              "      <td>1.810266</td>\n",
              "      <td>0.615625</td>\n",
              "      <td>-0.891560</td>\n",
              "      <td>0</td>\n",
              "      <td>1</td>\n",
              "      <td>-1.070919</td>\n",
              "      <td>0</td>\n",
              "      <td>0</td>\n",
              "      <td>1</td>\n",
              "    </tr>\n",
              "  </tbody>\n",
              "</table>\n",
              "</div>"
            ],
            "text/plain": [
              "      CreditScore       Age    Tenure   Balance  NumOfProducts  HasCrCard  \\\n",
              "7041    -2.226392 -0.088482 -1.101690 -1.233163       0.830152          1   \n",
              "5709    -0.087120  0.006422  1.446272 -1.233163      -0.891560          1   \n",
              "7117    -0.917905 -0.752805 -0.009707  0.722307      -0.891560          1   \n",
              "7775    -0.253277  0.101325  1.810266 -1.233163       0.830152          1   \n",
              "8735     0.785204 -0.847708  1.810266  0.615625      -0.891560          0   \n",
              "\n",
              "      IsActiveMember  EstimatedSalary  Geography_Germany  Geography_Spain  \\\n",
              "7041               0         0.647083                  0                0   \n",
              "5709               0        -1.658410                  0                0   \n",
              "7117               1        -1.369334                  0                1   \n",
              "7775               0         0.075086                  0                1   \n",
              "8735               1        -1.070919                  0                0   \n",
              "\n",
              "      Gender_Male  \n",
              "7041            1  \n",
              "5709            0  \n",
              "7117            1  \n",
              "7775            1  \n",
              "8735            1  "
            ]
          },
          "execution_count": 20,
          "metadata": {},
          "output_type": "execute_result"
        }
      ],
      "source": [
        "features_test.head()"
      ]
    },
    {
      "cell_type": "markdown",
      "metadata": {
        "id": "w8oWyNlQ-8EI"
      },
      "source": [
        "### Обучение моделей"
      ]
    },
    {
      "cell_type": "markdown",
      "metadata": {
        "id": "oMvwFMuH-8EI"
      },
      "source": [
        "Обучим три модели: решающее дерево, случайный лес, логистическую регрессию. Сравним точность этих моделей."
      ]
    },
    {
      "cell_type": "code",
      "execution_count": null,
      "metadata": {
        "id": "d1NX__Ca-8EI"
      },
      "outputs": [],
      "source": [
        "#обучаем решающее дерево\n",
        "model_tree = DecisionTreeClassifier(random_state=12345)\n",
        "model_tree.fit(features_train, target_train)\n",
        "predictions_valid_tree = model_tree.predict(features_valid)\n",
        "probabilities_valid_tree = model_tree.predict_proba(features_valid)\n",
        "probabilities_one_valid_tree = probabilities_valid_tree[:, 1]\n",
        "#рассчитаем значение accuracy\n",
        "accuracy_tree = accuracy_score(predictions_valid_tree, target_valid)"
      ]
    },
    {
      "cell_type": "code",
      "execution_count": null,
      "metadata": {
        "id": "GpZYraGy-8EI"
      },
      "outputs": [],
      "source": [
        "#обучаем случайный лес\n",
        "model_forest = RandomForestClassifier(random_state=12345)\n",
        "model_forest.fit(features_train, target_train)\n",
        "predictions_valid_forest = model_forest.predict(features_valid)\n",
        "probabilities_valid_forest = model_forest.predict_proba(features_valid)\n",
        "probabilities_one_valid_forest = probabilities_valid_forest[:, 1]\n",
        "#рассчитаем значение accuracy\n",
        "accuracy_forest = accuracy_score(predictions_valid_forest, target_valid)"
      ]
    },
    {
      "cell_type": "code",
      "execution_count": null,
      "metadata": {
        "id": "uhwB9ef--8EJ"
      },
      "outputs": [],
      "source": [
        "#обучаем логистическую регрессию\n",
        "model_regr = LogisticRegression(random_state=12345, solver='lbfgs', max_iter=1000)\n",
        "model_regr.fit(features_train, target_train)\n",
        "predictions_valid_regr = model_regr.predict(features_valid)\n",
        "probabilities_valid_regr = model_regr.predict_proba(features_valid)\n",
        "probabilities_one_valid_regr = probabilities_valid_regr[:, 1]\n",
        "#рассчитаем значение accuracy\n",
        "accuracy_regr = accuracy_score(predictions_valid_regr, target_valid)"
      ]
    },
    {
      "cell_type": "code",
      "execution_count": null,
      "metadata": {
        "id": "TAjcIAp5-8EJ",
        "outputId": "8105eb76-71c9-45ff-c04c-8b698304e92a"
      },
      "outputs": [
        {
          "name": "stdout",
          "output_type": "stream",
          "text": [
            "Значение accuracy:\n",
            "Решающее дерево: 0.7935\n",
            "Случайный лес: 0.8585\n",
            "Логистическая регрессия: 0.802\n"
          ]
        }
      ],
      "source": [
        "print('Значение accuracy:')\n",
        "print('Решающее дерево:', accuracy_tree)\n",
        "print('Случайный лес:', accuracy_forest)\n",
        "print('Логистическая регрессия:', accuracy_regr)"
      ]
    },
    {
      "cell_type": "markdown",
      "metadata": {
        "id": "Urkqx9lN-8EJ"
      },
      "source": [
        "Все значения достаточно высокие, выше всего значение у случайного леса (0,8585). Нужно проверить модели на адекватность."
      ]
    },
    {
      "cell_type": "markdown",
      "metadata": {
        "id": "0wLcWE8_-8EJ"
      },
      "source": [
        "### Проверка моделей на адекватность"
      ]
    },
    {
      "cell_type": "markdown",
      "metadata": {
        "id": "I3virJEc-8EJ"
      },
      "source": [
        "Для начала проверим, как часто в целевом признаке встречается класс «1» или «0»."
      ]
    },
    {
      "cell_type": "code",
      "execution_count": null,
      "metadata": {
        "id": "M00KqT8D-8EJ",
        "outputId": "495f6972-70a7-4b20-e03d-3b130cb6b529"
      },
      "outputs": [
        {
          "name": "stdout",
          "output_type": "stream",
          "text": [
            "0    0.7963\n",
            "1    0.2037\n",
            "Name: Exited, dtype: float64\n"
          ]
        },
        {
          "data": {
            "text/plain": [
              "<AxesSubplot:>"
            ]
          },
          "execution_count": 25,
          "metadata": {},
          "output_type": "execute_result"
        },
        {
          "data": {
            "image/png": "[encoded data removed]",
            "text/plain": [
              "<Figure size 432x288 with 1 Axes>"
            ]
          },
          "metadata": {
            "needs_background": "light"
          },
          "output_type": "display_data"
        }
      ],
      "source": [
        "class_frequency = data['Exited'].value_counts(normalize=True)\n",
        "print(class_frequency)\n",
        "\n",
        "\n",
        "class_frequency.plot(kind='bar')"
      ]
    },
    {
      "cell_type": "markdown",
      "metadata": {
        "id": "Emsjg5Of-8EJ"
      },
      "source": [
        "Заметно, что наблюдается значительный дисбаланс классов: значение \"0\" - около 80%, значение \"1\" - около 20%. Можно ожидать, что результаты предсказаний моделей будут сильно склоняться к одному варианту ответов."
      ]
    },
    {
      "cell_type": "markdown",
      "metadata": {
        "id": "GGYE_T3g-8EJ"
      },
      "source": [
        "Проанализируем частоты классов в результатах предсказаний наших трёх моделей:"
      ]
    },
    {
      "cell_type": "code",
      "execution_count": null,
      "metadata": {
        "id": "yUd2qbpu-8EJ",
        "outputId": "8802aa60-0aad-44e8-e258-1e68cc9085b4"
      },
      "outputs": [
        {
          "name": "stdout",
          "output_type": "stream",
          "text": [
            "0    0.7955\n",
            "1    0.2045\n",
            "dtype: float64\n"
          ]
        },
        {
          "data": {
            "text/plain": [
              "<AxesSubplot:>"
            ]
          },
          "execution_count": 26,
          "metadata": {},
          "output_type": "execute_result"
        },
        {
          "data": {
            "image/png": "[encoded data removed]",
            "text/plain": [
              "<Figure size 432x288 with 1 Axes>"
            ]
          },
          "metadata": {
            "needs_background": "light"
          },
          "output_type": "display_data"
        }
      ],
      "source": [
        "#для решающего дерева:\n",
        "predictions_valid_tree = pd.Series(predictions_valid_tree)\n",
        "class_frequency_tree = predictions_valid_tree.value_counts(normalize=True)\n",
        "print(class_frequency_tree)\n",
        "\n",
        "\n",
        "class_frequency_tree.plot(kind='bar')"
      ]
    },
    {
      "cell_type": "code",
      "execution_count": null,
      "metadata": {
        "id": "I01B1fhx-8EJ",
        "outputId": "b6b6373f-f5ce-47ec-be8c-af385eebc52b"
      },
      "outputs": [
        {
          "name": "stdout",
          "output_type": "stream",
          "text": [
            "0    0.8745\n",
            "1    0.1255\n",
            "dtype: float64\n"
          ]
        },
        {
          "data": {
            "text/plain": [
              "<AxesSubplot:>"
            ]
          },
          "execution_count": 27,
          "metadata": {},
          "output_type": "execute_result"
        },
        {
          "data": {
            "image/png": "[encoded data removed]",
            "text/plain": [
              "<Figure size 432x288 with 1 Axes>"
            ]
          },
          "metadata": {
            "needs_background": "light"
          },
          "output_type": "display_data"
        }
      ],
      "source": [
        "#для случайного леса:\n",
        "predictions_valid_forest = pd.Series(predictions_valid_forest)\n",
        "class_frequency_forest = predictions_valid_forest.value_counts(normalize=True)\n",
        "print(class_frequency_forest)\n",
        "\n",
        "\n",
        "class_frequency_forest.plot(kind='bar')"
      ]
    },
    {
      "cell_type": "code",
      "execution_count": null,
      "metadata": {
        "scrolled": true,
        "id": "DZ_y67Er-8EK",
        "outputId": "90d0b530-36a8-4f4f-d122-429c3cbecd98"
      },
      "outputs": [
        {
          "name": "stdout",
          "output_type": "stream",
          "text": [
            "0    0.913\n",
            "1    0.087\n",
            "dtype: float64\n"
          ]
        },
        {
          "data": {
            "text/plain": [
              "<AxesSubplot:>"
            ]
          },
          "execution_count": 28,
          "metadata": {},
          "output_type": "execute_result"
        },
        {
          "data": {
            "image/png": "[encoded data removed]",
            "text/plain": [
              "<Figure size 432x288 with 1 Axes>"
            ]
          },
          "metadata": {
            "needs_background": "light"
          },
          "output_type": "display_data"
        }
      ],
      "source": [
        "#для логистической регрессии:\n",
        "predictions_valid_regr = pd.Series(predictions_valid_regr)\n",
        "class_frequency_regr = predictions_valid_regr.value_counts(normalize=True)\n",
        "print(class_frequency_regr)\n",
        "\n",
        "\n",
        "class_frequency_regr.plot(kind='bar')"
      ]
    },
    {
      "cell_type": "markdown",
      "metadata": {
        "id": "DHmrC7O4-8EK"
      },
      "source": [
        "У всех трёх моделей также наблюдается схожий дисбаланс в предсказаниях - подавляющее большинство занимает класс ответов \"0\"."
      ]
    },
    {
      "cell_type": "markdown",
      "metadata": {
        "id": "4iaTo50T-8EK"
      },
      "source": [
        "Также сравним качество предсказаний всех трёх моделей с константной моделью - она всегда будет прогнозировать класс \"0\"."
      ]
    },
    {
      "cell_type": "code",
      "execution_count": null,
      "metadata": {
        "id": "l9NmeCVF-8EK",
        "outputId": "d48a263f-c44e-4300-e95b-728420c1c1db"
      },
      "outputs": [
        {
          "name": "stdout",
          "output_type": "stream",
          "text": [
            "Значение accuracy:\n",
            "Решающее дерево: 0.7935\n",
            "Случайный лес: 0.8585\n",
            "Логистическая регрессия: 0.802\n",
            "Константная модель: 0.7963\n"
          ]
        }
      ],
      "source": [
        "target_predict_constant = pd.Series([0]*len(target))\n",
        "print('Значение accuracy:')\n",
        "print('Решающее дерево:', accuracy_tree)\n",
        "print('Случайный лес:', accuracy_forest)\n",
        "print('Логистическая регрессия:', accuracy_regr)\n",
        "print('Константная модель:', accuracy_score(target, target_predict_constant))"
      ]
    },
    {
      "cell_type": "markdown",
      "metadata": {
        "id": "4YmpJBOj-8EK"
      },
      "source": [
        "Таким образом, accuracy всех рассмотренных нами моделей близка или чуть выше accuracy константной модели. Это означает, что ни одна модель не прошла проверку на адекватность из-за выраженного дисбаланса классов. Посмотрим на матрицу ошибок для кажой модели, чтобы подробнее изучить проблему:"
      ]
    },
    {
      "cell_type": "code",
      "execution_count": null,
      "metadata": {
        "id": "jRHW9PQz-8EK",
        "outputId": "aa4196e7-6978-40a5-b677-dcb50e20a0da"
      },
      "outputs": [
        {
          "name": "stdout",
          "output_type": "stream",
          "text": [
            "Матрица ошибок решающего дерева: [[1380  202]\n",
            " [ 211  207]]\n",
            "\n",
            "Матрица ошибок случайного леса: [[1524   58]\n",
            " [ 225  193]]\n",
            "\n",
            "Матрица ошибок логистической регрессии: [[1506   76]\n",
            " [ 320   98]]\n"
          ]
        }
      ],
      "source": [
        "print('Матрица ошибок решающего дерева:', confusion_matrix(target_valid, predictions_valid_tree))\n",
        "print()\n",
        "print('Матрица ошибок случайного леса:', confusion_matrix(target_valid, predictions_valid_forest))\n",
        "print()\n",
        "print('Матрица ошибок логистической регрессии:', confusion_matrix(target_valid, predictions_valid_regr))"
      ]
    },
    {
      "cell_type": "markdown",
      "metadata": {
        "id": "BqjtZK4s-8EK"
      },
      "source": [
        "У всех трёх моделей большая доля ложно отрицательных (FN) ответов, особенно у логистической регрессии. Решающее дерево также склонно давать ложно положительные (FP) ответы. Также посмотрим на полноту, точность и меру F-1 для всех моделей:"
      ]
    },
    {
      "cell_type": "code",
      "execution_count": null,
      "metadata": {
        "id": "hjdSg7zx-8EK",
        "outputId": "e76beee1-699c-4c2a-8261-6e9a4ded2521"
      },
      "outputs": [
        {
          "name": "stdout",
          "output_type": "stream",
          "text": [
            "Решающее дерево:\n",
            "Полнота: 0.49521531100478466\n",
            "Точность: 0.5061124694376528\n",
            "F-1: 0.5006045949214026\n",
            "AUC-ROC: 0.6837644190927842\n",
            "\n",
            "Случайный лес:\n",
            "Полнота: 0.46172248803827753\n",
            "Точность: 0.7689243027888446\n",
            "F-1: 0.5769805680119582\n",
            "AUC-ROC: 0.840733672475638\n",
            "\n",
            "Логистическая регрессия:\n",
            "Полнота: 0.23444976076555024\n",
            "Точность: 0.5632183908045977\n",
            "F-1: 0.33108108108108103\n",
            "AUC-ROC: 0.7588026784580114\n"
          ]
        }
      ],
      "source": [
        "print('Решающее дерево:')\n",
        "print('Полнота:', recall_score(target_valid, predictions_valid_tree))\n",
        "print('Точность:', precision_score(target_valid, predictions_valid_tree))\n",
        "print('F-1:', f1_score(target_valid, predictions_valid_tree))\n",
        "print('AUC-ROC:', roc_auc_score(target_valid, probabilities_one_valid_tree))\n",
        "print()\n",
        "print('Случайный лес:')\n",
        "print('Полнота:', recall_score(target_valid, predictions_valid_forest))\n",
        "print('Точность:', precision_score(target_valid, predictions_valid_forest))\n",
        "print('F-1:', f1_score(target_valid, predictions_valid_forest))\n",
        "print('AUC-ROC:', roc_auc_score(target_valid, probabilities_one_valid_forest))\n",
        "print()\n",
        "print('Логистическая регрессия:')\n",
        "print('Полнота:', recall_score(target_valid, predictions_valid_regr))\n",
        "print('Точность:', precision_score(target_valid, predictions_valid_regr))\n",
        "print('F-1:', f1_score(target_valid, predictions_valid_regr))\n",
        "print('AUC-ROC:', roc_auc_score(target_valid, probabilities_one_valid_regr))"
      ]
    },
    {
      "cell_type": "markdown",
      "metadata": {
        "id": "HMZGbBUb-8EK"
      },
      "source": [
        "У всех моделей низкое значение полноты - это значит, модели плохо определяют истино положительные (TP) ответы. Значение точности немного выше, лучше всего себя показала модель случайного леса с точностью 0.7689243027888446. Значение F-1 для всех моделей также достаточно низкое, особенно у логистической регрессии (0.33108108108108103). Все эти значения свидетельствуют о низком качестве моделей, обусловленным дисбалансом классов."
      ]
    },
    {
      "cell_type": "markdown",
      "metadata": {
        "id": "AijkNQ_Z-8EL"
      },
      "source": [
        "**Вывод:** мы разделили данные на выборки: обучающую, валидационную и тестовую. В данном исследовании нет скрытой тестовой выборки, поэтому мы разделили данные в пропорции 3:1:1. Мы масштабировали числовые признаки, чтобы сбалансировать и стандартизировать данные. Затем мы обучили три модели: решающего дерева, случайного леса и логистической регрессии - все модели показали достаточно высокое значение accuracy. Далее мы проверили модели на адекватность и выяснили, что в исходных данных наблюдается заметный дисбаланс классов: значение \"0\" - около 80%, значение \"1\" - около 20%. Результаты предсказания всех трёх моделей сохранили в себе такой же дисбаланс. Сравнив значение accuracy наших моделей со значением accuracy константной модели, которая всегда прогнозирует класс \"0\", мы убедились, что accuracy всех рассмотренных нами моделей близка или чуть выше accuracy константной модели, что означает, что модели проверку на адекватность не прошли. Матрица ошибок всех моделей показала, что они все склонны предсказывать ложно отрицательные (FN) ответы, решающее дерево также склонно давать ложно положительные (FP) ответы. Мы также проверили значения полноты, точности и F-1 для всех моделей. У всех моделей низкое значение полноты - это значит, модели плохо определяют истино положительные (TP) ответы. Значение F-1 для всех моделей также достаточно низкое, особенно у логистической регрессии (0.33108108108108103). Все эти значения свидетельствуют о низком качестве моделей, обусловленным дисбалансом классов."
      ]
    },
    {
      "cell_type": "markdown",
      "metadata": {
        "id": "YdtchkG--8EL"
      },
      "source": [
        "## Борьба с дисбалансом"
      ]
    },
    {
      "cell_type": "markdown",
      "metadata": {
        "id": "1xTL6lol-8EL"
      },
      "source": [
        "### Сбалансируем выборку"
      ]
    },
    {
      "cell_type": "markdown",
      "metadata": {
        "id": "XWprJ1sL-8EL"
      },
      "source": [
        "В предыдущем пункте исследования мы выяснили, что в исходных данных соотношение классов \"0\" и \"1\" составляет 80%:20%. Чтобы достичь баланса, нам нужно увеличить количество положительных ответов (класс \"1\") в 4 раза или наоборот уменьшить количество отрицательных ответов (класс \"0\") также в 4 раза. Для этого применим технику upsampling и downsampling. Для этого нужно:\n",
        "1) Разделить обучающую выборку на отрицательные и положительные объекты.\n",
        "\n",
        "2) Скопировать несколько раз положительные объекты или случайным образом отбросить часть из отрицательных объектов.\n",
        "\n",
        "3) С учётом полученных данных создать новую обучающую выборку.\n",
        "\n",
        "4) Перемешать данные.\n",
        "\n",
        "После этого можно будет обучить новые модели."
      ]
    },
    {
      "cell_type": "markdown",
      "metadata": {
        "id": "fW9gcY1g-8EL"
      },
      "source": [
        "#### Upsampling"
      ]
    },
    {
      "cell_type": "code",
      "execution_count": null,
      "metadata": {
        "id": "yqED-rDS-8EL",
        "outputId": "a680fc22-26a0-467e-c785-686ae8c60aa6"
      },
      "outputs": [
        {
          "name": "stdout",
          "output_type": "stream",
          "text": [
            "(6000,)\n",
            "(9588,)\n"
          ]
        }
      ],
      "source": [
        "#создадим функцию, которая принимает три параметрама: features — признаки, target — целевой признак,\n",
        "#repeat — количество повторений.\n",
        "#функция вернёт признаки и целевой признак после операции upsampling.\n",
        "def upsample(features, target, repeat):\n",
        "    features_zeros = features[target == 0] #разделяем обучающую выборку на отрицательные и положительные объекты\n",
        "    features_ones = features[target == 1]\n",
        "    target_zeros = target[target == 0]\n",
        "    target_ones = target[target == 1]\n",
        "\n",
        "    #копируем несколько раз положительные объекты\n",
        "    features_upsampled = pd.concat([features_zeros] + [features_ones] * repeat)\n",
        "    target_upsampled = pd.concat([target_zeros] + [target_ones] * repeat)\n",
        "\n",
        "    #перемешиваем данные\n",
        "    features_upsampled, target_upsampled = shuffle(features_upsampled,\n",
        "                                                   target_upsampled, random_state=12345)\n",
        "\n",
        "    return features_upsampled, target_upsampled\n",
        "\n",
        "features_train_upsampled, target_train_upsampled = upsample(features_train, target_train, 4)\n",
        "\n",
        "print(target_train.shape) #посмотрим на размеры обучающей выборки до и после upsampling\n",
        "print(target_train_upsampled.shape)"
      ]
    },
    {
      "cell_type": "markdown",
      "metadata": {
        "id": "wlSZ_706-8EM"
      },
      "source": [
        "Мы успешно увеличили обучающую выборку. Посмотрим на распределение классов в новой выборке:"
      ]
    },
    {
      "cell_type": "code",
      "execution_count": null,
      "metadata": {
        "id": "2HRjj65j-8EM",
        "outputId": "23060c19-73a4-45d3-f7c7-89ef7eedfad2"
      },
      "outputs": [
        {
          "name": "stdout",
          "output_type": "stream",
          "text": [
            "0    0.501043\n",
            "1    0.498957\n",
            "Name: Exited, dtype: float64\n",
            "\n",
            "AxesSubplot(0.125,0.125;0.775x0.755)\n"
          ]
        },
        {
          "data": {
            "image/png": "[encoded data removed]",
            "text/plain": [
              "<Figure size 72x72 with 1 Axes>"
            ]
          },
          "metadata": {
            "needs_background": "light"
          },
          "output_type": "display_data"
        }
      ],
      "source": [
        "print(target_train_upsampled.value_counts(normalize = 1))\n",
        "print()\n",
        "print(target_train_upsampled.plot(kind ='hist', bins=2, figsize=(1,1)))"
      ]
    },
    {
      "cell_type": "markdown",
      "metadata": {
        "id": "GZ8WSZ8g-8EM"
      },
      "source": [
        "#### Downsamling"
      ]
    },
    {
      "cell_type": "code",
      "execution_count": null,
      "metadata": {
        "id": "USl1DDv5-8EM",
        "outputId": "696fcb96-d08b-4e91-dd7c-6bf67dc98767"
      },
      "outputs": [
        {
          "name": "stdout",
          "output_type": "stream",
          "text": [
            "(6000,)\n",
            "(2397,)\n"
          ]
        }
      ],
      "source": [
        "#создадим функцию, которая принимает три параметрама: features — признаки, target — целевой признак,\n",
        "#fraction — доля отрицательных объектов, которые нужно сохранить.\n",
        "#функция вернёт признаки и целевой признак после операции downsampling.\n",
        "def downsample(features, target, fraction):\n",
        "    features_zeros = features[target == 0]\n",
        "    features_ones = features[target == 1]\n",
        "    target_zeros = target[target == 0]\n",
        "    target_ones = target[target == 1]\n",
        "\n",
        "    features_downsampled = pd.concat([features_zeros.sample(\n",
        "        frac=fraction, random_state=12345)] + [features_ones]\n",
        "                                    )\n",
        "    target_downsampled = pd.concat(\n",
        "        [target_zeros.sample(frac=fraction, random_state=12345)] + [target_ones]\n",
        "    )\n",
        "\n",
        "    features_downsampled, target_downsampled = shuffle(\n",
        "        features_downsampled, target_downsampled, random_state=12345\n",
        "    )\n",
        "\n",
        "    return features_downsampled, target_downsampled\n",
        "\n",
        "features_train_downsampled, target_train_downsampled = downsample(features_train, target_train, 0.25)\n",
        "\n",
        "print(target_train.shape) #посмотрим на размеры обучающей выборки до и после downsampling\n",
        "print(target_train_downsampled.shape)"
      ]
    },
    {
      "cell_type": "markdown",
      "metadata": {
        "id": "YITE3xGd-8EM"
      },
      "source": [
        "Мы успешно уменьшили обучающую выборку. Посмотрим на распределение классов в новой выборке:"
      ]
    },
    {
      "cell_type": "code",
      "execution_count": null,
      "metadata": {
        "id": "OE926R3G-8EM",
        "outputId": "0039a4ad-c3b8-499d-b757-79ef8d1734ed"
      },
      "outputs": [
        {
          "name": "stdout",
          "output_type": "stream",
          "text": [
            "0    0.501043\n",
            "1    0.498957\n",
            "Name: Exited, dtype: float64\n",
            "\n",
            "AxesSubplot(0.125,0.125;0.775x0.755)\n"
          ]
        },
        {
          "data": {
            "image/png": "[encoded data removed]",
            "text/plain": [
              "<Figure size 72x72 with 1 Axes>"
            ]
          },
          "metadata": {
            "needs_background": "light"
          },
          "output_type": "display_data"
        }
      ],
      "source": [
        "print(target_train_downsampled.value_counts(normalize = 1))\n",
        "print()\n",
        "print(target_train_downsampled.plot(kind ='hist', bins=2, figsize=(1,1)))"
      ]
    },
    {
      "cell_type": "markdown",
      "metadata": {
        "id": "fFmuxVP1-8EM"
      },
      "source": [
        "Теперь классы сбалансированы. Можно заново обучить модели на увеличенной и уменьшенной сбалансированной выборках и сравнить результаты."
      ]
    },
    {
      "cell_type": "markdown",
      "metadata": {
        "id": "M31PDo-z-8EN"
      },
      "source": [
        "### Обучение моделей на сбалансированной выборке"
      ]
    },
    {
      "cell_type": "markdown",
      "metadata": {
        "id": "l-7EL-7n-8EN"
      },
      "source": [
        "Также обучим три модели: решающее дерево, случайный лес и логистическую регрессию. Для всех моделей сразу оценим полноту, точность, F-1 и AUC-ROC, чтобы выбрать модель с самыми высокими параметрами."
      ]
    },
    {
      "cell_type": "markdown",
      "metadata": {
        "id": "QPUxhsBD-8EN"
      },
      "source": [
        "#### Обучение моделей на увеличенной выборке"
      ]
    },
    {
      "cell_type": "code",
      "execution_count": null,
      "metadata": {
        "id": "MWSrMe_C-8EN",
        "outputId": "1cec8784-82a8-430f-d0fa-4337fdd45bf9"
      },
      "outputs": [
        {
          "name": "stdout",
          "output_type": "stream",
          "text": [
            "Решающее дерево:\n",
            "Полнота: 0.48564593301435405\n",
            "Точность: 0.4951219512195122\n",
            "F-1: 0.49033816425120774\n",
            "AUC-ROC: 0.6773994519686183\n"
          ]
        }
      ],
      "source": [
        "#обучим решающее дерево\n",
        "model_tree_upsampled = DecisionTreeClassifier(random_state=12345)\n",
        "model_tree_upsampled.fit(features_train_upsampled, target_train_upsampled)\n",
        "predictions_valid_tree_upsampled = model_tree_upsampled.predict(features_valid)\n",
        "probabilities_valid_tree_upsampled = model_tree_upsampled.predict_proba(features_valid)\n",
        "probabilities_one_valid_tree_upsampled = probabilities_valid_tree_upsampled[:, 1]\n",
        "\n",
        "#выведем параметры\n",
        "print('Решающее дерево:')\n",
        "print('Полнота:', recall_score(target_valid, predictions_valid_tree_upsampled))\n",
        "print('Точность:', precision_score(target_valid, predictions_valid_tree_upsampled))\n",
        "print('F-1:', f1_score(target_valid, predictions_valid_tree_upsampled))\n",
        "print('AUC-ROC:', roc_auc_score(target_valid, probabilities_one_valid_tree_upsampled))"
      ]
    },
    {
      "cell_type": "code",
      "execution_count": null,
      "metadata": {
        "id": "qhJII43v-8EN",
        "outputId": "a14cdbf6-b587-4a50-c8b5-c003253bd034"
      },
      "outputs": [
        {
          "name": "stdout",
          "output_type": "stream",
          "text": [
            "Случайный лес:\n",
            "Полнота: 0.5502392344497608\n",
            "Точность: 0.6804733727810651\n",
            "F-1: 0.6084656084656085\n",
            "AUC-ROC: 0.8396471367477422\n"
          ]
        }
      ],
      "source": [
        "#обучим случайный лес\n",
        "model_forest_upsampled = RandomForestClassifier(random_state=12345)\n",
        "model_forest_upsampled.fit(features_train_upsampled, target_train_upsampled)\n",
        "predictions_valid_forest_upsampled = model_forest_upsampled.predict(features_valid)\n",
        "probabilities_valid_forest_upsampled = model_forest_upsampled.predict_proba(features_valid)\n",
        "probabilities_one_valid_forest_upsampled = probabilities_valid_forest_upsampled[:, 1]\n",
        "\n",
        "#выведем параметры\n",
        "print('Случайный лес:')\n",
        "print('Полнота:', recall_score(target_valid, predictions_valid_forest_upsampled))\n",
        "print('Точность:', precision_score(target_valid, predictions_valid_forest_upsampled))\n",
        "print('F-1:', f1_score(target_valid, predictions_valid_forest_upsampled))\n",
        "print('AUC-ROC:', roc_auc_score(target_valid, probabilities_one_valid_forest_upsampled))"
      ]
    },
    {
      "cell_type": "code",
      "execution_count": null,
      "metadata": {
        "id": "L87B4ObH-8EN",
        "outputId": "b7f04a63-ce0d-4c87-e9b4-5a9e731bf5ca"
      },
      "outputs": [
        {
          "name": "stdout",
          "output_type": "stream",
          "text": [
            "Логистическая регрессия:\n",
            "Полнота: 0.6818181818181818\n",
            "Точность: 0.3810160427807487\n",
            "F-1: 0.4888507718696398\n",
            "AUC-ROC: 0.7636206364664678\n"
          ]
        }
      ],
      "source": [
        "#обучим логистическую регрессию\n",
        "model_regr_upsampled = LogisticRegression(random_state=12345, solver='lbfgs', max_iter=1000)\n",
        "model_regr_upsampled.fit(features_train_upsampled, target_train_upsampled)\n",
        "predictions_valid_regr_upsampled = model_regr_upsampled.predict(features_valid)\n",
        "probabilities_valid_regr_upsampled = model_regr_upsampled.predict_proba(features_valid)\n",
        "probabilities_one_valid_regr_upsampled = probabilities_valid_regr_upsampled[:, 1]\n",
        "\n",
        "#выведем параметры\n",
        "print('Логистическая регрессия:')\n",
        "print('Полнота:', recall_score(target_valid, predictions_valid_regr_upsampled))\n",
        "print('Точность:', precision_score(target_valid, predictions_valid_regr_upsampled))\n",
        "print('F-1:', f1_score(target_valid, predictions_valid_regr_upsampled))\n",
        "print('AUC-ROC:', roc_auc_score(target_valid, probabilities_one_valid_regr_upsampled))"
      ]
    },
    {
      "cell_type": "markdown",
      "metadata": {
        "id": "xS4OO86B-8EN"
      },
      "source": [
        "#### Обучение моделей на уменьшенной выборке"
      ]
    },
    {
      "cell_type": "code",
      "execution_count": null,
      "metadata": {
        "id": "aqNXJJN--8EN",
        "outputId": "950b943a-5f76-495d-a421-5fe3d4ed4cba"
      },
      "outputs": [
        {
          "name": "stdout",
          "output_type": "stream",
          "text": [
            "Решающее дерево:\n",
            "Полнота: 0.6985645933014354\n",
            "Точность: 0.3748395378690629\n",
            "F-1: 0.4878863826232247\n",
            "AUC-ROC: 0.6953632068909199\n"
          ]
        }
      ],
      "source": [
        "#обучим решающее дерево\n",
        "model_tree_downsampled = DecisionTreeClassifier(random_state=12345)\n",
        "model_tree_downsampled.fit(features_train_downsampled, target_train_downsampled)\n",
        "predictions_valid_tree_downsampled = model_tree_downsampled.predict(features_valid)\n",
        "probabilities_valid_tree_downsampled = model_tree_downsampled.predict_proba(features_valid)\n",
        "probabilities_one_valid_tree_downsampled = probabilities_valid_tree_downsampled[:, 1]\n",
        "\n",
        "#выведем параметры\n",
        "print('Решающее дерево:')\n",
        "print('Полнота:', recall_score(target_valid, predictions_valid_tree_downsampled))\n",
        "print('Точность:', precision_score(target_valid, predictions_valid_tree_downsampled))\n",
        "print('F-1:', f1_score(target_valid, predictions_valid_tree_downsampled))\n",
        "print('AUC-ROC:', roc_auc_score(target_valid, probabilities_one_valid_tree_downsampled))"
      ]
    },
    {
      "cell_type": "code",
      "execution_count": null,
      "metadata": {
        "id": "NiONDXnH-8EN",
        "outputId": "3ce9a409-cdba-4c75-eae0-a241f0c9a84d"
      },
      "outputs": [
        {
          "name": "stdout",
          "output_type": "stream",
          "text": [
            "Случайный лес:\n",
            "Полнота: 0.7440191387559809\n",
            "Точность: 0.47192716236722304\n",
            "F-1: 0.5775301764159704\n",
            "AUC-ROC: 0.8452907711757269\n"
          ]
        }
      ],
      "source": [
        "#обучим случайный лес\n",
        "model_forest_downsampled = RandomForestClassifier(random_state=12345)\n",
        "model_forest_downsampled.fit(features_train_downsampled, target_train_downsampled)\n",
        "predictions_valid_forest_downsampled = model_forest_downsampled.predict(features_valid)\n",
        "probabilities_valid_forest_downsampled = model_forest_downsampled.predict_proba(features_valid)\n",
        "probabilities_one_valid_forest_downsampled = probabilities_valid_forest_downsampled[:, 1]\n",
        "\n",
        "#выведем параметры\n",
        "print('Случайный лес:')\n",
        "print('Полнота:', recall_score(target_valid, predictions_valid_forest_downsampled))\n",
        "print('Точность:', precision_score(target_valid, predictions_valid_forest_downsampled))\n",
        "print('F-1:', f1_score(target_valid, predictions_valid_forest_downsampled))\n",
        "print('AUC-ROC:', roc_auc_score(target_valid, probabilities_one_valid_forest_downsampled))"
      ]
    },
    {
      "cell_type": "code",
      "execution_count": null,
      "metadata": {
        "id": "fzgTc9js-8EO",
        "outputId": "5a1ec9b0-0c4c-4af0-b6af-f4ad6ec9f30a"
      },
      "outputs": [
        {
          "name": "stdout",
          "output_type": "stream",
          "text": [
            "Логистическая регрессия:\n",
            "Полнота: 0.6722488038277512\n",
            "Точность: 0.3781965006729475\n",
            "F-1: 0.48406546080964685\n",
            "AUC-ROC: 0.7622203134545938\n"
          ]
        }
      ],
      "source": [
        "#обучим логистическую регрессию\n",
        "model_regr_downsampled = LogisticRegression(random_state=12345, solver='lbfgs', max_iter=1000)\n",
        "model_regr_downsampled.fit(features_train_downsampled, target_train_downsampled)\n",
        "predictions_valid_regr_downsampled = model_regr_downsampled.predict(features_valid)\n",
        "probabilities_valid_regr_downsampled = model_regr_downsampled.predict_proba(features_valid)\n",
        "probabilities_one_valid_regr_downsampled = probabilities_valid_regr_downsampled[:, 1]\n",
        "\n",
        "#выведем параметры\n",
        "print('Логистическая регрессия:')\n",
        "print('Полнота:', recall_score(target_valid, predictions_valid_regr_downsampled))\n",
        "print('Точность:', precision_score(target_valid, predictions_valid_regr_downsampled))\n",
        "print('F-1:', f1_score(target_valid, predictions_valid_regr_downsampled))\n",
        "print('AUC-ROC:', roc_auc_score(target_valid, probabilities_one_valid_regr_downsampled))"
      ]
    },
    {
      "cell_type": "markdown",
      "metadata": {
        "id": "i5zXrGfN-8EO"
      },
      "source": [
        "Мы обучили по три модели на увеличенной и уменьшенной выборках и изучили их параметры качества. Лучше всего себя показала модель случайного леса на увеличенной выборке: её значение F-1 - 0.6084656084656085 (что уже превышает пороговое), а AUC-ROC - 0.8396471367477422. На уменьшенной выборке её значение F-1 - 0.5775301764159704, AUC-ROC - 0.8452907711757269. У решающего дерева на увеличенной выборке F-1 составляет 0.49033816425120774, AUC-ROC - 0.6773994519686183; на уменьшенной выборке F-1 - 0.4878863826232247, AUC-ROC - 0.6953632068909199. Наконец, у логистической регрессии на увеличенной выборке F-1 - 0.4888507718696398, AUC-ROC - 0.7636206364664678; на уменьшенной выборке F-1 - 0.48406546080964685, AUC-ROC - 0.7622203134545938. Следует выбрать модель случайного леса на увеличенной выборке и попробовать улучшить её с помощью изменения гиперпараметров, чтобы повысить значение F-1."
      ]
    },
    {
      "cell_type": "markdown",
      "metadata": {
        "id": "ohUjnP8u-8EO"
      },
      "source": [
        "### Улучшаем модель случайного леса"
      ]
    },
    {
      "cell_type": "code",
      "execution_count": null,
      "metadata": {
        "id": "hFU_F96K-8EO",
        "outputId": "9ffbd92d-795d-42a7-b63a-d4984408bfd2"
      },
      "outputs": [
        {
          "name": "stdout",
          "output_type": "stream",
          "text": [
            "Лучшее значение n_estimators: 26\n",
            "Лучшее значение max_depth: 8\n",
            "Лучшее значение F-1: 0.6302780638516993\n"
          ]
        }
      ],
      "source": [
        "#создадим цикл, который переберёт гиперпараметры и выберет лучшие на основании наиболее высокого значения F-1\n",
        "best_model_forest = None\n",
        "best_est_forest = 0\n",
        "best_depth_forest = 0\n",
        "best_f_1_forest = 0\n",
        "for est in range(1, 50):\n",
        "    for depth in range(1, 50):\n",
        "        model_forest_upsampled = RandomForestClassifier(random_state=12345, n_estimators=est, max_depth = depth)\n",
        "        model_forest_upsampled.fit(features_train_upsampled, target_train_upsampled)\n",
        "        predictions_valid_forest_upsampled = model_forest_upsampled.predict(features_valid)\n",
        "        f_1_forest = f1_score(target_valid, predictions_valid_forest_upsampled)\n",
        "        if best_f_1_forest < f_1_forest:\n",
        "            best_model_forest = model_forest\n",
        "            best_est_forest = est\n",
        "            best_depth_forest = depth\n",
        "            best_f_1_forest = f_1_forest\n",
        "\n",
        "print('Лучшее значение n_estimators:', best_est_forest)\n",
        "print('Лучшее значение max_depth:', best_depth_forest)\n",
        "print('Лучшее значение F-1:', best_f_1_forest)"
      ]
    },
    {
      "cell_type": "markdown",
      "metadata": {
        "id": "CBBoisRt-8EO"
      },
      "source": [
        "Итак, наиболее удачной моделью будет модель случайного леса с  с гиперпараметрами n_estimators (количеством деревьев), равным 26, и max_depth (глубиной дерева), равным 8. Такая модель даёт значение F-1 равное 0.6302780638516993. Проверим эту модель на тестовой выборке."
      ]
    },
    {
      "cell_type": "markdown",
      "metadata": {
        "id": "6kAbXN0T-8EO"
      },
      "source": [
        "**Вывод:** мы сбалансировали обучающую выборку с помощью upsampling и downsampling, тем самым достигнув соотношения классов 50,1%:49,8%. Мы заново обучили три модели на увеличенной и уменьшенной выборках, сравнили их параметры полноты, точности, F-1 и AUC-ROC. Лучше всего себя показала модель случайного леса: её значение F-1 - 0.6084656084656085 (что уже превышает пороговое), а AUC-ROC - 0.8396471367477422. Затем мы с помощью цикла перебрали разные значения гиперпараметров, чтобы повысить значение F-1. Наиболее удачной моделью будет модель случайного леса с с гиперпараметрами n_estimators (количеством деревьев), равным 26, и max_depth (глубиной дерева), равным 8. Такая модель даёт значение F-1 равное 0.6302780638516993. Проверим эту модель на тестовой выборке."
      ]
    },
    {
      "cell_type": "markdown",
      "metadata": {
        "id": "L8F6d7s8-8EO"
      },
      "source": [
        "## Тестирование модели"
      ]
    },
    {
      "cell_type": "markdown",
      "metadata": {
        "id": "2IEwLj_M-8EP"
      },
      "source": [
        "Проверим наиболее удачную модель на тестовой выборке и посмотрим на значения F-1 и AUC-ROC."
      ]
    },
    {
      "cell_type": "code",
      "execution_count": null,
      "metadata": {
        "id": "se7wM8Nm-8EP",
        "outputId": "0e907313-9f5a-4da0-d05b-dd4158ffc0ce"
      },
      "outputs": [
        {
          "name": "stdout",
          "output_type": "stream",
          "text": [
            "Полнота: 0.7186761229314421\n",
            "Точность: 0.5277777777777778\n",
            "F-1: 0.6086086086086085\n",
            "AUC-ROC: 0.8554494199268143\n"
          ]
        }
      ],
      "source": [
        "model_forest_upsampled = RandomForestClassifier(random_state=12345, n_estimators = 26, max_depth = 8)\n",
        "model_forest_upsampled.fit(features_train_upsampled, target_train_upsampled)\n",
        "predictions_forest_upsampled = model_forest_upsampled.predict(features_test)\n",
        "probabilities_forest_upsampled = model_forest_upsampled.predict_proba(features_test)\n",
        "probabilities_one_forest_upsampled = probabilities_forest_upsampled[:, 1]\n",
        "print('Полнота:', recall_score(target_test, predictions_forest_upsampled))\n",
        "print('Точность:', precision_score(target_test, predictions_forest_upsampled))\n",
        "print('F-1:', f1_score(target_test, predictions_forest_upsampled))\n",
        "print('AUC-ROC:', roc_auc_score(target_test, probabilities_one_forest_upsampled))"
      ]
    },
    {
      "cell_type": "markdown",
      "metadata": {
        "id": "-Q7eR9Zh-8EP"
      },
      "source": [
        "У нас получились высокие значения F-1 - 0.6086086086086085 - и AUC-ROC - 0.8554494199268143. Мы также смогли превысить пороговое значение F-1 в 0.59. Проверим финальную модель на адекватность, сравнив её с константной моделью, которая всегда будет прогнозировать класс \"1\"."
      ]
    },
    {
      "cell_type": "code",
      "execution_count": null,
      "metadata": {
        "id": "kH_h9kr1-8EP",
        "outputId": "087b40d3-a6d7-42a0-f9de-77b14621d7dd"
      },
      "outputs": [
        {
          "name": "stdout",
          "output_type": "stream",
          "text": [
            "Accuracy константой модели: 0.2115\n",
            "Accuracy финальной модели: 0.685\n"
          ]
        }
      ],
      "source": [
        "target_predict_constant = pd.Series([1]*len(target_valid))\n",
        "print('Accuracy константой модели:', accuracy_score(target_test, target_predict_constant))\n",
        "print('Accuracy финальной модели:', accuracy_score(target_test, predictions_valid_forest_upsampled))"
      ]
    },
    {
      "cell_type": "markdown",
      "metadata": {
        "id": "W3FM-F3W-8EQ"
      },
      "source": [
        "Accuracy финальной модели выше аналогичных значений для константной модели. Значит, финальная модель прошла проверку на адекватность."
      ]
    },
    {
      "cell_type": "markdown",
      "metadata": {
        "id": "dqlxqenA-8EQ"
      },
      "source": [
        "**Вывод:** мы обучили наиболее удачную модель на тестовой выборке. На тестовой выборке мы смогли достичь значений F-1 0.6086086086086085 (выше порогового) и AUC-ROC 0.8554494199268143."
      ]
    },
    {
      "cell_type": "markdown",
      "metadata": {
        "id": "mhOXlB2D-8EQ"
      },
      "source": [
        "## Вывод"
      ]
    },
    {
      "cell_type": "markdown",
      "metadata": {
        "id": "U46YumAJ-8EQ"
      },
      "source": [
        "Мы провели исследование на основе данных «Бета-Банка» с целью обучить модель со значением F-1 не менее 0.59. В ходе исследования мы сделали следующее:\n",
        "\n",
        "1) Мы изучили исходные данные и подготовили их для дальнейшего машинного обучения: устранили пропуски, убедились в отсутствии дубликатов, удалили лишние столбцы и преобразовали некоторые данные с помощью OHE.\n",
        "\n",
        "2) Мы разделили данные на выборки: обучающую, валидационную и тестовую. В данном исследовании нет скрытой тестовой выборки, поэтому мы разделили данные в пропорции 3:1:1. Мы масштабировали числовые признаки, чтобы сбалансировать и стандартизировать данные. Затем мы обучили три модели: решающего дерева, случайного леса и логистической регрессии - все модели показали достаточно высокое значение accuracy. Далее мы проверили модели на адекватность и выяснили, что в исходных данных наблюдается заметный дисбаланс классов: значение \"0\" - около 80%, значение \"1\" - около 20%. Результаты предсказания всех трёх моделей сохранили в себе такой же дисбаланс. Сравнив значение accuracy наших моделей со значением accuracy константной модели, которая всегда прогнозирует класс \"0\", мы убедились, что accuracy всех рассмотренных нами моделей близка или чуть выше accuracy константной модели, что означает, что модели проверку на адекватность не прошли. Матрица ошибок всех моделей показала, что они все склонны предсказывать ложно отрицательные (FN) ответы, решающее дерево также склонно давать ложно положительные (FP) ответы. Мы также проверили значения полноты, точности и F-1 для всех моделей. У всех моделей низкое значение полноты - это значит, модели плохо определяют истино положительные (TP) ответы. Значение F-1 для всех моделей также достаточно низкое, особенно у логистической регрессии (0.33108108108108103). Все эти значения свидетельствуют о низком качестве моделей, обусловленным дисбалансом классов.\n",
        "\n",
        "3) Мы сбалансировали обучающую выборку с помощью upsampling и downsampling, тем самым достигнув соотношения классов 50,1%:49,8%. Мы заново обучили три модели на увеличенной и уменьшенной выборках, сравнили их параметры полноты, точности, F-1 и AUC-ROC. Лучше всего себя показала модель случайного леса: её значение F-1 - 0.6084656084656085 (что уже превышает пороговое), а AUC-ROC - 0.8396471367477422. Затем мы с помощью цикла перебрали разные значения гиперпараметров, чтобы повысить значение F-1. Наиболее удачной моделью оказалась модель случайного леса с гиперпараметрами n_estimators (количеством деревьев), равным 26, и max_depth (глубиной дерева), равным 8. Такая модель даёт значение F-1 равное 0.6302780638516993.\n",
        "\n",
        "4) Мы обучили наиболее удачную модель на тестовой выборке. На тестовой выборке мы смогли достичь значений F-1 0.6086086086086085 (выше порогового) и AUC-ROC 0.8554494199268143."
      ]
    }
  ],
  "metadata": {
    "ExecuteTimeLog": [
      {
        "duration": 351,
        "start_time": "2023-07-23T16:03:16.334Z"
      },
      {
        "duration": 76,
        "start_time": "2023-07-23T16:06:35.367Z"
      },
      {
        "duration": 3000,
        "start_time": "2023-07-23T16:06:57.003Z"
      },
      {
        "duration": 11,
        "start_time": "2023-07-23T16:15:06.834Z"
      },
      {
        "duration": 99,
        "start_time": "2023-07-23T16:16:18.859Z"
      },
      {
        "duration": 79,
        "start_time": "2023-07-23T16:16:29.861Z"
      },
      {
        "duration": 96,
        "start_time": "2023-07-23T16:21:57.627Z"
      },
      {
        "duration": 12,
        "start_time": "2023-07-23T16:22:57.812Z"
      },
      {
        "duration": 1032,
        "start_time": "2023-07-23T16:30:51.208Z"
      },
      {
        "duration": 47,
        "start_time": "2023-07-23T16:31:48.074Z"
      },
      {
        "duration": 19,
        "start_time": "2023-07-23T16:33:47.370Z"
      },
      {
        "duration": 11,
        "start_time": "2023-07-23T16:34:07.642Z"
      },
      {
        "duration": 3,
        "start_time": "2023-07-23T16:38:27.092Z"
      },
      {
        "duration": 11,
        "start_time": "2023-07-23T16:38:31.768Z"
      },
      {
        "duration": 12,
        "start_time": "2023-07-23T16:39:38.786Z"
      },
      {
        "duration": 686,
        "start_time": "2023-07-23T16:41:49.686Z"
      },
      {
        "duration": 12,
        "start_time": "2023-07-23T16:42:23.870Z"
      },
      {
        "duration": 5,
        "start_time": "2023-07-23T16:44:07.421Z"
      },
      {
        "duration": 11,
        "start_time": "2023-07-23T16:44:11.003Z"
      },
      {
        "duration": 10,
        "start_time": "2023-07-23T16:45:11.623Z"
      },
      {
        "duration": 4,
        "start_time": "2023-07-23T16:46:05.263Z"
      },
      {
        "duration": 2,
        "start_time": "2023-07-23T16:46:54.840Z"
      },
      {
        "duration": 2089,
        "start_time": "2023-07-23T16:55:51.699Z"
      },
      {
        "duration": 4,
        "start_time": "2023-07-23T16:56:10.870Z"
      },
      {
        "duration": 11,
        "start_time": "2023-07-23T16:56:25.660Z"
      },
      {
        "duration": 3,
        "start_time": "2023-07-23T16:56:35.320Z"
      },
      {
        "duration": 55,
        "start_time": "2023-07-23T16:56:35.326Z"
      },
      {
        "duration": 11,
        "start_time": "2023-07-23T16:56:35.382Z"
      },
      {
        "duration": 14,
        "start_time": "2023-07-23T16:56:35.394Z"
      },
      {
        "duration": 14,
        "start_time": "2023-07-23T16:56:35.410Z"
      },
      {
        "duration": 26,
        "start_time": "2023-07-23T16:56:35.426Z"
      },
      {
        "duration": 27,
        "start_time": "2023-07-23T16:56:35.453Z"
      },
      {
        "duration": 5,
        "start_time": "2023-07-23T16:59:49.534Z"
      },
      {
        "duration": 4,
        "start_time": "2023-07-23T17:00:04.935Z"
      },
      {
        "duration": 18,
        "start_time": "2023-07-23T17:04:02.714Z"
      },
      {
        "duration": 12,
        "start_time": "2023-07-23T17:09:20.239Z"
      },
      {
        "duration": 2,
        "start_time": "2023-07-23T17:09:36.718Z"
      },
      {
        "duration": 44,
        "start_time": "2023-07-23T17:09:36.724Z"
      },
      {
        "duration": 10,
        "start_time": "2023-07-23T17:09:36.770Z"
      },
      {
        "duration": 4,
        "start_time": "2023-07-23T17:09:36.781Z"
      },
      {
        "duration": 9,
        "start_time": "2023-07-23T17:09:36.787Z"
      },
      {
        "duration": 10,
        "start_time": "2023-07-23T17:09:36.798Z"
      },
      {
        "duration": 8,
        "start_time": "2023-07-23T17:09:36.810Z"
      },
      {
        "duration": 0,
        "start_time": "2023-07-23T17:09:36.820Z"
      },
      {
        "duration": 0,
        "start_time": "2023-07-23T17:09:36.821Z"
      },
      {
        "duration": 0,
        "start_time": "2023-07-23T17:09:36.823Z"
      },
      {
        "duration": 3,
        "start_time": "2023-07-23T17:09:53.332Z"
      },
      {
        "duration": 57,
        "start_time": "2023-07-23T17:09:53.339Z"
      },
      {
        "duration": 9,
        "start_time": "2023-07-23T17:09:53.398Z"
      },
      {
        "duration": 13,
        "start_time": "2023-07-23T17:09:53.409Z"
      },
      {
        "duration": 11,
        "start_time": "2023-07-23T17:09:53.424Z"
      },
      {
        "duration": 18,
        "start_time": "2023-07-23T17:09:53.437Z"
      },
      {
        "duration": 8,
        "start_time": "2023-07-23T17:09:53.456Z"
      },
      {
        "duration": 17,
        "start_time": "2023-07-23T17:09:53.465Z"
      },
      {
        "duration": 33,
        "start_time": "2023-07-23T17:09:53.484Z"
      },
      {
        "duration": 39,
        "start_time": "2023-07-23T17:09:53.518Z"
      },
      {
        "duration": 4,
        "start_time": "2023-07-23T17:25:40.921Z"
      },
      {
        "duration": 7,
        "start_time": "2023-07-23T17:30:56.472Z"
      },
      {
        "duration": 2,
        "start_time": "2023-07-23T17:31:17.250Z"
      },
      {
        "duration": 5,
        "start_time": "2023-07-23T17:31:22.444Z"
      },
      {
        "duration": 3,
        "start_time": "2023-07-23T17:33:40.202Z"
      },
      {
        "duration": 5,
        "start_time": "2023-07-23T17:34:17.668Z"
      },
      {
        "duration": 3,
        "start_time": "2023-07-23T17:34:29.003Z"
      },
      {
        "duration": 2,
        "start_time": "2023-07-23T17:35:04.076Z"
      },
      {
        "duration": 2,
        "start_time": "2023-07-23T17:43:49.097Z"
      },
      {
        "duration": 36,
        "start_time": "2023-07-23T17:47:01.500Z"
      },
      {
        "duration": 10,
        "start_time": "2023-07-23T17:47:34.297Z"
      },
      {
        "duration": 10,
        "start_time": "2023-07-23T17:47:51.539Z"
      },
      {
        "duration": 10,
        "start_time": "2023-07-23T17:48:04.954Z"
      },
      {
        "duration": 14,
        "start_time": "2023-07-23T17:51:39.409Z"
      },
      {
        "duration": 118,
        "start_time": "2023-07-23T17:53:53.085Z"
      },
      {
        "duration": 38,
        "start_time": "2023-07-23T18:05:48.333Z"
      },
      {
        "duration": 38,
        "start_time": "2023-07-23T18:06:29.095Z"
      },
      {
        "duration": 49,
        "start_time": "2023-07-23T18:07:06.996Z"
      },
      {
        "duration": 3,
        "start_time": "2023-07-23T18:07:31.639Z"
      },
      {
        "duration": 76,
        "start_time": "2023-07-23T18:07:31.644Z"
      },
      {
        "duration": 10,
        "start_time": "2023-07-23T18:07:31.722Z"
      },
      {
        "duration": 27,
        "start_time": "2023-07-23T18:07:31.734Z"
      },
      {
        "duration": 24,
        "start_time": "2023-07-23T18:07:31.762Z"
      },
      {
        "duration": 45,
        "start_time": "2023-07-23T18:07:31.788Z"
      },
      {
        "duration": 20,
        "start_time": "2023-07-23T18:07:31.834Z"
      },
      {
        "duration": 27,
        "start_time": "2023-07-23T18:07:31.855Z"
      },
      {
        "duration": 27,
        "start_time": "2023-07-23T18:07:31.883Z"
      },
      {
        "duration": 30,
        "start_time": "2023-07-23T18:07:31.912Z"
      },
      {
        "duration": 48,
        "start_time": "2023-07-23T18:07:31.944Z"
      },
      {
        "duration": 45,
        "start_time": "2023-07-23T18:07:31.993Z"
      },
      {
        "duration": 32,
        "start_time": "2023-07-23T18:07:32.040Z"
      },
      {
        "duration": 36,
        "start_time": "2023-07-23T18:07:32.074Z"
      },
      {
        "duration": 23,
        "start_time": "2023-07-23T18:07:32.112Z"
      },
      {
        "duration": 42,
        "start_time": "2023-07-23T18:07:32.137Z"
      },
      {
        "duration": 48,
        "start_time": "2023-07-23T18:07:32.180Z"
      },
      {
        "duration": 12,
        "start_time": "2023-07-23T18:07:32.230Z"
      },
      {
        "duration": 35,
        "start_time": "2023-07-23T18:07:32.243Z"
      },
      {
        "duration": 31,
        "start_time": "2023-07-23T18:07:32.280Z"
      },
      {
        "duration": 62,
        "start_time": "2023-07-23T18:07:32.313Z"
      },
      {
        "duration": 35,
        "start_time": "2023-07-23T18:08:42.678Z"
      },
      {
        "duration": 32,
        "start_time": "2023-07-23T18:09:08.794Z"
      },
      {
        "duration": 689,
        "start_time": "2023-07-23T18:10:07.031Z"
      },
      {
        "duration": 77,
        "start_time": "2023-07-23T18:10:40.024Z"
      },
      {
        "duration": 4,
        "start_time": "2023-07-23T18:12:10.508Z"
      },
      {
        "duration": 586,
        "start_time": "2023-07-23T18:17:37.202Z"
      },
      {
        "duration": 19,
        "start_time": "2023-07-23T18:22:56.734Z"
      },
      {
        "duration": 108,
        "start_time": "2023-07-23T18:23:36.849Z"
      },
      {
        "duration": 117,
        "start_time": "2023-07-23T18:24:31.521Z"
      },
      {
        "duration": 88,
        "start_time": "2023-07-23T18:24:47.231Z"
      },
      {
        "duration": 134,
        "start_time": "2023-07-23T18:25:27.599Z"
      },
      {
        "duration": 12,
        "start_time": "2023-07-23T18:30:54.166Z"
      },
      {
        "duration": 9,
        "start_time": "2023-07-23T18:31:02.295Z"
      },
      {
        "duration": 12,
        "start_time": "2023-07-23T18:31:46.740Z"
      },
      {
        "duration": 1531,
        "start_time": "2023-07-24T16:34:38.318Z"
      },
      {
        "duration": 3,
        "start_time": "2023-07-24T16:34:43.373Z"
      },
      {
        "duration": 179,
        "start_time": "2023-07-24T16:34:43.391Z"
      },
      {
        "duration": 11,
        "start_time": "2023-07-24T16:34:43.572Z"
      },
      {
        "duration": 4,
        "start_time": "2023-07-24T16:34:43.585Z"
      },
      {
        "duration": 9,
        "start_time": "2023-07-24T16:34:43.590Z"
      },
      {
        "duration": 11,
        "start_time": "2023-07-24T16:34:43.601Z"
      },
      {
        "duration": 6,
        "start_time": "2023-07-24T16:34:43.613Z"
      },
      {
        "duration": 17,
        "start_time": "2023-07-24T16:34:43.620Z"
      },
      {
        "duration": 6,
        "start_time": "2023-07-24T16:34:43.639Z"
      },
      {
        "duration": 12,
        "start_time": "2023-07-24T16:34:43.646Z"
      },
      {
        "duration": 4,
        "start_time": "2023-07-24T16:34:43.659Z"
      },
      {
        "duration": 14,
        "start_time": "2023-07-24T16:34:43.665Z"
      },
      {
        "duration": 8,
        "start_time": "2023-07-24T16:34:43.680Z"
      },
      {
        "duration": 22,
        "start_time": "2023-07-24T16:34:43.689Z"
      },
      {
        "duration": 4,
        "start_time": "2023-07-24T16:34:43.714Z"
      },
      {
        "duration": 9,
        "start_time": "2023-07-24T16:34:43.720Z"
      },
      {
        "duration": 32,
        "start_time": "2023-07-24T16:34:43.731Z"
      },
      {
        "duration": 11,
        "start_time": "2023-07-24T16:34:43.764Z"
      },
      {
        "duration": 31,
        "start_time": "2023-07-24T16:34:43.776Z"
      },
      {
        "duration": 15,
        "start_time": "2023-07-24T16:34:43.809Z"
      },
      {
        "duration": 48,
        "start_time": "2023-07-24T16:34:43.826Z"
      },
      {
        "duration": 642,
        "start_time": "2023-07-24T16:34:43.875Z"
      },
      {
        "duration": 494,
        "start_time": "2023-07-24T16:34:44.519Z"
      },
      {
        "duration": 92,
        "start_time": "2023-07-24T16:34:45.016Z"
      },
      {
        "duration": 543,
        "start_time": "2023-07-24T16:34:45.110Z"
      },
      {
        "duration": 128,
        "start_time": "2023-07-24T16:34:45.655Z"
      },
      {
        "duration": 92,
        "start_time": "2023-07-24T16:34:45.784Z"
      },
      {
        "duration": 96,
        "start_time": "2023-07-24T16:34:45.877Z"
      },
      {
        "duration": 11,
        "start_time": "2023-07-24T16:34:45.975Z"
      },
      {
        "duration": 65,
        "start_time": "2023-07-24T16:36:09.972Z"
      },
      {
        "duration": 7,
        "start_time": "2023-07-24T16:36:16.869Z"
      },
      {
        "duration": 11,
        "start_time": "2023-07-24T16:37:30.876Z"
      },
      {
        "duration": 4,
        "start_time": "2023-07-24T16:46:02.072Z"
      },
      {
        "duration": 19,
        "start_time": "2023-07-24T16:50:36.792Z"
      },
      {
        "duration": 4,
        "start_time": "2023-07-24T17:08:28.099Z"
      },
      {
        "duration": 134,
        "start_time": "2023-07-24T17:14:16.095Z"
      },
      {
        "duration": 22,
        "start_time": "2023-07-24T17:14:48.237Z"
      },
      {
        "duration": 13,
        "start_time": "2023-07-24T17:15:15.896Z"
      },
      {
        "duration": 5,
        "start_time": "2023-07-24T17:17:06.778Z"
      },
      {
        "duration": 68,
        "start_time": "2023-07-24T17:17:06.785Z"
      },
      {
        "duration": 12,
        "start_time": "2023-07-24T17:17:06.854Z"
      },
      {
        "duration": 27,
        "start_time": "2023-07-24T17:17:06.868Z"
      },
      {
        "duration": 8,
        "start_time": "2023-07-24T17:17:06.897Z"
      },
      {
        "duration": 12,
        "start_time": "2023-07-24T17:17:06.907Z"
      },
      {
        "duration": 5,
        "start_time": "2023-07-24T17:17:06.920Z"
      },
      {
        "duration": 7,
        "start_time": "2023-07-24T17:17:06.927Z"
      },
      {
        "duration": 20,
        "start_time": "2023-07-24T17:17:06.936Z"
      },
      {
        "duration": 21,
        "start_time": "2023-07-24T17:17:06.958Z"
      },
      {
        "duration": 18,
        "start_time": "2023-07-24T17:17:06.981Z"
      },
      {
        "duration": 13,
        "start_time": "2023-07-24T17:17:07.001Z"
      },
      {
        "duration": 8,
        "start_time": "2023-07-24T17:17:07.016Z"
      },
      {
        "duration": 9,
        "start_time": "2023-07-24T17:17:07.028Z"
      },
      {
        "duration": 4,
        "start_time": "2023-07-24T17:17:07.038Z"
      },
      {
        "duration": 4,
        "start_time": "2023-07-24T17:17:07.044Z"
      },
      {
        "duration": 31,
        "start_time": "2023-07-24T17:17:07.050Z"
      },
      {
        "duration": 11,
        "start_time": "2023-07-24T17:17:07.082Z"
      },
      {
        "duration": 25,
        "start_time": "2023-07-24T17:17:07.095Z"
      },
      {
        "duration": 23,
        "start_time": "2023-07-24T17:17:07.121Z"
      },
      {
        "duration": 54,
        "start_time": "2023-07-24T17:17:07.146Z"
      },
      {
        "duration": 626,
        "start_time": "2023-07-24T17:17:07.202Z"
      },
      {
        "duration": 90,
        "start_time": "2023-07-24T17:17:07.830Z"
      },
      {
        "duration": 4,
        "start_time": "2023-07-24T17:17:07.921Z"
      },
      {
        "duration": 187,
        "start_time": "2023-07-24T17:17:08.007Z"
      },
      {
        "duration": 174,
        "start_time": "2023-07-24T17:17:08.206Z"
      },
      {
        "duration": 98,
        "start_time": "2023-07-24T17:17:08.381Z"
      },
      {
        "duration": 95,
        "start_time": "2023-07-24T17:17:08.481Z"
      },
      {
        "duration": 12,
        "start_time": "2023-07-24T17:17:08.578Z"
      },
      {
        "duration": 64,
        "start_time": "2023-07-24T17:17:08.607Z"
      },
      {
        "duration": 48,
        "start_time": "2023-07-24T17:17:08.672Z"
      },
      {
        "duration": 16,
        "start_time": "2023-07-24T17:17:08.722Z"
      },
      {
        "duration": 16,
        "start_time": "2023-07-24T17:22:38.804Z"
      },
      {
        "duration": 10,
        "start_time": "2023-07-24T17:22:51.707Z"
      },
      {
        "duration": 13,
        "start_time": "2023-07-24T17:24:12.104Z"
      },
      {
        "duration": 13,
        "start_time": "2023-07-24T17:25:11.023Z"
      },
      {
        "duration": 17,
        "start_time": "2023-07-24T17:28:27.144Z"
      },
      {
        "duration": 15,
        "start_time": "2023-07-24T17:29:07.420Z"
      },
      {
        "duration": 66,
        "start_time": "2023-07-24T17:29:56.472Z"
      },
      {
        "duration": 5,
        "start_time": "2023-07-24T17:41:34.092Z"
      },
      {
        "duration": 19,
        "start_time": "2023-07-24T17:43:05.630Z"
      },
      {
        "duration": 49,
        "start_time": "2023-07-24T17:47:28.208Z"
      },
      {
        "duration": 65,
        "start_time": "2023-07-24T17:47:58.018Z"
      },
      {
        "duration": 922,
        "start_time": "2023-07-24T17:50:01.204Z"
      },
      {
        "duration": 972,
        "start_time": "2023-07-24T17:50:38.983Z"
      },
      {
        "duration": 347,
        "start_time": "2023-07-24T17:52:38.695Z"
      },
      {
        "duration": 7,
        "start_time": "2023-07-24T18:04:52.126Z"
      },
      {
        "duration": 5,
        "start_time": "2023-07-24T18:05:13.284Z"
      },
      {
        "duration": 320084,
        "start_time": "2023-07-24T18:05:23.155Z"
      },
      {
        "duration": 930,
        "start_time": "2023-07-24T18:12:55.426Z"
      },
      {
        "duration": 322894,
        "start_time": "2023-07-24T18:13:34.979Z"
      },
      {
        "duration": 323034,
        "start_time": "2023-07-24T18:19:49.928Z"
      },
      {
        "duration": 329405,
        "start_time": "2023-07-24T18:28:15.935Z"
      },
      {
        "duration": 26234,
        "start_time": "2023-07-24T18:37:45.063Z"
      },
      {
        "duration": 185,
        "start_time": "2023-07-24T18:48:27.727Z"
      },
      {
        "duration": 155,
        "start_time": "2023-07-24T18:51:18.051Z"
      },
      {
        "duration": 199,
        "start_time": "2023-07-24T18:52:40.645Z"
      },
      {
        "duration": 215,
        "start_time": "2023-07-24T18:53:44.832Z"
      },
      {
        "duration": 207,
        "start_time": "2023-07-24T18:56:23.428Z"
      },
      {
        "duration": 166,
        "start_time": "2023-07-24T18:57:30.380Z"
      },
      {
        "duration": 513840,
        "start_time": "2023-07-24T18:59:45.127Z"
      },
      {
        "duration": 240,
        "start_time": "2023-07-24T19:08:40.880Z"
      },
      {
        "duration": 1487,
        "start_time": "2023-07-24T20:03:29.665Z"
      },
      {
        "duration": 4,
        "start_time": "2023-07-24T20:03:37.096Z"
      },
      {
        "duration": 93,
        "start_time": "2023-07-24T20:03:37.103Z"
      },
      {
        "duration": 16,
        "start_time": "2023-07-24T20:03:37.198Z"
      },
      {
        "duration": 30,
        "start_time": "2023-07-24T20:03:37.215Z"
      },
      {
        "duration": 8,
        "start_time": "2023-07-24T20:03:37.251Z"
      },
      {
        "duration": 20,
        "start_time": "2023-07-24T20:03:37.264Z"
      },
      {
        "duration": 6,
        "start_time": "2023-07-24T20:03:37.285Z"
      },
      {
        "duration": 22,
        "start_time": "2023-07-24T20:03:37.292Z"
      },
      {
        "duration": 21,
        "start_time": "2023-07-24T20:03:37.317Z"
      },
      {
        "duration": 37,
        "start_time": "2023-07-24T20:03:37.340Z"
      },
      {
        "duration": 14,
        "start_time": "2023-07-24T20:03:37.381Z"
      },
      {
        "duration": 31,
        "start_time": "2023-07-24T20:03:37.397Z"
      },
      {
        "duration": 7,
        "start_time": "2023-07-24T20:03:37.430Z"
      },
      {
        "duration": 10,
        "start_time": "2023-07-24T20:03:37.441Z"
      },
      {
        "duration": 10,
        "start_time": "2023-07-24T20:03:37.453Z"
      },
      {
        "duration": 6,
        "start_time": "2023-07-24T20:03:37.466Z"
      },
      {
        "duration": 49,
        "start_time": "2023-07-24T20:03:37.474Z"
      },
      {
        "duration": 36,
        "start_time": "2023-07-24T20:03:37.525Z"
      },
      {
        "duration": 28,
        "start_time": "2023-07-24T20:03:37.563Z"
      },
      {
        "duration": 19,
        "start_time": "2023-07-24T20:03:37.597Z"
      },
      {
        "duration": 65,
        "start_time": "2023-07-24T20:03:37.622Z"
      },
      {
        "duration": 814,
        "start_time": "2023-07-24T20:03:37.689Z"
      },
      {
        "duration": 347,
        "start_time": "2023-07-24T20:03:38.505Z"
      },
      {
        "duration": 20,
        "start_time": "2023-07-24T20:03:38.863Z"
      },
      {
        "duration": 673,
        "start_time": "2023-07-24T20:03:38.885Z"
      },
      {
        "duration": 159,
        "start_time": "2023-07-24T20:03:39.561Z"
      },
      {
        "duration": 136,
        "start_time": "2023-07-24T20:03:39.722Z"
      },
      {
        "duration": 160,
        "start_time": "2023-07-24T20:03:39.864Z"
      },
      {
        "duration": 18,
        "start_time": "2023-07-24T20:03:40.026Z"
      },
      {
        "duration": 24,
        "start_time": "2023-07-24T20:03:40.046Z"
      },
      {
        "duration": 20,
        "start_time": "2023-07-24T20:03:40.074Z"
      },
      {
        "duration": 21,
        "start_time": "2023-07-24T20:03:40.096Z"
      },
      {
        "duration": 106,
        "start_time": "2023-07-24T20:03:40.118Z"
      },
      {
        "duration": 56,
        "start_time": "2023-07-24T20:03:40.232Z"
      },
      {
        "duration": 1099,
        "start_time": "2023-07-24T20:03:40.289Z"
      },
      {
        "duration": 361,
        "start_time": "2023-07-24T20:03:41.390Z"
      },
      {
        "duration": 30660,
        "start_time": "2023-07-24T20:03:41.759Z"
      },
      {
        "duration": 201,
        "start_time": "2023-07-24T20:04:12.426Z"
      },
      {
        "duration": 9,
        "start_time": "2023-07-24T20:09:17.767Z"
      },
      {
        "duration": 242,
        "start_time": "2023-07-24T20:12:02.849Z"
      },
      {
        "duration": 195,
        "start_time": "2023-07-24T20:13:08.541Z"
      },
      {
        "duration": 192,
        "start_time": "2023-07-24T20:13:47.391Z"
      },
      {
        "duration": 16,
        "start_time": "2023-07-24T20:14:59.097Z"
      },
      {
        "duration": 1300,
        "start_time": "2023-07-26T16:26:35.611Z"
      },
      {
        "duration": 401,
        "start_time": "2023-07-26T16:26:36.913Z"
      },
      {
        "duration": 17,
        "start_time": "2023-07-26T16:26:37.316Z"
      },
      {
        "duration": 6,
        "start_time": "2023-07-26T16:26:37.335Z"
      },
      {
        "duration": 16,
        "start_time": "2023-07-26T16:26:37.344Z"
      },
      {
        "duration": 18,
        "start_time": "2023-07-26T16:26:37.362Z"
      },
      {
        "duration": 8,
        "start_time": "2023-07-26T16:26:37.382Z"
      },
      {
        "duration": 7,
        "start_time": "2023-07-26T16:26:37.392Z"
      },
      {
        "duration": 7,
        "start_time": "2023-07-26T16:26:37.400Z"
      },
      {
        "duration": 18,
        "start_time": "2023-07-26T16:26:37.409Z"
      },
      {
        "duration": 37,
        "start_time": "2023-07-26T16:26:37.430Z"
      },
      {
        "duration": 8,
        "start_time": "2023-07-26T16:26:37.469Z"
      },
      {
        "duration": 5,
        "start_time": "2023-07-26T16:26:37.478Z"
      },
      {
        "duration": 15,
        "start_time": "2023-07-26T16:26:37.486Z"
      },
      {
        "duration": 7,
        "start_time": "2023-07-26T16:26:37.503Z"
      },
      {
        "duration": 7,
        "start_time": "2023-07-26T16:26:37.512Z"
      },
      {
        "duration": 54,
        "start_time": "2023-07-26T16:26:37.521Z"
      },
      {
        "duration": 16,
        "start_time": "2023-07-26T16:26:37.578Z"
      },
      {
        "duration": 23,
        "start_time": "2023-07-26T16:26:37.597Z"
      },
      {
        "duration": 39,
        "start_time": "2023-07-26T16:26:37.622Z"
      },
      {
        "duration": 41,
        "start_time": "2023-07-26T16:26:40.426Z"
      },
      {
        "duration": 821,
        "start_time": "2023-07-26T16:27:03.939Z"
      },
      {
        "duration": 96,
        "start_time": "2023-07-26T16:27:41.877Z"
      },
      {
        "duration": 5,
        "start_time": "2023-07-26T16:27:46.005Z"
      },
      {
        "duration": 599,
        "start_time": "2023-07-26T16:27:50.007Z"
      },
      {
        "duration": 137,
        "start_time": "2023-07-26T16:27:53.061Z"
      },
      {
        "duration": 110,
        "start_time": "2023-07-26T16:27:55.070Z"
      },
      {
        "duration": 101,
        "start_time": "2023-07-26T16:27:56.550Z"
      },
      {
        "duration": 9,
        "start_time": "2023-07-26T16:28:00.429Z"
      },
      {
        "duration": 15,
        "start_time": "2023-07-26T16:28:02.356Z"
      },
      {
        "duration": 33,
        "start_time": "2023-07-26T16:28:31.176Z"
      },
      {
        "duration": 19,
        "start_time": "2023-07-26T16:30:05.797Z"
      },
      {
        "duration": 94,
        "start_time": "2023-07-26T16:30:11.273Z"
      },
      {
        "duration": 53,
        "start_time": "2023-07-26T16:30:16.767Z"
      },
      {
        "duration": 1215,
        "start_time": "2023-07-26T16:30:20.396Z"
      },
      {
        "duration": 352,
        "start_time": "2023-07-26T16:30:22.817Z"
      },
      {
        "duration": 31179,
        "start_time": "2023-07-26T16:30:27.693Z"
      },
      {
        "duration": 129,
        "start_time": "2023-07-26T16:39:41.732Z"
      },
      {
        "duration": 15,
        "start_time": "2023-07-26T16:40:12.334Z"
      },
      {
        "duration": 95,
        "start_time": "2023-07-26T16:40:52.018Z"
      },
      {
        "duration": 30,
        "start_time": "2023-07-26T16:44:59.124Z"
      },
      {
        "duration": 441,
        "start_time": "2023-07-26T16:51:09.053Z"
      },
      {
        "duration": 294,
        "start_time": "2023-07-26T16:52:12.786Z"
      },
      {
        "duration": 193,
        "start_time": "2023-07-26T16:57:10.476Z"
      },
      {
        "duration": 594340,
        "start_time": "2023-07-26T16:57:43.528Z"
      },
      {
        "duration": 195,
        "start_time": "2023-07-26T17:08:08.308Z"
      },
      {
        "duration": 227,
        "start_time": "2023-07-26T17:08:41.117Z"
      },
      {
        "duration": 12,
        "start_time": "2023-07-26T17:10:39.534Z"
      },
      {
        "duration": 8,
        "start_time": "2023-07-26T17:11:25.995Z"
      }
    ],
    "kernelspec": {
      "display_name": "Python 3 (ipykernel)",
      "language": "python",
      "name": "python3"
    },
    "language_info": {
      "codemirror_mode": {
        "name": "ipython",
        "version": 3
      },
      "file_extension": ".py",
      "mimetype": "text/x-python",
      "name": "python",
      "nbconvert_exporter": "python",
      "pygments_lexer": "ipython3",
      "version": "3.9.5"
    },
    "toc": {
      "base_numbering": 1,
      "nav_menu": {},
      "number_sections": true,
      "sideBar": true,
      "skip_h1_title": true,
      "title_cell": "Содержание",
      "title_sidebar": "Contents",
      "toc_cell": true,
      "toc_position": {
        "height": "calc(100% - 180px)",
        "left": "10px",
        "top": "150px",
        "width": "183px"
      },
      "toc_section_display": true,
      "toc_window_display": true
    },
    "colab": {
      "provenance": []
    }
  },
  "nbformat": 4,
  "nbformat_minor": 0
}